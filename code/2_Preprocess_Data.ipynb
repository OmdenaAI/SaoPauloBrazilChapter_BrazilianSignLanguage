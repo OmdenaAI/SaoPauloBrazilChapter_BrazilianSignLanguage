{
 "cells": [
  {
   "cell_type": "markdown",
   "metadata": {},
   "source": [
    "# Video Preprocessing"
   ]
  },
  {
   "cell_type": "markdown",
   "metadata": {},
   "source": [
    "Description"
   ]
  },
  {
   "cell_type": "code",
   "execution_count": 1,
   "metadata": {},
   "outputs": [],
   "source": [
    "%load_ext autoreload\n",
    "%autoreload 2"
   ]
  },
  {
   "cell_type": "code",
   "execution_count": 2,
   "metadata": {},
   "outputs": [],
   "source": [
    "import os\n",
    "import glob\n",
    "import cv2\n",
    "import numpy as np\n",
    "import pandas as pd\n",
    "import matplotlib.pyplot as plt\n",
    "import time\n",
    "import json\n",
    "import gc\n",
    "from tqdm.notebook import tqdm\n",
    "import unicodedata"
   ]
  },
  {
   "cell_type": "code",
   "execution_count": 3,
   "metadata": {},
   "outputs": [
    {
     "name": "stderr",
     "output_type": "stream",
     "text": [
      "2025-05-30 11:38:13.231804: E external/local_xla/xla/stream_executor/cuda/cuda_fft.cc:477] Unable to register cuFFT factory: Attempting to register factory for plugin cuFFT when one has already been registered\n",
      "WARNING: All log messages before absl::InitializeLog() is called are written to STDERR\n",
      "E0000 00:00:1748572693.258032   24855 cuda_dnn.cc:8310] Unable to register cuDNN factory: Attempting to register factory for plugin cuDNN when one has already been registered\n",
      "E0000 00:00:1748572693.266310   24855 cuda_blas.cc:1418] Unable to register cuBLAS factory: Attempting to register factory for plugin cuBLAS when one has already been registered\n",
      "2025-05-30 11:38:13.299829: I tensorflow/core/platform/cpu_feature_guard.cc:210] This TensorFlow binary is optimized to use available CPU instructions in performance-critical operations.\n",
      "To enable the following instructions: AVX2 FMA, in other operations, rebuild TensorFlow with the appropriate compiler flags.\n"
     ]
    }
   ],
   "source": [
    "from preprocess.video_analyzer import VideoAnalyzer, analyze_none_landmarks\n",
    "from preprocess.preprocessor import Preprocessor"
   ]
  },
  {
   "cell_type": "markdown",
   "metadata": {},
   "source": [
    "### Settings"
   ]
  },
  {
   "cell_type": "code",
   "execution_count": 4,
   "metadata": {},
   "outputs": [],
   "source": [
    "path_to_root = \"/home/ben/projects/SaoPauloBrazilChapter_BrazilianSignLanguage/\"\n",
    "\n",
    "timestamp = \"04242025\"\n",
    "motion_version = \"versionB\"\n",
    "pose_version = \"versionB\"\n",
    "preprocessing_version = \"v4\""
   ]
  },
  {
   "cell_type": "code",
   "execution_count": 5,
   "metadata": {},
   "outputs": [],
   "source": [
    "metadata = pd.read_csv(os.path.join(\n",
    "    path_to_root,\n",
    "    \"data\",\n",
    "    \"raw\",\n",
    "    \"combined\",\n",
    "    \"target_dataset_video_metadata.csv\"\n",
    "    ))"
   ]
  },
  {
   "cell_type": "markdown",
   "metadata": {},
   "source": [
    "### Run Video Analysis\n",
    "\n",
    "Gets the Landmark data and motion detection data"
   ]
  },
  {
   "cell_type": "code",
   "execution_count": null,
   "metadata": {},
   "outputs": [],
   "source": [
    "for i, metadata_row in metadata[:].iterrows():\n",
    "    print(f\"\\rProcessing video {i+1} of {len(metadata)}: {metadata_row.filename}\", end=\"\")\n",
    "    os.environ['TF_CPP_MIN_LOG_LEVEL'] = '3' \n",
    "    analyzer = VideoAnalyzer(\n",
    "        metadata_row,\n",
    "        timestamp,\n",
    "        path_to_root,\n",
    "        verbose=False,\n",
    "        motion_detection_version=motion_version,\n",
    "        pose_detection_version=pose_version\n",
    "    )\n",
    "    pose_data = analyzer.pose_detect()\n",
    "    os.environ['TF_CPP_MIN_LOG_LEVEL'] = '3'\n",
    "    pose_result = analyzer.pose_analyze()\n",
    "    os.environ['TF_CPP_MIN_LOG_LEVEL'] = '0'\n",
    "\n",
    "    os.environ['TF_CPP_MIN_LOG_LEVEL'] = '0'\n",
    "    motion_data = analyzer.motion_detect()\n",
    "    motion_result = analyzer.motion_analyze()\n",
    "\n",
    "    analyzer.save_analysis_info()"
   ]
  },
  {
   "cell_type": "markdown",
   "metadata": {},
   "source": [
    "### Run Preprocessing\n",
    "\n",
    "Preprocesses the landmark data"
   ]
  },
  {
   "cell_type": "code",
   "execution_count": 6,
   "metadata": {},
   "outputs": [
    {
     "data": {
      "application/vnd.jupyter.widget-view+json": {
       "model_id": "58c9146093a341289edcee59e29c6168",
       "version_major": 2,
       "version_minor": 0
      },
      "text/plain": [
       "  0%|          | 0/150 [00:00<?, ?it/s]"
      ]
     },
     "metadata": {},
     "output_type": "display_data"
    }
   ],
   "source": [
    "for i, metadata_row in tqdm(metadata[:].iterrows(), total=len(metadata)):\n",
    "    gc.collect()\n",
    "    \n",
    "    with open(os.path.join(\n",
    "        path_to_root, \n",
    "        \"data\", \n",
    "        \"interim\", \n",
    "        \"Analysis\",\n",
    "        f\"{timestamp}_motion{motion_version}_pose{pose_version}\", \n",
    "        metadata_row[\"filename\"].split(\".\")[0] + \"_analysis_info.json\"\n",
    "        )) as f:\n",
    "        analysis_info = json.load(f)\n",
    "    \n",
    "    preprocessing_params = {\n",
    "        \"face_width_aim\": 0.155,\n",
    "        \"shoulders_width_aim\": 0.35,\n",
    "        \"face_midpoint_to_shoulders_height_aim\": 0.275,\n",
    "        \"shoulders_y_aim\": 0.52,\n",
    "        \"use_statistic\": \"mean\",\n",
    "        \"use_stationary_frames\": True,\n",
    "        \"skip_stationary_frames\": False,\n",
    "        \"start_frame\": analysis_info['motion_analysis']['start_frame'],\n",
    "        \"end_frame\": analysis_info['motion_analysis']['end_frame'],\n",
    "    }\n",
    "\n",
    "    preprocessor = Preprocessor(\n",
    "            metadata_row,\n",
    "            preprocessing_params,\n",
    "            path_to_root,\n",
    "            preprocess_version=preprocessing_version,\n",
    "            verbose=False,\n",
    "            save_intermediate=True,\n",
    "        )\n",
    "\n",
    "    preprocessor.preprocess_landmarks()\n",
    "    # preprocessor.preprocess_video()\n",
    "    \n",
    "\n",
    "        \n",
    "    # Force garbage collection after each video\n",
    "    gc.collect()"
   ]
  },
  {
   "cell_type": "markdown",
   "metadata": {},
   "source": [
    "### Rename Files\n",
    "\n",
    "Colab can't handle non-ASCII characters in the filenames, so we need to rename the files to remove accents"
   ]
  },
  {
   "cell_type": "markdown",
   "metadata": {},
   "source": [
    "- Need to rename the npy & json files\n",
    "- Need to edit filenames in the metadata csv and keep the old ones as well\n",
    "- Need to add the new/old columns to the metadata csv"
   ]
  },
  {
   "cell_type": "code",
   "execution_count": 7,
   "metadata": {},
   "outputs": [],
   "source": [
    "def detect_accents(text):\n",
    "    normalized = unicodedata.normalize('NFD', text)\n",
    "    had_accents = False\n",
    "\n",
    "    for c in normalized:\n",
    "        if unicodedata.category(c) == 'Mn':\n",
    "            had_accents = True\n",
    "            continue\n",
    "\n",
    "    return had_accents\n",
    "\n",
    "def strip_accents(text):\n",
    "    # Normalize to NFD and keep only non-accented ASCII\n",
    "    return ''.join(\n",
    "        c for c in unicodedata.normalize('NFD', text)\n",
    "        if unicodedata.category(c) != 'Mn'\n",
    "    )"
   ]
  },
  {
   "cell_type": "markdown",
   "metadata": {},
   "source": [
    "Remove accents from `filename` & `label` in the metadata csv"
   ]
  },
  {
   "cell_type": "code",
   "execution_count": 34,
   "metadata": {},
   "outputs": [],
   "source": [
    "preprocessed_folder = os.path.join(path_to_root, \"data\", \"preprocessed\")\n",
    "landmarks_folder = os.path.join(preprocessed_folder,\"landmarks\", preprocessing_version)\n",
    "landmarks_metadata_json_folder = os.path.join(landmarks_folder, \"individual_metadata\")"
   ]
  },
  {
   "cell_type": "code",
   "execution_count": 35,
   "metadata": {},
   "outputs": [],
   "source": [
    "landmarks_metadata = pd.read_csv(os.path.join(preprocessed_folder, f\"landmarks_metadata_{preprocessing_version}.csv\"))\n",
    "landmarks_metadata.insert(1, 'filename_accented', landmarks_metadata['filename'])\n",
    "landmarks_metadata.insert(3, 'label_accented', landmarks_metadata['label'])\n",
    "landmarks_metadata.insert(4, 'accented', np.nan)\n",
    "landmarks_metadata['filename'] = landmarks_metadata['filename'].apply(lambda s: strip_accents(s))\n",
    "landmarks_metadata['label'] = landmarks_metadata['label'].apply(lambda s: strip_accents(s))\n",
    "landmarks_metadata['accented'] = landmarks_metadata['filename_accented'].apply(lambda s: detect_accents(s))"
   ]
  },
  {
   "cell_type": "code",
   "execution_count": 36,
   "metadata": {},
   "outputs": [
    {
     "data": {
      "text/plain": [
       "accented\n",
       "False    120\n",
       "True      30\n",
       "Name: count, dtype: int64"
      ]
     },
     "execution_count": 36,
     "metadata": {},
     "output_type": "execute_result"
    }
   ],
   "source": [
    "landmarks_metadata.accented.value_counts()"
   ]
  },
  {
   "cell_type": "code",
   "execution_count": 37,
   "metadata": {},
   "outputs": [],
   "source": [
    "landmarks_metadata.to_csv(os.path.join(preprocessed_folder, f\"landmarks_metadata_{preprocessing_version}.csv\"), index=False)"
   ]
  },
  {
   "cell_type": "markdown",
   "metadata": {},
   "source": [
    "Rename the `.npy` and `.json` files that are created by the preprocessing, and used in the modelling"
   ]
  },
  {
   "cell_type": "code",
   "execution_count": 10,
   "metadata": {},
   "outputs": [
    {
     "name": "stdout",
     "output_type": "stream",
     "text": [
      "aniversário -> aniversario for 6 sets of files\n",
      "bebê -> bebe for 6 sets of files\n",
      "cabeça -> cabeca for 6 sets of files\n",
      "café -> cafe for 6 sets of files\n",
      "família -> familia for 6 sets of files\n"
     ]
    }
   ],
   "source": [
    "for label, df in landmarks_metadata.groupby('label'):\n",
    "    if not df.reset_index().iloc[0].accented:\n",
    "        continue\n",
    "    print(f\"{df.reset_index().iloc[0].label_accented} -> {label} for {len(df)} sets of files\")\n",
    "\n",
    "    for i, row in df.iterrows():\n",
    "\n",
    "        old_fn_npy = row.filename_accented.replace('mp4', 'npy')\n",
    "        new_fn_npy = row.filename.replace('mp4', 'npy')\n",
    "\n",
    "        old_fn_json = row.filename_accented.replace('mp4', 'json')\n",
    "        new_fn_json = row.filename.replace('mp4', 'json')\n",
    "\n",
    "        # npy file\n",
    "        old_path_npy = os.path.join(landmarks_folder, old_fn_npy)\n",
    "        new_path_npy = os.path.join(landmarks_folder, new_fn_npy)\n",
    "        os.rename(old_path_npy, new_path_npy)\n",
    "        \n",
    "        # json file\n",
    "        old_path_json = os.path.join(landmarks_metadata_json_folder, old_fn_json)\n",
    "        new_path_json = os.path.join(landmarks_metadata_json_folder, new_fn_json)\n",
    "        os.rename(old_path_json, new_path_json)"
   ]
  },
  {
   "cell_type": "markdown",
   "metadata": {},
   "source": [
    "Edit the `.json` files to update the metadata to be consistent with the csv"
   ]
  },
  {
   "cell_type": "code",
   "execution_count": 33,
   "metadata": {},
   "outputs": [],
   "source": [
    "for i, row in landmarks_metadata.iterrows():\n",
    "    json_path = os.path.join(landmarks_metadata_json_folder, row.filename.replace('mp4', 'json'))\n",
    "    with open(json_path, 'r', encoding='utf-8') as f:\n",
    "        data = json.load(f)\n",
    "\n",
    "    new_json_metadata = {**row[:5]}\n",
    "    old_json_metadata = dict(list(data['metadata'].items())[2:])\n",
    "    data['metadata'] = {**new_json_metadata, **old_json_metadata}\n",
    "\n",
    "    with open(json_path, 'w', encoding='utf-8') as f:\n",
    "        json.dump(data, f, ensure_ascii=False, indent=4)"
   ]
  }
 ],
 "metadata": {
  "kernelspec": {
   "display_name": ".venv",
   "language": "python",
   "name": "python3"
  },
  "language_info": {
   "codemirror_mode": {
    "name": "ipython",
    "version": 3
   },
   "file_extension": ".py",
   "mimetype": "text/x-python",
   "name": "python",
   "nbconvert_exporter": "python",
   "pygments_lexer": "ipython3",
   "version": "3.11.8"
  }
 },
 "nbformat": 4,
 "nbformat_minor": 2
}
