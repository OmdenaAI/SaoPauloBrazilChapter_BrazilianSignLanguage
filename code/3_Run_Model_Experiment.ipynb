{
 "cells": [
  {
   "cell_type": "markdown",
   "metadata": {},
   "source": [
    "### Set the current working directory"
   ]
  },
  {
   "cell_type": "code",
   "execution_count": 1,
   "metadata": {},
   "outputs": [
    {
     "data": {
      "text/plain": [
       "'/home/ben/projects/SaoPauloBrazilChapter_BrazilianSignLanguage/code'"
      ]
     },
     "execution_count": 1,
     "metadata": {},
     "output_type": "execute_result"
    }
   ],
   "source": [
    "import os\n",
    "os.getcwd()"
   ]
  },
  {
   "cell_type": "markdown",
   "metadata": {},
   "source": [
    "Current working directory should be the root directory of the project"
   ]
  },
  {
   "cell_type": "code",
   "execution_count": 2,
   "metadata": {},
   "outputs": [
    {
     "data": {
      "text/plain": [
       "'/home/ben/projects/SaoPauloBrazilChapter_BrazilianSignLanguage'"
      ]
     },
     "execution_count": 2,
     "metadata": {},
     "output_type": "execute_result"
    }
   ],
   "source": [
    "os.chdir('..')\n",
    "os.getcwd()"
   ]
  },
  {
   "cell_type": "markdown",
   "metadata": {},
   "source": [
    "### Set up the python environment\n",
    "\n",
    "This step is optional. If you have already created the virtual environment, you can skip this step."
   ]
  },
  {
   "cell_type": "code",
   "execution_count": null,
   "metadata": {},
   "outputs": [],
   "source": [
    "os.system('uv sync')"
   ]
  },
  {
   "cell_type": "code",
   "execution_count": null,
   "metadata": {},
   "outputs": [],
   "source": [
    "os.system('uv venv activate')"
   ]
  },
  {
   "cell_type": "markdown",
   "metadata": {},
   "source": [
    "### Set the python path to find our code modules"
   ]
  },
  {
   "cell_type": "code",
   "execution_count": 3,
   "metadata": {},
   "outputs": [],
   "source": [
    "os.environ['PYTHONPATH'] = os.environ.get('PYTHONPATH', '') + ':' + os.path.join(os.getcwd(), 'code')"
   ]
  },
  {
   "cell_type": "code",
   "execution_count": 4,
   "metadata": {},
   "outputs": [
    {
     "name": "stdout",
     "output_type": "stream",
     "text": [
      ":/home/ben/projects/SaoPauloBrazilChapter_BrazilianSignLanguage/code\n"
     ]
    }
   ],
   "source": [
    "print(os.environ['PYTHONPATH'])"
   ]
  },
  {
   "cell_type": "markdown",
   "metadata": {},
   "source": [
    "### Monitor the training progress live with TensorBoard"
   ]
  },
  {
   "cell_type": "code",
   "execution_count": 5,
   "metadata": {},
   "outputs": [],
   "source": [
    "%load_ext tensorboard"
   ]
  },
  {
   "cell_type": "markdown",
   "metadata": {},
   "source": [
    "The magic command below works on Colab or Jupyter Notebook.\\\n",
    "In VSCode, you can use the command palette to open the TensorBoard extension: `>Python: Launch TensorBoard`"
   ]
  },
  {
   "cell_type": "code",
   "execution_count": null,
   "metadata": {},
   "outputs": [],
   "source": [
    "%tensorboard --logdir modelling/runs"
   ]
  },
  {
   "cell_type": "markdown",
   "metadata": {},
   "source": [
    "### Confirm the experiment settings"
   ]
  },
  {
   "cell_type": "code",
   "execution_count": 7,
   "metadata": {},
   "outputs": [],
   "source": [
    "import yaml\n",
    "from pprint import pprint"
   ]
  },
  {
   "cell_type": "markdown",
   "metadata": {},
   "source": [
    "Below is the main config file for the experiment - `train_config.yaml`\\\n",
    "This is pointing to many other config files, that specify the model, dataset, features, etc."
   ]
  },
  {
   "cell_type": "code",
   "execution_count": 11,
   "metadata": {},
   "outputs": [
    {
     "name": "stdout",
     "output_type": "stream",
     "text": [
      "{'defaults': ['_self_',\n",
      "              {'optimizer': 'adam'},\n",
      "              {'scheduler': 'plateau'},\n",
      "              {'model': 'lstm'},\n",
      "              {'dataset': 'dataset'},\n",
      "              {'training': 'training'},\n",
      "              {'features': ['positions',\n",
      "                            'angles',\n",
      "                            'differences',\n",
      "                            'distances',\n",
      "                            'metadata']},\n",
      "              {'augmentation': 'base_augs'}],\n",
      " 'general': {'author': None, 'enable_saving': True, 'experiment_name': None},\n",
      " 'hydra': {'job': {'chdir': False},\n",
      "           'run': {'dir': 'modelling/outputs/${now:%Y-%m-%d}/${now:%H-%M-%S}'}}}\n"
     ]
    }
   ],
   "source": [
    "# load yaml\n",
    "path = os.path.join(os.getcwd(), 'code','model', 'configs', 'train_config.yaml')\n",
    "with open(path, 'r') as f:\n",
    "    config = yaml.safe_load(f)\n",
    "pprint(config)"
   ]
  },
  {
   "cell_type": "markdown",
   "metadata": {},
   "source": [
    "For some high level changes, just editing the `train_config.yaml` is enough.\\\n",
    "For more detailed changes, you can edit the other config files.\\\n",
    "For example, the `training.yaml` file specifies the training parameters."
   ]
  },
  {
   "cell_type": "code",
   "execution_count": 8,
   "metadata": {},
   "outputs": [
    {
     "name": "stdout",
     "output_type": "stream",
     "text": [
      "{'batch_size': 256,\n",
      " 'device': 'cuda',\n",
      " 'k_folds': 5,\n",
      " 'lr': '1e-4',\n",
      " 'num_epochs': 300,\n",
      " 'patience': 50,\n",
      " 'type': 'cross_validation'}\n"
     ]
    }
   ],
   "source": [
    "# load yaml\n",
    "path = os.path.join(os.getcwd(), 'code','model', 'configs', 'training', 'training.yaml')\n",
    "with open(path, 'r') as f:\n",
    "    config = yaml.safe_load(f)\n",
    "pprint(config)"
   ]
  },
  {
   "cell_type": "markdown",
   "metadata": {},
   "source": [
    "### Start the training\n",
    "\n",
    "- The process will run for the `num_epochs` specified in the `training.yaml` file.\n",
    "- If early stopping is enabled, it will stop when the validation loss stops improving with the `patience` parameter specified.\n",
    "- The training logs will be saved to the `modelling/runs` directory.\n",
    "- You can monitor the training progress live with TensorBoard."
   ]
  },
  {
   "cell_type": "code",
   "execution_count": null,
   "metadata": {},
   "outputs": [],
   "source": [
    "os.system('python code/model/trainer.py training.device=cpu')"
   ]
  }
 ],
 "metadata": {
  "kernelspec": {
   "display_name": ".venv",
   "language": "python",
   "name": "python3"
  },
  "language_info": {
   "codemirror_mode": {
    "name": "ipython",
    "version": 3
   },
   "file_extension": ".py",
   "mimetype": "text/x-python",
   "name": "python",
   "nbconvert_exporter": "python",
   "pygments_lexer": "ipython3",
   "version": "3.11.8"
  }
 },
 "nbformat": 4,
 "nbformat_minor": 2
}
