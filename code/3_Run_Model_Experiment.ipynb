{
 "cells": [
  {
   "cell_type": "markdown",
   "metadata": {},
   "source": [
    "Should be in the root directory of the project"
   ]
  },
  {
   "cell_type": "code",
   "execution_count": 1,
   "metadata": {},
   "outputs": [
    {
     "data": {
      "text/plain": [
       "'/home/ben/projects/SaoPauloBrazilChapter_BrazilianSignLanguage/code'"
      ]
     },
     "execution_count": 1,
     "metadata": {},
     "output_type": "execute_result"
    }
   ],
   "source": [
    "import os\n",
    "os.getcwd()"
   ]
  },
  {
   "cell_type": "code",
   "execution_count": 2,
   "metadata": {},
   "outputs": [
    {
     "data": {
      "text/plain": [
       "'/home/ben/projects/SaoPauloBrazilChapter_BrazilianSignLanguage'"
      ]
     },
     "execution_count": 2,
     "metadata": {},
     "output_type": "execute_result"
    }
   ],
   "source": [
    "os.chdir('..')\n",
    "os.getcwd()"
   ]
  },
  {
   "cell_type": "markdown",
   "metadata": {},
   "source": [
    "Set up the python environment"
   ]
  },
  {
   "cell_type": "code",
   "execution_count": null,
   "metadata": {},
   "outputs": [],
   "source": [
    "os.system('uv sync')"
   ]
  },
  {
   "cell_type": "code",
   "execution_count": null,
   "metadata": {},
   "outputs": [],
   "source": [
    "os.system('uv venv activate')"
   ]
  },
  {
   "cell_type": "code",
   "execution_count": 7,
   "metadata": {},
   "outputs": [],
   "source": [
    "os.environ['PYTHONPATH'] = os.environ.get('PYTHONPATH', '') + ':' + os.path.join(os.getcwd(), 'code')"
   ]
  },
  {
   "cell_type": "code",
   "execution_count": 8,
   "metadata": {},
   "outputs": [
    {
     "name": "stdout",
     "output_type": "stream",
     "text": [
      ":/home/ben/projects/SaoPauloBrazilChapter_BrazilianSignLanguage/code\n"
     ]
    }
   ],
   "source": [
    "print(os.environ['PYTHONPATH'])"
   ]
  },
  {
   "cell_type": "markdown",
   "metadata": {},
   "source": [
    "Monitor the training progress live with TensorBoard"
   ]
  },
  {
   "cell_type": "code",
   "execution_count": 2,
   "metadata": {},
   "outputs": [],
   "source": [
    "%load_ext tensorboard"
   ]
  },
  {
   "cell_type": "code",
   "execution_count": null,
   "metadata": {},
   "outputs": [],
   "source": [
    "%tensorboard --logdir modelling/runs"
   ]
  },
  {
   "cell_type": "markdown",
   "metadata": {},
   "source": [
    "Confirm the experiment settings"
   ]
  },
  {
   "cell_type": "code",
   "execution_count": 10,
   "metadata": {},
   "outputs": [],
   "source": [
    "import yaml\n",
    "from pprint import pprint"
   ]
  },
  {
   "cell_type": "code",
   "execution_count": 11,
   "metadata": {},
   "outputs": [
    {
     "name": "stdout",
     "output_type": "stream",
     "text": [
      "{'defaults': ['_self_',\n",
      "              {'optimizer': 'adam'},\n",
      "              {'scheduler': 'plateau'},\n",
      "              {'model': 'lstm'},\n",
      "              {'dataset': 'dataset'},\n",
      "              {'training': 'training'},\n",
      "              {'features': ['positions',\n",
      "                            'angles',\n",
      "                            'differences',\n",
      "                            'distances',\n",
      "                            'metadata']},\n",
      "              {'augmentation': 'base_augs'}],\n",
      " 'general': {'author': None, 'enable_saving': True, 'experiment_name': None},\n",
      " 'hydra': {'job': {'chdir': False},\n",
      "           'run': {'dir': 'modelling/outputs/${now:%Y-%m-%d}/${now:%H-%M-%S}'}}}\n"
     ]
    }
   ],
   "source": [
    "# load yaml\n",
    "path = os.path.join(os.getcwd(), 'code','model', 'configs', 'train_config.yaml')\n",
    "with open(path, 'r') as f:\n",
    "    config = yaml.safe_load(f)\n",
    "pprint(config)"
   ]
  },
  {
   "cell_type": "markdown",
   "metadata": {},
   "source": [
    "Start the training"
   ]
  },
  {
   "cell_type": "code",
   "execution_count": null,
   "metadata": {},
   "outputs": [
    {
     "name": "stderr",
     "output_type": "stream",
     "text": [
      "2025-05-29 12:50:57.410042: E external/local_xla/xla/stream_executor/cuda/cuda_fft.cc:477] Unable to register cuFFT factory: Attempting to register factory for plugin cuFFT when one has already been registered\n",
      "WARNING: All log messages before absl::InitializeLog() is called are written to STDERR\n",
      "E0000 00:00:1748490657.432548   17247 cuda_dnn.cc:8310] Unable to register cuDNN factory: Attempting to register factory for plugin cuDNN when one has already been registered\n",
      "E0000 00:00:1748490657.438751   17247 cuda_blas.cc:1418] Unable to register cuBLAS factory: Attempting to register factory for plugin cuBLAS when one has already been registered\n",
      "2025-05-29 12:50:57.459198: I tensorflow/core/platform/cpu_feature_guard.cc:210] This TensorFlow binary is optimized to use available CPU instructions in performance-critical operations.\n",
      "To enable the following instructions: AVX2 FMA, in other operations, rebuild TensorFlow with the appropriate compiler flags.\n"
     ]
    },
    {
     "name": "stdout",
     "output_type": "stream",
     "text": [
      "Generating training metadata at modelling/metadata/landmarks_metadata_v4_training.csv...\n",
      "Training metadata saved to: modelling/metadata/landmarks_metadata_v4_training.csv\n",
      "\n",
      "Dataset Features Analysis:\n",
      "- feature dimensions: 189 (consistent across all samples)\n",
      "- pass through dataset completed in 62.42 seconds (565 samples, at 0.11 seconds/sample)\n",
      "\n",
      "Feature Range Analysis:\n",
      "total features: 189\n",
      "- features with constant value 0: 0\n",
      "- features with constant value 1: 0\n",
      "- features in range [0,1]: 3\n",
      "- features in range [-1,1]: 186\n",
      "- features in other ranges: 0\n",
      "\n",
      "Feature Range Details:\n",
      "- none (all features in standard ranges)\n",
      "TensorBoard logs will be saved to: modelling/logs/runs/20250529-125206\n",
      "CSV logs will be saved to: modelling/logs/20250529_125206_LSTMClassifier.csv\n",
      "\n",
      "--- Epoch 1/300 ---\n",
      "5-fold Cross-Validation Results (using StratifiedGroupKFold):\n",
      "- Fold 1 -\n",
      "\tTrain Loss: 3.2206 | 461 samples from 100 groups (4.6 per)\n",
      "\tVal Loss: 3.2156   | 105 samples from 25 groups (4.2 per)\n",
      "- Fold 2 -\n",
      "\tTrain Loss: 3.2161 | 454 samples from 100 groups (4.5 per)\n",
      "\tVal Loss: 3.2216   | 112 samples from 25 groups (4.5 per)\n",
      "- Fold 3 -\n"
     ]
    }
   ],
   "source": [
    "os.system('python code/model/trainer.py training.device=cpu')"
   ]
  },
  {
   "cell_type": "code",
   "execution_count": null,
   "metadata": {},
   "outputs": [],
   "source": []
  }
 ],
 "metadata": {
  "kernelspec": {
   "display_name": ".venv",
   "language": "python",
   "name": "python3"
  },
  "language_info": {
   "codemirror_mode": {
    "name": "ipython",
    "version": 3
   },
   "file_extension": ".py",
   "mimetype": "text/x-python",
   "name": "python",
   "nbconvert_exporter": "python",
   "pygments_lexer": "ipython3",
   "version": "3.11.8"
  }
 },
 "nbformat": 4,
 "nbformat_minor": 2
}
