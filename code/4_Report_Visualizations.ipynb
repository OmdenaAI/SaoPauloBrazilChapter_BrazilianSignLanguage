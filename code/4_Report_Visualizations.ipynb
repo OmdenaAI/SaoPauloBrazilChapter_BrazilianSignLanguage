{
 "cells": [
  {
   "cell_type": "markdown",
   "metadata": {},
   "source": [
    "# Report Visualizations"
   ]
  },
  {
   "cell_type": "markdown",
   "metadata": {},
   "source": [
    "### Imports and data loading"
   ]
  },
  {
   "cell_type": "code",
   "execution_count": 1,
   "metadata": {},
   "outputs": [],
   "source": [
    "%load_ext autoreload\n",
    "%autoreload 2"
   ]
  },
  {
   "cell_type": "code",
   "execution_count": 2,
   "metadata": {},
   "outputs": [],
   "source": [
    "import os\n",
    "import glob\n",
    "import cv2\n",
    "import numpy as np\n",
    "import pandas as pd\n",
    "import matplotlib.pyplot as plt\n",
    "from matplotlib import colors\n",
    "from functools import partial"
   ]
  },
  {
   "cell_type": "code",
   "execution_count": 3,
   "metadata": {},
   "outputs": [
    {
     "name": "stderr",
     "output_type": "stream",
     "text": [
      "2025-07-07 21:19:47.067468: E external/local_xla/xla/stream_executor/cuda/cuda_fft.cc:477] Unable to register cuFFT factory: Attempting to register factory for plugin cuFFT when one has already been registered\n",
      "WARNING: All log messages before absl::InitializeLog() is called are written to STDERR\n",
      "E0000 00:00:1751890787.099059    3692 cuda_dnn.cc:8310] Unable to register cuDNN factory: Attempting to register factory for plugin cuDNN when one has already been registered\n",
      "E0000 00:00:1751890787.108612    3692 cuda_blas.cc:1418] Unable to register cuBLAS factory: Attempting to register factory for plugin cuBLAS when one has already been registered\n",
      "2025-07-07 21:19:47.149612: I tensorflow/core/platform/cpu_feature_guard.cc:210] This TensorFlow binary is optimized to use available CPU instructions in performance-critical operations.\n",
      "To enable the following instructions: AVX2 FMA, in other operations, rebuild TensorFlow with the appropriate compiler flags.\n"
     ]
    }
   ],
   "source": [
    "from preprocess.vizualisation import *\n",
    "from eda.report import *"
   ]
  },
  {
   "cell_type": "code",
   "execution_count": 4,
   "metadata": {},
   "outputs": [
    {
     "data": {
      "text/plain": [
       "'/home/ben/projects/SaoPauloBrazilChapter_BrazilianSignLanguage/code'"
      ]
     },
     "execution_count": 4,
     "metadata": {},
     "output_type": "execute_result"
    }
   ],
   "source": [
    "os.getcwd()"
   ]
  },
  {
   "cell_type": "code",
   "execution_count": 5,
   "metadata": {},
   "outputs": [
    {
     "data": {
      "text/html": [
       "<div>\n",
       "<style scoped>\n",
       "    .dataframe tbody tr th:only-of-type {\n",
       "        vertical-align: middle;\n",
       "    }\n",
       "\n",
       "    .dataframe tbody tr th {\n",
       "        vertical-align: top;\n",
       "    }\n",
       "\n",
       "    .dataframe thead th {\n",
       "        text-align: right;\n",
       "    }\n",
       "</style>\n",
       "<table border=\"1\" class=\"dataframe\">\n",
       "  <thead>\n",
       "    <tr style=\"text-align: right;\">\n",
       "      <th></th>\n",
       "      <th>filename</th>\n",
       "      <th>filename_accented</th>\n",
       "      <th>label</th>\n",
       "      <th>label_accented</th>\n",
       "      <th>accented</th>\n",
       "      <th>data_source</th>\n",
       "      <th>original_fps</th>\n",
       "      <th>original_frame_count</th>\n",
       "      <th>original_duration_sec</th>\n",
       "      <th>start_frame</th>\n",
       "      <th>end_frame</th>\n",
       "      <th>processed_frame_count</th>\n",
       "      <th>processed_duration_sec</th>\n",
       "      <th>preprocess_version</th>\n",
       "      <th>face_width</th>\n",
       "      <th>shoulders_width</th>\n",
       "      <th>face_midpoint_to_shoulders_height</th>\n",
       "      <th>left_hand_interpolated_none_frames</th>\n",
       "      <th>right_hand_interpolated_none_frames</th>\n",
       "    </tr>\n",
       "  </thead>\n",
       "  <tbody>\n",
       "    <tr>\n",
       "      <th>0</th>\n",
       "      <td>ajudar_ne_1.mp4</td>\n",
       "      <td>ajudar_ne_1.mp4</td>\n",
       "      <td>ajudar</td>\n",
       "      <td>ajudar</td>\n",
       "      <td>False</td>\n",
       "      <td>ne</td>\n",
       "      <td>12.00000</td>\n",
       "      <td>44</td>\n",
       "      <td>3.666667</td>\n",
       "      <td>7</td>\n",
       "      <td>36</td>\n",
       "      <td>30</td>\n",
       "      <td>2.500000</td>\n",
       "      <td>v4</td>\n",
       "      <td>0.147576</td>\n",
       "      <td>0.333421</td>\n",
       "      <td>0.292776</td>\n",
       "      <td>7</td>\n",
       "      <td>6</td>\n",
       "    </tr>\n",
       "    <tr>\n",
       "      <th>1</th>\n",
       "      <td>ajudar_sb_2.mp4</td>\n",
       "      <td>ajudar_sb_2.mp4</td>\n",
       "      <td>ajudar</td>\n",
       "      <td>ajudar</td>\n",
       "      <td>False</td>\n",
       "      <td>sb</td>\n",
       "      <td>29.97003</td>\n",
       "      <td>79</td>\n",
       "      <td>2.635967</td>\n",
       "      <td>6</td>\n",
       "      <td>66</td>\n",
       "      <td>61</td>\n",
       "      <td>2.035367</td>\n",
       "      <td>v4</td>\n",
       "      <td>0.086359</td>\n",
       "      <td>0.206200</td>\n",
       "      <td>0.216821</td>\n",
       "      <td>0</td>\n",
       "      <td>0</td>\n",
       "    </tr>\n",
       "    <tr>\n",
       "      <th>2</th>\n",
       "      <td>ajudar_uf_3.mp4</td>\n",
       "      <td>ajudar_uf_3.mp4</td>\n",
       "      <td>ajudar</td>\n",
       "      <td>ajudar</td>\n",
       "      <td>False</td>\n",
       "      <td>uf</td>\n",
       "      <td>29.97003</td>\n",
       "      <td>115</td>\n",
       "      <td>3.837167</td>\n",
       "      <td>24</td>\n",
       "      <td>89</td>\n",
       "      <td>66</td>\n",
       "      <td>2.202200</td>\n",
       "      <td>v4</td>\n",
       "      <td>0.090604</td>\n",
       "      <td>0.205890</td>\n",
       "      <td>0.222293</td>\n",
       "      <td>0</td>\n",
       "      <td>0</td>\n",
       "    </tr>\n",
       "    <tr>\n",
       "      <th>3</th>\n",
       "      <td>ajudar_vl_4.mp4</td>\n",
       "      <td>ajudar_vl_4.mp4</td>\n",
       "      <td>ajudar</td>\n",
       "      <td>ajudar</td>\n",
       "      <td>False</td>\n",
       "      <td>vl</td>\n",
       "      <td>29.97003</td>\n",
       "      <td>141</td>\n",
       "      <td>4.704700</td>\n",
       "      <td>11</td>\n",
       "      <td>126</td>\n",
       "      <td>116</td>\n",
       "      <td>3.870533</td>\n",
       "      <td>v4</td>\n",
       "      <td>0.100236</td>\n",
       "      <td>0.210215</td>\n",
       "      <td>0.240169</td>\n",
       "      <td>25</td>\n",
       "      <td>9</td>\n",
       "    </tr>\n",
       "    <tr>\n",
       "      <th>4</th>\n",
       "      <td>ajudar_vl_5.mp4</td>\n",
       "      <td>ajudar_vl_5.mp4</td>\n",
       "      <td>ajudar</td>\n",
       "      <td>ajudar</td>\n",
       "      <td>False</td>\n",
       "      <td>vl</td>\n",
       "      <td>29.97000</td>\n",
       "      <td>108</td>\n",
       "      <td>3.603604</td>\n",
       "      <td>0</td>\n",
       "      <td>106</td>\n",
       "      <td>107</td>\n",
       "      <td>3.570237</td>\n",
       "      <td>v4</td>\n",
       "      <td>0.114839</td>\n",
       "      <td>0.243479</td>\n",
       "      <td>0.246769</td>\n",
       "      <td>13</td>\n",
       "      <td>12</td>\n",
       "    </tr>\n",
       "  </tbody>\n",
       "</table>\n",
       "</div>"
      ],
      "text/plain": [
       "          filename filename_accented   label label_accented  accented  \\\n",
       "0  ajudar_ne_1.mp4   ajudar_ne_1.mp4  ajudar         ajudar     False   \n",
       "1  ajudar_sb_2.mp4   ajudar_sb_2.mp4  ajudar         ajudar     False   \n",
       "2  ajudar_uf_3.mp4   ajudar_uf_3.mp4  ajudar         ajudar     False   \n",
       "3  ajudar_vl_4.mp4   ajudar_vl_4.mp4  ajudar         ajudar     False   \n",
       "4  ajudar_vl_5.mp4   ajudar_vl_5.mp4  ajudar         ajudar     False   \n",
       "\n",
       "  data_source  original_fps  original_frame_count  original_duration_sec  \\\n",
       "0          ne      12.00000                    44               3.666667   \n",
       "1          sb      29.97003                    79               2.635967   \n",
       "2          uf      29.97003                   115               3.837167   \n",
       "3          vl      29.97003                   141               4.704700   \n",
       "4          vl      29.97000                   108               3.603604   \n",
       "\n",
       "   start_frame  end_frame  processed_frame_count  processed_duration_sec  \\\n",
       "0            7         36                     30                2.500000   \n",
       "1            6         66                     61                2.035367   \n",
       "2           24         89                     66                2.202200   \n",
       "3           11        126                    116                3.870533   \n",
       "4            0        106                    107                3.570237   \n",
       "\n",
       "  preprocess_version  face_width  shoulders_width  \\\n",
       "0                 v4    0.147576         0.333421   \n",
       "1                 v4    0.086359         0.206200   \n",
       "2                 v4    0.090604         0.205890   \n",
       "3                 v4    0.100236         0.210215   \n",
       "4                 v4    0.114839         0.243479   \n",
       "\n",
       "   face_midpoint_to_shoulders_height  left_hand_interpolated_none_frames  \\\n",
       "0                           0.292776                                   7   \n",
       "1                           0.216821                                   0   \n",
       "2                           0.222293                                   0   \n",
       "3                           0.240169                                  25   \n",
       "4                           0.246769                                  13   \n",
       "\n",
       "   right_hand_interpolated_none_frames  \n",
       "0                                    6  \n",
       "1                                    0  \n",
       "2                                    0  \n",
       "3                                    9  \n",
       "4                                   12  "
      ]
     },
     "execution_count": 5,
     "metadata": {},
     "output_type": "execute_result"
    }
   ],
   "source": [
    "path_to_root = '/home/ben/projects/SaoPauloBrazilChapter_BrazilianSignLanguage/'\n",
    "interim_save_dir = path_to_root + 'data/assets/interim/'\n",
    "final_save_dir = path_to_root + 'docs/assets/'\n",
    "\n",
    "timestamp = \"04242025\"\n",
    "motion_version = \"versionB\"\n",
    "pose_version = \"versionB\"\n",
    "preprocess_version = \"v4\"\n",
    "\n",
    "metadata = pd.read_csv(path_to_root + f\"data/preprocessed/landmarks_metadata_{preprocess_version}.csv\")\n",
    "metadata.head()\n"
   ]
  },
  {
   "cell_type": "code",
   "execution_count": 6,
   "metadata": {},
   "outputs": [],
   "source": [
    "def nested_dict_to_df(nested_dict, prefix=''):\n",
    "    flat_dict = {}\n",
    "    \n",
    "    def flatten(d, parent_key=''):\n",
    "        for key, value in d.items():\n",
    "            new_key = f\"{parent_key}_{key}\" if parent_key else key\n",
    "            \n",
    "            if isinstance(value, dict):\n",
    "                flatten(value, new_key)\n",
    "            else:\n",
    "                flat_dict[new_key] = value\n",
    "    \n",
    "    flatten(nested_dict)\n",
    "    return pd.DataFrame([flat_dict])"
   ]
  },
  {
   "cell_type": "code",
   "execution_count": 7,
   "metadata": {},
   "outputs": [],
   "source": [
    "analysis_info_list = []\n",
    "\n",
    "for i, row in metadata.iterrows():\n",
    "    fn = row[\"filename\"]\n",
    "    analysis_info_path = os.path.join(\n",
    "        path_to_root, \n",
    "        \"data\", \n",
    "        \"preprocessed\", \n",
    "        \"landmarks\",\n",
    "        preprocess_version,\n",
    "        \"individual_metadata\",\n",
    "        fn.replace(\"mp4\", \"json\")\n",
    "    )\n",
    "    if os.path.exists(analysis_info_path):\n",
    "        with open(analysis_info_path, \"r\") as f:\n",
    "            analysis_info_dict = json.load(f)\n",
    "    analysis_info_df = nested_dict_to_df(analysis_info_dict)\n",
    "    analysis_info_list.append(analysis_info_df)"
   ]
  },
  {
   "cell_type": "code",
   "execution_count": 8,
   "metadata": {},
   "outputs": [
    {
     "name": "stderr",
     "output_type": "stream",
     "text": [
      "/tmp/ipykernel_3692/574225212.py:1: FutureWarning: The behavior of DataFrame concatenation with empty or all-NA entries is deprecated. In a future version, this will no longer exclude empty or all-NA columns when determining the result dtypes. To retain the old behavior, exclude the relevant entries before the concat operation.\n",
      "  analysis_info = pd.concat(analysis_info_list, axis = 0).sort_values(by = \"metadata_filename\", ascending = True, key = lambda x: x.str.split(\"_\").str[0] + x.str[-5]).reset_index(drop = True)\n"
     ]
    }
   ],
   "source": [
    "analysis_info = pd.concat(analysis_info_list, axis = 0).sort_values(by = \"metadata_filename\", ascending = True, key = lambda x: x.str.split(\"_\").str[0] + x.str[-5]).reset_index(drop = True)"
   ]
  },
  {
   "cell_type": "code",
   "execution_count": 9,
   "metadata": {},
   "outputs": [],
   "source": [
    "color_dict = {\n",
    "    'ne': 'mediumorchid',       # i\n",
    "    'sb': 'dodgerblue',     # s\n",
    "    'uf': 'mediumseagreen',     # u\n",
    "    'vl': 'darkorange',      # v\n",
    "}\n",
    "color_list = ['mediumorchid', 'dodgerblue', 'mediumseagreen', 'darkorange', 'darkorange', 'darkorange']\n",
    "color_list_rgb = [colors.to_rgb(color) for color in color_list]\n",
    "color_list_rgb_int = [(int(color[0]*255), int(color[1]*255), int(color[2]*255)) for color in color_list_rgb]\n",
    "data_source_list = ['INES', 'SignBank', 'UFV', 'V-Librasil', 'V-Librasil', 'V-Librasil']"
   ]
  },
  {
   "cell_type": "markdown",
   "metadata": {},
   "source": [
    "# Dataset"
   ]
  },
  {
   "cell_type": "markdown",
   "metadata": {},
   "source": [
    "### Final Dataset"
   ]
  },
  {
   "cell_type": "markdown",
   "metadata": {},
   "source": [
    "Example of each video for a word"
   ]
  },
  {
   "cell_type": "code",
   "execution_count": 10,
   "metadata": {},
   "outputs": [],
   "source": [
    "word = 'banana'"
   ]
  },
  {
   "cell_type": "code",
   "execution_count": 11,
   "metadata": {},
   "outputs": [
    {
     "data": {
      "text/html": [
       "<div>\n",
       "<style scoped>\n",
       "    .dataframe tbody tr th:only-of-type {\n",
       "        vertical-align: middle;\n",
       "    }\n",
       "\n",
       "    .dataframe tbody tr th {\n",
       "        vertical-align: top;\n",
       "    }\n",
       "\n",
       "    .dataframe thead th {\n",
       "        text-align: right;\n",
       "    }\n",
       "</style>\n",
       "<table border=\"1\" class=\"dataframe\">\n",
       "  <thead>\n",
       "    <tr style=\"text-align: right;\">\n",
       "      <th></th>\n",
       "      <th>filename</th>\n",
       "      <th>filename_accented</th>\n",
       "      <th>label</th>\n",
       "      <th>label_accented</th>\n",
       "      <th>accented</th>\n",
       "      <th>data_source</th>\n",
       "      <th>original_fps</th>\n",
       "      <th>original_frame_count</th>\n",
       "      <th>original_duration_sec</th>\n",
       "      <th>start_frame</th>\n",
       "      <th>end_frame</th>\n",
       "      <th>processed_frame_count</th>\n",
       "      <th>processed_duration_sec</th>\n",
       "      <th>preprocess_version</th>\n",
       "      <th>face_width</th>\n",
       "      <th>shoulders_width</th>\n",
       "      <th>face_midpoint_to_shoulders_height</th>\n",
       "      <th>left_hand_interpolated_none_frames</th>\n",
       "      <th>right_hand_interpolated_none_frames</th>\n",
       "    </tr>\n",
       "  </thead>\n",
       "  <tbody>\n",
       "    <tr>\n",
       "      <th>24</th>\n",
       "      <td>banana_ne_1.mp4</td>\n",
       "      <td>banana_ne_1.mp4</td>\n",
       "      <td>banana</td>\n",
       "      <td>banana</td>\n",
       "      <td>False</td>\n",
       "      <td>ne</td>\n",
       "      <td>12.00000</td>\n",
       "      <td>51</td>\n",
       "      <td>4.250000</td>\n",
       "      <td>7</td>\n",
       "      <td>37</td>\n",
       "      <td>31</td>\n",
       "      <td>2.583333</td>\n",
       "      <td>v4</td>\n",
       "      <td>0.146253</td>\n",
       "      <td>0.335704</td>\n",
       "      <td>0.289209</td>\n",
       "      <td>9</td>\n",
       "      <td>10</td>\n",
       "    </tr>\n",
       "    <tr>\n",
       "      <th>25</th>\n",
       "      <td>banana_sb_2.mp4</td>\n",
       "      <td>banana_sb_2.mp4</td>\n",
       "      <td>banana</td>\n",
       "      <td>banana</td>\n",
       "      <td>False</td>\n",
       "      <td>sb</td>\n",
       "      <td>29.97003</td>\n",
       "      <td>71</td>\n",
       "      <td>2.369033</td>\n",
       "      <td>3</td>\n",
       "      <td>66</td>\n",
       "      <td>64</td>\n",
       "      <td>2.135467</td>\n",
       "      <td>v4</td>\n",
       "      <td>0.085460</td>\n",
       "      <td>0.204035</td>\n",
       "      <td>0.210855</td>\n",
       "      <td>0</td>\n",
       "      <td>1</td>\n",
       "    </tr>\n",
       "    <tr>\n",
       "      <th>26</th>\n",
       "      <td>banana_uf_3.mp4</td>\n",
       "      <td>banana_uf_3.mp4</td>\n",
       "      <td>banana</td>\n",
       "      <td>banana</td>\n",
       "      <td>False</td>\n",
       "      <td>uf</td>\n",
       "      <td>29.97003</td>\n",
       "      <td>246</td>\n",
       "      <td>8.208200</td>\n",
       "      <td>12</td>\n",
       "      <td>209</td>\n",
       "      <td>198</td>\n",
       "      <td>6.606600</td>\n",
       "      <td>v4</td>\n",
       "      <td>0.076263</td>\n",
       "      <td>0.174447</td>\n",
       "      <td>0.194980</td>\n",
       "      <td>3</td>\n",
       "      <td>0</td>\n",
       "    </tr>\n",
       "    <tr>\n",
       "      <th>27</th>\n",
       "      <td>banana_vl_4.mp4</td>\n",
       "      <td>banana_vl_4.mp4</td>\n",
       "      <td>banana</td>\n",
       "      <td>banana</td>\n",
       "      <td>False</td>\n",
       "      <td>vl</td>\n",
       "      <td>29.97000</td>\n",
       "      <td>168</td>\n",
       "      <td>5.605606</td>\n",
       "      <td>1</td>\n",
       "      <td>143</td>\n",
       "      <td>143</td>\n",
       "      <td>4.771438</td>\n",
       "      <td>v4</td>\n",
       "      <td>0.103197</td>\n",
       "      <td>0.236290</td>\n",
       "      <td>0.247538</td>\n",
       "      <td>1</td>\n",
       "      <td>16</td>\n",
       "    </tr>\n",
       "    <tr>\n",
       "      <th>28</th>\n",
       "      <td>banana_vl_5.mp4</td>\n",
       "      <td>banana_vl_5.mp4</td>\n",
       "      <td>banana</td>\n",
       "      <td>banana</td>\n",
       "      <td>False</td>\n",
       "      <td>vl</td>\n",
       "      <td>59.94006</td>\n",
       "      <td>378</td>\n",
       "      <td>6.306300</td>\n",
       "      <td>20</td>\n",
       "      <td>289</td>\n",
       "      <td>270</td>\n",
       "      <td>4.504500</td>\n",
       "      <td>v4</td>\n",
       "      <td>0.132493</td>\n",
       "      <td>0.285565</td>\n",
       "      <td>0.289806</td>\n",
       "      <td>0</td>\n",
       "      <td>1</td>\n",
       "    </tr>\n",
       "    <tr>\n",
       "      <th>29</th>\n",
       "      <td>banana_vl_6.mp4</td>\n",
       "      <td>banana_vl_6.mp4</td>\n",
       "      <td>banana</td>\n",
       "      <td>banana</td>\n",
       "      <td>False</td>\n",
       "      <td>vl</td>\n",
       "      <td>59.94006</td>\n",
       "      <td>355</td>\n",
       "      <td>5.922583</td>\n",
       "      <td>2</td>\n",
       "      <td>349</td>\n",
       "      <td>348</td>\n",
       "      <td>5.805800</td>\n",
       "      <td>v4</td>\n",
       "      <td>0.125241</td>\n",
       "      <td>0.284814</td>\n",
       "      <td>0.286766</td>\n",
       "      <td>12</td>\n",
       "      <td>16</td>\n",
       "    </tr>\n",
       "  </tbody>\n",
       "</table>\n",
       "</div>"
      ],
      "text/plain": [
       "           filename filename_accented   label label_accented  accented  \\\n",
       "24  banana_ne_1.mp4   banana_ne_1.mp4  banana         banana     False   \n",
       "25  banana_sb_2.mp4   banana_sb_2.mp4  banana         banana     False   \n",
       "26  banana_uf_3.mp4   banana_uf_3.mp4  banana         banana     False   \n",
       "27  banana_vl_4.mp4   banana_vl_4.mp4  banana         banana     False   \n",
       "28  banana_vl_5.mp4   banana_vl_5.mp4  banana         banana     False   \n",
       "29  banana_vl_6.mp4   banana_vl_6.mp4  banana         banana     False   \n",
       "\n",
       "   data_source  original_fps  original_frame_count  original_duration_sec  \\\n",
       "24          ne      12.00000                    51               4.250000   \n",
       "25          sb      29.97003                    71               2.369033   \n",
       "26          uf      29.97003                   246               8.208200   \n",
       "27          vl      29.97000                   168               5.605606   \n",
       "28          vl      59.94006                   378               6.306300   \n",
       "29          vl      59.94006                   355               5.922583   \n",
       "\n",
       "    start_frame  end_frame  processed_frame_count  processed_duration_sec  \\\n",
       "24            7         37                     31                2.583333   \n",
       "25            3         66                     64                2.135467   \n",
       "26           12        209                    198                6.606600   \n",
       "27            1        143                    143                4.771438   \n",
       "28           20        289                    270                4.504500   \n",
       "29            2        349                    348                5.805800   \n",
       "\n",
       "   preprocess_version  face_width  shoulders_width  \\\n",
       "24                 v4    0.146253         0.335704   \n",
       "25                 v4    0.085460         0.204035   \n",
       "26                 v4    0.076263         0.174447   \n",
       "27                 v4    0.103197         0.236290   \n",
       "28                 v4    0.132493         0.285565   \n",
       "29                 v4    0.125241         0.284814   \n",
       "\n",
       "    face_midpoint_to_shoulders_height  left_hand_interpolated_none_frames  \\\n",
       "24                           0.289209                                   9   \n",
       "25                           0.210855                                   0   \n",
       "26                           0.194980                                   3   \n",
       "27                           0.247538                                   1   \n",
       "28                           0.289806                                   0   \n",
       "29                           0.286766                                  12   \n",
       "\n",
       "    right_hand_interpolated_none_frames  \n",
       "24                                   10  \n",
       "25                                    1  \n",
       "26                                    0  \n",
       "27                                   16  \n",
       "28                                    1  \n",
       "29                                   16  "
      ]
     },
     "execution_count": 11,
     "metadata": {},
     "output_type": "execute_result"
    }
   ],
   "source": [
    "word_metadata = metadata[metadata['label'] == word]\n",
    "word_metadata"
   ]
  },
  {
   "cell_type": "code",
   "execution_count": 12,
   "metadata": {},
   "outputs": [],
   "source": [
    "video_paths = [os.path.join(path_to_root, 'data', 'interim', 'RawCleanVideos', fn) for fn in word_metadata['filename']]"
   ]
  },
  {
   "cell_type": "code",
   "execution_count": 14,
   "metadata": {},
   "outputs": [],
   "source": [
    "combine_function = partial(all_signs_for_word, word=word)"
   ]
  },
  {
   "cell_type": "code",
   "execution_count": 15,
   "metadata": {},
   "outputs": [
    {
     "name": "stdout",
     "output_type": "stream",
     "text": [
      "Video 1: /home/ben/projects/SaoPauloBrazilChapter_BrazilianSignLanguage/data/interim/RawCleanVideos/banana_ne_1.mp4\n",
      "  - FPS: 12.00\n",
      "  - Frames: 51\n",
      "  - Size: 240x176\n",
      "  - Duration: 4.25s\n",
      "Video 2: /home/ben/projects/SaoPauloBrazilChapter_BrazilianSignLanguage/data/interim/RawCleanVideos/banana_sb_2.mp4\n",
      "  - FPS: 29.97\n",
      "  - Frames: 71\n",
      "  - Size: 1920x1080\n",
      "  - Duration: 2.37s\n",
      "Video 3: /home/ben/projects/SaoPauloBrazilChapter_BrazilianSignLanguage/data/interim/RawCleanVideos/banana_uf_3.mp4\n",
      "  - FPS: 29.97\n",
      "  - Frames: 246\n",
      "  - Size: 1920x1080\n",
      "  - Duration: 8.21s\n",
      "Video 4: /home/ben/projects/SaoPauloBrazilChapter_BrazilianSignLanguage/data/interim/RawCleanVideos/banana_vl_4.mp4\n",
      "  - FPS: 29.97\n",
      "  - Frames: 168\n",
      "  - Size: 1920x1080\n",
      "  - Duration: 5.61s\n",
      "Video 5: /home/ben/projects/SaoPauloBrazilChapter_BrazilianSignLanguage/data/interim/RawCleanVideos/banana_vl_5.mp4\n",
      "  - FPS: 59.94\n",
      "  - Frames: 378\n",
      "  - Size: 1280x720\n",
      "  - Duration: 6.31s\n",
      "Video 6: /home/ben/projects/SaoPauloBrazilChapter_BrazilianSignLanguage/data/interim/RawCleanVideos/banana_vl_6.mp4\n",
      "  - FPS: 59.94\n",
      "  - Frames: 355\n",
      "  - Size: 1920x1080\n",
      "  - Duration: 5.92s\n",
      "Using highest FPS (59.94) from input videos as output FPS\n",
      "\n",
      "Processing frames 0 to 492 at 59.94005994005994 FPS\n",
      "Output duration: 8.21s\n",
      "Scaling output from 13970x2130 to 1920x292\n",
      "Trying alternative codec: mp4v\n",
      "Output video size: 1920x292\n"
     ]
    },
    {
     "name": "stderr",
     "output_type": "stream",
     "text": [
      "[ERROR:0@99.871] global cap_ffmpeg_impl.hpp:3203 open Could not find encoder for codec_id=27, error: Encoder not found\n",
      "[ERROR:0@99.872] global cap_ffmpeg_impl.hpp:3281 open VIDEOIO/FFMPEG: Failed to initialize VideoWriter\n"
     ]
    },
    {
     "name": "stdout",
     "output_type": "stream",
     "text": [
      "Progress: 6.1% (30 frames processed)\n",
      "Progress: 12.2% (60 frames processed)\n",
      "Progress: 18.3% (90 frames processed)\n",
      "Progress: 24.4% (120 frames processed)\n",
      "Progress: 30.5% (150 frames processed)\n",
      "Progress: 36.6% (180 frames processed)\n",
      "Progress: 42.7% (210 frames processed)\n",
      "Progress: 48.8% (240 frames processed)\n",
      "Progress: 54.9% (270 frames processed)\n",
      "Progress: 61.0% (300 frames processed)\n",
      "Progress: 67.1% (330 frames processed)\n",
      "Progress: 73.2% (360 frames processed)\n",
      "Progress: 79.3% (390 frames processed)\n",
      "Progress: 85.4% (420 frames processed)\n",
      "Progress: 91.5% (450 frames processed)\n",
      "Progress: 97.6% (480 frames processed)\n",
      "\n",
      "Video saved successfully: /home/ben/projects/SaoPauloBrazilChapter_BrazilianSignLanguage/data/assets/interim/all_signs_for_banana.mp4\n",
      "Total frames processed: 492\n",
      "Final duration: 8.21s\n",
      "File size: 3.9 MB\n"
     ]
    },
    {
     "data": {
      "text/plain": [
       "'/home/ben/projects/SaoPauloBrazilChapter_BrazilianSignLanguage/data/assets/interim/all_signs_for_banana.mp4'"
      ]
     },
     "execution_count": 15,
     "metadata": {},
     "output_type": "execute_result"
    }
   ],
   "source": [
    "apply_to_videos(combine_function=combine_function, video_paths=video_paths, save_path=interim_save_dir+f\"all_signs_for_{word}.mp4\")"
   ]
  },
  {
   "cell_type": "code",
   "execution_count": null,
   "metadata": {},
   "outputs": [
    {
     "name": "stdout",
     "output_type": "stream",
     "text": [
      "GIF created successfully: comb_video.gif\n",
      "  - Frames: 164\n",
      "  - Duration: 11.26 seconds\n",
      "  - Size: 1920x292\n",
      "  - File size: 8803.2 KB\n"
     ]
    },
    {
     "data": {
      "text/plain": [
       "'comb_video.gif'"
      ]
     },
     "execution_count": 15,
     "metadata": {},
     "output_type": "execute_result"
    }
   ],
   "source": [
    "# video_to_gif(video_path=\"comb_video.mp4\", output_path=\"comb_video.gif\", loop=0, quality=100, fps=15, final_frame_duration= 500)"
   ]
  },
  {
   "cell_type": "markdown",
   "metadata": {},
   "source": []
  },
  {
   "cell_type": "markdown",
   "metadata": {},
   "source": [
    "### Dimensions & FPS"
   ]
  },
  {
   "cell_type": "markdown",
   "metadata": {},
   "source": [
    "#### Dimensions"
   ]
  },
  {
   "cell_type": "code",
   "execution_count": 16,
   "metadata": {},
   "outputs": [
    {
     "data": {
      "text/html": [
       "<div>\n",
       "<style scoped>\n",
       "    .dataframe tbody tr th:only-of-type {\n",
       "        vertical-align: middle;\n",
       "    }\n",
       "\n",
       "    .dataframe tbody tr th {\n",
       "        vertical-align: top;\n",
       "    }\n",
       "\n",
       "    .dataframe thead th {\n",
       "        text-align: right;\n",
       "    }\n",
       "</style>\n",
       "<table border=\"1\" class=\"dataframe\">\n",
       "  <thead>\n",
       "    <tr style=\"text-align: right;\">\n",
       "      <th></th>\n",
       "      <th>filename</th>\n",
       "      <th>label</th>\n",
       "      <th>data_source</th>\n",
       "      <th>sign_id</th>\n",
       "      <th>signer_number</th>\n",
       "      <th>frame_count</th>\n",
       "      <th>fps</th>\n",
       "      <th>duration_sec</th>\n",
       "      <th>width</th>\n",
       "      <th>height</th>\n",
       "      <th>needs_flip</th>\n",
       "      <th>cleaned</th>\n",
       "    </tr>\n",
       "  </thead>\n",
       "  <tbody>\n",
       "    <tr>\n",
       "      <th>0</th>\n",
       "      <td>ajudar_ne_1.mp4</td>\n",
       "      <td>ajudar</td>\n",
       "      <td>ne</td>\n",
       "      <td>2</td>\n",
       "      <td>1</td>\n",
       "      <td>44</td>\n",
       "      <td>12.00000</td>\n",
       "      <td>3.666667</td>\n",
       "      <td>240</td>\n",
       "      <td>176</td>\n",
       "      <td>False</td>\n",
       "      <td>True</td>\n",
       "    </tr>\n",
       "    <tr>\n",
       "      <th>1</th>\n",
       "      <td>ajudar_sb_2.mp4</td>\n",
       "      <td>ajudar</td>\n",
       "      <td>sb</td>\n",
       "      <td>1</td>\n",
       "      <td>1</td>\n",
       "      <td>79</td>\n",
       "      <td>29.97003</td>\n",
       "      <td>2.635967</td>\n",
       "      <td>1280</td>\n",
       "      <td>720</td>\n",
       "      <td>False</td>\n",
       "      <td>True</td>\n",
       "    </tr>\n",
       "    <tr>\n",
       "      <th>2</th>\n",
       "      <td>ajudar_uf_3.mp4</td>\n",
       "      <td>ajudar</td>\n",
       "      <td>uf</td>\n",
       "      <td>0</td>\n",
       "      <td>1</td>\n",
       "      <td>115</td>\n",
       "      <td>29.97003</td>\n",
       "      <td>3.837167</td>\n",
       "      <td>480</td>\n",
       "      <td>270</td>\n",
       "      <td>False</td>\n",
       "      <td>True</td>\n",
       "    </tr>\n",
       "    <tr>\n",
       "      <th>3</th>\n",
       "      <td>ajudar_vl_4.mp4</td>\n",
       "      <td>ajudar</td>\n",
       "      <td>vl</td>\n",
       "      <td>0</td>\n",
       "      <td>1</td>\n",
       "      <td>141</td>\n",
       "      <td>29.97003</td>\n",
       "      <td>4.704700</td>\n",
       "      <td>1920</td>\n",
       "      <td>1080</td>\n",
       "      <td>False</td>\n",
       "      <td>True</td>\n",
       "    </tr>\n",
       "    <tr>\n",
       "      <th>4</th>\n",
       "      <td>ajudar_vl_5.mp4</td>\n",
       "      <td>ajudar</td>\n",
       "      <td>vl</td>\n",
       "      <td>0</td>\n",
       "      <td>2</td>\n",
       "      <td>108</td>\n",
       "      <td>29.97000</td>\n",
       "      <td>3.603604</td>\n",
       "      <td>1920</td>\n",
       "      <td>1080</td>\n",
       "      <td>False</td>\n",
       "      <td>True</td>\n",
       "    </tr>\n",
       "  </tbody>\n",
       "</table>\n",
       "</div>"
      ],
      "text/plain": [
       "          filename   label data_source  sign_id  signer_number  frame_count  \\\n",
       "0  ajudar_ne_1.mp4  ajudar          ne        2              1           44   \n",
       "1  ajudar_sb_2.mp4  ajudar          sb        1              1           79   \n",
       "2  ajudar_uf_3.mp4  ajudar          uf        0              1          115   \n",
       "3  ajudar_vl_4.mp4  ajudar          vl        0              1          141   \n",
       "4  ajudar_vl_5.mp4  ajudar          vl        0              2          108   \n",
       "\n",
       "        fps  duration_sec  width  height  needs_flip  cleaned  \n",
       "0  12.00000      3.666667    240     176       False     True  \n",
       "1  29.97003      2.635967   1280     720       False     True  \n",
       "2  29.97003      3.837167    480     270       False     True  \n",
       "3  29.97003      4.704700   1920    1080       False     True  \n",
       "4  29.97000      3.603604   1920    1080       False     True  "
      ]
     },
     "execution_count": 16,
     "metadata": {},
     "output_type": "execute_result"
    }
   ],
   "source": [
    "video_metadata = pd.read_csv(path_to_root + f\"data/raw/combined/target_dataset_video_metadata.csv\")\n",
    "video_metadata.head()"
   ]
  },
  {
   "cell_type": "code",
   "execution_count": 18,
   "metadata": {},
   "outputs": [
    {
     "data": {
      "text/plain": [
       "data_source\n",
       "vl    75\n",
       "ne    25\n",
       "sb    25\n",
       "uf    25\n",
       "Name: count, dtype: int64"
      ]
     },
     "execution_count": 18,
     "metadata": {},
     "output_type": "execute_result"
    }
   ],
   "source": [
    "video_metadata.data_source.value_counts()"
   ]
  },
  {
   "cell_type": "code",
   "execution_count": 19,
   "metadata": {},
   "outputs": [],
   "source": [
    "video_metadata['dimension_str'] = video_metadata['width'].astype(str) + 'x' + video_metadata['height'].astype(str)"
   ]
  },
  {
   "cell_type": "code",
   "execution_count": 56,
   "metadata": {},
   "outputs": [
    {
     "data": {
      "text/plain": [
       "(array([0, 1, 2, 3]),\n",
       " [Text(0, 0, '240x176'),\n",
       "  Text(1, 0, '480x270'),\n",
       "  Text(2, 0, '1280x720'),\n",
       "  Text(3, 0, '1920x1080')])"
      ]
     },
     "execution_count": 56,
     "metadata": {},
     "output_type": "execute_result"
    },
    {
     "data": {
      "image/png": "[encoded data removed]",
      "text/plain": [
       "<Figure size 500x700 with 1 Axes>"
      ]
     },
     "metadata": {},
     "output_type": "display_data"
    }
   ],
   "source": [
    "dimension_counts = video_metadata.sort_values('width').groupby('dimension_str').data_source.value_counts().unstack()\n",
    "# rearrange rows, so the order goes from indexes 1,2,3,4 to 3,4,1,2\n",
    "dimension_counts = dimension_counts.reindex(index=['240x176', '480x270', '1280x720', '1920x1080'])\n",
    "# dimension_counts = dimension_counts[['240x176', '480x270', '1280x720', '1920x1080']]\n",
    "ax = dimension_counts.plot(kind='bar', stacked=True, color=color_list_rgb, figsize=(5, 7))\n",
    "\n",
    "# Add value labels on top of each bar segment\n",
    "y_offset = np.zeros(len(dimension_counts.index))\n",
    "for i, col in enumerate(dimension_counts.columns):\n",
    "    values = dimension_counts[col]\n",
    "    for j, v in enumerate(values):\n",
    "        if not np.isnan(v):  # Only add label if value is not NaN\n",
    "            ax.text(j, y_offset[j] + v/2, int(v), \n",
    "                   ha='center', va='center', color='black')\n",
    "        if not np.isnan(v):\n",
    "            y_offset[j] += v\n",
    "\n",
    "# add a legend\n",
    "plt.legend(title='Data Source', labels=data_source_list)\n",
    "\n",
    "# add a title\n",
    "plt.title('Number of Video Dimensions in the Dataset')\n",
    "\n",
    "# add a x label\n",
    "plt.xlabel('Video Dimensions')\n",
    "\n",
    "# clearer xticks\n",
    "plt.xticks(rotation=0)\n"
   ]
  },
  {
   "cell_type": "code",
   "execution_count": 81,
   "metadata": {},
   "outputs": [],
   "source": [
    "word = 'animal'\n",
    "word_metadata = video_metadata[video_metadata['label'] == word].reset_index(drop=True)\n",
    "video_paths = [os.path.join(path_to_root, 'data', 'interim', 'RawCleanVideos', fn) for fn in word_metadata['filename'][:4]]\n",
    "video_frames = [get_frame(10, video_path) for video_path in video_paths]"
   ]
  },
  {
   "cell_type": "code",
   "execution_count": 82,
   "metadata": {},
   "outputs": [
    {
     "data": {
      "text/html": [
       "<div>\n",
       "<style scoped>\n",
       "    .dataframe tbody tr th:only-of-type {\n",
       "        vertical-align: middle;\n",
       "    }\n",
       "\n",
       "    .dataframe tbody tr th {\n",
       "        vertical-align: top;\n",
       "    }\n",
       "\n",
       "    .dataframe thead th {\n",
       "        text-align: right;\n",
       "    }\n",
       "</style>\n",
       "<table border=\"1\" class=\"dataframe\">\n",
       "  <thead>\n",
       "    <tr style=\"text-align: right;\">\n",
       "      <th></th>\n",
       "      <th>filename</th>\n",
       "      <th>label</th>\n",
       "      <th>data_source</th>\n",
       "      <th>sign_id</th>\n",
       "      <th>signer_number</th>\n",
       "      <th>frame_count</th>\n",
       "      <th>fps</th>\n",
       "      <th>duration_sec</th>\n",
       "      <th>width</th>\n",
       "      <th>height</th>\n",
       "      <th>needs_flip</th>\n",
       "      <th>cleaned</th>\n",
       "      <th>dimension_str</th>\n",
       "    </tr>\n",
       "  </thead>\n",
       "  <tbody>\n",
       "    <tr>\n",
       "      <th>0</th>\n",
       "      <td>animal_ne_1.mp4</td>\n",
       "      <td>animal</td>\n",
       "      <td>ne</td>\n",
       "      <td>0</td>\n",
       "      <td>1</td>\n",
       "      <td>71</td>\n",
       "      <td>12.000000</td>\n",
       "      <td>5.916667</td>\n",
       "      <td>240</td>\n",
       "      <td>176</td>\n",
       "      <td>False</td>\n",
       "      <td>True</td>\n",
       "      <td>240x176</td>\n",
       "    </tr>\n",
       "    <tr>\n",
       "      <th>1</th>\n",
       "      <td>animal_sb_2.mp4</td>\n",
       "      <td>animal</td>\n",
       "      <td>sb</td>\n",
       "      <td>1</td>\n",
       "      <td>1</td>\n",
       "      <td>74</td>\n",
       "      <td>29.970030</td>\n",
       "      <td>2.469133</td>\n",
       "      <td>1280</td>\n",
       "      <td>720</td>\n",
       "      <td>False</td>\n",
       "      <td>True</td>\n",
       "      <td>1280x720</td>\n",
       "    </tr>\n",
       "    <tr>\n",
       "      <th>2</th>\n",
       "      <td>animal_uf_3.mp4</td>\n",
       "      <td>animal</td>\n",
       "      <td>uf</td>\n",
       "      <td>0</td>\n",
       "      <td>1</td>\n",
       "      <td>127</td>\n",
       "      <td>29.970030</td>\n",
       "      <td>4.237567</td>\n",
       "      <td>480</td>\n",
       "      <td>270</td>\n",
       "      <td>False</td>\n",
       "      <td>True</td>\n",
       "      <td>480x270</td>\n",
       "    </tr>\n",
       "    <tr>\n",
       "      <th>3</th>\n",
       "      <td>animal_vl_4.mp4</td>\n",
       "      <td>animal</td>\n",
       "      <td>vl</td>\n",
       "      <td>0</td>\n",
       "      <td>1</td>\n",
       "      <td>116</td>\n",
       "      <td>23.976024</td>\n",
       "      <td>4.838167</td>\n",
       "      <td>1920</td>\n",
       "      <td>1080</td>\n",
       "      <td>False</td>\n",
       "      <td>True</td>\n",
       "      <td>1920x1080</td>\n",
       "    </tr>\n",
       "    <tr>\n",
       "      <th>4</th>\n",
       "      <td>animal_vl_5.mp4</td>\n",
       "      <td>animal</td>\n",
       "      <td>vl</td>\n",
       "      <td>0</td>\n",
       "      <td>2</td>\n",
       "      <td>145</td>\n",
       "      <td>29.970030</td>\n",
       "      <td>4.838167</td>\n",
       "      <td>1920</td>\n",
       "      <td>1080</td>\n",
       "      <td>False</td>\n",
       "      <td>True</td>\n",
       "      <td>1920x1080</td>\n",
       "    </tr>\n",
       "    <tr>\n",
       "      <th>5</th>\n",
       "      <td>animal_vl_6.mp4</td>\n",
       "      <td>animal</td>\n",
       "      <td>vl</td>\n",
       "      <td>0</td>\n",
       "      <td>3</td>\n",
       "      <td>181</td>\n",
       "      <td>29.970030</td>\n",
       "      <td>6.039367</td>\n",
       "      <td>1920</td>\n",
       "      <td>1080</td>\n",
       "      <td>False</td>\n",
       "      <td>True</td>\n",
       "      <td>1920x1080</td>\n",
       "    </tr>\n",
       "  </tbody>\n",
       "</table>\n",
       "</div>"
      ],
      "text/plain": [
       "          filename   label data_source  sign_id  signer_number  frame_count  \\\n",
       "0  animal_ne_1.mp4  animal          ne        0              1           71   \n",
       "1  animal_sb_2.mp4  animal          sb        1              1           74   \n",
       "2  animal_uf_3.mp4  animal          uf        0              1          127   \n",
       "3  animal_vl_4.mp4  animal          vl        0              1          116   \n",
       "4  animal_vl_5.mp4  animal          vl        0              2          145   \n",
       "5  animal_vl_6.mp4  animal          vl        0              3          181   \n",
       "\n",
       "         fps  duration_sec  width  height  needs_flip  cleaned dimension_str  \n",
       "0  12.000000      5.916667    240     176       False     True       240x176  \n",
       "1  29.970030      2.469133   1280     720       False     True      1280x720  \n",
       "2  29.970030      4.237567    480     270       False     True       480x270  \n",
       "3  23.976024      4.838167   1920    1080       False     True     1920x1080  \n",
       "4  29.970030      4.838167   1920    1080       False     True     1920x1080  \n",
       "5  29.970030      6.039367   1920    1080       False     True     1920x1080  "
      ]
     },
     "execution_count": 82,
     "metadata": {},
     "output_type": "execute_result"
    }
   ],
   "source": [
    "word_metadata"
   ]
  },
  {
   "cell_type": "code",
   "execution_count": 163,
   "metadata": {},
   "outputs": [],
   "source": [
    "target_width = 1920\n",
    "target_height = 1080\n",
    "black_border = 2\n",
    "color_border = 20\n",
    "dimension_frames = []\n",
    "for i, row in word_metadata[:4].iterrows():\n",
    "    fn = row['filename']\n",
    "    video_path = os.path.join(path_to_root, 'data', 'interim', 'RawCleanVideos', fn)\n",
    "    video_frame = get_frame(row['frame_count']//2-3, video_path)\n",
    "    color = color_list_rgb_int[i]\n",
    "    height, width = video_frame.shape[:2]\n",
    "    if target_width > width:\n",
    "        video_frame = cv2.copyMakeBorder(video_frame, top=black_border, bottom=black_border, left=black_border, right=black_border, borderType=cv2.BORDER_CONSTANT, value=(0, 0, 0))\n",
    "        width_padding = (target_width - width) // 2 - black_border\n",
    "        height_padding = (target_height - height) // 2 - black_border\n",
    "        video_frame = cv2.copyMakeBorder(video_frame, top=height_padding, bottom=height_padding, left=width_padding, right=width_padding, borderType=cv2.BORDER_CONSTANT, value=(255, 255, 255))\n",
    "    video_frame = cv2.copyMakeBorder(video_frame, top=color_border, bottom=color_border, left=color_border, right=color_border, borderType=cv2.BORDER_CONSTANT, value=color)\n",
    "    \n",
    "    dimension_frames.append(video_frame)\n",
    "\n",
    "font_size = 6\n",
    "font_thickness = 5\n",
    "font = cv2.FONT_HERSHEY_TRIPLEX\n",
    "\n",
    "padded_annotated_frames = []\n",
    "for i, frame in enumerate(dimension_frames):\n",
    "    data_source = data_source_list[i]\n",
    "    anno = f'{word_metadata.loc[i, \"width\"]}x{word_metadata.loc[i, \"height\"]}'\n",
    "    bordered_frame = cv2.copyMakeBorder(frame, 0, 600, 0, 0, cv2.BORDER_CONSTANT, value=(255,255,255))\n",
    "\n",
    "    textsize = cv2.getTextSize(anno, font, font_size, font_thickness)[0]\n",
    "    text_x = (target_width - textsize[0]) // 2\n",
    "    annotated_frame = cv2.putText(bordered_frame, anno, (text_x, 1350), font, font_size, (0, 0, 0), font_thickness)\n",
    "\n",
    "    textsize = cv2.getTextSize(data_source, font, font_size, font_thickness)[0]\n",
    "    text_x = (target_width - textsize[0]) // 2\n",
    "    annotated_frame = cv2.putText(annotated_frame, f\"({data_source})\", (text_x, 1350 + int(textsize[1]*1.5)), font, 5, (0, 0, 0), font_thickness)\n",
    "    \n",
    "    padded_annotated_frames.append(annotated_frame)\n",
    "\n",
    "gap = np.full((target_height + 390 + 250, 250, 3), 255, dtype=np.uint8)\n",
    "\n",
    "final_frames = [padded_annotated_frames[0], gap, padded_annotated_frames[2], gap, padded_annotated_frames[1], gap, padded_annotated_frames[3]]\n",
    "new_frame = np.concatenate(final_frames, axis=1)\n",
    "new_frame = cv2.copyMakeBorder(new_frame, 600, 0, 300, 300, cv2.BORDER_CONSTANT, value=(255, 255, 255))\n",
    "font_size = 10\n",
    "font_thickness = 15\n",
    "textsize = cv2.getTextSize(word, font, font_size, font_thickness)[0]\n",
    "text_x = (new_frame.shape[1] - textsize[0]) // 2\n",
    "new_frame = cv2.putText(new_frame, word, (text_x, 400), font, font_size, (0, 0, 0), font_thickness)\n"
   ]
  },
  {
   "cell_type": "code",
   "execution_count": 164,
   "metadata": {},
   "outputs": [
    {
     "data": {
      "text/plain": [
       "<matplotlib.image.AxesImage at 0x7fefbcc7bc50>"
      ]
     },
     "execution_count": 164,
     "metadata": {},
     "output_type": "execute_result"
    },
    {
     "data": {
      "image/png": "[encoded data removed]",
      "text/plain": [
       "<Figure size 640x480 with 1 Axes>"
      ]
     },
     "metadata": {},
     "output_type": "display_data"
    }
   ],
   "source": [
    "plt.imshow(new_frame)"
   ]
  },
  {
   "cell_type": "markdown",
   "metadata": {},
   "source": [
    "#### FPS"
   ]
  },
  {
   "cell_type": "code",
   "execution_count": 98,
   "metadata": {},
   "outputs": [
    {
     "data": {
      "text/plain": [
       "round_fps  data_source\n",
       "12         ne             25\n",
       "24         vl              1\n",
       "30         vl             47\n",
       "           sb             25\n",
       "           uf             25\n",
       "60         vl             27\n",
       "Name: count, dtype: int64"
      ]
     },
     "execution_count": 98,
     "metadata": {},
     "output_type": "execute_result"
    }
   ],
   "source": [
    "video_metadata['round_fps'] = video_metadata['fps'].round(0).astype(int)\n",
    "video_metadata.groupby('round_fps').data_source.value_counts()"
   ]
  },
  {
   "cell_type": "code",
   "execution_count": 111,
   "metadata": {},
   "outputs": [
    {
     "data": {
      "text/plain": [
       "Text(0.5, 0, 'FPS')"
      ]
     },
     "execution_count": 111,
     "metadata": {},
     "output_type": "execute_result"
    },
    {
     "data": {
      "image/png": "[encoded data removed]",
      "text/plain": [
       "<Figure size 500x700 with 1 Axes>"
      ]
     },
     "metadata": {},
     "output_type": "display_data"
    }
   ],
   "source": [
    "fps_counts = video_metadata.sort_values('round_fps').groupby('round_fps').data_source.value_counts().unstack()\n",
    "ax = fps_counts.plot(kind='bar', stacked=True, color=color_list_rgb, figsize=(5, 7))\n",
    "\n",
    "# Add value labels on top of each bar segment\n",
    "y_offset = np.zeros(len(fps_counts.index))\n",
    "for i, col in enumerate(fps_counts.columns):\n",
    "    values = fps_counts[col]\n",
    "    for j, v in enumerate(values):\n",
    "        if not np.isnan(v):  # Only add label if value is not NaN\n",
    "            if v == 1:\n",
    "                ax.text(j, y_offset[j]+ 2.5, int(v), \n",
    "                       ha='center', va='center', color='black')\n",
    "            else:\n",
    "                ax.text(j, y_offset[j] + v/2, int(v), \n",
    "                       ha='center', va='center', color='black')\n",
    "        if not np.isnan(v):\n",
    "            y_offset[j] += v\n",
    "\n",
    "# add a legend\n",
    "plt.legend(title='Data Source', labels=data_source_list)\n",
    "\n",
    "# add a title\n",
    "plt.title('Number of Videos by FPS')\n",
    "\n",
    "# add a x label\n",
    "plt.xlabel('FPS')\n",
    "\n",
    "# clearer xticks\n",
    "# plt.xticks(rotation=0)\n"
   ]
  },
  {
   "cell_type": "markdown",
   "metadata": {},
   "source": [
    "### Durations"
   ]
  },
  {
   "cell_type": "code",
   "execution_count": null,
   "metadata": {},
   "outputs": [],
   "source": []
  },
  {
   "cell_type": "markdown",
   "metadata": {},
   "source": [
    "# Preprocessing"
   ]
  },
  {
   "cell_type": "markdown",
   "metadata": {},
   "source": [
    "### Pose - MediaPipe"
   ]
  },
  {
   "cell_type": "code",
   "execution_count": null,
   "metadata": {},
   "outputs": [],
   "source": []
  },
  {
   "cell_type": "markdown",
   "metadata": {},
   "source": [
    "### Motion Detection Measurement Methods"
   ]
  },
  {
   "cell_type": "code",
   "execution_count": null,
   "metadata": {},
   "outputs": [],
   "source": []
  },
  {
   "cell_type": "markdown",
   "metadata": {},
   "source": [
    "### Motion Start & End Frame Methods"
   ]
  },
  {
   "cell_type": "code",
   "execution_count": null,
   "metadata": {},
   "outputs": [],
   "source": []
  },
  {
   "cell_type": "markdown",
   "metadata": {},
   "source": [
    "### Scaling & Alignment"
   ]
  },
  {
   "cell_type": "code",
   "execution_count": null,
   "metadata": {},
   "outputs": [],
   "source": []
  },
  {
   "cell_type": "markdown",
   "metadata": {},
   "source": [
    "### Interpolation"
   ]
  },
  {
   "cell_type": "code",
   "execution_count": null,
   "metadata": {},
   "outputs": [],
   "source": []
  },
  {
   "cell_type": "markdown",
   "metadata": {},
   "source": [
    "### Summary"
   ]
  },
  {
   "cell_type": "code",
   "execution_count": null,
   "metadata": {},
   "outputs": [],
   "source": []
  },
  {
   "cell_type": "markdown",
   "metadata": {},
   "source": [
    "# Modelling"
   ]
  },
  {
   "cell_type": "markdown",
   "metadata": {},
   "source": [
    "### Train / Test Split"
   ]
  },
  {
   "cell_type": "code",
   "execution_count": null,
   "metadata": {},
   "outputs": [],
   "source": []
  },
  {
   "cell_type": "markdown",
   "metadata": {},
   "source": [
    "### Frame Sampling"
   ]
  },
  {
   "cell_type": "code",
   "execution_count": null,
   "metadata": {},
   "outputs": [],
   "source": []
  },
  {
   "cell_type": "markdown",
   "metadata": {},
   "source": [
    "### Cross Validation Split (StratifiedGroupKFold)"
   ]
  },
  {
   "cell_type": "code",
   "execution_count": null,
   "metadata": {},
   "outputs": [],
   "source": []
  },
  {
   "cell_type": "markdown",
   "metadata": {},
   "source": [
    "### Data Augmentation"
   ]
  },
  {
   "cell_type": "code",
   "execution_count": null,
   "metadata": {},
   "outputs": [],
   "source": []
  }
 ],
 "metadata": {
  "kernelspec": {
   "display_name": ".venv",
   "language": "python",
   "name": "python3"
  },
  "language_info": {
   "codemirror_mode": {
    "name": "ipython",
    "version": 3
   },
   "file_extension": ".py",
   "mimetype": "text/x-python",
   "name": "python",
   "nbconvert_exporter": "python",
   "pygments_lexer": "ipython3",
   "version": "3.11.8"
  }
 },
 "nbformat": 4,
 "nbformat_minor": 2
}
