{
 "cells": [
  {
   "cell_type": "markdown",
   "metadata": {},
   "source": [
    "# Report Visualizations"
   ]
  },
  {
   "cell_type": "markdown",
   "metadata": {},
   "source": [
    "### Imports and data loading"
   ]
  },
  {
   "cell_type": "code",
   "execution_count": 4,
   "metadata": {},
   "outputs": [],
   "source": [
    "%load_ext autoreload\n",
    "%autoreload 2"
   ]
  },
  {
   "cell_type": "code",
   "execution_count": 81,
   "metadata": {},
   "outputs": [],
   "source": [
    "import os\n",
    "import glob\n",
    "import cv2\n",
    "import numpy as np\n",
    "import pandas as pd\n",
    "import matplotlib.pyplot as plt\n",
    "from matplotlib import colors"
   ]
  },
  {
   "cell_type": "code",
   "execution_count": 6,
   "metadata": {},
   "outputs": [
    {
     "name": "stderr",
     "output_type": "stream",
     "text": [
      "2025-07-06 15:32:08.890347: E external/local_xla/xla/stream_executor/cuda/cuda_fft.cc:477] Unable to register cuFFT factory: Attempting to register factory for plugin cuFFT when one has already been registered\n",
      "WARNING: All log messages before absl::InitializeLog() is called are written to STDERR\n",
      "E0000 00:00:1751783529.051071    1321 cuda_dnn.cc:8310] Unable to register cuDNN factory: Attempting to register factory for plugin cuDNN when one has already been registered\n",
      "E0000 00:00:1751783529.095792    1321 cuda_blas.cc:1418] Unable to register cuBLAS factory: Attempting to register factory for plugin cuBLAS when one has already been registered\n",
      "2025-07-06 15:32:09.552132: I tensorflow/core/platform/cpu_feature_guard.cc:210] This TensorFlow binary is optimized to use available CPU instructions in performance-critical operations.\n",
      "To enable the following instructions: AVX2 FMA, in other operations, rebuild TensorFlow with the appropriate compiler flags.\n"
     ]
    }
   ],
   "source": [
    "from preprocess.vizualisation import *\n",
    "from eda.report import *"
   ]
  },
  {
   "cell_type": "code",
   "execution_count": 10,
   "metadata": {},
   "outputs": [
    {
     "data": {
      "text/plain": [
       "'/home/ben/projects/SaoPauloBrazilChapter_BrazilianSignLanguage/code'"
      ]
     },
     "execution_count": 10,
     "metadata": {},
     "output_type": "execute_result"
    }
   ],
   "source": [
    "os.getcwd()"
   ]
  },
  {
   "cell_type": "code",
   "execution_count": 11,
   "metadata": {},
   "outputs": [
    {
     "data": {
      "text/html": [
       "<div>\n",
       "<style scoped>\n",
       "    .dataframe tbody tr th:only-of-type {\n",
       "        vertical-align: middle;\n",
       "    }\n",
       "\n",
       "    .dataframe tbody tr th {\n",
       "        vertical-align: top;\n",
       "    }\n",
       "\n",
       "    .dataframe thead th {\n",
       "        text-align: right;\n",
       "    }\n",
       "</style>\n",
       "<table border=\"1\" class=\"dataframe\">\n",
       "  <thead>\n",
       "    <tr style=\"text-align: right;\">\n",
       "      <th></th>\n",
       "      <th>filename</th>\n",
       "      <th>filename_accented</th>\n",
       "      <th>label</th>\n",
       "      <th>label_accented</th>\n",
       "      <th>accented</th>\n",
       "      <th>data_source</th>\n",
       "      <th>original_fps</th>\n",
       "      <th>original_frame_count</th>\n",
       "      <th>original_duration_sec</th>\n",
       "      <th>start_frame</th>\n",
       "      <th>end_frame</th>\n",
       "      <th>processed_frame_count</th>\n",
       "      <th>processed_duration_sec</th>\n",
       "      <th>preprocess_version</th>\n",
       "      <th>face_width</th>\n",
       "      <th>shoulders_width</th>\n",
       "      <th>face_midpoint_to_shoulders_height</th>\n",
       "      <th>left_hand_interpolated_none_frames</th>\n",
       "      <th>right_hand_interpolated_none_frames</th>\n",
       "    </tr>\n",
       "  </thead>\n",
       "  <tbody>\n",
       "    <tr>\n",
       "      <th>0</th>\n",
       "      <td>ajudar_ne_1.mp4</td>\n",
       "      <td>ajudar_ne_1.mp4</td>\n",
       "      <td>ajudar</td>\n",
       "      <td>ajudar</td>\n",
       "      <td>False</td>\n",
       "      <td>ne</td>\n",
       "      <td>12.00000</td>\n",
       "      <td>44</td>\n",
       "      <td>3.666667</td>\n",
       "      <td>7</td>\n",
       "      <td>36</td>\n",
       "      <td>30</td>\n",
       "      <td>2.500000</td>\n",
       "      <td>v4</td>\n",
       "      <td>0.147576</td>\n",
       "      <td>0.333421</td>\n",
       "      <td>0.292776</td>\n",
       "      <td>7</td>\n",
       "      <td>6</td>\n",
       "    </tr>\n",
       "    <tr>\n",
       "      <th>1</th>\n",
       "      <td>ajudar_sb_2.mp4</td>\n",
       "      <td>ajudar_sb_2.mp4</td>\n",
       "      <td>ajudar</td>\n",
       "      <td>ajudar</td>\n",
       "      <td>False</td>\n",
       "      <td>sb</td>\n",
       "      <td>29.97003</td>\n",
       "      <td>79</td>\n",
       "      <td>2.635967</td>\n",
       "      <td>6</td>\n",
       "      <td>66</td>\n",
       "      <td>61</td>\n",
       "      <td>2.035367</td>\n",
       "      <td>v4</td>\n",
       "      <td>0.086359</td>\n",
       "      <td>0.206200</td>\n",
       "      <td>0.216821</td>\n",
       "      <td>0</td>\n",
       "      <td>0</td>\n",
       "    </tr>\n",
       "    <tr>\n",
       "      <th>2</th>\n",
       "      <td>ajudar_uf_3.mp4</td>\n",
       "      <td>ajudar_uf_3.mp4</td>\n",
       "      <td>ajudar</td>\n",
       "      <td>ajudar</td>\n",
       "      <td>False</td>\n",
       "      <td>uf</td>\n",
       "      <td>29.97003</td>\n",
       "      <td>115</td>\n",
       "      <td>3.837167</td>\n",
       "      <td>24</td>\n",
       "      <td>89</td>\n",
       "      <td>66</td>\n",
       "      <td>2.202200</td>\n",
       "      <td>v4</td>\n",
       "      <td>0.090604</td>\n",
       "      <td>0.205890</td>\n",
       "      <td>0.222293</td>\n",
       "      <td>0</td>\n",
       "      <td>0</td>\n",
       "    </tr>\n",
       "    <tr>\n",
       "      <th>3</th>\n",
       "      <td>ajudar_vl_4.mp4</td>\n",
       "      <td>ajudar_vl_4.mp4</td>\n",
       "      <td>ajudar</td>\n",
       "      <td>ajudar</td>\n",
       "      <td>False</td>\n",
       "      <td>vl</td>\n",
       "      <td>29.97003</td>\n",
       "      <td>141</td>\n",
       "      <td>4.704700</td>\n",
       "      <td>11</td>\n",
       "      <td>126</td>\n",
       "      <td>116</td>\n",
       "      <td>3.870533</td>\n",
       "      <td>v4</td>\n",
       "      <td>0.100236</td>\n",
       "      <td>0.210215</td>\n",
       "      <td>0.240169</td>\n",
       "      <td>25</td>\n",
       "      <td>9</td>\n",
       "    </tr>\n",
       "    <tr>\n",
       "      <th>4</th>\n",
       "      <td>ajudar_vl_5.mp4</td>\n",
       "      <td>ajudar_vl_5.mp4</td>\n",
       "      <td>ajudar</td>\n",
       "      <td>ajudar</td>\n",
       "      <td>False</td>\n",
       "      <td>vl</td>\n",
       "      <td>29.97000</td>\n",
       "      <td>108</td>\n",
       "      <td>3.603604</td>\n",
       "      <td>0</td>\n",
       "      <td>106</td>\n",
       "      <td>107</td>\n",
       "      <td>3.570237</td>\n",
       "      <td>v4</td>\n",
       "      <td>0.114839</td>\n",
       "      <td>0.243479</td>\n",
       "      <td>0.246769</td>\n",
       "      <td>13</td>\n",
       "      <td>12</td>\n",
       "    </tr>\n",
       "  </tbody>\n",
       "</table>\n",
       "</div>"
      ],
      "text/plain": [
       "          filename filename_accented   label label_accented  accented  \\\n",
       "0  ajudar_ne_1.mp4   ajudar_ne_1.mp4  ajudar         ajudar     False   \n",
       "1  ajudar_sb_2.mp4   ajudar_sb_2.mp4  ajudar         ajudar     False   \n",
       "2  ajudar_uf_3.mp4   ajudar_uf_3.mp4  ajudar         ajudar     False   \n",
       "3  ajudar_vl_4.mp4   ajudar_vl_4.mp4  ajudar         ajudar     False   \n",
       "4  ajudar_vl_5.mp4   ajudar_vl_5.mp4  ajudar         ajudar     False   \n",
       "\n",
       "  data_source  original_fps  original_frame_count  original_duration_sec  \\\n",
       "0          ne      12.00000                    44               3.666667   \n",
       "1          sb      29.97003                    79               2.635967   \n",
       "2          uf      29.97003                   115               3.837167   \n",
       "3          vl      29.97003                   141               4.704700   \n",
       "4          vl      29.97000                   108               3.603604   \n",
       "\n",
       "   start_frame  end_frame  processed_frame_count  processed_duration_sec  \\\n",
       "0            7         36                     30                2.500000   \n",
       "1            6         66                     61                2.035367   \n",
       "2           24         89                     66                2.202200   \n",
       "3           11        126                    116                3.870533   \n",
       "4            0        106                    107                3.570237   \n",
       "\n",
       "  preprocess_version  face_width  shoulders_width  \\\n",
       "0                 v4    0.147576         0.333421   \n",
       "1                 v4    0.086359         0.206200   \n",
       "2                 v4    0.090604         0.205890   \n",
       "3                 v4    0.100236         0.210215   \n",
       "4                 v4    0.114839         0.243479   \n",
       "\n",
       "   face_midpoint_to_shoulders_height  left_hand_interpolated_none_frames  \\\n",
       "0                           0.292776                                   7   \n",
       "1                           0.216821                                   0   \n",
       "2                           0.222293                                   0   \n",
       "3                           0.240169                                  25   \n",
       "4                           0.246769                                  13   \n",
       "\n",
       "   right_hand_interpolated_none_frames  \n",
       "0                                    6  \n",
       "1                                    0  \n",
       "2                                    0  \n",
       "3                                    9  \n",
       "4                                   12  "
      ]
     },
     "execution_count": 11,
     "metadata": {},
     "output_type": "execute_result"
    }
   ],
   "source": [
    "path_to_root = '/home/ben/projects/SaoPauloBrazilChapter_BrazilianSignLanguage/'\n",
    "\n",
    "timestamp = \"04242025\"\n",
    "motion_version = \"versionB\"\n",
    "pose_version = \"versionB\"\n",
    "preprocess_version = \"v4\"\n",
    "\n",
    "metadata = pd.read_csv(path_to_root + f\"data/preprocessed/landmarks_metadata_{preprocess_version}.csv\")\n",
    "metadata.head()\n"
   ]
  },
  {
   "cell_type": "code",
   "execution_count": null,
   "metadata": {},
   "outputs": [],
   "source": [
    "def nested_dict_to_df(nested_dict, prefix=''):\n",
    "    flat_dict = {}\n",
    "    \n",
    "    def flatten(d, parent_key=''):\n",
    "        for key, value in d.items():\n",
    "            new_key = f\"{parent_key}_{key}\" if parent_key else key\n",
    "            \n",
    "            if isinstance(value, dict):\n",
    "                flatten(value, new_key)\n",
    "            else:\n",
    "                flat_dict[new_key] = value\n",
    "    \n",
    "    flatten(nested_dict)\n",
    "    return pd.DataFrame([flat_dict])"
   ]
  },
  {
   "cell_type": "code",
   "execution_count": null,
   "metadata": {},
   "outputs": [],
   "source": [
    "analysis_info_list = []\n",
    "\n",
    "for i, row in metadata.iterrows():\n",
    "    fn = row[\"filename\"]\n",
    "    analysis_info_path = os.path.join(\n",
    "        path_to_root, \n",
    "        \"data\", \n",
    "        \"preprocessed\", \n",
    "        \"landmarks\",\n",
    "        preprocess_version,\n",
    "        \"individual_metadata\",\n",
    "        fn.replace(\"mp4\", \"json\")\n",
    "    )\n",
    "    if os.path.exists(analysis_info_path):\n",
    "        with open(analysis_info_path, \"r\") as f:\n",
    "            analysis_info_dict = json.load(f)\n",
    "    analysis_info_df = nested_dict_to_df(analysis_info_dict)\n",
    "    analysis_info_list.append(analysis_info_df)"
   ]
  },
  {
   "cell_type": "code",
   "execution_count": null,
   "metadata": {},
   "outputs": [],
   "source": [
    "analysis_info = pd.concat(analysis_info_list, axis = 0).sort_values(by = \"metadata_filename\", ascending = True, key = lambda x: x.str.split(\"_\").str[0] + x.str[-5]).reset_index(drop = True)"
   ]
  },
  {
   "cell_type": "markdown",
   "metadata": {},
   "source": [
    "# Dataset"
   ]
  },
  {
   "cell_type": "code",
   "execution_count": 265,
   "metadata": {},
   "outputs": [],
   "source": [
    "color_dict = {\n",
    "    'ne': 'dodgerblue',       # i\n",
    "    'sb': 'mediumorchid',     # s\n",
    "    'uf': 'darkorange',     # u\n",
    "    'vl': 'mediumseagreen',      # v\n",
    "}\n",
    "color_list = ['dodgerblue', 'mediumorchid', 'darkorange', 'mediumseagreen', 'mediumseagreen', 'mediumseagreen']\n",
    "color_list_rgb = [colors.to_rgb(color) for color in color_list]\n",
    "color_list_rgb_int = [(int(color[0]*255), int(color[1]*255), int(color[2]*255)) for color in color_list_rgb]\n",
    "data_source_list = ['INES', 'SignBank', 'UFV', 'V-Librasil', 'V-Librasil', 'V-Librasil']"
   ]
  },
  {
   "cell_type": "markdown",
   "metadata": {},
   "source": [
    "### Final Dataset"
   ]
  },
  {
   "cell_type": "markdown",
   "metadata": {},
   "source": [
    "Example of each video for a word"
   ]
  },
  {
   "cell_type": "code",
   "execution_count": 2,
   "metadata": {},
   "outputs": [],
   "source": [
    "word = 'banana'"
   ]
  },
  {
   "cell_type": "code",
   "execution_count": 17,
   "metadata": {},
   "outputs": [
    {
     "data": {
      "text/html": [
       "<div>\n",
       "<style scoped>\n",
       "    .dataframe tbody tr th:only-of-type {\n",
       "        vertical-align: middle;\n",
       "    }\n",
       "\n",
       "    .dataframe tbody tr th {\n",
       "        vertical-align: top;\n",
       "    }\n",
       "\n",
       "    .dataframe thead th {\n",
       "        text-align: right;\n",
       "    }\n",
       "</style>\n",
       "<table border=\"1\" class=\"dataframe\">\n",
       "  <thead>\n",
       "    <tr style=\"text-align: right;\">\n",
       "      <th></th>\n",
       "      <th>filename</th>\n",
       "      <th>filename_accented</th>\n",
       "      <th>label</th>\n",
       "      <th>label_accented</th>\n",
       "      <th>accented</th>\n",
       "      <th>data_source</th>\n",
       "      <th>original_fps</th>\n",
       "      <th>original_frame_count</th>\n",
       "      <th>original_duration_sec</th>\n",
       "      <th>start_frame</th>\n",
       "      <th>end_frame</th>\n",
       "      <th>processed_frame_count</th>\n",
       "      <th>processed_duration_sec</th>\n",
       "      <th>preprocess_version</th>\n",
       "      <th>face_width</th>\n",
       "      <th>shoulders_width</th>\n",
       "      <th>face_midpoint_to_shoulders_height</th>\n",
       "      <th>left_hand_interpolated_none_frames</th>\n",
       "      <th>right_hand_interpolated_none_frames</th>\n",
       "    </tr>\n",
       "  </thead>\n",
       "  <tbody>\n",
       "    <tr>\n",
       "      <th>24</th>\n",
       "      <td>banana_ne_1.mp4</td>\n",
       "      <td>banana_ne_1.mp4</td>\n",
       "      <td>banana</td>\n",
       "      <td>banana</td>\n",
       "      <td>False</td>\n",
       "      <td>ne</td>\n",
       "      <td>12.00000</td>\n",
       "      <td>51</td>\n",
       "      <td>4.250000</td>\n",
       "      <td>7</td>\n",
       "      <td>37</td>\n",
       "      <td>31</td>\n",
       "      <td>2.583333</td>\n",
       "      <td>v4</td>\n",
       "      <td>0.146253</td>\n",
       "      <td>0.335704</td>\n",
       "      <td>0.289209</td>\n",
       "      <td>9</td>\n",
       "      <td>10</td>\n",
       "    </tr>\n",
       "    <tr>\n",
       "      <th>25</th>\n",
       "      <td>banana_sb_2.mp4</td>\n",
       "      <td>banana_sb_2.mp4</td>\n",
       "      <td>banana</td>\n",
       "      <td>banana</td>\n",
       "      <td>False</td>\n",
       "      <td>sb</td>\n",
       "      <td>29.97003</td>\n",
       "      <td>71</td>\n",
       "      <td>2.369033</td>\n",
       "      <td>3</td>\n",
       "      <td>66</td>\n",
       "      <td>64</td>\n",
       "      <td>2.135467</td>\n",
       "      <td>v4</td>\n",
       "      <td>0.085460</td>\n",
       "      <td>0.204035</td>\n",
       "      <td>0.210855</td>\n",
       "      <td>0</td>\n",
       "      <td>1</td>\n",
       "    </tr>\n",
       "    <tr>\n",
       "      <th>26</th>\n",
       "      <td>banana_uf_3.mp4</td>\n",
       "      <td>banana_uf_3.mp4</td>\n",
       "      <td>banana</td>\n",
       "      <td>banana</td>\n",
       "      <td>False</td>\n",
       "      <td>uf</td>\n",
       "      <td>29.97003</td>\n",
       "      <td>246</td>\n",
       "      <td>8.208200</td>\n",
       "      <td>12</td>\n",
       "      <td>209</td>\n",
       "      <td>198</td>\n",
       "      <td>6.606600</td>\n",
       "      <td>v4</td>\n",
       "      <td>0.076263</td>\n",
       "      <td>0.174447</td>\n",
       "      <td>0.194980</td>\n",
       "      <td>3</td>\n",
       "      <td>0</td>\n",
       "    </tr>\n",
       "    <tr>\n",
       "      <th>27</th>\n",
       "      <td>banana_vl_4.mp4</td>\n",
       "      <td>banana_vl_4.mp4</td>\n",
       "      <td>banana</td>\n",
       "      <td>banana</td>\n",
       "      <td>False</td>\n",
       "      <td>vl</td>\n",
       "      <td>29.97000</td>\n",
       "      <td>168</td>\n",
       "      <td>5.605606</td>\n",
       "      <td>1</td>\n",
       "      <td>143</td>\n",
       "      <td>143</td>\n",
       "      <td>4.771438</td>\n",
       "      <td>v4</td>\n",
       "      <td>0.103197</td>\n",
       "      <td>0.236290</td>\n",
       "      <td>0.247538</td>\n",
       "      <td>1</td>\n",
       "      <td>16</td>\n",
       "    </tr>\n",
       "    <tr>\n",
       "      <th>28</th>\n",
       "      <td>banana_vl_5.mp4</td>\n",
       "      <td>banana_vl_5.mp4</td>\n",
       "      <td>banana</td>\n",
       "      <td>banana</td>\n",
       "      <td>False</td>\n",
       "      <td>vl</td>\n",
       "      <td>59.94006</td>\n",
       "      <td>378</td>\n",
       "      <td>6.306300</td>\n",
       "      <td>20</td>\n",
       "      <td>289</td>\n",
       "      <td>270</td>\n",
       "      <td>4.504500</td>\n",
       "      <td>v4</td>\n",
       "      <td>0.132493</td>\n",
       "      <td>0.285565</td>\n",
       "      <td>0.289806</td>\n",
       "      <td>0</td>\n",
       "      <td>1</td>\n",
       "    </tr>\n",
       "    <tr>\n",
       "      <th>29</th>\n",
       "      <td>banana_vl_6.mp4</td>\n",
       "      <td>banana_vl_6.mp4</td>\n",
       "      <td>banana</td>\n",
       "      <td>banana</td>\n",
       "      <td>False</td>\n",
       "      <td>vl</td>\n",
       "      <td>59.94006</td>\n",
       "      <td>355</td>\n",
       "      <td>5.922583</td>\n",
       "      <td>2</td>\n",
       "      <td>349</td>\n",
       "      <td>348</td>\n",
       "      <td>5.805800</td>\n",
       "      <td>v4</td>\n",
       "      <td>0.125241</td>\n",
       "      <td>0.284814</td>\n",
       "      <td>0.286766</td>\n",
       "      <td>12</td>\n",
       "      <td>16</td>\n",
       "    </tr>\n",
       "  </tbody>\n",
       "</table>\n",
       "</div>"
      ],
      "text/plain": [
       "           filename filename_accented   label label_accented  accented  \\\n",
       "24  banana_ne_1.mp4   banana_ne_1.mp4  banana         banana     False   \n",
       "25  banana_sb_2.mp4   banana_sb_2.mp4  banana         banana     False   \n",
       "26  banana_uf_3.mp4   banana_uf_3.mp4  banana         banana     False   \n",
       "27  banana_vl_4.mp4   banana_vl_4.mp4  banana         banana     False   \n",
       "28  banana_vl_5.mp4   banana_vl_5.mp4  banana         banana     False   \n",
       "29  banana_vl_6.mp4   banana_vl_6.mp4  banana         banana     False   \n",
       "\n",
       "   data_source  original_fps  original_frame_count  original_duration_sec  \\\n",
       "24          ne      12.00000                    51               4.250000   \n",
       "25          sb      29.97003                    71               2.369033   \n",
       "26          uf      29.97003                   246               8.208200   \n",
       "27          vl      29.97000                   168               5.605606   \n",
       "28          vl      59.94006                   378               6.306300   \n",
       "29          vl      59.94006                   355               5.922583   \n",
       "\n",
       "    start_frame  end_frame  processed_frame_count  processed_duration_sec  \\\n",
       "24            7         37                     31                2.583333   \n",
       "25            3         66                     64                2.135467   \n",
       "26           12        209                    198                6.606600   \n",
       "27            1        143                    143                4.771438   \n",
       "28           20        289                    270                4.504500   \n",
       "29            2        349                    348                5.805800   \n",
       "\n",
       "   preprocess_version  face_width  shoulders_width  \\\n",
       "24                 v4    0.146253         0.335704   \n",
       "25                 v4    0.085460         0.204035   \n",
       "26                 v4    0.076263         0.174447   \n",
       "27                 v4    0.103197         0.236290   \n",
       "28                 v4    0.132493         0.285565   \n",
       "29                 v4    0.125241         0.284814   \n",
       "\n",
       "    face_midpoint_to_shoulders_height  left_hand_interpolated_none_frames  \\\n",
       "24                           0.289209                                   9   \n",
       "25                           0.210855                                   0   \n",
       "26                           0.194980                                   3   \n",
       "27                           0.247538                                   1   \n",
       "28                           0.289806                                   0   \n",
       "29                           0.286766                                  12   \n",
       "\n",
       "    right_hand_interpolated_none_frames  \n",
       "24                                   10  \n",
       "25                                    1  \n",
       "26                                    0  \n",
       "27                                   16  \n",
       "28                                    1  \n",
       "29                                   16  "
      ]
     },
     "execution_count": 17,
     "metadata": {},
     "output_type": "execute_result"
    }
   ],
   "source": [
    "word_metadata = metadata[metadata['label'] == word]\n",
    "word_metadata"
   ]
  },
  {
   "cell_type": "code",
   "execution_count": 20,
   "metadata": {},
   "outputs": [
    {
     "data": {
      "text/plain": [
       "('/home/ben/projects/SaoPauloBrazilChapter_BrazilianSignLanguage/data/interim/RawCleanVideos/banana_ne_1.mp4',\n",
       " '/home/ben/projects/SaoPauloBrazilChapter_BrazilianSignLanguage/data/interim/RawCleanVideos/banana_sb_2.mp4',\n",
       " '/home/ben/projects/SaoPauloBrazilChapter_BrazilianSignLanguage/data/interim/RawCleanVideos/banana_uf_3.mp4',\n",
       " '/home/ben/projects/SaoPauloBrazilChapter_BrazilianSignLanguage/data/interim/RawCleanVideos/banana_vl_4.mp4',\n",
       " '/home/ben/projects/SaoPauloBrazilChapter_BrazilianSignLanguage/data/interim/RawCleanVideos/banana_vl_5.mp4',\n",
       " '/home/ben/projects/SaoPauloBrazilChapter_BrazilianSignLanguage/data/interim/RawCleanVideos/banana_vl_6.mp4')"
      ]
     },
     "execution_count": 20,
     "metadata": {},
     "output_type": "execute_result"
    }
   ],
   "source": [
    "ne1_path, sb2_path, uf3_path, vl4_path, vl5_path, vl6_path = [os.path.join(path_to_root, 'data', 'interim', 'RawCleanVideos', fn) for fn in word_metadata['filename']]\n",
    "ne1_path, sb2_path, uf3_path, vl4_path, vl5_path, vl6_path"
   ]
  },
  {
   "cell_type": "code",
   "execution_count": 24,
   "metadata": {},
   "outputs": [],
   "source": [
    "ne1_frame, sb2_frame, uf3_frame, vl4_frame, vl5_frame, vl6_frame = [get_frame(1, path) for path in [ne1_path, sb2_path, uf3_path, vl4_path, vl5_path, vl6_path]]\n",
    "frames = [ne1_frame, sb2_frame, uf3_frame, vl4_frame, vl5_frame, vl6_frame]"
   ]
  },
  {
   "cell_type": "code",
   "execution_count": 48,
   "metadata": {},
   "outputs": [
    {
     "data": {
      "text/plain": [
       "[(176, 240),\n",
       " (1080, 1920),\n",
       " (1080, 1920),\n",
       " (1080, 1920),\n",
       " (720, 1280),\n",
       " (1080, 1920)]"
      ]
     },
     "execution_count": 48,
     "metadata": {},
     "output_type": "execute_result"
    }
   ],
   "source": [
    "[(frame.shape[0],frame.shape[1]) for frame in frames]"
   ]
  },
  {
   "cell_type": "code",
   "execution_count": 51,
   "metadata": {},
   "outputs": [
    {
     "data": {
      "text/plain": [
       "(1.7777777777777777, 1.7777777777777777, 1.3636363636363635)"
      ]
     },
     "execution_count": 51,
     "metadata": {},
     "output_type": "execute_result"
    }
   ],
   "source": [
    "1920/1080, 1280/720, 240/176"
   ]
  },
  {
   "cell_type": "code",
   "execution_count": 60,
   "metadata": {},
   "outputs": [
    {
     "data": {
      "text/plain": [
       "1.7784090909090908"
      ]
     },
     "execution_count": 60,
     "metadata": {},
     "output_type": "execute_result"
    }
   ],
   "source": [
    "313/176"
   ]
  },
  {
   "cell_type": "code",
   "execution_count": 58,
   "metadata": {},
   "outputs": [
    {
     "data": {
      "text/plain": [
       "1.7777777777777777"
      ]
     },
     "execution_count": 58,
     "metadata": {},
     "output_type": "execute_result"
    }
   ],
   "source": [
    "240/135"
   ]
  },
  {
   "cell_type": "code",
   "execution_count": 263,
   "metadata": {},
   "outputs": [],
   "source": [
    "def all_signs_for_word(frames):\n",
    "    \"\"\"\n",
    "    Concatenate all frames for a word.\n",
    "    \"\"\"\n",
    "    font = cv2.FONT_HERSHEY_TRIPLEX\n",
    "\n",
    "    # find the largest frame\n",
    "    max_area_index = np.argmax([frame.shape[0] * frame.shape[1] for frame in frames])\n",
    "    max_area_frame = frames[max_area_index]\n",
    "    target_height = max_area_frame.shape[0]\n",
    "    target_width = max_area_frame.shape[1]\n",
    "    target_aspect_ratio = target_width / target_height\n",
    "    # pad frames to the target aspect ratio\n",
    "    final_frames = []\n",
    "    for i, frame in enumerate(frames):\n",
    "        aspect_ratio = frame.shape[1] / frame.shape[0]\n",
    "\n",
    "        if aspect_ratio < target_aspect_ratio:\n",
    "            padded_width = int(frame.shape[0] * target_aspect_ratio)\n",
    "            padding_width = (padded_width - frame.shape[1]) // 2\n",
    "            padded_frame = cv2.copyMakeBorder(frame, 0, 0, padding_width, padding_width, cv2.BORDER_CONSTANT, value=(0, 0, 0))\n",
    "        else:\n",
    "            padded_frame = frame.copy()\n",
    "\n",
    "        resized_frame = cv2.resize(padded_frame, (target_width, target_height))\n",
    "        color = color_list_rgb_int[i]\n",
    "        bordered_frame = cv2.copyMakeBorder(resized_frame, 50, 50, 50, 50, cv2.BORDER_CONSTANT, value=color)\n",
    "        \n",
    "        annotated_frame = cv2.copyMakeBorder(bordered_frame, 0, 300, 0, 0, cv2.BORDER_CONSTANT, value=(255, 255, 255))\n",
    "        data_source = data_source_list[i]\n",
    "        font_size = 6\n",
    "        font_thickness = 5\n",
    "        textsize = cv2.getTextSize(data_source, font, font_size, font_thickness)[0]\n",
    "        text_x = (target_width - textsize[0]) // 2\n",
    "        annotated_frame = cv2.putText(annotated_frame, data_source, (text_x, 1400), font, font_size, (0, 0, 0), font_thickness)\n",
    "\n",
    "        final_frames.append(annotated_frame)\n",
    "\n",
    "        if i < len(frames) - 1:\n",
    "            gap = np.full((target_height + 400, 250, 3), 255, dtype=np.uint8)\n",
    "            final_frames.append(gap)\n",
    "\n",
    "    print([frame.shape for frame in final_frames])\n",
    "    # concatenate the frames\n",
    "    new_frame = np.concatenate(final_frames, axis=1)\n",
    "    new_frame = cv2.copyMakeBorder(new_frame, 600, 100, 300, 300, cv2.BORDER_CONSTANT, value=(255, 255, 255))\n",
    "    word = \"'banana'\"\n",
    "    font_size = 10\n",
    "    font_thickness = 15\n",
    "    textsize = cv2.getTextSize(word, font, font_size, font_thickness)[0]\n",
    "    text_x = (new_frame.shape[1] - textsize[0]) // 2\n",
    "    new_frame = cv2.putText(new_frame, word, (text_x, 400), font, font_size, (0, 0, 0), font_thickness)\n",
    "\n",
    "    return new_frame"
   ]
  },
  {
   "cell_type": "code",
   "execution_count": 264,
   "metadata": {},
   "outputs": [
    {
     "name": "stdout",
     "output_type": "stream",
     "text": [
      "[(1480, 2020, 3), (1480, 250, 3), (1480, 2020, 3), (1480, 250, 3), (1480, 2020, 3), (1480, 250, 3), (1480, 2020, 3), (1480, 250, 3), (1480, 2020, 3), (1480, 250, 3), (1480, 2020, 3)]\n"
     ]
    },
    {
     "data": {
      "text/plain": [
       "<matplotlib.image.AxesImage at 0x7f1ac310b1d0>"
      ]
     },
     "execution_count": 264,
     "metadata": {},
     "output_type": "execute_result"
    },
    {
     "data": {
      "image/png": "[encoded data removed]",
      "text/plain": [
       "<Figure size 2000x1000 with 1 Axes>"
      ]
     },
     "metadata": {},
     "output_type": "display_data"
    }
   ],
   "source": [
    "new_frame = all_signs_for_word(frames)\n",
    "plt.figure(figsize=(20, 10))\n",
    "plt.imshow(new_frame)\n",
    "# plt.axis('off')"
   ]
  },
  {
   "cell_type": "code",
   "execution_count": 267,
   "metadata": {},
   "outputs": [
    {
     "data": {
      "text/plain": [
       "True"
      ]
     },
     "execution_count": 267,
     "metadata": {},
     "output_type": "execute_result"
    }
   ],
   "source": [
    "cv2.imwrite('new_frame.png', cv2.cvtColor(new_frame, cv2.COLOR_BGR2RGB))"
   ]
  },
  {
   "cell_type": "markdown",
   "metadata": {},
   "source": []
  },
  {
   "cell_type": "markdown",
   "metadata": {},
   "source": [
    "### Dimensions & FPS"
   ]
  },
  {
   "cell_type": "code",
   "execution_count": null,
   "metadata": {},
   "outputs": [],
   "source": []
  },
  {
   "cell_type": "markdown",
   "metadata": {},
   "source": [
    "### Durations"
   ]
  },
  {
   "cell_type": "code",
   "execution_count": null,
   "metadata": {},
   "outputs": [],
   "source": []
  },
  {
   "cell_type": "markdown",
   "metadata": {},
   "source": [
    "# Preprocessing"
   ]
  },
  {
   "cell_type": "markdown",
   "metadata": {},
   "source": [
    "### Pose - MediaPipe"
   ]
  },
  {
   "cell_type": "code",
   "execution_count": null,
   "metadata": {},
   "outputs": [],
   "source": []
  },
  {
   "cell_type": "markdown",
   "metadata": {},
   "source": [
    "### Motion Detection Measurement Methods"
   ]
  },
  {
   "cell_type": "code",
   "execution_count": null,
   "metadata": {},
   "outputs": [],
   "source": []
  },
  {
   "cell_type": "markdown",
   "metadata": {},
   "source": [
    "### Motion Start & End Frame Methods"
   ]
  },
  {
   "cell_type": "code",
   "execution_count": null,
   "metadata": {},
   "outputs": [],
   "source": []
  },
  {
   "cell_type": "markdown",
   "metadata": {},
   "source": [
    "### Scaling & Alignment"
   ]
  },
  {
   "cell_type": "code",
   "execution_count": null,
   "metadata": {},
   "outputs": [],
   "source": []
  },
  {
   "cell_type": "markdown",
   "metadata": {},
   "source": [
    "### Interpolation"
   ]
  },
  {
   "cell_type": "code",
   "execution_count": null,
   "metadata": {},
   "outputs": [],
   "source": []
  },
  {
   "cell_type": "markdown",
   "metadata": {},
   "source": [
    "### Summary"
   ]
  },
  {
   "cell_type": "code",
   "execution_count": null,
   "metadata": {},
   "outputs": [],
   "source": []
  },
  {
   "cell_type": "markdown",
   "metadata": {},
   "source": [
    "# Modelling"
   ]
  },
  {
   "cell_type": "markdown",
   "metadata": {},
   "source": [
    "### Train / Test Split"
   ]
  },
  {
   "cell_type": "code",
   "execution_count": null,
   "metadata": {},
   "outputs": [],
   "source": []
  },
  {
   "cell_type": "markdown",
   "metadata": {},
   "source": [
    "### Frame Sampling"
   ]
  },
  {
   "cell_type": "code",
   "execution_count": null,
   "metadata": {},
   "outputs": [],
   "source": []
  },
  {
   "cell_type": "markdown",
   "metadata": {},
   "source": [
    "### Cross Validation Split (StratifiedGroupKFold)"
   ]
  },
  {
   "cell_type": "code",
   "execution_count": null,
   "metadata": {},
   "outputs": [],
   "source": []
  },
  {
   "cell_type": "markdown",
   "metadata": {},
   "source": [
    "### Data Augmentation"
   ]
  },
  {
   "cell_type": "code",
   "execution_count": null,
   "metadata": {},
   "outputs": [],
   "source": []
  }
 ],
 "metadata": {
  "kernelspec": {
   "display_name": ".venv",
   "language": "python",
   "name": "python3"
  },
  "language_info": {
   "codemirror_mode": {
    "name": "ipython",
    "version": 3
   },
   "file_extension": ".py",
   "mimetype": "text/x-python",
   "name": "python",
   "nbconvert_exporter": "python",
   "pygments_lexer": "ipython3",
   "version": "3.11.8"
  }
 },
 "nbformat": 4,
 "nbformat_minor": 2
}
