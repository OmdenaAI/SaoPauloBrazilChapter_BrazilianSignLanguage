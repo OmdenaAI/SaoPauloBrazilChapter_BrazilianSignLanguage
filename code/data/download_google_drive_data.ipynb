{
 "cells": [
  {
   "cell_type": "code",
   "execution_count": 1,
   "metadata": {},
   "outputs": [],
   "source": [
    "import gdown\n",
    "import zipfile\n",
    "import os"
   ]
  },
  {
   "cell_type": "code",
   "execution_count": 3,
   "metadata": {},
   "outputs": [
    {
     "data": {
      "text/plain": [
       "'/home/ben/projects/SaoPauloBrazilChapter_BrazilianSignLanguage/code/data'"
      ]
     },
     "execution_count": 3,
     "metadata": {},
     "output_type": "execute_result"
    }
   ],
   "source": [
    "os.getcwd()"
   ]
  },
  {
   "cell_type": "code",
   "execution_count": 5,
   "metadata": {},
   "outputs": [],
   "source": [
    "# set working directory to your SaoPauloBrazilChapter_BrazilianSignLanguage root directory\n",
    "os.chdir('../..')"
   ]
  },
  {
   "cell_type": "code",
   "execution_count": 6,
   "metadata": {},
   "outputs": [
    {
     "data": {
      "text/plain": [
       "'/home/ben/projects/SaoPauloBrazilChapter_BrazilianSignLanguage'"
      ]
     },
     "execution_count": 6,
     "metadata": {},
     "output_type": "execute_result"
    }
   ],
   "source": [
    "os.getcwd()"
   ]
  },
  {
   "cell_type": "code",
   "execution_count": 7,
   "metadata": {},
   "outputs": [],
   "source": [
    "def download_and_unzip(folder_id, dest_dir):\n",
    "    # Create the destination directory if it doesn't exist\n",
    "    os.makedirs(dest_dir, exist_ok=True)\n",
    "\n",
    "    # Download the folder as a ZIP file\n",
    "    zip_path = os.path.join(dest_dir, \"downloaded_folder.zip\")\n",
    "    gdown.download_folder(f\"https://drive.google.com/drive/folders/{folder_id}\", output=zip_path, quiet=False)\n",
    "\n",
    "    # Unzip the folder\n",
    "    with zipfile.ZipFile(zip_path, \"r\") as zip_ref:\n",
    "        zip_ref.extractall(dest_dir)\n",
    "\n",
    "    # Remove the ZIP file after extraction\n",
    "    os.remove(zip_path)\n",
    "    print(f\"Folder downloaded and extracted to: {dest_dir}\")"
   ]
  },
  {
   "cell_type": "markdown",
   "metadata": {},
   "source": [
    "### data/raw/combined\n",
    "**Needed if you want the original videos of the target dataset**\n",
    "\n",
    "Contains:\n",
    "- videos (folder with all the raw videos downloaded for the target dataset)\n",
    "    - ajudar_ne_1.mp4\n",
    "    - ajudar_sb_2.mp4\n",
    "    - ...\n",
    "- metadata_combined.csv (metadata for all the videos in the combined dataset)\n",
    "- target_dataset_video_metadata.csv (metadata for the target dataset only)"
   ]
  },
  {
   "cell_type": "code",
   "execution_count": null,
   "metadata": {},
   "outputs": [],
   "source": [
    "folder_id = '1-_Z7000000000000000000000000000000000000000'\n",
    "dest_dir = 'data/raw/combined'\n",
    "download_and_unzip(folder_id, dest_dir)"
   ]
  },
  {
   "cell_type": "markdown",
   "metadata": {},
   "source": [
    "### data/interim\n",
    "**Needed if you want to work on the pre-processing task**\n",
    "\n",
    "Contains:\n",
    "- ."
   ]
  },
  {
   "cell_type": "code",
   "execution_count": null,
   "metadata": {},
   "outputs": [],
   "source": [
    "folder_id = '1-_Z7000000000000000000000000000000000000000'\n",
    "dest_dir = 'data/interim'\n",
    "download_and_unzip(folder_id, dest_dir)"
   ]
  },
  {
   "cell_type": "markdown",
   "metadata": {},
   "source": [
    "### data/processed\n",
    "**Needed if you want to work on the modelling task**\n",
    "\n",
    "Contains:\n",
    "- ."
   ]
  },
  {
   "cell_type": "code",
   "execution_count": null,
   "metadata": {},
   "outputs": [],
   "source": [
    "folder_id = '1-_Z7000000000000000000000000000000000000000'\n",
    "dest_dir = 'data/processed'\n",
    "download_and_unzip(folder_id, dest_dir)"
   ]
  }
 ],
 "metadata": {
  "kernelspec": {
   "display_name": ".venv",
   "language": "python",
   "name": "python3"
  },
  "language_info": {
   "codemirror_mode": {
    "name": "ipython",
    "version": 3
   },
   "file_extension": ".py",
   "mimetype": "text/x-python",
   "name": "python",
   "nbconvert_exporter": "python",
   "pygments_lexer": "ipython3",
   "version": "3.11.8"
  }
 },
 "nbformat": 4,
 "nbformat_minor": 2
}
