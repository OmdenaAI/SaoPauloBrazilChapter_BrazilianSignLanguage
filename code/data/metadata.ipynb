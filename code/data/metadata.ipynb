{
 "cells": [
  {
   "cell_type": "markdown",
   "metadata": {},
   "source": [
    "# Metadata\n",
    "- This notebook is for processing the various information scraped and combining it into one `metadata.csv`\n",
    "- For each data source, the file will be stored at `data/raw/{data source}/metadata.csv`"
   ]
  },
  {
   "cell_type": "code",
   "execution_count": 1,
   "metadata": {},
   "outputs": [],
   "source": [
    "import pandas as pd\n",
    "from tqdm import tqdm\n",
    "tqdm.pandas()\n",
    "from multiprocessing import Pool\n",
    "import os\n",
    "import requests"
   ]
  },
  {
   "cell_type": "code",
   "execution_count": 2,
   "metadata": {},
   "outputs": [
    {
     "data": {
      "text/plain": [
       "'/Users/gustavosantos/code/omdena/SaoPauloBrazilChapter_BrazilianSignLanguage'"
      ]
     },
     "execution_count": 2,
     "metadata": {},
     "output_type": "execute_result"
    }
   ],
   "source": [
    "# change working directory to the project root directory\n",
    "current_dir = os.getcwd()\n",
    "os.chdir(current_dir + '/../../')\n",
    "# this should be the project root directory\n",
    "os.getcwd()"
   ]
  },
  {
   "cell_type": "markdown",
   "metadata": {},
   "source": [
    "## INES\n",
    "\n",
    "- Uses the existing columns in `INES_Metadata.csv`\n",
    "- checks if the video file exists or not\n",
    "- adds the column `file_exists`"
   ]
  },
  {
   "cell_type": "markdown",
   "metadata": {},
   "source": [
    "Load the `INES_metadata.csv` to get the Video URLs"
   ]
  },
  {
   "cell_type": "code",
   "execution_count": 101,
   "metadata": {},
   "outputs": [
    {
     "data": {
      "text/html": [
       "<div>\n",
       "<style scoped>\n",
       "    .dataframe tbody tr th:only-of-type {\n",
       "        vertical-align: middle;\n",
       "    }\n",
       "\n",
       "    .dataframe tbody tr th {\n",
       "        vertical-align: top;\n",
       "    }\n",
       "\n",
       "    .dataframe thead th {\n",
       "        text-align: right;\n",
       "    }\n",
       "</style>\n",
       "<table border=\"1\" class=\"dataframe\">\n",
       "  <thead>\n",
       "    <tr style=\"text-align: right;\">\n",
       "      <th></th>\n",
       "      <th>Letter</th>\n",
       "      <th>Word</th>\n",
       "      <th>Video URL</th>\n",
       "      <th>Image URL</th>\n",
       "      <th>Assuntos</th>\n",
       "      <th>Acepção</th>\n",
       "      <th>Exemplo</th>\n",
       "      <th>Exemplo Libras</th>\n",
       "      <th>Classe Gramatical</th>\n",
       "      <th>Origem</th>\n",
       "    </tr>\n",
       "  </thead>\n",
       "  <tbody>\n",
       "    <tr>\n",
       "      <th>0</th>\n",
       "      <td>A</td>\n",
       "      <td>A</td>\n",
       "      <td>https://www.ines.gov.br/dicionario-de-libras/p...</td>\n",
       "      <td>https://www.ines.gov.br/https://www.ines.gov.b...</td>\n",
       "      <td>NENHUM</td>\n",
       "      <td>Primeira letra do alfabeto da língua portugues...</td>\n",
       "      <td>Invente qualquer palavra que comece com a letr...</td>\n",
       "      <td>VOCÊ INVENTAR QUALQUER PALAVRA COMEÇAR A.</td>\n",
       "      <td>SUBSTANTIVO</td>\n",
       "      <td>Nacional</td>\n",
       "    </tr>\n",
       "    <tr>\n",
       "      <th>1</th>\n",
       "      <td>A</td>\n",
       "      <td>ABACATE</td>\n",
       "      <td>https://www.ines.gov.br/dicionario-de-libras/p...</td>\n",
       "      <td>https://www.ines.gov.br/https://www.ines.gov.b...</td>\n",
       "      <td>FRUTA</td>\n",
       "      <td>O fruto do abacateiro. Comestível, tem a polpa...</td>\n",
       "      <td>Você gosta de abacate com leite?</td>\n",
       "      <td>VOCÊ GOSTAR ABACATE LEITE JUNTO?</td>\n",
       "      <td>SUBSTANTIVO</td>\n",
       "      <td>Nacional</td>\n",
       "    </tr>\n",
       "    <tr>\n",
       "      <th>2</th>\n",
       "      <td>A</td>\n",
       "      <td>ABACAXI</td>\n",
       "      <td>https://www.ines.gov.br/dicionario-de-libras/p...</td>\n",
       "      <td>https://www.ines.gov.br/https://www.ines.gov.b...</td>\n",
       "      <td>FRUTA</td>\n",
       "      <td>Fruta de casca grossa e áspera. Sua polpa pode...</td>\n",
       "      <td>Hoje tomei suco de abacaxi, ele estava ácido.</td>\n",
       "      <td>HOJE S-U-C-O ABACAXI BEBER ÁCID@.</td>\n",
       "      <td>SUBSTANTIVO</td>\n",
       "      <td>Nacional</td>\n",
       "    </tr>\n",
       "    <tr>\n",
       "      <th>3</th>\n",
       "      <td>A</td>\n",
       "      <td>ABAFAR</td>\n",
       "      <td>https://www.ines.gov.br/dicionario-de-libras/p...</td>\n",
       "      <td>https://www.ines.gov.br/https://www.ines.gov.b...</td>\n",
       "      <td>NENHUM</td>\n",
       "      <td>Cobrir ou fechar, para manter o calor.</td>\n",
       "      <td>Se você quer abafar seu quarto, é melhor fecha...</td>\n",
       "      <td>S-I VOCÊ QUERER QUARTO SE@ ABAFAR A-R? MELHOR ...</td>\n",
       "      <td>VERBO</td>\n",
       "      <td>Nacional</td>\n",
       "    </tr>\n",
       "    <tr>\n",
       "      <th>4</th>\n",
       "      <td>A</td>\n",
       "      <td>ABAIXO</td>\n",
       "      <td>https://www.ines.gov.br/dicionario-de-libras/p...</td>\n",
       "      <td>https://www.ines.gov.br/https://www.ines.gov.b...</td>\n",
       "      <td>NENHUM</td>\n",
       "      <td>Lugar, posição ou situação inferior, em relaçã...</td>\n",
       "      <td>Não é no primeiro apartamento abaixo, é no seg...</td>\n",
       "      <td>APARTAMENTO PRIMEIR@ NÃO SEGUND@ ABAIXO.</td>\n",
       "      <td>ADV.</td>\n",
       "      <td>Nacional</td>\n",
       "    </tr>\n",
       "  </tbody>\n",
       "</table>\n",
       "</div>"
      ],
      "text/plain": [
       "  Letter     Word                                          Video URL  \\\n",
       "0      A        A  https://www.ines.gov.br/dicionario-de-libras/p...   \n",
       "1      A  ABACATE  https://www.ines.gov.br/dicionario-de-libras/p...   \n",
       "2      A  ABACAXI  https://www.ines.gov.br/dicionario-de-libras/p...   \n",
       "3      A   ABAFAR  https://www.ines.gov.br/dicionario-de-libras/p...   \n",
       "4      A   ABAIXO  https://www.ines.gov.br/dicionario-de-libras/p...   \n",
       "\n",
       "                                           Image URL Assuntos  \\\n",
       "0  https://www.ines.gov.br/https://www.ines.gov.b...   NENHUM   \n",
       "1  https://www.ines.gov.br/https://www.ines.gov.b...    FRUTA   \n",
       "2  https://www.ines.gov.br/https://www.ines.gov.b...    FRUTA   \n",
       "3  https://www.ines.gov.br/https://www.ines.gov.b...   NENHUM   \n",
       "4  https://www.ines.gov.br/https://www.ines.gov.b...   NENHUM   \n",
       "\n",
       "                                             Acepção  \\\n",
       "0  Primeira letra do alfabeto da língua portugues...   \n",
       "1  O fruto do abacateiro. Comestível, tem a polpa...   \n",
       "2  Fruta de casca grossa e áspera. Sua polpa pode...   \n",
       "3             Cobrir ou fechar, para manter o calor.   \n",
       "4  Lugar, posição ou situação inferior, em relaçã...   \n",
       "\n",
       "                                             Exemplo  \\\n",
       "0  Invente qualquer palavra que comece com a letr...   \n",
       "1                   Você gosta de abacate com leite?   \n",
       "2      Hoje tomei suco de abacaxi, ele estava ácido.   \n",
       "3  Se você quer abafar seu quarto, é melhor fecha...   \n",
       "4  Não é no primeiro apartamento abaixo, é no seg...   \n",
       "\n",
       "                                      Exemplo Libras Classe Gramatical  \\\n",
       "0          VOCÊ INVENTAR QUALQUER PALAVRA COMEÇAR A.       SUBSTANTIVO   \n",
       "1                   VOCÊ GOSTAR ABACATE LEITE JUNTO?       SUBSTANTIVO   \n",
       "2                  HOJE S-U-C-O ABACAXI BEBER ÁCID@.       SUBSTANTIVO   \n",
       "3  S-I VOCÊ QUERER QUARTO SE@ ABAFAR A-R? MELHOR ...             VERBO   \n",
       "4           APARTAMENTO PRIMEIR@ NÃO SEGUND@ ABAIXO.              ADV.   \n",
       "\n",
       "     Origem  \n",
       "0  Nacional  \n",
       "1  Nacional  \n",
       "2  Nacional  \n",
       "3  Nacional  \n",
       "4  Nacional  "
      ]
     },
     "execution_count": 101,
     "metadata": {},
     "output_type": "execute_result"
    }
   ],
   "source": [
    "ines_csv = pd.read_csv('data/raw/INES/INES_Metadata.csv')\n",
    "ines_csv.head()"
   ]
  },
  {
   "cell_type": "markdown",
   "metadata": {},
   "source": [
    "Find a difference in response between URLs for words that have/don't have a video file "
   ]
  },
  {
   "cell_type": "code",
   "execution_count": 43,
   "metadata": {},
   "outputs": [
    {
     "data": {
      "text/plain": [
       "'text/html;charset=utf-8'"
      ]
     },
     "execution_count": 43,
     "metadata": {},
     "output_type": "execute_result"
    }
   ],
   "source": [
    "# invalid url\n",
    "invalid = 'https://www.ines.gov.br/dicionario-de-libras/public/media/palavras/videos/baba1Sm_Prog001.mp4'\n",
    "response = requests.get(invalid, stream=True)\n",
    "response.headers['Content-Type']"
   ]
  },
  {
   "cell_type": "code",
   "execution_count": 44,
   "metadata": {},
   "outputs": [
    {
     "data": {
      "text/plain": [
       "'video/mp4'"
      ]
     },
     "execution_count": 44,
     "metadata": {},
     "output_type": "execute_result"
    }
   ],
   "source": [
    "# valid url\n",
    "valid = 'https://www.ines.gov.br/dicionario-de-libras/public/media/palavras/videos/babadorSm_Prog001.mp4'\n",
    "response = requests.get(valid, stream=True)\n",
    "response.headers['Content-Type']"
   ]
  },
  {
   "cell_type": "markdown",
   "metadata": {},
   "source": [
    "This takes a while to run since it checks every URL, so just get the info from `video_file_exists.csv` or `metadata.csv`\n",
    "\n",
    "*(took X minutes on Ben's PC/connection)*"
   ]
  },
  {
   "cell_type": "code",
   "execution_count": 45,
   "metadata": {},
   "outputs": [],
   "source": [
    "import asyncio\n",
    "import aiohttp\n",
    "import random\n",
    "from aiohttp import ClientConnectorError, ClientTimeout"
   ]
  },
  {
   "cell_type": "code",
   "execution_count": 46,
   "metadata": {},
   "outputs": [],
   "source": [
    "video_urls = ines_csv['Video URL'].tolist()\n",
    "\n",
    "file_exists = []"
   ]
  },
  {
   "cell_type": "code",
   "execution_count": 47,
   "metadata": {},
   "outputs": [
    {
     "name": "stdout",
     "output_type": "stream",
     "text": [
      "Starting to check 5819 URLs...\n",
      "Progress: 5.0% (291/5819 URLs checked)\n",
      "Progress: 10.0% (582/5819 URLs checked)\n",
      "Progress: 15.0% (873/5819 URLs checked)\n",
      "Progress: 20.0% (1164/5819 URLs checked)\n",
      "Progress: 25.0% (1455/5819 URLs checked)\n",
      "Progress: 30.0% (1746/5819 URLs checked)\n",
      "Progress: 35.0% (2037/5819 URLs checked)\n",
      "Progress: 40.0% (2328/5819 URLs checked)\n",
      "Progress: 45.0% (2619/5819 URLs checked)\n",
      "Progress: 50.0% (2910/5819 URLs checked)\n",
      "Progress: 55.0% (3201/5819 URLs checked)\n",
      "Progress: 60.0% (3492/5819 URLs checked)\n",
      "Progress: 65.0% (3783/5819 URLs checked)\n",
      "Progress: 70.0% (4074/5819 URLs checked)\n",
      "Progress: 75.0% (4365/5819 URLs checked)\n",
      "Progress: 80.0% (4656/5819 URLs checked)\n",
      "Progress: 85.0% (4947/5819 URLs checked)\n",
      "\n",
      "Retrying URL 4734/5819 (attempt 2/5)\n",
      "\n",
      "Retrying URL 4827/5819 (attempt 2/5)\n",
      "Progress: 90.0% (5238/5819 URLs checked)\n",
      "Progress: 95.0% (5529/5819 URLs checked)\n",
      "Progress: 100.0% (5819/5819 URLs checked)\n",
      "\n",
      "Finished checking URLs. Found 5468 existing videos out of 5819\n"
     ]
    }
   ],
   "source": [
    "# Limit concurrent requests\n",
    "MAX_CONCURRENT = 20  # Reduce this if still getting errors\n",
    "RETRY_COUNT = 5     # Increased from 3\n",
    "\n",
    "async def check_url(url, index, total, semaphore, retry_count=RETRY_COUNT):\n",
    "    timeout = ClientTimeout(total=30)\n",
    "    \n",
    "    async with semaphore:  # Control concurrent requests\n",
    "        for attempt in range(retry_count):\n",
    "            try:\n",
    "                # Longer delay between requests\n",
    "                await asyncio.sleep(random.uniform(0.5, 1.0))\n",
    "                \n",
    "                async with aiohttp.ClientSession(timeout=timeout) as session:\n",
    "                    async with session.get(url) as response:\n",
    "                        exists = response.headers['Content-Type'] == 'video/mp4'\n",
    "                        percent = (index + 1) / total * 100\n",
    "                        if percent % 5 < (1 / total * 100):\n",
    "                            print(f\"Progress: {percent:.1f}% ({index + 1}/{total} URLs checked)\")\n",
    "                        return exists\n",
    "                        \n",
    "            except (ClientConnectorError, asyncio.TimeoutError) as e:\n",
    "                if attempt == retry_count - 1:  # Last attempt\n",
    "                    print(f\"\\nFailed to check URL after {retry_count} attempts: {url}\\nError: {str(e)}\")\n",
    "                    return False\n",
    "                print(f\"\\nRetrying URL {index + 1}/{total} (attempt {attempt + 2}/{retry_count})\")\n",
    "                # Longer wait between retries\n",
    "                await asyncio.sleep(random.uniform(2, 3))\n",
    "            except Exception as e:\n",
    "                print(f\"\\nUnexpected error for URL {index + 1}/{total}: {str(e)}\")\n",
    "                return False\n",
    "\n",
    "async def check_all_urls(urls):\n",
    "    total = len(urls)\n",
    "    print(f\"Starting to check {total} URLs...\")\n",
    "    \n",
    "    # Create semaphore to limit concurrent requests\n",
    "    semaphore = asyncio.Semaphore(MAX_CONCURRENT)\n",
    "    \n",
    "    tasks = [check_url(url, i, total, semaphore) for i, url in enumerate(urls)]\n",
    "    results = await asyncio.gather(*tasks, return_exceptions=True)\n",
    "    \n",
    "    # Filter out any exceptions and count successes\n",
    "    valid_results = [r for r in results if isinstance(r, bool)]\n",
    "    exists_count = sum(1 for r in valid_results if r)\n",
    "    \n",
    "    print(f\"\\nFinished checking URLs. Found {exists_count} existing videos out of {total}\")\n",
    "    return results\n",
    "\n",
    "# Use it with:\n",
    "file_exists = await check_all_urls(video_urls)"
   ]
  },
  {
   "cell_type": "code",
   "execution_count": 88,
   "metadata": {},
   "outputs": [
    {
     "data": {
      "text/plain": [
       "5819"
      ]
     },
     "execution_count": 88,
     "metadata": {},
     "output_type": "execute_result"
    }
   ],
   "source": [
    "len(file_exists)"
   ]
  },
  {
   "cell_type": "markdown",
   "metadata": {},
   "source": [
    "Save this as `video_file_exists.csv` so that if `metadata.csv` is overwritten, we don't lose this info"
   ]
  },
  {
   "cell_type": "code",
   "execution_count": 89,
   "metadata": {},
   "outputs": [],
   "source": [
    "file_exists_df = ines_csv[['Word', 'Video URL']].copy()\n",
    "file_exists_df.rename(columns={'Word':'label','Video URL': 'video_url'}, inplace=True)\n",
    "file_exists_df['file_exists'] = file_exists\n",
    "\n",
    "file_exists_df.to_csv('data/raw/INES/video_file_exists.csv', index=False)"
   ]
  },
  {
   "cell_type": "markdown",
   "metadata": {},
   "source": [
    "Make `metadata_df` using the already saved `video_file_exists.csv` to avoid running the requests code again"
   ]
  },
  {
   "cell_type": "code",
   "execution_count": 130,
   "metadata": {},
   "outputs": [],
   "source": [
    "ines_csv = pd.read_csv('data/raw/INES/INES_Metadata.csv')\n",
    "ines_csv.columns = ines_csv.columns.str.lower()\n",
    "ines_csv.rename(columns={'word':'label', 'video url':'video_url'}, inplace=True)\n",
    "ines_csv.drop(columns=['image url'], inplace=True)"
   ]
  },
  {
   "cell_type": "code",
   "execution_count": 131,
   "metadata": {},
   "outputs": [],
   "source": [
    "file_exists_df = pd.read_csv('data/raw/INES/video_file_exists.csv')"
   ]
  },
  {
   "cell_type": "code",
   "execution_count": 132,
   "metadata": {},
   "outputs": [
    {
     "data": {
      "text/plain": [
       "((5819, 3), (5819, 9))"
      ]
     },
     "execution_count": 132,
     "metadata": {},
     "output_type": "execute_result"
    }
   ],
   "source": [
    "file_exists_df.shape, ines_csv.shape"
   ]
  },
  {
   "cell_type": "code",
   "execution_count": 133,
   "metadata": {},
   "outputs": [
    {
     "data": {
      "text/plain": [
       "(5819, 5819)"
      ]
     },
     "execution_count": 133,
     "metadata": {},
     "output_type": "execute_result"
    }
   ],
   "source": [
    "(file_exists_df.label == ines_csv.label).sum(), (file_exists_df.video_url == ines_csv.video_url).sum()"
   ]
  },
  {
   "cell_type": "code",
   "execution_count": 134,
   "metadata": {},
   "outputs": [],
   "source": [
    "metadata_df = pd.concat([ines_csv, file_exists_df.drop(['label', 'video_url'], axis=1)], axis=1)"
   ]
  },
  {
   "cell_type": "code",
   "execution_count": 135,
   "metadata": {},
   "outputs": [
    {
     "data": {
      "text/plain": [
       "Index(['letter', 'label', 'video_url', 'assuntos', 'acepção', 'exemplo',\n",
       "       'exemplo libras', 'classe gramatical', 'origem', 'file_exists'],\n",
       "      dtype='object')"
      ]
     },
     "execution_count": 135,
     "metadata": {},
     "output_type": "execute_result"
    }
   ],
   "source": [
    "metadata_df.columns"
   ]
  },
  {
   "cell_type": "code",
   "execution_count": 137,
   "metadata": {},
   "outputs": [],
   "source": [
    "# Save the metadata.csv file\n",
    "metadata_df[\n",
    "    ['label', 'video_url', 'file_exists', 'letter', 'assuntos', 'acepção', 'exemplo', 'exemplo libras', 'classe gramatical', 'origem',]\n",
    "       ].to_csv('data/raw/INES/metadata.csv', index=False)"
   ]
  },
  {
   "cell_type": "code",
   "execution_count": 139,
   "metadata": {},
   "outputs": [
    {
     "data": {
      "text/plain": [
       "file_exists\n",
       "True     5468\n",
       "False     351\n",
       "Name: count, dtype: int64"
      ]
     },
     "execution_count": 139,
     "metadata": {},
     "output_type": "execute_result"
    }
   ],
   "source": [
    "metadata_df.file_exists.value_counts()"
   ]
  },
  {
   "cell_type": "markdown",
   "metadata": {},
   "source": [
    "## V-Librasil\n",
    "\n",
    "- Uses the existing information in `v_librasil_words_n_links.txt`\n",
    "- Uses the links to each word's page\n",
    "- Collects the video file links for each interpreter\n",
    "- Combines it into a `.csv` file"
   ]
  },
  {
   "cell_type": "markdown",
   "metadata": {},
   "source": [
    "#### Fixing `v_librasil_words_n_links.txt`"
   ]
  },
  {
   "cell_type": "code",
   "execution_count": 3,
   "metadata": {},
   "outputs": [],
   "source": [
    "# load .txt file as a string\n",
    "words_and_links = open('data/raw/V-Librasil/words/v_librasil_words_n_links.txt', 'r').read()\n",
    "words_and_links = words_and_links.split('\\n')"
   ]
  },
  {
   "cell_type": "code",
   "execution_count": 4,
   "metadata": {},
   "outputs": [],
   "source": [
    "# one line had two lines combined\n",
    "for line in words_and_links:\n",
    "    if len(line.split('https://')) > 2:\n",
    "        print(line)"
   ]
  },
  {
   "cell_type": "code",
   "execution_count": 5,
   "metadata": {},
   "outputs": [
    {
     "name": "stdout",
     "output_type": "stream",
     "text": [
      "Bigode https://libras.cin.ufpe.br/sign/826\n",
      "Bilhão https://libras.cin.ufpe.br/sign/105\n"
     ]
    }
   ],
   "source": [
    "# i edited the file directly to fix it\n",
    "# load .txt file as a string\n",
    "words_and_links = open('data/raw/V-Librasil/words/v_librasil_words_n_links.txt', 'r').read()\n",
    "words_and_links = words_and_links.split('\\n')\n",
    "\n",
    "# one line had two lines combined\n",
    "for line in words_and_links:\n",
    "    if 'Bigode' in line:\n",
    "        print(line)\n",
    "    if 'Bilhão' in line:\n",
    "        print(line)"
   ]
  },
  {
   "cell_type": "markdown",
   "metadata": {},
   "source": [
    "#### Making `metadata.csv`"
   ]
  },
  {
   "cell_type": "markdown",
   "metadata": {},
   "source": [
    "turning `v_librasil_words_n_links.txt` into a DataFrame"
   ]
  },
  {
   "cell_type": "code",
   "execution_count": 6,
   "metadata": {},
   "outputs": [
    {
     "data": {
      "application/vnd.microsoft.datawrangler.viewer.v0+json": {
       "columns": [
        {
         "name": "index",
         "rawType": "int64",
         "type": "integer"
        },
        {
         "name": "label",
         "rawType": "object",
         "type": "string"
        },
        {
         "name": "sign_url",
         "rawType": "object",
         "type": "string"
        }
       ],
       "conversionMethod": "pd.DataFrame",
       "ref": "7661308a-13e3-4569-bff2-47b604b9eb1a",
       "rows": [
        [
         "0",
         "À noite toda ",
         "https://libras.cin.ufpe.br/sign/885"
        ],
        [
         "1",
         "À tarde toda ",
         "https://libras.cin.ufpe.br/sign/100"
        ],
        [
         "2",
         "Abacaxi ",
         "https://libras.cin.ufpe.br/sign/817"
        ],
        [
         "3",
         "Abanar ",
         "https://libras.cin.ufpe.br/sign/1536"
        ],
        [
         "4",
         "Abandonar ",
         "https://libras.cin.ufpe.br/sign/71"
        ]
       ],
       "shape": {
        "columns": 2,
        "rows": 5
       }
      },
      "text/html": [
       "<div>\n",
       "<style scoped>\n",
       "    .dataframe tbody tr th:only-of-type {\n",
       "        vertical-align: middle;\n",
       "    }\n",
       "\n",
       "    .dataframe tbody tr th {\n",
       "        vertical-align: top;\n",
       "    }\n",
       "\n",
       "    .dataframe thead th {\n",
       "        text-align: right;\n",
       "    }\n",
       "</style>\n",
       "<table border=\"1\" class=\"dataframe\">\n",
       "  <thead>\n",
       "    <tr style=\"text-align: right;\">\n",
       "      <th></th>\n",
       "      <th>label</th>\n",
       "      <th>sign_url</th>\n",
       "    </tr>\n",
       "  </thead>\n",
       "  <tbody>\n",
       "    <tr>\n",
       "      <th>0</th>\n",
       "      <td>À noite toda</td>\n",
       "      <td>https://libras.cin.ufpe.br/sign/885</td>\n",
       "    </tr>\n",
       "    <tr>\n",
       "      <th>1</th>\n",
       "      <td>À tarde toda</td>\n",
       "      <td>https://libras.cin.ufpe.br/sign/100</td>\n",
       "    </tr>\n",
       "    <tr>\n",
       "      <th>2</th>\n",
       "      <td>Abacaxi</td>\n",
       "      <td>https://libras.cin.ufpe.br/sign/817</td>\n",
       "    </tr>\n",
       "    <tr>\n",
       "      <th>3</th>\n",
       "      <td>Abanar</td>\n",
       "      <td>https://libras.cin.ufpe.br/sign/1536</td>\n",
       "    </tr>\n",
       "    <tr>\n",
       "      <th>4</th>\n",
       "      <td>Abandonar</td>\n",
       "      <td>https://libras.cin.ufpe.br/sign/71</td>\n",
       "    </tr>\n",
       "  </tbody>\n",
       "</table>\n",
       "</div>"
      ],
      "text/plain": [
       "           label                              sign_url\n",
       "0  À noite toda    https://libras.cin.ufpe.br/sign/885\n",
       "1  À tarde toda    https://libras.cin.ufpe.br/sign/100\n",
       "2       Abacaxi    https://libras.cin.ufpe.br/sign/817\n",
       "3        Abanar   https://libras.cin.ufpe.br/sign/1536\n",
       "4     Abandonar     https://libras.cin.ufpe.br/sign/71"
      ]
     },
     "execution_count": 6,
     "metadata": {},
     "output_type": "execute_result"
    }
   ],
   "source": [
    "words_and_links = pd.read_csv('data/raw/V-Librasil/words/v_librasil_words_n_links.txt', sep='https', header=None, engine='python')\n",
    "words_and_links.columns = ['label', 'sign_url']\n",
    "words_and_links.sign_url = words_and_links.sign_url.apply(lambda x: 'https' + x)\n",
    "words_and_links.head()"
   ]
  },
  {
   "cell_type": "markdown",
   "metadata": {},
   "source": [
    "getting video URLs (~3 for each sign)"
   ]
  },
  {
   "cell_type": "code",
   "execution_count": 7,
   "metadata": {},
   "outputs": [],
   "source": [
    "from bs4 import BeautifulSoup\n",
    "\n",
    "def get_video_urls(url):\n",
    "    response = requests.get(url)\n",
    "\n",
    "    if response.status_code == 200:\n",
    "        video_links = []\n",
    "        signer_numbers = []\n",
    "        signer_order = ''\n",
    "        html = response.content\n",
    "        soup = BeautifulSoup(html, 'html.parser')\n",
    "        \n",
    "        # go inside div class container\n",
    "        container = soup.find('section', class_='page-section').find('div', class_='container')\n",
    "        # go inside div class row\n",
    "        rows = [child for child in container.children if child.name == 'div']\n",
    "\n",
    "        # get the video and signer number\n",
    "        for row in rows:\n",
    "            signer_number = row.find('h2').text.strip().split(' ')[1]\n",
    "            link = row.find('source').get('src')\n",
    "            video_links.append(link)\n",
    "            signer_numbers.append(signer_number)\n",
    "            signer_order += signer_number\n",
    "        return video_links, signer_numbers, signer_order\n",
    "\n",
    "    else:\n",
    "        print(f\"Response code != 200, Failed to get video URLs for {link}\")\n",
    "        return None"
   ]
  },
  {
   "cell_type": "code",
   "execution_count": 8,
   "metadata": {},
   "outputs": [
    {
     "name": "stderr",
     "output_type": "stream",
     "text": [
      "  4%|▍         | 53/1364 [00:30<12:36,  1.73it/s]\n"
     ]
    },
    {
     "ename": "KeyboardInterrupt",
     "evalue": "",
     "output_type": "error",
     "traceback": [
      "\u001b[0;31m---------------------------------------------------------------------------\u001b[0m",
      "\u001b[0;31mKeyboardInterrupt\u001b[0m                         Traceback (most recent call last)",
      "Cell \u001b[0;32mIn[8], line 1\u001b[0m\n\u001b[0;32m----> 1\u001b[0m words_and_links[\u001b[38;5;124m'\u001b[39m\u001b[38;5;124mall_video_info\u001b[39m\u001b[38;5;124m'\u001b[39m] \u001b[38;5;241m=\u001b[39m \u001b[43mwords_and_links\u001b[49m\u001b[43m[\u001b[49m\u001b[38;5;124;43m'\u001b[39;49m\u001b[38;5;124;43msign_url\u001b[39;49m\u001b[38;5;124;43m'\u001b[39;49m\u001b[43m]\u001b[49m\u001b[38;5;241;43m.\u001b[39;49m\u001b[43mprogress_apply\u001b[49m\u001b[43m(\u001b[49m\u001b[43mget_video_urls\u001b[49m\u001b[43m)\u001b[49m\n",
      "File \u001b[0;32m~/code/omdena/SaoPauloBrazilChapter_BrazilianSignLanguage/.venv/lib/python3.11/site-packages/tqdm/std.py:917\u001b[0m, in \u001b[0;36mtqdm.pandas.<locals>.inner_generator.<locals>.inner\u001b[0;34m(df, func, *args, **kwargs)\u001b[0m\n\u001b[1;32m    914\u001b[0m \u001b[38;5;66;03m# Apply the provided function (in **kwargs)\u001b[39;00m\n\u001b[1;32m    915\u001b[0m \u001b[38;5;66;03m# on the df using our wrapper (which provides bar updating)\u001b[39;00m\n\u001b[1;32m    916\u001b[0m \u001b[38;5;28;01mtry\u001b[39;00m:\n\u001b[0;32m--> 917\u001b[0m     \u001b[38;5;28;01mreturn\u001b[39;00m \u001b[38;5;28;43mgetattr\u001b[39;49m\u001b[43m(\u001b[49m\u001b[43mdf\u001b[49m\u001b[43m,\u001b[49m\u001b[43m \u001b[49m\u001b[43mdf_function\u001b[49m\u001b[43m)\u001b[49m\u001b[43m(\u001b[49m\u001b[43mwrapper\u001b[49m\u001b[43m,\u001b[49m\u001b[43m \u001b[49m\u001b[38;5;241;43m*\u001b[39;49m\u001b[38;5;241;43m*\u001b[39;49m\u001b[43mkwargs\u001b[49m\u001b[43m)\u001b[49m\n\u001b[1;32m    918\u001b[0m \u001b[38;5;28;01mfinally\u001b[39;00m:\n\u001b[1;32m    919\u001b[0m     t\u001b[38;5;241m.\u001b[39mclose()\n",
      "File \u001b[0;32m~/code/omdena/SaoPauloBrazilChapter_BrazilianSignLanguage/.venv/lib/python3.11/site-packages/pandas/core/series.py:4924\u001b[0m, in \u001b[0;36mSeries.apply\u001b[0;34m(self, func, convert_dtype, args, by_row, **kwargs)\u001b[0m\n\u001b[1;32m   4789\u001b[0m \u001b[38;5;28;01mdef\u001b[39;00m\u001b[38;5;250m \u001b[39m\u001b[38;5;21mapply\u001b[39m(\n\u001b[1;32m   4790\u001b[0m     \u001b[38;5;28mself\u001b[39m,\n\u001b[1;32m   4791\u001b[0m     func: AggFuncType,\n\u001b[0;32m   (...)\u001b[0m\n\u001b[1;32m   4796\u001b[0m     \u001b[38;5;241m*\u001b[39m\u001b[38;5;241m*\u001b[39mkwargs,\n\u001b[1;32m   4797\u001b[0m ) \u001b[38;5;241m-\u001b[39m\u001b[38;5;241m>\u001b[39m DataFrame \u001b[38;5;241m|\u001b[39m Series:\n\u001b[1;32m   4798\u001b[0m \u001b[38;5;250m    \u001b[39m\u001b[38;5;124;03m\"\"\"\u001b[39;00m\n\u001b[1;32m   4799\u001b[0m \u001b[38;5;124;03m    Invoke function on values of Series.\u001b[39;00m\n\u001b[1;32m   4800\u001b[0m \n\u001b[0;32m   (...)\u001b[0m\n\u001b[1;32m   4915\u001b[0m \u001b[38;5;124;03m    dtype: float64\u001b[39;00m\n\u001b[1;32m   4916\u001b[0m \u001b[38;5;124;03m    \"\"\"\u001b[39;00m\n\u001b[1;32m   4917\u001b[0m     \u001b[38;5;28;01mreturn\u001b[39;00m \u001b[43mSeriesApply\u001b[49m\u001b[43m(\u001b[49m\n\u001b[1;32m   4918\u001b[0m \u001b[43m        \u001b[49m\u001b[38;5;28;43mself\u001b[39;49m\u001b[43m,\u001b[49m\n\u001b[1;32m   4919\u001b[0m \u001b[43m        \u001b[49m\u001b[43mfunc\u001b[49m\u001b[43m,\u001b[49m\n\u001b[1;32m   4920\u001b[0m \u001b[43m        \u001b[49m\u001b[43mconvert_dtype\u001b[49m\u001b[38;5;241;43m=\u001b[39;49m\u001b[43mconvert_dtype\u001b[49m\u001b[43m,\u001b[49m\n\u001b[1;32m   4921\u001b[0m \u001b[43m        \u001b[49m\u001b[43mby_row\u001b[49m\u001b[38;5;241;43m=\u001b[39;49m\u001b[43mby_row\u001b[49m\u001b[43m,\u001b[49m\n\u001b[1;32m   4922\u001b[0m \u001b[43m        \u001b[49m\u001b[43margs\u001b[49m\u001b[38;5;241;43m=\u001b[39;49m\u001b[43margs\u001b[49m\u001b[43m,\u001b[49m\n\u001b[1;32m   4923\u001b[0m \u001b[43m        \u001b[49m\u001b[43mkwargs\u001b[49m\u001b[38;5;241;43m=\u001b[39;49m\u001b[43mkwargs\u001b[49m\u001b[43m,\u001b[49m\n\u001b[0;32m-> 4924\u001b[0m \u001b[43m    \u001b[49m\u001b[43m)\u001b[49m\u001b[38;5;241;43m.\u001b[39;49m\u001b[43mapply\u001b[49m\u001b[43m(\u001b[49m\u001b[43m)\u001b[49m\n",
      "File \u001b[0;32m~/code/omdena/SaoPauloBrazilChapter_BrazilianSignLanguage/.venv/lib/python3.11/site-packages/pandas/core/apply.py:1427\u001b[0m, in \u001b[0;36mSeriesApply.apply\u001b[0;34m(self)\u001b[0m\n\u001b[1;32m   1424\u001b[0m     \u001b[38;5;28;01mreturn\u001b[39;00m \u001b[38;5;28mself\u001b[39m\u001b[38;5;241m.\u001b[39mapply_compat()\n\u001b[1;32m   1426\u001b[0m \u001b[38;5;66;03m# self.func is Callable\u001b[39;00m\n\u001b[0;32m-> 1427\u001b[0m \u001b[38;5;28;01mreturn\u001b[39;00m \u001b[38;5;28;43mself\u001b[39;49m\u001b[38;5;241;43m.\u001b[39;49m\u001b[43mapply_standard\u001b[49m\u001b[43m(\u001b[49m\u001b[43m)\u001b[49m\n",
      "File \u001b[0;32m~/code/omdena/SaoPauloBrazilChapter_BrazilianSignLanguage/.venv/lib/python3.11/site-packages/pandas/core/apply.py:1507\u001b[0m, in \u001b[0;36mSeriesApply.apply_standard\u001b[0;34m(self)\u001b[0m\n\u001b[1;32m   1501\u001b[0m \u001b[38;5;66;03m# row-wise access\u001b[39;00m\n\u001b[1;32m   1502\u001b[0m \u001b[38;5;66;03m# apply doesn't have a `na_action` keyword and for backward compat reasons\u001b[39;00m\n\u001b[1;32m   1503\u001b[0m \u001b[38;5;66;03m# we need to give `na_action=\"ignore\"` for categorical data.\u001b[39;00m\n\u001b[1;32m   1504\u001b[0m \u001b[38;5;66;03m# TODO: remove the `na_action=\"ignore\"` when that default has been changed in\u001b[39;00m\n\u001b[1;32m   1505\u001b[0m \u001b[38;5;66;03m#  Categorical (GH51645).\u001b[39;00m\n\u001b[1;32m   1506\u001b[0m action \u001b[38;5;241m=\u001b[39m \u001b[38;5;124m\"\u001b[39m\u001b[38;5;124mignore\u001b[39m\u001b[38;5;124m\"\u001b[39m \u001b[38;5;28;01mif\u001b[39;00m \u001b[38;5;28misinstance\u001b[39m(obj\u001b[38;5;241m.\u001b[39mdtype, CategoricalDtype) \u001b[38;5;28;01melse\u001b[39;00m \u001b[38;5;28;01mNone\u001b[39;00m\n\u001b[0;32m-> 1507\u001b[0m mapped \u001b[38;5;241m=\u001b[39m \u001b[43mobj\u001b[49m\u001b[38;5;241;43m.\u001b[39;49m\u001b[43m_map_values\u001b[49m\u001b[43m(\u001b[49m\n\u001b[1;32m   1508\u001b[0m \u001b[43m    \u001b[49m\u001b[43mmapper\u001b[49m\u001b[38;5;241;43m=\u001b[39;49m\u001b[43mcurried\u001b[49m\u001b[43m,\u001b[49m\u001b[43m \u001b[49m\u001b[43mna_action\u001b[49m\u001b[38;5;241;43m=\u001b[39;49m\u001b[43maction\u001b[49m\u001b[43m,\u001b[49m\u001b[43m \u001b[49m\u001b[43mconvert\u001b[49m\u001b[38;5;241;43m=\u001b[39;49m\u001b[38;5;28;43mself\u001b[39;49m\u001b[38;5;241;43m.\u001b[39;49m\u001b[43mconvert_dtype\u001b[49m\n\u001b[1;32m   1509\u001b[0m \u001b[43m\u001b[49m\u001b[43m)\u001b[49m\n\u001b[1;32m   1511\u001b[0m \u001b[38;5;28;01mif\u001b[39;00m \u001b[38;5;28mlen\u001b[39m(mapped) \u001b[38;5;129;01mand\u001b[39;00m \u001b[38;5;28misinstance\u001b[39m(mapped[\u001b[38;5;241m0\u001b[39m], ABCSeries):\n\u001b[1;32m   1512\u001b[0m     \u001b[38;5;66;03m# GH#43986 Need to do list(mapped) in order to get treated as nested\u001b[39;00m\n\u001b[1;32m   1513\u001b[0m     \u001b[38;5;66;03m#  See also GH#25959 regarding EA support\u001b[39;00m\n\u001b[1;32m   1514\u001b[0m     \u001b[38;5;28;01mreturn\u001b[39;00m obj\u001b[38;5;241m.\u001b[39m_constructor_expanddim(\u001b[38;5;28mlist\u001b[39m(mapped), index\u001b[38;5;241m=\u001b[39mobj\u001b[38;5;241m.\u001b[39mindex)\n",
      "File \u001b[0;32m~/code/omdena/SaoPauloBrazilChapter_BrazilianSignLanguage/.venv/lib/python3.11/site-packages/pandas/core/base.py:921\u001b[0m, in \u001b[0;36mIndexOpsMixin._map_values\u001b[0;34m(self, mapper, na_action, convert)\u001b[0m\n\u001b[1;32m    918\u001b[0m \u001b[38;5;28;01mif\u001b[39;00m \u001b[38;5;28misinstance\u001b[39m(arr, ExtensionArray):\n\u001b[1;32m    919\u001b[0m     \u001b[38;5;28;01mreturn\u001b[39;00m arr\u001b[38;5;241m.\u001b[39mmap(mapper, na_action\u001b[38;5;241m=\u001b[39mna_action)\n\u001b[0;32m--> 921\u001b[0m \u001b[38;5;28;01mreturn\u001b[39;00m \u001b[43malgorithms\u001b[49m\u001b[38;5;241;43m.\u001b[39;49m\u001b[43mmap_array\u001b[49m\u001b[43m(\u001b[49m\u001b[43marr\u001b[49m\u001b[43m,\u001b[49m\u001b[43m \u001b[49m\u001b[43mmapper\u001b[49m\u001b[43m,\u001b[49m\u001b[43m \u001b[49m\u001b[43mna_action\u001b[49m\u001b[38;5;241;43m=\u001b[39;49m\u001b[43mna_action\u001b[49m\u001b[43m,\u001b[49m\u001b[43m \u001b[49m\u001b[43mconvert\u001b[49m\u001b[38;5;241;43m=\u001b[39;49m\u001b[43mconvert\u001b[49m\u001b[43m)\u001b[49m\n",
      "File \u001b[0;32m~/code/omdena/SaoPauloBrazilChapter_BrazilianSignLanguage/.venv/lib/python3.11/site-packages/pandas/core/algorithms.py:1743\u001b[0m, in \u001b[0;36mmap_array\u001b[0;34m(arr, mapper, na_action, convert)\u001b[0m\n\u001b[1;32m   1741\u001b[0m values \u001b[38;5;241m=\u001b[39m arr\u001b[38;5;241m.\u001b[39mastype(\u001b[38;5;28mobject\u001b[39m, copy\u001b[38;5;241m=\u001b[39m\u001b[38;5;28;01mFalse\u001b[39;00m)\n\u001b[1;32m   1742\u001b[0m \u001b[38;5;28;01mif\u001b[39;00m na_action \u001b[38;5;129;01mis\u001b[39;00m \u001b[38;5;28;01mNone\u001b[39;00m:\n\u001b[0;32m-> 1743\u001b[0m     \u001b[38;5;28;01mreturn\u001b[39;00m \u001b[43mlib\u001b[49m\u001b[38;5;241;43m.\u001b[39;49m\u001b[43mmap_infer\u001b[49m\u001b[43m(\u001b[49m\u001b[43mvalues\u001b[49m\u001b[43m,\u001b[49m\u001b[43m \u001b[49m\u001b[43mmapper\u001b[49m\u001b[43m,\u001b[49m\u001b[43m \u001b[49m\u001b[43mconvert\u001b[49m\u001b[38;5;241;43m=\u001b[39;49m\u001b[43mconvert\u001b[49m\u001b[43m)\u001b[49m\n\u001b[1;32m   1744\u001b[0m \u001b[38;5;28;01melse\u001b[39;00m:\n\u001b[1;32m   1745\u001b[0m     \u001b[38;5;28;01mreturn\u001b[39;00m lib\u001b[38;5;241m.\u001b[39mmap_infer_mask(\n\u001b[1;32m   1746\u001b[0m         values, mapper, mask\u001b[38;5;241m=\u001b[39misna(values)\u001b[38;5;241m.\u001b[39mview(np\u001b[38;5;241m.\u001b[39muint8), convert\u001b[38;5;241m=\u001b[39mconvert\n\u001b[1;32m   1747\u001b[0m     )\n",
      "File \u001b[0;32mlib.pyx:2972\u001b[0m, in \u001b[0;36mpandas._libs.lib.map_infer\u001b[0;34m()\u001b[0m\n",
      "File \u001b[0;32m~/code/omdena/SaoPauloBrazilChapter_BrazilianSignLanguage/.venv/lib/python3.11/site-packages/tqdm/std.py:912\u001b[0m, in \u001b[0;36mtqdm.pandas.<locals>.inner_generator.<locals>.inner.<locals>.wrapper\u001b[0;34m(*args, **kwargs)\u001b[0m\n\u001b[1;32m    906\u001b[0m \u001b[38;5;28;01mdef\u001b[39;00m\u001b[38;5;250m \u001b[39m\u001b[38;5;21mwrapper\u001b[39m(\u001b[38;5;241m*\u001b[39margs, \u001b[38;5;241m*\u001b[39m\u001b[38;5;241m*\u001b[39mkwargs):\n\u001b[1;32m    907\u001b[0m     \u001b[38;5;66;03m# update tbar correctly\u001b[39;00m\n\u001b[1;32m    908\u001b[0m     \u001b[38;5;66;03m# it seems `pandas apply` calls `func` twice\u001b[39;00m\n\u001b[1;32m    909\u001b[0m     \u001b[38;5;66;03m# on the first column/row to decide whether it can\u001b[39;00m\n\u001b[1;32m    910\u001b[0m     \u001b[38;5;66;03m# take a fast or slow code path; so stop when t.total==t.n\u001b[39;00m\n\u001b[1;32m    911\u001b[0m     t\u001b[38;5;241m.\u001b[39mupdate(n\u001b[38;5;241m=\u001b[39m\u001b[38;5;241m1\u001b[39m \u001b[38;5;28;01mif\u001b[39;00m \u001b[38;5;129;01mnot\u001b[39;00m t\u001b[38;5;241m.\u001b[39mtotal \u001b[38;5;129;01mor\u001b[39;00m t\u001b[38;5;241m.\u001b[39mn \u001b[38;5;241m<\u001b[39m t\u001b[38;5;241m.\u001b[39mtotal \u001b[38;5;28;01melse\u001b[39;00m \u001b[38;5;241m0\u001b[39m)\n\u001b[0;32m--> 912\u001b[0m     \u001b[38;5;28;01mreturn\u001b[39;00m \u001b[43mfunc\u001b[49m\u001b[43m(\u001b[49m\u001b[38;5;241;43m*\u001b[39;49m\u001b[43margs\u001b[49m\u001b[43m,\u001b[49m\u001b[43m \u001b[49m\u001b[38;5;241;43m*\u001b[39;49m\u001b[38;5;241;43m*\u001b[39;49m\u001b[43mkwargs\u001b[49m\u001b[43m)\u001b[49m\n",
      "Cell \u001b[0;32mIn[7], line 4\u001b[0m, in \u001b[0;36mget_video_urls\u001b[0;34m(url)\u001b[0m\n\u001b[1;32m      3\u001b[0m \u001b[38;5;28;01mdef\u001b[39;00m\u001b[38;5;250m \u001b[39m\u001b[38;5;21mget_video_urls\u001b[39m(url):\n\u001b[0;32m----> 4\u001b[0m     response \u001b[38;5;241m=\u001b[39m \u001b[43mrequests\u001b[49m\u001b[38;5;241;43m.\u001b[39;49m\u001b[43mget\u001b[49m\u001b[43m(\u001b[49m\u001b[43murl\u001b[49m\u001b[43m)\u001b[49m\n\u001b[1;32m      6\u001b[0m     \u001b[38;5;28;01mif\u001b[39;00m response\u001b[38;5;241m.\u001b[39mstatus_code \u001b[38;5;241m==\u001b[39m \u001b[38;5;241m200\u001b[39m:\n\u001b[1;32m      7\u001b[0m         video_links \u001b[38;5;241m=\u001b[39m []\n",
      "File \u001b[0;32m~/code/omdena/SaoPauloBrazilChapter_BrazilianSignLanguage/.venv/lib/python3.11/site-packages/requests/api.py:73\u001b[0m, in \u001b[0;36mget\u001b[0;34m(url, params, **kwargs)\u001b[0m\n\u001b[1;32m     62\u001b[0m \u001b[38;5;28;01mdef\u001b[39;00m\u001b[38;5;250m \u001b[39m\u001b[38;5;21mget\u001b[39m(url, params\u001b[38;5;241m=\u001b[39m\u001b[38;5;28;01mNone\u001b[39;00m, \u001b[38;5;241m*\u001b[39m\u001b[38;5;241m*\u001b[39mkwargs):\n\u001b[1;32m     63\u001b[0m \u001b[38;5;250m    \u001b[39m\u001b[38;5;124mr\u001b[39m\u001b[38;5;124;03m\"\"\"Sends a GET request.\u001b[39;00m\n\u001b[1;32m     64\u001b[0m \n\u001b[1;32m     65\u001b[0m \u001b[38;5;124;03m    :param url: URL for the new :class:`Request` object.\u001b[39;00m\n\u001b[0;32m   (...)\u001b[0m\n\u001b[1;32m     70\u001b[0m \u001b[38;5;124;03m    :rtype: requests.Response\u001b[39;00m\n\u001b[1;32m     71\u001b[0m \u001b[38;5;124;03m    \"\"\"\u001b[39;00m\n\u001b[0;32m---> 73\u001b[0m     \u001b[38;5;28;01mreturn\u001b[39;00m \u001b[43mrequest\u001b[49m\u001b[43m(\u001b[49m\u001b[38;5;124;43m\"\u001b[39;49m\u001b[38;5;124;43mget\u001b[39;49m\u001b[38;5;124;43m\"\u001b[39;49m\u001b[43m,\u001b[49m\u001b[43m \u001b[49m\u001b[43murl\u001b[49m\u001b[43m,\u001b[49m\u001b[43m \u001b[49m\u001b[43mparams\u001b[49m\u001b[38;5;241;43m=\u001b[39;49m\u001b[43mparams\u001b[49m\u001b[43m,\u001b[49m\u001b[43m \u001b[49m\u001b[38;5;241;43m*\u001b[39;49m\u001b[38;5;241;43m*\u001b[39;49m\u001b[43mkwargs\u001b[49m\u001b[43m)\u001b[49m\n",
      "File \u001b[0;32m~/code/omdena/SaoPauloBrazilChapter_BrazilianSignLanguage/.venv/lib/python3.11/site-packages/requests/api.py:59\u001b[0m, in \u001b[0;36mrequest\u001b[0;34m(method, url, **kwargs)\u001b[0m\n\u001b[1;32m     55\u001b[0m \u001b[38;5;66;03m# By using the 'with' statement we are sure the session is closed, thus we\u001b[39;00m\n\u001b[1;32m     56\u001b[0m \u001b[38;5;66;03m# avoid leaving sockets open which can trigger a ResourceWarning in some\u001b[39;00m\n\u001b[1;32m     57\u001b[0m \u001b[38;5;66;03m# cases, and look like a memory leak in others.\u001b[39;00m\n\u001b[1;32m     58\u001b[0m \u001b[38;5;28;01mwith\u001b[39;00m sessions\u001b[38;5;241m.\u001b[39mSession() \u001b[38;5;28;01mas\u001b[39;00m session:\n\u001b[0;32m---> 59\u001b[0m     \u001b[38;5;28;01mreturn\u001b[39;00m \u001b[43msession\u001b[49m\u001b[38;5;241;43m.\u001b[39;49m\u001b[43mrequest\u001b[49m\u001b[43m(\u001b[49m\u001b[43mmethod\u001b[49m\u001b[38;5;241;43m=\u001b[39;49m\u001b[43mmethod\u001b[49m\u001b[43m,\u001b[49m\u001b[43m \u001b[49m\u001b[43murl\u001b[49m\u001b[38;5;241;43m=\u001b[39;49m\u001b[43murl\u001b[49m\u001b[43m,\u001b[49m\u001b[43m \u001b[49m\u001b[38;5;241;43m*\u001b[39;49m\u001b[38;5;241;43m*\u001b[39;49m\u001b[43mkwargs\u001b[49m\u001b[43m)\u001b[49m\n",
      "File \u001b[0;32m~/code/omdena/SaoPauloBrazilChapter_BrazilianSignLanguage/.venv/lib/python3.11/site-packages/requests/sessions.py:589\u001b[0m, in \u001b[0;36mSession.request\u001b[0;34m(self, method, url, params, data, headers, cookies, files, auth, timeout, allow_redirects, proxies, hooks, stream, verify, cert, json)\u001b[0m\n\u001b[1;32m    584\u001b[0m send_kwargs \u001b[38;5;241m=\u001b[39m {\n\u001b[1;32m    585\u001b[0m     \u001b[38;5;124m\"\u001b[39m\u001b[38;5;124mtimeout\u001b[39m\u001b[38;5;124m\"\u001b[39m: timeout,\n\u001b[1;32m    586\u001b[0m     \u001b[38;5;124m\"\u001b[39m\u001b[38;5;124mallow_redirects\u001b[39m\u001b[38;5;124m\"\u001b[39m: allow_redirects,\n\u001b[1;32m    587\u001b[0m }\n\u001b[1;32m    588\u001b[0m send_kwargs\u001b[38;5;241m.\u001b[39mupdate(settings)\n\u001b[0;32m--> 589\u001b[0m resp \u001b[38;5;241m=\u001b[39m \u001b[38;5;28;43mself\u001b[39;49m\u001b[38;5;241;43m.\u001b[39;49m\u001b[43msend\u001b[49m\u001b[43m(\u001b[49m\u001b[43mprep\u001b[49m\u001b[43m,\u001b[49m\u001b[43m \u001b[49m\u001b[38;5;241;43m*\u001b[39;49m\u001b[38;5;241;43m*\u001b[39;49m\u001b[43msend_kwargs\u001b[49m\u001b[43m)\u001b[49m\n\u001b[1;32m    591\u001b[0m \u001b[38;5;28;01mreturn\u001b[39;00m resp\n",
      "File \u001b[0;32m~/code/omdena/SaoPauloBrazilChapter_BrazilianSignLanguage/.venv/lib/python3.11/site-packages/requests/sessions.py:703\u001b[0m, in \u001b[0;36mSession.send\u001b[0;34m(self, request, **kwargs)\u001b[0m\n\u001b[1;32m    700\u001b[0m start \u001b[38;5;241m=\u001b[39m preferred_clock()\n\u001b[1;32m    702\u001b[0m \u001b[38;5;66;03m# Send the request\u001b[39;00m\n\u001b[0;32m--> 703\u001b[0m r \u001b[38;5;241m=\u001b[39m \u001b[43madapter\u001b[49m\u001b[38;5;241;43m.\u001b[39;49m\u001b[43msend\u001b[49m\u001b[43m(\u001b[49m\u001b[43mrequest\u001b[49m\u001b[43m,\u001b[49m\u001b[43m \u001b[49m\u001b[38;5;241;43m*\u001b[39;49m\u001b[38;5;241;43m*\u001b[39;49m\u001b[43mkwargs\u001b[49m\u001b[43m)\u001b[49m\n\u001b[1;32m    705\u001b[0m \u001b[38;5;66;03m# Total elapsed time of the request (approximately)\u001b[39;00m\n\u001b[1;32m    706\u001b[0m elapsed \u001b[38;5;241m=\u001b[39m preferred_clock() \u001b[38;5;241m-\u001b[39m start\n",
      "File \u001b[0;32m~/code/omdena/SaoPauloBrazilChapter_BrazilianSignLanguage/.venv/lib/python3.11/site-packages/requests/adapters.py:667\u001b[0m, in \u001b[0;36mHTTPAdapter.send\u001b[0;34m(self, request, stream, timeout, verify, cert, proxies)\u001b[0m\n\u001b[1;32m    664\u001b[0m     timeout \u001b[38;5;241m=\u001b[39m TimeoutSauce(connect\u001b[38;5;241m=\u001b[39mtimeout, read\u001b[38;5;241m=\u001b[39mtimeout)\n\u001b[1;32m    666\u001b[0m \u001b[38;5;28;01mtry\u001b[39;00m:\n\u001b[0;32m--> 667\u001b[0m     resp \u001b[38;5;241m=\u001b[39m \u001b[43mconn\u001b[49m\u001b[38;5;241;43m.\u001b[39;49m\u001b[43murlopen\u001b[49m\u001b[43m(\u001b[49m\n\u001b[1;32m    668\u001b[0m \u001b[43m        \u001b[49m\u001b[43mmethod\u001b[49m\u001b[38;5;241;43m=\u001b[39;49m\u001b[43mrequest\u001b[49m\u001b[38;5;241;43m.\u001b[39;49m\u001b[43mmethod\u001b[49m\u001b[43m,\u001b[49m\n\u001b[1;32m    669\u001b[0m \u001b[43m        \u001b[49m\u001b[43murl\u001b[49m\u001b[38;5;241;43m=\u001b[39;49m\u001b[43murl\u001b[49m\u001b[43m,\u001b[49m\n\u001b[1;32m    670\u001b[0m \u001b[43m        \u001b[49m\u001b[43mbody\u001b[49m\u001b[38;5;241;43m=\u001b[39;49m\u001b[43mrequest\u001b[49m\u001b[38;5;241;43m.\u001b[39;49m\u001b[43mbody\u001b[49m\u001b[43m,\u001b[49m\n\u001b[1;32m    671\u001b[0m \u001b[43m        \u001b[49m\u001b[43mheaders\u001b[49m\u001b[38;5;241;43m=\u001b[39;49m\u001b[43mrequest\u001b[49m\u001b[38;5;241;43m.\u001b[39;49m\u001b[43mheaders\u001b[49m\u001b[43m,\u001b[49m\n\u001b[1;32m    672\u001b[0m \u001b[43m        \u001b[49m\u001b[43mredirect\u001b[49m\u001b[38;5;241;43m=\u001b[39;49m\u001b[38;5;28;43;01mFalse\u001b[39;49;00m\u001b[43m,\u001b[49m\n\u001b[1;32m    673\u001b[0m \u001b[43m        \u001b[49m\u001b[43massert_same_host\u001b[49m\u001b[38;5;241;43m=\u001b[39;49m\u001b[38;5;28;43;01mFalse\u001b[39;49;00m\u001b[43m,\u001b[49m\n\u001b[1;32m    674\u001b[0m \u001b[43m        \u001b[49m\u001b[43mpreload_content\u001b[49m\u001b[38;5;241;43m=\u001b[39;49m\u001b[38;5;28;43;01mFalse\u001b[39;49;00m\u001b[43m,\u001b[49m\n\u001b[1;32m    675\u001b[0m \u001b[43m        \u001b[49m\u001b[43mdecode_content\u001b[49m\u001b[38;5;241;43m=\u001b[39;49m\u001b[38;5;28;43;01mFalse\u001b[39;49;00m\u001b[43m,\u001b[49m\n\u001b[1;32m    676\u001b[0m \u001b[43m        \u001b[49m\u001b[43mretries\u001b[49m\u001b[38;5;241;43m=\u001b[39;49m\u001b[38;5;28;43mself\u001b[39;49m\u001b[38;5;241;43m.\u001b[39;49m\u001b[43mmax_retries\u001b[49m\u001b[43m,\u001b[49m\n\u001b[1;32m    677\u001b[0m \u001b[43m        \u001b[49m\u001b[43mtimeout\u001b[49m\u001b[38;5;241;43m=\u001b[39;49m\u001b[43mtimeout\u001b[49m\u001b[43m,\u001b[49m\n\u001b[1;32m    678\u001b[0m \u001b[43m        \u001b[49m\u001b[43mchunked\u001b[49m\u001b[38;5;241;43m=\u001b[39;49m\u001b[43mchunked\u001b[49m\u001b[43m,\u001b[49m\n\u001b[1;32m    679\u001b[0m \u001b[43m    \u001b[49m\u001b[43m)\u001b[49m\n\u001b[1;32m    681\u001b[0m \u001b[38;5;28;01mexcept\u001b[39;00m (ProtocolError, \u001b[38;5;167;01mOSError\u001b[39;00m) \u001b[38;5;28;01mas\u001b[39;00m err:\n\u001b[1;32m    682\u001b[0m     \u001b[38;5;28;01mraise\u001b[39;00m \u001b[38;5;167;01mConnectionError\u001b[39;00m(err, request\u001b[38;5;241m=\u001b[39mrequest)\n",
      "File \u001b[0;32m~/code/omdena/SaoPauloBrazilChapter_BrazilianSignLanguage/.venv/lib/python3.11/site-packages/urllib3/connectionpool.py:787\u001b[0m, in \u001b[0;36mHTTPConnectionPool.urlopen\u001b[0;34m(self, method, url, body, headers, retries, redirect, assert_same_host, timeout, pool_timeout, release_conn, chunked, body_pos, preload_content, decode_content, **response_kw)\u001b[0m\n\u001b[1;32m    784\u001b[0m response_conn \u001b[38;5;241m=\u001b[39m conn \u001b[38;5;28;01mif\u001b[39;00m \u001b[38;5;129;01mnot\u001b[39;00m release_conn \u001b[38;5;28;01melse\u001b[39;00m \u001b[38;5;28;01mNone\u001b[39;00m\n\u001b[1;32m    786\u001b[0m \u001b[38;5;66;03m# Make the request on the HTTPConnection object\u001b[39;00m\n\u001b[0;32m--> 787\u001b[0m response \u001b[38;5;241m=\u001b[39m \u001b[38;5;28;43mself\u001b[39;49m\u001b[38;5;241;43m.\u001b[39;49m\u001b[43m_make_request\u001b[49m\u001b[43m(\u001b[49m\n\u001b[1;32m    788\u001b[0m \u001b[43m    \u001b[49m\u001b[43mconn\u001b[49m\u001b[43m,\u001b[49m\n\u001b[1;32m    789\u001b[0m \u001b[43m    \u001b[49m\u001b[43mmethod\u001b[49m\u001b[43m,\u001b[49m\n\u001b[1;32m    790\u001b[0m \u001b[43m    \u001b[49m\u001b[43murl\u001b[49m\u001b[43m,\u001b[49m\n\u001b[1;32m    791\u001b[0m \u001b[43m    \u001b[49m\u001b[43mtimeout\u001b[49m\u001b[38;5;241;43m=\u001b[39;49m\u001b[43mtimeout_obj\u001b[49m\u001b[43m,\u001b[49m\n\u001b[1;32m    792\u001b[0m \u001b[43m    \u001b[49m\u001b[43mbody\u001b[49m\u001b[38;5;241;43m=\u001b[39;49m\u001b[43mbody\u001b[49m\u001b[43m,\u001b[49m\n\u001b[1;32m    793\u001b[0m \u001b[43m    \u001b[49m\u001b[43mheaders\u001b[49m\u001b[38;5;241;43m=\u001b[39;49m\u001b[43mheaders\u001b[49m\u001b[43m,\u001b[49m\n\u001b[1;32m    794\u001b[0m \u001b[43m    \u001b[49m\u001b[43mchunked\u001b[49m\u001b[38;5;241;43m=\u001b[39;49m\u001b[43mchunked\u001b[49m\u001b[43m,\u001b[49m\n\u001b[1;32m    795\u001b[0m \u001b[43m    \u001b[49m\u001b[43mretries\u001b[49m\u001b[38;5;241;43m=\u001b[39;49m\u001b[43mretries\u001b[49m\u001b[43m,\u001b[49m\n\u001b[1;32m    796\u001b[0m \u001b[43m    \u001b[49m\u001b[43mresponse_conn\u001b[49m\u001b[38;5;241;43m=\u001b[39;49m\u001b[43mresponse_conn\u001b[49m\u001b[43m,\u001b[49m\n\u001b[1;32m    797\u001b[0m \u001b[43m    \u001b[49m\u001b[43mpreload_content\u001b[49m\u001b[38;5;241;43m=\u001b[39;49m\u001b[43mpreload_content\u001b[49m\u001b[43m,\u001b[49m\n\u001b[1;32m    798\u001b[0m \u001b[43m    \u001b[49m\u001b[43mdecode_content\u001b[49m\u001b[38;5;241;43m=\u001b[39;49m\u001b[43mdecode_content\u001b[49m\u001b[43m,\u001b[49m\n\u001b[1;32m    799\u001b[0m \u001b[43m    \u001b[49m\u001b[38;5;241;43m*\u001b[39;49m\u001b[38;5;241;43m*\u001b[39;49m\u001b[43mresponse_kw\u001b[49m\u001b[43m,\u001b[49m\n\u001b[1;32m    800\u001b[0m \u001b[43m\u001b[49m\u001b[43m)\u001b[49m\n\u001b[1;32m    802\u001b[0m \u001b[38;5;66;03m# Everything went great!\u001b[39;00m\n\u001b[1;32m    803\u001b[0m clean_exit \u001b[38;5;241m=\u001b[39m \u001b[38;5;28;01mTrue\u001b[39;00m\n",
      "File \u001b[0;32m~/code/omdena/SaoPauloBrazilChapter_BrazilianSignLanguage/.venv/lib/python3.11/site-packages/urllib3/connectionpool.py:534\u001b[0m, in \u001b[0;36mHTTPConnectionPool._make_request\u001b[0;34m(self, conn, method, url, body, headers, retries, timeout, chunked, response_conn, preload_content, decode_content, enforce_content_length)\u001b[0m\n\u001b[1;32m    532\u001b[0m \u001b[38;5;66;03m# Receive the response from the server\u001b[39;00m\n\u001b[1;32m    533\u001b[0m \u001b[38;5;28;01mtry\u001b[39;00m:\n\u001b[0;32m--> 534\u001b[0m     response \u001b[38;5;241m=\u001b[39m \u001b[43mconn\u001b[49m\u001b[38;5;241;43m.\u001b[39;49m\u001b[43mgetresponse\u001b[49m\u001b[43m(\u001b[49m\u001b[43m)\u001b[49m\n\u001b[1;32m    535\u001b[0m \u001b[38;5;28;01mexcept\u001b[39;00m (BaseSSLError, \u001b[38;5;167;01mOSError\u001b[39;00m) \u001b[38;5;28;01mas\u001b[39;00m e:\n\u001b[1;32m    536\u001b[0m     \u001b[38;5;28mself\u001b[39m\u001b[38;5;241m.\u001b[39m_raise_timeout(err\u001b[38;5;241m=\u001b[39me, url\u001b[38;5;241m=\u001b[39murl, timeout_value\u001b[38;5;241m=\u001b[39mread_timeout)\n",
      "File \u001b[0;32m~/code/omdena/SaoPauloBrazilChapter_BrazilianSignLanguage/.venv/lib/python3.11/site-packages/urllib3/connection.py:516\u001b[0m, in \u001b[0;36mHTTPConnection.getresponse\u001b[0;34m(self)\u001b[0m\n\u001b[1;32m    513\u001b[0m _shutdown \u001b[38;5;241m=\u001b[39m \u001b[38;5;28mgetattr\u001b[39m(\u001b[38;5;28mself\u001b[39m\u001b[38;5;241m.\u001b[39msock, \u001b[38;5;124m\"\u001b[39m\u001b[38;5;124mshutdown\u001b[39m\u001b[38;5;124m\"\u001b[39m, \u001b[38;5;28;01mNone\u001b[39;00m)\n\u001b[1;32m    515\u001b[0m \u001b[38;5;66;03m# Get the response from http.client.HTTPConnection\u001b[39;00m\n\u001b[0;32m--> 516\u001b[0m httplib_response \u001b[38;5;241m=\u001b[39m \u001b[38;5;28;43msuper\u001b[39;49m\u001b[43m(\u001b[49m\u001b[43m)\u001b[49m\u001b[38;5;241;43m.\u001b[39;49m\u001b[43mgetresponse\u001b[49m\u001b[43m(\u001b[49m\u001b[43m)\u001b[49m\n\u001b[1;32m    518\u001b[0m \u001b[38;5;28;01mtry\u001b[39;00m:\n\u001b[1;32m    519\u001b[0m     assert_header_parsing(httplib_response\u001b[38;5;241m.\u001b[39mmsg)\n",
      "File \u001b[0;32m~/.local/share/uv/python/cpython-3.11.8-macos-x86_64-none/lib/python3.11/http/client.py:1390\u001b[0m, in \u001b[0;36mHTTPConnection.getresponse\u001b[0;34m(self)\u001b[0m\n\u001b[1;32m   1388\u001b[0m \u001b[38;5;28;01mtry\u001b[39;00m:\n\u001b[1;32m   1389\u001b[0m     \u001b[38;5;28;01mtry\u001b[39;00m:\n\u001b[0;32m-> 1390\u001b[0m         \u001b[43mresponse\u001b[49m\u001b[38;5;241;43m.\u001b[39;49m\u001b[43mbegin\u001b[49m\u001b[43m(\u001b[49m\u001b[43m)\u001b[49m\n\u001b[1;32m   1391\u001b[0m     \u001b[38;5;28;01mexcept\u001b[39;00m \u001b[38;5;167;01mConnectionError\u001b[39;00m:\n\u001b[1;32m   1392\u001b[0m         \u001b[38;5;28mself\u001b[39m\u001b[38;5;241m.\u001b[39mclose()\n",
      "File \u001b[0;32m~/.local/share/uv/python/cpython-3.11.8-macos-x86_64-none/lib/python3.11/http/client.py:325\u001b[0m, in \u001b[0;36mHTTPResponse.begin\u001b[0;34m(self)\u001b[0m\n\u001b[1;32m    323\u001b[0m \u001b[38;5;66;03m# read until we get a non-100 response\u001b[39;00m\n\u001b[1;32m    324\u001b[0m \u001b[38;5;28;01mwhile\u001b[39;00m \u001b[38;5;28;01mTrue\u001b[39;00m:\n\u001b[0;32m--> 325\u001b[0m     version, status, reason \u001b[38;5;241m=\u001b[39m \u001b[38;5;28;43mself\u001b[39;49m\u001b[38;5;241;43m.\u001b[39;49m\u001b[43m_read_status\u001b[49m\u001b[43m(\u001b[49m\u001b[43m)\u001b[49m\n\u001b[1;32m    326\u001b[0m     \u001b[38;5;28;01mif\u001b[39;00m status \u001b[38;5;241m!=\u001b[39m CONTINUE:\n\u001b[1;32m    327\u001b[0m         \u001b[38;5;28;01mbreak\u001b[39;00m\n",
      "File \u001b[0;32m~/.local/share/uv/python/cpython-3.11.8-macos-x86_64-none/lib/python3.11/http/client.py:286\u001b[0m, in \u001b[0;36mHTTPResponse._read_status\u001b[0;34m(self)\u001b[0m\n\u001b[1;32m    285\u001b[0m \u001b[38;5;28;01mdef\u001b[39;00m\u001b[38;5;250m \u001b[39m\u001b[38;5;21m_read_status\u001b[39m(\u001b[38;5;28mself\u001b[39m):\n\u001b[0;32m--> 286\u001b[0m     line \u001b[38;5;241m=\u001b[39m \u001b[38;5;28mstr\u001b[39m(\u001b[38;5;28mself\u001b[39m\u001b[38;5;241m.\u001b[39mfp\u001b[38;5;241m.\u001b[39mreadline(_MAXLINE \u001b[38;5;241m+\u001b[39m \u001b[38;5;241m1\u001b[39m), \u001b[38;5;124m\"\u001b[39m\u001b[38;5;124miso-8859-1\u001b[39m\u001b[38;5;124m\"\u001b[39m)\n\u001b[1;32m    287\u001b[0m     \u001b[38;5;28;01mif\u001b[39;00m \u001b[38;5;28mlen\u001b[39m(line) \u001b[38;5;241m>\u001b[39m _MAXLINE:\n\u001b[1;32m    288\u001b[0m         \u001b[38;5;28;01mraise\u001b[39;00m LineTooLong(\u001b[38;5;124m\"\u001b[39m\u001b[38;5;124mstatus line\u001b[39m\u001b[38;5;124m\"\u001b[39m)\n",
      "File \u001b[0;32m~/.local/share/uv/python/cpython-3.11.8-macos-x86_64-none/lib/python3.11/socket.py:706\u001b[0m, in \u001b[0;36mSocketIO.readinto\u001b[0;34m(self, b)\u001b[0m\n\u001b[1;32m    704\u001b[0m \u001b[38;5;28;01mwhile\u001b[39;00m \u001b[38;5;28;01mTrue\u001b[39;00m:\n\u001b[1;32m    705\u001b[0m     \u001b[38;5;28;01mtry\u001b[39;00m:\n\u001b[0;32m--> 706\u001b[0m         \u001b[38;5;28;01mreturn\u001b[39;00m \u001b[38;5;28;43mself\u001b[39;49m\u001b[38;5;241;43m.\u001b[39;49m\u001b[43m_sock\u001b[49m\u001b[38;5;241;43m.\u001b[39;49m\u001b[43mrecv_into\u001b[49m\u001b[43m(\u001b[49m\u001b[43mb\u001b[49m\u001b[43m)\u001b[49m\n\u001b[1;32m    707\u001b[0m     \u001b[38;5;28;01mexcept\u001b[39;00m timeout:\n\u001b[1;32m    708\u001b[0m         \u001b[38;5;28mself\u001b[39m\u001b[38;5;241m.\u001b[39m_timeout_occurred \u001b[38;5;241m=\u001b[39m \u001b[38;5;28;01mTrue\u001b[39;00m\n",
      "File \u001b[0;32m~/.local/share/uv/python/cpython-3.11.8-macos-x86_64-none/lib/python3.11/ssl.py:1314\u001b[0m, in \u001b[0;36mSSLSocket.recv_into\u001b[0;34m(self, buffer, nbytes, flags)\u001b[0m\n\u001b[1;32m   1310\u001b[0m     \u001b[38;5;28;01mif\u001b[39;00m flags \u001b[38;5;241m!=\u001b[39m \u001b[38;5;241m0\u001b[39m:\n\u001b[1;32m   1311\u001b[0m         \u001b[38;5;28;01mraise\u001b[39;00m \u001b[38;5;167;01mValueError\u001b[39;00m(\n\u001b[1;32m   1312\u001b[0m           \u001b[38;5;124m\"\u001b[39m\u001b[38;5;124mnon-zero flags not allowed in calls to recv_into() on \u001b[39m\u001b[38;5;132;01m%s\u001b[39;00m\u001b[38;5;124m\"\u001b[39m \u001b[38;5;241m%\u001b[39m\n\u001b[1;32m   1313\u001b[0m           \u001b[38;5;28mself\u001b[39m\u001b[38;5;241m.\u001b[39m\u001b[38;5;18m__class__\u001b[39m)\n\u001b[0;32m-> 1314\u001b[0m     \u001b[38;5;28;01mreturn\u001b[39;00m \u001b[38;5;28;43mself\u001b[39;49m\u001b[38;5;241;43m.\u001b[39;49m\u001b[43mread\u001b[49m\u001b[43m(\u001b[49m\u001b[43mnbytes\u001b[49m\u001b[43m,\u001b[49m\u001b[43m \u001b[49m\u001b[43mbuffer\u001b[49m\u001b[43m)\u001b[49m\n\u001b[1;32m   1315\u001b[0m \u001b[38;5;28;01melse\u001b[39;00m:\n\u001b[1;32m   1316\u001b[0m     \u001b[38;5;28;01mreturn\u001b[39;00m \u001b[38;5;28msuper\u001b[39m()\u001b[38;5;241m.\u001b[39mrecv_into(buffer, nbytes, flags)\n",
      "File \u001b[0;32m~/.local/share/uv/python/cpython-3.11.8-macos-x86_64-none/lib/python3.11/ssl.py:1166\u001b[0m, in \u001b[0;36mSSLSocket.read\u001b[0;34m(self, len, buffer)\u001b[0m\n\u001b[1;32m   1164\u001b[0m \u001b[38;5;28;01mtry\u001b[39;00m:\n\u001b[1;32m   1165\u001b[0m     \u001b[38;5;28;01mif\u001b[39;00m buffer \u001b[38;5;129;01mis\u001b[39;00m \u001b[38;5;129;01mnot\u001b[39;00m \u001b[38;5;28;01mNone\u001b[39;00m:\n\u001b[0;32m-> 1166\u001b[0m         \u001b[38;5;28;01mreturn\u001b[39;00m \u001b[38;5;28;43mself\u001b[39;49m\u001b[38;5;241;43m.\u001b[39;49m\u001b[43m_sslobj\u001b[49m\u001b[38;5;241;43m.\u001b[39;49m\u001b[43mread\u001b[49m\u001b[43m(\u001b[49m\u001b[38;5;28;43mlen\u001b[39;49m\u001b[43m,\u001b[49m\u001b[43m \u001b[49m\u001b[43mbuffer\u001b[49m\u001b[43m)\u001b[49m\n\u001b[1;32m   1167\u001b[0m     \u001b[38;5;28;01melse\u001b[39;00m:\n\u001b[1;32m   1168\u001b[0m         \u001b[38;5;28;01mreturn\u001b[39;00m \u001b[38;5;28mself\u001b[39m\u001b[38;5;241m.\u001b[39m_sslobj\u001b[38;5;241m.\u001b[39mread(\u001b[38;5;28mlen\u001b[39m)\n",
      "\u001b[0;31mKeyboardInterrupt\u001b[0m: "
     ]
    }
   ],
   "source": [
    "words_and_links['all_video_info'] = words_and_links['sign_url'].progress_apply(get_video_urls)"
   ]
  },
  {
   "cell_type": "markdown",
   "metadata": {},
   "source": [
    "One by one takes a while, so I asked AI to make it async"
   ]
  },
  {
   "cell_type": "code",
   "execution_count": 8,
   "metadata": {},
   "outputs": [],
   "source": [
    "df = words_and_links.copy()"
   ]
  },
  {
   "cell_type": "code",
   "execution_count": 9,
   "metadata": {},
   "outputs": [
    {
     "name": "stderr",
     "output_type": "stream",
     "text": [
      "Processing URLs: 100%|██████████| 1364/1364 [03:20<00:00,  6.79it/s]\n",
      "2025-03-06 17:12:54,283 - INFO - Completed processing 1364 URLs. Failed: 0\n"
     ]
    }
   ],
   "source": [
    "import pandas as pd\n",
    "import asyncio\n",
    "import aiohttp\n",
    "from tqdm import tqdm\n",
    "import logging\n",
    "import random\n",
    "from typing import Dict, Any\n",
    "from bs4 import BeautifulSoup\n",
    "\n",
    "class AsyncRequestProcessor:\n",
    "    def __init__(\n",
    "        self,\n",
    "        max_concurrent: int = 10,\n",
    "        max_retries: int = 3,\n",
    "        retry_delay: float = 1.0,\n",
    "        timeout: int = 30\n",
    "    ):\n",
    "        self.max_concurrent = max_concurrent\n",
    "        self.max_retries = max_retries\n",
    "        self.retry_delay = retry_delay\n",
    "        self.timeout = timeout\n",
    "        self.setup_logging()\n",
    "\n",
    "    def setup_logging(self):\n",
    "        logging.basicConfig(\n",
    "            level=logging.INFO,\n",
    "            format='%(asctime)s - %(levelname)s - %(message)s'\n",
    "        )\n",
    "        self.logger = logging.getLogger(__name__)\n",
    "\n",
    "    async def process_url(\n",
    "        self,\n",
    "        url: str,\n",
    "        session: aiohttp.ClientSession,\n",
    "        semaphore: asyncio.Semaphore\n",
    "    ) -> Dict[str, Any]:\n",
    "        for attempt in range(self.max_retries):\n",
    "            try:\n",
    "                async with semaphore:\n",
    "                    # Random delay between requests\n",
    "                    await asyncio.sleep(random.uniform(0.1, 0.3))\n",
    "                    \n",
    "                    # Call get_video_urls function\n",
    "                    video_links, signer_numbers, signer_order = await get_video_urls(url, session)\n",
    "                    return {\n",
    "                        'url': url,\n",
    "                        'status': 'success',\n",
    "                        'video_links': video_links,\n",
    "                        'signer_numbers': signer_numbers,\n",
    "                        'signer_order': signer_order,\n",
    "                        'attempts': attempt + 1\n",
    "                    }\n",
    "                    \n",
    "            except aiohttp.ClientError as e:\n",
    "                if attempt == self.max_retries - 1:\n",
    "                    return {\n",
    "                        'url': url,\n",
    "                        'status': 'error',\n",
    "                        'error': f'Network error: {str(e)}',\n",
    "                        'attempts': attempt + 1\n",
    "                    }\n",
    "                await asyncio.sleep(self.retry_delay * (attempt + 1))\n",
    "            except Exception as e:\n",
    "                return {\n",
    "                    'url': url,\n",
    "                    'status': 'error',\n",
    "                    'error': str(e),\n",
    "                    'attempts': attempt + 1\n",
    "                }\n",
    "\n",
    "    async def process_urls(self, urls: list) -> list:\n",
    "        semaphore = asyncio.Semaphore(self.max_concurrent)\n",
    "        timeout = aiohttp.ClientTimeout(total=self.timeout)\n",
    "        \n",
    "        async with aiohttp.ClientSession(timeout=timeout) as session:\n",
    "            tasks = [\n",
    "                self.process_url(url, session, semaphore)\n",
    "                for url in urls\n",
    "            ]\n",
    "            \n",
    "            results = []\n",
    "            failed = 0\n",
    "            for f in tqdm(\n",
    "                asyncio.as_completed(tasks),\n",
    "                total=len(tasks),\n",
    "                desc=\"Processing URLs\"\n",
    "            ):\n",
    "                result = await f\n",
    "                if result['status'] == 'error':\n",
    "                    failed += 1\n",
    "                    self.logger.warning(\n",
    "                        f\"Failed to process {result['url']}: {result['error']}\"\n",
    "                    )\n",
    "                results.append(result)\n",
    "            \n",
    "            self.logger.info(\n",
    "                f\"Completed processing {len(results)} URLs. \"\n",
    "                f\"Failed: {failed}\"\n",
    "            )\n",
    "            return results\n",
    "\n",
    "async def get_video_urls(url: str, session: aiohttp.ClientSession):\n",
    "    async with session.get(url) as response:\n",
    "        if response.status == 200:\n",
    "            video_links = []\n",
    "            signer_numbers = []\n",
    "            signer_order = ''\n",
    "            \n",
    "            # Get the HTML content\n",
    "            html = await response.text()\n",
    "            soup = BeautifulSoup(html, 'html.parser')\n",
    "            \n",
    "            # go inside div class container\n",
    "            container = soup.find('section', class_='page-section').find('div', class_='container')\n",
    "            # go inside div class row\n",
    "            rows = [child for child in container.children if child.name == 'div']\n",
    "\n",
    "            # get the video and signer number\n",
    "            for row in rows:\n",
    "                signer_number = row.find('h2').text.strip().split(' ')[1]\n",
    "                link = row.find('source').get('src')\n",
    "                video_links.append(link)\n",
    "                signer_numbers.append(signer_number)\n",
    "                signer_order += signer_number\n",
    "            return video_links, signer_numbers, signer_order\n",
    "        else:\n",
    "            raise aiohttp.ClientError(f\"Response code {response.status}, Failed to get video URLs for {url}\")\n",
    "\n",
    "# For Jupyter notebook execution\n",
    "async def main(df):\n",
    "    processor = AsyncRequestProcessor(\n",
    "        max_concurrent=10,\n",
    "        max_retries=3,\n",
    "        retry_delay=1.0,\n",
    "        timeout=30\n",
    "    )\n",
    "    \n",
    "    results = await processor.process_urls(df['sign_url'].tolist())\n",
    "    return pd.DataFrame(results)\n",
    "\n",
    "# Execute in Jupyter\n",
    "try:\n",
    "    # Get current notebook's event loop\n",
    "    loop = asyncio.get_event_loop()\n",
    "    results_df = await main(df)  # Use await here in Jupyter\n",
    "    \n",
    "    # Process results into final dataframe\n",
    "    successful_results = results_df[results_df['status'] == 'success']\n",
    "    \n",
    "    # Create separate columns for video links and signer information\n",
    "    df_expanded = pd.concat([\n",
    "        df,\n",
    "        pd.DataFrame({\n",
    "            'video_links': successful_results['video_links'],\n",
    "            'signer_numbers': successful_results['signer_numbers'],\n",
    "            'signer_order': successful_results['signer_order']\n",
    "        })\n",
    "    ], axis=1)\n",
    "    \n",
    "except Exception as e:\n",
    "    logging.error(f\"Processing failed: {str(e)}\")"
   ]
  },
  {
   "cell_type": "code",
   "execution_count": 10,
   "metadata": {},
   "outputs": [
    {
     "data": {
      "application/vnd.microsoft.datawrangler.viewer.v0+json": {
       "columns": [
        {
         "name": "index",
         "rawType": "int64",
         "type": "integer"
        },
        {
         "name": "url",
         "rawType": "object",
         "type": "string"
        },
        {
         "name": "status",
         "rawType": "object",
         "type": "string"
        },
        {
         "name": "video_links",
         "rawType": "object",
         "type": "unknown"
        },
        {
         "name": "signer_numbers",
         "rawType": "object",
         "type": "unknown"
        },
        {
         "name": "signer_order",
         "rawType": "object",
         "type": "string"
        },
        {
         "name": "attempts",
         "rawType": "int64",
         "type": "integer"
        }
       ],
       "conversionMethod": "pd.DataFrame",
       "ref": "cebef7cd-9bb9-436d-91ea-e9194a68063d",
       "rows": [
        [
         "0",
         "https://libras.cin.ufpe.br/sign/700",
         "success",
         "['https://libras.cin.ufpe.br/storage/videos/20210331112410_6064860ab479a.mp4', 'https://libras.cin.ufpe.br/storage/videos/20210501071100_608d293422d3b.mp4', 'https://libras.cin.ufpe.br/storage/videos/20210929043605_6154c025ed4d9.mp4']",
         "['3', '1', '2']",
         "312",
         "1"
        ],
        [
         "1",
         "https://libras.cin.ufpe.br/sign/990",
         "success",
         "['https://libras.cin.ufpe.br/storage/videos/20210127053253_6011cdf5a81ed.mp4', 'https://libras.cin.ufpe.br/storage/videos/20210505041201_6092ee0164267.mp4', 'https://libras.cin.ufpe.br/storage/videos/20210621054628_60d0faa427caa.mp4']",
         "['3', '1', '2']",
         "312",
         "1"
        ],
        [
         "2",
         "https://libras.cin.ufpe.br/sign/438",
         "success",
         "['https://libras.cin.ufpe.br/storage/videos/20210114022324_60007e0c5d62b.mp4', 'https://libras.cin.ufpe.br/storage/videos/20210114022324_60007e0c6746a.mp4', 'https://libras.cin.ufpe.br/storage/videos/20210623034713_60d381b18c627.mp4']",
         "['1', '2', '3']",
         "123",
         "1"
        ],
        [
         "3",
         "https://libras.cin.ufpe.br/sign/77",
         "success",
         "['https://libras.cin.ufpe.br/storage/videos/20201221013450_5fe0ceaadcc19.mp4', 'https://libras.cin.ufpe.br/storage/videos/20201221013450_5fe0ceaae1996.mp4', 'https://libras.cin.ufpe.br/storage/videos/20210331112405_60648605a17b3.mp4']",
         "['1', '2', '3']",
         "123",
         "1"
        ],
        [
         "4",
         "https://libras.cin.ufpe.br/sign/551",
         "success",
         "['https://libras.cin.ufpe.br/storage/videos/20210117042022_60048df6729c8.mp4', 'https://libras.cin.ufpe.br/storage/videos/20210117042022_60048df67ec14.mp4', 'https://libras.cin.ufpe.br/storage/videos/20210402100042_6067be3a72f1e.mp4']",
         "['1', '2', '3']",
         "123",
         "1"
        ]
       ],
       "shape": {
        "columns": 6,
        "rows": 5
       }
      },
      "text/html": [
       "<div>\n",
       "<style scoped>\n",
       "    .dataframe tbody tr th:only-of-type {\n",
       "        vertical-align: middle;\n",
       "    }\n",
       "\n",
       "    .dataframe tbody tr th {\n",
       "        vertical-align: top;\n",
       "    }\n",
       "\n",
       "    .dataframe thead th {\n",
       "        text-align: right;\n",
       "    }\n",
       "</style>\n",
       "<table border=\"1\" class=\"dataframe\">\n",
       "  <thead>\n",
       "    <tr style=\"text-align: right;\">\n",
       "      <th></th>\n",
       "      <th>url</th>\n",
       "      <th>status</th>\n",
       "      <th>video_links</th>\n",
       "      <th>signer_numbers</th>\n",
       "      <th>signer_order</th>\n",
       "      <th>attempts</th>\n",
       "    </tr>\n",
       "  </thead>\n",
       "  <tbody>\n",
       "    <tr>\n",
       "      <th>0</th>\n",
       "      <td>https://libras.cin.ufpe.br/sign/700</td>\n",
       "      <td>success</td>\n",
       "      <td>[https://libras.cin.ufpe.br/storage/videos/202...</td>\n",
       "      <td>[3, 1, 2]</td>\n",
       "      <td>312</td>\n",
       "      <td>1</td>\n",
       "    </tr>\n",
       "    <tr>\n",
       "      <th>1</th>\n",
       "      <td>https://libras.cin.ufpe.br/sign/990</td>\n",
       "      <td>success</td>\n",
       "      <td>[https://libras.cin.ufpe.br/storage/videos/202...</td>\n",
       "      <td>[3, 1, 2]</td>\n",
       "      <td>312</td>\n",
       "      <td>1</td>\n",
       "    </tr>\n",
       "    <tr>\n",
       "      <th>2</th>\n",
       "      <td>https://libras.cin.ufpe.br/sign/438</td>\n",
       "      <td>success</td>\n",
       "      <td>[https://libras.cin.ufpe.br/storage/videos/202...</td>\n",
       "      <td>[1, 2, 3]</td>\n",
       "      <td>123</td>\n",
       "      <td>1</td>\n",
       "    </tr>\n",
       "    <tr>\n",
       "      <th>3</th>\n",
       "      <td>https://libras.cin.ufpe.br/sign/77</td>\n",
       "      <td>success</td>\n",
       "      <td>[https://libras.cin.ufpe.br/storage/videos/202...</td>\n",
       "      <td>[1, 2, 3]</td>\n",
       "      <td>123</td>\n",
       "      <td>1</td>\n",
       "    </tr>\n",
       "    <tr>\n",
       "      <th>4</th>\n",
       "      <td>https://libras.cin.ufpe.br/sign/551</td>\n",
       "      <td>success</td>\n",
       "      <td>[https://libras.cin.ufpe.br/storage/videos/202...</td>\n",
       "      <td>[1, 2, 3]</td>\n",
       "      <td>123</td>\n",
       "      <td>1</td>\n",
       "    </tr>\n",
       "  </tbody>\n",
       "</table>\n",
       "</div>"
      ],
      "text/plain": [
       "                                   url   status  \\\n",
       "0  https://libras.cin.ufpe.br/sign/700  success   \n",
       "1  https://libras.cin.ufpe.br/sign/990  success   \n",
       "2  https://libras.cin.ufpe.br/sign/438  success   \n",
       "3   https://libras.cin.ufpe.br/sign/77  success   \n",
       "4  https://libras.cin.ufpe.br/sign/551  success   \n",
       "\n",
       "                                         video_links signer_numbers  \\\n",
       "0  [https://libras.cin.ufpe.br/storage/videos/202...      [3, 1, 2]   \n",
       "1  [https://libras.cin.ufpe.br/storage/videos/202...      [3, 1, 2]   \n",
       "2  [https://libras.cin.ufpe.br/storage/videos/202...      [1, 2, 3]   \n",
       "3  [https://libras.cin.ufpe.br/storage/videos/202...      [1, 2, 3]   \n",
       "4  [https://libras.cin.ufpe.br/storage/videos/202...      [1, 2, 3]   \n",
       "\n",
       "  signer_order  attempts  \n",
       "0          312         1  \n",
       "1          312         1  \n",
       "2          123         1  \n",
       "3          123         1  \n",
       "4          123         1  "
      ]
     },
     "execution_count": 10,
     "metadata": {},
     "output_type": "execute_result"
    }
   ],
   "source": [
    "results_df.head()"
   ]
  },
  {
   "cell_type": "code",
   "execution_count": 11,
   "metadata": {},
   "outputs": [
    {
     "data": {
      "text/plain": [
       "status\n",
       "success    1364\n",
       "Name: count, dtype: int64"
      ]
     },
     "execution_count": 11,
     "metadata": {},
     "output_type": "execute_result"
    }
   ],
   "source": [
    "results_df.status.value_counts()"
   ]
  },
  {
   "cell_type": "code",
   "execution_count": 12,
   "metadata": {},
   "outputs": [
    {
     "data": {
      "application/vnd.microsoft.datawrangler.viewer.v0+json": {
       "columns": [
        {
         "name": "index",
         "rawType": "int64",
         "type": "integer"
        },
        {
         "name": "url",
         "rawType": "object",
         "type": "string"
        },
        {
         "name": "status",
         "rawType": "object",
         "type": "string"
        },
        {
         "name": "video_links",
         "rawType": "object",
         "type": "string"
        },
        {
         "name": "signer_numbers",
         "rawType": "object",
         "type": "string"
        },
        {
         "name": "signer_order",
         "rawType": "object",
         "type": "string"
        },
        {
         "name": "attempts",
         "rawType": "int64",
         "type": "integer"
        }
       ],
       "conversionMethod": "pd.DataFrame",
       "ref": "c42cc053-a766-479f-b7cc-589e694b4f50",
       "rows": [
        [
         "0",
         "https://libras.cin.ufpe.br/sign/700",
         "success",
         "https://libras.cin.ufpe.br/storage/videos/20210331112410_6064860ab479a.mp4",
         "3",
         "312",
         "1"
        ],
        [
         "0",
         "https://libras.cin.ufpe.br/sign/700",
         "success",
         "https://libras.cin.ufpe.br/storage/videos/20210501071100_608d293422d3b.mp4",
         "1",
         "312",
         "1"
        ],
        [
         "0",
         "https://libras.cin.ufpe.br/sign/700",
         "success",
         "https://libras.cin.ufpe.br/storage/videos/20210929043605_6154c025ed4d9.mp4",
         "2",
         "312",
         "1"
        ],
        [
         "1",
         "https://libras.cin.ufpe.br/sign/990",
         "success",
         "https://libras.cin.ufpe.br/storage/videos/20210127053253_6011cdf5a81ed.mp4",
         "3",
         "312",
         "1"
        ],
        [
         "1",
         "https://libras.cin.ufpe.br/sign/990",
         "success",
         "https://libras.cin.ufpe.br/storage/videos/20210505041201_6092ee0164267.mp4",
         "1",
         "312",
         "1"
        ]
       ],
       "shape": {
        "columns": 6,
        "rows": 5
       }
      },
      "text/html": [
       "<div>\n",
       "<style scoped>\n",
       "    .dataframe tbody tr th:only-of-type {\n",
       "        vertical-align: middle;\n",
       "    }\n",
       "\n",
       "    .dataframe tbody tr th {\n",
       "        vertical-align: top;\n",
       "    }\n",
       "\n",
       "    .dataframe thead th {\n",
       "        text-align: right;\n",
       "    }\n",
       "</style>\n",
       "<table border=\"1\" class=\"dataframe\">\n",
       "  <thead>\n",
       "    <tr style=\"text-align: right;\">\n",
       "      <th></th>\n",
       "      <th>url</th>\n",
       "      <th>status</th>\n",
       "      <th>video_links</th>\n",
       "      <th>signer_numbers</th>\n",
       "      <th>signer_order</th>\n",
       "      <th>attempts</th>\n",
       "    </tr>\n",
       "  </thead>\n",
       "  <tbody>\n",
       "    <tr>\n",
       "      <th>0</th>\n",
       "      <td>https://libras.cin.ufpe.br/sign/700</td>\n",
       "      <td>success</td>\n",
       "      <td>https://libras.cin.ufpe.br/storage/videos/2021...</td>\n",
       "      <td>3</td>\n",
       "      <td>312</td>\n",
       "      <td>1</td>\n",
       "    </tr>\n",
       "    <tr>\n",
       "      <th>0</th>\n",
       "      <td>https://libras.cin.ufpe.br/sign/700</td>\n",
       "      <td>success</td>\n",
       "      <td>https://libras.cin.ufpe.br/storage/videos/2021...</td>\n",
       "      <td>1</td>\n",
       "      <td>312</td>\n",
       "      <td>1</td>\n",
       "    </tr>\n",
       "    <tr>\n",
       "      <th>0</th>\n",
       "      <td>https://libras.cin.ufpe.br/sign/700</td>\n",
       "      <td>success</td>\n",
       "      <td>https://libras.cin.ufpe.br/storage/videos/2021...</td>\n",
       "      <td>2</td>\n",
       "      <td>312</td>\n",
       "      <td>1</td>\n",
       "    </tr>\n",
       "    <tr>\n",
       "      <th>1</th>\n",
       "      <td>https://libras.cin.ufpe.br/sign/990</td>\n",
       "      <td>success</td>\n",
       "      <td>https://libras.cin.ufpe.br/storage/videos/2021...</td>\n",
       "      <td>3</td>\n",
       "      <td>312</td>\n",
       "      <td>1</td>\n",
       "    </tr>\n",
       "    <tr>\n",
       "      <th>1</th>\n",
       "      <td>https://libras.cin.ufpe.br/sign/990</td>\n",
       "      <td>success</td>\n",
       "      <td>https://libras.cin.ufpe.br/storage/videos/2021...</td>\n",
       "      <td>1</td>\n",
       "      <td>312</td>\n",
       "      <td>1</td>\n",
       "    </tr>\n",
       "  </tbody>\n",
       "</table>\n",
       "</div>"
      ],
      "text/plain": [
       "                                   url   status  \\\n",
       "0  https://libras.cin.ufpe.br/sign/700  success   \n",
       "0  https://libras.cin.ufpe.br/sign/700  success   \n",
       "0  https://libras.cin.ufpe.br/sign/700  success   \n",
       "1  https://libras.cin.ufpe.br/sign/990  success   \n",
       "1  https://libras.cin.ufpe.br/sign/990  success   \n",
       "\n",
       "                                         video_links signer_numbers  \\\n",
       "0  https://libras.cin.ufpe.br/storage/videos/2021...              3   \n",
       "0  https://libras.cin.ufpe.br/storage/videos/2021...              1   \n",
       "0  https://libras.cin.ufpe.br/storage/videos/2021...              2   \n",
       "1  https://libras.cin.ufpe.br/storage/videos/2021...              3   \n",
       "1  https://libras.cin.ufpe.br/storage/videos/2021...              1   \n",
       "\n",
       "  signer_order  attempts  \n",
       "0          312         1  \n",
       "0          312         1  \n",
       "0          312         1  \n",
       "1          312         1  \n",
       "1          312         1  "
      ]
     },
     "execution_count": 12,
     "metadata": {},
     "output_type": "execute_result"
    }
   ],
   "source": [
    "results_df = results_df.explode(['video_links', 'signer_numbers'])\n",
    "results_df.head()"
   ]
  },
  {
   "cell_type": "code",
   "execution_count": 13,
   "metadata": {},
   "outputs": [
    {
     "data": {
      "application/vnd.microsoft.datawrangler.viewer.v0+json": {
       "columns": [
        {
         "name": "index",
         "rawType": "int64",
         "type": "integer"
        },
        {
         "name": "label",
         "rawType": "object",
         "type": "string"
        },
        {
         "name": "sign_url",
         "rawType": "object",
         "type": "string"
        }
       ],
       "conversionMethod": "pd.DataFrame",
       "ref": "d07b497e-22ea-424d-aa63-f318ea342232",
       "rows": [
        [
         "0",
         "À noite toda ",
         "https://libras.cin.ufpe.br/sign/885"
        ],
        [
         "1",
         "À tarde toda ",
         "https://libras.cin.ufpe.br/sign/100"
        ],
        [
         "2",
         "Abacaxi ",
         "https://libras.cin.ufpe.br/sign/817"
        ],
        [
         "3",
         "Abanar ",
         "https://libras.cin.ufpe.br/sign/1536"
        ],
        [
         "4",
         "Abandonar ",
         "https://libras.cin.ufpe.br/sign/71"
        ]
       ],
       "shape": {
        "columns": 2,
        "rows": 5
       }
      },
      "text/html": [
       "<div>\n",
       "<style scoped>\n",
       "    .dataframe tbody tr th:only-of-type {\n",
       "        vertical-align: middle;\n",
       "    }\n",
       "\n",
       "    .dataframe tbody tr th {\n",
       "        vertical-align: top;\n",
       "    }\n",
       "\n",
       "    .dataframe thead th {\n",
       "        text-align: right;\n",
       "    }\n",
       "</style>\n",
       "<table border=\"1\" class=\"dataframe\">\n",
       "  <thead>\n",
       "    <tr style=\"text-align: right;\">\n",
       "      <th></th>\n",
       "      <th>label</th>\n",
       "      <th>sign_url</th>\n",
       "    </tr>\n",
       "  </thead>\n",
       "  <tbody>\n",
       "    <tr>\n",
       "      <th>0</th>\n",
       "      <td>À noite toda</td>\n",
       "      <td>https://libras.cin.ufpe.br/sign/885</td>\n",
       "    </tr>\n",
       "    <tr>\n",
       "      <th>1</th>\n",
       "      <td>À tarde toda</td>\n",
       "      <td>https://libras.cin.ufpe.br/sign/100</td>\n",
       "    </tr>\n",
       "    <tr>\n",
       "      <th>2</th>\n",
       "      <td>Abacaxi</td>\n",
       "      <td>https://libras.cin.ufpe.br/sign/817</td>\n",
       "    </tr>\n",
       "    <tr>\n",
       "      <th>3</th>\n",
       "      <td>Abanar</td>\n",
       "      <td>https://libras.cin.ufpe.br/sign/1536</td>\n",
       "    </tr>\n",
       "    <tr>\n",
       "      <th>4</th>\n",
       "      <td>Abandonar</td>\n",
       "      <td>https://libras.cin.ufpe.br/sign/71</td>\n",
       "    </tr>\n",
       "  </tbody>\n",
       "</table>\n",
       "</div>"
      ],
      "text/plain": [
       "           label                              sign_url\n",
       "0  À noite toda    https://libras.cin.ufpe.br/sign/885\n",
       "1  À tarde toda    https://libras.cin.ufpe.br/sign/100\n",
       "2       Abacaxi    https://libras.cin.ufpe.br/sign/817\n",
       "3        Abanar   https://libras.cin.ufpe.br/sign/1536\n",
       "4     Abandonar     https://libras.cin.ufpe.br/sign/71"
      ]
     },
     "execution_count": 13,
     "metadata": {},
     "output_type": "execute_result"
    }
   ],
   "source": [
    "words_and_links.head()"
   ]
  },
  {
   "cell_type": "code",
   "execution_count": 14,
   "metadata": {},
   "outputs": [
    {
     "data": {
      "application/vnd.microsoft.datawrangler.viewer.v0+json": {
       "columns": [
        {
         "name": "index",
         "rawType": "int64",
         "type": "integer"
        },
        {
         "name": "label",
         "rawType": "object",
         "type": "string"
        },
        {
         "name": "sign_url",
         "rawType": "object",
         "type": "string"
        },
        {
         "name": "status",
         "rawType": "object",
         "type": "string"
        },
        {
         "name": "video_url",
         "rawType": "object",
         "type": "string"
        },
        {
         "name": "signer_number",
         "rawType": "object",
         "type": "string"
        },
        {
         "name": "signer_order",
         "rawType": "object",
         "type": "string"
        },
        {
         "name": "attempts",
         "rawType": "int64",
         "type": "integer"
        }
       ],
       "conversionMethod": "pd.DataFrame",
       "ref": "f2318baa-b052-4d79-8db7-5ef4072078cf",
       "rows": [
        [
         "0",
         "À noite toda ",
         "https://libras.cin.ufpe.br/sign/885",
         "success",
         "https://libras.cin.ufpe.br/storage/videos/20210126072453_601096b5ed907.mp4",
         "1",
         "132",
         "1"
        ],
        [
         "1",
         "À noite toda ",
         "https://libras.cin.ufpe.br/sign/885",
         "success",
         "https://libras.cin.ufpe.br/storage/videos/20210411080131_6072d70b74896.mp4",
         "3",
         "132",
         "1"
        ],
        [
         "2",
         "À noite toda ",
         "https://libras.cin.ufpe.br/sign/885",
         "success",
         "https://libras.cin.ufpe.br/storage/videos/20210929042018_6154bc720abf7.mp4",
         "2",
         "132",
         "1"
        ],
        [
         "3",
         "À tarde toda ",
         "https://libras.cin.ufpe.br/sign/100",
         "success",
         "https://libras.cin.ufpe.br/storage/videos/20201221023954_5fe0ddea908eb.mp4",
         "1",
         "123",
         "1"
        ],
        [
         "4",
         "À tarde toda ",
         "https://libras.cin.ufpe.br/sign/100",
         "success",
         "https://libras.cin.ufpe.br/storage/videos/20201221023954_5fe0ddea96624.mp4",
         "2",
         "123",
         "1"
        ]
       ],
       "shape": {
        "columns": 7,
        "rows": 5
       }
      },
      "text/html": [
       "<div>\n",
       "<style scoped>\n",
       "    .dataframe tbody tr th:only-of-type {\n",
       "        vertical-align: middle;\n",
       "    }\n",
       "\n",
       "    .dataframe tbody tr th {\n",
       "        vertical-align: top;\n",
       "    }\n",
       "\n",
       "    .dataframe thead th {\n",
       "        text-align: right;\n",
       "    }\n",
       "</style>\n",
       "<table border=\"1\" class=\"dataframe\">\n",
       "  <thead>\n",
       "    <tr style=\"text-align: right;\">\n",
       "      <th></th>\n",
       "      <th>label</th>\n",
       "      <th>sign_url</th>\n",
       "      <th>status</th>\n",
       "      <th>video_url</th>\n",
       "      <th>signer_number</th>\n",
       "      <th>signer_order</th>\n",
       "      <th>attempts</th>\n",
       "    </tr>\n",
       "  </thead>\n",
       "  <tbody>\n",
       "    <tr>\n",
       "      <th>0</th>\n",
       "      <td>À noite toda</td>\n",
       "      <td>https://libras.cin.ufpe.br/sign/885</td>\n",
       "      <td>success</td>\n",
       "      <td>https://libras.cin.ufpe.br/storage/videos/2021...</td>\n",
       "      <td>1</td>\n",
       "      <td>132</td>\n",
       "      <td>1</td>\n",
       "    </tr>\n",
       "    <tr>\n",
       "      <th>1</th>\n",
       "      <td>À noite toda</td>\n",
       "      <td>https://libras.cin.ufpe.br/sign/885</td>\n",
       "      <td>success</td>\n",
       "      <td>https://libras.cin.ufpe.br/storage/videos/2021...</td>\n",
       "      <td>3</td>\n",
       "      <td>132</td>\n",
       "      <td>1</td>\n",
       "    </tr>\n",
       "    <tr>\n",
       "      <th>2</th>\n",
       "      <td>À noite toda</td>\n",
       "      <td>https://libras.cin.ufpe.br/sign/885</td>\n",
       "      <td>success</td>\n",
       "      <td>https://libras.cin.ufpe.br/storage/videos/2021...</td>\n",
       "      <td>2</td>\n",
       "      <td>132</td>\n",
       "      <td>1</td>\n",
       "    </tr>\n",
       "    <tr>\n",
       "      <th>3</th>\n",
       "      <td>À tarde toda</td>\n",
       "      <td>https://libras.cin.ufpe.br/sign/100</td>\n",
       "      <td>success</td>\n",
       "      <td>https://libras.cin.ufpe.br/storage/videos/2020...</td>\n",
       "      <td>1</td>\n",
       "      <td>123</td>\n",
       "      <td>1</td>\n",
       "    </tr>\n",
       "    <tr>\n",
       "      <th>4</th>\n",
       "      <td>À tarde toda</td>\n",
       "      <td>https://libras.cin.ufpe.br/sign/100</td>\n",
       "      <td>success</td>\n",
       "      <td>https://libras.cin.ufpe.br/storage/videos/2020...</td>\n",
       "      <td>2</td>\n",
       "      <td>123</td>\n",
       "      <td>1</td>\n",
       "    </tr>\n",
       "  </tbody>\n",
       "</table>\n",
       "</div>"
      ],
      "text/plain": [
       "           label                             sign_url   status  \\\n",
       "0  À noite toda   https://libras.cin.ufpe.br/sign/885  success   \n",
       "1  À noite toda   https://libras.cin.ufpe.br/sign/885  success   \n",
       "2  À noite toda   https://libras.cin.ufpe.br/sign/885  success   \n",
       "3  À tarde toda   https://libras.cin.ufpe.br/sign/100  success   \n",
       "4  À tarde toda   https://libras.cin.ufpe.br/sign/100  success   \n",
       "\n",
       "                                           video_url signer_number  \\\n",
       "0  https://libras.cin.ufpe.br/storage/videos/2021...             1   \n",
       "1  https://libras.cin.ufpe.br/storage/videos/2021...             3   \n",
       "2  https://libras.cin.ufpe.br/storage/videos/2021...             2   \n",
       "3  https://libras.cin.ufpe.br/storage/videos/2020...             1   \n",
       "4  https://libras.cin.ufpe.br/storage/videos/2020...             2   \n",
       "\n",
       "  signer_order  attempts  \n",
       "0          132         1  \n",
       "1          132         1  \n",
       "2          132         1  \n",
       "3          123         1  \n",
       "4          123         1  "
      ]
     },
     "execution_count": 14,
     "metadata": {},
     "output_type": "execute_result"
    }
   ],
   "source": [
    "# join back to words_and_links on sign_url\n",
    "results_df.rename(columns={'url':'sign_url', 'video_links':'video_url', 'signer_numbers':'signer_number'}, inplace=True)\n",
    "metadata_df = words_and_links.merge(results_df, on='sign_url', how='left')\n",
    "metadata_df.head()"
   ]
  },
  {
   "cell_type": "code",
   "execution_count": 15,
   "metadata": {},
   "outputs": [
    {
     "data": {
      "text/plain": [
       "Index(['label', 'sign_url', 'status', 'video_url', 'signer_number',\n",
       "       'signer_order', 'attempts'],\n",
       "      dtype='object')"
      ]
     },
     "execution_count": 15,
     "metadata": {},
     "output_type": "execute_result"
    }
   ],
   "source": [
    "metadata_df.columns"
   ]
  },
  {
   "cell_type": "markdown",
   "metadata": {},
   "source": [
    "Save selected columns"
   ]
  },
  {
   "cell_type": "code",
   "execution_count": 16,
   "metadata": {},
   "outputs": [],
   "source": [
    "metadata_df[\n",
    "    ['label', 'signer_number', 'video_url', 'sign_url', 'signer_order']\n",
    "       ].to_csv('data/raw/V-Librasil/metadata.csv', index=False)"
   ]
  },
  {
   "cell_type": "markdown",
   "metadata": {},
   "source": [
    "## SignBank\n",
    "\n",
    "tbc"
   ]
  },
  {
   "cell_type": "code",
   "execution_count": null,
   "metadata": {},
   "outputs": [],
   "source": []
  }
 ],
 "metadata": {
  "kernelspec": {
   "display_name": ".venv",
   "language": "python",
   "name": "python3"
  },
  "language_info": {
   "codemirror_mode": {
    "name": "ipython",
    "version": 3
   },
   "file_extension": ".py",
   "mimetype": "text/x-python",
   "name": "python",
   "nbconvert_exporter": "python",
   "pygments_lexer": "ipython3",
   "version": "3.11.8"
  }
 },
 "nbformat": 4,
 "nbformat_minor": 2
}
