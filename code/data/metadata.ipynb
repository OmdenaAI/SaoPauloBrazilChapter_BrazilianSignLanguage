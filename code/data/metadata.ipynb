{
 "cells": [
  {
   "cell_type": "markdown",
   "metadata": {},
   "source": [
    "# Metadata\n",
    "- This notebook is for processing the various information scraped and combining it into one `metadata.csv`\n",
    "- For each data source, the file will be stored at `data/raw/{data source}/metadata.csv`"
   ]
  },
  {
   "cell_type": "code",
   "execution_count": 1,
   "metadata": {},
   "outputs": [],
   "source": [
    "import pandas as pd\n",
    "from tqdm import tqdm\n",
    "tqdm.pandas()\n",
    "from multiprocessing import Pool\n",
    "import os\n",
    "import requests"
   ]
  },
  {
   "cell_type": "code",
   "execution_count": 2,
   "metadata": {},
   "outputs": [
    {
     "data": {
      "text/plain": [
       "'/home/ben/projects/SaoPauloBrazilChapter_BrazilianSignLanguage'"
      ]
     },
     "execution_count": 2,
     "metadata": {},
     "output_type": "execute_result"
    }
   ],
   "source": [
    "# change working directory to the project root directory\n",
    "current_dir = os.getcwd()\n",
    "os.chdir(current_dir + '/../../')\n",
    "# this should be the project root directory\n",
    "os.getcwd()"
   ]
  },
  {
   "cell_type": "markdown",
   "metadata": {},
   "source": [
    "## INES\n",
    "\n",
    "- Uses the existing columns in `INES_Metadata.csv`\n",
    "- checks if the video file exists or not\n",
    "- adds the column `file_exists`"
   ]
  },
  {
   "cell_type": "markdown",
   "metadata": {},
   "source": [
    "Load the `INES_metadata.csv` to get the Video URLs"
   ]
  },
  {
   "cell_type": "code",
   "execution_count": 3,
   "metadata": {},
   "outputs": [
    {
     "data": {
      "text/html": [
       "<div>\n",
       "<style scoped>\n",
       "    .dataframe tbody tr th:only-of-type {\n",
       "        vertical-align: middle;\n",
       "    }\n",
       "\n",
       "    .dataframe tbody tr th {\n",
       "        vertical-align: top;\n",
       "    }\n",
       "\n",
       "    .dataframe thead th {\n",
       "        text-align: right;\n",
       "    }\n",
       "</style>\n",
       "<table border=\"1\" class=\"dataframe\">\n",
       "  <thead>\n",
       "    <tr style=\"text-align: right;\">\n",
       "      <th></th>\n",
       "      <th>Letter</th>\n",
       "      <th>Word</th>\n",
       "      <th>Video URL</th>\n",
       "      <th>Image URL</th>\n",
       "    </tr>\n",
       "  </thead>\n",
       "  <tbody>\n",
       "    <tr>\n",
       "      <th>0</th>\n",
       "      <td>B</td>\n",
       "      <td>B</td>\n",
       "      <td>https://www.ines.gov.br/dicionario-de-libras/p...</td>\n",
       "      <td>No Image Available</td>\n",
       "    </tr>\n",
       "    <tr>\n",
       "      <th>1</th>\n",
       "      <td>B</td>\n",
       "      <td>BABA</td>\n",
       "      <td>https://www.ines.gov.br/dicionario-de-libras/p...</td>\n",
       "      <td>No Image Available</td>\n",
       "    </tr>\n",
       "    <tr>\n",
       "      <th>2</th>\n",
       "      <td>B</td>\n",
       "      <td>BABÁ1</td>\n",
       "      <td>https://www.ines.gov.br/dicionario-de-libras/p...</td>\n",
       "      <td>No Image Available</td>\n",
       "    </tr>\n",
       "    <tr>\n",
       "      <th>3</th>\n",
       "      <td>B</td>\n",
       "      <td>BABÁ2</td>\n",
       "      <td>https://www.ines.gov.br/dicionario-de-libras/p...</td>\n",
       "      <td>No Image Available</td>\n",
       "    </tr>\n",
       "    <tr>\n",
       "      <th>4</th>\n",
       "      <td>B</td>\n",
       "      <td>BABADO</td>\n",
       "      <td>https://www.ines.gov.br/dicionario-de-libras/p...</td>\n",
       "      <td>No Image Available</td>\n",
       "    </tr>\n",
       "  </tbody>\n",
       "</table>\n",
       "</div>"
      ],
      "text/plain": [
       "  Letter    Word                                          Video URL  \\\n",
       "0      B       B  https://www.ines.gov.br/dicionario-de-libras/p...   \n",
       "1      B    BABA  https://www.ines.gov.br/dicionario-de-libras/p...   \n",
       "2      B   BABÁ1  https://www.ines.gov.br/dicionario-de-libras/p...   \n",
       "3      B   BABÁ2  https://www.ines.gov.br/dicionario-de-libras/p...   \n",
       "4      B  BABADO  https://www.ines.gov.br/dicionario-de-libras/p...   \n",
       "\n",
       "            Image URL  \n",
       "0  No Image Available  \n",
       "1  No Image Available  \n",
       "2  No Image Available  \n",
       "3  No Image Available  \n",
       "4  No Image Available  "
      ]
     },
     "execution_count": 3,
     "metadata": {},
     "output_type": "execute_result"
    }
   ],
   "source": [
    "ines_csv = pd.read_csv('data/raw/INES/INES_Metadata.csv')\n",
    "ines_csv.head()"
   ]
  },
  {
   "cell_type": "markdown",
   "metadata": {},
   "source": [
    "Find a difference in response between URLs for words that have/don't have a video file "
   ]
  },
  {
   "cell_type": "code",
   "execution_count": 4,
   "metadata": {},
   "outputs": [
    {
     "data": {
      "text/plain": [
       "'text/html;charset=utf-8'"
      ]
     },
     "execution_count": 4,
     "metadata": {},
     "output_type": "execute_result"
    }
   ],
   "source": [
    "# invalid url\n",
    "invalid = 'https://www.ines.gov.br/dicionario-de-libras/public/media/palavras/videos/baba1Sm_Prog001.mp4'\n",
    "response = requests.get(invalid, stream=True)\n",
    "response.headers['Content-Type']"
   ]
  },
  {
   "cell_type": "code",
   "execution_count": 5,
   "metadata": {},
   "outputs": [
    {
     "data": {
      "text/plain": [
       "'video/mp4'"
      ]
     },
     "execution_count": 5,
     "metadata": {},
     "output_type": "execute_result"
    }
   ],
   "source": [
    "# valid url\n",
    "valid = 'https://www.ines.gov.br/dicionario-de-libras/public/media/palavras/videos/babadorSm_Prog001.mp4'\n",
    "response = requests.get(valid, stream=True)\n",
    "response.headers['Content-Type']"
   ]
  },
  {
   "cell_type": "markdown",
   "metadata": {},
   "source": [
    "This takes a while to run since it checks every URL, so just get the info from `video_file_exists.csv` or `metadata.csv`\n",
    "\n",
    "*(took X minutes on Ben's PC/connection)*"
   ]
  },
  {
   "cell_type": "code",
   "execution_count": 10,
   "metadata": {},
   "outputs": [],
   "source": [
    "import asyncio\n",
    "import aiohttp\n",
    "import random\n",
    "from aiohttp import ClientConnectorError, ClientTimeout"
   ]
  },
  {
   "cell_type": "code",
   "execution_count": null,
   "metadata": {},
   "outputs": [],
   "source": [
    "video_urls = ines_csv['Video URL'].tolist()\n",
    "\n",
    "file_exists = []"
   ]
  },
  {
   "cell_type": "code",
   "execution_count": 13,
   "metadata": {},
   "outputs": [
    {
     "name": "stdout",
     "output_type": "stream",
     "text": [
      "Starting to check 13778 URLs...\n",
      "Progress: 5.0% (689/13778 URLs checked)\n",
      "\n",
      "Retrying URL 1066/13778 (attempt 2/5)\n",
      "\n",
      "Retrying URL 1074/13778 (attempt 2/5)\n",
      "\n",
      "Retrying URL 1070/13778 (attempt 2/5)\n",
      "\n",
      "Retrying URL 1090/13778 (attempt 2/5)\n",
      "\n",
      "Retrying URL 1160/13778 (attempt 2/5)\n",
      "\n",
      "Retrying URL 1174/13778 (attempt 2/5)\n",
      "\n",
      "Retrying URL 1066/13778 (attempt 3/5)\n",
      "\n",
      "Retrying URL 1074/13778 (attempt 3/5)\n",
      "\n",
      "Retrying URL 1070/13778 (attempt 3/5)\n",
      "\n",
      "Retrying URL 1090/13778 (attempt 3/5)\n",
      "\n",
      "Retrying URL 1216/13778 (attempt 2/5)\n",
      "\n",
      "Retrying URL 1229/13778 (attempt 2/5)\n",
      "Progress: 10.0% (1378/13778 URLs checked)\n",
      "Progress: 15.0% (2067/13778 URLs checked)\n",
      "Progress: 20.0% (2756/13778 URLs checked)\n",
      "Progress: 25.0% (3445/13778 URLs checked)\n",
      "Progress: 30.0% (4134/13778 URLs checked)\n",
      "Progress: 35.0% (4823/13778 URLs checked)\n",
      "Progress: 40.0% (5512/13778 URLs checked)\n",
      "Progress: 45.0% (6201/13778 URLs checked)\n",
      "Progress: 50.0% (6889/13778 URLs checked)\n",
      "Progress: 55.0% (7578/13778 URLs checked)\n",
      "\n",
      "Retrying URL 8060/13778 (attempt 2/5)\n",
      "Progress: 60.0% (8267/13778 URLs checked)\n",
      "Progress: 65.0% (8956/13778 URLs checked)\n",
      "Progress: 70.0% (9645/13778 URLs checked)\n",
      "Progress: 75.0% (10334/13778 URLs checked)\n",
      "Progress: 80.0% (11023/13778 URLs checked)\n",
      "Progress: 85.0% (11712/13778 URLs checked)\n",
      "Progress: 90.0% (12401/13778 URLs checked)\n",
      "Progress: 95.0% (13090/13778 URLs checked)\n",
      "Progress: 100.0% (13778/13778 URLs checked)\n",
      "\n",
      "Finished checking URLs. Found 12928 existing videos out of 13778\n"
     ]
    }
   ],
   "source": [
    "# Limit concurrent requests\n",
    "MAX_CONCURRENT = 10  # Reduce this if still getting errors\n",
    "RETRY_COUNT = 5     # Increased from 3\n",
    "\n",
    "async def check_url(url, index, total, semaphore, retry_count=RETRY_COUNT):\n",
    "    timeout = ClientTimeout(total=30)\n",
    "    \n",
    "    async with semaphore:  # Control concurrent requests\n",
    "        for attempt in range(retry_count):\n",
    "            try:\n",
    "                # Longer delay between requests\n",
    "                await asyncio.sleep(random.uniform(0.5, 1.0))\n",
    "                \n",
    "                async with aiohttp.ClientSession(timeout=timeout) as session:\n",
    "                    async with session.get(url) as response:\n",
    "                        exists = response.headers['Content-Type'] == 'video/mp4'\n",
    "                        percent = (index + 1) / total * 100\n",
    "                        if percent % 5 < (1 / total * 100):\n",
    "                            print(f\"Progress: {percent:.1f}% ({index + 1}/{total} URLs checked)\")\n",
    "                        return exists\n",
    "                        \n",
    "            except (ClientConnectorError, asyncio.TimeoutError) as e:\n",
    "                if attempt == retry_count - 1:  # Last attempt\n",
    "                    print(f\"\\nFailed to check URL after {retry_count} attempts: {url}\\nError: {str(e)}\")\n",
    "                    return False\n",
    "                print(f\"\\nRetrying URL {index + 1}/{total} (attempt {attempt + 2}/{retry_count})\")\n",
    "                # Longer wait between retries\n",
    "                await asyncio.sleep(random.uniform(2, 3))\n",
    "            except Exception as e:\n",
    "                print(f\"\\nUnexpected error for URL {index + 1}/{total}: {str(e)}\")\n",
    "                return False\n",
    "\n",
    "async def check_all_urls(urls):\n",
    "    total = len(urls)\n",
    "    print(f\"Starting to check {total} URLs...\")\n",
    "    \n",
    "    # Create semaphore to limit concurrent requests\n",
    "    semaphore = asyncio.Semaphore(MAX_CONCURRENT)\n",
    "    \n",
    "    tasks = [check_url(url, i, total, semaphore) for i, url in enumerate(urls)]\n",
    "    results = await asyncio.gather(*tasks, return_exceptions=True)\n",
    "    \n",
    "    # Filter out any exceptions and count successes\n",
    "    valid_results = [r for r in results if isinstance(r, bool)]\n",
    "    exists_count = sum(1 for r in valid_results if r)\n",
    "    \n",
    "    print(f\"\\nFinished checking URLs. Found {exists_count} existing videos out of {total}\")\n",
    "    return results\n",
    "\n",
    "# Use it with:\n",
    "file_exists = await check_all_urls(video_urls)"
   ]
  },
  {
   "cell_type": "code",
   "execution_count": 14,
   "metadata": {},
   "outputs": [
    {
     "data": {
      "text/plain": [
       "13778"
      ]
     },
     "execution_count": 14,
     "metadata": {},
     "output_type": "execute_result"
    }
   ],
   "source": [
    "len(file_exists)"
   ]
  },
  {
   "cell_type": "markdown",
   "metadata": {},
   "source": [
    "Save this as `video_file_exists.csv` so that if `metadata.csv` is overwritten, we don't lose this info"
   ]
  },
  {
   "cell_type": "code",
   "execution_count": 16,
   "metadata": {},
   "outputs": [],
   "source": [
    "file_exists_df = ines_csv[['Word', 'Video URL']].copy()\n",
    "file_exists_df.rename(columns={'Word':'label','Video URL': 'video_url'}, inplace=True)\n",
    "file_exists_df['file_exists'] = file_exists\n",
    "\n",
    "file_exists_df.to_csv('data/raw/INES/video_file_exists.csv', index=False)"
   ]
  },
  {
   "cell_type": "markdown",
   "metadata": {},
   "source": [
    "Make `metadata_df` using the already saved `video_file_exists.csv` to avoid running the requests code again"
   ]
  },
  {
   "cell_type": "code",
   "execution_count": 17,
   "metadata": {},
   "outputs": [],
   "source": [
    "metadata_df = pd.read_csv('data/raw/INES/video_file_exists.csv')\n",
    "\n",
    "# Join on any other info \n",
    "pass\n",
    "pass\n",
    "pass\n",
    "\n",
    "# Save the metadata.csv file\n",
    "metadata_df.to_csv('data/raw/INES/metadata.csv', index=False)"
   ]
  },
  {
   "cell_type": "markdown",
   "metadata": {},
   "source": [
    "## V-Librasil\n",
    "\n",
    "- Uses the existing information in `v_librasil_words_n_links.txt`\n",
    "- Uses the links to each word's page\n",
    "- Collects the video file links for each interpreter\n",
    "- Combines it into a `.csv` file"
   ]
  },
  {
   "cell_type": "markdown",
   "metadata": {},
   "source": [
    "#### Fixing `v_librasil_words_n_links.txt`"
   ]
  },
  {
   "cell_type": "code",
   "execution_count": 27,
   "metadata": {},
   "outputs": [],
   "source": [
    "# load .txt file as a string\n",
    "words_and_links = open('data/raw/V-Librasil/words/v_librasil_words_n_links.txt', 'r').read()\n",
    "words_and_links = words_and_links.split('\\n')"
   ]
  },
  {
   "cell_type": "code",
   "execution_count": 29,
   "metadata": {},
   "outputs": [
    {
     "name": "stdout",
     "output_type": "stream",
     "text": [
      "Bigode https://libras.cin.ufpe.br/sign/826Bilhão https://libras.cin.ufpe.br/sign/105\n"
     ]
    }
   ],
   "source": [
    "# one line had two lines combined\n",
    "for line in words_and_links:\n",
    "    if len(line.split('https://')) > 2:\n",
    "        print(line)"
   ]
  },
  {
   "cell_type": "code",
   "execution_count": 31,
   "metadata": {},
   "outputs": [
    {
     "name": "stdout",
     "output_type": "stream",
     "text": [
      "Bigode https://libras.cin.ufpe.br/sign/826\n",
      "Bilhão https://libras.cin.ufpe.br/sign/105\n"
     ]
    }
   ],
   "source": [
    "# i edited the file directly to fix it\n",
    "# load .txt file as a string\n",
    "words_and_links = open('data/raw/V-Librasil/words/v_librasil_words_n_links.txt', 'r').read()\n",
    "words_and_links = words_and_links.split('\\n')\n",
    "\n",
    "# one line had two lines combined\n",
    "for line in words_and_links:\n",
    "    if 'Bigode' in line:\n",
    "        print(line)\n",
    "    if 'Bilhão' in line:\n",
    "        print(line)"
   ]
  },
  {
   "cell_type": "markdown",
   "metadata": {},
   "source": [
    "#### Making `metadata.csv`"
   ]
  },
  {
   "cell_type": "markdown",
   "metadata": {},
   "source": [
    "turning `v_librasil_words_n_links.txt` into a DataFrame"
   ]
  },
  {
   "cell_type": "code",
   "execution_count": 3,
   "metadata": {},
   "outputs": [
    {
     "data": {
      "text/html": [
       "<div>\n",
       "<style scoped>\n",
       "    .dataframe tbody tr th:only-of-type {\n",
       "        vertical-align: middle;\n",
       "    }\n",
       "\n",
       "    .dataframe tbody tr th {\n",
       "        vertical-align: top;\n",
       "    }\n",
       "\n",
       "    .dataframe thead th {\n",
       "        text-align: right;\n",
       "    }\n",
       "</style>\n",
       "<table border=\"1\" class=\"dataframe\">\n",
       "  <thead>\n",
       "    <tr style=\"text-align: right;\">\n",
       "      <th></th>\n",
       "      <th>label</th>\n",
       "      <th>sign_url</th>\n",
       "    </tr>\n",
       "  </thead>\n",
       "  <tbody>\n",
       "    <tr>\n",
       "      <th>0</th>\n",
       "      <td>À noite toda</td>\n",
       "      <td>https://libras.cin.ufpe.br/sign/885</td>\n",
       "    </tr>\n",
       "    <tr>\n",
       "      <th>1</th>\n",
       "      <td>À tarde toda</td>\n",
       "      <td>https://libras.cin.ufpe.br/sign/100</td>\n",
       "    </tr>\n",
       "    <tr>\n",
       "      <th>2</th>\n",
       "      <td>Abacaxi</td>\n",
       "      <td>https://libras.cin.ufpe.br/sign/817</td>\n",
       "    </tr>\n",
       "    <tr>\n",
       "      <th>3</th>\n",
       "      <td>Abanar</td>\n",
       "      <td>https://libras.cin.ufpe.br/sign/1536</td>\n",
       "    </tr>\n",
       "    <tr>\n",
       "      <th>4</th>\n",
       "      <td>Abandonar</td>\n",
       "      <td>https://libras.cin.ufpe.br/sign/71</td>\n",
       "    </tr>\n",
       "  </tbody>\n",
       "</table>\n",
       "</div>"
      ],
      "text/plain": [
       "           label                              sign_url\n",
       "0  À noite toda    https://libras.cin.ufpe.br/sign/885\n",
       "1  À tarde toda    https://libras.cin.ufpe.br/sign/100\n",
       "2       Abacaxi    https://libras.cin.ufpe.br/sign/817\n",
       "3        Abanar   https://libras.cin.ufpe.br/sign/1536\n",
       "4     Abandonar     https://libras.cin.ufpe.br/sign/71"
      ]
     },
     "execution_count": 3,
     "metadata": {},
     "output_type": "execute_result"
    }
   ],
   "source": [
    "words_and_links = pd.read_csv('data/raw/V-Librasil/words/v_librasil_words_n_links.txt', sep='https', header=None, engine='python')\n",
    "words_and_links.columns = ['label', 'sign_url']\n",
    "words_and_links.sign_url = words_and_links.sign_url.apply(lambda x: 'https' + x)\n",
    "words_and_links.head()"
   ]
  },
  {
   "cell_type": "markdown",
   "metadata": {},
   "source": [
    "getting video URLs (~3 for each sign)"
   ]
  },
  {
   "cell_type": "code",
   "execution_count": null,
   "metadata": {},
   "outputs": [],
   "source": [
    "from bs4 import BeautifulSoup\n",
    "\n",
    "def get_video_urls(url):\n",
    "    response = requests.get(url)\n",
    "\n",
    "    if response.status_code == 200:\n",
    "        video_links = []\n",
    "        signer_numbers = []\n",
    "        signer_order = ''\n",
    "        html = response.content\n",
    "        soup = BeautifulSoup(html, 'html.parser')\n",
    "        \n",
    "        # go inside div class container\n",
    "        container = soup.find('section', class_='page-section').find('div', class_='container')\n",
    "        # go inside div class row\n",
    "        rows = [child for child in container.children if child.name == 'div']\n",
    "\n",
    "        # get the video and signer number\n",
    "        for row in rows:\n",
    "            signer_number = row.find('h2').text.strip().split(' ')[1]\n",
    "            link = row.find('source').get('src')\n",
    "            video_links.append(link)\n",
    "            signer_numbers.append(signer_number)\n",
    "            signer_order += signer_number\n",
    "        return video_links, signer_numbers, signer_order\n",
    "\n",
    "    else:\n",
    "        print(f\"Response code != 200, Failed to get video URLs for {link}\")\n",
    "        return None"
   ]
  },
  {
   "cell_type": "code",
   "execution_count": null,
   "metadata": {},
   "outputs": [],
   "source": [
    "words_and_links['all_video_info'] = words_and_links['sign_url'].progress_apply(get_video_urls)"
   ]
  },
  {
   "cell_type": "markdown",
   "metadata": {},
   "source": [
    "One by one takes a while, so I asked AI to make it async"
   ]
  },
  {
   "cell_type": "code",
   "execution_count": 9,
   "metadata": {},
   "outputs": [],
   "source": [
    "df = words_and_links.copy()"
   ]
  },
  {
   "cell_type": "code",
   "execution_count": 13,
   "metadata": {},
   "outputs": [
    {
     "name": "stderr",
     "output_type": "stream",
     "text": [
      "Processing URLs: 100%|██████████| 1000/1000 [02:31<00:00,  6.59it/s]\n"
     ]
    }
   ],
   "source": [
    "import pandas as pd\n",
    "import asyncio\n",
    "import aiohttp\n",
    "from tqdm import tqdm\n",
    "import logging\n",
    "import random\n",
    "from typing import Dict, Any\n",
    "from bs4 import BeautifulSoup\n",
    "\n",
    "class AsyncRequestProcessor:\n",
    "    def __init__(\n",
    "        self,\n",
    "        max_concurrent: int = 10,\n",
    "        max_retries: int = 3,\n",
    "        retry_delay: float = 1.0,\n",
    "        timeout: int = 30\n",
    "    ):\n",
    "        self.max_concurrent = max_concurrent\n",
    "        self.max_retries = max_retries\n",
    "        self.retry_delay = retry_delay\n",
    "        self.timeout = timeout\n",
    "        self.setup_logging()\n",
    "\n",
    "    def setup_logging(self):\n",
    "        logging.basicConfig(\n",
    "            level=logging.INFO,\n",
    "            format='%(asctime)s - %(levelname)s - %(message)s'\n",
    "        )\n",
    "        self.logger = logging.getLogger(__name__)\n",
    "\n",
    "    async def process_url(\n",
    "        self,\n",
    "        url: str,\n",
    "        session: aiohttp.ClientSession,\n",
    "        semaphore: asyncio.Semaphore\n",
    "    ) -> Dict[str, Any]:\n",
    "        for attempt in range(self.max_retries):\n",
    "            try:\n",
    "                async with semaphore:\n",
    "                    # Random delay between requests\n",
    "                    await asyncio.sleep(random.uniform(0.1, 0.3))\n",
    "                    \n",
    "                    # Call get_video_urls function\n",
    "                    video_links, signer_numbers, signer_order = await get_video_urls(url, session)\n",
    "                    return {\n",
    "                        'url': url,\n",
    "                        'status': 'success',\n",
    "                        'video_links': video_links,\n",
    "                        'signer_numbers': signer_numbers,\n",
    "                        'signer_order': signer_order,\n",
    "                        'attempts': attempt + 1\n",
    "                    }\n",
    "                    \n",
    "            except aiohttp.ClientError as e:\n",
    "                if attempt == self.max_retries - 1:\n",
    "                    return {\n",
    "                        'url': url,\n",
    "                        'status': 'error',\n",
    "                        'error': f'Network error: {str(e)}',\n",
    "                        'attempts': attempt + 1\n",
    "                    }\n",
    "                await asyncio.sleep(self.retry_delay * (attempt + 1))\n",
    "            except Exception as e:\n",
    "                return {\n",
    "                    'url': url,\n",
    "                    'status': 'error',\n",
    "                    'error': str(e),\n",
    "                    'attempts': attempt + 1\n",
    "                }\n",
    "\n",
    "    async def process_urls(self, urls: list) -> list:\n",
    "        semaphore = asyncio.Semaphore(self.max_concurrent)\n",
    "        timeout = aiohttp.ClientTimeout(total=self.timeout)\n",
    "        \n",
    "        async with aiohttp.ClientSession(timeout=timeout) as session:\n",
    "            tasks = [\n",
    "                self.process_url(url, session, semaphore)\n",
    "                for url in urls\n",
    "            ]\n",
    "            \n",
    "            results = []\n",
    "            failed = 0\n",
    "            for f in tqdm(\n",
    "                asyncio.as_completed(tasks),\n",
    "                total=len(tasks),\n",
    "                desc=\"Processing URLs\"\n",
    "            ):\n",
    "                result = await f\n",
    "                if result['status'] == 'error':\n",
    "                    failed += 1\n",
    "                    self.logger.warning(\n",
    "                        f\"Failed to process {result['url']}: {result['error']}\"\n",
    "                    )\n",
    "                results.append(result)\n",
    "            \n",
    "            self.logger.info(\n",
    "                f\"Completed processing {len(results)} URLs. \"\n",
    "                f\"Failed: {failed}\"\n",
    "            )\n",
    "            return results\n",
    "\n",
    "async def get_video_urls(url: str, session: aiohttp.ClientSession):\n",
    "    async with session.get(url) as response:\n",
    "        if response.status == 200:\n",
    "            video_links = []\n",
    "            signer_numbers = []\n",
    "            signer_order = ''\n",
    "            \n",
    "            # Get the HTML content\n",
    "            html = await response.text()\n",
    "            soup = BeautifulSoup(html, 'html.parser')\n",
    "            \n",
    "            # go inside div class container\n",
    "            container = soup.find('section', class_='page-section').find('div', class_='container')\n",
    "            # go inside div class row\n",
    "            rows = [child for child in container.children if child.name == 'div']\n",
    "\n",
    "            # get the video and signer number\n",
    "            for row in rows:\n",
    "                signer_number = row.find('h2').text.strip().split(' ')[1]\n",
    "                link = row.find('source').get('src')\n",
    "                video_links.append(link)\n",
    "                signer_numbers.append(signer_number)\n",
    "                signer_order += signer_number\n",
    "            return video_links, signer_numbers, signer_order\n",
    "        else:\n",
    "            raise aiohttp.ClientError(f\"Response code {response.status}, Failed to get video URLs for {url}\")\n",
    "\n",
    "# For Jupyter notebook execution\n",
    "async def main(df):\n",
    "    processor = AsyncRequestProcessor(\n",
    "        max_concurrent=10,\n",
    "        max_retries=3,\n",
    "        retry_delay=1.0,\n",
    "        timeout=30\n",
    "    )\n",
    "    \n",
    "    results = await processor.process_urls(df['sign_url'].tolist())\n",
    "    return pd.DataFrame(results)\n",
    "\n",
    "# Execute in Jupyter\n",
    "try:\n",
    "    # Get current notebook's event loop\n",
    "    loop = asyncio.get_event_loop()\n",
    "    results_df = await main(df)  # Use await here in Jupyter\n",
    "    \n",
    "    # Process results into final dataframe\n",
    "    successful_results = results_df[results_df['status'] == 'success']\n",
    "    \n",
    "    # Create separate columns for video links and signer information\n",
    "    df_expanded = pd.concat([\n",
    "        df,\n",
    "        pd.DataFrame({\n",
    "            'video_links': successful_results['video_links'],\n",
    "            'signer_numbers': successful_results['signer_numbers'],\n",
    "            'signer_order': successful_results['signer_order']\n",
    "        })\n",
    "    ], axis=1)\n",
    "    \n",
    "except Exception as e:\n",
    "    logging.error(f\"Processing failed: {str(e)}\")"
   ]
  },
  {
   "cell_type": "code",
   "execution_count": 16,
   "metadata": {},
   "outputs": [
    {
     "data": {
      "text/html": [
       "<div>\n",
       "<style scoped>\n",
       "    .dataframe tbody tr th:only-of-type {\n",
       "        vertical-align: middle;\n",
       "    }\n",
       "\n",
       "    .dataframe tbody tr th {\n",
       "        vertical-align: top;\n",
       "    }\n",
       "\n",
       "    .dataframe thead th {\n",
       "        text-align: right;\n",
       "    }\n",
       "</style>\n",
       "<table border=\"1\" class=\"dataframe\">\n",
       "  <thead>\n",
       "    <tr style=\"text-align: right;\">\n",
       "      <th></th>\n",
       "      <th>url</th>\n",
       "      <th>status</th>\n",
       "      <th>video_links</th>\n",
       "      <th>signer_numbers</th>\n",
       "      <th>signer_order</th>\n",
       "      <th>attempts</th>\n",
       "    </tr>\n",
       "  </thead>\n",
       "  <tbody>\n",
       "    <tr>\n",
       "      <th>0</th>\n",
       "      <td>https://libras.cin.ufpe.br/sign/1070</td>\n",
       "      <td>success</td>\n",
       "      <td>[https://libras.cin.ufpe.br/storage/videos/202...</td>\n",
       "      <td>[3, 1, 2]</td>\n",
       "      <td>312</td>\n",
       "      <td>1</td>\n",
       "    </tr>\n",
       "    <tr>\n",
       "      <th>1</th>\n",
       "      <td>https://libras.cin.ufpe.br/sign/220</td>\n",
       "      <td>success</td>\n",
       "      <td>[https://libras.cin.ufpe.br/storage/videos/202...</td>\n",
       "      <td>[2, 1, 3]</td>\n",
       "      <td>213</td>\n",
       "      <td>1</td>\n",
       "    </tr>\n",
       "    <tr>\n",
       "      <th>2</th>\n",
       "      <td>https://libras.cin.ufpe.br/sign/655</td>\n",
       "      <td>success</td>\n",
       "      <td>[https://libras.cin.ufpe.br/storage/videos/202...</td>\n",
       "      <td>[2, 1, 3]</td>\n",
       "      <td>213</td>\n",
       "      <td>1</td>\n",
       "    </tr>\n",
       "    <tr>\n",
       "      <th>3</th>\n",
       "      <td>https://libras.cin.ufpe.br/sign/439</td>\n",
       "      <td>success</td>\n",
       "      <td>[https://libras.cin.ufpe.br/storage/videos/202...</td>\n",
       "      <td>[1, 2, 3]</td>\n",
       "      <td>123</td>\n",
       "      <td>1</td>\n",
       "    </tr>\n",
       "    <tr>\n",
       "      <th>4</th>\n",
       "      <td>https://libras.cin.ufpe.br/sign/115</td>\n",
       "      <td>success</td>\n",
       "      <td>[https://libras.cin.ufpe.br/storage/videos/202...</td>\n",
       "      <td>[1, 2, 3]</td>\n",
       "      <td>123</td>\n",
       "      <td>1</td>\n",
       "    </tr>\n",
       "  </tbody>\n",
       "</table>\n",
       "</div>"
      ],
      "text/plain": [
       "                                    url   status  \\\n",
       "0  https://libras.cin.ufpe.br/sign/1070  success   \n",
       "1   https://libras.cin.ufpe.br/sign/220  success   \n",
       "2   https://libras.cin.ufpe.br/sign/655  success   \n",
       "3   https://libras.cin.ufpe.br/sign/439  success   \n",
       "4   https://libras.cin.ufpe.br/sign/115  success   \n",
       "\n",
       "                                         video_links signer_numbers  \\\n",
       "0  [https://libras.cin.ufpe.br/storage/videos/202...      [3, 1, 2]   \n",
       "1  [https://libras.cin.ufpe.br/storage/videos/202...      [2, 1, 3]   \n",
       "2  [https://libras.cin.ufpe.br/storage/videos/202...      [2, 1, 3]   \n",
       "3  [https://libras.cin.ufpe.br/storage/videos/202...      [1, 2, 3]   \n",
       "4  [https://libras.cin.ufpe.br/storage/videos/202...      [1, 2, 3]   \n",
       "\n",
       "  signer_order  attempts  \n",
       "0          312         1  \n",
       "1          213         1  \n",
       "2          213         1  \n",
       "3          123         1  \n",
       "4          123         1  "
      ]
     },
     "execution_count": 16,
     "metadata": {},
     "output_type": "execute_result"
    }
   ],
   "source": [
    "results_df.head()"
   ]
  },
  {
   "cell_type": "code",
   "execution_count": 15,
   "metadata": {},
   "outputs": [
    {
     "data": {
      "text/plain": [
       "status\n",
       "success    1000\n",
       "Name: count, dtype: int64"
      ]
     },
     "execution_count": 15,
     "metadata": {},
     "output_type": "execute_result"
    }
   ],
   "source": [
    "results_df.status.value_counts()"
   ]
  },
  {
   "cell_type": "code",
   "execution_count": 18,
   "metadata": {},
   "outputs": [
    {
     "data": {
      "text/html": [
       "<div>\n",
       "<style scoped>\n",
       "    .dataframe tbody tr th:only-of-type {\n",
       "        vertical-align: middle;\n",
       "    }\n",
       "\n",
       "    .dataframe tbody tr th {\n",
       "        vertical-align: top;\n",
       "    }\n",
       "\n",
       "    .dataframe thead th {\n",
       "        text-align: right;\n",
       "    }\n",
       "</style>\n",
       "<table border=\"1\" class=\"dataframe\">\n",
       "  <thead>\n",
       "    <tr style=\"text-align: right;\">\n",
       "      <th></th>\n",
       "      <th>url</th>\n",
       "      <th>status</th>\n",
       "      <th>video_links</th>\n",
       "      <th>signer_numbers</th>\n",
       "      <th>signer_order</th>\n",
       "      <th>attempts</th>\n",
       "    </tr>\n",
       "  </thead>\n",
       "  <tbody>\n",
       "    <tr>\n",
       "      <th>0</th>\n",
       "      <td>https://libras.cin.ufpe.br/sign/1070</td>\n",
       "      <td>success</td>\n",
       "      <td>https://libras.cin.ufpe.br/storage/videos/2021...</td>\n",
       "      <td>3</td>\n",
       "      <td>312</td>\n",
       "      <td>1</td>\n",
       "    </tr>\n",
       "    <tr>\n",
       "      <th>0</th>\n",
       "      <td>https://libras.cin.ufpe.br/sign/1070</td>\n",
       "      <td>success</td>\n",
       "      <td>https://libras.cin.ufpe.br/storage/videos/2021...</td>\n",
       "      <td>1</td>\n",
       "      <td>312</td>\n",
       "      <td>1</td>\n",
       "    </tr>\n",
       "    <tr>\n",
       "      <th>0</th>\n",
       "      <td>https://libras.cin.ufpe.br/sign/1070</td>\n",
       "      <td>success</td>\n",
       "      <td>https://libras.cin.ufpe.br/storage/videos/2021...</td>\n",
       "      <td>2</td>\n",
       "      <td>312</td>\n",
       "      <td>1</td>\n",
       "    </tr>\n",
       "    <tr>\n",
       "      <th>1</th>\n",
       "      <td>https://libras.cin.ufpe.br/sign/220</td>\n",
       "      <td>success</td>\n",
       "      <td>https://libras.cin.ufpe.br/storage/videos/2020...</td>\n",
       "      <td>2</td>\n",
       "      <td>213</td>\n",
       "      <td>1</td>\n",
       "    </tr>\n",
       "    <tr>\n",
       "      <th>1</th>\n",
       "      <td>https://libras.cin.ufpe.br/sign/220</td>\n",
       "      <td>success</td>\n",
       "      <td>https://libras.cin.ufpe.br/storage/videos/2020...</td>\n",
       "      <td>1</td>\n",
       "      <td>213</td>\n",
       "      <td>1</td>\n",
       "    </tr>\n",
       "  </tbody>\n",
       "</table>\n",
       "</div>"
      ],
      "text/plain": [
       "                                    url   status  \\\n",
       "0  https://libras.cin.ufpe.br/sign/1070  success   \n",
       "0  https://libras.cin.ufpe.br/sign/1070  success   \n",
       "0  https://libras.cin.ufpe.br/sign/1070  success   \n",
       "1   https://libras.cin.ufpe.br/sign/220  success   \n",
       "1   https://libras.cin.ufpe.br/sign/220  success   \n",
       "\n",
       "                                         video_links signer_numbers  \\\n",
       "0  https://libras.cin.ufpe.br/storage/videos/2021...              3   \n",
       "0  https://libras.cin.ufpe.br/storage/videos/2021...              1   \n",
       "0  https://libras.cin.ufpe.br/storage/videos/2021...              2   \n",
       "1  https://libras.cin.ufpe.br/storage/videos/2020...              2   \n",
       "1  https://libras.cin.ufpe.br/storage/videos/2020...              1   \n",
       "\n",
       "  signer_order  attempts  \n",
       "0          312         1  \n",
       "0          312         1  \n",
       "0          312         1  \n",
       "1          213         1  \n",
       "1          213         1  "
      ]
     },
     "execution_count": 18,
     "metadata": {},
     "output_type": "execute_result"
    }
   ],
   "source": [
    "results_df = results_df.explode(['video_links', 'signer_numbers'])\n",
    "results_df.head()"
   ]
  },
  {
   "cell_type": "code",
   "execution_count": 21,
   "metadata": {},
   "outputs": [
    {
     "data": {
      "text/html": [
       "<div>\n",
       "<style scoped>\n",
       "    .dataframe tbody tr th:only-of-type {\n",
       "        vertical-align: middle;\n",
       "    }\n",
       "\n",
       "    .dataframe tbody tr th {\n",
       "        vertical-align: top;\n",
       "    }\n",
       "\n",
       "    .dataframe thead th {\n",
       "        text-align: right;\n",
       "    }\n",
       "</style>\n",
       "<table border=\"1\" class=\"dataframe\">\n",
       "  <thead>\n",
       "    <tr style=\"text-align: right;\">\n",
       "      <th></th>\n",
       "      <th>label</th>\n",
       "      <th>sign_url</th>\n",
       "    </tr>\n",
       "  </thead>\n",
       "  <tbody>\n",
       "    <tr>\n",
       "      <th>0</th>\n",
       "      <td>À noite toda</td>\n",
       "      <td>https://libras.cin.ufpe.br/sign/885</td>\n",
       "    </tr>\n",
       "    <tr>\n",
       "      <th>1</th>\n",
       "      <td>À tarde toda</td>\n",
       "      <td>https://libras.cin.ufpe.br/sign/100</td>\n",
       "    </tr>\n",
       "    <tr>\n",
       "      <th>2</th>\n",
       "      <td>Abacaxi</td>\n",
       "      <td>https://libras.cin.ufpe.br/sign/817</td>\n",
       "    </tr>\n",
       "    <tr>\n",
       "      <th>3</th>\n",
       "      <td>Abanar</td>\n",
       "      <td>https://libras.cin.ufpe.br/sign/1536</td>\n",
       "    </tr>\n",
       "    <tr>\n",
       "      <th>4</th>\n",
       "      <td>Abandonar</td>\n",
       "      <td>https://libras.cin.ufpe.br/sign/71</td>\n",
       "    </tr>\n",
       "  </tbody>\n",
       "</table>\n",
       "</div>"
      ],
      "text/plain": [
       "           label                              sign_url\n",
       "0  À noite toda    https://libras.cin.ufpe.br/sign/885\n",
       "1  À tarde toda    https://libras.cin.ufpe.br/sign/100\n",
       "2       Abacaxi    https://libras.cin.ufpe.br/sign/817\n",
       "3        Abanar   https://libras.cin.ufpe.br/sign/1536\n",
       "4     Abandonar     https://libras.cin.ufpe.br/sign/71"
      ]
     },
     "execution_count": 21,
     "metadata": {},
     "output_type": "execute_result"
    }
   ],
   "source": [
    "words_and_links.head()"
   ]
  },
  {
   "cell_type": "code",
   "execution_count": 22,
   "metadata": {},
   "outputs": [
    {
     "data": {
      "text/html": [
       "<div>\n",
       "<style scoped>\n",
       "    .dataframe tbody tr th:only-of-type {\n",
       "        vertical-align: middle;\n",
       "    }\n",
       "\n",
       "    .dataframe tbody tr th {\n",
       "        vertical-align: top;\n",
       "    }\n",
       "\n",
       "    .dataframe thead th {\n",
       "        text-align: right;\n",
       "    }\n",
       "</style>\n",
       "<table border=\"1\" class=\"dataframe\">\n",
       "  <thead>\n",
       "    <tr style=\"text-align: right;\">\n",
       "      <th></th>\n",
       "      <th>label</th>\n",
       "      <th>sign_url</th>\n",
       "      <th>status</th>\n",
       "      <th>video_url</th>\n",
       "      <th>signer_number</th>\n",
       "      <th>signer_order</th>\n",
       "      <th>attempts</th>\n",
       "    </tr>\n",
       "  </thead>\n",
       "  <tbody>\n",
       "    <tr>\n",
       "      <th>0</th>\n",
       "      <td>À noite toda</td>\n",
       "      <td>https://libras.cin.ufpe.br/sign/885</td>\n",
       "      <td>success</td>\n",
       "      <td>https://libras.cin.ufpe.br/storage/videos/2021...</td>\n",
       "      <td>1</td>\n",
       "      <td>132</td>\n",
       "      <td>1</td>\n",
       "    </tr>\n",
       "    <tr>\n",
       "      <th>1</th>\n",
       "      <td>À noite toda</td>\n",
       "      <td>https://libras.cin.ufpe.br/sign/885</td>\n",
       "      <td>success</td>\n",
       "      <td>https://libras.cin.ufpe.br/storage/videos/2021...</td>\n",
       "      <td>3</td>\n",
       "      <td>132</td>\n",
       "      <td>1</td>\n",
       "    </tr>\n",
       "    <tr>\n",
       "      <th>2</th>\n",
       "      <td>À noite toda</td>\n",
       "      <td>https://libras.cin.ufpe.br/sign/885</td>\n",
       "      <td>success</td>\n",
       "      <td>https://libras.cin.ufpe.br/storage/videos/2021...</td>\n",
       "      <td>2</td>\n",
       "      <td>132</td>\n",
       "      <td>1</td>\n",
       "    </tr>\n",
       "    <tr>\n",
       "      <th>3</th>\n",
       "      <td>À tarde toda</td>\n",
       "      <td>https://libras.cin.ufpe.br/sign/100</td>\n",
       "      <td>success</td>\n",
       "      <td>https://libras.cin.ufpe.br/storage/videos/2020...</td>\n",
       "      <td>1</td>\n",
       "      <td>123</td>\n",
       "      <td>1</td>\n",
       "    </tr>\n",
       "    <tr>\n",
       "      <th>4</th>\n",
       "      <td>À tarde toda</td>\n",
       "      <td>https://libras.cin.ufpe.br/sign/100</td>\n",
       "      <td>success</td>\n",
       "      <td>https://libras.cin.ufpe.br/storage/videos/2020...</td>\n",
       "      <td>2</td>\n",
       "      <td>123</td>\n",
       "      <td>1</td>\n",
       "    </tr>\n",
       "  </tbody>\n",
       "</table>\n",
       "</div>"
      ],
      "text/plain": [
       "           label                             sign_url   status  \\\n",
       "0  À noite toda   https://libras.cin.ufpe.br/sign/885  success   \n",
       "1  À noite toda   https://libras.cin.ufpe.br/sign/885  success   \n",
       "2  À noite toda   https://libras.cin.ufpe.br/sign/885  success   \n",
       "3  À tarde toda   https://libras.cin.ufpe.br/sign/100  success   \n",
       "4  À tarde toda   https://libras.cin.ufpe.br/sign/100  success   \n",
       "\n",
       "                                           video_url signer_number  \\\n",
       "0  https://libras.cin.ufpe.br/storage/videos/2021...             1   \n",
       "1  https://libras.cin.ufpe.br/storage/videos/2021...             3   \n",
       "2  https://libras.cin.ufpe.br/storage/videos/2021...             2   \n",
       "3  https://libras.cin.ufpe.br/storage/videos/2020...             1   \n",
       "4  https://libras.cin.ufpe.br/storage/videos/2020...             2   \n",
       "\n",
       "  signer_order  attempts  \n",
       "0          132         1  \n",
       "1          132         1  \n",
       "2          132         1  \n",
       "3          123         1  \n",
       "4          123         1  "
      ]
     },
     "execution_count": 22,
     "metadata": {},
     "output_type": "execute_result"
    }
   ],
   "source": [
    "# join back to words_and_links on sign_url\n",
    "results_df.rename(columns={'url':'sign_url', 'video_links':'video_url', 'signer_numbers':'signer_number'}, inplace=True)\n",
    "metadata_df = words_and_links.merge(results_df, on='sign_url', how='left')\n",
    "metadata_df.head()"
   ]
  },
  {
   "cell_type": "code",
   "execution_count": 23,
   "metadata": {},
   "outputs": [
    {
     "data": {
      "text/plain": [
       "Index(['label', 'sign_url', 'status', 'video_url', 'signer_number',\n",
       "       'signer_order', 'attempts'],\n",
       "      dtype='object')"
      ]
     },
     "execution_count": 23,
     "metadata": {},
     "output_type": "execute_result"
    }
   ],
   "source": [
    "metadata_df.columns"
   ]
  },
  {
   "cell_type": "markdown",
   "metadata": {},
   "source": [
    "Save selected columns"
   ]
  },
  {
   "cell_type": "code",
   "execution_count": 24,
   "metadata": {},
   "outputs": [],
   "source": [
    "metadata_df[\n",
    "    ['label', 'signer_number', 'video_url', 'sign_url', 'signer_order']\n",
    "       ].to_csv('data/raw/V-Librasil/metadata.csv', index=False)"
   ]
  },
  {
   "cell_type": "markdown",
   "metadata": {},
   "source": [
    "## SignBank\n",
    "\n",
    "tbc"
   ]
  },
  {
   "cell_type": "code",
   "execution_count": null,
   "metadata": {},
   "outputs": [],
   "source": []
  }
 ],
 "metadata": {
  "kernelspec": {
   "display_name": ".venv",
   "language": "python",
   "name": "python3"
  },
  "language_info": {
   "codemirror_mode": {
    "name": "ipython",
    "version": 3
   },
   "file_extension": ".py",
   "mimetype": "text/x-python",
   "name": "python",
   "nbconvert_exporter": "python",
   "pygments_lexer": "ipython3",
   "version": "3.11.8"
  }
 },
 "nbformat": 4,
 "nbformat_minor": 2
}
