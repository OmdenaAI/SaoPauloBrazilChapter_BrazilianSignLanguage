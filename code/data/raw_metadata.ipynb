{
 "cells": [
  {
   "cell_type": "markdown",
   "metadata": {},
   "source": [
    "# Metadata\n",
    "- This notebook is for processing the various raw information scraped and combining it into one `metadata.csv`\n",
    "- For each data source, the file will be stored at `data/raw/{data source}/metadata.csv`"
   ]
  },
  {
   "cell_type": "code",
   "execution_count": 1,
   "metadata": {},
   "outputs": [],
   "source": [
    "import pandas as pd\n",
    "from tqdm import tqdm\n",
    "\n",
    "import os\n",
    "import requests\n",
    "\n",
    "tqdm.pandas()"
   ]
  },
  {
   "cell_type": "code",
   "execution_count": 2,
   "metadata": {},
   "outputs": [
    {
     "data": {
      "text/plain": [
       "'/Users/gustavosantos/code/omdena/SaoPauloBrazilChapter_BrazilianSignLanguage'"
      ]
     },
     "execution_count": 2,
     "metadata": {},
     "output_type": "execute_result"
    }
   ],
   "source": [
    "# change working directory to the project root directory\n",
    "current_dir = os.getcwd()\n",
    "os.chdir(current_dir + \"/../../\")\n",
    "# this should be the project root directory\n",
    "os.getcwd()"
   ]
  },
  {
   "cell_type": "markdown",
   "metadata": {},
   "source": [
    "## INES\n",
    "\n",
    "- Uses the existing columns in `INES_Metadata.csv`\n",
    "- checks if the video file exists or not\n",
    "- adds the column `file_exists`"
   ]
  },
  {
   "cell_type": "markdown",
   "metadata": {},
   "source": [
    "Load the `INES_metadata.csv` to get the Video URLs"
   ]
  },
  {
   "cell_type": "code",
   "execution_count": null,
   "metadata": {},
   "outputs": [
    {
     "data": {
      "text/html": [
       "<div>\n",
       "<style scoped>\n",
       "    .dataframe tbody tr th:only-of-type {\n",
       "        vertical-align: middle;\n",
       "    }\n",
       "\n",
       "    .dataframe tbody tr th {\n",
       "        vertical-align: top;\n",
       "    }\n",
       "\n",
       "    .dataframe thead th {\n",
       "        text-align: right;\n",
       "    }\n",
       "</style>\n",
       "<table border=\"1\" class=\"dataframe\">\n",
       "  <thead>\n",
       "    <tr style=\"text-align: right;\">\n",
       "      <th></th>\n",
       "      <th>Letter</th>\n",
       "      <th>Word</th>\n",
       "      <th>Video URL</th>\n",
       "      <th>Image URL</th>\n",
       "      <th>Assuntos</th>\n",
       "      <th>Acepção</th>\n",
       "      <th>Exemplo</th>\n",
       "      <th>Exemplo Libras</th>\n",
       "      <th>Classe Gramatical</th>\n",
       "      <th>Origem</th>\n",
       "    </tr>\n",
       "  </thead>\n",
       "  <tbody>\n",
       "    <tr>\n",
       "      <th>0</th>\n",
       "      <td>A</td>\n",
       "      <td>A</td>\n",
       "      <td>https://www.ines.gov.br/dicionario-de-libras/p...</td>\n",
       "      <td>https://www.ines.gov.br/https://www.ines.gov.b...</td>\n",
       "      <td>NENHUM</td>\n",
       "      <td>Primeira letra do alfabeto da língua portugues...</td>\n",
       "      <td>Invente qualquer palavra que comece com a letr...</td>\n",
       "      <td>VOCÊ INVENTAR QUALQUER PALAVRA COMEÇAR A.</td>\n",
       "      <td>SUBSTANTIVO</td>\n",
       "      <td>Nacional</td>\n",
       "    </tr>\n",
       "    <tr>\n",
       "      <th>1</th>\n",
       "      <td>A</td>\n",
       "      <td>ABACATE</td>\n",
       "      <td>https://www.ines.gov.br/dicionario-de-libras/p...</td>\n",
       "      <td>https://www.ines.gov.br/https://www.ines.gov.b...</td>\n",
       "      <td>FRUTA</td>\n",
       "      <td>O fruto do abacateiro. Comestível, tem a polpa...</td>\n",
       "      <td>Você gosta de abacate com leite?</td>\n",
       "      <td>VOCÊ GOSTAR ABACATE LEITE JUNTO?</td>\n",
       "      <td>SUBSTANTIVO</td>\n",
       "      <td>Nacional</td>\n",
       "    </tr>\n",
       "    <tr>\n",
       "      <th>2</th>\n",
       "      <td>A</td>\n",
       "      <td>ABACAXI</td>\n",
       "      <td>https://www.ines.gov.br/dicionario-de-libras/p...</td>\n",
       "      <td>https://www.ines.gov.br/https://www.ines.gov.b...</td>\n",
       "      <td>FRUTA</td>\n",
       "      <td>Fruta de casca grossa e áspera. Sua polpa pode...</td>\n",
       "      <td>Hoje tomei suco de abacaxi, ele estava ácido.</td>\n",
       "      <td>HOJE S-U-C-O ABACAXI BEBER ÁCID@.</td>\n",
       "      <td>SUBSTANTIVO</td>\n",
       "      <td>Nacional</td>\n",
       "    </tr>\n",
       "    <tr>\n",
       "      <th>3</th>\n",
       "      <td>A</td>\n",
       "      <td>ABAFAR</td>\n",
       "      <td>https://www.ines.gov.br/dicionario-de-libras/p...</td>\n",
       "      <td>https://www.ines.gov.br/https://www.ines.gov.b...</td>\n",
       "      <td>NENHUM</td>\n",
       "      <td>Cobrir ou fechar, para manter o calor.</td>\n",
       "      <td>Se você quer abafar seu quarto, é melhor fecha...</td>\n",
       "      <td>S-I VOCÊ QUERER QUARTO SE@ ABAFAR A-R? MELHOR ...</td>\n",
       "      <td>VERBO</td>\n",
       "      <td>Nacional</td>\n",
       "    </tr>\n",
       "    <tr>\n",
       "      <th>4</th>\n",
       "      <td>A</td>\n",
       "      <td>ABAIXO</td>\n",
       "      <td>https://www.ines.gov.br/dicionario-de-libras/p...</td>\n",
       "      <td>https://www.ines.gov.br/https://www.ines.gov.b...</td>\n",
       "      <td>NENHUM</td>\n",
       "      <td>Lugar, posição ou situação inferior, em relaçã...</td>\n",
       "      <td>Não é no primeiro apartamento abaixo, é no seg...</td>\n",
       "      <td>APARTAMENTO PRIMEIR@ NÃO SEGUND@ ABAIXO.</td>\n",
       "      <td>ADV.</td>\n",
       "      <td>Nacional</td>\n",
       "    </tr>\n",
       "  </tbody>\n",
       "</table>\n",
       "</div>"
      ],
      "text/plain": [
       "  Letter     Word                                          Video URL  \\\n",
       "0      A        A  https://www.ines.gov.br/dicionario-de-libras/p...   \n",
       "1      A  ABACATE  https://www.ines.gov.br/dicionario-de-libras/p...   \n",
       "2      A  ABACAXI  https://www.ines.gov.br/dicionario-de-libras/p...   \n",
       "3      A   ABAFAR  https://www.ines.gov.br/dicionario-de-libras/p...   \n",
       "4      A   ABAIXO  https://www.ines.gov.br/dicionario-de-libras/p...   \n",
       "\n",
       "                                           Image URL Assuntos  \\\n",
       "0  https://www.ines.gov.br/https://www.ines.gov.b...   NENHUM   \n",
       "1  https://www.ines.gov.br/https://www.ines.gov.b...    FRUTA   \n",
       "2  https://www.ines.gov.br/https://www.ines.gov.b...    FRUTA   \n",
       "3  https://www.ines.gov.br/https://www.ines.gov.b...   NENHUM   \n",
       "4  https://www.ines.gov.br/https://www.ines.gov.b...   NENHUM   \n",
       "\n",
       "                                             Acepção  \\\n",
       "0  Primeira letra do alfabeto da língua portugues...   \n",
       "1  O fruto do abacateiro. Comestível, tem a polpa...   \n",
       "2  Fruta de casca grossa e áspera. Sua polpa pode...   \n",
       "3             Cobrir ou fechar, para manter o calor.   \n",
       "4  Lugar, posição ou situação inferior, em relaçã...   \n",
       "\n",
       "                                             Exemplo  \\\n",
       "0  Invente qualquer palavra que comece com a letr...   \n",
       "1                   Você gosta de abacate com leite?   \n",
       "2      Hoje tomei suco de abacaxi, ele estava ácido.   \n",
       "3  Se você quer abafar seu quarto, é melhor fecha...   \n",
       "4  Não é no primeiro apartamento abaixo, é no seg...   \n",
       "\n",
       "                                      Exemplo Libras Classe Gramatical  \\\n",
       "0          VOCÊ INVENTAR QUALQUER PALAVRA COMEÇAR A.       SUBSTANTIVO   \n",
       "1                   VOCÊ GOSTAR ABACATE LEITE JUNTO?       SUBSTANTIVO   \n",
       "2                  HOJE S-U-C-O ABACAXI BEBER ÁCID@.       SUBSTANTIVO   \n",
       "3  S-I VOCÊ QUERER QUARTO SE@ ABAFAR A-R? MELHOR ...             VERBO   \n",
       "4           APARTAMENTO PRIMEIR@ NÃO SEGUND@ ABAIXO.              ADV.   \n",
       "\n",
       "     Origem  \n",
       "0  Nacional  \n",
       "1  Nacional  \n",
       "2  Nacional  \n",
       "3  Nacional  \n",
       "4  Nacional  "
      ]
     },
     "execution_count": 101,
     "metadata": {},
     "output_type": "execute_result"
    }
   ],
   "source": [
    "ines_csv = pd.read_csv(\"data/raw/INES/INES_Metadata.csv\")\n",
    "ines_csv.head()"
   ]
  },
  {
   "cell_type": "markdown",
   "metadata": {},
   "source": [
    "Find a difference in response between URLs for words that have/don't have a video file "
   ]
  },
  {
   "cell_type": "code",
   "execution_count": null,
   "metadata": {},
   "outputs": [
    {
     "data": {
      "text/plain": [
       "'text/html;charset=utf-8'"
      ]
     },
     "execution_count": 43,
     "metadata": {},
     "output_type": "execute_result"
    }
   ],
   "source": [
    "# invalid url\n",
    "invalid = \"https://www.ines.gov.br/dicionario-de-libras/public/media/palavras/videos/baba1Sm_Prog001.mp4\"\n",
    "response = requests.get(invalid, stream=True)\n",
    "response.headers[\"Content-Type\"]"
   ]
  },
  {
   "cell_type": "code",
   "execution_count": null,
   "metadata": {},
   "outputs": [
    {
     "data": {
      "text/plain": [
       "'video/mp4'"
      ]
     },
     "execution_count": 44,
     "metadata": {},
     "output_type": "execute_result"
    }
   ],
   "source": [
    "# valid url\n",
    "valid = \"https://www.ines.gov.br/dicionario-de-libras/public/media/palavras/videos/babadorSm_Prog001.mp4\"\n",
    "response = requests.get(valid, stream=True)\n",
    "response.headers[\"Content-Type\"]"
   ]
  },
  {
   "cell_type": "markdown",
   "metadata": {},
   "source": [
    "This takes a while to run since it checks every URL, so just get the info from `video_file_exists.csv` or `metadata.csv`\n",
    "\n",
    "*(took X minutes on Ben's PC/connection)*"
   ]
  },
  {
   "cell_type": "code",
   "execution_count": 45,
   "metadata": {},
   "outputs": [],
   "source": [
    "import asyncio\n",
    "import aiohttp\n",
    "import random\n",
    "from aiohttp import ClientConnectorError, ClientTimeout"
   ]
  },
  {
   "cell_type": "code",
   "execution_count": null,
   "metadata": {},
   "outputs": [],
   "source": [
    "video_urls = ines_csv[\"Video URL\"].tolist()\n",
    "\n",
    "file_exists = []"
   ]
  },
  {
   "cell_type": "code",
   "execution_count": null,
   "metadata": {},
   "outputs": [
    {
     "name": "stdout",
     "output_type": "stream",
     "text": [
      "Starting to check 5819 URLs...\n",
      "Progress: 5.0% (291/5819 URLs checked)\n",
      "Progress: 10.0% (582/5819 URLs checked)\n",
      "Progress: 15.0% (873/5819 URLs checked)\n",
      "Progress: 20.0% (1164/5819 URLs checked)\n",
      "Progress: 25.0% (1455/5819 URLs checked)\n",
      "Progress: 30.0% (1746/5819 URLs checked)\n",
      "Progress: 35.0% (2037/5819 URLs checked)\n",
      "Progress: 40.0% (2328/5819 URLs checked)\n",
      "Progress: 45.0% (2619/5819 URLs checked)\n",
      "Progress: 50.0% (2910/5819 URLs checked)\n",
      "Progress: 55.0% (3201/5819 URLs checked)\n",
      "Progress: 60.0% (3492/5819 URLs checked)\n",
      "Progress: 65.0% (3783/5819 URLs checked)\n",
      "Progress: 70.0% (4074/5819 URLs checked)\n",
      "Progress: 75.0% (4365/5819 URLs checked)\n",
      "Progress: 80.0% (4656/5819 URLs checked)\n",
      "Progress: 85.0% (4947/5819 URLs checked)\n",
      "\n",
      "Retrying URL 4734/5819 (attempt 2/5)\n",
      "\n",
      "Retrying URL 4827/5819 (attempt 2/5)\n",
      "Progress: 90.0% (5238/5819 URLs checked)\n",
      "Progress: 95.0% (5529/5819 URLs checked)\n",
      "Progress: 100.0% (5819/5819 URLs checked)\n",
      "\n",
      "Finished checking URLs. Found 5468 existing videos out of 5819\n"
     ]
    }
   ],
   "source": [
    "# Limit concurrent requests\n",
    "MAX_CONCURRENT = 20  # Reduce this if still getting errors\n",
    "RETRY_COUNT = 5  # Increased from 3\n",
    "\n",
    "\n",
    "async def check_url(url, index, total, semaphore, retry_count=RETRY_COUNT):\n",
    "    timeout = ClientTimeout(total=30)\n",
    "\n",
    "    async with semaphore:  # Control concurrent requests\n",
    "        for attempt in range(retry_count):\n",
    "            try:\n",
    "                # Longer delay between requests\n",
    "                await asyncio.sleep(random.uniform(0.5, 1.0))\n",
    "\n",
    "                async with aiohttp.ClientSession(timeout=timeout) as session:\n",
    "                    async with session.get(url) as response:\n",
    "                        exists = response.headers[\"Content-Type\"] == \"video/mp4\"\n",
    "                        percent = (index + 1) / total * 100\n",
    "                        if percent % 5 < (1 / total * 100):\n",
    "                            print(\n",
    "                                f\"Progress: {percent:.1f}% ({index + 1}/{total} URLs checked)\"\n",
    "                            )\n",
    "                        return exists\n",
    "\n",
    "            except (ClientConnectorError, asyncio.TimeoutError) as e:\n",
    "                if attempt == retry_count - 1:  # Last attempt\n",
    "                    print(\n",
    "                        f\"\\nFailed to check URL after {retry_count} attempts: {url}\\nError: {str(e)}\"\n",
    "                    )\n",
    "                    return False\n",
    "                print(\n",
    "                    f\"\\nRetrying URL {index + 1}/{total} (attempt {attempt + 2}/{retry_count})\"\n",
    "                )\n",
    "                # Longer wait between retries\n",
    "                await asyncio.sleep(random.uniform(2, 3))\n",
    "            except Exception as e:\n",
    "                print(f\"\\nUnexpected error for URL {index + 1}/{total}: {str(e)}\")\n",
    "                return False\n",
    "\n",
    "\n",
    "async def check_all_urls(urls):\n",
    "    total = len(urls)\n",
    "    print(f\"Starting to check {total} URLs...\")\n",
    "\n",
    "    # Create semaphore to limit concurrent requests\n",
    "    semaphore = asyncio.Semaphore(MAX_CONCURRENT)\n",
    "\n",
    "    tasks = [check_url(url, i, total, semaphore) for i, url in enumerate(urls)]\n",
    "    results = await asyncio.gather(*tasks, return_exceptions=True)\n",
    "\n",
    "    # Filter out any exceptions and count successes\n",
    "    valid_results = [r for r in results if isinstance(r, bool)]\n",
    "    exists_count = sum(1 for r in valid_results if r)\n",
    "\n",
    "    print(\n",
    "        f\"\\nFinished checking URLs. Found {exists_count} existing videos out of {total}\"\n",
    "    )\n",
    "    return results\n",
    "\n",
    "\n",
    "# Use it with:\n",
    "file_exists = await check_all_urls(video_urls)"
   ]
  },
  {
   "cell_type": "code",
   "execution_count": 88,
   "metadata": {},
   "outputs": [
    {
     "data": {
      "text/plain": [
       "5819"
      ]
     },
     "execution_count": 88,
     "metadata": {},
     "output_type": "execute_result"
    }
   ],
   "source": [
    "len(file_exists)"
   ]
  },
  {
   "cell_type": "markdown",
   "metadata": {},
   "source": [
    "Save this as `video_file_exists.csv` so that if `metadata.csv` is overwritten, we don't lose this info"
   ]
  },
  {
   "cell_type": "code",
   "execution_count": null,
   "metadata": {},
   "outputs": [],
   "source": [
    "file_exists_df = ines_csv[[\"Word\", \"Video URL\"]].copy()\n",
    "file_exists_df.rename(columns={\"Word\": \"label\", \"Video URL\": \"video_url\"}, inplace=True)\n",
    "file_exists_df[\"file_exists\"] = file_exists\n",
    "\n",
    "file_exists_df.to_csv(\"data/raw/INES/video_file_exists.csv\", index=False)"
   ]
  },
  {
   "cell_type": "markdown",
   "metadata": {},
   "source": [
    "Make `metadata_df` using the already saved `video_file_exists.csv` to avoid running the requests code again"
   ]
  },
  {
   "cell_type": "code",
   "execution_count": null,
   "metadata": {},
   "outputs": [],
   "source": [
    "ines_csv = pd.read_csv(\"data/raw/INES/INES_Metadata.csv\")\n",
    "ines_csv.columns = ines_csv.columns.str.lower()\n",
    "ines_csv.rename(columns={\"word\": \"label\", \"video url\": \"video_url\"}, inplace=True)\n",
    "ines_csv.drop(columns=[\"image url\"], inplace=True)"
   ]
  },
  {
   "cell_type": "code",
   "execution_count": null,
   "metadata": {},
   "outputs": [],
   "source": [
    "file_exists_df = pd.read_csv(\"data/raw/INES/video_file_exists.csv\")"
   ]
  },
  {
   "cell_type": "code",
   "execution_count": 5,
   "metadata": {},
   "outputs": [
    {
     "data": {
      "text/plain": [
       "((5819, 3), (5819, 9))"
      ]
     },
     "execution_count": 5,
     "metadata": {},
     "output_type": "execute_result"
    }
   ],
   "source": [
    "file_exists_df.shape, ines_csv.shape"
   ]
  },
  {
   "cell_type": "code",
   "execution_count": null,
   "metadata": {},
   "outputs": [
    {
     "data": {
      "text/plain": [
       "(5819, 5819)"
      ]
     },
     "execution_count": 6,
     "metadata": {},
     "output_type": "execute_result"
    }
   ],
   "source": [
    "(\n",
    "    (file_exists_df.label == ines_csv.label).sum(),\n",
    "    (file_exists_df.video_url == ines_csv.video_url).sum(),\n",
    ")"
   ]
  },
  {
   "cell_type": "code",
   "execution_count": null,
   "metadata": {},
   "outputs": [],
   "source": [
    "metadata_df = pd.concat(\n",
    "    [ines_csv, file_exists_df.drop([\"label\", \"video_url\"], axis=1)], axis=1\n",
    ")"
   ]
  },
  {
   "cell_type": "code",
   "execution_count": 9,
   "metadata": {},
   "outputs": [
    {
     "data": {
      "text/plain": [
       "Index(['letter', 'label', 'video_url', 'assuntos', 'acepção', 'exemplo',\n",
       "       'exemplo libras', 'classe gramatical', 'origem', 'file_exists'],\n",
       "      dtype='object')"
      ]
     },
     "execution_count": 9,
     "metadata": {},
     "output_type": "execute_result"
    }
   ],
   "source": [
    "metadata_df.columns"
   ]
  },
  {
   "cell_type": "code",
   "execution_count": 10,
   "metadata": {},
   "outputs": [],
   "source": [
    "def number_in_label(row):\n",
    "    \"\"\"Returns True if there is a number in the label else False\"\"\"\n",
    "    return any(char.isdigit() for char in row[\"label\"])\n",
    "\n",
    "\n",
    "def remove_number_from_label(row):\n",
    "    \"\"\"Removes numbers from the label\"\"\"\n",
    "    return \"\".join([char for char in row[\"label\"] if not char.isdigit()])"
   ]
  },
  {
   "cell_type": "code",
   "execution_count": 11,
   "metadata": {},
   "outputs": [
    {
     "name": "stderr",
     "output_type": "stream",
     "text": [
      "100%|██████████| 5819/5819 [00:00<00:00, 139641.35it/s]\n",
      "100%|██████████| 5819/5819 [00:00<00:00, 141333.82it/s]\n"
     ]
    }
   ],
   "source": [
    "metadata_df[\"number_in_label\"] = metadata_df.progress_apply(number_in_label, axis=1)\n",
    "metadata_df[\"scraped_label\"] = metadata_df[\"label\"]\n",
    "metadata_df[\"label\"] = metadata_df.progress_apply(remove_number_from_label, axis=1)"
   ]
  },
  {
   "cell_type": "code",
   "execution_count": null,
   "metadata": {},
   "outputs": [],
   "source": [
    "metadata_df[\"signer_number\"] = 0\n",
    "metadata_df[\"data_source\"] = \"ne\""
   ]
  },
  {
   "cell_type": "code",
   "execution_count": 14,
   "metadata": {},
   "outputs": [],
   "source": [
    "# Save the metadata.csv file\n",
    "metadata_df[\n",
    "    [\n",
    "        \"label\",\n",
    "        \"video_url\",\n",
    "        \"signer_number\",\n",
    "        \"data_source\",\n",
    "        \"scraped_label\",\n",
    "        \"number_in_label\",\n",
    "        \"file_exists\",\n",
    "        \"letter\",\n",
    "        \"assuntos\",\n",
    "        \"acepção\",\n",
    "        \"exemplo\",\n",
    "        \"exemplo libras\",\n",
    "        \"classe gramatical\",\n",
    "        \"origem\",\n",
    "    ]\n",
    "].to_csv(\"data/raw/INES/metadata.csv\", index=False)"
   ]
  },
  {
   "cell_type": "code",
   "execution_count": 15,
   "metadata": {},
   "outputs": [
    {
     "data": {
      "text/plain": [
       "file_exists\n",
       "True     5468\n",
       "False     351\n",
       "Name: count, dtype: int64"
      ]
     },
     "execution_count": 15,
     "metadata": {},
     "output_type": "execute_result"
    }
   ],
   "source": [
    "metadata_df.file_exists.value_counts()"
   ]
  },
  {
   "cell_type": "markdown",
   "metadata": {},
   "source": [
    "## V-Librasil\n",
    "\n",
    "- Uses the existing information in `v_librasil_words_n_links.txt`\n",
    "- Uses the links to each word's page\n",
    "- Collects the video file links for each interpreter\n",
    "- Combines it into a `.csv` file"
   ]
  },
  {
   "cell_type": "markdown",
   "metadata": {},
   "source": [
    "#### Fixing `v_librasil_words_n_links.txt`"
   ]
  },
  {
   "cell_type": "code",
   "execution_count": null,
   "metadata": {},
   "outputs": [],
   "source": [
    "# load .txt file as a string\n",
    "words_and_links = open(\n",
    "    \"data/raw/V-Librasil/words/v_librasil_words_n_links.txt\", \"r\"\n",
    ").read()\n",
    "words_and_links = words_and_links.split(\"\\n\")"
   ]
  },
  {
   "cell_type": "code",
   "execution_count": null,
   "metadata": {},
   "outputs": [],
   "source": [
    "# one line had two lines combined\n",
    "for line in words_and_links:\n",
    "    if len(line.split(\"https://\")) > 2:\n",
    "        print(line)"
   ]
  },
  {
   "cell_type": "code",
   "execution_count": null,
   "metadata": {},
   "outputs": [
    {
     "name": "stdout",
     "output_type": "stream",
     "text": [
      "Bigode https://libras.cin.ufpe.br/sign/826\n",
      "Bilhão https://libras.cin.ufpe.br/sign/105\n"
     ]
    }
   ],
   "source": [
    "# i edited the file directly to fix it\n",
    "# load .txt file as a string\n",
    "words_and_links = open(\n",
    "    \"data/raw/V-Librasil/words/v_librasil_words_n_links.txt\", \"r\"\n",
    ").read()\n",
    "words_and_links = words_and_links.split(\"\\n\")\n",
    "\n",
    "# one line had two lines combined\n",
    "for line in words_and_links:\n",
    "    if \"Bigode\" in line:\n",
    "        print(line)\n",
    "    if \"Bilhão\" in line:\n",
    "        print(line)"
   ]
  },
  {
   "cell_type": "markdown",
   "metadata": {},
   "source": [
    "#### Making `metadata.csv`"
   ]
  },
  {
   "cell_type": "markdown",
   "metadata": {},
   "source": [
    "turning `v_librasil_words_n_links.txt` into a DataFrame"
   ]
  },
  {
   "cell_type": "code",
   "execution_count": null,
   "metadata": {},
   "outputs": [
    {
     "data": {
      "application/vnd.microsoft.datawrangler.viewer.v0+json": {
       "columns": [
        {
         "name": "index",
         "rawType": "int64",
         "type": "integer"
        },
        {
         "name": "label",
         "rawType": "object",
         "type": "string"
        },
        {
         "name": "sign_url",
         "rawType": "object",
         "type": "string"
        }
       ],
       "conversionMethod": "pd.DataFrame",
       "ref": "7661308a-13e3-4569-bff2-47b604b9eb1a",
       "rows": [
        [
         "0",
         "À noite toda ",
         "https://libras.cin.ufpe.br/sign/885"
        ],
        [
         "1",
         "À tarde toda ",
         "https://libras.cin.ufpe.br/sign/100"
        ],
        [
         "2",
         "Abacaxi ",
         "https://libras.cin.ufpe.br/sign/817"
        ],
        [
         "3",
         "Abanar ",
         "https://libras.cin.ufpe.br/sign/1536"
        ],
        [
         "4",
         "Abandonar ",
         "https://libras.cin.ufpe.br/sign/71"
        ]
       ],
       "shape": {
        "columns": 2,
        "rows": 5
       }
      },
      "text/html": [
       "<div>\n",
       "<style scoped>\n",
       "    .dataframe tbody tr th:only-of-type {\n",
       "        vertical-align: middle;\n",
       "    }\n",
       "\n",
       "    .dataframe tbody tr th {\n",
       "        vertical-align: top;\n",
       "    }\n",
       "\n",
       "    .dataframe thead th {\n",
       "        text-align: right;\n",
       "    }\n",
       "</style>\n",
       "<table border=\"1\" class=\"dataframe\">\n",
       "  <thead>\n",
       "    <tr style=\"text-align: right;\">\n",
       "      <th></th>\n",
       "      <th>label</th>\n",
       "      <th>sign_url</th>\n",
       "    </tr>\n",
       "  </thead>\n",
       "  <tbody>\n",
       "    <tr>\n",
       "      <th>0</th>\n",
       "      <td>À noite toda</td>\n",
       "      <td>https://libras.cin.ufpe.br/sign/885</td>\n",
       "    </tr>\n",
       "    <tr>\n",
       "      <th>1</th>\n",
       "      <td>À tarde toda</td>\n",
       "      <td>https://libras.cin.ufpe.br/sign/100</td>\n",
       "    </tr>\n",
       "    <tr>\n",
       "      <th>2</th>\n",
       "      <td>Abacaxi</td>\n",
       "      <td>https://libras.cin.ufpe.br/sign/817</td>\n",
       "    </tr>\n",
       "    <tr>\n",
       "      <th>3</th>\n",
       "      <td>Abanar</td>\n",
       "      <td>https://libras.cin.ufpe.br/sign/1536</td>\n",
       "    </tr>\n",
       "    <tr>\n",
       "      <th>4</th>\n",
       "      <td>Abandonar</td>\n",
       "      <td>https://libras.cin.ufpe.br/sign/71</td>\n",
       "    </tr>\n",
       "  </tbody>\n",
       "</table>\n",
       "</div>"
      ],
      "text/plain": [
       "           label                              sign_url\n",
       "0  À noite toda    https://libras.cin.ufpe.br/sign/885\n",
       "1  À tarde toda    https://libras.cin.ufpe.br/sign/100\n",
       "2       Abacaxi    https://libras.cin.ufpe.br/sign/817\n",
       "3        Abanar   https://libras.cin.ufpe.br/sign/1536\n",
       "4     Abandonar     https://libras.cin.ufpe.br/sign/71"
      ]
     },
     "execution_count": 6,
     "metadata": {},
     "output_type": "execute_result"
    }
   ],
   "source": [
    "words_and_links = pd.read_csv(\n",
    "    \"data/raw/V-Librasil/words/v_librasil_words_n_links.txt\",\n",
    "    sep=\"https\",\n",
    "    header=None,\n",
    "    engine=\"python\",\n",
    ")\n",
    "words_and_links.columns = [\"label\", \"sign_url\"]\n",
    "words_and_links.sign_url = words_and_links.sign_url.apply(lambda x: \"https\" + x)\n",
    "words_and_links.head()"
   ]
  },
  {
   "cell_type": "markdown",
   "metadata": {},
   "source": [
    "getting video URLs (~3 for each sign)"
   ]
  },
  {
   "cell_type": "code",
   "execution_count": null,
   "metadata": {},
   "outputs": [],
   "source": [
    "from bs4 import BeautifulSoup\n",
    "\n",
    "\n",
    "def get_video_urls(url):\n",
    "    response = requests.get(url)\n",
    "\n",
    "    if response.status_code == 200:\n",
    "        video_links = []\n",
    "        signer_numbers = []\n",
    "        signer_order = \"\"\n",
    "        html = response.content\n",
    "        soup = BeautifulSoup(html, \"html.parser\")\n",
    "\n",
    "        # go inside div class container\n",
    "        container = soup.find(\"section\", class_=\"page-section\").find(\n",
    "            \"div\", class_=\"container\"\n",
    "        )\n",
    "        # go inside div class row\n",
    "        rows = [child for child in container.children if child.name == \"div\"]\n",
    "\n",
    "        # get the video and signer number\n",
    "        for row in rows:\n",
    "            signer_number = row.find(\"h2\").text.strip().split(\" \")[1]\n",
    "            link = row.find(\"source\").get(\"src\")\n",
    "            video_links.append(link)\n",
    "            signer_numbers.append(signer_number)\n",
    "            signer_order += signer_number\n",
    "        return video_links, signer_numbers, signer_order\n",
    "\n",
    "    else:\n",
    "        print(f\"Response code != 200, Failed to get video URLs for {link}\")\n",
    "        return None"
   ]
  },
  {
   "cell_type": "code",
   "execution_count": null,
   "metadata": {},
   "outputs": [
    {
     "name": "stderr",
     "output_type": "stream",
     "text": [
      "  4%|▍         | 53/1364 [00:30<12:36,  1.73it/s]\n"
     ]
    },
    {
     "ename": "KeyboardInterrupt",
     "evalue": "",
     "output_type": "error",
     "traceback": [
      "\u001b[0;31m---------------------------------------------------------------------------\u001b[0m",
      "\u001b[0;31mKeyboardInterrupt\u001b[0m                         Traceback (most recent call last)",
      "Cell \u001b[0;32mIn[8], line 1\u001b[0m\n\u001b[0;32m----> 1\u001b[0m words_and_links[\u001b[38;5;124m'\u001b[39m\u001b[38;5;124mall_video_info\u001b[39m\u001b[38;5;124m'\u001b[39m] \u001b[38;5;241m=\u001b[39m \u001b[43mwords_and_links\u001b[49m\u001b[43m[\u001b[49m\u001b[38;5;124;43m'\u001b[39;49m\u001b[38;5;124;43msign_url\u001b[39;49m\u001b[38;5;124;43m'\u001b[39;49m\u001b[43m]\u001b[49m\u001b[38;5;241;43m.\u001b[39;49m\u001b[43mprogress_apply\u001b[49m\u001b[43m(\u001b[49m\u001b[43mget_video_urls\u001b[49m\u001b[43m)\u001b[49m\n",
      "File \u001b[0;32m~/code/omdena/SaoPauloBrazilChapter_BrazilianSignLanguage/.venv/lib/python3.11/site-packages/tqdm/std.py:917\u001b[0m, in \u001b[0;36mtqdm.pandas.<locals>.inner_generator.<locals>.inner\u001b[0;34m(df, func, *args, **kwargs)\u001b[0m\n\u001b[1;32m    914\u001b[0m \u001b[38;5;66;03m# Apply the provided function (in **kwargs)\u001b[39;00m\n\u001b[1;32m    915\u001b[0m \u001b[38;5;66;03m# on the df using our wrapper (which provides bar updating)\u001b[39;00m\n\u001b[1;32m    916\u001b[0m \u001b[38;5;28;01mtry\u001b[39;00m:\n\u001b[0;32m--> 917\u001b[0m     \u001b[38;5;28;01mreturn\u001b[39;00m \u001b[38;5;28;43mgetattr\u001b[39;49m\u001b[43m(\u001b[49m\u001b[43mdf\u001b[49m\u001b[43m,\u001b[49m\u001b[43m \u001b[49m\u001b[43mdf_function\u001b[49m\u001b[43m)\u001b[49m\u001b[43m(\u001b[49m\u001b[43mwrapper\u001b[49m\u001b[43m,\u001b[49m\u001b[43m \u001b[49m\u001b[38;5;241;43m*\u001b[39;49m\u001b[38;5;241;43m*\u001b[39;49m\u001b[43mkwargs\u001b[49m\u001b[43m)\u001b[49m\n\u001b[1;32m    918\u001b[0m \u001b[38;5;28;01mfinally\u001b[39;00m:\n\u001b[1;32m    919\u001b[0m     t\u001b[38;5;241m.\u001b[39mclose()\n",
      "File \u001b[0;32m~/code/omdena/SaoPauloBrazilChapter_BrazilianSignLanguage/.venv/lib/python3.11/site-packages/pandas/core/series.py:4924\u001b[0m, in \u001b[0;36mSeries.apply\u001b[0;34m(self, func, convert_dtype, args, by_row, **kwargs)\u001b[0m\n\u001b[1;32m   4789\u001b[0m \u001b[38;5;28;01mdef\u001b[39;00m\u001b[38;5;250m \u001b[39m\u001b[38;5;21mapply\u001b[39m(\n\u001b[1;32m   4790\u001b[0m     \u001b[38;5;28mself\u001b[39m,\n\u001b[1;32m   4791\u001b[0m     func: AggFuncType,\n\u001b[0;32m   (...)\u001b[0m\n\u001b[1;32m   4796\u001b[0m     \u001b[38;5;241m*\u001b[39m\u001b[38;5;241m*\u001b[39mkwargs,\n\u001b[1;32m   4797\u001b[0m ) \u001b[38;5;241m-\u001b[39m\u001b[38;5;241m>\u001b[39m DataFrame \u001b[38;5;241m|\u001b[39m Series:\n\u001b[1;32m   4798\u001b[0m \u001b[38;5;250m    \u001b[39m\u001b[38;5;124;03m\"\"\"\u001b[39;00m\n\u001b[1;32m   4799\u001b[0m \u001b[38;5;124;03m    Invoke function on values of Series.\u001b[39;00m\n\u001b[1;32m   4800\u001b[0m \n\u001b[0;32m   (...)\u001b[0m\n\u001b[1;32m   4915\u001b[0m \u001b[38;5;124;03m    dtype: float64\u001b[39;00m\n\u001b[1;32m   4916\u001b[0m \u001b[38;5;124;03m    \"\"\"\u001b[39;00m\n\u001b[1;32m   4917\u001b[0m     \u001b[38;5;28;01mreturn\u001b[39;00m \u001b[43mSeriesApply\u001b[49m\u001b[43m(\u001b[49m\n\u001b[1;32m   4918\u001b[0m \u001b[43m        \u001b[49m\u001b[38;5;28;43mself\u001b[39;49m\u001b[43m,\u001b[49m\n\u001b[1;32m   4919\u001b[0m \u001b[43m        \u001b[49m\u001b[43mfunc\u001b[49m\u001b[43m,\u001b[49m\n\u001b[1;32m   4920\u001b[0m \u001b[43m        \u001b[49m\u001b[43mconvert_dtype\u001b[49m\u001b[38;5;241;43m=\u001b[39;49m\u001b[43mconvert_dtype\u001b[49m\u001b[43m,\u001b[49m\n\u001b[1;32m   4921\u001b[0m \u001b[43m        \u001b[49m\u001b[43mby_row\u001b[49m\u001b[38;5;241;43m=\u001b[39;49m\u001b[43mby_row\u001b[49m\u001b[43m,\u001b[49m\n\u001b[1;32m   4922\u001b[0m \u001b[43m        \u001b[49m\u001b[43margs\u001b[49m\u001b[38;5;241;43m=\u001b[39;49m\u001b[43margs\u001b[49m\u001b[43m,\u001b[49m\n\u001b[1;32m   4923\u001b[0m \u001b[43m        \u001b[49m\u001b[43mkwargs\u001b[49m\u001b[38;5;241;43m=\u001b[39;49m\u001b[43mkwargs\u001b[49m\u001b[43m,\u001b[49m\n\u001b[0;32m-> 4924\u001b[0m \u001b[43m    \u001b[49m\u001b[43m)\u001b[49m\u001b[38;5;241;43m.\u001b[39;49m\u001b[43mapply\u001b[49m\u001b[43m(\u001b[49m\u001b[43m)\u001b[49m\n",
      "File \u001b[0;32m~/code/omdena/SaoPauloBrazilChapter_BrazilianSignLanguage/.venv/lib/python3.11/site-packages/pandas/core/apply.py:1427\u001b[0m, in \u001b[0;36mSeriesApply.apply\u001b[0;34m(self)\u001b[0m\n\u001b[1;32m   1424\u001b[0m     \u001b[38;5;28;01mreturn\u001b[39;00m \u001b[38;5;28mself\u001b[39m\u001b[38;5;241m.\u001b[39mapply_compat()\n\u001b[1;32m   1426\u001b[0m \u001b[38;5;66;03m# self.func is Callable\u001b[39;00m\n\u001b[0;32m-> 1427\u001b[0m \u001b[38;5;28;01mreturn\u001b[39;00m \u001b[38;5;28;43mself\u001b[39;49m\u001b[38;5;241;43m.\u001b[39;49m\u001b[43mapply_standard\u001b[49m\u001b[43m(\u001b[49m\u001b[43m)\u001b[49m\n",
      "File \u001b[0;32m~/code/omdena/SaoPauloBrazilChapter_BrazilianSignLanguage/.venv/lib/python3.11/site-packages/pandas/core/apply.py:1507\u001b[0m, in \u001b[0;36mSeriesApply.apply_standard\u001b[0;34m(self)\u001b[0m\n\u001b[1;32m   1501\u001b[0m \u001b[38;5;66;03m# row-wise access\u001b[39;00m\n\u001b[1;32m   1502\u001b[0m \u001b[38;5;66;03m# apply doesn't have a `na_action` keyword and for backward compat reasons\u001b[39;00m\n\u001b[1;32m   1503\u001b[0m \u001b[38;5;66;03m# we need to give `na_action=\"ignore\"` for categorical data.\u001b[39;00m\n\u001b[1;32m   1504\u001b[0m \u001b[38;5;66;03m# TODO: remove the `na_action=\"ignore\"` when that default has been changed in\u001b[39;00m\n\u001b[1;32m   1505\u001b[0m \u001b[38;5;66;03m#  Categorical (GH51645).\u001b[39;00m\n\u001b[1;32m   1506\u001b[0m action \u001b[38;5;241m=\u001b[39m \u001b[38;5;124m\"\u001b[39m\u001b[38;5;124mignore\u001b[39m\u001b[38;5;124m\"\u001b[39m \u001b[38;5;28;01mif\u001b[39;00m \u001b[38;5;28misinstance\u001b[39m(obj\u001b[38;5;241m.\u001b[39mdtype, CategoricalDtype) \u001b[38;5;28;01melse\u001b[39;00m \u001b[38;5;28;01mNone\u001b[39;00m\n\u001b[0;32m-> 1507\u001b[0m mapped \u001b[38;5;241m=\u001b[39m \u001b[43mobj\u001b[49m\u001b[38;5;241;43m.\u001b[39;49m\u001b[43m_map_values\u001b[49m\u001b[43m(\u001b[49m\n\u001b[1;32m   1508\u001b[0m \u001b[43m    \u001b[49m\u001b[43mmapper\u001b[49m\u001b[38;5;241;43m=\u001b[39;49m\u001b[43mcurried\u001b[49m\u001b[43m,\u001b[49m\u001b[43m \u001b[49m\u001b[43mna_action\u001b[49m\u001b[38;5;241;43m=\u001b[39;49m\u001b[43maction\u001b[49m\u001b[43m,\u001b[49m\u001b[43m \u001b[49m\u001b[43mconvert\u001b[49m\u001b[38;5;241;43m=\u001b[39;49m\u001b[38;5;28;43mself\u001b[39;49m\u001b[38;5;241;43m.\u001b[39;49m\u001b[43mconvert_dtype\u001b[49m\n\u001b[1;32m   1509\u001b[0m \u001b[43m\u001b[49m\u001b[43m)\u001b[49m\n\u001b[1;32m   1511\u001b[0m \u001b[38;5;28;01mif\u001b[39;00m \u001b[38;5;28mlen\u001b[39m(mapped) \u001b[38;5;129;01mand\u001b[39;00m \u001b[38;5;28misinstance\u001b[39m(mapped[\u001b[38;5;241m0\u001b[39m], ABCSeries):\n\u001b[1;32m   1512\u001b[0m     \u001b[38;5;66;03m# GH#43986 Need to do list(mapped) in order to get treated as nested\u001b[39;00m\n\u001b[1;32m   1513\u001b[0m     \u001b[38;5;66;03m#  See also GH#25959 regarding EA support\u001b[39;00m\n\u001b[1;32m   1514\u001b[0m     \u001b[38;5;28;01mreturn\u001b[39;00m obj\u001b[38;5;241m.\u001b[39m_constructor_expanddim(\u001b[38;5;28mlist\u001b[39m(mapped), index\u001b[38;5;241m=\u001b[39mobj\u001b[38;5;241m.\u001b[39mindex)\n",
      "File \u001b[0;32m~/code/omdena/SaoPauloBrazilChapter_BrazilianSignLanguage/.venv/lib/python3.11/site-packages/pandas/core/base.py:921\u001b[0m, in \u001b[0;36mIndexOpsMixin._map_values\u001b[0;34m(self, mapper, na_action, convert)\u001b[0m\n\u001b[1;32m    918\u001b[0m \u001b[38;5;28;01mif\u001b[39;00m \u001b[38;5;28misinstance\u001b[39m(arr, ExtensionArray):\n\u001b[1;32m    919\u001b[0m     \u001b[38;5;28;01mreturn\u001b[39;00m arr\u001b[38;5;241m.\u001b[39mmap(mapper, na_action\u001b[38;5;241m=\u001b[39mna_action)\n\u001b[0;32m--> 921\u001b[0m \u001b[38;5;28;01mreturn\u001b[39;00m \u001b[43malgorithms\u001b[49m\u001b[38;5;241;43m.\u001b[39;49m\u001b[43mmap_array\u001b[49m\u001b[43m(\u001b[49m\u001b[43marr\u001b[49m\u001b[43m,\u001b[49m\u001b[43m \u001b[49m\u001b[43mmapper\u001b[49m\u001b[43m,\u001b[49m\u001b[43m \u001b[49m\u001b[43mna_action\u001b[49m\u001b[38;5;241;43m=\u001b[39;49m\u001b[43mna_action\u001b[49m\u001b[43m,\u001b[49m\u001b[43m \u001b[49m\u001b[43mconvert\u001b[49m\u001b[38;5;241;43m=\u001b[39;49m\u001b[43mconvert\u001b[49m\u001b[43m)\u001b[49m\n",
      "File \u001b[0;32m~/code/omdena/SaoPauloBrazilChapter_BrazilianSignLanguage/.venv/lib/python3.11/site-packages/pandas/core/algorithms.py:1743\u001b[0m, in \u001b[0;36mmap_array\u001b[0;34m(arr, mapper, na_action, convert)\u001b[0m\n\u001b[1;32m   1741\u001b[0m values \u001b[38;5;241m=\u001b[39m arr\u001b[38;5;241m.\u001b[39mastype(\u001b[38;5;28mobject\u001b[39m, copy\u001b[38;5;241m=\u001b[39m\u001b[38;5;28;01mFalse\u001b[39;00m)\n\u001b[1;32m   1742\u001b[0m \u001b[38;5;28;01mif\u001b[39;00m na_action \u001b[38;5;129;01mis\u001b[39;00m \u001b[38;5;28;01mNone\u001b[39;00m:\n\u001b[0;32m-> 1743\u001b[0m     \u001b[38;5;28;01mreturn\u001b[39;00m \u001b[43mlib\u001b[49m\u001b[38;5;241;43m.\u001b[39;49m\u001b[43mmap_infer\u001b[49m\u001b[43m(\u001b[49m\u001b[43mvalues\u001b[49m\u001b[43m,\u001b[49m\u001b[43m \u001b[49m\u001b[43mmapper\u001b[49m\u001b[43m,\u001b[49m\u001b[43m \u001b[49m\u001b[43mconvert\u001b[49m\u001b[38;5;241;43m=\u001b[39;49m\u001b[43mconvert\u001b[49m\u001b[43m)\u001b[49m\n\u001b[1;32m   1744\u001b[0m \u001b[38;5;28;01melse\u001b[39;00m:\n\u001b[1;32m   1745\u001b[0m     \u001b[38;5;28;01mreturn\u001b[39;00m lib\u001b[38;5;241m.\u001b[39mmap_infer_mask(\n\u001b[1;32m   1746\u001b[0m         values, mapper, mask\u001b[38;5;241m=\u001b[39misna(values)\u001b[38;5;241m.\u001b[39mview(np\u001b[38;5;241m.\u001b[39muint8), convert\u001b[38;5;241m=\u001b[39mconvert\n\u001b[1;32m   1747\u001b[0m     )\n",
      "File \u001b[0;32mlib.pyx:2972\u001b[0m, in \u001b[0;36mpandas._libs.lib.map_infer\u001b[0;34m()\u001b[0m\n",
      "File \u001b[0;32m~/code/omdena/SaoPauloBrazilChapter_BrazilianSignLanguage/.venv/lib/python3.11/site-packages/tqdm/std.py:912\u001b[0m, in \u001b[0;36mtqdm.pandas.<locals>.inner_generator.<locals>.inner.<locals>.wrapper\u001b[0;34m(*args, **kwargs)\u001b[0m\n\u001b[1;32m    906\u001b[0m \u001b[38;5;28;01mdef\u001b[39;00m\u001b[38;5;250m \u001b[39m\u001b[38;5;21mwrapper\u001b[39m(\u001b[38;5;241m*\u001b[39margs, \u001b[38;5;241m*\u001b[39m\u001b[38;5;241m*\u001b[39mkwargs):\n\u001b[1;32m    907\u001b[0m     \u001b[38;5;66;03m# update tbar correctly\u001b[39;00m\n\u001b[1;32m    908\u001b[0m     \u001b[38;5;66;03m# it seems `pandas apply` calls `func` twice\u001b[39;00m\n\u001b[1;32m    909\u001b[0m     \u001b[38;5;66;03m# on the first column/row to decide whether it can\u001b[39;00m\n\u001b[1;32m    910\u001b[0m     \u001b[38;5;66;03m# take a fast or slow code path; so stop when t.total==t.n\u001b[39;00m\n\u001b[1;32m    911\u001b[0m     t\u001b[38;5;241m.\u001b[39mupdate(n\u001b[38;5;241m=\u001b[39m\u001b[38;5;241m1\u001b[39m \u001b[38;5;28;01mif\u001b[39;00m \u001b[38;5;129;01mnot\u001b[39;00m t\u001b[38;5;241m.\u001b[39mtotal \u001b[38;5;129;01mor\u001b[39;00m t\u001b[38;5;241m.\u001b[39mn \u001b[38;5;241m<\u001b[39m t\u001b[38;5;241m.\u001b[39mtotal \u001b[38;5;28;01melse\u001b[39;00m \u001b[38;5;241m0\u001b[39m)\n\u001b[0;32m--> 912\u001b[0m     \u001b[38;5;28;01mreturn\u001b[39;00m \u001b[43mfunc\u001b[49m\u001b[43m(\u001b[49m\u001b[38;5;241;43m*\u001b[39;49m\u001b[43margs\u001b[49m\u001b[43m,\u001b[49m\u001b[43m \u001b[49m\u001b[38;5;241;43m*\u001b[39;49m\u001b[38;5;241;43m*\u001b[39;49m\u001b[43mkwargs\u001b[49m\u001b[43m)\u001b[49m\n",
      "Cell \u001b[0;32mIn[7], line 4\u001b[0m, in \u001b[0;36mget_video_urls\u001b[0;34m(url)\u001b[0m\n\u001b[1;32m      3\u001b[0m \u001b[38;5;28;01mdef\u001b[39;00m\u001b[38;5;250m \u001b[39m\u001b[38;5;21mget_video_urls\u001b[39m(url):\n\u001b[0;32m----> 4\u001b[0m     response \u001b[38;5;241m=\u001b[39m \u001b[43mrequests\u001b[49m\u001b[38;5;241;43m.\u001b[39;49m\u001b[43mget\u001b[49m\u001b[43m(\u001b[49m\u001b[43murl\u001b[49m\u001b[43m)\u001b[49m\n\u001b[1;32m      6\u001b[0m     \u001b[38;5;28;01mif\u001b[39;00m response\u001b[38;5;241m.\u001b[39mstatus_code \u001b[38;5;241m==\u001b[39m \u001b[38;5;241m200\u001b[39m:\n\u001b[1;32m      7\u001b[0m         video_links \u001b[38;5;241m=\u001b[39m []\n",
      "File \u001b[0;32m~/code/omdena/SaoPauloBrazilChapter_BrazilianSignLanguage/.venv/lib/python3.11/site-packages/requests/api.py:73\u001b[0m, in \u001b[0;36mget\u001b[0;34m(url, params, **kwargs)\u001b[0m\n\u001b[1;32m     62\u001b[0m \u001b[38;5;28;01mdef\u001b[39;00m\u001b[38;5;250m \u001b[39m\u001b[38;5;21mget\u001b[39m(url, params\u001b[38;5;241m=\u001b[39m\u001b[38;5;28;01mNone\u001b[39;00m, \u001b[38;5;241m*\u001b[39m\u001b[38;5;241m*\u001b[39mkwargs):\n\u001b[1;32m     63\u001b[0m \u001b[38;5;250m    \u001b[39m\u001b[38;5;124mr\u001b[39m\u001b[38;5;124;03m\"\"\"Sends a GET request.\u001b[39;00m\n\u001b[1;32m     64\u001b[0m \n\u001b[1;32m     65\u001b[0m \u001b[38;5;124;03m    :param url: URL for the new :class:`Request` object.\u001b[39;00m\n\u001b[0;32m   (...)\u001b[0m\n\u001b[1;32m     70\u001b[0m \u001b[38;5;124;03m    :rtype: requests.Response\u001b[39;00m\n\u001b[1;32m     71\u001b[0m \u001b[38;5;124;03m    \"\"\"\u001b[39;00m\n\u001b[0;32m---> 73\u001b[0m     \u001b[38;5;28;01mreturn\u001b[39;00m \u001b[43mrequest\u001b[49m\u001b[43m(\u001b[49m\u001b[38;5;124;43m\"\u001b[39;49m\u001b[38;5;124;43mget\u001b[39;49m\u001b[38;5;124;43m\"\u001b[39;49m\u001b[43m,\u001b[49m\u001b[43m \u001b[49m\u001b[43murl\u001b[49m\u001b[43m,\u001b[49m\u001b[43m \u001b[49m\u001b[43mparams\u001b[49m\u001b[38;5;241;43m=\u001b[39;49m\u001b[43mparams\u001b[49m\u001b[43m,\u001b[49m\u001b[43m \u001b[49m\u001b[38;5;241;43m*\u001b[39;49m\u001b[38;5;241;43m*\u001b[39;49m\u001b[43mkwargs\u001b[49m\u001b[43m)\u001b[49m\n",
      "File \u001b[0;32m~/code/omdena/SaoPauloBrazilChapter_BrazilianSignLanguage/.venv/lib/python3.11/site-packages/requests/api.py:59\u001b[0m, in \u001b[0;36mrequest\u001b[0;34m(method, url, **kwargs)\u001b[0m\n\u001b[1;32m     55\u001b[0m \u001b[38;5;66;03m# By using the 'with' statement we are sure the session is closed, thus we\u001b[39;00m\n\u001b[1;32m     56\u001b[0m \u001b[38;5;66;03m# avoid leaving sockets open which can trigger a ResourceWarning in some\u001b[39;00m\n\u001b[1;32m     57\u001b[0m \u001b[38;5;66;03m# cases, and look like a memory leak in others.\u001b[39;00m\n\u001b[1;32m     58\u001b[0m \u001b[38;5;28;01mwith\u001b[39;00m sessions\u001b[38;5;241m.\u001b[39mSession() \u001b[38;5;28;01mas\u001b[39;00m session:\n\u001b[0;32m---> 59\u001b[0m     \u001b[38;5;28;01mreturn\u001b[39;00m \u001b[43msession\u001b[49m\u001b[38;5;241;43m.\u001b[39;49m\u001b[43mrequest\u001b[49m\u001b[43m(\u001b[49m\u001b[43mmethod\u001b[49m\u001b[38;5;241;43m=\u001b[39;49m\u001b[43mmethod\u001b[49m\u001b[43m,\u001b[49m\u001b[43m \u001b[49m\u001b[43murl\u001b[49m\u001b[38;5;241;43m=\u001b[39;49m\u001b[43murl\u001b[49m\u001b[43m,\u001b[49m\u001b[43m \u001b[49m\u001b[38;5;241;43m*\u001b[39;49m\u001b[38;5;241;43m*\u001b[39;49m\u001b[43mkwargs\u001b[49m\u001b[43m)\u001b[49m\n",
      "File \u001b[0;32m~/code/omdena/SaoPauloBrazilChapter_BrazilianSignLanguage/.venv/lib/python3.11/site-packages/requests/sessions.py:589\u001b[0m, in \u001b[0;36mSession.request\u001b[0;34m(self, method, url, params, data, headers, cookies, files, auth, timeout, allow_redirects, proxies, hooks, stream, verify, cert, json)\u001b[0m\n\u001b[1;32m    584\u001b[0m send_kwargs \u001b[38;5;241m=\u001b[39m {\n\u001b[1;32m    585\u001b[0m     \u001b[38;5;124m\"\u001b[39m\u001b[38;5;124mtimeout\u001b[39m\u001b[38;5;124m\"\u001b[39m: timeout,\n\u001b[1;32m    586\u001b[0m     \u001b[38;5;124m\"\u001b[39m\u001b[38;5;124mallow_redirects\u001b[39m\u001b[38;5;124m\"\u001b[39m: allow_redirects,\n\u001b[1;32m    587\u001b[0m }\n\u001b[1;32m    588\u001b[0m send_kwargs\u001b[38;5;241m.\u001b[39mupdate(settings)\n\u001b[0;32m--> 589\u001b[0m resp \u001b[38;5;241m=\u001b[39m \u001b[38;5;28;43mself\u001b[39;49m\u001b[38;5;241;43m.\u001b[39;49m\u001b[43msend\u001b[49m\u001b[43m(\u001b[49m\u001b[43mprep\u001b[49m\u001b[43m,\u001b[49m\u001b[43m \u001b[49m\u001b[38;5;241;43m*\u001b[39;49m\u001b[38;5;241;43m*\u001b[39;49m\u001b[43msend_kwargs\u001b[49m\u001b[43m)\u001b[49m\n\u001b[1;32m    591\u001b[0m \u001b[38;5;28;01mreturn\u001b[39;00m resp\n",
      "File \u001b[0;32m~/code/omdena/SaoPauloBrazilChapter_BrazilianSignLanguage/.venv/lib/python3.11/site-packages/requests/sessions.py:703\u001b[0m, in \u001b[0;36mSession.send\u001b[0;34m(self, request, **kwargs)\u001b[0m\n\u001b[1;32m    700\u001b[0m start \u001b[38;5;241m=\u001b[39m preferred_clock()\n\u001b[1;32m    702\u001b[0m \u001b[38;5;66;03m# Send the request\u001b[39;00m\n\u001b[0;32m--> 703\u001b[0m r \u001b[38;5;241m=\u001b[39m \u001b[43madapter\u001b[49m\u001b[38;5;241;43m.\u001b[39;49m\u001b[43msend\u001b[49m\u001b[43m(\u001b[49m\u001b[43mrequest\u001b[49m\u001b[43m,\u001b[49m\u001b[43m \u001b[49m\u001b[38;5;241;43m*\u001b[39;49m\u001b[38;5;241;43m*\u001b[39;49m\u001b[43mkwargs\u001b[49m\u001b[43m)\u001b[49m\n\u001b[1;32m    705\u001b[0m \u001b[38;5;66;03m# Total elapsed time of the request (approximately)\u001b[39;00m\n\u001b[1;32m    706\u001b[0m elapsed \u001b[38;5;241m=\u001b[39m preferred_clock() \u001b[38;5;241m-\u001b[39m start\n",
      "File \u001b[0;32m~/code/omdena/SaoPauloBrazilChapter_BrazilianSignLanguage/.venv/lib/python3.11/site-packages/requests/adapters.py:667\u001b[0m, in \u001b[0;36mHTTPAdapter.send\u001b[0;34m(self, request, stream, timeout, verify, cert, proxies)\u001b[0m\n\u001b[1;32m    664\u001b[0m     timeout \u001b[38;5;241m=\u001b[39m TimeoutSauce(connect\u001b[38;5;241m=\u001b[39mtimeout, read\u001b[38;5;241m=\u001b[39mtimeout)\n\u001b[1;32m    666\u001b[0m \u001b[38;5;28;01mtry\u001b[39;00m:\n\u001b[0;32m--> 667\u001b[0m     resp \u001b[38;5;241m=\u001b[39m \u001b[43mconn\u001b[49m\u001b[38;5;241;43m.\u001b[39;49m\u001b[43murlopen\u001b[49m\u001b[43m(\u001b[49m\n\u001b[1;32m    668\u001b[0m \u001b[43m        \u001b[49m\u001b[43mmethod\u001b[49m\u001b[38;5;241;43m=\u001b[39;49m\u001b[43mrequest\u001b[49m\u001b[38;5;241;43m.\u001b[39;49m\u001b[43mmethod\u001b[49m\u001b[43m,\u001b[49m\n\u001b[1;32m    669\u001b[0m \u001b[43m        \u001b[49m\u001b[43murl\u001b[49m\u001b[38;5;241;43m=\u001b[39;49m\u001b[43murl\u001b[49m\u001b[43m,\u001b[49m\n\u001b[1;32m    670\u001b[0m \u001b[43m        \u001b[49m\u001b[43mbody\u001b[49m\u001b[38;5;241;43m=\u001b[39;49m\u001b[43mrequest\u001b[49m\u001b[38;5;241;43m.\u001b[39;49m\u001b[43mbody\u001b[49m\u001b[43m,\u001b[49m\n\u001b[1;32m    671\u001b[0m \u001b[43m        \u001b[49m\u001b[43mheaders\u001b[49m\u001b[38;5;241;43m=\u001b[39;49m\u001b[43mrequest\u001b[49m\u001b[38;5;241;43m.\u001b[39;49m\u001b[43mheaders\u001b[49m\u001b[43m,\u001b[49m\n\u001b[1;32m    672\u001b[0m \u001b[43m        \u001b[49m\u001b[43mredirect\u001b[49m\u001b[38;5;241;43m=\u001b[39;49m\u001b[38;5;28;43;01mFalse\u001b[39;49;00m\u001b[43m,\u001b[49m\n\u001b[1;32m    673\u001b[0m \u001b[43m        \u001b[49m\u001b[43massert_same_host\u001b[49m\u001b[38;5;241;43m=\u001b[39;49m\u001b[38;5;28;43;01mFalse\u001b[39;49;00m\u001b[43m,\u001b[49m\n\u001b[1;32m    674\u001b[0m \u001b[43m        \u001b[49m\u001b[43mpreload_content\u001b[49m\u001b[38;5;241;43m=\u001b[39;49m\u001b[38;5;28;43;01mFalse\u001b[39;49;00m\u001b[43m,\u001b[49m\n\u001b[1;32m    675\u001b[0m \u001b[43m        \u001b[49m\u001b[43mdecode_content\u001b[49m\u001b[38;5;241;43m=\u001b[39;49m\u001b[38;5;28;43;01mFalse\u001b[39;49;00m\u001b[43m,\u001b[49m\n\u001b[1;32m    676\u001b[0m \u001b[43m        \u001b[49m\u001b[43mretries\u001b[49m\u001b[38;5;241;43m=\u001b[39;49m\u001b[38;5;28;43mself\u001b[39;49m\u001b[38;5;241;43m.\u001b[39;49m\u001b[43mmax_retries\u001b[49m\u001b[43m,\u001b[49m\n\u001b[1;32m    677\u001b[0m \u001b[43m        \u001b[49m\u001b[43mtimeout\u001b[49m\u001b[38;5;241;43m=\u001b[39;49m\u001b[43mtimeout\u001b[49m\u001b[43m,\u001b[49m\n\u001b[1;32m    678\u001b[0m \u001b[43m        \u001b[49m\u001b[43mchunked\u001b[49m\u001b[38;5;241;43m=\u001b[39;49m\u001b[43mchunked\u001b[49m\u001b[43m,\u001b[49m\n\u001b[1;32m    679\u001b[0m \u001b[43m    \u001b[49m\u001b[43m)\u001b[49m\n\u001b[1;32m    681\u001b[0m \u001b[38;5;28;01mexcept\u001b[39;00m (ProtocolError, \u001b[38;5;167;01mOSError\u001b[39;00m) \u001b[38;5;28;01mas\u001b[39;00m err:\n\u001b[1;32m    682\u001b[0m     \u001b[38;5;28;01mraise\u001b[39;00m \u001b[38;5;167;01mConnectionError\u001b[39;00m(err, request\u001b[38;5;241m=\u001b[39mrequest)\n",
      "File \u001b[0;32m~/code/omdena/SaoPauloBrazilChapter_BrazilianSignLanguage/.venv/lib/python3.11/site-packages/urllib3/connectionpool.py:787\u001b[0m, in \u001b[0;36mHTTPConnectionPool.urlopen\u001b[0;34m(self, method, url, body, headers, retries, redirect, assert_same_host, timeout, pool_timeout, release_conn, chunked, body_pos, preload_content, decode_content, **response_kw)\u001b[0m\n\u001b[1;32m    784\u001b[0m response_conn \u001b[38;5;241m=\u001b[39m conn \u001b[38;5;28;01mif\u001b[39;00m \u001b[38;5;129;01mnot\u001b[39;00m release_conn \u001b[38;5;28;01melse\u001b[39;00m \u001b[38;5;28;01mNone\u001b[39;00m\n\u001b[1;32m    786\u001b[0m \u001b[38;5;66;03m# Make the request on the HTTPConnection object\u001b[39;00m\n\u001b[0;32m--> 787\u001b[0m response \u001b[38;5;241m=\u001b[39m \u001b[38;5;28;43mself\u001b[39;49m\u001b[38;5;241;43m.\u001b[39;49m\u001b[43m_make_request\u001b[49m\u001b[43m(\u001b[49m\n\u001b[1;32m    788\u001b[0m \u001b[43m    \u001b[49m\u001b[43mconn\u001b[49m\u001b[43m,\u001b[49m\n\u001b[1;32m    789\u001b[0m \u001b[43m    \u001b[49m\u001b[43mmethod\u001b[49m\u001b[43m,\u001b[49m\n\u001b[1;32m    790\u001b[0m \u001b[43m    \u001b[49m\u001b[43murl\u001b[49m\u001b[43m,\u001b[49m\n\u001b[1;32m    791\u001b[0m \u001b[43m    \u001b[49m\u001b[43mtimeout\u001b[49m\u001b[38;5;241;43m=\u001b[39;49m\u001b[43mtimeout_obj\u001b[49m\u001b[43m,\u001b[49m\n\u001b[1;32m    792\u001b[0m \u001b[43m    \u001b[49m\u001b[43mbody\u001b[49m\u001b[38;5;241;43m=\u001b[39;49m\u001b[43mbody\u001b[49m\u001b[43m,\u001b[49m\n\u001b[1;32m    793\u001b[0m \u001b[43m    \u001b[49m\u001b[43mheaders\u001b[49m\u001b[38;5;241;43m=\u001b[39;49m\u001b[43mheaders\u001b[49m\u001b[43m,\u001b[49m\n\u001b[1;32m    794\u001b[0m \u001b[43m    \u001b[49m\u001b[43mchunked\u001b[49m\u001b[38;5;241;43m=\u001b[39;49m\u001b[43mchunked\u001b[49m\u001b[43m,\u001b[49m\n\u001b[1;32m    795\u001b[0m \u001b[43m    \u001b[49m\u001b[43mretries\u001b[49m\u001b[38;5;241;43m=\u001b[39;49m\u001b[43mretries\u001b[49m\u001b[43m,\u001b[49m\n\u001b[1;32m    796\u001b[0m \u001b[43m    \u001b[49m\u001b[43mresponse_conn\u001b[49m\u001b[38;5;241;43m=\u001b[39;49m\u001b[43mresponse_conn\u001b[49m\u001b[43m,\u001b[49m\n\u001b[1;32m    797\u001b[0m \u001b[43m    \u001b[49m\u001b[43mpreload_content\u001b[49m\u001b[38;5;241;43m=\u001b[39;49m\u001b[43mpreload_content\u001b[49m\u001b[43m,\u001b[49m\n\u001b[1;32m    798\u001b[0m \u001b[43m    \u001b[49m\u001b[43mdecode_content\u001b[49m\u001b[38;5;241;43m=\u001b[39;49m\u001b[43mdecode_content\u001b[49m\u001b[43m,\u001b[49m\n\u001b[1;32m    799\u001b[0m \u001b[43m    \u001b[49m\u001b[38;5;241;43m*\u001b[39;49m\u001b[38;5;241;43m*\u001b[39;49m\u001b[43mresponse_kw\u001b[49m\u001b[43m,\u001b[49m\n\u001b[1;32m    800\u001b[0m \u001b[43m\u001b[49m\u001b[43m)\u001b[49m\n\u001b[1;32m    802\u001b[0m \u001b[38;5;66;03m# Everything went great!\u001b[39;00m\n\u001b[1;32m    803\u001b[0m clean_exit \u001b[38;5;241m=\u001b[39m \u001b[38;5;28;01mTrue\u001b[39;00m\n",
      "File \u001b[0;32m~/code/omdena/SaoPauloBrazilChapter_BrazilianSignLanguage/.venv/lib/python3.11/site-packages/urllib3/connectionpool.py:534\u001b[0m, in \u001b[0;36mHTTPConnectionPool._make_request\u001b[0;34m(self, conn, method, url, body, headers, retries, timeout, chunked, response_conn, preload_content, decode_content, enforce_content_length)\u001b[0m\n\u001b[1;32m    532\u001b[0m \u001b[38;5;66;03m# Receive the response from the server\u001b[39;00m\n\u001b[1;32m    533\u001b[0m \u001b[38;5;28;01mtry\u001b[39;00m:\n\u001b[0;32m--> 534\u001b[0m     response \u001b[38;5;241m=\u001b[39m \u001b[43mconn\u001b[49m\u001b[38;5;241;43m.\u001b[39;49m\u001b[43mgetresponse\u001b[49m\u001b[43m(\u001b[49m\u001b[43m)\u001b[49m\n\u001b[1;32m    535\u001b[0m \u001b[38;5;28;01mexcept\u001b[39;00m (BaseSSLError, \u001b[38;5;167;01mOSError\u001b[39;00m) \u001b[38;5;28;01mas\u001b[39;00m e:\n\u001b[1;32m    536\u001b[0m     \u001b[38;5;28mself\u001b[39m\u001b[38;5;241m.\u001b[39m_raise_timeout(err\u001b[38;5;241m=\u001b[39me, url\u001b[38;5;241m=\u001b[39murl, timeout_value\u001b[38;5;241m=\u001b[39mread_timeout)\n",
      "File \u001b[0;32m~/code/omdena/SaoPauloBrazilChapter_BrazilianSignLanguage/.venv/lib/python3.11/site-packages/urllib3/connection.py:516\u001b[0m, in \u001b[0;36mHTTPConnection.getresponse\u001b[0;34m(self)\u001b[0m\n\u001b[1;32m    513\u001b[0m _shutdown \u001b[38;5;241m=\u001b[39m \u001b[38;5;28mgetattr\u001b[39m(\u001b[38;5;28mself\u001b[39m\u001b[38;5;241m.\u001b[39msock, \u001b[38;5;124m\"\u001b[39m\u001b[38;5;124mshutdown\u001b[39m\u001b[38;5;124m\"\u001b[39m, \u001b[38;5;28;01mNone\u001b[39;00m)\n\u001b[1;32m    515\u001b[0m \u001b[38;5;66;03m# Get the response from http.client.HTTPConnection\u001b[39;00m\n\u001b[0;32m--> 516\u001b[0m httplib_response \u001b[38;5;241m=\u001b[39m \u001b[38;5;28;43msuper\u001b[39;49m\u001b[43m(\u001b[49m\u001b[43m)\u001b[49m\u001b[38;5;241;43m.\u001b[39;49m\u001b[43mgetresponse\u001b[49m\u001b[43m(\u001b[49m\u001b[43m)\u001b[49m\n\u001b[1;32m    518\u001b[0m \u001b[38;5;28;01mtry\u001b[39;00m:\n\u001b[1;32m    519\u001b[0m     assert_header_parsing(httplib_response\u001b[38;5;241m.\u001b[39mmsg)\n",
      "File \u001b[0;32m~/.local/share/uv/python/cpython-3.11.8-macos-x86_64-none/lib/python3.11/http/client.py:1390\u001b[0m, in \u001b[0;36mHTTPConnection.getresponse\u001b[0;34m(self)\u001b[0m\n\u001b[1;32m   1388\u001b[0m \u001b[38;5;28;01mtry\u001b[39;00m:\n\u001b[1;32m   1389\u001b[0m     \u001b[38;5;28;01mtry\u001b[39;00m:\n\u001b[0;32m-> 1390\u001b[0m         \u001b[43mresponse\u001b[49m\u001b[38;5;241;43m.\u001b[39;49m\u001b[43mbegin\u001b[49m\u001b[43m(\u001b[49m\u001b[43m)\u001b[49m\n\u001b[1;32m   1391\u001b[0m     \u001b[38;5;28;01mexcept\u001b[39;00m \u001b[38;5;167;01mConnectionError\u001b[39;00m:\n\u001b[1;32m   1392\u001b[0m         \u001b[38;5;28mself\u001b[39m\u001b[38;5;241m.\u001b[39mclose()\n",
      "File \u001b[0;32m~/.local/share/uv/python/cpython-3.11.8-macos-x86_64-none/lib/python3.11/http/client.py:325\u001b[0m, in \u001b[0;36mHTTPResponse.begin\u001b[0;34m(self)\u001b[0m\n\u001b[1;32m    323\u001b[0m \u001b[38;5;66;03m# read until we get a non-100 response\u001b[39;00m\n\u001b[1;32m    324\u001b[0m \u001b[38;5;28;01mwhile\u001b[39;00m \u001b[38;5;28;01mTrue\u001b[39;00m:\n\u001b[0;32m--> 325\u001b[0m     version, status, reason \u001b[38;5;241m=\u001b[39m \u001b[38;5;28;43mself\u001b[39;49m\u001b[38;5;241;43m.\u001b[39;49m\u001b[43m_read_status\u001b[49m\u001b[43m(\u001b[49m\u001b[43m)\u001b[49m\n\u001b[1;32m    326\u001b[0m     \u001b[38;5;28;01mif\u001b[39;00m status \u001b[38;5;241m!=\u001b[39m CONTINUE:\n\u001b[1;32m    327\u001b[0m         \u001b[38;5;28;01mbreak\u001b[39;00m\n",
      "File \u001b[0;32m~/.local/share/uv/python/cpython-3.11.8-macos-x86_64-none/lib/python3.11/http/client.py:286\u001b[0m, in \u001b[0;36mHTTPResponse._read_status\u001b[0;34m(self)\u001b[0m\n\u001b[1;32m    285\u001b[0m \u001b[38;5;28;01mdef\u001b[39;00m\u001b[38;5;250m \u001b[39m\u001b[38;5;21m_read_status\u001b[39m(\u001b[38;5;28mself\u001b[39m):\n\u001b[0;32m--> 286\u001b[0m     line \u001b[38;5;241m=\u001b[39m \u001b[38;5;28mstr\u001b[39m(\u001b[38;5;28mself\u001b[39m\u001b[38;5;241m.\u001b[39mfp\u001b[38;5;241m.\u001b[39mreadline(_MAXLINE \u001b[38;5;241m+\u001b[39m \u001b[38;5;241m1\u001b[39m), \u001b[38;5;124m\"\u001b[39m\u001b[38;5;124miso-8859-1\u001b[39m\u001b[38;5;124m\"\u001b[39m)\n\u001b[1;32m    287\u001b[0m     \u001b[38;5;28;01mif\u001b[39;00m \u001b[38;5;28mlen\u001b[39m(line) \u001b[38;5;241m>\u001b[39m _MAXLINE:\n\u001b[1;32m    288\u001b[0m         \u001b[38;5;28;01mraise\u001b[39;00m LineTooLong(\u001b[38;5;124m\"\u001b[39m\u001b[38;5;124mstatus line\u001b[39m\u001b[38;5;124m\"\u001b[39m)\n",
      "File \u001b[0;32m~/.local/share/uv/python/cpython-3.11.8-macos-x86_64-none/lib/python3.11/socket.py:706\u001b[0m, in \u001b[0;36mSocketIO.readinto\u001b[0;34m(self, b)\u001b[0m\n\u001b[1;32m    704\u001b[0m \u001b[38;5;28;01mwhile\u001b[39;00m \u001b[38;5;28;01mTrue\u001b[39;00m:\n\u001b[1;32m    705\u001b[0m     \u001b[38;5;28;01mtry\u001b[39;00m:\n\u001b[0;32m--> 706\u001b[0m         \u001b[38;5;28;01mreturn\u001b[39;00m \u001b[38;5;28;43mself\u001b[39;49m\u001b[38;5;241;43m.\u001b[39;49m\u001b[43m_sock\u001b[49m\u001b[38;5;241;43m.\u001b[39;49m\u001b[43mrecv_into\u001b[49m\u001b[43m(\u001b[49m\u001b[43mb\u001b[49m\u001b[43m)\u001b[49m\n\u001b[1;32m    707\u001b[0m     \u001b[38;5;28;01mexcept\u001b[39;00m timeout:\n\u001b[1;32m    708\u001b[0m         \u001b[38;5;28mself\u001b[39m\u001b[38;5;241m.\u001b[39m_timeout_occurred \u001b[38;5;241m=\u001b[39m \u001b[38;5;28;01mTrue\u001b[39;00m\n",
      "File \u001b[0;32m~/.local/share/uv/python/cpython-3.11.8-macos-x86_64-none/lib/python3.11/ssl.py:1314\u001b[0m, in \u001b[0;36mSSLSocket.recv_into\u001b[0;34m(self, buffer, nbytes, flags)\u001b[0m\n\u001b[1;32m   1310\u001b[0m     \u001b[38;5;28;01mif\u001b[39;00m flags \u001b[38;5;241m!=\u001b[39m \u001b[38;5;241m0\u001b[39m:\n\u001b[1;32m   1311\u001b[0m         \u001b[38;5;28;01mraise\u001b[39;00m \u001b[38;5;167;01mValueError\u001b[39;00m(\n\u001b[1;32m   1312\u001b[0m           \u001b[38;5;124m\"\u001b[39m\u001b[38;5;124mnon-zero flags not allowed in calls to recv_into() on \u001b[39m\u001b[38;5;132;01m%s\u001b[39;00m\u001b[38;5;124m\"\u001b[39m \u001b[38;5;241m%\u001b[39m\n\u001b[1;32m   1313\u001b[0m           \u001b[38;5;28mself\u001b[39m\u001b[38;5;241m.\u001b[39m\u001b[38;5;18m__class__\u001b[39m)\n\u001b[0;32m-> 1314\u001b[0m     \u001b[38;5;28;01mreturn\u001b[39;00m \u001b[38;5;28;43mself\u001b[39;49m\u001b[38;5;241;43m.\u001b[39;49m\u001b[43mread\u001b[49m\u001b[43m(\u001b[49m\u001b[43mnbytes\u001b[49m\u001b[43m,\u001b[49m\u001b[43m \u001b[49m\u001b[43mbuffer\u001b[49m\u001b[43m)\u001b[49m\n\u001b[1;32m   1315\u001b[0m \u001b[38;5;28;01melse\u001b[39;00m:\n\u001b[1;32m   1316\u001b[0m     \u001b[38;5;28;01mreturn\u001b[39;00m \u001b[38;5;28msuper\u001b[39m()\u001b[38;5;241m.\u001b[39mrecv_into(buffer, nbytes, flags)\n",
      "File \u001b[0;32m~/.local/share/uv/python/cpython-3.11.8-macos-x86_64-none/lib/python3.11/ssl.py:1166\u001b[0m, in \u001b[0;36mSSLSocket.read\u001b[0;34m(self, len, buffer)\u001b[0m\n\u001b[1;32m   1164\u001b[0m \u001b[38;5;28;01mtry\u001b[39;00m:\n\u001b[1;32m   1165\u001b[0m     \u001b[38;5;28;01mif\u001b[39;00m buffer \u001b[38;5;129;01mis\u001b[39;00m \u001b[38;5;129;01mnot\u001b[39;00m \u001b[38;5;28;01mNone\u001b[39;00m:\n\u001b[0;32m-> 1166\u001b[0m         \u001b[38;5;28;01mreturn\u001b[39;00m \u001b[38;5;28;43mself\u001b[39;49m\u001b[38;5;241;43m.\u001b[39;49m\u001b[43m_sslobj\u001b[49m\u001b[38;5;241;43m.\u001b[39;49m\u001b[43mread\u001b[49m\u001b[43m(\u001b[49m\u001b[38;5;28;43mlen\u001b[39;49m\u001b[43m,\u001b[49m\u001b[43m \u001b[49m\u001b[43mbuffer\u001b[49m\u001b[43m)\u001b[49m\n\u001b[1;32m   1167\u001b[0m     \u001b[38;5;28;01melse\u001b[39;00m:\n\u001b[1;32m   1168\u001b[0m         \u001b[38;5;28;01mreturn\u001b[39;00m \u001b[38;5;28mself\u001b[39m\u001b[38;5;241m.\u001b[39m_sslobj\u001b[38;5;241m.\u001b[39mread(\u001b[38;5;28mlen\u001b[39m)\n",
      "\u001b[0;31mKeyboardInterrupt\u001b[0m: "
     ]
    }
   ],
   "source": [
    "words_and_links[\"all_video_info\"] = words_and_links[\"sign_url\"].progress_apply(\n",
    "    get_video_urls\n",
    ")"
   ]
  },
  {
   "cell_type": "markdown",
   "metadata": {},
   "source": [
    "One by one takes a while, so I asked AI to make it async"
   ]
  },
  {
   "cell_type": "code",
   "execution_count": 8,
   "metadata": {},
   "outputs": [],
   "source": [
    "df = words_and_links.copy()"
   ]
  },
  {
   "cell_type": "code",
   "execution_count": null,
   "metadata": {},
   "outputs": [
    {
     "name": "stderr",
     "output_type": "stream",
     "text": [
      "Processing URLs: 100%|██████████| 1364/1364 [03:20<00:00,  6.79it/s]\n",
      "2025-03-06 17:12:54,283 - INFO - Completed processing 1364 URLs. Failed: 0\n"
     ]
    }
   ],
   "source": [
    "import pandas as pd\n",
    "from tqdm import tqdm\n",
    "import logging\n",
    "from typing import Dict, Any\n",
    "\n",
    "\n",
    "class AsyncRequestProcessor:\n",
    "    def __init__(\n",
    "        self,\n",
    "        max_concurrent: int = 10,\n",
    "        max_retries: int = 3,\n",
    "        retry_delay: float = 1.0,\n",
    "        timeout: int = 30,\n",
    "    ):\n",
    "        self.max_concurrent = max_concurrent\n",
    "        self.max_retries = max_retries\n",
    "        self.retry_delay = retry_delay\n",
    "        self.timeout = timeout\n",
    "        self.setup_logging()\n",
    "\n",
    "    def setup_logging(self):\n",
    "        logging.basicConfig(\n",
    "            level=logging.INFO, format=\"%(asctime)s - %(levelname)s - %(message)s\"\n",
    "        )\n",
    "        self.logger = logging.getLogger(__name__)\n",
    "\n",
    "    async def process_url(\n",
    "        self, url: str, session: aiohttp.ClientSession, semaphore: asyncio.Semaphore\n",
    "    ) -> Dict[str, Any]:\n",
    "        for attempt in range(self.max_retries):\n",
    "            try:\n",
    "                async with semaphore:\n",
    "                    # Random delay between requests\n",
    "                    await asyncio.sleep(random.uniform(0.1, 0.3))\n",
    "\n",
    "                    # Call get_video_urls function\n",
    "                    video_links, signer_numbers, signer_order = await get_video_urls(\n",
    "                        url, session\n",
    "                    )\n",
    "                    return {\n",
    "                        \"url\": url,\n",
    "                        \"status\": \"success\",\n",
    "                        \"video_links\": video_links,\n",
    "                        \"signer_numbers\": signer_numbers,\n",
    "                        \"signer_order\": signer_order,\n",
    "                        \"attempts\": attempt + 1,\n",
    "                    }\n",
    "\n",
    "            except aiohttp.ClientError as e:\n",
    "                if attempt == self.max_retries - 1:\n",
    "                    return {\n",
    "                        \"url\": url,\n",
    "                        \"status\": \"error\",\n",
    "                        \"error\": f\"Network error: {str(e)}\",\n",
    "                        \"attempts\": attempt + 1,\n",
    "                    }\n",
    "                await asyncio.sleep(self.retry_delay * (attempt + 1))\n",
    "            except Exception as e:\n",
    "                return {\n",
    "                    \"url\": url,\n",
    "                    \"status\": \"error\",\n",
    "                    \"error\": str(e),\n",
    "                    \"attempts\": attempt + 1,\n",
    "                }\n",
    "\n",
    "    async def process_urls(self, urls: list) -> list:\n",
    "        semaphore = asyncio.Semaphore(self.max_concurrent)\n",
    "        timeout = aiohttp.ClientTimeout(total=self.timeout)\n",
    "\n",
    "        async with aiohttp.ClientSession(timeout=timeout) as session:\n",
    "            tasks = [self.process_url(url, session, semaphore) for url in urls]\n",
    "\n",
    "            results = []\n",
    "            failed = 0\n",
    "            for f in tqdm(\n",
    "                asyncio.as_completed(tasks), total=len(tasks), desc=\"Processing URLs\"\n",
    "            ):\n",
    "                result = await f\n",
    "                if result[\"status\"] == \"error\":\n",
    "                    failed += 1\n",
    "                    self.logger.warning(\n",
    "                        f\"Failed to process {result['url']}: {result['error']}\"\n",
    "                    )\n",
    "                results.append(result)\n",
    "\n",
    "            self.logger.info(\n",
    "                f\"Completed processing {len(results)} URLs. Failed: {failed}\"\n",
    "            )\n",
    "            return results\n",
    "\n",
    "\n",
    "async def get_video_urls(url: str, session: aiohttp.ClientSession):\n",
    "    async with session.get(url) as response:\n",
    "        if response.status == 200:\n",
    "            video_links = []\n",
    "            signer_numbers = []\n",
    "            signer_order = \"\"\n",
    "\n",
    "            # Get the HTML content\n",
    "            html = await response.text()\n",
    "            soup = BeautifulSoup(html, \"html.parser\")\n",
    "\n",
    "            # go inside div class container\n",
    "            container = soup.find(\"section\", class_=\"page-section\").find(\n",
    "                \"div\", class_=\"container\"\n",
    "            )\n",
    "            # go inside div class row\n",
    "            rows = [child for child in container.children if child.name == \"div\"]\n",
    "\n",
    "            # get the video and signer number\n",
    "            for row in rows:\n",
    "                signer_number = row.find(\"h2\").text.strip().split(\" \")[1]\n",
    "                link = row.find(\"source\").get(\"src\")\n",
    "                video_links.append(link)\n",
    "                signer_numbers.append(signer_number)\n",
    "                signer_order += signer_number\n",
    "            return video_links, signer_numbers, signer_order\n",
    "        else:\n",
    "            raise aiohttp.ClientError(\n",
    "                f\"Response code {response.status}, Failed to get video URLs for {url}\"\n",
    "            )\n",
    "\n",
    "\n",
    "# For Jupyter notebook execution\n",
    "async def main(df):\n",
    "    processor = AsyncRequestProcessor(\n",
    "        max_concurrent=10, max_retries=3, retry_delay=1.0, timeout=30\n",
    "    )\n",
    "\n",
    "    results = await processor.process_urls(df[\"sign_url\"].tolist())\n",
    "    return pd.DataFrame(results)\n",
    "\n",
    "\n",
    "# Execute in Jupyter\n",
    "try:\n",
    "    # Get current notebook's event loop\n",
    "    loop = asyncio.get_event_loop()\n",
    "    results_df = await main(df)  # Use await here in Jupyter\n",
    "\n",
    "    # Process results into final dataframe\n",
    "    successful_results = results_df[results_df[\"status\"] == \"success\"]\n",
    "\n",
    "    # Create separate columns for video links and signer information\n",
    "    df_expanded = pd.concat(\n",
    "        [\n",
    "            df,\n",
    "            pd.DataFrame(\n",
    "                {\n",
    "                    \"video_links\": successful_results[\"video_links\"],\n",
    "                    \"signer_numbers\": successful_results[\"signer_numbers\"],\n",
    "                    \"signer_order\": successful_results[\"signer_order\"],\n",
    "                }\n",
    "            ),\n",
    "        ],\n",
    "        axis=1,\n",
    "    )\n",
    "\n",
    "except Exception as e:\n",
    "    logging.error(f\"Processing failed: {str(e)}\")"
   ]
  },
  {
   "cell_type": "code",
   "execution_count": 10,
   "metadata": {},
   "outputs": [
    {
     "data": {
      "application/vnd.microsoft.datawrangler.viewer.v0+json": {
       "columns": [
        {
         "name": "index",
         "rawType": "int64",
         "type": "integer"
        },
        {
         "name": "url",
         "rawType": "object",
         "type": "string"
        },
        {
         "name": "status",
         "rawType": "object",
         "type": "string"
        },
        {
         "name": "video_links",
         "rawType": "object",
         "type": "unknown"
        },
        {
         "name": "signer_numbers",
         "rawType": "object",
         "type": "unknown"
        },
        {
         "name": "signer_order",
         "rawType": "object",
         "type": "string"
        },
        {
         "name": "attempts",
         "rawType": "int64",
         "type": "integer"
        }
       ],
       "conversionMethod": "pd.DataFrame",
       "ref": "cebef7cd-9bb9-436d-91ea-e9194a68063d",
       "rows": [
        [
         "0",
         "https://libras.cin.ufpe.br/sign/700",
         "success",
         "['https://libras.cin.ufpe.br/storage/videos/20210331112410_6064860ab479a.mp4', 'https://libras.cin.ufpe.br/storage/videos/20210501071100_608d293422d3b.mp4', 'https://libras.cin.ufpe.br/storage/videos/20210929043605_6154c025ed4d9.mp4']",
         "['3', '1', '2']",
         "312",
         "1"
        ],
        [
         "1",
         "https://libras.cin.ufpe.br/sign/990",
         "success",
         "['https://libras.cin.ufpe.br/storage/videos/20210127053253_6011cdf5a81ed.mp4', 'https://libras.cin.ufpe.br/storage/videos/20210505041201_6092ee0164267.mp4', 'https://libras.cin.ufpe.br/storage/videos/20210621054628_60d0faa427caa.mp4']",
         "['3', '1', '2']",
         "312",
         "1"
        ],
        [
         "2",
         "https://libras.cin.ufpe.br/sign/438",
         "success",
         "['https://libras.cin.ufpe.br/storage/videos/20210114022324_60007e0c5d62b.mp4', 'https://libras.cin.ufpe.br/storage/videos/20210114022324_60007e0c6746a.mp4', 'https://libras.cin.ufpe.br/storage/videos/20210623034713_60d381b18c627.mp4']",
         "['1', '2', '3']",
         "123",
         "1"
        ],
        [
         "3",
         "https://libras.cin.ufpe.br/sign/77",
         "success",
         "['https://libras.cin.ufpe.br/storage/videos/20201221013450_5fe0ceaadcc19.mp4', 'https://libras.cin.ufpe.br/storage/videos/20201221013450_5fe0ceaae1996.mp4', 'https://libras.cin.ufpe.br/storage/videos/20210331112405_60648605a17b3.mp4']",
         "['1', '2', '3']",
         "123",
         "1"
        ],
        [
         "4",
         "https://libras.cin.ufpe.br/sign/551",
         "success",
         "['https://libras.cin.ufpe.br/storage/videos/20210117042022_60048df6729c8.mp4', 'https://libras.cin.ufpe.br/storage/videos/20210117042022_60048df67ec14.mp4', 'https://libras.cin.ufpe.br/storage/videos/20210402100042_6067be3a72f1e.mp4']",
         "['1', '2', '3']",
         "123",
         "1"
        ]
       ],
       "shape": {
        "columns": 6,
        "rows": 5
       }
      },
      "text/html": [
       "<div>\n",
       "<style scoped>\n",
       "    .dataframe tbody tr th:only-of-type {\n",
       "        vertical-align: middle;\n",
       "    }\n",
       "\n",
       "    .dataframe tbody tr th {\n",
       "        vertical-align: top;\n",
       "    }\n",
       "\n",
       "    .dataframe thead th {\n",
       "        text-align: right;\n",
       "    }\n",
       "</style>\n",
       "<table border=\"1\" class=\"dataframe\">\n",
       "  <thead>\n",
       "    <tr style=\"text-align: right;\">\n",
       "      <th></th>\n",
       "      <th>url</th>\n",
       "      <th>status</th>\n",
       "      <th>video_links</th>\n",
       "      <th>signer_numbers</th>\n",
       "      <th>signer_order</th>\n",
       "      <th>attempts</th>\n",
       "    </tr>\n",
       "  </thead>\n",
       "  <tbody>\n",
       "    <tr>\n",
       "      <th>0</th>\n",
       "      <td>https://libras.cin.ufpe.br/sign/700</td>\n",
       "      <td>success</td>\n",
       "      <td>[https://libras.cin.ufpe.br/storage/videos/202...</td>\n",
       "      <td>[3, 1, 2]</td>\n",
       "      <td>312</td>\n",
       "      <td>1</td>\n",
       "    </tr>\n",
       "    <tr>\n",
       "      <th>1</th>\n",
       "      <td>https://libras.cin.ufpe.br/sign/990</td>\n",
       "      <td>success</td>\n",
       "      <td>[https://libras.cin.ufpe.br/storage/videos/202...</td>\n",
       "      <td>[3, 1, 2]</td>\n",
       "      <td>312</td>\n",
       "      <td>1</td>\n",
       "    </tr>\n",
       "    <tr>\n",
       "      <th>2</th>\n",
       "      <td>https://libras.cin.ufpe.br/sign/438</td>\n",
       "      <td>success</td>\n",
       "      <td>[https://libras.cin.ufpe.br/storage/videos/202...</td>\n",
       "      <td>[1, 2, 3]</td>\n",
       "      <td>123</td>\n",
       "      <td>1</td>\n",
       "    </tr>\n",
       "    <tr>\n",
       "      <th>3</th>\n",
       "      <td>https://libras.cin.ufpe.br/sign/77</td>\n",
       "      <td>success</td>\n",
       "      <td>[https://libras.cin.ufpe.br/storage/videos/202...</td>\n",
       "      <td>[1, 2, 3]</td>\n",
       "      <td>123</td>\n",
       "      <td>1</td>\n",
       "    </tr>\n",
       "    <tr>\n",
       "      <th>4</th>\n",
       "      <td>https://libras.cin.ufpe.br/sign/551</td>\n",
       "      <td>success</td>\n",
       "      <td>[https://libras.cin.ufpe.br/storage/videos/202...</td>\n",
       "      <td>[1, 2, 3]</td>\n",
       "      <td>123</td>\n",
       "      <td>1</td>\n",
       "    </tr>\n",
       "  </tbody>\n",
       "</table>\n",
       "</div>"
      ],
      "text/plain": [
       "                                   url   status  \\\n",
       "0  https://libras.cin.ufpe.br/sign/700  success   \n",
       "1  https://libras.cin.ufpe.br/sign/990  success   \n",
       "2  https://libras.cin.ufpe.br/sign/438  success   \n",
       "3   https://libras.cin.ufpe.br/sign/77  success   \n",
       "4  https://libras.cin.ufpe.br/sign/551  success   \n",
       "\n",
       "                                         video_links signer_numbers  \\\n",
       "0  [https://libras.cin.ufpe.br/storage/videos/202...      [3, 1, 2]   \n",
       "1  [https://libras.cin.ufpe.br/storage/videos/202...      [3, 1, 2]   \n",
       "2  [https://libras.cin.ufpe.br/storage/videos/202...      [1, 2, 3]   \n",
       "3  [https://libras.cin.ufpe.br/storage/videos/202...      [1, 2, 3]   \n",
       "4  [https://libras.cin.ufpe.br/storage/videos/202...      [1, 2, 3]   \n",
       "\n",
       "  signer_order  attempts  \n",
       "0          312         1  \n",
       "1          312         1  \n",
       "2          123         1  \n",
       "3          123         1  \n",
       "4          123         1  "
      ]
     },
     "execution_count": 10,
     "metadata": {},
     "output_type": "execute_result"
    }
   ],
   "source": [
    "results_df.head()"
   ]
  },
  {
   "cell_type": "code",
   "execution_count": 11,
   "metadata": {},
   "outputs": [
    {
     "data": {
      "text/plain": [
       "status\n",
       "success    1364\n",
       "Name: count, dtype: int64"
      ]
     },
     "execution_count": 11,
     "metadata": {},
     "output_type": "execute_result"
    }
   ],
   "source": [
    "results_df.status.value_counts()"
   ]
  },
  {
   "cell_type": "code",
   "execution_count": null,
   "metadata": {},
   "outputs": [
    {
     "data": {
      "application/vnd.microsoft.datawrangler.viewer.v0+json": {
       "columns": [
        {
         "name": "index",
         "rawType": "int64",
         "type": "integer"
        },
        {
         "name": "url",
         "rawType": "object",
         "type": "string"
        },
        {
         "name": "status",
         "rawType": "object",
         "type": "string"
        },
        {
         "name": "video_links",
         "rawType": "object",
         "type": "string"
        },
        {
         "name": "signer_numbers",
         "rawType": "object",
         "type": "string"
        },
        {
         "name": "signer_order",
         "rawType": "object",
         "type": "string"
        },
        {
         "name": "attempts",
         "rawType": "int64",
         "type": "integer"
        }
       ],
       "conversionMethod": "pd.DataFrame",
       "ref": "c42cc053-a766-479f-b7cc-589e694b4f50",
       "rows": [
        [
         "0",
         "https://libras.cin.ufpe.br/sign/700",
         "success",
         "https://libras.cin.ufpe.br/storage/videos/20210331112410_6064860ab479a.mp4",
         "3",
         "312",
         "1"
        ],
        [
         "0",
         "https://libras.cin.ufpe.br/sign/700",
         "success",
         "https://libras.cin.ufpe.br/storage/videos/20210501071100_608d293422d3b.mp4",
         "1",
         "312",
         "1"
        ],
        [
         "0",
         "https://libras.cin.ufpe.br/sign/700",
         "success",
         "https://libras.cin.ufpe.br/storage/videos/20210929043605_6154c025ed4d9.mp4",
         "2",
         "312",
         "1"
        ],
        [
         "1",
         "https://libras.cin.ufpe.br/sign/990",
         "success",
         "https://libras.cin.ufpe.br/storage/videos/20210127053253_6011cdf5a81ed.mp4",
         "3",
         "312",
         "1"
        ],
        [
         "1",
         "https://libras.cin.ufpe.br/sign/990",
         "success",
         "https://libras.cin.ufpe.br/storage/videos/20210505041201_6092ee0164267.mp4",
         "1",
         "312",
         "1"
        ]
       ],
       "shape": {
        "columns": 6,
        "rows": 5
       }
      },
      "text/html": [
       "<div>\n",
       "<style scoped>\n",
       "    .dataframe tbody tr th:only-of-type {\n",
       "        vertical-align: middle;\n",
       "    }\n",
       "\n",
       "    .dataframe tbody tr th {\n",
       "        vertical-align: top;\n",
       "    }\n",
       "\n",
       "    .dataframe thead th {\n",
       "        text-align: right;\n",
       "    }\n",
       "</style>\n",
       "<table border=\"1\" class=\"dataframe\">\n",
       "  <thead>\n",
       "    <tr style=\"text-align: right;\">\n",
       "      <th></th>\n",
       "      <th>url</th>\n",
       "      <th>status</th>\n",
       "      <th>video_links</th>\n",
       "      <th>signer_numbers</th>\n",
       "      <th>signer_order</th>\n",
       "      <th>attempts</th>\n",
       "    </tr>\n",
       "  </thead>\n",
       "  <tbody>\n",
       "    <tr>\n",
       "      <th>0</th>\n",
       "      <td>https://libras.cin.ufpe.br/sign/700</td>\n",
       "      <td>success</td>\n",
       "      <td>https://libras.cin.ufpe.br/storage/videos/2021...</td>\n",
       "      <td>3</td>\n",
       "      <td>312</td>\n",
       "      <td>1</td>\n",
       "    </tr>\n",
       "    <tr>\n",
       "      <th>0</th>\n",
       "      <td>https://libras.cin.ufpe.br/sign/700</td>\n",
       "      <td>success</td>\n",
       "      <td>https://libras.cin.ufpe.br/storage/videos/2021...</td>\n",
       "      <td>1</td>\n",
       "      <td>312</td>\n",
       "      <td>1</td>\n",
       "    </tr>\n",
       "    <tr>\n",
       "      <th>0</th>\n",
       "      <td>https://libras.cin.ufpe.br/sign/700</td>\n",
       "      <td>success</td>\n",
       "      <td>https://libras.cin.ufpe.br/storage/videos/2021...</td>\n",
       "      <td>2</td>\n",
       "      <td>312</td>\n",
       "      <td>1</td>\n",
       "    </tr>\n",
       "    <tr>\n",
       "      <th>1</th>\n",
       "      <td>https://libras.cin.ufpe.br/sign/990</td>\n",
       "      <td>success</td>\n",
       "      <td>https://libras.cin.ufpe.br/storage/videos/2021...</td>\n",
       "      <td>3</td>\n",
       "      <td>312</td>\n",
       "      <td>1</td>\n",
       "    </tr>\n",
       "    <tr>\n",
       "      <th>1</th>\n",
       "      <td>https://libras.cin.ufpe.br/sign/990</td>\n",
       "      <td>success</td>\n",
       "      <td>https://libras.cin.ufpe.br/storage/videos/2021...</td>\n",
       "      <td>1</td>\n",
       "      <td>312</td>\n",
       "      <td>1</td>\n",
       "    </tr>\n",
       "  </tbody>\n",
       "</table>\n",
       "</div>"
      ],
      "text/plain": [
       "                                   url   status  \\\n",
       "0  https://libras.cin.ufpe.br/sign/700  success   \n",
       "0  https://libras.cin.ufpe.br/sign/700  success   \n",
       "0  https://libras.cin.ufpe.br/sign/700  success   \n",
       "1  https://libras.cin.ufpe.br/sign/990  success   \n",
       "1  https://libras.cin.ufpe.br/sign/990  success   \n",
       "\n",
       "                                         video_links signer_numbers  \\\n",
       "0  https://libras.cin.ufpe.br/storage/videos/2021...              3   \n",
       "0  https://libras.cin.ufpe.br/storage/videos/2021...              1   \n",
       "0  https://libras.cin.ufpe.br/storage/videos/2021...              2   \n",
       "1  https://libras.cin.ufpe.br/storage/videos/2021...              3   \n",
       "1  https://libras.cin.ufpe.br/storage/videos/2021...              1   \n",
       "\n",
       "  signer_order  attempts  \n",
       "0          312         1  \n",
       "0          312         1  \n",
       "0          312         1  \n",
       "1          312         1  \n",
       "1          312         1  "
      ]
     },
     "execution_count": 12,
     "metadata": {},
     "output_type": "execute_result"
    }
   ],
   "source": [
    "results_df = results_df.explode([\"video_links\", \"signer_numbers\"])\n",
    "results_df.head()"
   ]
  },
  {
   "cell_type": "code",
   "execution_count": 13,
   "metadata": {},
   "outputs": [
    {
     "data": {
      "application/vnd.microsoft.datawrangler.viewer.v0+json": {
       "columns": [
        {
         "name": "index",
         "rawType": "int64",
         "type": "integer"
        },
        {
         "name": "label",
         "rawType": "object",
         "type": "string"
        },
        {
         "name": "sign_url",
         "rawType": "object",
         "type": "string"
        }
       ],
       "conversionMethod": "pd.DataFrame",
       "ref": "d07b497e-22ea-424d-aa63-f318ea342232",
       "rows": [
        [
         "0",
         "À noite toda ",
         "https://libras.cin.ufpe.br/sign/885"
        ],
        [
         "1",
         "À tarde toda ",
         "https://libras.cin.ufpe.br/sign/100"
        ],
        [
         "2",
         "Abacaxi ",
         "https://libras.cin.ufpe.br/sign/817"
        ],
        [
         "3",
         "Abanar ",
         "https://libras.cin.ufpe.br/sign/1536"
        ],
        [
         "4",
         "Abandonar ",
         "https://libras.cin.ufpe.br/sign/71"
        ]
       ],
       "shape": {
        "columns": 2,
        "rows": 5
       }
      },
      "text/html": [
       "<div>\n",
       "<style scoped>\n",
       "    .dataframe tbody tr th:only-of-type {\n",
       "        vertical-align: middle;\n",
       "    }\n",
       "\n",
       "    .dataframe tbody tr th {\n",
       "        vertical-align: top;\n",
       "    }\n",
       "\n",
       "    .dataframe thead th {\n",
       "        text-align: right;\n",
       "    }\n",
       "</style>\n",
       "<table border=\"1\" class=\"dataframe\">\n",
       "  <thead>\n",
       "    <tr style=\"text-align: right;\">\n",
       "      <th></th>\n",
       "      <th>label</th>\n",
       "      <th>sign_url</th>\n",
       "    </tr>\n",
       "  </thead>\n",
       "  <tbody>\n",
       "    <tr>\n",
       "      <th>0</th>\n",
       "      <td>À noite toda</td>\n",
       "      <td>https://libras.cin.ufpe.br/sign/885</td>\n",
       "    </tr>\n",
       "    <tr>\n",
       "      <th>1</th>\n",
       "      <td>À tarde toda</td>\n",
       "      <td>https://libras.cin.ufpe.br/sign/100</td>\n",
       "    </tr>\n",
       "    <tr>\n",
       "      <th>2</th>\n",
       "      <td>Abacaxi</td>\n",
       "      <td>https://libras.cin.ufpe.br/sign/817</td>\n",
       "    </tr>\n",
       "    <tr>\n",
       "      <th>3</th>\n",
       "      <td>Abanar</td>\n",
       "      <td>https://libras.cin.ufpe.br/sign/1536</td>\n",
       "    </tr>\n",
       "    <tr>\n",
       "      <th>4</th>\n",
       "      <td>Abandonar</td>\n",
       "      <td>https://libras.cin.ufpe.br/sign/71</td>\n",
       "    </tr>\n",
       "  </tbody>\n",
       "</table>\n",
       "</div>"
      ],
      "text/plain": [
       "           label                              sign_url\n",
       "0  À noite toda    https://libras.cin.ufpe.br/sign/885\n",
       "1  À tarde toda    https://libras.cin.ufpe.br/sign/100\n",
       "2       Abacaxi    https://libras.cin.ufpe.br/sign/817\n",
       "3        Abanar   https://libras.cin.ufpe.br/sign/1536\n",
       "4     Abandonar     https://libras.cin.ufpe.br/sign/71"
      ]
     },
     "execution_count": 13,
     "metadata": {},
     "output_type": "execute_result"
    }
   ],
   "source": [
    "words_and_links.head()"
   ]
  },
  {
   "cell_type": "code",
   "execution_count": null,
   "metadata": {},
   "outputs": [
    {
     "data": {
      "application/vnd.microsoft.datawrangler.viewer.v0+json": {
       "columns": [
        {
         "name": "index",
         "rawType": "int64",
         "type": "integer"
        },
        {
         "name": "label",
         "rawType": "object",
         "type": "string"
        },
        {
         "name": "sign_url",
         "rawType": "object",
         "type": "string"
        },
        {
         "name": "status",
         "rawType": "object",
         "type": "string"
        },
        {
         "name": "video_url",
         "rawType": "object",
         "type": "string"
        },
        {
         "name": "signer_number",
         "rawType": "object",
         "type": "string"
        },
        {
         "name": "signer_order",
         "rawType": "object",
         "type": "string"
        },
        {
         "name": "attempts",
         "rawType": "int64",
         "type": "integer"
        }
       ],
       "conversionMethod": "pd.DataFrame",
       "ref": "f2318baa-b052-4d79-8db7-5ef4072078cf",
       "rows": [
        [
         "0",
         "À noite toda ",
         "https://libras.cin.ufpe.br/sign/885",
         "success",
         "https://libras.cin.ufpe.br/storage/videos/20210126072453_601096b5ed907.mp4",
         "1",
         "132",
         "1"
        ],
        [
         "1",
         "À noite toda ",
         "https://libras.cin.ufpe.br/sign/885",
         "success",
         "https://libras.cin.ufpe.br/storage/videos/20210411080131_6072d70b74896.mp4",
         "3",
         "132",
         "1"
        ],
        [
         "2",
         "À noite toda ",
         "https://libras.cin.ufpe.br/sign/885",
         "success",
         "https://libras.cin.ufpe.br/storage/videos/20210929042018_6154bc720abf7.mp4",
         "2",
         "132",
         "1"
        ],
        [
         "3",
         "À tarde toda ",
         "https://libras.cin.ufpe.br/sign/100",
         "success",
         "https://libras.cin.ufpe.br/storage/videos/20201221023954_5fe0ddea908eb.mp4",
         "1",
         "123",
         "1"
        ],
        [
         "4",
         "À tarde toda ",
         "https://libras.cin.ufpe.br/sign/100",
         "success",
         "https://libras.cin.ufpe.br/storage/videos/20201221023954_5fe0ddea96624.mp4",
         "2",
         "123",
         "1"
        ]
       ],
       "shape": {
        "columns": 7,
        "rows": 5
       }
      },
      "text/html": [
       "<div>\n",
       "<style scoped>\n",
       "    .dataframe tbody tr th:only-of-type {\n",
       "        vertical-align: middle;\n",
       "    }\n",
       "\n",
       "    .dataframe tbody tr th {\n",
       "        vertical-align: top;\n",
       "    }\n",
       "\n",
       "    .dataframe thead th {\n",
       "        text-align: right;\n",
       "    }\n",
       "</style>\n",
       "<table border=\"1\" class=\"dataframe\">\n",
       "  <thead>\n",
       "    <tr style=\"text-align: right;\">\n",
       "      <th></th>\n",
       "      <th>label</th>\n",
       "      <th>sign_url</th>\n",
       "      <th>status</th>\n",
       "      <th>video_url</th>\n",
       "      <th>signer_number</th>\n",
       "      <th>signer_order</th>\n",
       "      <th>attempts</th>\n",
       "    </tr>\n",
       "  </thead>\n",
       "  <tbody>\n",
       "    <tr>\n",
       "      <th>0</th>\n",
       "      <td>À noite toda</td>\n",
       "      <td>https://libras.cin.ufpe.br/sign/885</td>\n",
       "      <td>success</td>\n",
       "      <td>https://libras.cin.ufpe.br/storage/videos/2021...</td>\n",
       "      <td>1</td>\n",
       "      <td>132</td>\n",
       "      <td>1</td>\n",
       "    </tr>\n",
       "    <tr>\n",
       "      <th>1</th>\n",
       "      <td>À noite toda</td>\n",
       "      <td>https://libras.cin.ufpe.br/sign/885</td>\n",
       "      <td>success</td>\n",
       "      <td>https://libras.cin.ufpe.br/storage/videos/2021...</td>\n",
       "      <td>3</td>\n",
       "      <td>132</td>\n",
       "      <td>1</td>\n",
       "    </tr>\n",
       "    <tr>\n",
       "      <th>2</th>\n",
       "      <td>À noite toda</td>\n",
       "      <td>https://libras.cin.ufpe.br/sign/885</td>\n",
       "      <td>success</td>\n",
       "      <td>https://libras.cin.ufpe.br/storage/videos/2021...</td>\n",
       "      <td>2</td>\n",
       "      <td>132</td>\n",
       "      <td>1</td>\n",
       "    </tr>\n",
       "    <tr>\n",
       "      <th>3</th>\n",
       "      <td>À tarde toda</td>\n",
       "      <td>https://libras.cin.ufpe.br/sign/100</td>\n",
       "      <td>success</td>\n",
       "      <td>https://libras.cin.ufpe.br/storage/videos/2020...</td>\n",
       "      <td>1</td>\n",
       "      <td>123</td>\n",
       "      <td>1</td>\n",
       "    </tr>\n",
       "    <tr>\n",
       "      <th>4</th>\n",
       "      <td>À tarde toda</td>\n",
       "      <td>https://libras.cin.ufpe.br/sign/100</td>\n",
       "      <td>success</td>\n",
       "      <td>https://libras.cin.ufpe.br/storage/videos/2020...</td>\n",
       "      <td>2</td>\n",
       "      <td>123</td>\n",
       "      <td>1</td>\n",
       "    </tr>\n",
       "  </tbody>\n",
       "</table>\n",
       "</div>"
      ],
      "text/plain": [
       "           label                             sign_url   status  \\\n",
       "0  À noite toda   https://libras.cin.ufpe.br/sign/885  success   \n",
       "1  À noite toda   https://libras.cin.ufpe.br/sign/885  success   \n",
       "2  À noite toda   https://libras.cin.ufpe.br/sign/885  success   \n",
       "3  À tarde toda   https://libras.cin.ufpe.br/sign/100  success   \n",
       "4  À tarde toda   https://libras.cin.ufpe.br/sign/100  success   \n",
       "\n",
       "                                           video_url signer_number  \\\n",
       "0  https://libras.cin.ufpe.br/storage/videos/2021...             1   \n",
       "1  https://libras.cin.ufpe.br/storage/videos/2021...             3   \n",
       "2  https://libras.cin.ufpe.br/storage/videos/2021...             2   \n",
       "3  https://libras.cin.ufpe.br/storage/videos/2020...             1   \n",
       "4  https://libras.cin.ufpe.br/storage/videos/2020...             2   \n",
       "\n",
       "  signer_order  attempts  \n",
       "0          132         1  \n",
       "1          132         1  \n",
       "2          132         1  \n",
       "3          123         1  \n",
       "4          123         1  "
      ]
     },
     "execution_count": 14,
     "metadata": {},
     "output_type": "execute_result"
    }
   ],
   "source": [
    "# join back to words_and_links on sign_url\n",
    "results_df.rename(\n",
    "    columns={\n",
    "        \"url\": \"sign_url\",\n",
    "        \"video_links\": \"video_url\",\n",
    "        \"signer_numbers\": \"signer_number\",\n",
    "    },\n",
    "    inplace=True,\n",
    ")\n",
    "metadata_df = words_and_links.merge(results_df, on=\"sign_url\", how=\"left\")\n",
    "metadata_df.head()"
   ]
  },
  {
   "cell_type": "code",
   "execution_count": 15,
   "metadata": {},
   "outputs": [
    {
     "data": {
      "text/plain": [
       "Index(['label', 'sign_url', 'status', 'video_url', 'signer_number',\n",
       "       'signer_order', 'attempts'],\n",
       "      dtype='object')"
      ]
     },
     "execution_count": 15,
     "metadata": {},
     "output_type": "execute_result"
    }
   ],
   "source": [
    "metadata_df.columns"
   ]
  },
  {
   "cell_type": "code",
   "execution_count": null,
   "metadata": {},
   "outputs": [],
   "source": [
    "metadata_df[\"data_source\"] = \"vl\""
   ]
  },
  {
   "cell_type": "markdown",
   "metadata": {},
   "source": [
    "Save selected columns"
   ]
  },
  {
   "cell_type": "code",
   "execution_count": null,
   "metadata": {},
   "outputs": [],
   "source": [
    "metadata_df[\n",
    "    [\"label\", \"video_url\", \"signer_number\", \"data_source\", \"sign_url\", \"signer_order\"]\n",
    "].to_csv(\"data/raw/V-Librasil/metadata.csv\", index=False)"
   ]
  },
  {
   "cell_type": "markdown",
   "metadata": {},
   "source": [
    "## SignBank"
   ]
  },
  {
   "cell_type": "markdown",
   "metadata": {},
   "source": [
    "### Explore the `full_metadata_SignBank.csv` file"
   ]
  },
  {
   "cell_type": "code",
   "execution_count": null,
   "metadata": {},
   "outputs": [
    {
     "data": {
      "text/html": [
       "<div>\n",
       "<style scoped>\n",
       "    .dataframe tbody tr th:only-of-type {\n",
       "        vertical-align: middle;\n",
       "    }\n",
       "\n",
       "    .dataframe tbody tr th {\n",
       "        vertical-align: top;\n",
       "    }\n",
       "\n",
       "    .dataframe thead th {\n",
       "        text-align: right;\n",
       "    }\n",
       "</style>\n",
       "<table border=\"1\" class=\"dataframe\">\n",
       "  <thead>\n",
       "    <tr style=\"text-align: right;\">\n",
       "      <th></th>\n",
       "      <th>letter</th>\n",
       "      <th>label</th>\n",
       "      <th>video_url</th>\n",
       "    </tr>\n",
       "  </thead>\n",
       "  <tbody>\n",
       "    <tr>\n",
       "      <th>0</th>\n",
       "      <td>A</td>\n",
       "      <td>À-TOA</td>\n",
       "      <td>https://levantelab.storage.googleapis.com/libr...</td>\n",
       "    </tr>\n",
       "    <tr>\n",
       "      <th>1</th>\n",
       "      <td>A</td>\n",
       "      <td>À-VISTA</td>\n",
       "      <td>https://levantelab.storage.googleapis.com/libr...</td>\n",
       "    </tr>\n",
       "    <tr>\n",
       "      <th>2</th>\n",
       "      <td>A</td>\n",
       "      <td>ABACAXI</td>\n",
       "      <td>https://levantelab.storage.googleapis.com/libr...</td>\n",
       "    </tr>\n",
       "    <tr>\n",
       "      <th>3</th>\n",
       "      <td>A</td>\n",
       "      <td>ABANAR</td>\n",
       "      <td>https://levantelab.storage.googleapis.com/libr...</td>\n",
       "    </tr>\n",
       "    <tr>\n",
       "      <th>4</th>\n",
       "      <td>A</td>\n",
       "      <td>ABANDONAR</td>\n",
       "      <td>https://videos.nals.cce.ufsc.br/SignBank/V%C3%...</td>\n",
       "    </tr>\n",
       "  </tbody>\n",
       "</table>\n",
       "</div>"
      ],
      "text/plain": [
       "  letter      label                                          video_url\n",
       "0      A      À-TOA  https://levantelab.storage.googleapis.com/libr...\n",
       "1      A    À-VISTA  https://levantelab.storage.googleapis.com/libr...\n",
       "2      A    ABACAXI  https://levantelab.storage.googleapis.com/libr...\n",
       "3      A     ABANAR  https://levantelab.storage.googleapis.com/libr...\n",
       "4      A  ABANDONAR  https://videos.nals.cce.ufsc.br/SignBank/V%C3%..."
      ]
     },
     "execution_count": 165,
     "metadata": {},
     "output_type": "execute_result"
    }
   ],
   "source": [
    "sb_csv = pd.read_csv(\"data/raw/SignBank/full_metadata_SignBank.csv\")\n",
    "sb_csv.rename(\n",
    "    columns={\n",
    "        \"Alphabet Label\": \"letter\",\n",
    "        \"Sign Label\": \"label\",\n",
    "        \"Video URL\": \"video_url\",\n",
    "    },\n",
    "    inplace=True,\n",
    ")\n",
    "sb_csv.head()"
   ]
  },
  {
   "cell_type": "code",
   "execution_count": null,
   "metadata": {},
   "outputs": [
    {
     "data": {
      "text/plain": [
       "video_url_root\n",
       "videos        2992\n",
       "objetos         63\n",
       "levantelab      28\n",
       "Name: count, dtype: int64"
      ]
     },
     "execution_count": 166,
     "metadata": {},
     "output_type": "execute_result"
    }
   ],
   "source": [
    "sb_csv[\"video_url_root\"] = (\n",
    "    sb_csv[\"video_url\"].str.split(\"https://\").str[1].str.split(\".\").str[0]\n",
    ")\n",
    "sb_csv[\"video_url_root\"].value_counts()"
   ]
  },
  {
   "cell_type": "code",
   "execution_count": null,
   "metadata": {},
   "outputs": [
    {
     "data": {
      "text/plain": [
       "video_url_ext\n",
       "mp4              3062\n",
       "mov                21\n",
       "URL_NOT_FOUND       1\n",
       "Name: count, dtype: int64"
      ]
     },
     "execution_count": 167,
     "metadata": {},
     "output_type": "execute_result"
    }
   ],
   "source": [
    "sb_csv[\"video_url_ext\"] = sb_csv[\"video_url\"].str.split(\".\").str[-1]\n",
    "sb_csv[\"video_url_ext\"].value_counts()"
   ]
  },
  {
   "cell_type": "code",
   "execution_count": null,
   "metadata": {},
   "outputs": [
    {
     "data": {
      "text/plain": [
       "video_url_root\n",
       "objetos    21\n",
       "Name: count, dtype: int64"
      ]
     },
     "execution_count": 168,
     "metadata": {},
     "output_type": "execute_result"
    }
   ],
   "source": [
    "sb_csv[sb_csv[\"video_url_ext\"] == \"mov\"].video_url_root.value_counts()"
   ]
  },
  {
   "cell_type": "code",
   "execution_count": null,
   "metadata": {},
   "outputs": [
    {
     "data": {
      "text/plain": [
       "video_url_ext\n",
       "mp4    42\n",
       "mov    21\n",
       "Name: count, dtype: int64"
      ]
     },
     "execution_count": 169,
     "metadata": {},
     "output_type": "execute_result"
    }
   ],
   "source": [
    "sb_csv[sb_csv[\"video_url_root\"] == \"objetos\"].video_url_ext.value_counts()"
   ]
  },
  {
   "cell_type": "code",
   "execution_count": null,
   "metadata": {},
   "outputs": [
    {
     "name": "stdout",
     "output_type": "stream",
     "text": [
      "ABANDONAR\n",
      "videos\n",
      "https://videos.nals.cce.ufsc.br/SignBank/V%C3%ADdeos/ABANDONAR.mp4\n",
      "\n",
      "ABANAR\n",
      "levantelab\n",
      "https://levantelab.storage.googleapis.com/libras/gerais/swiQhJZ6FoTLXBi1u8AgLBLjvhzUO1fbPLK1EEao.mp4\n",
      "\n",
      "BOMBOM-2\n",
      "objetos\n",
      "https://objetos.sites.ufsc.br/libras/gerais/BaJ58VuGYbwzgx40LL8JhLfHLCAHVT2Uv4DLeXVt.mp4\n",
      "\n"
     ]
    }
   ],
   "source": [
    "for i in [4, 3, 445]:\n",
    "    print(sb_csv.iloc[i][\"label\"])\n",
    "    print(sb_csv.iloc[i][\"video_url_root\"])\n",
    "    print(sb_csv.iloc[i][\"video_url\"])\n",
    "    print()"
   ]
  },
  {
   "cell_type": "markdown",
   "metadata": {},
   "source": [
    "### video_url validity (based on manual checking of a sample)\n",
    "\n",
    "#### *videos.nals* - 2992 entries\n",
    "\n",
    "URLs starting with `videos.nals...` are valid.\n",
    "\n",
    "They correspond to videos from a signer with:\n",
    "- facial hair\n",
    "- an earring\n",
    "- a black button-up shirt\n",
    "\n",
    "They follow the URL format:\n",
    ">`https://videos.nals.cce.ufsc.br/SignBank/Vídeos/{label}.mp4`\n",
    "\n",
    "The web URL can handle accented letters. The í in Videos is accented. The {label} is sometimes accented.\n",
    "\n",
    "#### *objetos* - 63 entries\n",
    "\n",
    "URLs starting with `objetos...` are valid.\n",
    "\n",
    "They correspond to videos from a signer with:\n",
    "- no facial hair\n",
    "- a black t-shirt\n",
    "\n",
    "They follow the URL format:\n",
    "`https://objetos.sites.ufsc.br/libras/gerais/{40-character-code}.{file-extension}`\n",
    "- where `40-character-code` is a 40 character code (possibly derived from the label?) like:\n",
    "    - `HWQBq7whvIWSxzN3HHii6xk0Npu0qUTxJBZiMPeI`\n",
    "    - `I021pwWFtHqpgspqKCpiS5Q8quymB9urO9wfJCru`\n",
    "- and `file-extension` is either `.mp4` or `.mov`\n",
    "    - 42 end in `.mp4`, which opens the video in browser\n",
    "    - 21 end in `.mov`, which starts a direct download\n",
    "\n",
    "\n",
    "#### *levantelab* - 28 entries\n",
    "URLs starting with `levantelab.storage...` are invalid and return:\n",
    ">This XML file does not appear to have any style information associated with it. The document tree is shown below.\n",
    ">```\n",
    "><Error>\n",
    "><Code>UserProjectAccountProblem</Code>\n",
    "><Message>The project to be billed is associated with a closed billing account.</Message>\n",
    "><Details>The billing account for the owning project is disabled in state closed</Details>\n",
    "></Error>\n",
    ">```\n",
    "\n",
    "The videos don't load on the SignBank portal either, so the issue is on their end. \n",
    "\n",
    "They follow the URL format:\n",
    "`https://levantelab.storage.googleapis.com/libras/gerais/{40-character-code}.mp4`\n",
    "\n",
    "Copying the `{40-character-code}` into the *objetos* URL format **DOES NOT** work:\n",
    ">...\\\n",
    ">```<Message>The specified key does not exist.</Message>```\\\n",
    ">...\n",
    "\n",
    "Copying the label into the *videos.nals* URL format **DOES** work:\n",
    "- ABANAR: https://levantelab.storage.googleapis.com/libras/gerais/swiQhJZ6FoTLXBi1u8AgLBLjvhzUO1fbPLK1EEao.mp4\n",
    "    - `INVALID`\n",
    "- ABANAR: https://videos.nals.cce.ufsc.br/SignBank/Vídeos/{ABANAR}.mp4\n",
    "    - `VALID`"
   ]
  },
  {
   "cell_type": "code",
   "execution_count": null,
   "metadata": {},
   "outputs": [],
   "source": []
  },
  {
   "cell_type": "markdown",
   "metadata": {},
   "source": [
    "### Fixing URLs"
   ]
  },
  {
   "cell_type": "code",
   "execution_count": null,
   "metadata": {},
   "outputs": [],
   "source": [
    "sb_csv.rename(columns={\"video_url\": \"scraped_url\"}, inplace=True)\n",
    "sb_csv[\"fixed_url\"] = sb_csv[\"scraped_url\"]"
   ]
  },
  {
   "cell_type": "markdown",
   "metadata": {},
   "source": [
    "Something happened with `FOLGAR`, as the video on the SignBank portal is availabe, and the URL `https://videos.nals.cce.ufsc.br/SignBank/Vídeos/FOLGAR.mp4` works"
   ]
  },
  {
   "cell_type": "code",
   "execution_count": null,
   "metadata": {},
   "outputs": [
    {
     "data": {
      "text/html": [
       "<div>\n",
       "<style scoped>\n",
       "    .dataframe tbody tr th:only-of-type {\n",
       "        vertical-align: middle;\n",
       "    }\n",
       "\n",
       "    .dataframe tbody tr th {\n",
       "        vertical-align: top;\n",
       "    }\n",
       "\n",
       "    .dataframe thead th {\n",
       "        text-align: right;\n",
       "    }\n",
       "</style>\n",
       "<table border=\"1\" class=\"dataframe\">\n",
       "  <thead>\n",
       "    <tr style=\"text-align: right;\">\n",
       "      <th></th>\n",
       "      <th>letter</th>\n",
       "      <th>label</th>\n",
       "      <th>scraped_url</th>\n",
       "      <th>video_url_root</th>\n",
       "      <th>video_url_ext</th>\n",
       "      <th>fixed_url</th>\n",
       "    </tr>\n",
       "  </thead>\n",
       "  <tbody>\n",
       "    <tr>\n",
       "      <th>1248</th>\n",
       "      <td>F</td>\n",
       "      <td>FOLGAR</td>\n",
       "      <td>URL_NOT_FOUND</td>\n",
       "      <td>NaN</td>\n",
       "      <td>URL_NOT_FOUND</td>\n",
       "      <td>URL_NOT_FOUND</td>\n",
       "    </tr>\n",
       "  </tbody>\n",
       "</table>\n",
       "</div>"
      ],
      "text/plain": [
       "     letter   label    scraped_url video_url_root  video_url_ext  \\\n",
       "1248      F  FOLGAR  URL_NOT_FOUND            NaN  URL_NOT_FOUND   \n",
       "\n",
       "          fixed_url  \n",
       "1248  URL_NOT_FOUND  "
      ]
     },
     "execution_count": 172,
     "metadata": {},
     "output_type": "execute_result"
    }
   ],
   "source": [
    "sb_csv[sb_csv[\"video_url_ext\"] == \"URL_NOT_FOUND\"]"
   ]
  },
  {
   "cell_type": "code",
   "execution_count": null,
   "metadata": {},
   "outputs": [],
   "source": [
    "# manually change entries at label == 'FOLGAR'\n",
    "index = sb_csv[sb_csv[\"label\"] == \"FOLGAR\"].index\n",
    "sb_csv.loc[index, \"fixed_url\"] = (\n",
    "    \"https://videos.nals.cce.ufsc.br/SignBank/Vídeos/FOLGAR.mp4\"\n",
    ")\n",
    "sb_csv.loc[index, \"video_url_root\"] = \"videos\"\n",
    "sb_csv.loc[index, \"video_url_ext\"] = \"mp4\""
   ]
  },
  {
   "cell_type": "code",
   "execution_count": null,
   "metadata": {},
   "outputs": [
    {
     "data": {
      "text/html": [
       "<div>\n",
       "<style scoped>\n",
       "    .dataframe tbody tr th:only-of-type {\n",
       "        vertical-align: middle;\n",
       "    }\n",
       "\n",
       "    .dataframe tbody tr th {\n",
       "        vertical-align: top;\n",
       "    }\n",
       "\n",
       "    .dataframe thead th {\n",
       "        text-align: right;\n",
       "    }\n",
       "</style>\n",
       "<table border=\"1\" class=\"dataframe\">\n",
       "  <thead>\n",
       "    <tr style=\"text-align: right;\">\n",
       "      <th></th>\n",
       "      <th>letter</th>\n",
       "      <th>label</th>\n",
       "      <th>scraped_url</th>\n",
       "      <th>video_url_root</th>\n",
       "      <th>video_url_ext</th>\n",
       "      <th>fixed_url</th>\n",
       "    </tr>\n",
       "  </thead>\n",
       "  <tbody>\n",
       "    <tr>\n",
       "      <th>1248</th>\n",
       "      <td>F</td>\n",
       "      <td>FOLGAR</td>\n",
       "      <td>URL_NOT_FOUND</td>\n",
       "      <td>videos</td>\n",
       "      <td>mp4</td>\n",
       "      <td>https://videos.nals.cce.ufsc.br/SignBank/Vídeo...</td>\n",
       "    </tr>\n",
       "  </tbody>\n",
       "</table>\n",
       "</div>"
      ],
      "text/plain": [
       "     letter   label    scraped_url video_url_root video_url_ext  \\\n",
       "1248      F  FOLGAR  URL_NOT_FOUND         videos           mp4   \n",
       "\n",
       "                                              fixed_url  \n",
       "1248  https://videos.nals.cce.ufsc.br/SignBank/Vídeo...  "
      ]
     },
     "execution_count": 174,
     "metadata": {},
     "output_type": "execute_result"
    }
   ],
   "source": [
    "sb_csv[sb_csv[\"label\"] == \"FOLGAR\"]"
   ]
  },
  {
   "cell_type": "markdown",
   "metadata": {},
   "source": [
    "Fix the 28 `levantelab` entries"
   ]
  },
  {
   "cell_type": "code",
   "execution_count": null,
   "metadata": {},
   "outputs": [
    {
     "data": {
      "text/html": [
       "<div>\n",
       "<style scoped>\n",
       "    .dataframe tbody tr th:only-of-type {\n",
       "        vertical-align: middle;\n",
       "    }\n",
       "\n",
       "    .dataframe tbody tr th {\n",
       "        vertical-align: top;\n",
       "    }\n",
       "\n",
       "    .dataframe thead th {\n",
       "        text-align: right;\n",
       "    }\n",
       "</style>\n",
       "<table border=\"1\" class=\"dataframe\">\n",
       "  <thead>\n",
       "    <tr style=\"text-align: right;\">\n",
       "      <th></th>\n",
       "      <th>letter</th>\n",
       "      <th>label</th>\n",
       "      <th>scraped_url</th>\n",
       "      <th>video_url_root</th>\n",
       "      <th>video_url_ext</th>\n",
       "      <th>fixed_url</th>\n",
       "    </tr>\n",
       "  </thead>\n",
       "  <tbody>\n",
       "    <tr>\n",
       "      <th>0</th>\n",
       "      <td>A</td>\n",
       "      <td>À-TOA</td>\n",
       "      <td>https://levantelab.storage.googleapis.com/libr...</td>\n",
       "      <td>levantelab</td>\n",
       "      <td>mp4</td>\n",
       "      <td>https://levantelab.storage.googleapis.com/libr...</td>\n",
       "    </tr>\n",
       "    <tr>\n",
       "      <th>1</th>\n",
       "      <td>A</td>\n",
       "      <td>À-VISTA</td>\n",
       "      <td>https://levantelab.storage.googleapis.com/libr...</td>\n",
       "      <td>levantelab</td>\n",
       "      <td>mp4</td>\n",
       "      <td>https://levantelab.storage.googleapis.com/libr...</td>\n",
       "    </tr>\n",
       "    <tr>\n",
       "      <th>2</th>\n",
       "      <td>A</td>\n",
       "      <td>ABACAXI</td>\n",
       "      <td>https://levantelab.storage.googleapis.com/libr...</td>\n",
       "      <td>levantelab</td>\n",
       "      <td>mp4</td>\n",
       "      <td>https://levantelab.storage.googleapis.com/libr...</td>\n",
       "    </tr>\n",
       "    <tr>\n",
       "      <th>3</th>\n",
       "      <td>A</td>\n",
       "      <td>ABANAR</td>\n",
       "      <td>https://levantelab.storage.googleapis.com/libr...</td>\n",
       "      <td>levantelab</td>\n",
       "      <td>mp4</td>\n",
       "      <td>https://levantelab.storage.googleapis.com/libr...</td>\n",
       "    </tr>\n",
       "    <tr>\n",
       "      <th>5</th>\n",
       "      <td>A</td>\n",
       "      <td>ABELHA</td>\n",
       "      <td>https://levantelab.storage.googleapis.com/libr...</td>\n",
       "      <td>levantelab</td>\n",
       "      <td>mp4</td>\n",
       "      <td>https://levantelab.storage.googleapis.com/libr...</td>\n",
       "    </tr>\n",
       "    <tr>\n",
       "      <th>6</th>\n",
       "      <td>A</td>\n",
       "      <td>ABENÇOAR</td>\n",
       "      <td>https://levantelab.storage.googleapis.com/libr...</td>\n",
       "      <td>levantelab</td>\n",
       "      <td>mp4</td>\n",
       "      <td>https://levantelab.storage.googleapis.com/libr...</td>\n",
       "    </tr>\n",
       "    <tr>\n",
       "      <th>7</th>\n",
       "      <td>A</td>\n",
       "      <td>ABORDAGEM</td>\n",
       "      <td>https://levantelab.storage.googleapis.com/libr...</td>\n",
       "      <td>levantelab</td>\n",
       "      <td>mp4</td>\n",
       "      <td>https://levantelab.storage.googleapis.com/libr...</td>\n",
       "    </tr>\n",
       "    <tr>\n",
       "      <th>10</th>\n",
       "      <td>A</td>\n",
       "      <td>ABRAÇAR</td>\n",
       "      <td>https://levantelab.storage.googleapis.com/libr...</td>\n",
       "      <td>levantelab</td>\n",
       "      <td>mp4</td>\n",
       "      <td>https://levantelab.storage.googleapis.com/libr...</td>\n",
       "    </tr>\n",
       "    <tr>\n",
       "      <th>96</th>\n",
       "      <td>A</td>\n",
       "      <td>ALEMANHA</td>\n",
       "      <td>https://levantelab.storage.googleapis.com/libr...</td>\n",
       "      <td>levantelab</td>\n",
       "      <td>mp4</td>\n",
       "      <td>https://levantelab.storage.googleapis.com/libr...</td>\n",
       "    </tr>\n",
       "    <tr>\n",
       "      <th>284</th>\n",
       "      <td>A</td>\n",
       "      <td>ABRIR</td>\n",
       "      <td>https://levantelab.storage.googleapis.com/libr...</td>\n",
       "      <td>levantelab</td>\n",
       "      <td>mp4</td>\n",
       "      <td>https://levantelab.storage.googleapis.com/libr...</td>\n",
       "    </tr>\n",
       "    <tr>\n",
       "      <th>285</th>\n",
       "      <td>A</td>\n",
       "      <td>ACUSAR</td>\n",
       "      <td>https://levantelab.storage.googleapis.com/libr...</td>\n",
       "      <td>levantelab</td>\n",
       "      <td>mp4</td>\n",
       "      <td>https://levantelab.storage.googleapis.com/libr...</td>\n",
       "    </tr>\n",
       "    <tr>\n",
       "      <th>286</th>\n",
       "      <td>A</td>\n",
       "      <td>AGUENTAR</td>\n",
       "      <td>https://levantelab.storage.googleapis.com/libr...</td>\n",
       "      <td>levantelab</td>\n",
       "      <td>mp4</td>\n",
       "      <td>https://levantelab.storage.googleapis.com/libr...</td>\n",
       "    </tr>\n",
       "    <tr>\n",
       "      <th>287</th>\n",
       "      <td>A</td>\n",
       "      <td>ABACATE</td>\n",
       "      <td>https://levantelab.storage.googleapis.com/libr...</td>\n",
       "      <td>levantelab</td>\n",
       "      <td>mp4</td>\n",
       "      <td>https://levantelab.storage.googleapis.com/libr...</td>\n",
       "    </tr>\n",
       "    <tr>\n",
       "      <th>288</th>\n",
       "      <td>A</td>\n",
       "      <td>ABACAXI-2</td>\n",
       "      <td>https://levantelab.storage.googleapis.com/libr...</td>\n",
       "      <td>levantelab</td>\n",
       "      <td>mp4</td>\n",
       "      <td>https://levantelab.storage.googleapis.com/libr...</td>\n",
       "    </tr>\n",
       "    <tr>\n",
       "      <th>289</th>\n",
       "      <td>A</td>\n",
       "      <td>ABACAXI-3</td>\n",
       "      <td>https://levantelab.storage.googleapis.com/libr...</td>\n",
       "      <td>levantelab</td>\n",
       "      <td>mp4</td>\n",
       "      <td>https://levantelab.storage.googleapis.com/libr...</td>\n",
       "    </tr>\n",
       "    <tr>\n",
       "      <th>290</th>\n",
       "      <td>A</td>\n",
       "      <td>ABAIXAR</td>\n",
       "      <td>https://levantelab.storage.googleapis.com/libr...</td>\n",
       "      <td>levantelab</td>\n",
       "      <td>mp4</td>\n",
       "      <td>https://levantelab.storage.googleapis.com/libr...</td>\n",
       "    </tr>\n",
       "    <tr>\n",
       "      <th>1152</th>\n",
       "      <td>E</td>\n",
       "      <td>ESTADOS-UNIDOS-DA-AMÉRICA-2</td>\n",
       "      <td>https://levantelab.storage.googleapis.com/libr...</td>\n",
       "      <td>levantelab</td>\n",
       "      <td>mp4</td>\n",
       "      <td>https://levantelab.storage.googleapis.com/libr...</td>\n",
       "    </tr>\n",
       "    <tr>\n",
       "      <th>1540</th>\n",
       "      <td>I</td>\n",
       "      <td>ICÔNICO</td>\n",
       "      <td>https://levantelab.storage.googleapis.com/libr...</td>\n",
       "      <td>levantelab</td>\n",
       "      <td>mp4</td>\n",
       "      <td>https://levantelab.storage.googleapis.com/libr...</td>\n",
       "    </tr>\n",
       "    <tr>\n",
       "      <th>1903</th>\n",
       "      <td>M</td>\n",
       "      <td>MISSIONÁRIO</td>\n",
       "      <td>https://levantelab.storage.googleapis.com/libr...</td>\n",
       "      <td>levantelab</td>\n",
       "      <td>mp4</td>\n",
       "      <td>https://levantelab.storage.googleapis.com/libr...</td>\n",
       "    </tr>\n",
       "    <tr>\n",
       "      <th>1904</th>\n",
       "      <td>M</td>\n",
       "      <td>MAIONESE</td>\n",
       "      <td>https://levantelab.storage.googleapis.com/libr...</td>\n",
       "      <td>levantelab</td>\n",
       "      <td>mp4</td>\n",
       "      <td>https://levantelab.storage.googleapis.com/libr...</td>\n",
       "    </tr>\n",
       "    <tr>\n",
       "      <th>2049</th>\n",
       "      <td>O</td>\n",
       "      <td>OLÍMPICOS</td>\n",
       "      <td>https://levantelab.storage.googleapis.com/libr...</td>\n",
       "      <td>levantelab</td>\n",
       "      <td>mp4</td>\n",
       "      <td>https://levantelab.storage.googleapis.com/libr...</td>\n",
       "    </tr>\n",
       "    <tr>\n",
       "      <th>2355</th>\n",
       "      <td>P</td>\n",
       "      <td>PARÂMETROS</td>\n",
       "      <td>https://levantelab.storage.googleapis.com/libr...</td>\n",
       "      <td>levantelab</td>\n",
       "      <td>mp4</td>\n",
       "      <td>https://levantelab.storage.googleapis.com/libr...</td>\n",
       "    </tr>\n",
       "    <tr>\n",
       "      <th>2356</th>\n",
       "      <td>P</td>\n",
       "      <td>PRA-QUÊ</td>\n",
       "      <td>https://levantelab.storage.googleapis.com/libr...</td>\n",
       "      <td>levantelab</td>\n",
       "      <td>mp4</td>\n",
       "      <td>https://levantelab.storage.googleapis.com/libr...</td>\n",
       "    </tr>\n",
       "    <tr>\n",
       "      <th>2385</th>\n",
       "      <td>Q</td>\n",
       "      <td>QUINTA-FEIRA</td>\n",
       "      <td>https://levantelab.storage.googleapis.com/libr...</td>\n",
       "      <td>levantelab</td>\n",
       "      <td>mp4</td>\n",
       "      <td>https://levantelab.storage.googleapis.com/libr...</td>\n",
       "    </tr>\n",
       "    <tr>\n",
       "      <th>2722</th>\n",
       "      <td>S</td>\n",
       "      <td>SOBRE-O-QUÊ</td>\n",
       "      <td>https://levantelab.storage.googleapis.com/libr...</td>\n",
       "      <td>levantelab</td>\n",
       "      <td>mp4</td>\n",
       "      <td>https://levantelab.storage.googleapis.com/libr...</td>\n",
       "    </tr>\n",
       "    <tr>\n",
       "      <th>3053</th>\n",
       "      <td>V</td>\n",
       "      <td>VEGETARIANO</td>\n",
       "      <td>https://levantelab.storage.googleapis.com/libr...</td>\n",
       "      <td>levantelab</td>\n",
       "      <td>mp4</td>\n",
       "      <td>https://levantelab.storage.googleapis.com/libr...</td>\n",
       "    </tr>\n",
       "    <tr>\n",
       "      <th>3054</th>\n",
       "      <td>V</td>\n",
       "      <td>VICIAR-2</td>\n",
       "      <td>https://levantelab.storage.googleapis.com/libr...</td>\n",
       "      <td>levantelab</td>\n",
       "      <td>mp4</td>\n",
       "      <td>https://levantelab.storage.googleapis.com/libr...</td>\n",
       "    </tr>\n",
       "    <tr>\n",
       "      <th>3055</th>\n",
       "      <td>V</td>\n",
       "      <td>VELOCÍMETRO</td>\n",
       "      <td>https://levantelab.storage.googleapis.com/libr...</td>\n",
       "      <td>levantelab</td>\n",
       "      <td>mp4</td>\n",
       "      <td>https://levantelab.storage.googleapis.com/libr...</td>\n",
       "    </tr>\n",
       "  </tbody>\n",
       "</table>\n",
       "</div>"
      ],
      "text/plain": [
       "     letter                        label  \\\n",
       "0         A                        À-TOA   \n",
       "1         A                      À-VISTA   \n",
       "2         A                      ABACAXI   \n",
       "3         A                       ABANAR   \n",
       "5         A                       ABELHA   \n",
       "6         A                     ABENÇOAR   \n",
       "7         A                    ABORDAGEM   \n",
       "10        A                      ABRAÇAR   \n",
       "96        A                     ALEMANHA   \n",
       "284       A                        ABRIR   \n",
       "285       A                       ACUSAR   \n",
       "286       A                     AGUENTAR   \n",
       "287       A                      ABACATE   \n",
       "288       A                    ABACAXI-2   \n",
       "289       A                    ABACAXI-3   \n",
       "290       A                      ABAIXAR   \n",
       "1152      E  ESTADOS-UNIDOS-DA-AMÉRICA-2   \n",
       "1540      I                      ICÔNICO   \n",
       "1903      M                  MISSIONÁRIO   \n",
       "1904      M                     MAIONESE   \n",
       "2049      O                    OLÍMPICOS   \n",
       "2355      P                   PARÂMETROS   \n",
       "2356      P                      PRA-QUÊ   \n",
       "2385      Q                 QUINTA-FEIRA   \n",
       "2722      S                  SOBRE-O-QUÊ   \n",
       "3053      V                  VEGETARIANO   \n",
       "3054      V                     VICIAR-2   \n",
       "3055      V                  VELOCÍMETRO   \n",
       "\n",
       "                                            scraped_url video_url_root  \\\n",
       "0     https://levantelab.storage.googleapis.com/libr...     levantelab   \n",
       "1     https://levantelab.storage.googleapis.com/libr...     levantelab   \n",
       "2     https://levantelab.storage.googleapis.com/libr...     levantelab   \n",
       "3     https://levantelab.storage.googleapis.com/libr...     levantelab   \n",
       "5     https://levantelab.storage.googleapis.com/libr...     levantelab   \n",
       "6     https://levantelab.storage.googleapis.com/libr...     levantelab   \n",
       "7     https://levantelab.storage.googleapis.com/libr...     levantelab   \n",
       "10    https://levantelab.storage.googleapis.com/libr...     levantelab   \n",
       "96    https://levantelab.storage.googleapis.com/libr...     levantelab   \n",
       "284   https://levantelab.storage.googleapis.com/libr...     levantelab   \n",
       "285   https://levantelab.storage.googleapis.com/libr...     levantelab   \n",
       "286   https://levantelab.storage.googleapis.com/libr...     levantelab   \n",
       "287   https://levantelab.storage.googleapis.com/libr...     levantelab   \n",
       "288   https://levantelab.storage.googleapis.com/libr...     levantelab   \n",
       "289   https://levantelab.storage.googleapis.com/libr...     levantelab   \n",
       "290   https://levantelab.storage.googleapis.com/libr...     levantelab   \n",
       "1152  https://levantelab.storage.googleapis.com/libr...     levantelab   \n",
       "1540  https://levantelab.storage.googleapis.com/libr...     levantelab   \n",
       "1903  https://levantelab.storage.googleapis.com/libr...     levantelab   \n",
       "1904  https://levantelab.storage.googleapis.com/libr...     levantelab   \n",
       "2049  https://levantelab.storage.googleapis.com/libr...     levantelab   \n",
       "2355  https://levantelab.storage.googleapis.com/libr...     levantelab   \n",
       "2356  https://levantelab.storage.googleapis.com/libr...     levantelab   \n",
       "2385  https://levantelab.storage.googleapis.com/libr...     levantelab   \n",
       "2722  https://levantelab.storage.googleapis.com/libr...     levantelab   \n",
       "3053  https://levantelab.storage.googleapis.com/libr...     levantelab   \n",
       "3054  https://levantelab.storage.googleapis.com/libr...     levantelab   \n",
       "3055  https://levantelab.storage.googleapis.com/libr...     levantelab   \n",
       "\n",
       "     video_url_ext                                          fixed_url  \n",
       "0              mp4  https://levantelab.storage.googleapis.com/libr...  \n",
       "1              mp4  https://levantelab.storage.googleapis.com/libr...  \n",
       "2              mp4  https://levantelab.storage.googleapis.com/libr...  \n",
       "3              mp4  https://levantelab.storage.googleapis.com/libr...  \n",
       "5              mp4  https://levantelab.storage.googleapis.com/libr...  \n",
       "6              mp4  https://levantelab.storage.googleapis.com/libr...  \n",
       "7              mp4  https://levantelab.storage.googleapis.com/libr...  \n",
       "10             mp4  https://levantelab.storage.googleapis.com/libr...  \n",
       "96             mp4  https://levantelab.storage.googleapis.com/libr...  \n",
       "284            mp4  https://levantelab.storage.googleapis.com/libr...  \n",
       "285            mp4  https://levantelab.storage.googleapis.com/libr...  \n",
       "286            mp4  https://levantelab.storage.googleapis.com/libr...  \n",
       "287            mp4  https://levantelab.storage.googleapis.com/libr...  \n",
       "288            mp4  https://levantelab.storage.googleapis.com/libr...  \n",
       "289            mp4  https://levantelab.storage.googleapis.com/libr...  \n",
       "290            mp4  https://levantelab.storage.googleapis.com/libr...  \n",
       "1152           mp4  https://levantelab.storage.googleapis.com/libr...  \n",
       "1540           mp4  https://levantelab.storage.googleapis.com/libr...  \n",
       "1903           mp4  https://levantelab.storage.googleapis.com/libr...  \n",
       "1904           mp4  https://levantelab.storage.googleapis.com/libr...  \n",
       "2049           mp4  https://levantelab.storage.googleapis.com/libr...  \n",
       "2355           mp4  https://levantelab.storage.googleapis.com/libr...  \n",
       "2356           mp4  https://levantelab.storage.googleapis.com/libr...  \n",
       "2385           mp4  https://levantelab.storage.googleapis.com/libr...  \n",
       "2722           mp4  https://levantelab.storage.googleapis.com/libr...  \n",
       "3053           mp4  https://levantelab.storage.googleapis.com/libr...  \n",
       "3054           mp4  https://levantelab.storage.googleapis.com/libr...  \n",
       "3055           mp4  https://levantelab.storage.googleapis.com/libr...  "
      ]
     },
     "execution_count": 175,
     "metadata": {},
     "output_type": "execute_result"
    }
   ],
   "source": [
    "sb_csv[sb_csv[\"video_url_root\"] == \"levantelab\"]"
   ]
  },
  {
   "cell_type": "markdown",
   "metadata": {},
   "source": [
    "Sometimes there is multiple videos for one label."
   ]
  },
  {
   "cell_type": "code",
   "execution_count": null,
   "metadata": {},
   "outputs": [
    {
     "data": {
      "text/plain": [
       "number_in_label\n",
       "False    2509\n",
       "True      575\n",
       "Name: count, dtype: int64"
      ]
     },
     "execution_count": 176,
     "metadata": {},
     "output_type": "execute_result"
    }
   ],
   "source": [
    "def number_in_label(label):\n",
    "    for char in label:\n",
    "        if char.isdigit():\n",
    "            return True\n",
    "    return False\n",
    "\n",
    "\n",
    "sb_csv[\"number_in_label\"] = sb_csv[\"label\"].apply(number_in_label)\n",
    "sb_csv[\"number_in_label\"].value_counts()"
   ]
  },
  {
   "cell_type": "markdown",
   "metadata": {},
   "source": [
    "In the label, these are denoted with:\n",
    "- {label}-1\n",
    "- {label}-2\n",
    "\n",
    "In the URL, these are denoted with:\n",
    "- /{label}1\n",
    "- /{label}2"
   ]
  },
  {
   "cell_type": "code",
   "execution_count": null,
   "metadata": {},
   "outputs": [
    {
     "name": "stdout",
     "output_type": "stream",
     "text": [
      "BRÓCOLIS-2\n",
      "https://videos.nals.cce.ufsc.br/SignBank/V%C3%ADdeos/BR%C3%93COLIS2.mp4\n",
      "\n",
      "YOUTUBE-2\n",
      "https://videos.nals.cce.ufsc.br/SignBank/V%C3%ADdeos/YOUTUBE2.mp4\n",
      "\n",
      "BATISTA-2\n",
      "https://videos.nals.cce.ufsc.br/SignBank/V%C3%ADdeos/BATISTA2.mp4\n",
      "\n",
      "RÁPIDO-2\n",
      "https://videos.nals.cce.ufsc.br/SignBank/V%C3%ADdeos/R%C3%81PIDO2.mp4\n",
      "\n",
      "ALFACE-2\n",
      "https://videos.nals.cce.ufsc.br/SignBank/V%C3%ADdeos/ALFACE2.mp4\n",
      "\n"
     ]
    }
   ],
   "source": [
    "n = 5\n",
    "for i, row in sb_csv[sb_csv[\"number_in_label\"] == True].sample(n).iterrows():\n",
    "    print(row[\"label\"])\n",
    "    print(row[\"scraped_url\"])\n",
    "    print()\n"
   ]
  },
  {
   "cell_type": "markdown",
   "metadata": {},
   "source": [
    "Remake levantelab URLs"
   ]
  },
  {
   "cell_type": "code",
   "execution_count": null,
   "metadata": {},
   "outputs": [
    {
     "data": {
      "text/plain": [
       "'https://videos.nals.cce.ufsc.br/SignBank/Vídeos/ESTADOS-UNIDOS-DA-AMÉRICA2.mp4'"
      ]
     },
     "execution_count": 178,
     "metadata": {},
     "output_type": "execute_result"
    }
   ],
   "source": [
    "def remake_levantelab_url(label):\n",
    "    if number_in_label(label):\n",
    "        # ESTADOS-UNIDOS-DA-AMÉRICA-2  -> ESTADOS-UNIDOS-DA-AMÉRICA2\n",
    "        label = label[:-2] + label[-1]\n",
    "    url = f\"https://videos.nals.cce.ufsc.br/SignBank/Vídeos/{label}.mp4\"\n",
    "    return url\n",
    "\n",
    "\n",
    "remake_levantelab_url(\"ESTADOS-UNIDOS-DA-AMÉRICA-2\")"
   ]
  },
  {
   "cell_type": "code",
   "execution_count": null,
   "metadata": {},
   "outputs": [],
   "source": [
    "# apply remake_levantelab_url to the levantelab entries\n",
    "sb_csv.loc[sb_csv[\"video_url_root\"] == \"levantelab\", \"fixed_url\"] = sb_csv.loc[\n",
    "    sb_csv[\"video_url_root\"] == \"levantelab\", \"label\"\n",
    "].apply(remake_levantelab_url)"
   ]
  },
  {
   "cell_type": "code",
   "execution_count": null,
   "metadata": {},
   "outputs": [
    {
     "name": "stdout",
     "output_type": "stream",
     "text": [
      "VEGETARIANO\n",
      "https://levantelab.storage.googleapis.com/libras/gerais/fUObXisMnCnMxh2MHGUHukqDYiz1BhHuVBMCbxOG.mp4\n",
      "https://videos.nals.cce.ufsc.br/SignBank/Vídeos/VEGETARIANO.mp4\n",
      "\n",
      "ESTADOS-UNIDOS-DA-AMÉRICA-2\n",
      "https://levantelab.storage.googleapis.com/libras/gerais/L66RywqgLQWoYLuetwHLLostRXpQCLgfJKRD5T7m.mp4\n",
      "https://videos.nals.cce.ufsc.br/SignBank/Vídeos/ESTADOS-UNIDOS-DA-AMÉRICA2.mp4\n",
      "\n",
      "ABACAXI-2\n",
      "https://levantelab.storage.googleapis.com/libras/gerais/h7ZOyw1GrUWJXxFwU8oJ997sAQE2SY3oyJ9hxI2s.mp4\n",
      "https://videos.nals.cce.ufsc.br/SignBank/Vídeos/ABACAXI2.mp4\n",
      "\n",
      "ACUSAR\n",
      "https://levantelab.storage.googleapis.com/libras/gerais/SSQokxkM9jDJWLIJrRVg1SlnehJD6jq4cFE1c4OJ.mp4\n",
      "https://videos.nals.cce.ufsc.br/SignBank/Vídeos/ACUSAR.mp4\n",
      "\n",
      "ABRIR\n",
      "https://levantelab.storage.googleapis.com/libras/gerais/GIPQ5FwLKp0k9XdAk5ajTtR13qVuxYdqzfsg83xV.mp4\n",
      "https://videos.nals.cce.ufsc.br/SignBank/Vídeos/ABRIR.mp4\n",
      "\n"
     ]
    }
   ],
   "source": [
    "n = 5\n",
    "for i, row in sb_csv[sb_csv[\"video_url_root\"] == \"levantelab\"].sample(n).iterrows():\n",
    "    print(row[\"label\"])\n",
    "    print(row[\"scraped_url\"])\n",
    "    print(row[\"fixed_url\"])\n",
    "    print()"
   ]
  },
  {
   "cell_type": "markdown",
   "metadata": {},
   "source": [
    "### Make `clean_full_metadata_SignBank.csv`"
   ]
  },
  {
   "cell_type": "markdown",
   "metadata": {},
   "source": [
    "#### Combine labels with numbers\n",
    "- usually a dash on labels with numbers, e.g. INCLUSÃO-3\n",
    "- sometimes no dash, e.g. PARA-FRENTE2"
   ]
  },
  {
   "cell_type": "code",
   "execution_count": null,
   "metadata": {},
   "outputs": [],
   "source": [
    "sb_csv[\"scraped_label\"] = sb_csv[\"label\"]\n",
    "sb_csv[\"sign_variant\"] = 1"
   ]
  },
  {
   "cell_type": "code",
   "execution_count": null,
   "metadata": {},
   "outputs": [
    {
     "data": {
      "text/html": [
       "<div>\n",
       "<style scoped>\n",
       "    .dataframe tbody tr th:only-of-type {\n",
       "        vertical-align: middle;\n",
       "    }\n",
       "\n",
       "    .dataframe tbody tr th {\n",
       "        vertical-align: top;\n",
       "    }\n",
       "\n",
       "    .dataframe thead th {\n",
       "        text-align: right;\n",
       "    }\n",
       "</style>\n",
       "<table border=\"1\" class=\"dataframe\">\n",
       "  <thead>\n",
       "    <tr style=\"text-align: right;\">\n",
       "      <th></th>\n",
       "      <th>letter</th>\n",
       "      <th>label</th>\n",
       "      <th>scraped_url</th>\n",
       "      <th>video_url_root</th>\n",
       "      <th>video_url_ext</th>\n",
       "      <th>fixed_url</th>\n",
       "      <th>number_in_label</th>\n",
       "      <th>scraped_label</th>\n",
       "      <th>sign_variant</th>\n",
       "    </tr>\n",
       "  </thead>\n",
       "  <tbody>\n",
       "    <tr>\n",
       "      <th>1709</th>\n",
       "      <td>M</td>\n",
       "      <td>MÃE-3</td>\n",
       "      <td>https://videos.nals.cce.ufsc.br/SignBank/V%C3%...</td>\n",
       "      <td>videos</td>\n",
       "      <td>mp4</td>\n",
       "      <td>https://videos.nals.cce.ufsc.br/SignBank/V%C3%...</td>\n",
       "      <td>True</td>\n",
       "      <td>MÃE-3</td>\n",
       "      <td>1</td>\n",
       "    </tr>\n",
       "    <tr>\n",
       "      <th>846</th>\n",
       "      <td>C</td>\n",
       "      <td>CHAMAR-3</td>\n",
       "      <td>https://videos.nals.cce.ufsc.br/SignBank/V%C3%...</td>\n",
       "      <td>videos</td>\n",
       "      <td>mp4</td>\n",
       "      <td>https://videos.nals.cce.ufsc.br/SignBank/V%C3%...</td>\n",
       "      <td>True</td>\n",
       "      <td>CHAMAR-3</td>\n",
       "      <td>1</td>\n",
       "    </tr>\n",
       "    <tr>\n",
       "      <th>1813</th>\n",
       "      <td>M</td>\n",
       "      <td>MESMO-4</td>\n",
       "      <td>https://videos.nals.cce.ufsc.br/SignBank/V%C3%...</td>\n",
       "      <td>videos</td>\n",
       "      <td>mp4</td>\n",
       "      <td>https://videos.nals.cce.ufsc.br/SignBank/V%C3%...</td>\n",
       "      <td>True</td>\n",
       "      <td>MESMO-4</td>\n",
       "      <td>1</td>\n",
       "    </tr>\n",
       "    <tr>\n",
       "      <th>1985</th>\n",
       "      <td>O</td>\n",
       "      <td>OITO-2</td>\n",
       "      <td>https://videos.nals.cce.ufsc.br/SignBank/V%C3%...</td>\n",
       "      <td>videos</td>\n",
       "      <td>mp4</td>\n",
       "      <td>https://videos.nals.cce.ufsc.br/SignBank/V%C3%...</td>\n",
       "      <td>True</td>\n",
       "      <td>OITO-2</td>\n",
       "      <td>1</td>\n",
       "    </tr>\n",
       "    <tr>\n",
       "      <th>2980</th>\n",
       "      <td>V</td>\n",
       "      <td>VERDE-3</td>\n",
       "      <td>https://videos.nals.cce.ufsc.br/SignBank/V%C3%...</td>\n",
       "      <td>videos</td>\n",
       "      <td>mp4</td>\n",
       "      <td>https://videos.nals.cce.ufsc.br/SignBank/V%C3%...</td>\n",
       "      <td>True</td>\n",
       "      <td>VERDE-3</td>\n",
       "      <td>1</td>\n",
       "    </tr>\n",
       "  </tbody>\n",
       "</table>\n",
       "</div>"
      ],
      "text/plain": [
       "     letter     label                                        scraped_url  \\\n",
       "1709      M     MÃE-3  https://videos.nals.cce.ufsc.br/SignBank/V%C3%...   \n",
       "846       C  CHAMAR-3  https://videos.nals.cce.ufsc.br/SignBank/V%C3%...   \n",
       "1813      M   MESMO-4  https://videos.nals.cce.ufsc.br/SignBank/V%C3%...   \n",
       "1985      O    OITO-2  https://videos.nals.cce.ufsc.br/SignBank/V%C3%...   \n",
       "2980      V   VERDE-3  https://videos.nals.cce.ufsc.br/SignBank/V%C3%...   \n",
       "\n",
       "     video_url_root video_url_ext  \\\n",
       "1709         videos           mp4   \n",
       "846          videos           mp4   \n",
       "1813         videos           mp4   \n",
       "1985         videos           mp4   \n",
       "2980         videos           mp4   \n",
       "\n",
       "                                              fixed_url  number_in_label  \\\n",
       "1709  https://videos.nals.cce.ufsc.br/SignBank/V%C3%...             True   \n",
       "846   https://videos.nals.cce.ufsc.br/SignBank/V%C3%...             True   \n",
       "1813  https://videos.nals.cce.ufsc.br/SignBank/V%C3%...             True   \n",
       "1985  https://videos.nals.cce.ufsc.br/SignBank/V%C3%...             True   \n",
       "2980  https://videos.nals.cce.ufsc.br/SignBank/V%C3%...             True   \n",
       "\n",
       "     scraped_label  sign_variant  \n",
       "1709         MÃE-3             1  \n",
       "846       CHAMAR-3             1  \n",
       "1813       MESMO-4             1  \n",
       "1985        OITO-2             1  \n",
       "2980       VERDE-3             1  "
      ]
     },
     "execution_count": 182,
     "metadata": {},
     "output_type": "execute_result"
    }
   ],
   "source": [
    "sb_csv[sb_csv[\"number_in_label\"] == True].sample(5)"
   ]
  },
  {
   "cell_type": "code",
   "execution_count": null,
   "metadata": {},
   "outputs": [
    {
     "name": "stdout",
     "output_type": "stream",
     "text": [
      "no number at the end of 'no-number-test-'\n"
     ]
    },
    {
     "data": {
      "text/plain": [
       "('INCLUSÃO', 'PARA-FRENTE', 'ESTADOS-UNIDOS-DA-AMÉRICA', None)"
      ]
     },
     "execution_count": 183,
     "metadata": {},
     "output_type": "execute_result"
    }
   ],
   "source": [
    "def remove_number_from_label(label):\n",
    "    # usually a dash on labels with numbers, e.g. INCLUSÃO-3\n",
    "    # sometimes no dash, e.g. PARA-FRENTE2\n",
    "\n",
    "    # go from right to left and remove the number\n",
    "    if label[-1].isdigit():\n",
    "        label = label[:-1]\n",
    "    else:\n",
    "        print(f\"no number at the end of '{label}'\")\n",
    "        return\n",
    "    if label[-1] == \"-\":\n",
    "        label = label[:-1]\n",
    "    return label\n",
    "\n",
    "\n",
    "(\n",
    "    remove_number_from_label(\"INCLUSÃO-3\"),\n",
    "    remove_number_from_label(\"PARA-FRENTE2\"),\n",
    "    remove_number_from_label(\"ESTADOS-UNIDOS-DA-AMÉRICA-2\"),\n",
    "    remove_number_from_label(\"no-number-test-\"),\n",
    ")"
   ]
  },
  {
   "cell_type": "code",
   "execution_count": null,
   "metadata": {},
   "outputs": [],
   "source": [
    "sb_csv.loc[sb_csv[\"number_in_label\"] == True, \"sign_variant\"] = (\n",
    "    sb_csv.loc[sb_csv[\"number_in_label\"] == True, \"scraped_label\"].str[-1].astype(int)\n",
    ")"
   ]
  },
  {
   "cell_type": "code",
   "execution_count": null,
   "metadata": {},
   "outputs": [],
   "source": [
    "sb_csv.loc[sb_csv[\"number_in_label\"] == True, \"label\"] = sb_csv.loc[\n",
    "    sb_csv[\"number_in_label\"] == True, \"scraped_label\"\n",
    "].apply(remove_number_from_label)"
   ]
  },
  {
   "cell_type": "code",
   "execution_count": null,
   "metadata": {},
   "outputs": [
    {
     "data": {
      "text/html": [
       "<div>\n",
       "<style scoped>\n",
       "    .dataframe tbody tr th:only-of-type {\n",
       "        vertical-align: middle;\n",
       "    }\n",
       "\n",
       "    .dataframe tbody tr th {\n",
       "        vertical-align: top;\n",
       "    }\n",
       "\n",
       "    .dataframe thead th {\n",
       "        text-align: right;\n",
       "    }\n",
       "</style>\n",
       "<table border=\"1\" class=\"dataframe\">\n",
       "  <thead>\n",
       "    <tr style=\"text-align: right;\">\n",
       "      <th></th>\n",
       "      <th>letter</th>\n",
       "      <th>label</th>\n",
       "      <th>scraped_url</th>\n",
       "      <th>video_url_root</th>\n",
       "      <th>video_url_ext</th>\n",
       "      <th>fixed_url</th>\n",
       "      <th>number_in_label</th>\n",
       "      <th>scraped_label</th>\n",
       "      <th>sign_variant</th>\n",
       "    </tr>\n",
       "  </thead>\n",
       "  <tbody>\n",
       "    <tr>\n",
       "      <th>843</th>\n",
       "      <td>C</td>\n",
       "      <td>COMER</td>\n",
       "      <td>https://videos.nals.cce.ufsc.br/SignBank/V%C3%...</td>\n",
       "      <td>videos</td>\n",
       "      <td>mp4</td>\n",
       "      <td>https://videos.nals.cce.ufsc.br/SignBank/V%C3%...</td>\n",
       "      <td>True</td>\n",
       "      <td>COMER-3</td>\n",
       "      <td>3</td>\n",
       "    </tr>\n",
       "    <tr>\n",
       "      <th>2138</th>\n",
       "      <td>P</td>\n",
       "      <td>PASTA</td>\n",
       "      <td>https://videos.nals.cce.ufsc.br/SignBank/V%C3%...</td>\n",
       "      <td>videos</td>\n",
       "      <td>mp4</td>\n",
       "      <td>https://videos.nals.cce.ufsc.br/SignBank/V%C3%...</td>\n",
       "      <td>True</td>\n",
       "      <td>PASTA-2</td>\n",
       "      <td>2</td>\n",
       "    </tr>\n",
       "    <tr>\n",
       "      <th>1475</th>\n",
       "      <td>I</td>\n",
       "      <td>INCLUSÃO</td>\n",
       "      <td>https://videos.nals.cce.ufsc.br/SignBank/V%C3%...</td>\n",
       "      <td>videos</td>\n",
       "      <td>mp4</td>\n",
       "      <td>https://videos.nals.cce.ufsc.br/SignBank/V%C3%...</td>\n",
       "      <td>True</td>\n",
       "      <td>INCLUSÃO-4</td>\n",
       "      <td>4</td>\n",
       "    </tr>\n",
       "    <tr>\n",
       "      <th>1572</th>\n",
       "      <td>J</td>\n",
       "      <td>JORNAL</td>\n",
       "      <td>https://videos.nals.cce.ufsc.br/SignBank/V%C3%...</td>\n",
       "      <td>videos</td>\n",
       "      <td>mp4</td>\n",
       "      <td>https://videos.nals.cce.ufsc.br/SignBank/V%C3%...</td>\n",
       "      <td>True</td>\n",
       "      <td>JORNAL-2</td>\n",
       "      <td>2</td>\n",
       "    </tr>\n",
       "    <tr>\n",
       "      <th>1033</th>\n",
       "      <td>E</td>\n",
       "      <td>ELEVADOR</td>\n",
       "      <td>https://videos.nals.cce.ufsc.br/SignBank/V%C3%...</td>\n",
       "      <td>videos</td>\n",
       "      <td>mp4</td>\n",
       "      <td>https://videos.nals.cce.ufsc.br/SignBank/V%C3%...</td>\n",
       "      <td>True</td>\n",
       "      <td>ELEVADOR-2</td>\n",
       "      <td>2</td>\n",
       "    </tr>\n",
       "  </tbody>\n",
       "</table>\n",
       "</div>"
      ],
      "text/plain": [
       "     letter     label                                        scraped_url  \\\n",
       "843       C     COMER  https://videos.nals.cce.ufsc.br/SignBank/V%C3%...   \n",
       "2138      P     PASTA  https://videos.nals.cce.ufsc.br/SignBank/V%C3%...   \n",
       "1475      I  INCLUSÃO  https://videos.nals.cce.ufsc.br/SignBank/V%C3%...   \n",
       "1572      J    JORNAL  https://videos.nals.cce.ufsc.br/SignBank/V%C3%...   \n",
       "1033      E  ELEVADOR  https://videos.nals.cce.ufsc.br/SignBank/V%C3%...   \n",
       "\n",
       "     video_url_root video_url_ext  \\\n",
       "843          videos           mp4   \n",
       "2138         videos           mp4   \n",
       "1475         videos           mp4   \n",
       "1572         videos           mp4   \n",
       "1033         videos           mp4   \n",
       "\n",
       "                                              fixed_url  number_in_label  \\\n",
       "843   https://videos.nals.cce.ufsc.br/SignBank/V%C3%...             True   \n",
       "2138  https://videos.nals.cce.ufsc.br/SignBank/V%C3%...             True   \n",
       "1475  https://videos.nals.cce.ufsc.br/SignBank/V%C3%...             True   \n",
       "1572  https://videos.nals.cce.ufsc.br/SignBank/V%C3%...             True   \n",
       "1033  https://videos.nals.cce.ufsc.br/SignBank/V%C3%...             True   \n",
       "\n",
       "     scraped_label  sign_variant  \n",
       "843        COMER-3             3  \n",
       "2138       PASTA-2             2  \n",
       "1475    INCLUSÃO-4             4  \n",
       "1572      JORNAL-2             2  \n",
       "1033    ELEVADOR-2             2  "
      ]
     },
     "execution_count": 186,
     "metadata": {},
     "output_type": "execute_result"
    }
   ],
   "source": [
    "sb_csv[sb_csv[\"number_in_label\"] == True].sample(5)"
   ]
  },
  {
   "cell_type": "markdown",
   "metadata": {},
   "source": [
    "Add a `signer_number` col"
   ]
  },
  {
   "cell_type": "code",
   "execution_count": null,
   "metadata": {},
   "outputs": [],
   "source": [
    "sb_csv[\"signer_number\"] = 1\n",
    "# based on an assumption that the videos at `videos.nals...` have the main signer, and `levantelab` have the other one\n",
    "sb_csv.loc[sb_csv[\"video_url_root\"] == \"levantelab\", \"signer_number\"] = 2"
   ]
  },
  {
   "cell_type": "markdown",
   "metadata": {},
   "source": [
    "#### Checking any exceptions in the processing"
   ]
  },
  {
   "cell_type": "code",
   "execution_count": null,
   "metadata": {},
   "outputs": [
    {
     "data": {
      "text/html": [
       "<div>\n",
       "<style scoped>\n",
       "    .dataframe tbody tr th:only-of-type {\n",
       "        vertical-align: middle;\n",
       "    }\n",
       "\n",
       "    .dataframe tbody tr th {\n",
       "        vertical-align: top;\n",
       "    }\n",
       "\n",
       "    .dataframe thead th {\n",
       "        text-align: right;\n",
       "    }\n",
       "</style>\n",
       "<table border=\"1\" class=\"dataframe\">\n",
       "  <thead>\n",
       "    <tr style=\"text-align: right;\">\n",
       "      <th></th>\n",
       "      <th>label</th>\n",
       "      <th>scraped_label</th>\n",
       "      <th>sign_variant</th>\n",
       "      <th>number_in_label</th>\n",
       "    </tr>\n",
       "  </thead>\n",
       "  <tbody>\n",
       "    <tr>\n",
       "      <th>1199</th>\n",
       "      <td>FERRO</td>\n",
       "      <td>FERRO</td>\n",
       "      <td>1</td>\n",
       "      <td>False</td>\n",
       "    </tr>\n",
       "    <tr>\n",
       "      <th>1298</th>\n",
       "      <td>FERRO</td>\n",
       "      <td>FERRO</td>\n",
       "      <td>1</td>\n",
       "      <td>False</td>\n",
       "    </tr>\n",
       "    <tr>\n",
       "      <th>1472</th>\n",
       "      <td>INCLUSÃO</td>\n",
       "      <td>INCLUSÃO</td>\n",
       "      <td>1</td>\n",
       "      <td>False</td>\n",
       "    </tr>\n",
       "    <tr>\n",
       "      <th>1477</th>\n",
       "      <td>INCLUSÃO</td>\n",
       "      <td>INCLUSÃO-1</td>\n",
       "      <td>1</td>\n",
       "      <td>True</td>\n",
       "    </tr>\n",
       "    <tr>\n",
       "      <th>2957</th>\n",
       "      <td>VAZIO</td>\n",
       "      <td>VAZIO-2</td>\n",
       "      <td>2</td>\n",
       "      <td>True</td>\n",
       "    </tr>\n",
       "    <tr>\n",
       "      <th>3056</th>\n",
       "      <td>VAZIO</td>\n",
       "      <td>VAZIO-2</td>\n",
       "      <td>2</td>\n",
       "      <td>True</td>\n",
       "    </tr>\n",
       "    <tr>\n",
       "      <th>3028</th>\n",
       "      <td>VITÓRIA</td>\n",
       "      <td>VITÓRIA</td>\n",
       "      <td>1</td>\n",
       "      <td>False</td>\n",
       "    </tr>\n",
       "    <tr>\n",
       "      <th>3029</th>\n",
       "      <td>VITÓRIA</td>\n",
       "      <td>VITÓRIA</td>\n",
       "      <td>1</td>\n",
       "      <td>False</td>\n",
       "    </tr>\n",
       "  </tbody>\n",
       "</table>\n",
       "</div>"
      ],
      "text/plain": [
       "         label scraped_label  sign_variant  number_in_label\n",
       "1199     FERRO         FERRO             1            False\n",
       "1298     FERRO         FERRO             1            False\n",
       "1472  INCLUSÃO      INCLUSÃO             1            False\n",
       "1477  INCLUSÃO    INCLUSÃO-1             1             True\n",
       "2957     VAZIO       VAZIO-2             2             True\n",
       "3056     VAZIO       VAZIO-2             2             True\n",
       "3028   VITÓRIA       VITÓRIA             1            False\n",
       "3029   VITÓRIA       VITÓRIA             1            False"
      ]
     },
     "execution_count": 188,
     "metadata": {},
     "output_type": "execute_result"
    }
   ],
   "source": [
    "sb_csv[\n",
    "    sb_csv.duplicated(subset=[\"label\", \"sign_variant\", \"signer_number\"], keep=False)\n",
    "][[\"label\", \"scraped_label\", \"sign_variant\", \"number_in_label\"]].sort_values(by=\"label\")"
   ]
  },
  {
   "cell_type": "markdown",
   "metadata": {},
   "source": [
    "- FERRO\n",
    "    - Two videos of the same sign for FERRO\n",
    "    - Not a sign_variant\n",
    "    - -> Just label different signers\n",
    "- INCLUSÃO\n",
    "    - has 6 different sign_variant\n",
    "    - but labelled differently by SignBank (first variant labelled 1 instead of 2)\n",
    "    - -> change INCLUSÃO sign_variant to 6\n",
    "- VAZIO\n",
    "    - Two videos of the same sign for VAZIO-2\n",
    "    - Not a sign_variant\n",
    "    - -> Just label different signers\n",
    "- VITÓRIA\n",
    "    - Two videos of different signs for VITÓRIA\n",
    "    - -> Label one as a sign_variant\n"
   ]
  },
  {
   "cell_type": "markdown",
   "metadata": {},
   "source": [
    "Unchecked assumption is that the videos at `videos.nals...` have the main signer, and `levantelab` have the other one`"
   ]
  },
  {
   "cell_type": "markdown",
   "metadata": {},
   "source": [
    "Ferro"
   ]
  },
  {
   "cell_type": "code",
   "execution_count": null,
   "metadata": {},
   "outputs": [],
   "source": [
    "sb_csv.loc[1298, \"signer_number\"] = 2"
   ]
  },
  {
   "cell_type": "markdown",
   "metadata": {},
   "source": [
    "Inclusao"
   ]
  },
  {
   "cell_type": "code",
   "execution_count": null,
   "metadata": {},
   "outputs": [
    {
     "data": {
      "text/html": [
       "<div>\n",
       "<style scoped>\n",
       "    .dataframe tbody tr th:only-of-type {\n",
       "        vertical-align: middle;\n",
       "    }\n",
       "\n",
       "    .dataframe tbody tr th {\n",
       "        vertical-align: top;\n",
       "    }\n",
       "\n",
       "    .dataframe thead th {\n",
       "        text-align: right;\n",
       "    }\n",
       "</style>\n",
       "<table border=\"1\" class=\"dataframe\">\n",
       "  <thead>\n",
       "    <tr style=\"text-align: right;\">\n",
       "      <th></th>\n",
       "      <th>letter</th>\n",
       "      <th>label</th>\n",
       "      <th>scraped_url</th>\n",
       "      <th>video_url_root</th>\n",
       "      <th>video_url_ext</th>\n",
       "      <th>fixed_url</th>\n",
       "      <th>number_in_label</th>\n",
       "      <th>scraped_label</th>\n",
       "      <th>sign_variant</th>\n",
       "      <th>signer_number</th>\n",
       "    </tr>\n",
       "  </thead>\n",
       "  <tbody>\n",
       "    <tr>\n",
       "      <th>1472</th>\n",
       "      <td>I</td>\n",
       "      <td>INCLUSÃO</td>\n",
       "      <td>https://videos.nals.cce.ufsc.br/SignBank/V%C3%...</td>\n",
       "      <td>videos</td>\n",
       "      <td>mp4</td>\n",
       "      <td>https://videos.nals.cce.ufsc.br/SignBank/V%C3%...</td>\n",
       "      <td>False</td>\n",
       "      <td>INCLUSÃO</td>\n",
       "      <td>1</td>\n",
       "      <td>1</td>\n",
       "    </tr>\n",
       "    <tr>\n",
       "      <th>1473</th>\n",
       "      <td>I</td>\n",
       "      <td>INCLUSÃO</td>\n",
       "      <td>https://videos.nals.cce.ufsc.br/SignBank/V%C3%...</td>\n",
       "      <td>videos</td>\n",
       "      <td>mp4</td>\n",
       "      <td>https://videos.nals.cce.ufsc.br/SignBank/V%C3%...</td>\n",
       "      <td>True</td>\n",
       "      <td>INCLUSÃO-5</td>\n",
       "      <td>5</td>\n",
       "      <td>1</td>\n",
       "    </tr>\n",
       "    <tr>\n",
       "      <th>1474</th>\n",
       "      <td>I</td>\n",
       "      <td>INCLUSÃO</td>\n",
       "      <td>https://videos.nals.cce.ufsc.br/SignBank/V%C3%...</td>\n",
       "      <td>videos</td>\n",
       "      <td>mp4</td>\n",
       "      <td>https://videos.nals.cce.ufsc.br/SignBank/V%C3%...</td>\n",
       "      <td>True</td>\n",
       "      <td>INCLUSÃO-2</td>\n",
       "      <td>2</td>\n",
       "      <td>1</td>\n",
       "    </tr>\n",
       "    <tr>\n",
       "      <th>1475</th>\n",
       "      <td>I</td>\n",
       "      <td>INCLUSÃO</td>\n",
       "      <td>https://videos.nals.cce.ufsc.br/SignBank/V%C3%...</td>\n",
       "      <td>videos</td>\n",
       "      <td>mp4</td>\n",
       "      <td>https://videos.nals.cce.ufsc.br/SignBank/V%C3%...</td>\n",
       "      <td>True</td>\n",
       "      <td>INCLUSÃO-4</td>\n",
       "      <td>4</td>\n",
       "      <td>1</td>\n",
       "    </tr>\n",
       "    <tr>\n",
       "      <th>1476</th>\n",
       "      <td>I</td>\n",
       "      <td>INCLUSÃO</td>\n",
       "      <td>https://videos.nals.cce.ufsc.br/SignBank/V%C3%...</td>\n",
       "      <td>videos</td>\n",
       "      <td>mp4</td>\n",
       "      <td>https://videos.nals.cce.ufsc.br/SignBank/V%C3%...</td>\n",
       "      <td>True</td>\n",
       "      <td>INCLUSÃO-3</td>\n",
       "      <td>3</td>\n",
       "      <td>1</td>\n",
       "    </tr>\n",
       "    <tr>\n",
       "      <th>1477</th>\n",
       "      <td>I</td>\n",
       "      <td>INCLUSÃO</td>\n",
       "      <td>https://videos.nals.cce.ufsc.br/SignBank/V%C3%...</td>\n",
       "      <td>videos</td>\n",
       "      <td>mp4</td>\n",
       "      <td>https://videos.nals.cce.ufsc.br/SignBank/V%C3%...</td>\n",
       "      <td>True</td>\n",
       "      <td>INCLUSÃO-1</td>\n",
       "      <td>1</td>\n",
       "      <td>1</td>\n",
       "    </tr>\n",
       "  </tbody>\n",
       "</table>\n",
       "</div>"
      ],
      "text/plain": [
       "     letter     label                                        scraped_url  \\\n",
       "1472      I  INCLUSÃO  https://videos.nals.cce.ufsc.br/SignBank/V%C3%...   \n",
       "1473      I  INCLUSÃO  https://videos.nals.cce.ufsc.br/SignBank/V%C3%...   \n",
       "1474      I  INCLUSÃO  https://videos.nals.cce.ufsc.br/SignBank/V%C3%...   \n",
       "1475      I  INCLUSÃO  https://videos.nals.cce.ufsc.br/SignBank/V%C3%...   \n",
       "1476      I  INCLUSÃO  https://videos.nals.cce.ufsc.br/SignBank/V%C3%...   \n",
       "1477      I  INCLUSÃO  https://videos.nals.cce.ufsc.br/SignBank/V%C3%...   \n",
       "\n",
       "     video_url_root video_url_ext  \\\n",
       "1472         videos           mp4   \n",
       "1473         videos           mp4   \n",
       "1474         videos           mp4   \n",
       "1475         videos           mp4   \n",
       "1476         videos           mp4   \n",
       "1477         videos           mp4   \n",
       "\n",
       "                                              fixed_url  number_in_label  \\\n",
       "1472  https://videos.nals.cce.ufsc.br/SignBank/V%C3%...            False   \n",
       "1473  https://videos.nals.cce.ufsc.br/SignBank/V%C3%...             True   \n",
       "1474  https://videos.nals.cce.ufsc.br/SignBank/V%C3%...             True   \n",
       "1475  https://videos.nals.cce.ufsc.br/SignBank/V%C3%...             True   \n",
       "1476  https://videos.nals.cce.ufsc.br/SignBank/V%C3%...             True   \n",
       "1477  https://videos.nals.cce.ufsc.br/SignBank/V%C3%...             True   \n",
       "\n",
       "     scraped_label  sign_variant  signer_number  \n",
       "1472      INCLUSÃO             1              1  \n",
       "1473    INCLUSÃO-5             5              1  \n",
       "1474    INCLUSÃO-2             2              1  \n",
       "1475    INCLUSÃO-4             4              1  \n",
       "1476    INCLUSÃO-3             3              1  \n",
       "1477    INCLUSÃO-1             1              1  "
      ]
     },
     "execution_count": 190,
     "metadata": {},
     "output_type": "execute_result"
    }
   ],
   "source": [
    "sb_csv.loc[sb_csv[\"label\"] == \"INCLUSÃO\"]"
   ]
  },
  {
   "cell_type": "code",
   "execution_count": null,
   "metadata": {},
   "outputs": [],
   "source": [
    "sb_csv.loc[1472, \"sign_variant\"] = 6"
   ]
  },
  {
   "cell_type": "markdown",
   "metadata": {},
   "source": [
    "Vazio"
   ]
  },
  {
   "cell_type": "code",
   "execution_count": null,
   "metadata": {},
   "outputs": [
    {
     "data": {
      "text/html": [
       "<div>\n",
       "<style scoped>\n",
       "    .dataframe tbody tr th:only-of-type {\n",
       "        vertical-align: middle;\n",
       "    }\n",
       "\n",
       "    .dataframe tbody tr th {\n",
       "        vertical-align: top;\n",
       "    }\n",
       "\n",
       "    .dataframe thead th {\n",
       "        text-align: right;\n",
       "    }\n",
       "</style>\n",
       "<table border=\"1\" class=\"dataframe\">\n",
       "  <thead>\n",
       "    <tr style=\"text-align: right;\">\n",
       "      <th></th>\n",
       "      <th>letter</th>\n",
       "      <th>label</th>\n",
       "      <th>scraped_url</th>\n",
       "      <th>video_url_root</th>\n",
       "      <th>video_url_ext</th>\n",
       "      <th>fixed_url</th>\n",
       "      <th>number_in_label</th>\n",
       "      <th>scraped_label</th>\n",
       "      <th>sign_variant</th>\n",
       "      <th>signer_number</th>\n",
       "    </tr>\n",
       "  </thead>\n",
       "  <tbody>\n",
       "    <tr>\n",
       "      <th>2957</th>\n",
       "      <td>V</td>\n",
       "      <td>VAZIO</td>\n",
       "      <td>https://videos.nals.cce.ufsc.br/SignBank/V%C3%...</td>\n",
       "      <td>videos</td>\n",
       "      <td>mp4</td>\n",
       "      <td>https://videos.nals.cce.ufsc.br/SignBank/V%C3%...</td>\n",
       "      <td>True</td>\n",
       "      <td>VAZIO-2</td>\n",
       "      <td>2</td>\n",
       "      <td>1</td>\n",
       "    </tr>\n",
       "    <tr>\n",
       "      <th>3056</th>\n",
       "      <td>V</td>\n",
       "      <td>VAZIO</td>\n",
       "      <td>https://objetos.sites.ufsc.br/libras/gerais/lI...</td>\n",
       "      <td>objetos</td>\n",
       "      <td>mov</td>\n",
       "      <td>https://objetos.sites.ufsc.br/libras/gerais/lI...</td>\n",
       "      <td>True</td>\n",
       "      <td>VAZIO-2</td>\n",
       "      <td>2</td>\n",
       "      <td>1</td>\n",
       "    </tr>\n",
       "  </tbody>\n",
       "</table>\n",
       "</div>"
      ],
      "text/plain": [
       "     letter  label                                        scraped_url  \\\n",
       "2957      V  VAZIO  https://videos.nals.cce.ufsc.br/SignBank/V%C3%...   \n",
       "3056      V  VAZIO  https://objetos.sites.ufsc.br/libras/gerais/lI...   \n",
       "\n",
       "     video_url_root video_url_ext  \\\n",
       "2957         videos           mp4   \n",
       "3056        objetos           mov   \n",
       "\n",
       "                                              fixed_url  number_in_label  \\\n",
       "2957  https://videos.nals.cce.ufsc.br/SignBank/V%C3%...             True   \n",
       "3056  https://objetos.sites.ufsc.br/libras/gerais/lI...             True   \n",
       "\n",
       "     scraped_label  sign_variant  signer_number  \n",
       "2957       VAZIO-2             2              1  \n",
       "3056       VAZIO-2             2              1  "
      ]
     },
     "execution_count": 192,
     "metadata": {},
     "output_type": "execute_result"
    }
   ],
   "source": [
    "sb_csv.loc[sb_csv[\"scraped_label\"] == \"VAZIO-2\"]"
   ]
  },
  {
   "cell_type": "code",
   "execution_count": null,
   "metadata": {},
   "outputs": [
    {
     "data": {
      "text/plain": [
       "array(['https://videos.nals.cce.ufsc.br/SignBank/V%C3%ADdeos/VAZIO2.mp4',\n",
       "       'https://objetos.sites.ufsc.br/libras/gerais/lImvYVGMUUeodhH3TuKWk0s2SBGe414Buvi18NsU.mov'],\n",
       "      dtype=object)"
      ]
     },
     "execution_count": 193,
     "metadata": {},
     "output_type": "execute_result"
    }
   ],
   "source": [
    "sb_csv.loc[sb_csv[\"scraped_label\"] == \"VAZIO-2\"].scraped_url.values"
   ]
  },
  {
   "cell_type": "code",
   "execution_count": null,
   "metadata": {},
   "outputs": [],
   "source": [
    "sb_csv.loc[3056, \"signer_number\"] = 2"
   ]
  },
  {
   "cell_type": "markdown",
   "metadata": {},
   "source": [
    "Vitoria"
   ]
  },
  {
   "cell_type": "code",
   "execution_count": null,
   "metadata": {},
   "outputs": [
    {
     "data": {
      "text/html": [
       "<div>\n",
       "<style scoped>\n",
       "    .dataframe tbody tr th:only-of-type {\n",
       "        vertical-align: middle;\n",
       "    }\n",
       "\n",
       "    .dataframe tbody tr th {\n",
       "        vertical-align: top;\n",
       "    }\n",
       "\n",
       "    .dataframe thead th {\n",
       "        text-align: right;\n",
       "    }\n",
       "</style>\n",
       "<table border=\"1\" class=\"dataframe\">\n",
       "  <thead>\n",
       "    <tr style=\"text-align: right;\">\n",
       "      <th></th>\n",
       "      <th>letter</th>\n",
       "      <th>label</th>\n",
       "      <th>scraped_url</th>\n",
       "      <th>video_url_root</th>\n",
       "      <th>video_url_ext</th>\n",
       "      <th>fixed_url</th>\n",
       "      <th>number_in_label</th>\n",
       "      <th>scraped_label</th>\n",
       "      <th>sign_variant</th>\n",
       "      <th>signer_number</th>\n",
       "    </tr>\n",
       "  </thead>\n",
       "  <tbody>\n",
       "    <tr>\n",
       "      <th>3028</th>\n",
       "      <td>V</td>\n",
       "      <td>VITÓRIA</td>\n",
       "      <td>https://videos.nals.cce.ufsc.br/SignBank/V%C3%...</td>\n",
       "      <td>videos</td>\n",
       "      <td>mp4</td>\n",
       "      <td>https://videos.nals.cce.ufsc.br/SignBank/V%C3%...</td>\n",
       "      <td>False</td>\n",
       "      <td>VITÓRIA</td>\n",
       "      <td>1</td>\n",
       "      <td>1</td>\n",
       "    </tr>\n",
       "    <tr>\n",
       "      <th>3029</th>\n",
       "      <td>V</td>\n",
       "      <td>VITÓRIA</td>\n",
       "      <td>https://videos.nals.cce.ufsc.br/SignBank/V%C3%...</td>\n",
       "      <td>videos</td>\n",
       "      <td>mp4</td>\n",
       "      <td>https://videos.nals.cce.ufsc.br/SignBank/V%C3%...</td>\n",
       "      <td>False</td>\n",
       "      <td>VITÓRIA</td>\n",
       "      <td>1</td>\n",
       "      <td>1</td>\n",
       "    </tr>\n",
       "  </tbody>\n",
       "</table>\n",
       "</div>"
      ],
      "text/plain": [
       "     letter    label                                        scraped_url  \\\n",
       "3028      V  VITÓRIA  https://videos.nals.cce.ufsc.br/SignBank/V%C3%...   \n",
       "3029      V  VITÓRIA  https://videos.nals.cce.ufsc.br/SignBank/V%C3%...   \n",
       "\n",
       "     video_url_root video_url_ext  \\\n",
       "3028         videos           mp4   \n",
       "3029         videos           mp4   \n",
       "\n",
       "                                              fixed_url  number_in_label  \\\n",
       "3028  https://videos.nals.cce.ufsc.br/SignBank/V%C3%...            False   \n",
       "3029  https://videos.nals.cce.ufsc.br/SignBank/V%C3%...            False   \n",
       "\n",
       "     scraped_label  sign_variant  signer_number  \n",
       "3028       VITÓRIA             1              1  \n",
       "3029       VITÓRIA             1              1  "
      ]
     },
     "execution_count": 195,
     "metadata": {},
     "output_type": "execute_result"
    }
   ],
   "source": [
    "sb_csv.loc[sb_csv[\"scraped_label\"] == \"VITÓRIA\"]"
   ]
  },
  {
   "cell_type": "code",
   "execution_count": null,
   "metadata": {},
   "outputs": [
    {
     "data": {
      "text/plain": [
       "array(['https://videos.nals.cce.ufsc.br/SignBank/V%C3%ADdeos/VIT%C3%93RIA.mp4',\n",
       "       'https://videos.nals.cce.ufsc.br/SignBank/V%C3%ADdeos/VIT%C3%93RIA-ES.mp4'],\n",
       "      dtype=object)"
      ]
     },
     "execution_count": 196,
     "metadata": {},
     "output_type": "execute_result"
    }
   ],
   "source": [
    "sb_csv.loc[sb_csv[\"scraped_label\"] == \"VITÓRIA\"].scraped_url.values"
   ]
  },
  {
   "cell_type": "code",
   "execution_count": null,
   "metadata": {},
   "outputs": [],
   "source": [
    "sb_csv.loc[3029, \"sign_variant\"] = 2"
   ]
  },
  {
   "cell_type": "markdown",
   "metadata": {},
   "source": [
    "Check the duplicates are fixed"
   ]
  },
  {
   "cell_type": "code",
   "execution_count": null,
   "metadata": {},
   "outputs": [
    {
     "data": {
      "text/html": [
       "<div>\n",
       "<style scoped>\n",
       "    .dataframe tbody tr th:only-of-type {\n",
       "        vertical-align: middle;\n",
       "    }\n",
       "\n",
       "    .dataframe tbody tr th {\n",
       "        vertical-align: top;\n",
       "    }\n",
       "\n",
       "    .dataframe thead th {\n",
       "        text-align: right;\n",
       "    }\n",
       "</style>\n",
       "<table border=\"1\" class=\"dataframe\">\n",
       "  <thead>\n",
       "    <tr style=\"text-align: right;\">\n",
       "      <th></th>\n",
       "      <th>label</th>\n",
       "      <th>scraped_label</th>\n",
       "      <th>sign_variant</th>\n",
       "      <th>number_in_label</th>\n",
       "      <th>signer_number</th>\n",
       "    </tr>\n",
       "  </thead>\n",
       "  <tbody>\n",
       "  </tbody>\n",
       "</table>\n",
       "</div>"
      ],
      "text/plain": [
       "Empty DataFrame\n",
       "Columns: [label, scraped_label, sign_variant, number_in_label, signer_number]\n",
       "Index: []"
      ]
     },
     "execution_count": 198,
     "metadata": {},
     "output_type": "execute_result"
    }
   ],
   "source": [
    "sb_csv[\n",
    "    sb_csv.duplicated(subset=[\"label\", \"sign_variant\", \"signer_number\"], keep=False)\n",
    "][\n",
    "    [\"label\", \"scraped_label\", \"sign_variant\", \"number_in_label\", \"signer_number\"]\n",
    "].sort_values(by=\"label\")"
   ]
  },
  {
   "cell_type": "markdown",
   "metadata": {},
   "source": [
    "#### Finalise `clean_full_metadata_SignBank.csv` and save"
   ]
  },
  {
   "cell_type": "code",
   "execution_count": 199,
   "metadata": {},
   "outputs": [
    {
     "data": {
      "text/html": [
       "<div>\n",
       "<style scoped>\n",
       "    .dataframe tbody tr th:only-of-type {\n",
       "        vertical-align: middle;\n",
       "    }\n",
       "\n",
       "    .dataframe tbody tr th {\n",
       "        vertical-align: top;\n",
       "    }\n",
       "\n",
       "    .dataframe thead th {\n",
       "        text-align: right;\n",
       "    }\n",
       "</style>\n",
       "<table border=\"1\" class=\"dataframe\">\n",
       "  <thead>\n",
       "    <tr style=\"text-align: right;\">\n",
       "      <th></th>\n",
       "      <th>letter</th>\n",
       "      <th>label</th>\n",
       "      <th>scraped_url</th>\n",
       "      <th>video_url_root</th>\n",
       "      <th>video_url_ext</th>\n",
       "      <th>fixed_url</th>\n",
       "      <th>number_in_label</th>\n",
       "      <th>scraped_label</th>\n",
       "      <th>sign_variant</th>\n",
       "      <th>signer_number</th>\n",
       "    </tr>\n",
       "  </thead>\n",
       "  <tbody>\n",
       "    <tr>\n",
       "      <th>1875</th>\n",
       "      <td>M</td>\n",
       "      <td>MOSCA</td>\n",
       "      <td>https://videos.nals.cce.ufsc.br/SignBank/V%C3%...</td>\n",
       "      <td>videos</td>\n",
       "      <td>mp4</td>\n",
       "      <td>https://videos.nals.cce.ufsc.br/SignBank/V%C3%...</td>\n",
       "      <td>False</td>\n",
       "      <td>MOSCA</td>\n",
       "      <td>1</td>\n",
       "      <td>1</td>\n",
       "    </tr>\n",
       "    <tr>\n",
       "      <th>775</th>\n",
       "      <td>C</td>\n",
       "      <td>COORDENADOR</td>\n",
       "      <td>https://videos.nals.cce.ufsc.br/SignBank/V%C3%...</td>\n",
       "      <td>videos</td>\n",
       "      <td>mp4</td>\n",
       "      <td>https://videos.nals.cce.ufsc.br/SignBank/V%C3%...</td>\n",
       "      <td>True</td>\n",
       "      <td>COORDENADOR-2</td>\n",
       "      <td>2</td>\n",
       "      <td>1</td>\n",
       "    </tr>\n",
       "    <tr>\n",
       "      <th>2042</th>\n",
       "      <td>O</td>\n",
       "      <td>OUVIR</td>\n",
       "      <td>https://videos.nals.cce.ufsc.br/SignBank/V%C3%...</td>\n",
       "      <td>videos</td>\n",
       "      <td>mp4</td>\n",
       "      <td>https://videos.nals.cce.ufsc.br/SignBank/V%C3%...</td>\n",
       "      <td>False</td>\n",
       "      <td>OUVIR</td>\n",
       "      <td>1</td>\n",
       "      <td>1</td>\n",
       "    </tr>\n",
       "    <tr>\n",
       "      <th>573</th>\n",
       "      <td>C</td>\n",
       "      <td>CATAPORA</td>\n",
       "      <td>https://videos.nals.cce.ufsc.br/SignBank/V%C3%...</td>\n",
       "      <td>videos</td>\n",
       "      <td>mp4</td>\n",
       "      <td>https://videos.nals.cce.ufsc.br/SignBank/V%C3%...</td>\n",
       "      <td>False</td>\n",
       "      <td>CATAPORA</td>\n",
       "      <td>1</td>\n",
       "      <td>1</td>\n",
       "    </tr>\n",
       "    <tr>\n",
       "      <th>105</th>\n",
       "      <td>A</td>\n",
       "      <td>ALHO</td>\n",
       "      <td>https://videos.nals.cce.ufsc.br/SignBank/V%C3%...</td>\n",
       "      <td>videos</td>\n",
       "      <td>mp4</td>\n",
       "      <td>https://videos.nals.cce.ufsc.br/SignBank/V%C3%...</td>\n",
       "      <td>True</td>\n",
       "      <td>ALHO-2</td>\n",
       "      <td>2</td>\n",
       "      <td>1</td>\n",
       "    </tr>\n",
       "  </tbody>\n",
       "</table>\n",
       "</div>"
      ],
      "text/plain": [
       "     letter        label                                        scraped_url  \\\n",
       "1875      M        MOSCA  https://videos.nals.cce.ufsc.br/SignBank/V%C3%...   \n",
       "775       C  COORDENADOR  https://videos.nals.cce.ufsc.br/SignBank/V%C3%...   \n",
       "2042      O        OUVIR  https://videos.nals.cce.ufsc.br/SignBank/V%C3%...   \n",
       "573       C     CATAPORA  https://videos.nals.cce.ufsc.br/SignBank/V%C3%...   \n",
       "105       A         ALHO  https://videos.nals.cce.ufsc.br/SignBank/V%C3%...   \n",
       "\n",
       "     video_url_root video_url_ext  \\\n",
       "1875         videos           mp4   \n",
       "775          videos           mp4   \n",
       "2042         videos           mp4   \n",
       "573          videos           mp4   \n",
       "105          videos           mp4   \n",
       "\n",
       "                                              fixed_url  number_in_label  \\\n",
       "1875  https://videos.nals.cce.ufsc.br/SignBank/V%C3%...            False   \n",
       "775   https://videos.nals.cce.ufsc.br/SignBank/V%C3%...             True   \n",
       "2042  https://videos.nals.cce.ufsc.br/SignBank/V%C3%...            False   \n",
       "573   https://videos.nals.cce.ufsc.br/SignBank/V%C3%...            False   \n",
       "105   https://videos.nals.cce.ufsc.br/SignBank/V%C3%...             True   \n",
       "\n",
       "      scraped_label  sign_variant  signer_number  \n",
       "1875          MOSCA             1              1  \n",
       "775   COORDENADOR-2             2              1  \n",
       "2042          OUVIR             1              1  \n",
       "573        CATAPORA             1              1  \n",
       "105          ALHO-2             2              1  "
      ]
     },
     "execution_count": 199,
     "metadata": {},
     "output_type": "execute_result"
    }
   ],
   "source": [
    "sb_csv.sample(5)"
   ]
  },
  {
   "cell_type": "code",
   "execution_count": 212,
   "metadata": {},
   "outputs": [
    {
     "data": {
      "text/plain": [
       "Index(['letter', 'label', 'scraped_url', 'video_url_root', 'video_url_ext',\n",
       "       'fixed_url', 'number_in_label', 'scraped_label', 'sign_variant',\n",
       "       'signer_number'],\n",
       "      dtype='object')"
      ]
     },
     "execution_count": 212,
     "metadata": {},
     "output_type": "execute_result"
    }
   ],
   "source": [
    "sb_csv.columns"
   ]
  },
  {
   "cell_type": "code",
   "execution_count": null,
   "metadata": {},
   "outputs": [],
   "source": [
    "sb_csv[\n",
    "    [\n",
    "        \"label\",\n",
    "        \"scraped_label\",\n",
    "        \"fixed_url\",\n",
    "        \"scraped_url\",\n",
    "        \"sign_variant\",\n",
    "        \"signer_number\",\n",
    "        \"video_url_ext\",\n",
    "        \"video_url_root\",\n",
    "        \"number_in_label\",\n",
    "        \"letter\",\n",
    "    ]\n",
    "].to_csv(\"data/raw/SignBank/clean_full_metadata_SignBank.csv\", index=False)"
   ]
  },
  {
   "cell_type": "markdown",
   "metadata": {},
   "source": [
    "### make `metadata.csv`"
   ]
  },
  {
   "cell_type": "code",
   "execution_count": null,
   "metadata": {},
   "outputs": [],
   "source": [
    "clean_signbank = pd.read_csv(\"data/raw/SignBank/clean_full_metadata_SignBank.csv\")"
   ]
  },
  {
   "cell_type": "code",
   "execution_count": 17,
   "metadata": {},
   "outputs": [
    {
     "data": {
      "text/html": [
       "<div>\n",
       "<style scoped>\n",
       "    .dataframe tbody tr th:only-of-type {\n",
       "        vertical-align: middle;\n",
       "    }\n",
       "\n",
       "    .dataframe tbody tr th {\n",
       "        vertical-align: top;\n",
       "    }\n",
       "\n",
       "    .dataframe thead th {\n",
       "        text-align: right;\n",
       "    }\n",
       "</style>\n",
       "<table border=\"1\" class=\"dataframe\">\n",
       "  <thead>\n",
       "    <tr style=\"text-align: right;\">\n",
       "      <th></th>\n",
       "      <th>label</th>\n",
       "      <th>scraped_label</th>\n",
       "      <th>fixed_url</th>\n",
       "      <th>scraped_url</th>\n",
       "      <th>sign_variant</th>\n",
       "      <th>signer_number</th>\n",
       "      <th>video_url_ext</th>\n",
       "      <th>video_url_root</th>\n",
       "      <th>number_in_label</th>\n",
       "      <th>letter</th>\n",
       "    </tr>\n",
       "  </thead>\n",
       "  <tbody>\n",
       "    <tr>\n",
       "      <th>0</th>\n",
       "      <td>À-TOA</td>\n",
       "      <td>À-TOA</td>\n",
       "      <td>https://videos.nals.cce.ufsc.br/SignBank/Vídeo...</td>\n",
       "      <td>https://levantelab.storage.googleapis.com/libr...</td>\n",
       "      <td>1</td>\n",
       "      <td>2</td>\n",
       "      <td>mp4</td>\n",
       "      <td>levantelab</td>\n",
       "      <td>False</td>\n",
       "      <td>A</td>\n",
       "    </tr>\n",
       "    <tr>\n",
       "      <th>1</th>\n",
       "      <td>À-VISTA</td>\n",
       "      <td>À-VISTA</td>\n",
       "      <td>https://videos.nals.cce.ufsc.br/SignBank/Vídeo...</td>\n",
       "      <td>https://levantelab.storage.googleapis.com/libr...</td>\n",
       "      <td>1</td>\n",
       "      <td>2</td>\n",
       "      <td>mp4</td>\n",
       "      <td>levantelab</td>\n",
       "      <td>False</td>\n",
       "      <td>A</td>\n",
       "    </tr>\n",
       "    <tr>\n",
       "      <th>2</th>\n",
       "      <td>ABACAXI</td>\n",
       "      <td>ABACAXI</td>\n",
       "      <td>https://videos.nals.cce.ufsc.br/SignBank/Vídeo...</td>\n",
       "      <td>https://levantelab.storage.googleapis.com/libr...</td>\n",
       "      <td>1</td>\n",
       "      <td>2</td>\n",
       "      <td>mp4</td>\n",
       "      <td>levantelab</td>\n",
       "      <td>False</td>\n",
       "      <td>A</td>\n",
       "    </tr>\n",
       "    <tr>\n",
       "      <th>3</th>\n",
       "      <td>ABANAR</td>\n",
       "      <td>ABANAR</td>\n",
       "      <td>https://videos.nals.cce.ufsc.br/SignBank/Vídeo...</td>\n",
       "      <td>https://levantelab.storage.googleapis.com/libr...</td>\n",
       "      <td>1</td>\n",
       "      <td>2</td>\n",
       "      <td>mp4</td>\n",
       "      <td>levantelab</td>\n",
       "      <td>False</td>\n",
       "      <td>A</td>\n",
       "    </tr>\n",
       "    <tr>\n",
       "      <th>4</th>\n",
       "      <td>ABANDONAR</td>\n",
       "      <td>ABANDONAR</td>\n",
       "      <td>https://videos.nals.cce.ufsc.br/SignBank/V%C3%...</td>\n",
       "      <td>https://videos.nals.cce.ufsc.br/SignBank/V%C3%...</td>\n",
       "      <td>1</td>\n",
       "      <td>1</td>\n",
       "      <td>mp4</td>\n",
       "      <td>videos</td>\n",
       "      <td>False</td>\n",
       "      <td>A</td>\n",
       "    </tr>\n",
       "  </tbody>\n",
       "</table>\n",
       "</div>"
      ],
      "text/plain": [
       "       label scraped_label                                          fixed_url  \\\n",
       "0      À-TOA         À-TOA  https://videos.nals.cce.ufsc.br/SignBank/Vídeo...   \n",
       "1    À-VISTA       À-VISTA  https://videos.nals.cce.ufsc.br/SignBank/Vídeo...   \n",
       "2    ABACAXI       ABACAXI  https://videos.nals.cce.ufsc.br/SignBank/Vídeo...   \n",
       "3     ABANAR        ABANAR  https://videos.nals.cce.ufsc.br/SignBank/Vídeo...   \n",
       "4  ABANDONAR     ABANDONAR  https://videos.nals.cce.ufsc.br/SignBank/V%C3%...   \n",
       "\n",
       "                                         scraped_url  sign_variant  \\\n",
       "0  https://levantelab.storage.googleapis.com/libr...             1   \n",
       "1  https://levantelab.storage.googleapis.com/libr...             1   \n",
       "2  https://levantelab.storage.googleapis.com/libr...             1   \n",
       "3  https://levantelab.storage.googleapis.com/libr...             1   \n",
       "4  https://videos.nals.cce.ufsc.br/SignBank/V%C3%...             1   \n",
       "\n",
       "   signer_number video_url_ext video_url_root  number_in_label letter  \n",
       "0              2           mp4     levantelab            False      A  \n",
       "1              2           mp4     levantelab            False      A  \n",
       "2              2           mp4     levantelab            False      A  \n",
       "3              2           mp4     levantelab            False      A  \n",
       "4              1           mp4         videos            False      A  "
      ]
     },
     "execution_count": 17,
     "metadata": {},
     "output_type": "execute_result"
    }
   ],
   "source": [
    "clean_signbank.head()"
   ]
  },
  {
   "cell_type": "code",
   "execution_count": null,
   "metadata": {},
   "outputs": [],
   "source": [
    "clean_signbank.rename(\n",
    "    columns={\n",
    "        \"fixed_url\": \"video_url\",\n",
    "        \"scraped_url\": \"scraped_video_url\",\n",
    "    },\n",
    "    inplace=True,\n",
    ")"
   ]
  },
  {
   "cell_type": "code",
   "execution_count": null,
   "metadata": {},
   "outputs": [],
   "source": [
    "clean_signbank[\"data_source\"] = \"sb\""
   ]
  },
  {
   "cell_type": "code",
   "execution_count": null,
   "metadata": {},
   "outputs": [],
   "source": [
    "clean_signbank[\n",
    "    [\n",
    "        \"label\",\n",
    "        \"video_url\",\n",
    "        \"signer_number\",\n",
    "        \"data_source\",\n",
    "        \"scraped_label\",\n",
    "        \"scraped_video_url\",\n",
    "        \"sign_variant\",\n",
    "        \"signer_number\",\n",
    "        \"video_url_root\",\n",
    "        \"video_url_ext\",\n",
    "        \"number_in_label\",\n",
    "    ]\n",
    "].to_csv(\"data/raw/SignBank/metadata.csv\", index=False)"
   ]
  },
  {
   "cell_type": "markdown",
   "metadata": {},
   "source": [
    "## UFV"
   ]
  },
  {
   "cell_type": "code",
   "execution_count": 3,
   "metadata": {},
   "outputs": [
    {
     "name": "stderr",
     "output_type": "stream",
     "text": [
      "Processing UVF_Metadata_8.csv: 100%|██████████| 10/10 [00:00<00:00, 122.72it/s]"
     ]
    },
    {
     "name": "stdout",
     "output_type": "stream",
     "text": [
      "Number of rows in uf_raw_metadata: 945\n",
      "Number of unique video URLs in uf_raw_metadata: 935\n"
     ]
    },
    {
     "name": "stderr",
     "output_type": "stream",
     "text": [
      "\n"
     ]
    }
   ],
   "source": [
    "ufv_path = \"data/raw/UFV\"\n",
    "files = os.listdir(ufv_path)\n",
    "uf_raw_metadata = pd.DataFrame()\n",
    "\n",
    "# Import and concat all metadata files\n",
    "for file in (pbar := tqdm(files)):\n",
    "    pbar.set_description(f\"Processing {file}\")\n",
    "    if (file.endswith(\".csv\")) and (\"Metadata\" in file):\n",
    "        temp_df = pd.read_csv(f\"{ufv_path}/{file}\")\n",
    "        temp_df = temp_df.drop_duplicates(\"video_url\", keep=\"last\").reset_index(\n",
    "            drop=True\n",
    "        )\n",
    "\n",
    "        uf_raw_metadata = pd.concat([uf_raw_metadata, temp_df], ignore_index=True)\n",
    "\n",
    "# Drop duplicates (rows with all the same values)\n",
    "uf_raw_metadata = uf_raw_metadata.drop_duplicates().reset_index(drop=True)\n",
    "\n",
    "print(\"Number of rows in uf_raw_metadata:\", uf_raw_metadata.shape[0])\n",
    "print(\n",
    "    \"Number of unique video URLs in uf_raw_metadata:\",\n",
    "    uf_raw_metadata[\"video_url\"].nunique(),\n",
    ")"
   ]
  },
  {
   "cell_type": "code",
   "execution_count": 4,
   "metadata": {},
   "outputs": [
    {
     "data": {
      "text/plain": [
       "Index(['Word', 'category', 'example_pt', 'example_libras', 'video_url',\n",
       "       'hand_gesture'],\n",
       "      dtype='object')"
      ]
     },
     "execution_count": 4,
     "metadata": {},
     "output_type": "execute_result"
    }
   ],
   "source": [
    "uf_raw_metadata.columns"
   ]
  },
  {
   "cell_type": "markdown",
   "metadata": {},
   "source": [
    "It says here that there are 945 entries for 935 unique URLs. This means that two different rows have the same URL. Let's check some examples."
   ]
  },
  {
   "cell_type": "code",
   "execution_count": 5,
   "metadata": {},
   "outputs": [
    {
     "name": "stdout",
     "output_type": "stream",
     "text": [
      "Word Errado\n",
      "URL: https://sistemas.cead.ufv.br/capes/dicionario/wp-content/uploads/2018/09/enxada.mp4\n",
      "Word Enxada\n",
      "URL: https://sistemas.cead.ufv.br/capes/dicionario/wp-content/uploads/2018/09/enxada.mp4\n"
     ]
    }
   ],
   "source": [
    "print(\n",
    "    \"Word\",\n",
    "    uf_raw_metadata[uf_raw_metadata.duplicated(subset=[\"video_url\"], keep=False)]\n",
    "    .sort_values(\"video_url\")\n",
    "    .iloc[-1][\"Word\"],\n",
    ")\n",
    "print(\n",
    "    \"URL:\",\n",
    "    uf_raw_metadata[uf_raw_metadata.duplicated(subset=[\"video_url\"], keep=False)]\n",
    "    .sort_values(\"video_url\")\n",
    "    .iloc[-1][\"video_url\"],\n",
    ")\n",
    "print(\n",
    "    \"Word\",\n",
    "    uf_raw_metadata[uf_raw_metadata.duplicated(subset=[\"video_url\"], keep=False)]\n",
    "    .sort_values(\"video_url\")\n",
    "    .iloc[-2][\"Word\"],\n",
    ")\n",
    "print(\n",
    "    \"URL:\",\n",
    "    uf_raw_metadata[uf_raw_metadata.duplicated(subset=[\"video_url\"], keep=False)]\n",
    "    .sort_values(\"video_url\")\n",
    "    .iloc[-2][\"video_url\"],\n",
    ")"
   ]
  },
  {
   "cell_type": "markdown",
   "metadata": {},
   "source": [
    "It seems like there are some words that had their URL either extracted or registered wrongly in the dataset.  The strategy used to remove these cases is to check if the word is present anywhere in the URL."
   ]
  },
  {
   "cell_type": "code",
   "execution_count": 6,
   "metadata": {},
   "outputs": [
    {
     "name": "stdout",
     "output_type": "stream",
     "text": [
      "Veneno\n",
      "URL: Not Available\n",
      "Maconha\n",
      "URL: Not Available\n"
     ]
    }
   ],
   "source": [
    "print(\n",
    "    uf_raw_metadata[uf_raw_metadata.duplicated(subset=[\"video_url\"], keep=False)]\n",
    "    .sort_values(\"video_url\")\n",
    "    .iloc[0][\"Word\"]\n",
    ")\n",
    "print(\n",
    "    \"URL:\",\n",
    "    uf_raw_metadata[uf_raw_metadata.duplicated(subset=[\"video_url\"], keep=False)]\n",
    "    .sort_values(\"video_url\")\n",
    "    .iloc[0][\"video_url\"],\n",
    ")\n",
    "print(\n",
    "    uf_raw_metadata[uf_raw_metadata.duplicated(subset=[\"video_url\"], keep=False)]\n",
    "    .sort_values(\"video_url\")\n",
    "    .iloc[1][\"Word\"]\n",
    ")\n",
    "print(\n",
    "    \"URL:\",\n",
    "    uf_raw_metadata[uf_raw_metadata.duplicated(subset=[\"video_url\"], keep=False)]\n",
    "    .sort_values(\"video_url\")\n",
    "    .iloc[1][\"video_url\"],\n",
    ")"
   ]
  },
  {
   "cell_type": "markdown",
   "metadata": {},
   "source": [
    "Also, there are some words that returned \"Not Available\" as URLs. These cases are going to be removed."
   ]
  },
  {
   "cell_type": "code",
   "execution_count": 7,
   "metadata": {},
   "outputs": [],
   "source": [
    "uf_raw_metadata[\"url_available\"] = uf_raw_metadata[\"video_url\"].apply(\n",
    "    lambda x: True if x != \"Not Available\" else False\n",
    ")"
   ]
  },
  {
   "cell_type": "code",
   "execution_count": 8,
   "metadata": {},
   "outputs": [
    {
     "data": {
      "text/plain": [
       "url_available\n",
       "True     936\n",
       "False      9\n",
       "Name: count, dtype: int64"
      ]
     },
     "metadata": {},
     "output_type": "display_data"
    }
   ],
   "source": [
    "display(uf_raw_metadata[\"url_available\"].value_counts())\n",
    "uf_raw_metadata = uf_raw_metadata[uf_raw_metadata[\"url_available\"]]"
   ]
  },
  {
   "cell_type": "code",
   "execution_count": 9,
   "metadata": {},
   "outputs": [
    {
     "name": "stdout",
     "output_type": "stream",
     "text": [
      "Total number of rows: 936\n",
      "Number of duplicated URLs: 2\n",
      "Number of unique video URLs: 934\n"
     ]
    }
   ],
   "source": [
    "print(\"Total number of rows:\", uf_raw_metadata.shape[0])\n",
    "print(\n",
    "    \"Number of duplicated URLs:\",\n",
    "    uf_raw_metadata.duplicated(\"video_url\").sum(),\n",
    ")\n",
    "print(\"Number of unique video URLs:\", uf_raw_metadata[\"video_url\"].nunique())"
   ]
  },
  {
   "cell_type": "code",
   "execution_count": 10,
   "metadata": {},
   "outputs": [
    {
     "data": {
      "text/html": [
       "<div>\n",
       "<style scoped>\n",
       "    .dataframe tbody tr th:only-of-type {\n",
       "        vertical-align: middle;\n",
       "    }\n",
       "\n",
       "    .dataframe tbody tr th {\n",
       "        vertical-align: top;\n",
       "    }\n",
       "\n",
       "    .dataframe thead th {\n",
       "        text-align: right;\n",
       "    }\n",
       "</style>\n",
       "<table border=\"1\" class=\"dataframe\">\n",
       "  <thead>\n",
       "    <tr style=\"text-align: right;\">\n",
       "      <th></th>\n",
       "      <th>Word</th>\n",
       "      <th>category</th>\n",
       "      <th>example_pt</th>\n",
       "      <th>example_libras</th>\n",
       "      <th>video_url</th>\n",
       "      <th>hand_gesture</th>\n",
       "      <th>url_available</th>\n",
       "      <th>decoded_word</th>\n",
       "      <th>word_in_url</th>\n",
       "    </tr>\n",
       "  </thead>\n",
       "  <tbody>\n",
       "    <tr>\n",
       "      <th>0</th>\n",
       "      <td>Algoritmo</td>\n",
       "      <td>Números</td>\n",
       "      <td>NaN</td>\n",
       "      <td>NaN</td>\n",
       "      <td>https://sistemas.cead.ufv.br/capes/dicionario/...</td>\n",
       "      <td>NaN</td>\n",
       "      <td>True</td>\n",
       "      <td>algoritmo</td>\n",
       "      <td>True</td>\n",
       "    </tr>\n",
       "    <tr>\n",
       "      <th>1</th>\n",
       "      <td>Binário</td>\n",
       "      <td>Números</td>\n",
       "      <td>NaN</td>\n",
       "      <td>NaN</td>\n",
       "      <td>https://sistemas.cead.ufv.br/capes/dicionario/...</td>\n",
       "      <td>NaN</td>\n",
       "      <td>True</td>\n",
       "      <td>binario</td>\n",
       "      <td>True</td>\n",
       "    </tr>\n",
       "    <tr>\n",
       "      <th>2</th>\n",
       "      <td>Cinco</td>\n",
       "      <td>Números</td>\n",
       "      <td>Minha casa é a número cinco.</td>\n",
       "      <td>MINHA CASA NUMERO 5.</td>\n",
       "      <td>https://sistemas.cead.ufv.br/capes/dicionario/...</td>\n",
       "      <td>https://sistemas.cead.ufv.br/capes/dicionario/...</td>\n",
       "      <td>True</td>\n",
       "      <td>cinco</td>\n",
       "      <td>True</td>\n",
       "    </tr>\n",
       "    <tr>\n",
       "      <th>3</th>\n",
       "      <td>Contabilidade</td>\n",
       "      <td>Números</td>\n",
       "      <td>Tenho vontade de fazer o curso de contabilidade.</td>\n",
       "      <td>EU QUERER FUTURO ESTUDAR CURSO CONTABILIDADE.</td>\n",
       "      <td>https://sistemas.cead.ufv.br/capes/dicionario/...</td>\n",
       "      <td>https://sistemas.cead.ufv.br/capes/dicionario/...</td>\n",
       "      <td>True</td>\n",
       "      <td>contabilidade</td>\n",
       "      <td>True</td>\n",
       "    </tr>\n",
       "    <tr>\n",
       "      <th>4</th>\n",
       "      <td>Dez</td>\n",
       "      <td>Números</td>\n",
       "      <td>Tenho mais de dez tios.</td>\n",
       "      <td>EU TER DEZ TIO.</td>\n",
       "      <td>https://sistemas.cead.ufv.br/capes/dicionario/...</td>\n",
       "      <td>https://sistemas.cead.ufv.br/capes/dicionario/...</td>\n",
       "      <td>True</td>\n",
       "      <td>dez</td>\n",
       "      <td>True</td>\n",
       "    </tr>\n",
       "  </tbody>\n",
       "</table>\n",
       "</div>"
      ],
      "text/plain": [
       "            Word category                                        example_pt  \\\n",
       "0      Algoritmo  Números                                               NaN   \n",
       "1        Binário  Números                                               NaN   \n",
       "2          Cinco  Números                      Minha casa é a número cinco.   \n",
       "3  Contabilidade  Números  Tenho vontade de fazer o curso de contabilidade.   \n",
       "4            Dez  Números                           Tenho mais de dez tios.   \n",
       "\n",
       "                                  example_libras  \\\n",
       "0                                            NaN   \n",
       "1                                            NaN   \n",
       "2                           MINHA CASA NUMERO 5.   \n",
       "3  EU QUERER FUTURO ESTUDAR CURSO CONTABILIDADE.   \n",
       "4                                EU TER DEZ TIO.   \n",
       "\n",
       "                                           video_url  \\\n",
       "0  https://sistemas.cead.ufv.br/capes/dicionario/...   \n",
       "1  https://sistemas.cead.ufv.br/capes/dicionario/...   \n",
       "2  https://sistemas.cead.ufv.br/capes/dicionario/...   \n",
       "3  https://sistemas.cead.ufv.br/capes/dicionario/...   \n",
       "4  https://sistemas.cead.ufv.br/capes/dicionario/...   \n",
       "\n",
       "                                        hand_gesture  url_available  \\\n",
       "0                                                NaN           True   \n",
       "1                                                NaN           True   \n",
       "2  https://sistemas.cead.ufv.br/capes/dicionario/...           True   \n",
       "3  https://sistemas.cead.ufv.br/capes/dicionario/...           True   \n",
       "4  https://sistemas.cead.ufv.br/capes/dicionario/...           True   \n",
       "\n",
       "    decoded_word  word_in_url  \n",
       "0      algoritmo         True  \n",
       "1        binario         True  \n",
       "2          cinco         True  \n",
       "3  contabilidade         True  \n",
       "4            dez         True  "
      ]
     },
     "execution_count": 10,
     "metadata": {},
     "output_type": "execute_result"
    }
   ],
   "source": [
    "from unidecode import unidecode\n",
    "\n",
    "\n",
    "def contains_substring(url, word, min_length=3):\n",
    "    \"\"\"Check if the word or parts of it are in the URL\"\"\"\n",
    "    if pd.isna(url) or pd.isna(word):\n",
    "        return False\n",
    "\n",
    "    url = url.lower()\n",
    "\n",
    "    substrings = {\n",
    "        word[i:j]\n",
    "        for i in range(len(word))\n",
    "        for j in range(i + min_length, len(word) + 1)\n",
    "    }\n",
    "\n",
    "    return any(substring in url for substring in substrings)\n",
    "\n",
    "\n",
    "# Normalize the Word column\n",
    "uf_raw_metadata.loc[:, \"decoded_word\"] = uf_raw_metadata[\"Word\"].str.lower()\n",
    "uf_raw_metadata.loc[:, \"decoded_word\"] = uf_raw_metadata[\"decoded_word\"].apply(\n",
    "    unidecode  # Remove graphic signals\n",
    ")\n",
    "uf_raw_metadata.loc[:, \"decoded_word\"] = uf_raw_metadata[\"decoded_word\"].str.replace(\n",
    "    \" \", \"-\"\n",
    ")\n",
    "\n",
    "# Use contains_substrings to check if the URLs are matching the words\n",
    "uf_raw_metadata.loc[:, \"word_in_url\"] = uf_raw_metadata.apply(\n",
    "    lambda row: contains_substring(row[\"video_url\"], row[\"decoded_word\"], min_length=3),\n",
    "    axis=1,\n",
    ")\n",
    "\n",
    "uf_raw_metadata.head()"
   ]
  },
  {
   "cell_type": "code",
   "execution_count": 11,
   "metadata": {},
   "outputs": [
    {
     "name": "stdout",
     "output_type": "stream",
     "text": [
      "word_in_url\n",
      "True     919\n",
      "False     17\n",
      "Name: count, dtype: int64\n"
     ]
    }
   ],
   "source": [
    "print(uf_raw_metadata[\"word_in_url\"].value_counts())\n",
    "uf_metadata = uf_raw_metadata[uf_raw_metadata[\"word_in_url\"]]"
   ]
  },
  {
   "cell_type": "code",
   "execution_count": 12,
   "metadata": {},
   "outputs": [
    {
     "data": {
      "text/html": [
       "<div>\n",
       "<style scoped>\n",
       "    .dataframe tbody tr th:only-of-type {\n",
       "        vertical-align: middle;\n",
       "    }\n",
       "\n",
       "    .dataframe tbody tr th {\n",
       "        vertical-align: top;\n",
       "    }\n",
       "\n",
       "    .dataframe thead th {\n",
       "        text-align: right;\n",
       "    }\n",
       "</style>\n",
       "<table border=\"1\" class=\"dataframe\">\n",
       "  <thead>\n",
       "    <tr style=\"text-align: right;\">\n",
       "      <th></th>\n",
       "      <th>Word</th>\n",
       "      <th>category</th>\n",
       "      <th>example_pt</th>\n",
       "      <th>example_libras</th>\n",
       "      <th>video_url</th>\n",
       "      <th>hand_gesture</th>\n",
       "      <th>url_available</th>\n",
       "      <th>decoded_word</th>\n",
       "      <th>word_in_url</th>\n",
       "    </tr>\n",
       "  </thead>\n",
       "  <tbody>\n",
       "    <tr>\n",
       "      <th>326</th>\n",
       "      <td>Cogumelo</td>\n",
       "      <td>Natureza</td>\n",
       "      <td>Alguns cogumelos servem como alimento.</td>\n",
       "      <td>NaN</td>\n",
       "      <td>https://sistemas.cead.ufv.br/capes/dicionario/...</td>\n",
       "      <td>NaN</td>\n",
       "      <td>True</td>\n",
       "      <td>cogumelo</td>\n",
       "      <td>True</td>\n",
       "    </tr>\n",
       "    <tr>\n",
       "      <th>524</th>\n",
       "      <td>Cogumelo</td>\n",
       "      <td>Alimentos</td>\n",
       "      <td>Alguns cogumelos servem como alimento.</td>\n",
       "      <td>NaN</td>\n",
       "      <td>https://sistemas.cead.ufv.br/capes/dicionario/...</td>\n",
       "      <td>NaN</td>\n",
       "      <td>True</td>\n",
       "      <td>cogumelo</td>\n",
       "      <td>True</td>\n",
       "    </tr>\n",
       "  </tbody>\n",
       "</table>\n",
       "</div>"
      ],
      "text/plain": [
       "         Word   category                              example_pt  \\\n",
       "326  Cogumelo   Natureza  Alguns cogumelos servem como alimento.   \n",
       "524  Cogumelo  Alimentos  Alguns cogumelos servem como alimento.   \n",
       "\n",
       "    example_libras                                          video_url  \\\n",
       "326            NaN  https://sistemas.cead.ufv.br/capes/dicionario/...   \n",
       "524            NaN  https://sistemas.cead.ufv.br/capes/dicionario/...   \n",
       "\n",
       "    hand_gesture  url_available decoded_word  word_in_url  \n",
       "326          NaN           True     cogumelo         True  \n",
       "524          NaN           True     cogumelo         True  "
      ]
     },
     "execution_count": 12,
     "metadata": {},
     "output_type": "execute_result"
    }
   ],
   "source": [
    "uf_metadata[uf_metadata.duplicated(subset=[\"video_url\"], keep=False)].sort_values(\n",
    "    \"video_url\"\n",
    ")"
   ]
  },
  {
   "cell_type": "markdown",
   "metadata": {},
   "source": [
    "The table above shows that Cogumelo (mushroom) was set to two different categories (Natureza:Nature and Alimentos:Food), eventhough they have the same sign (URLs send to same video)."
   ]
  },
  {
   "cell_type": "code",
   "execution_count": 13,
   "metadata": {},
   "outputs": [
    {
     "data": {
      "text/html": [
       "<div>\n",
       "<style scoped>\n",
       "    .dataframe tbody tr th:only-of-type {\n",
       "        vertical-align: middle;\n",
       "    }\n",
       "\n",
       "    .dataframe tbody tr th {\n",
       "        vertical-align: top;\n",
       "    }\n",
       "\n",
       "    .dataframe thead th {\n",
       "        text-align: right;\n",
       "    }\n",
       "</style>\n",
       "<table border=\"1\" class=\"dataframe\">\n",
       "  <thead>\n",
       "    <tr style=\"text-align: right;\">\n",
       "      <th></th>\n",
       "      <th>Word</th>\n",
       "      <th>category</th>\n",
       "      <th>example_pt</th>\n",
       "      <th>example_libras</th>\n",
       "      <th>video_url</th>\n",
       "      <th>hand_gesture</th>\n",
       "      <th>url_available</th>\n",
       "      <th>decoded_word</th>\n",
       "      <th>word_in_url</th>\n",
       "    </tr>\n",
       "  </thead>\n",
       "  <tbody>\n",
       "    <tr>\n",
       "      <th>326</th>\n",
       "      <td>Cogumelo</td>\n",
       "      <td>Natureza</td>\n",
       "      <td>Alguns cogumelos servem como alimento.</td>\n",
       "      <td>NaN</td>\n",
       "      <td>https://sistemas.cead.ufv.br/capes/dicionario/...</td>\n",
       "      <td>NaN</td>\n",
       "      <td>True</td>\n",
       "      <td>cogumelo</td>\n",
       "      <td>True</td>\n",
       "    </tr>\n",
       "    <tr>\n",
       "      <th>524</th>\n",
       "      <td>Cogumelo</td>\n",
       "      <td>Alimentos</td>\n",
       "      <td>Alguns cogumelos servem como alimento.</td>\n",
       "      <td>NaN</td>\n",
       "      <td>https://sistemas.cead.ufv.br/capes/dicionario/...</td>\n",
       "      <td>NaN</td>\n",
       "      <td>True</td>\n",
       "      <td>cogumelo</td>\n",
       "      <td>True</td>\n",
       "    </tr>\n",
       "  </tbody>\n",
       "</table>\n",
       "</div>"
      ],
      "text/plain": [
       "         Word   category                              example_pt  \\\n",
       "326  Cogumelo   Natureza  Alguns cogumelos servem como alimento.   \n",
       "524  Cogumelo  Alimentos  Alguns cogumelos servem como alimento.   \n",
       "\n",
       "    example_libras                                          video_url  \\\n",
       "326            NaN  https://sistemas.cead.ufv.br/capes/dicionario/...   \n",
       "524            NaN  https://sistemas.cead.ufv.br/capes/dicionario/...   \n",
       "\n",
       "    hand_gesture  url_available decoded_word  word_in_url  \n",
       "326          NaN           True     cogumelo         True  \n",
       "524          NaN           True     cogumelo         True  "
      ]
     },
     "execution_count": 13,
     "metadata": {},
     "output_type": "execute_result"
    }
   ],
   "source": [
    "uf_metadata[uf_metadata.duplicated(subset=\"Word\", keep=False)]"
   ]
  },
  {
   "cell_type": "markdown",
   "metadata": {},
   "source": [
    "While checking for possible homographs, it's shown here that cogumelo is the only word that show twice in the dataset."
   ]
  },
  {
   "cell_type": "code",
   "execution_count": 14,
   "metadata": {},
   "outputs": [],
   "source": [
    "uf_metadata = uf_metadata.rename(columns={\"Word\": \"label\"})"
   ]
  },
  {
   "cell_type": "code",
   "execution_count": 15,
   "metadata": {},
   "outputs": [
    {
     "data": {
      "text/html": [
       "<div>\n",
       "<style scoped>\n",
       "    .dataframe tbody tr th:only-of-type {\n",
       "        vertical-align: middle;\n",
       "    }\n",
       "\n",
       "    .dataframe tbody tr th {\n",
       "        vertical-align: top;\n",
       "    }\n",
       "\n",
       "    .dataframe thead th {\n",
       "        text-align: right;\n",
       "    }\n",
       "</style>\n",
       "<table border=\"1\" class=\"dataframe\">\n",
       "  <thead>\n",
       "    <tr style=\"text-align: right;\">\n",
       "      <th></th>\n",
       "      <th>label</th>\n",
       "      <th>category</th>\n",
       "      <th>example_pt</th>\n",
       "      <th>example_libras</th>\n",
       "      <th>video_url</th>\n",
       "      <th>hand_gesture</th>\n",
       "      <th>url_available</th>\n",
       "      <th>decoded_word</th>\n",
       "      <th>word_in_url</th>\n",
       "    </tr>\n",
       "  </thead>\n",
       "  <tbody>\n",
       "    <tr>\n",
       "      <th>0</th>\n",
       "      <td>Algoritmo</td>\n",
       "      <td>Números</td>\n",
       "      <td>NaN</td>\n",
       "      <td>NaN</td>\n",
       "      <td>https://sistemas.cead.ufv.br/capes/dicionario/...</td>\n",
       "      <td>NaN</td>\n",
       "      <td>True</td>\n",
       "      <td>algoritmo</td>\n",
       "      <td>True</td>\n",
       "    </tr>\n",
       "    <tr>\n",
       "      <th>1</th>\n",
       "      <td>Binário</td>\n",
       "      <td>Números</td>\n",
       "      <td>NaN</td>\n",
       "      <td>NaN</td>\n",
       "      <td>https://sistemas.cead.ufv.br/capes/dicionario/...</td>\n",
       "      <td>NaN</td>\n",
       "      <td>True</td>\n",
       "      <td>binario</td>\n",
       "      <td>True</td>\n",
       "    </tr>\n",
       "    <tr>\n",
       "      <th>2</th>\n",
       "      <td>Cinco</td>\n",
       "      <td>Números</td>\n",
       "      <td>Minha casa é a número cinco.</td>\n",
       "      <td>MINHA CASA NUMERO 5.</td>\n",
       "      <td>https://sistemas.cead.ufv.br/capes/dicionario/...</td>\n",
       "      <td>https://sistemas.cead.ufv.br/capes/dicionario/...</td>\n",
       "      <td>True</td>\n",
       "      <td>cinco</td>\n",
       "      <td>True</td>\n",
       "    </tr>\n",
       "    <tr>\n",
       "      <th>3</th>\n",
       "      <td>Contabilidade</td>\n",
       "      <td>Números</td>\n",
       "      <td>Tenho vontade de fazer o curso de contabilidade.</td>\n",
       "      <td>EU QUERER FUTURO ESTUDAR CURSO CONTABILIDADE.</td>\n",
       "      <td>https://sistemas.cead.ufv.br/capes/dicionario/...</td>\n",
       "      <td>https://sistemas.cead.ufv.br/capes/dicionario/...</td>\n",
       "      <td>True</td>\n",
       "      <td>contabilidade</td>\n",
       "      <td>True</td>\n",
       "    </tr>\n",
       "    <tr>\n",
       "      <th>4</th>\n",
       "      <td>Dez</td>\n",
       "      <td>Números</td>\n",
       "      <td>Tenho mais de dez tios.</td>\n",
       "      <td>EU TER DEZ TIO.</td>\n",
       "      <td>https://sistemas.cead.ufv.br/capes/dicionario/...</td>\n",
       "      <td>https://sistemas.cead.ufv.br/capes/dicionario/...</td>\n",
       "      <td>True</td>\n",
       "      <td>dez</td>\n",
       "      <td>True</td>\n",
       "    </tr>\n",
       "  </tbody>\n",
       "</table>\n",
       "</div>"
      ],
      "text/plain": [
       "           label category                                        example_pt  \\\n",
       "0      Algoritmo  Números                                               NaN   \n",
       "1        Binário  Números                                               NaN   \n",
       "2          Cinco  Números                      Minha casa é a número cinco.   \n",
       "3  Contabilidade  Números  Tenho vontade de fazer o curso de contabilidade.   \n",
       "4            Dez  Números                           Tenho mais de dez tios.   \n",
       "\n",
       "                                  example_libras  \\\n",
       "0                                            NaN   \n",
       "1                                            NaN   \n",
       "2                           MINHA CASA NUMERO 5.   \n",
       "3  EU QUERER FUTURO ESTUDAR CURSO CONTABILIDADE.   \n",
       "4                                EU TER DEZ TIO.   \n",
       "\n",
       "                                           video_url  \\\n",
       "0  https://sistemas.cead.ufv.br/capes/dicionario/...   \n",
       "1  https://sistemas.cead.ufv.br/capes/dicionario/...   \n",
       "2  https://sistemas.cead.ufv.br/capes/dicionario/...   \n",
       "3  https://sistemas.cead.ufv.br/capes/dicionario/...   \n",
       "4  https://sistemas.cead.ufv.br/capes/dicionario/...   \n",
       "\n",
       "                                        hand_gesture  url_available  \\\n",
       "0                                                NaN           True   \n",
       "1                                                NaN           True   \n",
       "2  https://sistemas.cead.ufv.br/capes/dicionario/...           True   \n",
       "3  https://sistemas.cead.ufv.br/capes/dicionario/...           True   \n",
       "4  https://sistemas.cead.ufv.br/capes/dicionario/...           True   \n",
       "\n",
       "    decoded_word  word_in_url  \n",
       "0      algoritmo         True  \n",
       "1        binario         True  \n",
       "2          cinco         True  \n",
       "3  contabilidade         True  \n",
       "4            dez         True  "
      ]
     },
     "execution_count": 15,
     "metadata": {},
     "output_type": "execute_result"
    }
   ],
   "source": [
    "uf_metadata.head()"
   ]
  },
  {
   "cell_type": "code",
   "execution_count": 16,
   "metadata": {},
   "outputs": [],
   "source": [
    "uf_metadata.to_csv(\"data/raw/UFV/metadata.csv\")"
   ]
  },
  {
   "cell_type": "markdown",
   "metadata": {},
   "source": [
    "# Combine into one `metadata_combined.csv`"
   ]
  },
  {
   "cell_type": "code",
   "execution_count": 17,
   "metadata": {},
   "outputs": [],
   "source": [
    "ne_metadata = pd.read_csv(\"data/raw/INES/metadata.csv\")\n",
    "sb_metadata = pd.read_csv(\"data/raw/SignBank/metadata.csv\")\n",
    "vl_metadata = pd.read_csv(\"data/raw/V-Librasil/metadata.csv\")\n",
    "uf_metadata = pd.read_csv(\"data/raw/UFV/metadata.csv\")"
   ]
  },
  {
   "cell_type": "code",
   "execution_count": 18,
   "metadata": {},
   "outputs": [],
   "source": [
    "metadata_combined = pd.concat([ne_metadata, sb_metadata, vl_metadata, uf_metadata])\n",
    "metadata_combined.to_csv(\"data/raw/combined/metadata_combined_unclean.csv\", index=False)"
   ]
  }
 ],
 "metadata": {
  "kernelspec": {
   "display_name": ".venv",
   "language": "python",
   "name": "python3"
  },
  "language_info": {
   "codemirror_mode": {
    "name": "ipython",
    "version": 3
   },
   "file_extension": ".py",
   "mimetype": "text/x-python",
   "name": "python",
   "nbconvert_exporter": "python",
   "pygments_lexer": "ipython3",
   "version": "3.11.8"
  }
 },
 "nbformat": 4,
 "nbformat_minor": 2
}
