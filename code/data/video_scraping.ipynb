{
 "cells": [
  {
   "cell_type": "markdown",
   "metadata": {},
   "source": [
    "# Video Scraping from Links\n",
    "- This notebook is for when we have collected labels and links already\n",
    "\n",
    "- Downloading all videos takes a long time, so we will only scrape selected videos\n",
    "\n",
    "- With this notebook, we can use `download_videos.py` to:\n",
    "    1. Download all videos for one word from one data source \n",
    "        - (for review during the data organisation and cleaning)\n",
    "    2. Download all videos for one word from all data sources \n",
    "        - (for review during the data organisation and cleaning)\n",
    "    3. Download all videos for a collection of words from all data source \n",
    "        - (for creating our raw combined dataset, after we have decided our target words)"
   ]
  },
  {
   "cell_type": "code",
   "execution_count": 3,
   "metadata": {},
   "outputs": [],
   "source": [
    "import pathlib\n",
    "import os\n",
    "import pandas as pd\n",
    "import requests\n",
    "import download_videos"
   ]
  },
  {
   "cell_type": "code",
   "execution_count": 4,
   "metadata": {},
   "outputs": [
    {
     "data": {
      "text/plain": [
       "'/home/ben/projects/SaoPauloBrazilChapter_BrazilianSignLanguage'"
      ]
     },
     "execution_count": 4,
     "metadata": {},
     "output_type": "execute_result"
    }
   ],
   "source": [
    "# change working directory to the project root directory\n",
    "current_dir = os.getcwd()\n",
    "os.chdir(current_dir + '/../../')\n",
    "# this should be the project root directory\n",
    "os.getcwd()"
   ]
  },
  {
   "cell_type": "markdown",
   "metadata": {},
   "source": [
    "## *for review during the data organisation and cleaning*"
   ]
  },
  {
   "cell_type": "markdown",
   "metadata": {},
   "source": [
    "### 1. Download all videos for one word from one data source"
   ]
  },
  {
   "cell_type": "markdown",
   "metadata": {},
   "source": [
    "Set the data source"
   ]
  },
  {
   "cell_type": "code",
   "execution_count": 5,
   "metadata": {},
   "outputs": [],
   "source": [
    "# choose from 'INES, 'V-Librasil', 'SignBank' using 1, 2, 3 (on linux paths are case sensitive)\n",
    "data_source_key = 1\n",
    "data_source = {1: 'INES', 2: 'V-Librasil', 3: 'SignBank'}[1]\n",
    "# get metadata csv path from data_source\n",
    "metadata_csv_path = pathlib.Path(f'data/raw/{data_source}/metadata.csv')\n",
    "metadata_csv = pd.read_csv(metadata_csv_path)"
   ]
  },
  {
   "cell_type": "markdown",
   "metadata": {},
   "source": [
    "Set the word"
   ]
  },
  {
   "cell_type": "code",
   "execution_count": 14,
   "metadata": {},
   "outputs": [
    {
     "data": {
      "text/html": [
       "<div>\n",
       "<style scoped>\n",
       "    .dataframe tbody tr th:only-of-type {\n",
       "        vertical-align: middle;\n",
       "    }\n",
       "\n",
       "    .dataframe tbody tr th {\n",
       "        vertical-align: top;\n",
       "    }\n",
       "\n",
       "    .dataframe thead th {\n",
       "        text-align: right;\n",
       "    }\n",
       "</style>\n",
       "<table border=\"1\" class=\"dataframe\">\n",
       "  <thead>\n",
       "    <tr style=\"text-align: right;\">\n",
       "      <th></th>\n",
       "      <th>label</th>\n",
       "      <th>video_url</th>\n",
       "      <th>file_exists</th>\n",
       "      <th>letter</th>\n",
       "      <th>assuntos</th>\n",
       "      <th>acepção</th>\n",
       "      <th>exemplo</th>\n",
       "      <th>exemplo libras</th>\n",
       "      <th>classe gramatical</th>\n",
       "      <th>origem</th>\n",
       "    </tr>\n",
       "  </thead>\n",
       "  <tbody>\n",
       "    <tr>\n",
       "      <th>663</th>\n",
       "      <td>BABA</td>\n",
       "      <td>https://www.ines.gov.br/dicionario-de-libras/p...</td>\n",
       "      <td>False</td>\n",
       "      <td>B</td>\n",
       "      <td>MATÉRIA/SUBSTÂNCIA</td>\n",
       "      <td>Saliva que corre da boca.</td>\n",
       "      <td>A baba do cachorro é horrível.</td>\n",
       "      <td>BABA CACHORRO HORRÍVEL.</td>\n",
       "      <td>SUBSTANTIVO</td>\n",
       "      <td>Nacional</td>\n",
       "    </tr>\n",
       "  </tbody>\n",
       "</table>\n",
       "</div>"
      ],
      "text/plain": [
       "    label                                          video_url  file_exists  \\\n",
       "663  BABA  https://www.ines.gov.br/dicionario-de-libras/p...        False   \n",
       "\n",
       "    letter            assuntos                    acepção  \\\n",
       "663      B  MATÉRIA/SUBSTÂNCIA  Saliva que corre da boca.   \n",
       "\n",
       "                            exemplo           exemplo libras  \\\n",
       "663  A baba do cachorro é horrível.  BABA CACHORRO HORRÍVEL.   \n",
       "\n",
       "    classe gramatical    origem  \n",
       "663       SUBSTANTIVO  Nacional  "
      ]
     },
     "execution_count": 14,
     "metadata": {},
     "output_type": "execute_result"
    }
   ],
   "source": [
    "# choose word that exists in the data source metadata csv file\n",
    "word = 'BABA'\n",
    "\n",
    "if word not in metadata_csv['label'].values:\n",
    "    raise ValueError(f\"Word '{word}' not found in metadata csv file\")\n",
    "\n",
    "# get video links from metadata csv\n",
    "word_metadata = metadata_csv[metadata_csv['label'] == word]\n",
    "\n",
    "if len(video_links) == 0:\n",
    "    raise ValueError(f\"No video links found for word '{word}' in {data_source} data source\")\n",
    "\n",
    "word_metadata"
   ]
  },
  {
   "cell_type": "markdown",
   "metadata": {},
   "source": [
    "Download the video\n",
    "- during the review stage, videos will be downloaded to the `data/raw/{data_source}/videos/review` folder\n",
    "- during the creation of the (raw) combined dataset, videos will be downloaded to the `data/raw/{data_source}/videos/` folder"
   ]
  },
  {
   "cell_type": "markdown",
   "metadata": {},
   "source": [
    "Set save path"
   ]
  },
  {
   "cell_type": "code",
   "execution_count": 11,
   "metadata": {},
   "outputs": [],
   "source": [
    "# during the review stage, videos will be downloaded to the `data/raw/{data_source}/videos/review` folder\n",
    "# during the creation of the raw combined dataset, videos will be downloaded to the `data/raw/(data_source)/videos` folder\n",
    "\n",
    "# set paths and folders\n",
    "review_videos_path = pathlib.Path(f'data/raw/{data_source}/videos/review')\n",
    "\n",
    "if not review_videos_path.exists():\n",
    "    os.makedirs(review_videos_path)"
   ]
  },
  {
   "cell_type": "markdown",
   "metadata": {},
   "source": [
    "Download video(s)"
   ]
  },
  {
   "cell_type": "code",
   "execution_count": null,
   "metadata": {},
   "outputs": [],
   "source": []
  },
  {
   "cell_type": "markdown",
   "metadata": {},
   "source": [
    "### 2. Download all videos for one word from all data sources"
   ]
  },
  {
   "cell_type": "code",
   "execution_count": null,
   "metadata": {},
   "outputs": [],
   "source": []
  },
  {
   "cell_type": "markdown",
   "metadata": {},
   "source": [
    "## *for creating our combined raw dataset, after we have decided our target words*"
   ]
  },
  {
   "cell_type": "markdown",
   "metadata": {},
   "source": [
    "### 3. Download all videos for a collection of words from all data sources"
   ]
  },
  {
   "cell_type": "code",
   "execution_count": null,
   "metadata": {},
   "outputs": [],
   "source": []
  }
 ],
 "metadata": {
  "kernelspec": {
   "display_name": ".venv",
   "language": "python",
   "name": "python3"
  },
  "language_info": {
   "codemirror_mode": {
    "name": "ipython",
    "version": 3
   },
   "file_extension": ".py",
   "mimetype": "text/x-python",
   "name": "python",
   "nbconvert_exporter": "python",
   "pygments_lexer": "ipython3",
   "version": "3.11.8"
  }
 },
 "nbformat": 4,
 "nbformat_minor": 2
}
