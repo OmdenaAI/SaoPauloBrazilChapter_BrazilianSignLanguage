{
 "cells": [
  {
   "cell_type": "markdown",
   "metadata": {},
   "source": [
    "# Video Scraping from Links\n",
    "- This notebook is for when we have collected labels and links already\n",
    "\n",
    "- Downloading all videos takes a long time, so we will only scrape selected videos\n",
    "\n",
    "- With this notebook, we can use `download_videos.py` to:\n",
    "    1. Download all videos for one word from one data source \n",
    "        - (for review during the data organisation and cleaning)\n",
    "    2. Download all videos for one word from all data sources \n",
    "        - (for review during the data organisation and cleaning)\n",
    "    3. Download all videos for a collection of words from all data source \n",
    "        - (for creating our raw combined dataset, after we have decided our target words)"
   ]
  },
  {
   "cell_type": "code",
   "execution_count": 2,
   "metadata": {},
   "outputs": [],
   "source": [
    "import pathlib\n",
    "import os\n",
    "import pandas as pd\n",
    "import requests\n",
    "import download_videos as dv"
   ]
  },
  {
   "cell_type": "code",
   "execution_count": 3,
   "metadata": {},
   "outputs": [
    {
     "data": {
      "text/plain": [
       "'/home/ben/projects/SaoPauloBrazilChapter_BrazilianSignLanguage'"
      ]
     },
     "execution_count": 3,
     "metadata": {},
     "output_type": "execute_result"
    }
   ],
   "source": [
    "# change working directory to the project root directory\n",
    "current_dir = os.getcwd()\n",
    "os.chdir(current_dir + '/../../')\n",
    "# this should be the project root directory\n",
    "os.getcwd()"
   ]
  },
  {
   "cell_type": "markdown",
   "metadata": {},
   "source": [
    "## *for review during the data organisation and cleaning*"
   ]
  },
  {
   "cell_type": "code",
   "execution_count": 3,
   "metadata": {},
   "outputs": [],
   "source": [
    "# use the unclean metadata csv file for now\n",
    "metadata_df = pd.read_csv('data/raw/combined/metadata_combined_unclean.csv')"
   ]
  },
  {
   "cell_type": "markdown",
   "metadata": {},
   "source": [
    "### 1. Download all videos for one word from one data source"
   ]
  },
  {
   "cell_type": "markdown",
   "metadata": {},
   "source": [
    "Set the data source"
   ]
  },
  {
   "cell_type": "code",
   "execution_count": 4,
   "metadata": {},
   "outputs": [],
   "source": [
    "# choose from 'INES, 'V-Librasil', 'SignBank' or 'UFV' using 'ne', 'vl', 'sb' or 'uf'\n",
    "data_source_key = 'ne'"
   ]
  },
  {
   "cell_type": "markdown",
   "metadata": {},
   "source": [
    "Set the label for the word/video"
   ]
  },
  {
   "cell_type": "code",
   "execution_count": 5,
   "metadata": {},
   "outputs": [],
   "source": [
    "# choose word that exists in the metadata csv file\n",
    "label = 'ABSOLVER'"
   ]
  },
  {
   "cell_type": "markdown",
   "metadata": {},
   "source": [
    "Download the video\n",
    "- during the review stage, videos will be downloaded to the `data/raw/{data_source}/videos/` folder\n",
    "- during the creation of the (raw) combined dataset, videos will be downloaded to the `data/raw/combined/videos/` folder"
   ]
  },
  {
   "cell_type": "markdown",
   "metadata": {},
   "source": [
    "Download the video(s) to that Data Source's `/video` folder, with the filename `{label}_{i}.mp4`"
   ]
  },
  {
   "cell_type": "code",
   "execution_count": 6,
   "metadata": {},
   "outputs": [
    {
     "name": "stdout",
     "output_type": "stream",
     "text": [
      "Downloading video 1 from https://www.ines.gov.br/dicionario-de-libras/public/media/palavras/videos/absolverSm_Prog001.mp4\n",
      "Video successfully downloaded to data/raw/INES/videos/ABSOLVER_ne_1.mp4\n",
      "\n"
     ]
    }
   ],
   "source": [
    "dv.download_videos_from_metadata(\n",
    "    label = label,\n",
    "    metadata = metadata_df,\n",
    "    data_source_key = data_source_key,\n",
    "    verbose=True,\n",
    "    verify_ssl=True\n",
    ")"
   ]
  },
  {
   "cell_type": "markdown",
   "metadata": {},
   "source": [
    "### 2. Download all videos for one word from all data sources"
   ]
  },
  {
   "cell_type": "code",
   "execution_count": 7,
   "metadata": {},
   "outputs": [],
   "source": [
    "label = 'ABACATE'"
   ]
  },
  {
   "cell_type": "code",
   "execution_count": 8,
   "metadata": {},
   "outputs": [
    {
     "name": "stdout",
     "output_type": "stream",
     "text": [
      "Downloading video 1 from https://www.ines.gov.br/dicionario-de-libras/public/media/palavras/videos/abacateSm_Prog001.mp4\n",
      "Video successfully downloaded to data/raw/INES/videos/ABACATE_ne_1.mp4\n",
      "\n",
      "Downloading video 2 from https://videos.nals.cce.ufsc.br/SignBank/Vídeos/ABACATE.mp4\n",
      "Error downloading video from https://videos.nals.cce.ufsc.br/SignBank/Vídeos/ABACATE.mp4: HTTPSConnectionPool(host='videos.nals.cce.ufsc.br', port=443): Max retries exceeded with url: /SignBank/V%C3%ADdeos/ABACATE.mp4 (Caused by SSLError(SSLCertVerificationError(1, '[SSL: CERTIFICATE_VERIFY_FAILED] certificate verify failed: unable to get local issuer certificate (_ssl.c:1006)')))\n",
      "\n"
     ]
    }
   ],
   "source": [
    "dv.download_videos_from_metadata(\n",
    "    label = label,\n",
    "    metadata = metadata_df,\n",
    "    data_source_key = None,\n",
    "    verbose=True,\n",
    "    verify_ssl=True\n",
    ")"
   ]
  },
  {
   "cell_type": "markdown",
   "metadata": {},
   "source": [
    "## *for creating our combined raw dataset, after we have decided our target words*"
   ]
  },
  {
   "cell_type": "markdown",
   "metadata": {},
   "source": [
    "### 3. Download all videos for a collection of words from all data sources"
   ]
  },
  {
   "cell_type": "markdown",
   "metadata": {},
   "source": [
    "define list of target words "
   ]
  },
  {
   "cell_type": "code",
   "execution_count": 49,
   "metadata": {},
   "outputs": [],
   "source": [
    "metadata_df = pd.read_csv('data/raw/combined/metadata_combined_unclean.csv')\n",
    "metadata_df.label = metadata_df.label.str.upper().str.strip()"
   ]
  },
  {
   "cell_type": "code",
   "execution_count": 50,
   "metadata": {},
   "outputs": [
    {
     "data": {
      "text/plain": [
       "label\n",
       "ABACAXI    7\n",
       "CEBOLA     6\n",
       "BANANA     5\n",
       "CAFÉ       5\n",
       "CARNE      5\n",
       "Name: count, dtype: int64"
      ]
     },
     "execution_count": 50,
     "metadata": {},
     "output_type": "execute_result"
    }
   ],
   "source": [
    "sample_words = ['ABACAXI', 'BANANA', 'CAFÉ', 'CARNE', 'CEBOLA']\n",
    "ne_sb_vl_sample_metadata = metadata_df[metadata_df.label.isin(sample_words)].sort_values(['label', 'data_source']).reset_index(drop=True)\n",
    "ne_sb_vl_sample_metadata.label.value_counts()"
   ]
  },
  {
   "cell_type": "code",
   "execution_count": 51,
   "metadata": {},
   "outputs": [
    {
     "data": {
      "text/plain": [
       "label\n",
       "ABACAXI    5\n",
       "BANANA     5\n",
       "CAFÉ       5\n",
       "CARNE      5\n",
       "CEBOLA     5\n",
       "Name: count, dtype: int64"
      ]
     },
     "execution_count": 51,
     "metadata": {},
     "output_type": "execute_result"
    }
   ],
   "source": [
    "for index in [2, 3, 24]:\n",
    "    ne_sb_vl_sample_metadata = ne_sb_vl_sample_metadata.drop(index)\n",
    "ne_sb_vl_sample_metadata.label.value_counts()"
   ]
  },
  {
   "cell_type": "markdown",
   "metadata": {},
   "source": [
    "download videos"
   ]
  },
  {
   "cell_type": "code",
   "execution_count": 52,
   "metadata": {},
   "outputs": [
    {
     "name": "stdout",
     "output_type": "stream",
     "text": [
      "-----\n",
      "Downloading videos for ABACAXI\n",
      "-----\n",
      "Downloading video 1 from https://www.ines.gov.br/dicionario-de-libras/public/media/palavras/videos/abacaxiSm_Prog001.mp4\n"
     ]
    },
    {
     "name": "stderr",
     "output_type": "stream",
     "text": [
      "/home/ben/projects/SaoPauloBrazilChapter_BrazilianSignLanguage/.venv/lib/python3.11/site-packages/urllib3/connectionpool.py:1097: InsecureRequestWarning: Unverified HTTPS request is being made to host 'www.ines.gov.br'. Adding certificate verification is strongly advised. See: https://urllib3.readthedocs.io/en/latest/advanced-usage.html#tls-warnings\n",
      "  warnings.warn(\n"
     ]
    },
    {
     "name": "stdout",
     "output_type": "stream",
     "text": [
      "Video successfully downloaded to data/raw/combined/videos/ABACAXI_ne_1.mp4\n",
      "Downloading video 2 from https://videos.nals.cce.ufsc.br/SignBank/Vídeos/ABACAXI.mp4\n"
     ]
    },
    {
     "name": "stderr",
     "output_type": "stream",
     "text": [
      "/home/ben/projects/SaoPauloBrazilChapter_BrazilianSignLanguage/.venv/lib/python3.11/site-packages/urllib3/connectionpool.py:1097: InsecureRequestWarning: Unverified HTTPS request is being made to host 'videos.nals.cce.ufsc.br'. Adding certificate verification is strongly advised. See: https://urllib3.readthedocs.io/en/latest/advanced-usage.html#tls-warnings\n",
      "  warnings.warn(\n"
     ]
    },
    {
     "name": "stdout",
     "output_type": "stream",
     "text": [
      "Video successfully downloaded to data/raw/combined/videos/ABACAXI_sb_2.mp4\n",
      "Downloading video 3 from https://libras.cin.ufpe.br/storage/videos/20210127091036_6011583c87073.mp4\n"
     ]
    },
    {
     "name": "stderr",
     "output_type": "stream",
     "text": [
      "/home/ben/projects/SaoPauloBrazilChapter_BrazilianSignLanguage/.venv/lib/python3.11/site-packages/urllib3/connectionpool.py:1097: InsecureRequestWarning: Unverified HTTPS request is being made to host 'libras.cin.ufpe.br'. Adding certificate verification is strongly advised. See: https://urllib3.readthedocs.io/en/latest/advanced-usage.html#tls-warnings\n",
      "  warnings.warn(\n"
     ]
    },
    {
     "name": "stdout",
     "output_type": "stream",
     "text": [
      "Video successfully downloaded to data/raw/combined/videos/ABACAXI_vl_3.mp4\n",
      "Downloading video 4 from https://libras.cin.ufpe.br/storage/videos/20210128115432_601378e8d032d.mp4\n"
     ]
    },
    {
     "name": "stderr",
     "output_type": "stream",
     "text": [
      "/home/ben/projects/SaoPauloBrazilChapter_BrazilianSignLanguage/.venv/lib/python3.11/site-packages/urllib3/connectionpool.py:1097: InsecureRequestWarning: Unverified HTTPS request is being made to host 'libras.cin.ufpe.br'. Adding certificate verification is strongly advised. See: https://urllib3.readthedocs.io/en/latest/advanced-usage.html#tls-warnings\n",
      "  warnings.warn(\n"
     ]
    },
    {
     "name": "stdout",
     "output_type": "stream",
     "text": [
      "Video successfully downloaded to data/raw/combined/videos/ABACAXI_vl_4.mp4\n",
      "Downloading video 5 from https://libras.cin.ufpe.br/storage/videos/20210929043133_6154bf1508f4a.mp4\n"
     ]
    },
    {
     "name": "stderr",
     "output_type": "stream",
     "text": [
      "/home/ben/projects/SaoPauloBrazilChapter_BrazilianSignLanguage/.venv/lib/python3.11/site-packages/urllib3/connectionpool.py:1097: InsecureRequestWarning: Unverified HTTPS request is being made to host 'libras.cin.ufpe.br'. Adding certificate verification is strongly advised. See: https://urllib3.readthedocs.io/en/latest/advanced-usage.html#tls-warnings\n",
      "  warnings.warn(\n"
     ]
    },
    {
     "name": "stdout",
     "output_type": "stream",
     "text": [
      "Video successfully downloaded to data/raw/combined/videos/ABACAXI_vl_5.mp4\n",
      "-----\n",
      "Downloading videos for BANANA\n",
      "-----\n",
      "Downloading video 1 from https://www.ines.gov.br/dicionario-de-libras/public/media/palavras/videos/bananaSm_Prog001.mp4\n"
     ]
    },
    {
     "name": "stderr",
     "output_type": "stream",
     "text": [
      "/home/ben/projects/SaoPauloBrazilChapter_BrazilianSignLanguage/.venv/lib/python3.11/site-packages/urllib3/connectionpool.py:1097: InsecureRequestWarning: Unverified HTTPS request is being made to host 'www.ines.gov.br'. Adding certificate verification is strongly advised. See: https://urllib3.readthedocs.io/en/latest/advanced-usage.html#tls-warnings\n",
      "  warnings.warn(\n"
     ]
    },
    {
     "name": "stdout",
     "output_type": "stream",
     "text": [
      "Video successfully downloaded to data/raw/combined/videos/BANANA_ne_1.mp4\n",
      "Downloading video 2 from https://videos.nals.cce.ufsc.br/SignBank/V%C3%ADdeos/BANANA.mp4\n"
     ]
    },
    {
     "name": "stderr",
     "output_type": "stream",
     "text": [
      "/home/ben/projects/SaoPauloBrazilChapter_BrazilianSignLanguage/.venv/lib/python3.11/site-packages/urllib3/connectionpool.py:1097: InsecureRequestWarning: Unverified HTTPS request is being made to host 'videos.nals.cce.ufsc.br'. Adding certificate verification is strongly advised. See: https://urllib3.readthedocs.io/en/latest/advanced-usage.html#tls-warnings\n",
      "  warnings.warn(\n"
     ]
    },
    {
     "name": "stdout",
     "output_type": "stream",
     "text": [
      "Video successfully downloaded to data/raw/combined/videos/BANANA_sb_2.mp4\n",
      "Downloading video 3 from https://libras.cin.ufpe.br/storage/videos/20201222122443_5fe20fbb47921.mp4\n"
     ]
    },
    {
     "name": "stderr",
     "output_type": "stream",
     "text": [
      "/home/ben/projects/SaoPauloBrazilChapter_BrazilianSignLanguage/.venv/lib/python3.11/site-packages/urllib3/connectionpool.py:1097: InsecureRequestWarning: Unverified HTTPS request is being made to host 'libras.cin.ufpe.br'. Adding certificate verification is strongly advised. See: https://urllib3.readthedocs.io/en/latest/advanced-usage.html#tls-warnings\n",
      "  warnings.warn(\n"
     ]
    },
    {
     "name": "stdout",
     "output_type": "stream",
     "text": [
      "Video successfully downloaded to data/raw/combined/videos/BANANA_vl_3.mp4\n",
      "Downloading video 4 from https://libras.cin.ufpe.br/storage/videos/20201222122443_5fe20fbb554a7.mp4\n"
     ]
    },
    {
     "name": "stderr",
     "output_type": "stream",
     "text": [
      "/home/ben/projects/SaoPauloBrazilChapter_BrazilianSignLanguage/.venv/lib/python3.11/site-packages/urllib3/connectionpool.py:1097: InsecureRequestWarning: Unverified HTTPS request is being made to host 'libras.cin.ufpe.br'. Adding certificate verification is strongly advised. See: https://urllib3.readthedocs.io/en/latest/advanced-usage.html#tls-warnings\n",
      "  warnings.warn(\n"
     ]
    },
    {
     "name": "stdout",
     "output_type": "stream",
     "text": [
      "Video successfully downloaded to data/raw/combined/videos/BANANA_vl_4.mp4\n",
      "Downloading video 5 from https://libras.cin.ufpe.br/storage/videos/20210329110319_6061de2742ee7.mp4\n"
     ]
    },
    {
     "name": "stderr",
     "output_type": "stream",
     "text": [
      "/home/ben/projects/SaoPauloBrazilChapter_BrazilianSignLanguage/.venv/lib/python3.11/site-packages/urllib3/connectionpool.py:1097: InsecureRequestWarning: Unverified HTTPS request is being made to host 'libras.cin.ufpe.br'. Adding certificate verification is strongly advised. See: https://urllib3.readthedocs.io/en/latest/advanced-usage.html#tls-warnings\n",
      "  warnings.warn(\n"
     ]
    },
    {
     "name": "stdout",
     "output_type": "stream",
     "text": [
      "Video successfully downloaded to data/raw/combined/videos/BANANA_vl_5.mp4\n",
      "-----\n",
      "Downloading videos for CAFÉ\n",
      "-----\n",
      "Downloading video 1 from https://www.ines.gov.br/dicionario-de-libras/public/media/palavras/videos/cafeSm_Prog001.mp4\n"
     ]
    },
    {
     "name": "stderr",
     "output_type": "stream",
     "text": [
      "/home/ben/projects/SaoPauloBrazilChapter_BrazilianSignLanguage/.venv/lib/python3.11/site-packages/urllib3/connectionpool.py:1097: InsecureRequestWarning: Unverified HTTPS request is being made to host 'www.ines.gov.br'. Adding certificate verification is strongly advised. See: https://urllib3.readthedocs.io/en/latest/advanced-usage.html#tls-warnings\n",
      "  warnings.warn(\n"
     ]
    },
    {
     "name": "stdout",
     "output_type": "stream",
     "text": [
      "Video successfully downloaded to data/raw/combined/videos/CAFÉ_ne_1.mp4\n",
      "Downloading video 2 from https://videos.nals.cce.ufsc.br/SignBank/V%C3%ADdeos/CAF%C3%89.mp4\n"
     ]
    },
    {
     "name": "stderr",
     "output_type": "stream",
     "text": [
      "/home/ben/projects/SaoPauloBrazilChapter_BrazilianSignLanguage/.venv/lib/python3.11/site-packages/urllib3/connectionpool.py:1097: InsecureRequestWarning: Unverified HTTPS request is being made to host 'videos.nals.cce.ufsc.br'. Adding certificate verification is strongly advised. See: https://urllib3.readthedocs.io/en/latest/advanced-usage.html#tls-warnings\n",
      "  warnings.warn(\n"
     ]
    },
    {
     "name": "stdout",
     "output_type": "stream",
     "text": [
      "Video successfully downloaded to data/raw/combined/videos/CAFÉ_sb_2.mp4\n",
      "Downloading video 3 from https://libras.cin.ufpe.br/storage/videos/20210126070737_601092a939fcf.mp4\n"
     ]
    },
    {
     "name": "stderr",
     "output_type": "stream",
     "text": [
      "/home/ben/projects/SaoPauloBrazilChapter_BrazilianSignLanguage/.venv/lib/python3.11/site-packages/urllib3/connectionpool.py:1097: InsecureRequestWarning: Unverified HTTPS request is being made to host 'libras.cin.ufpe.br'. Adding certificate verification is strongly advised. See: https://urllib3.readthedocs.io/en/latest/advanced-usage.html#tls-warnings\n",
      "  warnings.warn(\n"
     ]
    },
    {
     "name": "stdout",
     "output_type": "stream",
     "text": [
      "Video successfully downloaded to data/raw/combined/videos/CAFÉ_vl_3.mp4\n",
      "Downloading video 4 from https://libras.cin.ufpe.br/storage/videos/20210411080241_6072d751c1a00.mp4\n"
     ]
    },
    {
     "name": "stderr",
     "output_type": "stream",
     "text": [
      "/home/ben/projects/SaoPauloBrazilChapter_BrazilianSignLanguage/.venv/lib/python3.11/site-packages/urllib3/connectionpool.py:1097: InsecureRequestWarning: Unverified HTTPS request is being made to host 'libras.cin.ufpe.br'. Adding certificate verification is strongly advised. See: https://urllib3.readthedocs.io/en/latest/advanced-usage.html#tls-warnings\n",
      "  warnings.warn(\n"
     ]
    },
    {
     "name": "stdout",
     "output_type": "stream",
     "text": [
      "Video successfully downloaded to data/raw/combined/videos/CAFÉ_vl_4.mp4\n",
      "Downloading video 5 from https://libras.cin.ufpe.br/storage/videos/20210613113637_60c617f5a4e11.mp4\n"
     ]
    },
    {
     "name": "stderr",
     "output_type": "stream",
     "text": [
      "/home/ben/projects/SaoPauloBrazilChapter_BrazilianSignLanguage/.venv/lib/python3.11/site-packages/urllib3/connectionpool.py:1097: InsecureRequestWarning: Unverified HTTPS request is being made to host 'libras.cin.ufpe.br'. Adding certificate verification is strongly advised. See: https://urllib3.readthedocs.io/en/latest/advanced-usage.html#tls-warnings\n",
      "  warnings.warn(\n"
     ]
    },
    {
     "name": "stdout",
     "output_type": "stream",
     "text": [
      "Video successfully downloaded to data/raw/combined/videos/CAFÉ_vl_5.mp4\n",
      "-----\n",
      "Downloading videos for CARNE\n",
      "-----\n",
      "Downloading video 1 from https://www.ines.gov.br/dicionario-de-libras/public/media/palavras/videos/carneSm_Prog001.mp4\n"
     ]
    },
    {
     "name": "stderr",
     "output_type": "stream",
     "text": [
      "/home/ben/projects/SaoPauloBrazilChapter_BrazilianSignLanguage/.venv/lib/python3.11/site-packages/urllib3/connectionpool.py:1097: InsecureRequestWarning: Unverified HTTPS request is being made to host 'www.ines.gov.br'. Adding certificate verification is strongly advised. See: https://urllib3.readthedocs.io/en/latest/advanced-usage.html#tls-warnings\n",
      "  warnings.warn(\n"
     ]
    },
    {
     "name": "stdout",
     "output_type": "stream",
     "text": [
      "Video successfully downloaded to data/raw/combined/videos/CARNE_ne_1.mp4\n",
      "Downloading video 2 from https://videos.nals.cce.ufsc.br/SignBank/V%C3%ADdeos/CARNE.mp4\n"
     ]
    },
    {
     "name": "stderr",
     "output_type": "stream",
     "text": [
      "/home/ben/projects/SaoPauloBrazilChapter_BrazilianSignLanguage/.venv/lib/python3.11/site-packages/urllib3/connectionpool.py:1097: InsecureRequestWarning: Unverified HTTPS request is being made to host 'videos.nals.cce.ufsc.br'. Adding certificate verification is strongly advised. See: https://urllib3.readthedocs.io/en/latest/advanced-usage.html#tls-warnings\n",
      "  warnings.warn(\n"
     ]
    },
    {
     "name": "stdout",
     "output_type": "stream",
     "text": [
      "Video successfully downloaded to data/raw/combined/videos/CARNE_sb_2.mp4\n",
      "Downloading video 3 from https://libras.cin.ufpe.br/storage/videos/20210126070759_601092bf73513.mp4\n"
     ]
    },
    {
     "name": "stderr",
     "output_type": "stream",
     "text": [
      "/home/ben/projects/SaoPauloBrazilChapter_BrazilianSignLanguage/.venv/lib/python3.11/site-packages/urllib3/connectionpool.py:1097: InsecureRequestWarning: Unverified HTTPS request is being made to host 'libras.cin.ufpe.br'. Adding certificate verification is strongly advised. See: https://urllib3.readthedocs.io/en/latest/advanced-usage.html#tls-warnings\n",
      "  warnings.warn(\n"
     ]
    },
    {
     "name": "stdout",
     "output_type": "stream",
     "text": [
      "Video successfully downloaded to data/raw/combined/videos/CARNE_vl_3.mp4\n",
      "Downloading video 4 from https://libras.cin.ufpe.br/storage/videos/20210411080306_6072d76a749a2.mp4\n"
     ]
    },
    {
     "name": "stderr",
     "output_type": "stream",
     "text": [
      "/home/ben/projects/SaoPauloBrazilChapter_BrazilianSignLanguage/.venv/lib/python3.11/site-packages/urllib3/connectionpool.py:1097: InsecureRequestWarning: Unverified HTTPS request is being made to host 'libras.cin.ufpe.br'. Adding certificate verification is strongly advised. See: https://urllib3.readthedocs.io/en/latest/advanced-usage.html#tls-warnings\n",
      "  warnings.warn(\n"
     ]
    },
    {
     "name": "stdout",
     "output_type": "stream",
     "text": [
      "Video successfully downloaded to data/raw/combined/videos/CARNE_vl_4.mp4\n",
      "Downloading video 5 from https://libras.cin.ufpe.br/storage/videos/20210613111901_60c613d510001.mp4\n"
     ]
    },
    {
     "name": "stderr",
     "output_type": "stream",
     "text": [
      "/home/ben/projects/SaoPauloBrazilChapter_BrazilianSignLanguage/.venv/lib/python3.11/site-packages/urllib3/connectionpool.py:1097: InsecureRequestWarning: Unverified HTTPS request is being made to host 'libras.cin.ufpe.br'. Adding certificate verification is strongly advised. See: https://urllib3.readthedocs.io/en/latest/advanced-usage.html#tls-warnings\n",
      "  warnings.warn(\n"
     ]
    },
    {
     "name": "stdout",
     "output_type": "stream",
     "text": [
      "Video successfully downloaded to data/raw/combined/videos/CARNE_vl_5.mp4\n",
      "-----\n",
      "Downloading videos for CEBOLA\n",
      "-----\n",
      "Downloading video 1 from https://www.ines.gov.br/dicionario-de-libras/public/media/palavras/videos/cebolaSm_Prog001.mp4\n"
     ]
    },
    {
     "name": "stderr",
     "output_type": "stream",
     "text": [
      "/home/ben/projects/SaoPauloBrazilChapter_BrazilianSignLanguage/.venv/lib/python3.11/site-packages/urllib3/connectionpool.py:1097: InsecureRequestWarning: Unverified HTTPS request is being made to host 'www.ines.gov.br'. Adding certificate verification is strongly advised. See: https://urllib3.readthedocs.io/en/latest/advanced-usage.html#tls-warnings\n",
      "  warnings.warn(\n"
     ]
    },
    {
     "name": "stdout",
     "output_type": "stream",
     "text": [
      "Video successfully downloaded to data/raw/combined/videos/CEBOLA_ne_1.mp4\n",
      "Downloading video 2 from https://videos.nals.cce.ufsc.br/SignBank/V%C3%ADdeos/CEBOLA.mp4\n"
     ]
    },
    {
     "name": "stderr",
     "output_type": "stream",
     "text": [
      "/home/ben/projects/SaoPauloBrazilChapter_BrazilianSignLanguage/.venv/lib/python3.11/site-packages/urllib3/connectionpool.py:1097: InsecureRequestWarning: Unverified HTTPS request is being made to host 'videos.nals.cce.ufsc.br'. Adding certificate verification is strongly advised. See: https://urllib3.readthedocs.io/en/latest/advanced-usage.html#tls-warnings\n",
      "  warnings.warn(\n"
     ]
    },
    {
     "name": "stdout",
     "output_type": "stream",
     "text": [
      "Video successfully downloaded to data/raw/combined/videos/CEBOLA_sb_2.mp4\n",
      "Downloading video 3 from https://libras.cin.ufpe.br/storage/videos/20210124043727_600dcc77de427.mp4\n"
     ]
    },
    {
     "name": "stderr",
     "output_type": "stream",
     "text": [
      "/home/ben/projects/SaoPauloBrazilChapter_BrazilianSignLanguage/.venv/lib/python3.11/site-packages/urllib3/connectionpool.py:1097: InsecureRequestWarning: Unverified HTTPS request is being made to host 'libras.cin.ufpe.br'. Adding certificate verification is strongly advised. See: https://urllib3.readthedocs.io/en/latest/advanced-usage.html#tls-warnings\n",
      "  warnings.warn(\n"
     ]
    },
    {
     "name": "stdout",
     "output_type": "stream",
     "text": [
      "Video successfully downloaded to data/raw/combined/videos/CEBOLA_vl_3.mp4\n",
      "Downloading video 4 from https://libras.cin.ufpe.br/storage/videos/20210126072950_601097dec5bd3.mp4\n"
     ]
    },
    {
     "name": "stderr",
     "output_type": "stream",
     "text": [
      "/home/ben/projects/SaoPauloBrazilChapter_BrazilianSignLanguage/.venv/lib/python3.11/site-packages/urllib3/connectionpool.py:1097: InsecureRequestWarning: Unverified HTTPS request is being made to host 'libras.cin.ufpe.br'. Adding certificate verification is strongly advised. See: https://urllib3.readthedocs.io/en/latest/advanced-usage.html#tls-warnings\n",
      "  warnings.warn(\n"
     ]
    },
    {
     "name": "stdout",
     "output_type": "stream",
     "text": [
      "Video successfully downloaded to data/raw/combined/videos/CEBOLA_vl_4.mp4\n",
      "Downloading video 5 from https://libras.cin.ufpe.br/storage/videos/20210613125025_60c629417c513.mp4\n"
     ]
    },
    {
     "name": "stderr",
     "output_type": "stream",
     "text": [
      "/home/ben/projects/SaoPauloBrazilChapter_BrazilianSignLanguage/.venv/lib/python3.11/site-packages/urllib3/connectionpool.py:1097: InsecureRequestWarning: Unverified HTTPS request is being made to host 'libras.cin.ufpe.br'. Adding certificate verification is strongly advised. See: https://urllib3.readthedocs.io/en/latest/advanced-usage.html#tls-warnings\n",
      "  warnings.warn(\n"
     ]
    },
    {
     "name": "stdout",
     "output_type": "stream",
     "text": [
      "Video successfully downloaded to data/raw/combined/videos/CEBOLA_vl_5.mp4\n"
     ]
    }
   ],
   "source": [
    "for word in sample_words:\n",
    "    print('-----')\n",
    "    print(f'Downloading videos for {word}')\n",
    "    print('-----')\n",
    "    dv.download_videos_from_metadata(\n",
    "        label = word,\n",
    "        metadata = ne_sb_vl_sample_metadata,\n",
    "        combined = True,\n",
    "        verbose=True,\n",
    "        verify_ssl=False)"
   ]
  },
  {
   "cell_type": "code",
   "execution_count": 57,
   "metadata": {},
   "outputs": [],
   "source": [
    "ne_sb_vl_sample_metadata['filename'] = '-'"
   ]
  },
  {
   "cell_type": "code",
   "execution_count": 58,
   "metadata": {},
   "outputs": [],
   "source": [
    "for word in sample_words:\n",
    "    filtered_metadata_df = ne_sb_vl_sample_metadata[ne_sb_vl_sample_metadata.label == word]\n",
    "    i = 1\n",
    "    for df_index, row in filtered_metadata_df.iterrows():\n",
    "        video_name = dv.make_video_filename(row, i)\n",
    "        ne_sb_vl_sample_metadata.loc[df_index, 'filename'] = video_name\n",
    "        i+=1   "
   ]
  },
  {
   "cell_type": "code",
   "execution_count": 97,
   "metadata": {},
   "outputs": [],
   "source": [
    "ufv_sample_metadata = pd.DataFrame({\n",
    "    'label': ['ABACAXI', 'BANANA', 'CAFÉ', 'CARNE', 'CEBOLA'],\n",
    "    'data_source': ['uf', 'uf', 'uf', 'uf', 'uf'],\n",
    "    'filename': ['ABACAXI_uf_6.mp4', 'BANANA_uf_6.mp4', 'CAFÉ_uf_6.mp4', 'CARNE_uf_6.mp4', 'CEBOLA_uf_6.mp4']\n",
    "})"
   ]
  },
  {
   "cell_type": "code",
   "execution_count": 98,
   "metadata": {},
   "outputs": [
    {
     "data": {
      "text/plain": [
       "label\n",
       "ABACAXI    6\n",
       "BANANA     6\n",
       "CAFÉ       6\n",
       "CARNE      6\n",
       "CEBOLA     6\n",
       "Name: count, dtype: int64"
      ]
     },
     "execution_count": 98,
     "metadata": {},
     "output_type": "execute_result"
    }
   ],
   "source": [
    "sample_metadata = pd.concat([ne_sb_vl_sample_metadata, ufv_sample_metadata], ignore_index=True)\n",
    "sample_metadata['filename_index'] = sample_metadata.filename.str.split('_').str[-1].str.replace('.mp4', '').astype(int)\n",
    "sample_metadata.sort_values(['label', 'filename_index'], inplace=True)\n",
    "sample_metadata.reset_index(drop=True, inplace=True)\n",
    "sample_metadata.label.value_counts()"
   ]
  },
  {
   "cell_type": "code",
   "execution_count": 100,
   "metadata": {},
   "outputs": [],
   "source": [
    "sample_metadata.to_csv('data/raw/combined/target_dataset_metadata(sample).csv', index=False)"
   ]
  },
  {
   "cell_type": "markdown",
   "metadata": {},
   "source": [
    "## *for collecting metadata from the videos*"
   ]
  },
  {
   "cell_type": "code",
   "execution_count": 101,
   "metadata": {},
   "outputs": [],
   "source": [
    "metadata_df = pd.read_csv('data/raw/combined/target_dataset_metadata(sample).csv')"
   ]
  },
  {
   "cell_type": "code",
   "execution_count": 103,
   "metadata": {},
   "outputs": [],
   "source": [
    "video_metadata = dv.collect_metadata_from_directory('data/raw/combined/videos')"
   ]
  },
  {
   "cell_type": "code",
   "execution_count": 104,
   "metadata": {},
   "outputs": [
    {
     "data": {
      "text/plain": [
       "{'filename': 'ABACAXI_ne_1.mp4',\n",
       " 'frame_count': 63,\n",
       " 'fps': 12.0,\n",
       " 'width': 240,\n",
       " 'height': 176,\n",
       " 'duration_sec': 5}"
      ]
     },
     "execution_count": 104,
     "metadata": {},
     "output_type": "execute_result"
    }
   ],
   "source": [
    "video_metadata[0]"
   ]
  },
  {
   "cell_type": "code",
   "execution_count": 105,
   "metadata": {},
   "outputs": [],
   "source": [
    "for i,d in enumerate(video_metadata):\n",
    "    if d is None:\n",
    "        print(i)\n",
    "# should be no prints"
   ]
  },
  {
   "cell_type": "code",
   "execution_count": 108,
   "metadata": {},
   "outputs": [
    {
     "data": {
      "text/html": [
       "<div>\n",
       "<style scoped>\n",
       "    .dataframe tbody tr th:only-of-type {\n",
       "        vertical-align: middle;\n",
       "    }\n",
       "\n",
       "    .dataframe tbody tr th {\n",
       "        vertical-align: top;\n",
       "    }\n",
       "\n",
       "    .dataframe thead th {\n",
       "        text-align: right;\n",
       "    }\n",
       "</style>\n",
       "<table border=\"1\" class=\"dataframe\">\n",
       "  <thead>\n",
       "    <tr style=\"text-align: right;\">\n",
       "      <th></th>\n",
       "      <th>filename</th>\n",
       "      <th>frame_count</th>\n",
       "      <th>fps</th>\n",
       "      <th>width</th>\n",
       "      <th>height</th>\n",
       "      <th>duration_sec</th>\n",
       "      <th>label</th>\n",
       "      <th>video_url</th>\n",
       "      <th>signer_number</th>\n",
       "      <th>data_source</th>\n",
       "      <th>...</th>\n",
       "      <th>scraped_label</th>\n",
       "      <th>scraped_video_url</th>\n",
       "      <th>sign_variant</th>\n",
       "      <th>signer_number.1</th>\n",
       "      <th>video_url_root</th>\n",
       "      <th>video_url_ext</th>\n",
       "      <th>number_in_label</th>\n",
       "      <th>sign_url</th>\n",
       "      <th>signer_order</th>\n",
       "      <th>filename_index</th>\n",
       "    </tr>\n",
       "  </thead>\n",
       "  <tbody>\n",
       "    <tr>\n",
       "      <th>0</th>\n",
       "      <td>ABACAXI_ne_1.mp4</td>\n",
       "      <td>63</td>\n",
       "      <td>12.00000</td>\n",
       "      <td>240</td>\n",
       "      <td>176</td>\n",
       "      <td>5</td>\n",
       "      <td>ABACAXI</td>\n",
       "      <td>https://www.ines.gov.br/dicionario-de-libras/p...</td>\n",
       "      <td>0.0</td>\n",
       "      <td>ne</td>\n",
       "      <td>...</td>\n",
       "      <td>NaN</td>\n",
       "      <td>NaN</td>\n",
       "      <td>NaN</td>\n",
       "      <td>NaN</td>\n",
       "      <td>NaN</td>\n",
       "      <td>NaN</td>\n",
       "      <td>NaN</td>\n",
       "      <td>NaN</td>\n",
       "      <td>NaN</td>\n",
       "      <td>1</td>\n",
       "    </tr>\n",
       "    <tr>\n",
       "      <th>1</th>\n",
       "      <td>ABACAXI_sb_2.mp4</td>\n",
       "      <td>84</td>\n",
       "      <td>29.97003</td>\n",
       "      <td>1280</td>\n",
       "      <td>720</td>\n",
       "      <td>2</td>\n",
       "      <td>ABACAXI</td>\n",
       "      <td>https://videos.nals.cce.ufsc.br/SignBank/Vídeo...</td>\n",
       "      <td>2.0</td>\n",
       "      <td>sb</td>\n",
       "      <td>...</td>\n",
       "      <td>ABACAXI</td>\n",
       "      <td>https://levantelab.storage.googleapis.com/libr...</td>\n",
       "      <td>1.0</td>\n",
       "      <td>2.0</td>\n",
       "      <td>levantelab</td>\n",
       "      <td>mp4</td>\n",
       "      <td>False</td>\n",
       "      <td>NaN</td>\n",
       "      <td>NaN</td>\n",
       "      <td>2</td>\n",
       "    </tr>\n",
       "    <tr>\n",
       "      <th>3</th>\n",
       "      <td>ABACAXI_vl_3.mp4</td>\n",
       "      <td>173</td>\n",
       "      <td>29.97003</td>\n",
       "      <td>1920</td>\n",
       "      <td>1080</td>\n",
       "      <td>5</td>\n",
       "      <td>ABACAXI</td>\n",
       "      <td>https://libras.cin.ufpe.br/storage/videos/2021...</td>\n",
       "      <td>3.0</td>\n",
       "      <td>vl</td>\n",
       "      <td>...</td>\n",
       "      <td>NaN</td>\n",
       "      <td>NaN</td>\n",
       "      <td>NaN</td>\n",
       "      <td>NaN</td>\n",
       "      <td>NaN</td>\n",
       "      <td>NaN</td>\n",
       "      <td>NaN</td>\n",
       "      <td>https://libras.cin.ufpe.br/sign/817</td>\n",
       "      <td>312.0</td>\n",
       "      <td>3</td>\n",
       "    </tr>\n",
       "    <tr>\n",
       "      <th>4</th>\n",
       "      <td>ABACAXI_vl_4.mp4</td>\n",
       "      <td>172</td>\n",
       "      <td>29.97003</td>\n",
       "      <td>1920</td>\n",
       "      <td>1080</td>\n",
       "      <td>5</td>\n",
       "      <td>ABACAXI</td>\n",
       "      <td>https://libras.cin.ufpe.br/storage/videos/2021...</td>\n",
       "      <td>1.0</td>\n",
       "      <td>vl</td>\n",
       "      <td>...</td>\n",
       "      <td>NaN</td>\n",
       "      <td>NaN</td>\n",
       "      <td>NaN</td>\n",
       "      <td>NaN</td>\n",
       "      <td>NaN</td>\n",
       "      <td>NaN</td>\n",
       "      <td>NaN</td>\n",
       "      <td>https://libras.cin.ufpe.br/sign/817</td>\n",
       "      <td>312.0</td>\n",
       "      <td>4</td>\n",
       "    </tr>\n",
       "    <tr>\n",
       "      <th>5</th>\n",
       "      <td>ABACAXI_vl_5.mp4</td>\n",
       "      <td>135</td>\n",
       "      <td>29.97003</td>\n",
       "      <td>1920</td>\n",
       "      <td>1080</td>\n",
       "      <td>4</td>\n",
       "      <td>ABACAXI</td>\n",
       "      <td>https://libras.cin.ufpe.br/storage/videos/2021...</td>\n",
       "      <td>2.0</td>\n",
       "      <td>vl</td>\n",
       "      <td>...</td>\n",
       "      <td>NaN</td>\n",
       "      <td>NaN</td>\n",
       "      <td>NaN</td>\n",
       "      <td>NaN</td>\n",
       "      <td>NaN</td>\n",
       "      <td>NaN</td>\n",
       "      <td>NaN</td>\n",
       "      <td>https://libras.cin.ufpe.br/sign/817</td>\n",
       "      <td>312.0</td>\n",
       "      <td>5</td>\n",
       "    </tr>\n",
       "  </tbody>\n",
       "</table>\n",
       "<p>5 rows × 28 columns</p>\n",
       "</div>"
      ],
      "text/plain": [
       "           filename  frame_count       fps  width  height  duration_sec  \\\n",
       "0  ABACAXI_ne_1.mp4           63  12.00000    240     176             5   \n",
       "1  ABACAXI_sb_2.mp4           84  29.97003   1280     720             2   \n",
       "3  ABACAXI_vl_3.mp4          173  29.97003   1920    1080             5   \n",
       "4  ABACAXI_vl_4.mp4          172  29.97003   1920    1080             5   \n",
       "5  ABACAXI_vl_5.mp4          135  29.97003   1920    1080             4   \n",
       "\n",
       "     label                                          video_url  signer_number  \\\n",
       "0  ABACAXI  https://www.ines.gov.br/dicionario-de-libras/p...            0.0   \n",
       "1  ABACAXI  https://videos.nals.cce.ufsc.br/SignBank/Vídeo...            2.0   \n",
       "3  ABACAXI  https://libras.cin.ufpe.br/storage/videos/2021...            3.0   \n",
       "4  ABACAXI  https://libras.cin.ufpe.br/storage/videos/2021...            1.0   \n",
       "5  ABACAXI  https://libras.cin.ufpe.br/storage/videos/2021...            2.0   \n",
       "\n",
       "  data_source  ... scraped_label  \\\n",
       "0          ne  ...           NaN   \n",
       "1          sb  ...       ABACAXI   \n",
       "3          vl  ...           NaN   \n",
       "4          vl  ...           NaN   \n",
       "5          vl  ...           NaN   \n",
       "\n",
       "                                   scraped_video_url sign_variant  \\\n",
       "0                                                NaN          NaN   \n",
       "1  https://levantelab.storage.googleapis.com/libr...          1.0   \n",
       "3                                                NaN          NaN   \n",
       "4                                                NaN          NaN   \n",
       "5                                                NaN          NaN   \n",
       "\n",
       "  signer_number.1 video_url_root video_url_ext number_in_label  \\\n",
       "0             NaN            NaN           NaN             NaN   \n",
       "1             2.0     levantelab           mp4           False   \n",
       "3             NaN            NaN           NaN             NaN   \n",
       "4             NaN            NaN           NaN             NaN   \n",
       "5             NaN            NaN           NaN             NaN   \n",
       "\n",
       "                              sign_url signer_order filename_index  \n",
       "0                                  NaN          NaN              1  \n",
       "1                                  NaN          NaN              2  \n",
       "3  https://libras.cin.ufpe.br/sign/817        312.0              3  \n",
       "4  https://libras.cin.ufpe.br/sign/817        312.0              4  \n",
       "5  https://libras.cin.ufpe.br/sign/817        312.0              5  \n",
       "\n",
       "[5 rows x 28 columns]"
      ]
     },
     "execution_count": 108,
     "metadata": {},
     "output_type": "execute_result"
    }
   ],
   "source": [
    "video_metadata_df = pd.DataFrame(video_metadata)\n",
    "video_metadata_df = video_metadata_df.merge(metadata_df, left_on='filename', right_on='filename', how='left').sort_values(['label', 'filename_index'])\n",
    "video_metadata_df.head()"
   ]
  },
  {
   "cell_type": "code",
   "execution_count": 109,
   "metadata": {},
   "outputs": [
    {
     "data": {
      "text/plain": [
       "Index(['filename', 'frame_count', 'fps', 'width', 'height', 'duration_sec',\n",
       "       'label', 'video_url', 'signer_number', 'data_source', 'file_exists',\n",
       "       'letter', 'assuntos', 'acepção', 'exemplo', 'exemplo libras',\n",
       "       'classe gramatical', 'origem', 'scraped_label', 'scraped_video_url',\n",
       "       'sign_variant', 'signer_number.1', 'video_url_root', 'video_url_ext',\n",
       "       'number_in_label', 'sign_url', 'signer_order', 'filename_index'],\n",
       "      dtype='object')"
      ]
     },
     "execution_count": 109,
     "metadata": {},
     "output_type": "execute_result"
    }
   ],
   "source": [
    "video_metadata_df.columns"
   ]
  },
  {
   "cell_type": "code",
   "execution_count": 111,
   "metadata": {},
   "outputs": [],
   "source": [
    "video_metadata_df[[\n",
    "    'filename',\n",
    "    'label',\n",
    "    'data_source',\n",
    "    'signer_number',\n",
    "    'filename_index',\n",
    "    'frame_count',\n",
    "    'fps',\n",
    "    'duration_sec',\n",
    "    'width',\n",
    "    'height'\n",
    "]].to_csv('data/raw/combined/target_dataset_video_metadata(sample).csv', index=False)"
   ]
  }
 ],
 "metadata": {
  "kernelspec": {
   "display_name": ".venv",
   "language": "python",
   "name": "python3"
  },
  "language_info": {
   "codemirror_mode": {
    "name": "ipython",
    "version": 3
   },
   "file_extension": ".py",
   "mimetype": "text/x-python",
   "name": "python",
   "nbconvert_exporter": "python",
   "pygments_lexer": "ipython3",
   "version": "3.11.8"
  }
 },
 "nbformat": 4,
 "nbformat_minor": 2
}
