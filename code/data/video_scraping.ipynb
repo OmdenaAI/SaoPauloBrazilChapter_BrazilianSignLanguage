{
 "cells": [
  {
   "cell_type": "markdown",
   "metadata": {},
   "source": [
    "# Video Scraping from Links\n",
    "- This notebook is for when we have collected labels and links already\n",
    "\n",
    "- Downloading all videos takes a long time, so we will only scrape selected videos\n",
    "\n",
    "- With this notebook, we can use `download_videos.py` to download all videos in a metadata.csv to create our raw combined dataset, after we have decided our target words"
   ]
  },
  {
   "cell_type": "code",
   "execution_count": 1,
   "metadata": {},
   "outputs": [],
   "source": [
    "import pathlib\n",
    "import os\n",
    "import pandas as pd\n",
    "import requests\n",
    "import download_videos as dv"
   ]
  },
  {
   "cell_type": "code",
   "execution_count": 2,
   "metadata": {},
   "outputs": [
    {
     "data": {
      "text/plain": [
       "'/home/ben/projects/SaoPauloBrazilChapter_BrazilianSignLanguage'"
      ]
     },
     "execution_count": 2,
     "metadata": {},
     "output_type": "execute_result"
    }
   ],
   "source": [
    "# change working directory to the project root directory\n",
    "current_dir = os.getcwd()\n",
    "os.chdir(current_dir + '/../../')\n",
    "# this should be the project root directory\n",
    "os.getcwd()"
   ]
  },
  {
   "cell_type": "code",
   "execution_count": 3,
   "metadata": {},
   "outputs": [],
   "source": [
    "metadata_df = pd.read_csv('data/raw/combined/metadata_combined.csv')"
   ]
  },
  {
   "cell_type": "markdown",
   "metadata": {},
   "source": [
    "## *for creating our combined raw dataset, after we have decided our target words*"
   ]
  },
  {
   "cell_type": "markdown",
   "metadata": {},
   "source": [
    "Download all videos for a collection of words from all data sources"
   ]
  },
  {
   "cell_type": "markdown",
   "metadata": {},
   "source": [
    "define list of target words "
   ]
  },
  {
   "cell_type": "code",
   "execution_count": 4,
   "metadata": {},
   "outputs": [],
   "source": [
    "metadata_df = metadata_df.sort_values(['label', 'data_source']).reset_index(drop=True)"
   ]
  },
  {
   "cell_type": "code",
   "execution_count": 5,
   "metadata": {},
   "outputs": [
    {
     "data": {
      "text/plain": [
       "label\n",
       "banana    6\n",
       "café      6\n",
       "carne     6\n",
       "cebola    6\n",
       "Name: count, dtype: int64"
      ]
     },
     "execution_count": 5,
     "metadata": {},
     "output_type": "execute_result"
    }
   ],
   "source": [
    "sample_words = ['abacaxi', 'banana', 'café', 'carne', 'cebola']\n",
    "target_metadata_df = metadata_df[metadata_df.label.isin(sample_words)].sort_values(['label', 'data_source']).reset_index(drop=True)\n",
    "target_metadata_df.label.value_counts()"
   ]
  },
  {
   "cell_type": "markdown",
   "metadata": {},
   "source": [
    "download videos"
   ]
  },
  {
   "cell_type": "code",
   "execution_count": 6,
   "metadata": {},
   "outputs": [],
   "source": [
    "output_path = os.path.join('data', 'raw', 'combined', 'videos')\n",
    "verify_ssl_settings = {\n",
    "    'ne': True,\n",
    "    'vl': True,\n",
    "    'sb': False,\n",
    "    'uf': True\n",
    "}"
   ]
  },
  {
   "cell_type": "code",
   "execution_count": 8,
   "metadata": {},
   "outputs": [
    {
     "name": "stdout",
     "output_type": "stream",
     "text": [
      "Downloading video 1 from https://www.ines.gov.br/dicionario-de-libras/public/media/palavras/videos/bananaSm_Prog001.mp4\n",
      "\tVideo successfully downloaded to data/raw/combined/videos/banana_ne_1.mp4\n",
      "Downloading video 2 from https://videos.nals.cce.ufsc.br/SignBank/V%C3%ADdeos/BANANA.mp4\n"
     ]
    },
    {
     "name": "stderr",
     "output_type": "stream",
     "text": [
      "/home/ben/projects/SaoPauloBrazilChapter_BrazilianSignLanguage/.venv/lib/python3.11/site-packages/urllib3/connectionpool.py:1097: InsecureRequestWarning: Unverified HTTPS request is being made to host 'videos.nals.cce.ufsc.br'. Adding certificate verification is strongly advised. See: https://urllib3.readthedocs.io/en/latest/advanced-usage.html#tls-warnings\n",
      "  warnings.warn(\n"
     ]
    },
    {
     "name": "stdout",
     "output_type": "stream",
     "text": [
      "\tVideo successfully downloaded to data/raw/combined/videos/banana_sb_2.mp4\n",
      "Downloading video 3 from https://sistemas.cead.ufv.br/capes/dicionario/wp-content/uploads/2018/09/banana.mp4\n",
      "\tVideo successfully downloaded to data/raw/combined/videos/banana_uf_3.mp4\n",
      "Downloading video 4 from https://libras.cin.ufpe.br/storage/videos/20201222122443_5fe20fbb47921.mp4\n",
      "\tVideo successfully downloaded to data/raw/combined/videos/banana_vl_4.mp4\n",
      "Downloading video 5 from https://libras.cin.ufpe.br/storage/videos/20201222122443_5fe20fbb554a7.mp4\n",
      "\tVideo successfully downloaded to data/raw/combined/videos/banana_vl_5.mp4\n",
      "Downloading video 6 from https://libras.cin.ufpe.br/storage/videos/20210329110319_6061de2742ee7.mp4\n",
      "\tVideo successfully downloaded to data/raw/combined/videos/banana_vl_6.mp4\n",
      "Downloading video 7 from https://www.ines.gov.br/dicionario-de-libras/public/media/palavras/videos/cafeSm_Prog001.mp4\n",
      "\tVideo successfully downloaded to data/raw/combined/videos/café_ne_7.mp4\n",
      "Downloading video 8 from https://videos.nals.cce.ufsc.br/SignBank/V%C3%ADdeos/CAF%C3%89.mp4\n"
     ]
    },
    {
     "name": "stderr",
     "output_type": "stream",
     "text": [
      "/home/ben/projects/SaoPauloBrazilChapter_BrazilianSignLanguage/.venv/lib/python3.11/site-packages/urllib3/connectionpool.py:1097: InsecureRequestWarning: Unverified HTTPS request is being made to host 'videos.nals.cce.ufsc.br'. Adding certificate verification is strongly advised. See: https://urllib3.readthedocs.io/en/latest/advanced-usage.html#tls-warnings\n",
      "  warnings.warn(\n"
     ]
    },
    {
     "name": "stdout",
     "output_type": "stream",
     "text": [
      "\tVideo successfully downloaded to data/raw/combined/videos/café_sb_8.mp4\n",
      "Downloading video 9 from https://sistemas.cead.ufv.br/capes/dicionario/wp-content/uploads/2018/09/caf%C3%A9.mp4\n",
      "\tVideo successfully downloaded to data/raw/combined/videos/café_uf_9.mp4\n",
      "Downloading video 10 from https://libras.cin.ufpe.br/storage/videos/20210613113637_60c617f5a4e11.mp4\n",
      "\tVideo successfully downloaded to data/raw/combined/videos/café_vl_10.mp4\n",
      "Downloading video 11 from https://libras.cin.ufpe.br/storage/videos/20210411080241_6072d751c1a00.mp4\n",
      "\tVideo successfully downloaded to data/raw/combined/videos/café_vl_11.mp4\n",
      "Downloading video 12 from https://libras.cin.ufpe.br/storage/videos/20210126070737_601092a939fcf.mp4\n",
      "\tVideo successfully downloaded to data/raw/combined/videos/café_vl_12.mp4\n",
      "Downloading video 13 from https://www.ines.gov.br/dicionario-de-libras/public/media/palavras/videos/carneSm_Prog001.mp4\n",
      "\tVideo successfully downloaded to data/raw/combined/videos/carne_ne_13.mp4\n",
      "Downloading video 14 from https://videos.nals.cce.ufsc.br/SignBank/V%C3%ADdeos/CARNE.mp4\n"
     ]
    },
    {
     "name": "stderr",
     "output_type": "stream",
     "text": [
      "/home/ben/projects/SaoPauloBrazilChapter_BrazilianSignLanguage/.venv/lib/python3.11/site-packages/urllib3/connectionpool.py:1097: InsecureRequestWarning: Unverified HTTPS request is being made to host 'videos.nals.cce.ufsc.br'. Adding certificate verification is strongly advised. See: https://urllib3.readthedocs.io/en/latest/advanced-usage.html#tls-warnings\n",
      "  warnings.warn(\n"
     ]
    },
    {
     "name": "stdout",
     "output_type": "stream",
     "text": [
      "\tVideo successfully downloaded to data/raw/combined/videos/carne_sb_14.mp4\n",
      "Downloading video 15 from https://sistemas.cead.ufv.br/capes/dicionario/wp-content/uploads/2018/09/carne.mp4\n",
      "\tVideo successfully downloaded to data/raw/combined/videos/carne_uf_15.mp4\n",
      "Downloading video 16 from https://libras.cin.ufpe.br/storage/videos/20210126070759_601092bf73513.mp4\n",
      "\tVideo successfully downloaded to data/raw/combined/videos/carne_vl_16.mp4\n",
      "Downloading video 17 from https://libras.cin.ufpe.br/storage/videos/20210613111901_60c613d510001.mp4\n",
      "\tVideo successfully downloaded to data/raw/combined/videos/carne_vl_17.mp4\n",
      "Downloading video 18 from https://libras.cin.ufpe.br/storage/videos/20210411080306_6072d76a749a2.mp4\n",
      "\tVideo successfully downloaded to data/raw/combined/videos/carne_vl_18.mp4\n",
      "Downloading video 19 from https://www.ines.gov.br/dicionario-de-libras/public/media/palavras/videos/cebolaSm_Prog001.mp4\n",
      "\tVideo successfully downloaded to data/raw/combined/videos/cebola_ne_19.mp4\n",
      "Downloading video 20 from https://videos.nals.cce.ufsc.br/SignBank/V%C3%ADdeos/CEBOLA.mp4\n"
     ]
    },
    {
     "name": "stderr",
     "output_type": "stream",
     "text": [
      "/home/ben/projects/SaoPauloBrazilChapter_BrazilianSignLanguage/.venv/lib/python3.11/site-packages/urllib3/connectionpool.py:1097: InsecureRequestWarning: Unverified HTTPS request is being made to host 'videos.nals.cce.ufsc.br'. Adding certificate verification is strongly advised. See: https://urllib3.readthedocs.io/en/latest/advanced-usage.html#tls-warnings\n",
      "  warnings.warn(\n"
     ]
    },
    {
     "name": "stdout",
     "output_type": "stream",
     "text": [
      "\tVideo successfully downloaded to data/raw/combined/videos/cebola_sb_20.mp4\n",
      "Downloading video 21 from https://sistemas.cead.ufv.br/capes/dicionario/wp-content/uploads/2018/09/cebola.mp4\n",
      "\tVideo successfully downloaded to data/raw/combined/videos/cebola_uf_21.mp4\n",
      "Downloading video 22 from https://libras.cin.ufpe.br/storage/videos/20210126072950_601097dec5bd3.mp4\n",
      "\tVideo successfully downloaded to data/raw/combined/videos/cebola_vl_22.mp4\n",
      "Downloading video 23 from https://libras.cin.ufpe.br/storage/videos/20210613125025_60c629417c513.mp4\n",
      "\tVideo successfully downloaded to data/raw/combined/videos/cebola_vl_23.mp4\n",
      "Downloading video 24 from https://libras.cin.ufpe.br/storage/videos/20210124043727_600dcc77de427.mp4\n",
      "\tVideo successfully downloaded to data/raw/combined/videos/cebola_vl_24.mp4\n"
     ]
    }
   ],
   "source": [
    "dv.download_videos_from_metadata(\n",
    "    metadata=target_metadata_df,\n",
    "    output_path=output_path,\n",
    "    verify_ssl_settings=verify_ssl_settings,\n",
    "    verbose=True\n",
    "    )"
   ]
  },
  {
   "cell_type": "markdown",
   "metadata": {},
   "source": [
    "## *for collecting metadata from the videos*"
   ]
  },
  {
   "cell_type": "code",
   "execution_count": 24,
   "metadata": {},
   "outputs": [],
   "source": [
    "video_metadata = dv.collect_metadata_from_directory('data/raw/combined/videos')"
   ]
  },
  {
   "cell_type": "code",
   "execution_count": 25,
   "metadata": {},
   "outputs": [
    {
     "data": {
      "text/plain": [
       "{'filename': 'banana_ne_1.mp4',\n",
       " 'frame_count': 51,\n",
       " 'fps': 12.0,\n",
       " 'width': 240,\n",
       " 'height': 176,\n",
       " 'duration_sec': 4}"
      ]
     },
     "execution_count": 25,
     "metadata": {},
     "output_type": "execute_result"
    }
   ],
   "source": [
    "video_metadata[0]"
   ]
  },
  {
   "cell_type": "code",
   "execution_count": 26,
   "metadata": {},
   "outputs": [],
   "source": [
    "# check for None values\n",
    "for i,d in enumerate(video_metadata):\n",
    "    if d is None:\n",
    "        print(i)\n",
    "# should be no prints"
   ]
  },
  {
   "cell_type": "code",
   "execution_count": 29,
   "metadata": {},
   "outputs": [
    {
     "data": {
      "text/html": [
       "<div>\n",
       "<style scoped>\n",
       "    .dataframe tbody tr th:only-of-type {\n",
       "        vertical-align: middle;\n",
       "    }\n",
       "\n",
       "    .dataframe tbody tr th {\n",
       "        vertical-align: top;\n",
       "    }\n",
       "\n",
       "    .dataframe thead th {\n",
       "        text-align: right;\n",
       "    }\n",
       "</style>\n",
       "<table border=\"1\" class=\"dataframe\">\n",
       "  <thead>\n",
       "    <tr style=\"text-align: right;\">\n",
       "      <th></th>\n",
       "      <th>label</th>\n",
       "      <th>data_source</th>\n",
       "      <th>video_url</th>\n",
       "      <th>sign_id</th>\n",
       "    </tr>\n",
       "  </thead>\n",
       "  <tbody>\n",
       "    <tr>\n",
       "      <th>0</th>\n",
       "      <td>ajudar</td>\n",
       "      <td>ne</td>\n",
       "      <td>https://www.ines.gov.br/dicionario-de-libras/p...</td>\n",
       "      <td>2</td>\n",
       "    </tr>\n",
       "    <tr>\n",
       "      <th>1</th>\n",
       "      <td>ajudar</td>\n",
       "      <td>sb</td>\n",
       "      <td>https://videos.nals.cce.ufsc.br/SignBank/V%C3%...</td>\n",
       "      <td>1</td>\n",
       "    </tr>\n",
       "    <tr>\n",
       "      <th>2</th>\n",
       "      <td>ajudar</td>\n",
       "      <td>uf</td>\n",
       "      <td>https://sistemas.cead.ufv.br/capes/dicionario/...</td>\n",
       "      <td>0</td>\n",
       "    </tr>\n",
       "    <tr>\n",
       "      <th>3</th>\n",
       "      <td>ajudar</td>\n",
       "      <td>vl</td>\n",
       "      <td>https://libras.cin.ufpe.br/storage/videos/2021...</td>\n",
       "      <td>3</td>\n",
       "    </tr>\n",
       "    <tr>\n",
       "      <th>4</th>\n",
       "      <td>ajudar</td>\n",
       "      <td>vl</td>\n",
       "      <td>https://libras.cin.ufpe.br/storage/videos/2021...</td>\n",
       "      <td>2</td>\n",
       "    </tr>\n",
       "    <tr>\n",
       "      <th>...</th>\n",
       "      <td>...</td>\n",
       "      <td>...</td>\n",
       "      <td>...</td>\n",
       "      <td>...</td>\n",
       "    </tr>\n",
       "    <tr>\n",
       "      <th>152</th>\n",
       "      <td>vagina</td>\n",
       "      <td>sb</td>\n",
       "      <td>https://videos.nals.cce.ufsc.br/SignBank/V%C3%...</td>\n",
       "      <td>1</td>\n",
       "    </tr>\n",
       "    <tr>\n",
       "      <th>153</th>\n",
       "      <td>vagina</td>\n",
       "      <td>uf</td>\n",
       "      <td>https://sistemas.cead.ufv.br/capes/dicionario/...</td>\n",
       "      <td>0</td>\n",
       "    </tr>\n",
       "    <tr>\n",
       "      <th>154</th>\n",
       "      <td>vagina</td>\n",
       "      <td>vl</td>\n",
       "      <td>https://libras.cin.ufpe.br/storage/videos/2021...</td>\n",
       "      <td>3</td>\n",
       "    </tr>\n",
       "    <tr>\n",
       "      <th>155</th>\n",
       "      <td>vagina</td>\n",
       "      <td>vl</td>\n",
       "      <td>https://libras.cin.ufpe.br/storage/videos/2021...</td>\n",
       "      <td>2</td>\n",
       "    </tr>\n",
       "    <tr>\n",
       "      <th>156</th>\n",
       "      <td>vagina</td>\n",
       "      <td>vl</td>\n",
       "      <td>https://libras.cin.ufpe.br/storage/videos/2021...</td>\n",
       "      <td>1</td>\n",
       "    </tr>\n",
       "  </tbody>\n",
       "</table>\n",
       "<p>157 rows × 4 columns</p>\n",
       "</div>"
      ],
      "text/plain": [
       "      label data_source                                          video_url  \\\n",
       "0    ajudar          ne  https://www.ines.gov.br/dicionario-de-libras/p...   \n",
       "1    ajudar          sb  https://videos.nals.cce.ufsc.br/SignBank/V%C3%...   \n",
       "2    ajudar          uf  https://sistemas.cead.ufv.br/capes/dicionario/...   \n",
       "3    ajudar          vl  https://libras.cin.ufpe.br/storage/videos/2021...   \n",
       "4    ajudar          vl  https://libras.cin.ufpe.br/storage/videos/2021...   \n",
       "..      ...         ...                                                ...   \n",
       "152  vagina          sb  https://videos.nals.cce.ufsc.br/SignBank/V%C3%...   \n",
       "153  vagina          uf  https://sistemas.cead.ufv.br/capes/dicionario/...   \n",
       "154  vagina          vl  https://libras.cin.ufpe.br/storage/videos/2021...   \n",
       "155  vagina          vl  https://libras.cin.ufpe.br/storage/videos/2021...   \n",
       "156  vagina          vl  https://libras.cin.ufpe.br/storage/videos/2021...   \n",
       "\n",
       "     sign_id  \n",
       "0          2  \n",
       "1          1  \n",
       "2          0  \n",
       "3          3  \n",
       "4          2  \n",
       "..       ...  \n",
       "152        1  \n",
       "153        0  \n",
       "154        3  \n",
       "155        2  \n",
       "156        1  \n",
       "\n",
       "[157 rows x 4 columns]"
      ]
     },
     "execution_count": 29,
     "metadata": {},
     "output_type": "execute_result"
    }
   ],
   "source": [
    "metadata_df"
   ]
  },
  {
   "cell_type": "code",
   "execution_count": 31,
   "metadata": {},
   "outputs": [],
   "source": [
    "video_metadata_df = pd.DataFrame(video_metadata)\n",
    "video_metadata_df = pd.concat([target_metadata_df, video_metadata_df], axis=1)"
   ]
  },
  {
   "cell_type": "code",
   "execution_count": 34,
   "metadata": {},
   "outputs": [],
   "source": [
    "video_metadata_df[[\n",
    "    'filename',\n",
    "    'label',\n",
    "    'data_source',\n",
    "    # 'signer_number',\n",
    "    'frame_count',\n",
    "    'fps',\n",
    "    'duration_sec',\n",
    "    'width',\n",
    "    'height'\n",
    "]].to_csv('data/raw/combined/target_dataset_video_metadata.csv', index=False)"
   ]
  },
  {
   "cell_type": "code",
   "execution_count": null,
   "metadata": {},
   "outputs": [],
   "source": []
  }
 ],
 "metadata": {
  "kernelspec": {
   "display_name": ".venv",
   "language": "python",
   "name": "python3"
  },
  "language_info": {
   "codemirror_mode": {
    "name": "ipython",
    "version": 3
   },
   "file_extension": ".py",
   "mimetype": "text/x-python",
   "name": "python",
   "nbconvert_exporter": "python",
   "pygments_lexer": "ipython3",
   "version": "3.11.8"
  }
 },
 "nbformat": 4,
 "nbformat_minor": 2
}
