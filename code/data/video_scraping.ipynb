{
 "cells": [
  {
   "cell_type": "markdown",
   "metadata": {},
   "source": [
    "# Video Scraping from Links\n",
    "- This notebook is for when we have collected labels and links already\n",
    "\n",
    "- Downloading all videos takes a long time, so we will only scrape selected videos\n",
    "\n",
    "- With this notebook, we can use `download_videos.py` to:\n",
    "    1. Download all videos for one word from one data source \n",
    "        - (for review during the data organisation and cleaning)\n",
    "    2. Download all videos for one word from all data sources \n",
    "        - (for review during the data organisation and cleaning)\n",
    "    3. Download all videos for a collection of words from all data source \n",
    "        - (for creating our raw combined dataset, after we have decided our target words)"
   ]
  },
  {
   "cell_type": "code",
   "execution_count": 1,
   "metadata": {},
   "outputs": [],
   "source": [
    "import pathlib\n",
    "import os\n",
    "import pandas as pd\n",
    "import requests\n",
    "import download_videos as dv"
   ]
  },
  {
   "cell_type": "code",
   "execution_count": 2,
   "metadata": {},
   "outputs": [
    {
     "data": {
      "text/plain": [
       "'/home/ben/projects/SaoPauloBrazilChapter_BrazilianSignLanguage'"
      ]
     },
     "execution_count": 2,
     "metadata": {},
     "output_type": "execute_result"
    }
   ],
   "source": [
    "# change working directory to the project root directory\n",
    "current_dir = os.getcwd()\n",
    "os.chdir(current_dir + '/../../')\n",
    "# this should be the project root directory\n",
    "os.getcwd()"
   ]
  },
  {
   "cell_type": "markdown",
   "metadata": {},
   "source": [
    "## *for review during the data organisation and cleaning*"
   ]
  },
  {
   "cell_type": "code",
   "execution_count": 3,
   "metadata": {},
   "outputs": [],
   "source": [
    "# use the unclean metadata csv file for now\n",
    "metadata_df = pd.read_csv('data/raw/combined/metadata_combined_unclean.csv')"
   ]
  },
  {
   "cell_type": "markdown",
   "metadata": {},
   "source": [
    "### 1. Download all videos for one word from one data source"
   ]
  },
  {
   "cell_type": "markdown",
   "metadata": {},
   "source": [
    "Set the data source"
   ]
  },
  {
   "cell_type": "code",
   "execution_count": 4,
   "metadata": {},
   "outputs": [],
   "source": [
    "# choose from 'INES, 'V-Librasil', 'SignBank' or 'UFV' using 'ne', 'vl', 'sb' or 'uf'\n",
    "data_source_key = 'ne'"
   ]
  },
  {
   "cell_type": "markdown",
   "metadata": {},
   "source": [
    "Set the label for the word/video"
   ]
  },
  {
   "cell_type": "code",
   "execution_count": 5,
   "metadata": {},
   "outputs": [],
   "source": [
    "# choose word that exists in the metadata csv file\n",
    "label = 'ABSOLVER'"
   ]
  },
  {
   "cell_type": "markdown",
   "metadata": {},
   "source": [
    "Download the video\n",
    "- during the review stage, videos will be downloaded to the `data/raw/{data_source}/videos/` folder\n",
    "- during the creation of the (raw) combined dataset, videos will be downloaded to the `data/raw/combined/videos/` folder"
   ]
  },
  {
   "cell_type": "markdown",
   "metadata": {},
   "source": [
    "Download the video(s) to that Data Source's `/video` folder, with the filename `{label}_{i}.mp4`"
   ]
  },
  {
   "cell_type": "code",
   "execution_count": 6,
   "metadata": {},
   "outputs": [
    {
     "name": "stdout",
     "output_type": "stream",
     "text": [
      "Downloading video 1 from https://www.ines.gov.br/dicionario-de-libras/public/media/palavras/videos/absolverSm_Prog001.mp4\n",
      "Video successfully downloaded to data/raw/INES/videos/ABSOLVER_ne_1.mp4\n",
      "\n"
     ]
    }
   ],
   "source": [
    "dv.download_videos_from_metadata(\n",
    "    label = label,\n",
    "    metadata = metadata_df,\n",
    "    data_source_key = data_source_key,\n",
    "    verbose=True,\n",
    "    verify_ssl=True\n",
    ")"
   ]
  },
  {
   "cell_type": "markdown",
   "metadata": {},
   "source": [
    "### 2. Download all videos for one word from all data sources"
   ]
  },
  {
   "cell_type": "code",
   "execution_count": 7,
   "metadata": {},
   "outputs": [],
   "source": [
    "label = 'ABACATE'"
   ]
  },
  {
   "cell_type": "code",
   "execution_count": 8,
   "metadata": {},
   "outputs": [
    {
     "name": "stdout",
     "output_type": "stream",
     "text": [
      "Downloading video 1 from https://www.ines.gov.br/dicionario-de-libras/public/media/palavras/videos/abacateSm_Prog001.mp4\n",
      "Video successfully downloaded to data/raw/INES/videos/ABACATE_ne_1.mp4\n",
      "\n",
      "Downloading video 2 from https://videos.nals.cce.ufsc.br/SignBank/Vídeos/ABACATE.mp4\n",
      "Error downloading video from https://videos.nals.cce.ufsc.br/SignBank/Vídeos/ABACATE.mp4: HTTPSConnectionPool(host='videos.nals.cce.ufsc.br', port=443): Max retries exceeded with url: /SignBank/V%C3%ADdeos/ABACATE.mp4 (Caused by SSLError(SSLCertVerificationError(1, '[SSL: CERTIFICATE_VERIFY_FAILED] certificate verify failed: unable to get local issuer certificate (_ssl.c:1006)')))\n",
      "\n"
     ]
    }
   ],
   "source": [
    "dv.download_videos_from_metadata(\n",
    "    label = label,\n",
    "    metadata = metadata_df,\n",
    "    data_source_key = None,\n",
    "    verbose=True,\n",
    "    verify_ssl=True\n",
    ")"
   ]
  },
  {
   "cell_type": "markdown",
   "metadata": {},
   "source": [
    "## *for creating our combined raw dataset, after we have decided our target words*"
   ]
  },
  {
   "cell_type": "markdown",
   "metadata": {},
   "source": [
    "### 3. Download all videos for a collection of words from all data sources"
   ]
  },
  {
   "cell_type": "markdown",
   "metadata": {},
   "source": [
    "define list of target words "
   ]
  },
  {
   "cell_type": "code",
   "execution_count": 9,
   "metadata": {},
   "outputs": [],
   "source": [
    "target_words = ['ABACATE', 'ABSOLVER']"
   ]
  },
  {
   "cell_type": "markdown",
   "metadata": {},
   "source": [
    "download videos"
   ]
  },
  {
   "cell_type": "code",
   "execution_count": 12,
   "metadata": {},
   "outputs": [
    {
     "name": "stdout",
     "output_type": "stream",
     "text": [
      "-----\n",
      "Downloading videos for ABACATE\n",
      "-----\n",
      "Downloading video 1 from https://www.ines.gov.br/dicionario-de-libras/public/media/palavras/videos/abacateSm_Prog001.mp4\n",
      "Video successfully downloaded to data/raw/combined/videos/ABACATE_ne_1.mp4\n",
      "\n",
      "Downloading video 2 from https://videos.nals.cce.ufsc.br/SignBank/Vídeos/ABACATE.mp4\n",
      "Error downloading video from https://videos.nals.cce.ufsc.br/SignBank/Vídeos/ABACATE.mp4: HTTPSConnectionPool(host='videos.nals.cce.ufsc.br', port=443): Max retries exceeded with url: /SignBank/V%C3%ADdeos/ABACATE.mp4 (Caused by SSLError(SSLCertVerificationError(1, '[SSL: CERTIFICATE_VERIFY_FAILED] certificate verify failed: unable to get local issuer certificate (_ssl.c:1006)')))\n",
      "\n",
      "-----\n",
      "Downloading videos for ABSOLVER\n",
      "-----\n",
      "Downloading video 1 from https://www.ines.gov.br/dicionario-de-libras/public/media/palavras/videos/absolverSm_Prog001.mp4\n",
      "Video successfully downloaded to data/raw/combined/videos/ABSOLVER_ne_1.mp4\n",
      "\n"
     ]
    }
   ],
   "source": [
    "for word in target_words:\n",
    "    print('-----')\n",
    "    print(f'Downloading videos for {word}')\n",
    "    print('-----')\n",
    "    dv.download_videos_from_metadata(\n",
    "        label = word,\n",
    "        metadata = metadata_df,\n",
    "        combined = True,\n",
    "        verbose=True,\n",
    "        verify_ssl=True)"
   ]
  }
 ],
 "metadata": {
  "kernelspec": {
   "display_name": ".venv",
   "language": "python",
   "name": "python3"
  },
  "language_info": {
   "codemirror_mode": {
    "name": "ipython",
    "version": 3
   },
   "file_extension": ".py",
   "mimetype": "text/x-python",
   "name": "python",
   "nbconvert_exporter": "python",
   "pygments_lexer": "ipython3",
   "version": "3.11.8"
  }
 },
 "nbformat": 4,
 "nbformat_minor": 2
}
