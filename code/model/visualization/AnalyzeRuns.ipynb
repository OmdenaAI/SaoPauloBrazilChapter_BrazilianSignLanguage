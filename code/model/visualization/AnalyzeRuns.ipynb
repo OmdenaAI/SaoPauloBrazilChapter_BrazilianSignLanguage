{
 "cells": [
  {
   "cell_type": "code",
   "execution_count": 2,
   "metadata": {},
   "outputs": [],
   "source": [
    "%load_ext autoreload\n",
    "%autoreload 2"
   ]
  },
  {
   "cell_type": "code",
   "execution_count": 75,
   "metadata": {},
   "outputs": [],
   "source": [
    "import os\n",
    "import sys\n",
    "import json\n",
    "from omegaconf import OmegaConf\n",
    "import numpy as np\n",
    "import pandas as pd\n",
    "import torch"
   ]
  },
  {
   "cell_type": "code",
   "execution_count": 4,
   "metadata": {},
   "outputs": [],
   "source": [
    "path_to_root = \"/home/ben/projects/SaoPauloBrazilChapter_BrazilianSignLanguage\"\n",
    "os.chdir(path_to_root)"
   ]
  },
  {
   "cell_type": "code",
   "execution_count": 6,
   "metadata": {},
   "outputs": [],
   "source": [
    "sys.path.append(os.path.join(path_to_root, 'code'))"
   ]
  },
  {
   "cell_type": "code",
   "execution_count": 39,
   "metadata": {},
   "outputs": [],
   "source": [
    "from model.utils import analyze_runs as ar\n",
    "from model.dataset.landmark_dataset import LandmarkDataset\n",
    "from model.utils.utils import load_config, load_obj\n",
    "from model.utils.inference import InferenceEngine\n",
    "from model.utils.evaluate import EvaluationMetrics\n"
   ]
  },
  {
   "cell_type": "markdown",
   "metadata": {},
   "source": [
    "# Collate Run Results"
   ]
  },
  {
   "cell_type": "markdown",
   "metadata": {},
   "source": [
    "Main DF:\n",
    "- run name\n",
    "- best epoch\n",
    "- best train loss\n",
    "- best val loss\n",
    "- total epochs\n",
    "- final train loss\n",
    "- final val loss\n",
    "- model\n",
    "- position\n",
    "- angles\n",
    "- differences\n",
    "- distances\n",
    "- metadata\n",
    "- p_rotate\n",
    "- p_noise\n",
    "\n",
    "\n",
    "\n",
    "\n",
    "\n",
    "\n",
    "\n",
    "\n"
   ]
  },
  {
   "cell_type": "code",
   "execution_count": 10,
   "metadata": {},
   "outputs": [],
   "source": [
    "run_dir = \"/home/ben/projects/SaoPauloBrazilChapter_BrazilianSignLanguage/modelling/runs\""
   ]
  },
  {
   "cell_type": "code",
   "execution_count": 11,
   "metadata": {},
   "outputs": [
    {
     "name": "stdout",
     "output_type": "stream",
     "text": [
      "20250603_044021_LSTM\n",
      "20250604_151630_LSTM\n",
      "20250604_135401_LSTM\n",
      "20250603_234101_LSTM\n",
      "20250604_152517_LSTM\n",
      "runs\n",
      "GPU_LSTM\n",
      "Warning: Training log has 296 epochs, but the last epoch is 295\n",
      "20250604_141558_LSTM\n",
      "20250603_045043_LSTM\n",
      "20250604_140229_LSTM\n",
      "20250604_154019_LSTM\n",
      "20250604_155627_LSTM\n",
      "CPU_RNN\n"
     ]
    }
   ],
   "source": [
    "results_list = []\n",
    "for run_name in os.listdir(run_dir):\n",
    "    print(run_name)\n",
    "    if run_name == 'runs':\n",
    "        continue\n",
    "    results = ar.make_results_row(run_dir, run_name)\n",
    "    results_list.append(results)"
   ]
  },
  {
   "cell_type": "code",
   "execution_count": 12,
   "metadata": {},
   "outputs": [
    {
     "data": {
      "text/html": [
       "<div>\n",
       "<style scoped>\n",
       "    .dataframe tbody tr th:only-of-type {\n",
       "        vertical-align: middle;\n",
       "    }\n",
       "\n",
       "    .dataframe tbody tr th {\n",
       "        vertical-align: top;\n",
       "    }\n",
       "\n",
       "    .dataframe thead th {\n",
       "        text-align: right;\n",
       "    }\n",
       "</style>\n",
       "<table border=\"1\" class=\"dataframe\">\n",
       "  <thead>\n",
       "    <tr style=\"text-align: right;\">\n",
       "      <th></th>\n",
       "      <th>run_name</th>\n",
       "      <th>total_epochs</th>\n",
       "      <th>best_epoch</th>\n",
       "      <th>best_train_loss</th>\n",
       "      <th>best_val_loss</th>\n",
       "      <th>final_epoch</th>\n",
       "      <th>final_train_loss</th>\n",
       "      <th>final_val_loss</th>\n",
       "      <th>model</th>\n",
       "      <th>position</th>\n",
       "      <th>angles</th>\n",
       "      <th>differences</th>\n",
       "      <th>distances</th>\n",
       "      <th>metadata</th>\n",
       "      <th>p_rotate</th>\n",
       "      <th>p_noise</th>\n",
       "    </tr>\n",
       "  </thead>\n",
       "  <tbody>\n",
       "    <tr>\n",
       "      <th>0</th>\n",
       "      <td>20250603_044021_LSTM</td>\n",
       "      <td>1</td>\n",
       "      <td>1</td>\n",
       "      <td>3.201903</td>\n",
       "      <td>3.183843</td>\n",
       "      <td>1</td>\n",
       "      <td>3.201903</td>\n",
       "      <td>3.183843</td>\n",
       "      <td>LSTMClassifier</td>\n",
       "      <td>False</td>\n",
       "      <td>True</td>\n",
       "      <td>True</td>\n",
       "      <td>True</td>\n",
       "      <td>True</td>\n",
       "      <td>0.50</td>\n",
       "      <td>0.50</td>\n",
       "    </tr>\n",
       "    <tr>\n",
       "      <th>1</th>\n",
       "      <td>20250604_151630_LSTM</td>\n",
       "      <td>1</td>\n",
       "      <td>1</td>\n",
       "      <td>3.200801</td>\n",
       "      <td>3.189055</td>\n",
       "      <td>1</td>\n",
       "      <td>3.200801</td>\n",
       "      <td>3.189055</td>\n",
       "      <td>LSTMClassifier</td>\n",
       "      <td>False</td>\n",
       "      <td>True</td>\n",
       "      <td>True</td>\n",
       "      <td>True</td>\n",
       "      <td>True</td>\n",
       "      <td>0.50</td>\n",
       "      <td>0.50</td>\n",
       "    </tr>\n",
       "    <tr>\n",
       "      <th>2</th>\n",
       "      <td>20250604_135401_LSTM</td>\n",
       "      <td>1</td>\n",
       "      <td>1</td>\n",
       "      <td>3.202323</td>\n",
       "      <td>3.190910</td>\n",
       "      <td>1</td>\n",
       "      <td>3.202323</td>\n",
       "      <td>3.190910</td>\n",
       "      <td>LSTMClassifier</td>\n",
       "      <td>False</td>\n",
       "      <td>True</td>\n",
       "      <td>True</td>\n",
       "      <td>True</td>\n",
       "      <td>True</td>\n",
       "      <td>0.50</td>\n",
       "      <td>0.50</td>\n",
       "    </tr>\n",
       "    <tr>\n",
       "      <th>3</th>\n",
       "      <td>20250603_234101_LSTM</td>\n",
       "      <td>1</td>\n",
       "      <td>1</td>\n",
       "      <td>3.203872</td>\n",
       "      <td>3.191935</td>\n",
       "      <td>1</td>\n",
       "      <td>3.203872</td>\n",
       "      <td>3.191935</td>\n",
       "      <td>LSTMClassifier</td>\n",
       "      <td>False</td>\n",
       "      <td>True</td>\n",
       "      <td>True</td>\n",
       "      <td>True</td>\n",
       "      <td>True</td>\n",
       "      <td>0.50</td>\n",
       "      <td>0.50</td>\n",
       "    </tr>\n",
       "    <tr>\n",
       "      <th>4</th>\n",
       "      <td>20250604_152517_LSTM</td>\n",
       "      <td>1</td>\n",
       "      <td>1</td>\n",
       "      <td>3.218841</td>\n",
       "      <td>3.216040</td>\n",
       "      <td>1</td>\n",
       "      <td>3.218841</td>\n",
       "      <td>3.216040</td>\n",
       "      <td>LSTMClassifier</td>\n",
       "      <td>False</td>\n",
       "      <td>False</td>\n",
       "      <td>True</td>\n",
       "      <td>True</td>\n",
       "      <td>True</td>\n",
       "      <td>0.50</td>\n",
       "      <td>0.50</td>\n",
       "    </tr>\n",
       "    <tr>\n",
       "      <th>5</th>\n",
       "      <td>GPU_LSTM</td>\n",
       "      <td>296</td>\n",
       "      <td>245</td>\n",
       "      <td>0.000545</td>\n",
       "      <td>0.000491</td>\n",
       "      <td>295</td>\n",
       "      <td>11.743478</td>\n",
       "      <td>11.867972</td>\n",
       "      <td>LSTMClassifier</td>\n",
       "      <td>False</td>\n",
       "      <td>True</td>\n",
       "      <td>True</td>\n",
       "      <td>True</td>\n",
       "      <td>True</td>\n",
       "      <td>0.50</td>\n",
       "      <td>0.50</td>\n",
       "    </tr>\n",
       "    <tr>\n",
       "      <th>6</th>\n",
       "      <td>20250604_141558_LSTM</td>\n",
       "      <td>1</td>\n",
       "      <td>1</td>\n",
       "      <td>3.202030</td>\n",
       "      <td>3.189737</td>\n",
       "      <td>1</td>\n",
       "      <td>3.202030</td>\n",
       "      <td>3.189737</td>\n",
       "      <td>LSTMClassifier</td>\n",
       "      <td>False</td>\n",
       "      <td>True</td>\n",
       "      <td>True</td>\n",
       "      <td>True</td>\n",
       "      <td>True</td>\n",
       "      <td>0.50</td>\n",
       "      <td>0.50</td>\n",
       "    </tr>\n",
       "    <tr>\n",
       "      <th>7</th>\n",
       "      <td>20250603_045043_LSTM</td>\n",
       "      <td>1</td>\n",
       "      <td>1</td>\n",
       "      <td>3.196299</td>\n",
       "      <td>3.183420</td>\n",
       "      <td>1</td>\n",
       "      <td>3.196299</td>\n",
       "      <td>3.183420</td>\n",
       "      <td>LSTMClassifier</td>\n",
       "      <td>False</td>\n",
       "      <td>True</td>\n",
       "      <td>True</td>\n",
       "      <td>True</td>\n",
       "      <td>True</td>\n",
       "      <td>0.50</td>\n",
       "      <td>0.50</td>\n",
       "    </tr>\n",
       "    <tr>\n",
       "      <th>8</th>\n",
       "      <td>20250604_140229_LSTM</td>\n",
       "      <td>1</td>\n",
       "      <td>1</td>\n",
       "      <td>3.202752</td>\n",
       "      <td>3.188052</td>\n",
       "      <td>1</td>\n",
       "      <td>3.202752</td>\n",
       "      <td>3.188052</td>\n",
       "      <td>LSTMClassifier</td>\n",
       "      <td>False</td>\n",
       "      <td>True</td>\n",
       "      <td>True</td>\n",
       "      <td>True</td>\n",
       "      <td>True</td>\n",
       "      <td>0.50</td>\n",
       "      <td>0.50</td>\n",
       "    </tr>\n",
       "    <tr>\n",
       "      <th>9</th>\n",
       "      <td>20250604_154019_LSTM</td>\n",
       "      <td>1</td>\n",
       "      <td>1</td>\n",
       "      <td>3.219471</td>\n",
       "      <td>3.215849</td>\n",
       "      <td>1</td>\n",
       "      <td>3.219471</td>\n",
       "      <td>3.215849</td>\n",
       "      <td>LSTMClassifier</td>\n",
       "      <td>False</td>\n",
       "      <td>False</td>\n",
       "      <td>True</td>\n",
       "      <td>True</td>\n",
       "      <td>True</td>\n",
       "      <td>0.01</td>\n",
       "      <td>0.01</td>\n",
       "    </tr>\n",
       "    <tr>\n",
       "      <th>10</th>\n",
       "      <td>20250604_155627_LSTM</td>\n",
       "      <td>1</td>\n",
       "      <td>1</td>\n",
       "      <td>3.217728</td>\n",
       "      <td>3.215872</td>\n",
       "      <td>1</td>\n",
       "      <td>3.217728</td>\n",
       "      <td>3.215872</td>\n",
       "      <td>LSTMClassifier</td>\n",
       "      <td>False</td>\n",
       "      <td>False</td>\n",
       "      <td>True</td>\n",
       "      <td>True</td>\n",
       "      <td>True</td>\n",
       "      <td>0.01</td>\n",
       "      <td>0.01</td>\n",
       "    </tr>\n",
       "    <tr>\n",
       "      <th>11</th>\n",
       "      <td>CPU_RNN</td>\n",
       "      <td>93</td>\n",
       "      <td>47</td>\n",
       "      <td>0.017696</td>\n",
       "      <td>0.013476</td>\n",
       "      <td>93</td>\n",
       "      <td>0.469533</td>\n",
       "      <td>0.413062</td>\n",
       "      <td>RNNClassifier</td>\n",
       "      <td>False</td>\n",
       "      <td>True</td>\n",
       "      <td>True</td>\n",
       "      <td>True</td>\n",
       "      <td>True</td>\n",
       "      <td>0.50</td>\n",
       "      <td>0.50</td>\n",
       "    </tr>\n",
       "  </tbody>\n",
       "</table>\n",
       "</div>"
      ],
      "text/plain": [
       "                run_name  total_epochs  best_epoch  best_train_loss  \\\n",
       "0   20250603_044021_LSTM             1           1         3.201903   \n",
       "1   20250604_151630_LSTM             1           1         3.200801   \n",
       "2   20250604_135401_LSTM             1           1         3.202323   \n",
       "3   20250603_234101_LSTM             1           1         3.203872   \n",
       "4   20250604_152517_LSTM             1           1         3.218841   \n",
       "5               GPU_LSTM           296         245         0.000545   \n",
       "6   20250604_141558_LSTM             1           1         3.202030   \n",
       "7   20250603_045043_LSTM             1           1         3.196299   \n",
       "8   20250604_140229_LSTM             1           1         3.202752   \n",
       "9   20250604_154019_LSTM             1           1         3.219471   \n",
       "10  20250604_155627_LSTM             1           1         3.217728   \n",
       "11               CPU_RNN            93          47         0.017696   \n",
       "\n",
       "    best_val_loss  final_epoch  final_train_loss  final_val_loss  \\\n",
       "0        3.183843            1          3.201903        3.183843   \n",
       "1        3.189055            1          3.200801        3.189055   \n",
       "2        3.190910            1          3.202323        3.190910   \n",
       "3        3.191935            1          3.203872        3.191935   \n",
       "4        3.216040            1          3.218841        3.216040   \n",
       "5        0.000491          295         11.743478       11.867972   \n",
       "6        3.189737            1          3.202030        3.189737   \n",
       "7        3.183420            1          3.196299        3.183420   \n",
       "8        3.188052            1          3.202752        3.188052   \n",
       "9        3.215849            1          3.219471        3.215849   \n",
       "10       3.215872            1          3.217728        3.215872   \n",
       "11       0.013476           93          0.469533        0.413062   \n",
       "\n",
       "             model  position  angles  differences  distances  metadata  \\\n",
       "0   LSTMClassifier     False    True         True       True      True   \n",
       "1   LSTMClassifier     False    True         True       True      True   \n",
       "2   LSTMClassifier     False    True         True       True      True   \n",
       "3   LSTMClassifier     False    True         True       True      True   \n",
       "4   LSTMClassifier     False   False         True       True      True   \n",
       "5   LSTMClassifier     False    True         True       True      True   \n",
       "6   LSTMClassifier     False    True         True       True      True   \n",
       "7   LSTMClassifier     False    True         True       True      True   \n",
       "8   LSTMClassifier     False    True         True       True      True   \n",
       "9   LSTMClassifier     False   False         True       True      True   \n",
       "10  LSTMClassifier     False   False         True       True      True   \n",
       "11   RNNClassifier     False    True         True       True      True   \n",
       "\n",
       "    p_rotate  p_noise  \n",
       "0       0.50     0.50  \n",
       "1       0.50     0.50  \n",
       "2       0.50     0.50  \n",
       "3       0.50     0.50  \n",
       "4       0.50     0.50  \n",
       "5       0.50     0.50  \n",
       "6       0.50     0.50  \n",
       "7       0.50     0.50  \n",
       "8       0.50     0.50  \n",
       "9       0.01     0.01  \n",
       "10      0.01     0.01  \n",
       "11      0.50     0.50  "
      ]
     },
     "execution_count": 12,
     "metadata": {},
     "output_type": "execute_result"
    }
   ],
   "source": [
    "pd.DataFrame(results_list)\n"
   ]
  },
  {
   "cell_type": "markdown",
   "metadata": {},
   "source": [
    "# Test Best Models"
   ]
  },
  {
   "cell_type": "markdown",
   "metadata": {},
   "source": [
    "Add on:\n",
    "- sample acc\n",
    "- sample acc topk\n",
    "- series_majority acc\n",
    "- series_logits acc\n",
    "- series_confidence acc\n",
    "- sample loss\n",
    "- series_majority loss\n",
    "- series_logits loss\n",
    "- series_confidence loss"
   ]
  },
  {
   "cell_type": "code",
   "execution_count": 16,
   "metadata": {},
   "outputs": [],
   "source": [
    "run_name = 'CPU_RNN'"
   ]
  },
  {
   "cell_type": "markdown",
   "metadata": {},
   "source": [
    "Load Config"
   ]
  },
  {
   "cell_type": "code",
   "execution_count": 17,
   "metadata": {},
   "outputs": [],
   "source": [
    "model_dir = os.path.join(run_dir, run_name)\n",
    "config_path = os.path.join(model_dir, \"config.yaml\")\n",
    "config = OmegaConf.load(config_path)"
   ]
  },
  {
   "cell_type": "markdown",
   "metadata": {},
   "source": [
    "Load Datasets (with no augmentation)"
   ]
  },
  {
   "cell_type": "code",
   "execution_count": 29,
   "metadata": {},
   "outputs": [
    {
     "name": "stdout",
     "output_type": "stream",
     "text": [
      "general\n",
      "\texperiment_name: None\n",
      "\tauthor: None\n",
      "optimizer\n",
      "\tclass_name: torch.optim.AdamW\n",
      "\tparams: {'lr': '${training.lr}', 'weight_decay': 0.001}\n",
      "scheduler\n",
      "\tclass_name: torch.optim.lr_scheduler.ReduceLROnPlateau\n",
      "\tparams: {'mode': 'min', 'factor': 0.1, 'patience': 3}\n",
      "model\n",
      "\tclass_name: model.models.rnn_classifiers.RNNClassifier\n",
      "\tparams: {'hidden_size': 256, 'num_layers': 2, 'num_classes': 25, 'input_size': 189}\n",
      "dataset\n",
      "\tdata_version: v4\n",
      "\tframe_sampling_train: {'enabled': True, 'method': 'multiple_uniform', 'params': {'frames_per_sample': 20, 'num_samples_limit': 5, 'replacement_rate': 0.2, 'include_remaining': True}}\n",
      "\tframe_sampling_test: {'method': 'multiple_uniform', 'params': {'frames_per_sample': 20, 'num_samples_limit': 5, 'replacement_rate': 0.2, 'include_remaining': True}}\n",
      "\tlandmark_types: ['pose', 'right_hand', 'left_hand']\n",
      "\tordering: ['features', 'landmark_types']\n",
      "\tpaths: {'preprocessed_base': 'data/preprocessed', 'metadata_base': 'modelling/metadata', 'logs_base': '../drive/MyDrive/Omdena LIBRAS SLP/Data/runs', 'landmark_arrays_base': 'modelling/landmark_arrays'}\n",
      "training\n",
      "\tnum_epochs: 300\n",
      "\ttrain_batch_size: 64\n",
      "\tval_batch_size: 256\n",
      "\tpatience: 50\n",
      "\tlr: 0.0001\n",
      "\tdevice: cpu\n",
      "\ttype: cross_validation\n",
      "\tk_folds: 5\n",
      "\tresume: False\n",
      "\trun_dir: ../drive/MyDrive/Omdena LIBRAS SLP/Data/runs/20250603_055129_LSTM\n",
      "features\n",
      "\tangles: {'class_name': 'model.features.angles_estimator.AnglesEstimator', 'hand': {'thumb_base': [0, 1, 2], 'thumb_bend': [1, 2, 3], 'thumb_tip': [2, 3, 4], 'index_bend': [5, 6, 7], 'index_tip': [6, 7, 8], 'middle_bend': [9, 10, 11], 'middle_tip': [10, 11, 12], 'ring_bend': [13, 14, 15], 'ring_tip': [14, 15, 16], 'pinky_bend': [17, 18, 19], 'pinky_tip': [18, 19, 20], 'thumb_index_spread_angle': [4, 0, 8], 'index_ring_spread_angle': [8, 0, 16], 'middle_finger_angle': [0, 9, 12], 'pinky_finger_angle': [0, 17, 20]}, 'pose': {'right_shoulder_angle': [12, 14, 16], 'right_elbow_to_thumb_angle': [14, 16, 18], 'right_wrist_spread_angle': [18, 16, 22], 'right_shoulder_tilt_angle': [14, 12, 24], 'left_shoulder_angle': [11, 13, 15], 'left_elbow_to_thumb_angle': [13, 15, 17], 'left_wrist_spread_angle': [17, 15, 21], 'left_shoulder_tilt_angle': [13, 11, 23], 'left_elbow_angle': [13, 15, 19], 'right_elbow_angle': [14, 16, 20], 'shoulder_neck_tilt': [11, 0, 12], 'left_arm_curve': [11, 15, 19], 'right_arm_curve': [12, 16, 20]}, 'computation_type': 'clockwise_func', 'mode': '2D'}\n",
      "\tdifferences: {'class_name': 'model.features.differences_frame2frame_estimator.DifferencesEstimator', 'hand': {'wrist': 0, 'thumb_tip': 4, 'index_tip': 8, 'middle_tip': 12, 'ring_tip': 16, 'pinky_tip': 20, 'index_base': 5, 'middle_base': 9, 'ring_base': 13, 'pinky_base': 17}, 'pose': {'nose': 0, 'left_shoulder': 11, 'right_shoulder': 12, 'left_elbow': 13, 'right_elbow': 14, 'left_wrist': 15, 'right_wrist': 16, 'left_index': 19, 'right_index': 20, 'left_thumb': 21, 'right_thumb': 22}, 'computation_type': 'normalized_diff', 'mode': '2D'}\n",
      "\tdistances: {'class_name': 'model.features.distances_estimator.DistancesEstimator', 'hand': {'thumb_index_tip': [4, 8], 'thumb_middle_tip': [4, 12], 'thumb_ring_tip': [4, 16], 'thumb_pinky_tip': [4, 20], 'index_middle_tip': [8, 12], 'middle_ring_tip': [12, 16], 'ring_pinky_tip': [16, 20], 'index_ring_tip': [8, 16], 'index_pinky_tip': [8, 20], 'index_base_spread': [5, 9], 'middle_base_spread': [9, 13], 'ring_base_spread': [13, 17]}, 'pose': {'wrist_distance': [15, 16], 'index_distance': [19, 20], 'thumb_distance': [21, 22], 'left_hand_to_head': [15, 0], 'right_hand_to_head': [16, 0], 'left_hand_to_left_shoulder': [15, 11], 'right_hand_to_right_shoulder': [16, 12], 'left_hand_to_right_shoulder': [15, 12], 'right_hand_to_left_shoulder': [16, 11]}, 'computation_type': 'shifted_dist', 'mode': '2D'}\n",
      "\tmetadata: {'scale_range': [-1, 1], 'metadata_row_features': [{'column': 'original_fps', 'max_for_scaling': 60.0}, {'column': 'processed_frame_count', 'max_for_scaling': 350.0}, {'column': 'processed_duration_sec', 'max_for_scaling': 7.0}, {'column': 'relative_frame_position', 'max_for_scaling': None}], 'metadata_json_features': [{'path': ['landmark_none_mask_arrays', 'left_hand_landmarks', 'interpolation_binary_array'], 'max_for_scaling': 1.0}, {'path': ['landmark_none_mask_arrays', 'left_hand_landmarks', 'interpolation_sequence_length_array_no_trailing_values'], 'max_for_scaling': 15.0}, {'path': ['landmark_none_mask_arrays', 'right_hand_landmarks', 'interpolation_binary_array'], 'max_for_scaling': 1.0}, {'path': ['landmark_none_mask_arrays', 'right_hand_landmarks', 'interpolation_sequence_length_array_no_trailing_values'], 'max_for_scaling': 15.0}]}\n",
      "augmentation\n",
      "\ttrain: {'rotate': {'class_name': 'model.dataset.augmentations.RotateLandmarks', 'p': 0.5, 'params': {'angle_range': 10}}, 'noise': {'class_name': 'model.dataset.augmentations.LandmarksNoise', 'p': 0.5, 'params': {'noise_std': 0.01}}}\n",
      "\tval: None\n",
      "\ttest: None\n"
     ]
    }
   ],
   "source": [
    "for k, v in config.items():\n",
    "    print(k)\n",
    "    for k2, v2 in v.items():\n",
    "        print(f'\\t{k2}: {v2}')"
   ]
  },
  {
   "cell_type": "code",
   "execution_count": 114,
   "metadata": {},
   "outputs": [],
   "source": [
    "metadata_path = os.path.join(\n",
    "    path_to_root,\n",
    "    \"modelling\",\n",
    "    \"metadata\",\n",
    "    )\n",
    "training_metadata = pd.read_csv(os.path.join(metadata_path, f\"landmarks_metadata_{config.dataset.data_version}_training.csv\"))\n",
    "with open(os.path.join(metadata_path, \"label_encoding.json\"), \"r\") as f:\n",
    "    label_encoding = json.load(f)\n",
    "class_names = [label_encoding[str(i)] for i in range(len(label_encoding))]"
   ]
  },
  {
   "cell_type": "code",
   "execution_count": 115,
   "metadata": {},
   "outputs": [
    {
     "data": {
      "text/plain": [
       "['banana', 'sopa', 'garganta', 'café', 'aniversário', 'vagina', 'animal', 'cortar', 'carne', 'jovem', 'casa', 'banheiro', 'cebola', 'sorvete', 'homem', 'ajudar', 'crescer', 'família', 'cabeça', 'pai', 'ano', 'comer', 'ouvir', 'bebê', 'filho']"
      ]
     },
     "execution_count": 115,
     "metadata": {},
     "output_type": "execute_result"
    }
   ],
   "source": [
    "class_names"
   ]
  },
  {
   "cell_type": "code",
   "execution_count": 30,
   "metadata": {},
   "outputs": [
    {
     "name": "stderr",
     "output_type": "stream",
     "text": [
      "2025-06-12 11:35:22.991276: E external/local_xla/xla/stream_executor/cuda/cuda_fft.cc:477] Unable to register cuFFT factory: Attempting to register factory for plugin cuFFT when one has already been registered\n",
      "WARNING: All log messages before absl::InitializeLog() is called are written to STDERR\n",
      "E0000 00:00:1749695723.045479   13200 cuda_dnn.cc:8310] Unable to register cuDNN factory: Attempting to register factory for plugin cuDNN when one has already been registered\n",
      "E0000 00:00:1749695723.073976   13200 cuda_blas.cc:1418] Unable to register cuBLAS factory: Attempting to register factory for plugin cuBLAS when one has already been registered\n",
      "2025-06-12 11:35:23.348545: I tensorflow/core/platform/cpu_feature_guard.cc:210] This TensorFlow binary is optimized to use available CPU instructions in performance-critical operations.\n",
      "To enable the following instructions: AVX2 FMA, in other operations, rebuild TensorFlow with the appropriate compiler flags.\n"
     ]
    }
   ],
   "source": [
    "augmentations = {\n",
    "    \"train\": None,\n",
    "    \"test\": None,\n",
    "}\n",
    "\n",
    "train_dataset = LandmarkDataset(\n",
    "    config.dataset, config.features, augmentations, \"train\"\n",
    ")\n",
    "test_dataset = LandmarkDataset(\n",
    "    config.dataset, config.features, augmentations, \"test\"\n",
    ")"
   ]
  },
  {
   "cell_type": "code",
   "execution_count": 35,
   "metadata": {},
   "outputs": [
    {
     "data": {
      "text/plain": [
       "(564, 111)"
      ]
     },
     "execution_count": 35,
     "metadata": {},
     "output_type": "execute_result"
    }
   ],
   "source": [
    "len(train_dataset), len(test_dataset)"
   ]
  },
  {
   "cell_type": "markdown",
   "metadata": {},
   "source": [
    "Load Model"
   ]
  },
  {
   "cell_type": "code",
   "execution_count": 41,
   "metadata": {},
   "outputs": [
    {
     "data": {
      "text/plain": [
       "RNNClassifier(\n",
       "  (rnn): GRU(189, 256, num_layers=2, batch_first=True)\n",
       "  (fc): Linear(in_features=256, out_features=25, bias=True)\n",
       ")"
      ]
     },
     "execution_count": 41,
     "metadata": {},
     "output_type": "execute_result"
    }
   ],
   "source": [
    "checkpoint_path = os.path.join(model_dir, \"best_model.pt\")\n",
    "checkpoint = torch.load(checkpoint_path, map_location='cpu')\n",
    "model = load_obj(config.model.class_name)(**config.model.params)\n",
    "model.load_state_dict(checkpoint['model_state_dict'])\n",
    "model.to('cpu')"
   ]
  },
  {
   "cell_type": "markdown",
   "metadata": {},
   "source": [
    "Inference"
   ]
  },
  {
   "cell_type": "code",
   "execution_count": 42,
   "metadata": {},
   "outputs": [],
   "source": [
    "sample_inference = InferenceEngine(\n",
    "    model=model,\n",
    "    device='cpu',\n",
    "    ensemble_strategy=None\n",
    ")\n",
    "majority_inference = InferenceEngine(\n",
    "    model=model,\n",
    "    device='cpu',\n",
    "    ensemble_strategy='majority'\n",
    ")"
   ]
  },
  {
   "cell_type": "code",
   "execution_count": 65,
   "metadata": {},
   "outputs": [],
   "source": [
    "sample_train_preds, sample_train_labels, sample_train_probs = sample_inference.predict(train_dataset, return_labels=True, return_full_probs=True)"
   ]
  },
  {
   "cell_type": "code",
   "execution_count": 154,
   "metadata": {},
   "outputs": [
    {
     "data": {
      "text/plain": [
       "(2, 1)"
      ]
     },
     "execution_count": 154,
     "metadata": {},
     "output_type": "execute_result"
    }
   ],
   "source": [
    "np.zeros((2,1)).shape"
   ]
  },
  {
   "cell_type": "code",
   "execution_count": 157,
   "metadata": {},
   "outputs": [
    {
     "data": {
      "text/plain": [
       "array([0, 0])"
      ]
     },
     "execution_count": 157,
     "metadata": {},
     "output_type": "execute_result"
    }
   ],
   "source": [
    "np.zeros((2,1), dtype=int).flatten()"
   ]
  },
  {
   "cell_type": "code",
   "execution_count": 159,
   "metadata": {},
   "outputs": [
    {
     "data": {
      "text/plain": [
       "array([2])"
      ]
     },
     "execution_count": 159,
     "metadata": {},
     "output_type": "execute_result"
    }
   ],
   "source": [
    "np.bincount(np.zeros((2,1), dtype=int).flatten())"
   ]
  },
  {
   "cell_type": "code",
   "execution_count": 162,
   "metadata": {},
   "outputs": [
    {
     "data": {
      "text/plain": [
       "7"
      ]
     },
     "execution_count": 162,
     "metadata": {},
     "output_type": "execute_result"
    }
   ],
   "source": [
    "np.bincount(np.array([1,2,3,4,5,6,7,7,9,10])).argmax()"
   ]
  },
  {
   "cell_type": "code",
   "execution_count": 165,
   "metadata": {},
   "outputs": [
    {
     "name": "stdout",
     "output_type": "stream",
     "text": [
      "2\n",
      "features torch.Size([1, 20, 189])\n",
      "labels [tensor([0]), tensor([0])]\n",
      "(2, 25)\n",
      "(2,)\n",
      "4\n",
      "features torch.Size([1, 20, 189])\n",
      "labels [tensor([0]), tensor([0]), tensor([0]), tensor([0])]\n",
      "(4, 25)\n",
      "(4,)\n",
      "5\n",
      "features torch.Size([1, 20, 189])\n",
      "labels [tensor([0]), tensor([0]), tensor([0]), tensor([0]), tensor([0])]\n",
      "(5, 25)\n",
      "(5,)\n",
      "5\n",
      "features torch.Size([1, 20, 189])\n",
      "labels [tensor([0]), tensor([0]), tensor([0]), tensor([0]), tensor([0])]\n",
      "(5, 25)\n",
      "(5,)\n",
      "5\n",
      "features torch.Size([1, 20, 189])\n",
      "labels [tensor([0]), tensor([0]), tensor([0]), tensor([0]), tensor([0])]\n",
      "(5, 25)\n",
      "(5,)\n",
      "3\n",
      "features torch.Size([1, 20, 189])\n",
      "labels [tensor([1]), tensor([1]), tensor([1])]\n",
      "(3, 25)\n",
      "(3,)\n",
      "5\n",
      "features torch.Size([1, 20, 189])\n",
      "labels [tensor([1]), tensor([1]), tensor([1]), tensor([1]), tensor([1])]\n",
      "(5, 25)\n",
      "(5,)\n",
      "6\n",
      "features torch.Size([1, 20, 189])\n",
      "labels [tensor([1]), tensor([1]), tensor([1]), tensor([1]), tensor([1]), tensor([1])]\n",
      "(6, 25)\n",
      "(6,)\n",
      "5\n",
      "features torch.Size([1, 20, 189])\n",
      "labels [tensor([1]), tensor([1]), tensor([1]), tensor([1]), tensor([1])]\n",
      "(5, 25)\n",
      "(5,)\n",
      "5\n",
      "features torch.Size([1, 20, 189])\n",
      "labels [tensor([1]), tensor([1]), tensor([1]), tensor([1]), tensor([1])]\n",
      "(5, 25)\n",
      "(5,)\n",
      "3\n",
      "features torch.Size([1, 20, 189])\n",
      "labels [tensor([2]), tensor([2]), tensor([2])]\n",
      "(3, 25)\n",
      "(3,)\n",
      "4\n",
      "features torch.Size([1, 20, 189])\n",
      "labels [tensor([2]), tensor([2]), tensor([2]), tensor([2])]\n",
      "(4, 25)\n",
      "(4,)\n",
      "5\n",
      "features torch.Size([1, 20, 189])\n",
      "labels [tensor([2]), tensor([2]), tensor([2]), tensor([2]), tensor([2])]\n",
      "(5, 25)\n",
      "(5,)\n",
      "5\n",
      "features torch.Size([1, 20, 189])\n",
      "labels [tensor([2]), tensor([2]), tensor([2]), tensor([2]), tensor([2])]\n",
      "(5, 25)\n",
      "(5,)\n",
      "5\n",
      "features torch.Size([1, 20, 189])\n",
      "labels [tensor([2]), tensor([2]), tensor([2]), tensor([2]), tensor([2])]\n",
      "(5, 25)\n",
      "(5,)\n",
      "3\n",
      "features torch.Size([1, 20, 189])\n",
      "labels [tensor([3]), tensor([3]), tensor([3])]\n",
      "(3, 25)\n",
      "(3,)\n",
      "5\n",
      "features torch.Size([1, 20, 189])\n",
      "labels [tensor([3]), tensor([3]), tensor([3]), tensor([3]), tensor([3])]\n",
      "(5, 25)\n",
      "(5,)\n",
      "5\n",
      "features torch.Size([1, 20, 189])\n",
      "labels [tensor([3]), tensor([3]), tensor([3]), tensor([3]), tensor([3])]\n",
      "(5, 25)\n",
      "(5,)\n",
      "5\n",
      "features torch.Size([1, 20, 189])\n",
      "labels [tensor([3]), tensor([3]), tensor([3]), tensor([3]), tensor([3])]\n",
      "(5, 25)\n",
      "(5,)\n",
      "5\n",
      "features torch.Size([1, 20, 189])\n",
      "labels [tensor([3]), tensor([3]), tensor([3]), tensor([3]), tensor([3])]\n",
      "(5, 25)\n",
      "(5,)\n",
      "5\n",
      "features torch.Size([1, 20, 189])\n",
      "labels [tensor([4]), tensor([4]), tensor([4]), tensor([4]), tensor([4])]\n",
      "(5, 25)\n",
      "(5,)\n",
      "5\n",
      "features torch.Size([1, 20, 189])\n",
      "labels [tensor([4]), tensor([4]), tensor([4]), tensor([4]), tensor([4])]\n",
      "(5, 25)\n",
      "(5,)\n",
      "5\n",
      "features torch.Size([1, 20, 189])\n",
      "labels [tensor([4]), tensor([4]), tensor([4]), tensor([4]), tensor([4])]\n",
      "(5, 25)\n",
      "(5,)\n",
      "5\n",
      "features torch.Size([1, 20, 189])\n",
      "labels [tensor([4]), tensor([4]), tensor([4]), tensor([4]), tensor([4])]\n",
      "(5, 25)\n",
      "(5,)\n",
      "5\n",
      "features torch.Size([1, 20, 189])\n",
      "labels [tensor([4]), tensor([4]), tensor([4]), tensor([4]), tensor([4])]\n",
      "(5, 25)\n",
      "(5,)\n",
      "2\n",
      "features torch.Size([1, 20, 189])\n",
      "labels [tensor([5]), tensor([5])]\n",
      "(2, 25)\n",
      "(2,)\n",
      "5\n",
      "features torch.Size([1, 20, 189])\n",
      "labels [tensor([5]), tensor([5]), tensor([5]), tensor([5]), tensor([5])]\n",
      "(5, 25)\n",
      "(5,)\n",
      "6\n",
      "features torch.Size([1, 20, 189])\n",
      "labels [tensor([5]), tensor([5]), tensor([5]), tensor([5]), tensor([5]), tensor([5])]\n",
      "(6, 25)\n",
      "(6,)\n",
      "5\n",
      "features torch.Size([1, 20, 189])\n",
      "labels [tensor([5]), tensor([5]), tensor([5]), tensor([5]), tensor([5])]\n",
      "(5, 25)\n",
      "(5,)\n",
      "5\n",
      "features torch.Size([1, 20, 189])\n",
      "labels [tensor([5]), tensor([5]), tensor([5]), tensor([5]), tensor([5])]\n",
      "(5, 25)\n",
      "(5,)\n",
      "2\n",
      "features torch.Size([1, 20, 189])\n",
      "labels [tensor([6]), tensor([6])]\n",
      "(2, 25)\n",
      "(2,)\n",
      "5\n",
      "features torch.Size([1, 20, 189])\n",
      "labels [tensor([6]), tensor([6]), tensor([6]), tensor([6]), tensor([6])]\n",
      "(5, 25)\n",
      "(5,)\n",
      "6\n",
      "features torch.Size([1, 20, 189])\n",
      "labels [tensor([6]), tensor([6]), tensor([6]), tensor([6]), tensor([6]), tensor([6])]\n",
      "(6, 25)\n",
      "(6,)\n",
      "5\n",
      "features torch.Size([1, 20, 189])\n",
      "labels [tensor([6]), tensor([6]), tensor([6]), tensor([6]), tensor([6])]\n",
      "(5, 25)\n",
      "(5,)\n",
      "5\n",
      "features torch.Size([1, 20, 189])\n",
      "labels [tensor([6]), tensor([6]), tensor([6]), tensor([6]), tensor([6])]\n",
      "(5, 25)\n",
      "(5,)\n",
      "3\n",
      "features torch.Size([1, 20, 189])\n",
      "labels [tensor([7]), tensor([7]), tensor([7])]\n",
      "(3, 25)\n",
      "(3,)\n",
      "5\n",
      "features torch.Size([1, 20, 189])\n",
      "labels [tensor([7]), tensor([7]), tensor([7]), tensor([7]), tensor([7])]\n",
      "(5, 25)\n",
      "(5,)\n",
      "5\n",
      "features torch.Size([1, 20, 189])\n",
      "labels [tensor([7]), tensor([7]), tensor([7]), tensor([7]), tensor([7])]\n",
      "(5, 25)\n",
      "(5,)\n",
      "5\n",
      "features torch.Size([1, 20, 189])\n",
      "labels [tensor([7]), tensor([7]), tensor([7]), tensor([7]), tensor([7])]\n",
      "(5, 25)\n",
      "(5,)\n",
      "5\n",
      "features torch.Size([1, 20, 189])\n",
      "labels [tensor([7]), tensor([7]), tensor([7]), tensor([7]), tensor([7])]\n",
      "(5, 25)\n",
      "(5,)\n",
      "3\n",
      "features torch.Size([1, 20, 189])\n",
      "labels [tensor([8]), tensor([8]), tensor([8])]\n",
      "(3, 25)\n",
      "(3,)\n",
      "4\n",
      "features torch.Size([1, 20, 189])\n",
      "labels [tensor([8]), tensor([8]), tensor([8]), tensor([8])]\n",
      "(4, 25)\n",
      "(4,)\n",
      "5\n",
      "features torch.Size([1, 20, 189])\n",
      "labels [tensor([8]), tensor([8]), tensor([8]), tensor([8]), tensor([8])]\n",
      "(5, 25)\n",
      "(5,)\n",
      "5\n",
      "features torch.Size([1, 20, 189])\n",
      "labels [tensor([8]), tensor([8]), tensor([8]), tensor([8]), tensor([8])]\n",
      "(5, 25)\n",
      "(5,)\n",
      "5\n",
      "features torch.Size([1, 20, 189])\n",
      "labels [tensor([8]), tensor([8]), tensor([8]), tensor([8]), tensor([8])]\n",
      "(5, 25)\n",
      "(5,)\n",
      "3\n",
      "features torch.Size([1, 20, 189])\n",
      "labels [tensor([9]), tensor([9]), tensor([9])]\n",
      "(3, 25)\n",
      "(3,)\n",
      "6\n",
      "features torch.Size([1, 20, 189])\n",
      "labels [tensor([9]), tensor([9]), tensor([9]), tensor([9]), tensor([9]), tensor([9])]\n",
      "(6, 25)\n",
      "(6,)\n",
      "5\n",
      "features torch.Size([1, 20, 189])\n",
      "labels [tensor([9]), tensor([9]), tensor([9]), tensor([9]), tensor([9])]\n",
      "(5, 25)\n",
      "(5,)\n",
      "5\n",
      "features torch.Size([1, 20, 189])\n",
      "labels [tensor([9]), tensor([9]), tensor([9]), tensor([9]), tensor([9])]\n",
      "(5, 25)\n",
      "(5,)\n",
      "5\n",
      "features torch.Size([1, 20, 189])\n",
      "labels [tensor([9]), tensor([9]), tensor([9]), tensor([9]), tensor([9])]\n",
      "(5, 25)\n",
      "(5,)\n",
      "4\n",
      "features torch.Size([1, 20, 189])\n",
      "labels [tensor([10]), tensor([10]), tensor([10]), tensor([10])]\n",
      "(4, 25)\n",
      "(4,)\n",
      "5\n",
      "features torch.Size([1, 20, 189])\n",
      "labels [tensor([10]), tensor([10]), tensor([10]), tensor([10]), tensor([10])]\n",
      "(5, 25)\n",
      "(5,)\n",
      "5\n",
      "features torch.Size([1, 20, 189])\n",
      "labels [tensor([10]), tensor([10]), tensor([10]), tensor([10]), tensor([10])]\n",
      "(5, 25)\n",
      "(5,)\n",
      "5\n",
      "features torch.Size([1, 20, 189])\n",
      "labels [tensor([10]), tensor([10]), tensor([10]), tensor([10]), tensor([10])]\n",
      "(5, 25)\n",
      "(5,)\n",
      "5\n",
      "features torch.Size([1, 20, 189])\n",
      "labels [tensor([10]), tensor([10]), tensor([10]), tensor([10]), tensor([10])]\n",
      "(5, 25)\n",
      "(5,)\n",
      "3\n",
      "features torch.Size([1, 20, 189])\n",
      "labels [tensor([11]), tensor([11]), tensor([11])]\n",
      "(3, 25)\n",
      "(3,)\n",
      "5\n",
      "features torch.Size([1, 20, 189])\n",
      "labels [tensor([11]), tensor([11]), tensor([11]), tensor([11]), tensor([11])]\n",
      "(5, 25)\n",
      "(5,)\n",
      "5\n",
      "features torch.Size([1, 20, 189])\n",
      "labels [tensor([11]), tensor([11]), tensor([11]), tensor([11]), tensor([11])]\n",
      "(5, 25)\n",
      "(5,)\n",
      "5\n",
      "features torch.Size([1, 20, 189])\n",
      "labels [tensor([11]), tensor([11]), tensor([11]), tensor([11]), tensor([11])]\n",
      "(5, 25)\n",
      "(5,)\n",
      "5\n",
      "features torch.Size([1, 20, 189])\n",
      "labels [tensor([11]), tensor([11]), tensor([11]), tensor([11]), tensor([11])]\n",
      "(5, 25)\n",
      "(5,)\n",
      "3\n",
      "features torch.Size([1, 20, 189])\n",
      "labels [tensor([12]), tensor([12]), tensor([12])]\n",
      "(3, 25)\n",
      "(3,)\n",
      "5\n",
      "features torch.Size([1, 20, 189])\n",
      "labels [tensor([12]), tensor([12]), tensor([12]), tensor([12]), tensor([12])]\n",
      "(5, 25)\n",
      "(5,)\n",
      "4\n",
      "features torch.Size([1, 20, 189])\n",
      "labels [tensor([12]), tensor([12]), tensor([12]), tensor([12])]\n",
      "(4, 25)\n",
      "(4,)\n",
      "5\n",
      "features torch.Size([1, 20, 189])\n",
      "labels [tensor([12]), tensor([12]), tensor([12]), tensor([12]), tensor([12])]\n",
      "(5, 25)\n",
      "(5,)\n",
      "5\n",
      "features torch.Size([1, 20, 189])\n",
      "labels [tensor([12]), tensor([12]), tensor([12]), tensor([12]), tensor([12])]\n",
      "(5, 25)\n",
      "(5,)\n",
      "2\n",
      "features torch.Size([1, 20, 189])\n",
      "labels [tensor([13]), tensor([13])]\n",
      "(2, 25)\n",
      "(2,)\n",
      "4\n",
      "features torch.Size([1, 20, 189])\n",
      "labels [tensor([13]), tensor([13]), tensor([13]), tensor([13])]\n",
      "(4, 25)\n",
      "(4,)\n",
      "5\n",
      "features torch.Size([1, 20, 189])\n",
      "labels [tensor([13]), tensor([13]), tensor([13]), tensor([13]), tensor([13])]\n",
      "(5, 25)\n",
      "(5,)\n",
      "5\n",
      "features torch.Size([1, 20, 189])\n",
      "labels [tensor([13]), tensor([13]), tensor([13]), tensor([13]), tensor([13])]\n",
      "(5, 25)\n",
      "(5,)\n",
      "5\n",
      "features torch.Size([1, 20, 189])\n",
      "labels [tensor([13]), tensor([13]), tensor([13]), tensor([13]), tensor([13])]\n",
      "(5, 25)\n",
      "(5,)\n",
      "2\n",
      "features torch.Size([1, 20, 189])\n",
      "labels [tensor([14]), tensor([14])]\n",
      "(2, 25)\n",
      "(2,)\n",
      "5\n",
      "features torch.Size([1, 20, 189])\n",
      "labels [tensor([14]), tensor([14]), tensor([14]), tensor([14]), tensor([14])]\n",
      "(5, 25)\n",
      "(5,)\n",
      "5\n",
      "features torch.Size([1, 20, 189])\n",
      "labels [tensor([14]), tensor([14]), tensor([14]), tensor([14]), tensor([14])]\n",
      "(5, 25)\n",
      "(5,)\n",
      "5\n",
      "features torch.Size([1, 20, 189])\n",
      "labels [tensor([14]), tensor([14]), tensor([14]), tensor([14]), tensor([14])]\n",
      "(5, 25)\n",
      "(5,)\n",
      "5\n",
      "features torch.Size([1, 20, 189])\n",
      "labels [tensor([14]), tensor([14]), tensor([14]), tensor([14]), tensor([14])]\n",
      "(5, 25)\n",
      "(5,)\n",
      "2\n",
      "features torch.Size([1, 20, 189])\n",
      "labels [tensor([15]), tensor([15])]\n",
      "(2, 25)\n",
      "(2,)\n",
      "6\n",
      "features torch.Size([1, 20, 189])\n",
      "labels [tensor([15]), tensor([15]), tensor([15]), tensor([15]), tensor([15]), tensor([15])]\n",
      "(6, 25)\n",
      "(6,)\n",
      "5\n",
      "features torch.Size([1, 20, 189])\n",
      "labels [tensor([15]), tensor([15]), tensor([15]), tensor([15]), tensor([15])]\n",
      "(5, 25)\n",
      "(5,)\n",
      "5\n",
      "features torch.Size([1, 20, 189])\n",
      "labels [tensor([15]), tensor([15]), tensor([15]), tensor([15]), tensor([15])]\n",
      "(5, 25)\n",
      "(5,)\n",
      "5\n",
      "features torch.Size([1, 20, 189])\n",
      "labels [tensor([15]), tensor([15]), tensor([15]), tensor([15]), tensor([15])]\n",
      "(5, 25)\n",
      "(5,)\n",
      "4\n",
      "features torch.Size([1, 20, 189])\n",
      "labels [tensor([16]), tensor([16]), tensor([16]), tensor([16])]\n",
      "(4, 25)\n",
      "(4,)\n",
      "5\n",
      "features torch.Size([1, 20, 189])\n",
      "labels [tensor([16]), tensor([16]), tensor([16]), tensor([16]), tensor([16])]\n",
      "(5, 25)\n",
      "(5,)\n",
      "5\n",
      "features torch.Size([1, 20, 189])\n",
      "labels [tensor([16]), tensor([16]), tensor([16]), tensor([16]), tensor([16])]\n",
      "(5, 25)\n",
      "(5,)\n",
      "5\n",
      "features torch.Size([1, 20, 189])\n",
      "labels [tensor([16]), tensor([16]), tensor([16]), tensor([16]), tensor([16])]\n",
      "(5, 25)\n",
      "(5,)\n",
      "5\n",
      "features torch.Size([1, 20, 189])\n",
      "labels [tensor([16]), tensor([16]), tensor([16]), tensor([16]), tensor([16])]\n",
      "(5, 25)\n",
      "(5,)\n",
      "2\n",
      "features torch.Size([1, 20, 189])\n",
      "labels [tensor([17]), tensor([17])]\n",
      "(2, 25)\n",
      "(2,)\n",
      "4\n",
      "features torch.Size([1, 20, 189])\n",
      "labels [tensor([17]), tensor([17]), tensor([17]), tensor([17])]\n",
      "(4, 25)\n",
      "(4,)\n",
      "6\n",
      "features torch.Size([1, 20, 189])\n",
      "labels [tensor([17]), tensor([17]), tensor([17]), tensor([17]), tensor([17]), tensor([17])]\n",
      "(6, 25)\n",
      "(6,)\n",
      "5\n",
      "features torch.Size([1, 20, 189])\n",
      "labels [tensor([17]), tensor([17]), tensor([17]), tensor([17]), tensor([17])]\n",
      "(5, 25)\n",
      "(5,)\n",
      "5\n",
      "features torch.Size([1, 20, 189])\n",
      "labels [tensor([17]), tensor([17]), tensor([17]), tensor([17]), tensor([17])]\n",
      "(5, 25)\n",
      "(5,)\n",
      "2\n",
      "features torch.Size([1, 20, 189])\n",
      "labels [tensor([18]), tensor([18])]\n",
      "(2, 25)\n",
      "(2,)\n",
      "4\n",
      "features torch.Size([1, 20, 189])\n",
      "labels [tensor([18]), tensor([18]), tensor([18]), tensor([18])]\n",
      "(4, 25)\n",
      "(4,)\n",
      "5\n",
      "features torch.Size([1, 20, 189])\n",
      "labels [tensor([18]), tensor([18]), tensor([18]), tensor([18]), tensor([18])]\n",
      "(5, 25)\n",
      "(5,)\n",
      "5\n",
      "features torch.Size([1, 20, 189])\n",
      "labels [tensor([18]), tensor([18]), tensor([18]), tensor([18]), tensor([18])]\n",
      "(5, 25)\n",
      "(5,)\n",
      "5\n",
      "features torch.Size([1, 20, 189])\n",
      "labels [tensor([18]), tensor([18]), tensor([18]), tensor([18]), tensor([18])]\n",
      "(5, 25)\n",
      "(5,)\n",
      "2\n",
      "features torch.Size([1, 20, 189])\n",
      "labels [tensor([19]), tensor([19])]\n",
      "(2, 25)\n",
      "(2,)\n",
      "4\n",
      "features torch.Size([1, 20, 189])\n",
      "labels [tensor([19]), tensor([19]), tensor([19]), tensor([19])]\n",
      "(4, 25)\n",
      "(4,)\n",
      "5\n",
      "features torch.Size([1, 20, 189])\n",
      "labels [tensor([19]), tensor([19]), tensor([19]), tensor([19]), tensor([19])]\n",
      "(5, 25)\n",
      "(5,)\n",
      "5\n",
      "features torch.Size([1, 20, 189])\n",
      "labels [tensor([19]), tensor([19]), tensor([19]), tensor([19]), tensor([19])]\n",
      "(5, 25)\n",
      "(5,)\n",
      "5\n",
      "features torch.Size([1, 20, 189])\n",
      "labels [tensor([19]), tensor([19]), tensor([19]), tensor([19]), tensor([19])]\n",
      "(5, 25)\n",
      "(5,)\n",
      "2\n",
      "features torch.Size([1, 20, 189])\n",
      "labels [tensor([20]), tensor([20])]\n",
      "(2, 25)\n",
      "(2,)\n",
      "4\n",
      "features torch.Size([1, 20, 189])\n",
      "labels [tensor([20]), tensor([20]), tensor([20]), tensor([20])]\n",
      "(4, 25)\n",
      "(4,)\n",
      "5\n",
      "features torch.Size([1, 20, 189])\n",
      "labels [tensor([20]), tensor([20]), tensor([20]), tensor([20]), tensor([20])]\n",
      "(5, 25)\n",
      "(5,)\n",
      "5\n",
      "features torch.Size([1, 20, 189])\n",
      "labels [tensor([20]), tensor([20]), tensor([20]), tensor([20]), tensor([20])]\n",
      "(5, 25)\n",
      "(5,)\n",
      "5\n",
      "features torch.Size([1, 20, 189])\n",
      "labels [tensor([20]), tensor([20]), tensor([20]), tensor([20]), tensor([20])]\n",
      "(5, 25)\n",
      "(5,)\n",
      "2\n",
      "features torch.Size([1, 20, 189])\n",
      "labels [tensor([21]), tensor([21])]\n",
      "(2, 25)\n",
      "(2,)\n",
      "5\n",
      "features torch.Size([1, 20, 189])\n",
      "labels [tensor([21]), tensor([21]), tensor([21]), tensor([21]), tensor([21])]\n",
      "(5, 25)\n",
      "(5,)\n",
      "5\n",
      "features torch.Size([1, 20, 189])\n",
      "labels [tensor([21]), tensor([21]), tensor([21]), tensor([21]), tensor([21])]\n",
      "(5, 25)\n",
      "(5,)\n",
      "5\n",
      "features torch.Size([1, 20, 189])\n",
      "labels [tensor([21]), tensor([21]), tensor([21]), tensor([21]), tensor([21])]\n",
      "(5, 25)\n",
      "(5,)\n",
      "5\n",
      "features torch.Size([1, 20, 189])\n",
      "labels [tensor([21]), tensor([21]), tensor([21]), tensor([21]), tensor([21])]\n",
      "(5, 25)\n",
      "(5,)\n",
      "5\n",
      "features torch.Size([1, 20, 189])\n",
      "labels [tensor([22]), tensor([22]), tensor([22]), tensor([22]), tensor([22])]\n",
      "(5, 25)\n",
      "(5,)\n",
      "5\n",
      "features torch.Size([1, 20, 189])\n",
      "labels [tensor([22]), tensor([22]), tensor([22]), tensor([22]), tensor([22])]\n",
      "(5, 25)\n",
      "(5,)\n",
      "5\n",
      "features torch.Size([1, 20, 189])\n",
      "labels [tensor([22]), tensor([22]), tensor([22]), tensor([22]), tensor([22])]\n",
      "(5, 25)\n",
      "(5,)\n",
      "5\n",
      "features torch.Size([1, 20, 189])\n",
      "labels [tensor([22]), tensor([22]), tensor([22]), tensor([22]), tensor([22])]\n",
      "(5, 25)\n",
      "(5,)\n",
      "5\n",
      "features torch.Size([1, 20, 189])\n",
      "labels [tensor([22]), tensor([22]), tensor([22]), tensor([22]), tensor([22])]\n",
      "(5, 25)\n",
      "(5,)\n",
      "2\n",
      "features torch.Size([1, 20, 189])\n",
      "labels [tensor([23]), tensor([23])]\n",
      "(2, 25)\n",
      "(2,)\n",
      "4\n",
      "features torch.Size([1, 20, 189])\n",
      "labels [tensor([23]), tensor([23]), tensor([23]), tensor([23])]\n",
      "(4, 25)\n",
      "(4,)\n",
      "5\n",
      "features torch.Size([1, 20, 189])\n",
      "labels [tensor([23]), tensor([23]), tensor([23]), tensor([23]), tensor([23])]\n",
      "(5, 25)\n",
      "(5,)\n",
      "5\n",
      "features torch.Size([1, 20, 189])\n",
      "labels [tensor([23]), tensor([23]), tensor([23]), tensor([23]), tensor([23])]\n",
      "(5, 25)\n",
      "(5,)\n",
      "5\n",
      "features torch.Size([1, 20, 189])\n",
      "labels [tensor([23]), tensor([23]), tensor([23]), tensor([23]), tensor([23])]\n",
      "(5, 25)\n",
      "(5,)\n",
      "2\n",
      "features torch.Size([1, 20, 189])\n",
      "labels [tensor([24]), tensor([24])]\n",
      "(2, 25)\n",
      "(2,)\n",
      "4\n",
      "features torch.Size([1, 20, 189])\n",
      "labels [tensor([24]), tensor([24]), tensor([24]), tensor([24])]\n",
      "(4, 25)\n",
      "(4,)\n",
      "6\n",
      "features torch.Size([1, 20, 189])\n",
      "labels [tensor([24]), tensor([24]), tensor([24]), tensor([24]), tensor([24]), tensor([24])]\n",
      "(6, 25)\n",
      "(6,)\n",
      "5\n",
      "features torch.Size([1, 20, 189])\n",
      "labels [tensor([24]), tensor([24]), tensor([24]), tensor([24]), tensor([24])]\n",
      "(5, 25)\n",
      "(5,)\n",
      "5\n",
      "features torch.Size([1, 20, 189])\n",
      "labels [tensor([24]), tensor([24]), tensor([24]), tensor([24]), tensor([24])]\n",
      "(5, 25)\n",
      "(5,)\n"
     ]
    }
   ],
   "source": [
    "maj_output = majority_inference.predict(train_dataset, return_labels=True, return_full_probs=True)"
   ]
  },
  {
   "cell_type": "code",
   "execution_count": 170,
   "metadata": {},
   "outputs": [
    {
     "data": {
      "text/plain": [
       "(15.0, array([0]), array([0., 0., 0., 0., 0., 0., 0., 0., 0., 0., 0., 0., 0., 0., 0., 1., 0.,\n",
       "       0., 0., 0., 0., 0., 0., 0., 0.]))"
      ]
     },
     "execution_count": 170,
     "metadata": {},
     "output_type": "execute_result"
    }
   ],
   "source": [
    "maj_output[0]"
   ]
  },
  {
   "cell_type": "code",
   "execution_count": 174,
   "metadata": {},
   "outputs": [
    {
     "data": {
      "text/plain": [
       "15"
      ]
     },
     "execution_count": 174,
     "metadata": {},
     "output_type": "execute_result"
    }
   ],
   "source": [
    "maj_output[5][2].argmax()"
   ]
  },
  {
   "cell_type": "code",
   "execution_count": 169,
   "metadata": {},
   "outputs": [
    {
     "data": {
      "text/plain": [
       "dict_keys([0, 1, 2, 3, 5, 6, 7, 8, 10, 11, 12, 13, 15, 16, 17, 18, 20, 21, 22, 23, 25, 26, 27, 28, 29, 30, 31, 32, 33, 34, 36, 37, 38, 39, 41, 42, 43, 44, 46, 47, 48, 49, 51, 52, 53, 54, 56, 57, 58, 59, 61, 62, 63, 64, 65, 66, 67, 68, 69, 70, 72, 73, 74, 75, 77, 78, 79, 80, 82, 83, 84, 85, 87, 88, 89, 90, 92, 93, 94, 95, 97, 98, 99, 100, 101, 102, 103, 104, 105, 106, 108, 109, 110, 111, 113, 114, 115, 116, 118, 119, 120, 121, 123, 124, 125, 126, 128, 129, 130, 131, 133, 134, 135, 136, 137, 138, 139, 140, 141, 142, 144, 145, 146, 147, 149])"
      ]
     },
     "execution_count": 169,
     "metadata": {},
     "output_type": "execute_result"
    }
   ],
   "source": [
    "maj_output.keys()"
   ]
  },
  {
   "cell_type": "code",
   "execution_count": null,
   "metadata": {},
   "outputs": [],
   "source": [
    "4, 9, 14, 19, 24"
   ]
  },
  {
   "cell_type": "code",
   "execution_count": null,
   "metadata": {},
   "outputs": [
    {
     "name": "stdout",
     "output_type": "stream",
     "text": [
      "1 0.4954954954954955\n",
      "2 0.6306306306306306\n",
      "3 0.6846846846846847\n",
      "4 0.8198198198198198\n",
      "5 0.8558558558558559\n",
      "6 0.9099099099099099\n",
      "7 0.9369369369369369\n",
      "8 0.9459459459459459\n",
      "9 0.954954954954955\n",
      "10 0.963963963963964\n"
     ]
    }
   ],
   "source": [
    "for k in [1,2,3,4,5,6,7,8,9,10]:\n",
    "    print(k, sample_test_eval.get_topk_accuracy(k))"
   ]
  },
  {
   "cell_type": "code",
   "execution_count": 55,
   "metadata": {},
   "outputs": [],
   "source": [
    "sample_test_preds, sample_test_labels, sample_test_probs = sample_inference.predict(test_dataset, return_labels=True, return_full_probs=True)"
   ]
  },
  {
   "cell_type": "code",
   "execution_count": null,
   "metadata": {},
   "outputs": [],
   "source": [
    "majority_test_preds, majority_test_labels, majority_test_probs = majority_inference.predict(test_dataset, return_labels=True, return_full_probs=True)"
   ]
  },
  {
   "cell_type": "code",
   "execution_count": 71,
   "metadata": {},
   "outputs": [
    {
     "data": {
      "text/plain": [
       "((564,), (564,), (564, 25))"
      ]
     },
     "execution_count": 71,
     "metadata": {},
     "output_type": "execute_result"
    }
   ],
   "source": [
    "sample_train_preds.shape, sample_train_labels.shape, sample_train_probs.shape"
   ]
  },
  {
   "cell_type": "code",
   "execution_count": 72,
   "metadata": {},
   "outputs": [
    {
     "data": {
      "text/plain": [
       "((111,), (111,), (111, 25))"
      ]
     },
     "execution_count": 72,
     "metadata": {},
     "output_type": "execute_result"
    }
   ],
   "source": [
    "sample_test_preds.shape, sample_test_labels.shape, sample_test_probs.shape"
   ]
  },
  {
   "cell_type": "markdown",
   "metadata": {},
   "source": [
    "Evaluate"
   ]
  },
  {
   "cell_type": "code",
   "execution_count": 116,
   "metadata": {},
   "outputs": [
    {
     "data": {
      "text/plain": [
       "{'15': 'ajudar', '6': 'animal', '4': 'aniversário', '20': 'ano', '0': 'banana', '11': 'banheiro', '23': 'bebê', '18': 'cabeça', '3': 'café', '8': 'carne', '10': 'casa', '12': 'cebola', '21': 'comer', '7': 'cortar', '16': 'crescer', '17': 'família', '24': 'filho', '2': 'garganta', '14': 'homem', '9': 'jovem', '22': 'ouvir', '19': 'pai', '1': 'sopa', '13': 'sorvete', '5': 'vagina'}"
      ]
     },
     "execution_count": 116,
     "metadata": {},
     "output_type": "execute_result"
    }
   ],
   "source": [
    "label_encoding"
   ]
  },
  {
   "cell_type": "code",
   "execution_count": 117,
   "metadata": {},
   "outputs": [],
   "source": [
    "label_decoding = {v: k for k, v in label_encoding.items()}"
   ]
  },
  {
   "cell_type": "code",
   "execution_count": 118,
   "metadata": {},
   "outputs": [
    {
     "data": {
      "text/plain": [
       "{'ajudar': '15', 'animal': '6', 'aniversário': '4', 'ano': '20', 'banana': '0', 'banheiro': '11', 'bebê': '23', 'cabeça': '18', 'café': '3', 'carne': '8', 'casa': '10', 'cebola': '12', 'comer': '21', 'cortar': '7', 'crescer': '16', 'família': '17', 'filho': '24', 'garganta': '2', 'homem': '14', 'jovem': '9', 'ouvir': '22', 'pai': '19', 'sopa': '1', 'sorvete': '13', 'vagina': '5'}"
      ]
     },
     "execution_count": 118,
     "metadata": {},
     "output_type": "execute_result"
    }
   ],
   "source": [
    "label_decoding"
   ]
  },
  {
   "cell_type": "code",
   "execution_count": 119,
   "metadata": {},
   "outputs": [
    {
     "data": {
      "text/plain": [
       "{0: 15, 1: 6, 2: 4, 3: 20, 4: 0, 5: 11, 6: 23, 7: 18, 8: 3, 9: 8, 10: 10, 11: 12, 12: 21, 13: 7, 14: 16, 15: 17, 16: 24, 17: 2, 18: 14, 19: 9, 20: 22, 21: 19, 22: 1, 23: 13, 24: 5}"
      ]
     },
     "execution_count": 119,
     "metadata": {},
     "output_type": "execute_result"
    }
   ],
   "source": [
    "label_remapping = {i: int(label_decoding[label]) for i, label in enumerate(sorted(class_names))}\n",
    "label_remapping"
   ]
  },
  {
   "cell_type": "code",
   "execution_count": 120,
   "metadata": {},
   "outputs": [],
   "source": [
    "sample_train_labels_r = [label_remapping[label] for label in sample_train_labels]\n",
    "sample_test_labels_r = [label_remapping[label] for label in sample_test_labels]"
   ]
  },
  {
   "cell_type": "code",
   "execution_count": 121,
   "metadata": {},
   "outputs": [
    {
     "data": {
      "text/plain": [
       "array([15, 15, 15, 15, 15, 15, 15, 15, 15, 15, 15, 15, 15, 15, 15, 15, 15,\n",
       "       15, 15, 15, 15,  6,  6,  6,  6,  6,  6,  6,  6,  6,  6,  6,  6,  6,\n",
       "        6,  6,  6,  6,  6,  6,  6,  6,  6,  6,  6,  4,  4,  4,  4,  4,  4,\n",
       "        4,  4,  4,  4,  4,  4,  4,  4,  4,  4,  4,  4,  4,  4,  4,  4, 20,\n",
       "       20, 20, 20, 20, 20, 20, 20, 20, 20, 20, 20, 20, 20, 20, 20, 20, 20,\n",
       "       20, 20, 20, 20, 20,  0,  0,  0,  0,  0,  0,  0,  0,  0,  0,  0,  0,\n",
       "        0,  0,  0,  0,  0,  0,  0,  0,  0,  0,  0,  0,  0, 11, 11, 11, 11,\n",
       "       11, 11, 11, 11, 11, 11, 11, 11, 11, 11, 11, 11, 11, 11, 11, 11, 11,\n",
       "       11, 11, 23, 23, 23, 23, 23, 23, 23, 23, 23, 23, 23, 23, 23, 23, 23,\n",
       "       23, 23, 23, 23, 23, 23, 23, 23, 18, 18, 18, 18, 18, 18, 18, 18, 18,\n",
       "       18, 18, 18, 18, 18, 18, 18, 18, 18, 18, 18, 18, 18, 18,  3,  3,  3,\n",
       "        3,  3,  3,  3,  3,  3,  3,  3,  3,  3,  3,  3,  3,  3,  3,  3,  3,\n",
       "        3,  3,  8,  8,  8,  8,  8,  8,  8,  8,  8,  8,  8,  8,  8,  8,  8,\n",
       "        8,  8,  8,  8,  8,  8,  8,  8,  8, 10, 10, 10, 10, 10, 10, 10, 10,\n",
       "       10, 10, 10, 10, 10, 10, 10, 10, 10, 10, 10, 10, 10, 10, 10, 10, 12,\n",
       "       12, 12, 12, 12, 12, 12, 12, 12, 12, 12, 12, 12, 12, 12, 12, 12, 12,\n",
       "       12, 12, 12, 12, 12, 21, 21, 21, 21, 21, 21, 21, 21, 21, 21, 21, 21,\n",
       "       21, 21, 21, 21, 21, 21, 21, 21, 21, 21,  7,  7,  7,  7,  7,  7,  7,\n",
       "        7,  7,  7,  7,  7,  7,  7,  7,  7,  7,  7,  7,  7,  7, 16, 16, 16,\n",
       "       16, 16, 16, 16, 16, 16, 16, 16, 16, 16, 16, 16, 16, 16, 16, 16, 16,\n",
       "       16, 16, 17, 17, 17, 17, 17, 17, 17, 17, 17, 17, 17, 17, 17, 17, 17,\n",
       "       17, 17, 17, 17, 17, 17, 17, 17, 24, 24, 24, 24, 24, 24, 24, 24, 24,\n",
       "       24, 24, 24, 24, 24, 24, 24, 24, 24, 24, 24, 24, 24, 24, 24,  2,  2,\n",
       "        2,  2,  2,  2,  2,  2,  2,  2,  2,  2,  2,  2,  2,  2,  2,  2,  2,\n",
       "        2,  2,  2, 14, 14, 14, 14, 14, 14, 14, 14, 14, 14, 14, 14, 14, 14,\n",
       "       14, 14, 14, 14, 14, 14, 14,  9,  9,  9,  9,  9,  9,  9,  9,  9,  9,\n",
       "        9,  9,  9,  9,  9,  9,  9,  9,  9,  9,  9, 22, 22, 22, 22, 22, 22,\n",
       "       22, 22, 22, 22, 22, 22, 22, 22, 22, 22, 22, 22, 22, 22, 22, 19, 19,\n",
       "       19, 19, 19, 19, 19, 19, 19, 19, 19, 19, 19, 19, 19, 19, 19, 19, 19,\n",
       "       19, 19, 19,  1,  1,  1,  1,  1,  1,  1,  1,  1,  1,  1,  1,  1,  1,\n",
       "        1,  1,  1,  1,  1,  1,  1,  1,  1,  1,  1, 13, 13, 13, 13, 13, 13,\n",
       "       13, 13, 13, 13, 13, 13, 13, 13, 13, 13, 13, 13, 13, 13, 13,  5,  5,\n",
       "        5,  5,  5,  5,  5,  5,  5,  5,  5,  5,  5,  5,  5,  5,  5,  5,  5,\n",
       "        5,  5,  5])"
      ]
     },
     "execution_count": 121,
     "metadata": {},
     "output_type": "execute_result"
    }
   ],
   "source": [
    "sample_train_preds"
   ]
  },
  {
   "cell_type": "code",
   "execution_count": 123,
   "metadata": {},
   "outputs": [
    {
     "data": {
      "text/plain": [
       "[15, 15, 15, 15, 15, 15, 15, 15, 15, 15, 15, 15, 15, 15, 15, 15, 15, 15, 15, 15, 15, 6, 6, 6, 6, 6, 6, 6, 6, 6, 6, 6, 6, 6, 6, 6, 6, 6, 6, 6, 6, 6, 6, 6, 6, 4, 4, 4, 4, 4, 4, 4, 4, 4, 4, 4, 4, 4, 4, 4, 4, 4, 4, 4, 4, 4, 4, 20, 20, 20, 20, 20, 20, 20, 20, 20, 20, 20, 20, 20, 20, 20, 20, 20, 20, 20, 20, 20, 20, 20, 0, 0, 0, 0, 0, 0, 0, 0, 0, 0, 0, 0, 0, 0, 0, 0, 0, 0, 0, 0, 0, 0, 0, 0, 0, 11, 11, 11, 11, 11, 11, 11, 11, 11, 11, 11, 11, 11, 11, 11, 11, 11, 11, 11, 11, 11, 11, 11, 23, 23, 23, 23, 23, 23, 23, 23, 23, 23, 23, 23, 23, 23, 23, 23, 23, 23, 23, 23, 23, 23, 23, 18, 18, 18, 18, 18, 18, 18, 18, 18, 18, 18, 18, 18, 18, 18, 18, 18, 18, 18, 18, 18, 18, 18, 3, 3, 3, 3, 3, 3, 3, 3, 3, 3, 3, 3, 3, 3, 3, 3, 3, 3, 3, 3, 3, 3, 8, 8, 8, 8, 8, 8, 8, 8, 8, 8, 8, 8, 8, 8, 8, 8, 8, 8, 8, 8, 8, 8, 8, 8, 10, 10, 10, 10, 10, 10, 10, 10, 10, 10, 10, 10, 10, 10, 10, 10, 10, 10, 10, 10, 10, 10, 10, 10, 12, 12, 12, 12, 12, 12, 12, 12, 12, 12, 12, 12, 12, 12, 12, 12, 12, 12, 12, 12, 12, 12, 12, 21, 21, 21, 21, 21, 21, 21, 21, 21, 21, 21, 21, 21, 21, 21, 21, 21, 21, 21, 21, 21, 21, 7, 7, 7, 7, 7, 7, 7, 7, 7, 7, 7, 7, 7, 7, 7, 7, 7, 7, 7, 7, 7, 16, 16, 16, 16, 16, 16, 16, 16, 16, 16, 16, 16, 16, 16, 16, 16, 16, 16, 16, 16, 16, 16, 17, 17, 17, 17, 17, 17, 17, 17, 17, 17, 17, 17, 17, 17, 17, 17, 17, 17, 17, 17, 17, 17, 17, 24, 24, 24, 24, 24, 24, 24, 24, 24, 24, 24, 24, 24, 24, 24, 24, 24, 24, 24, 24, 24, 24, 24, 24, 2, 2, 2, 2, 2, 2, 2, 2, 2, 2, 2, 2, 2, 2, 2, 2, 2, 2, 2, 2, 2, 2, 14, 14, 14, 14, 14, 14, 14, 14, 14, 14, 14, 14, 14, 14, 14, 14, 14, 14, 14, 14, 14, 9, 9, 9, 9, 9, 9, 9, 9, 9, 9, 9, 9, 9, 9, 9, 9, 9, 9, 9, 9, 9, 22, 22, 22, 22, 22, 22, 22, 22, 22, 22, 22, 22, 22, 22, 22, 22, 22, 22, 22, 22, 22, 19, 19, 19, 19, 19, 19, 19, 19, 19, 19, 19, 19, 19, 19, 19, 19, 19, 19, 19, 19, 19, 19, 1, 1, 1, 1, 1, 1, 1, 1, 1, 1, 1, 1, 1, 1, 1, 1, 1, 1, 1, 1, 1, 1, 1, 1, 1, 13, 13, 13, 13, 13, 13, 13, 13, 13, 13, 13, 13, 13, 13, 13, 13, 13, 13, 13, 13, 13, 5, 5, 5, 5, 5, 5, 5, 5, 5, 5, 5, 5, 5, 5, 5, 5, 5, 5, 5, 5, 5, 5]"
      ]
     },
     "execution_count": 123,
     "metadata": {},
     "output_type": "execute_result"
    }
   ],
   "source": [
    "sample_train_labels_r"
   ]
  },
  {
   "cell_type": "code",
   "execution_count": 130,
   "metadata": {},
   "outputs": [],
   "source": [
    "sample_train_eval = EvaluationMetrics(\n",
    "    sample_train_preds,\n",
    "    sample_train_labels_r,\n",
    "    sample_train_probs,\n",
    "    num_classes=25,\n",
    "    class_names=class_names\n",
    ")\n",
    "\n",
    "# majority_train_eval = EvaluationMetrics(\n",
    "#     majority_train_preds,\n",
    "#     majority_train_labels,\n",
    "#     majority_train_probs,\n",
    "#     num_classes=25,\n",
    "#     class_names=class_names\n",
    "# )\n",
    "\n",
    "sample_test_eval = EvaluationMetrics(\n",
    "    sample_test_preds,\n",
    "    sample_test_labels_r,\n",
    "    sample_test_probs,\n",
    "    num_classes=25,\n",
    "    class_names=class_names\n",
    ")\n",
    "\n",
    "# majority_test_eval = EvaluationMetrics(\n",
    "#     majority_test_preds,\n",
    "#     majority_test_labels,\n",
    "#     majority_test_probs,\n",
    "#     num_classes=25,\n",
    "#     class_names=class_names\n",
    "# )"
   ]
  },
  {
   "cell_type": "code",
   "execution_count": 137,
   "metadata": {},
   "outputs": [
    {
     "data": {
      "text/plain": [
       "1.0"
      ]
     },
     "execution_count": 137,
     "metadata": {},
     "output_type": "execute_result"
    }
   ],
   "source": [
    "sample_train_eval.accuracy"
   ]
  },
  {
   "cell_type": "code",
   "execution_count": 128,
   "metadata": {},
   "outputs": [
    {
     "data": {
      "image/png": "[encoded data removed]",
      "text/plain": [
       "<Figure size 1000x800 with 2 Axes>"
      ]
     },
     "metadata": {},
     "output_type": "display_data"
    }
   ],
   "source": [
    "sample_train_eval.plot_confusion_matrix()"
   ]
  },
  {
   "cell_type": "code",
   "execution_count": 136,
   "metadata": {},
   "outputs": [
    {
     "data": {
      "text/plain": [
       "0.4954954954954955"
      ]
     },
     "execution_count": 136,
     "metadata": {},
     "output_type": "execute_result"
    }
   ],
   "source": [
    "sample_test_eval.accuracy"
   ]
  },
  {
   "cell_type": "code",
   "execution_count": 146,
   "metadata": {},
   "outputs": [
    {
     "name": "stdout",
     "output_type": "stream",
     "text": [
      "1 0.4954954954954955\n",
      "2 0.6306306306306306\n",
      "3 0.6846846846846847\n",
      "4 0.8198198198198198\n",
      "5 0.8558558558558559\n",
      "6 0.9099099099099099\n",
      "7 0.9369369369369369\n",
      "8 0.9459459459459459\n",
      "9 0.954954954954955\n",
      "10 0.963963963963964\n"
     ]
    }
   ],
   "source": [
    "for k in [1,2,3,4,5,6,7,8,9,10]:\n",
    "    print(k, sample_test_eval.get_topk_accuracy(k))"
   ]
  },
  {
   "cell_type": "code",
   "execution_count": 131,
   "metadata": {},
   "outputs": [
    {
     "data": {
      "image/png": "[encoded data removed]",
      "text/plain": [
       "<Figure size 1000x800 with 2 Axes>"
      ]
     },
     "metadata": {},
     "output_type": "display_data"
    }
   ],
   "source": [
    "sample_test_eval.plot_confusion_matrix()"
   ]
  },
  {
   "cell_type": "code",
   "execution_count": null,
   "metadata": {},
   "outputs": [],
   "source": []
  }
 ],
 "metadata": {
  "kernelspec": {
   "display_name": ".venv",
   "language": "python",
   "name": "python3"
  },
  "language_info": {
   "codemirror_mode": {
    "name": "ipython",
    "version": 3
   },
   "file_extension": ".py",
   "mimetype": "text/x-python",
   "name": "python",
   "nbconvert_exporter": "python",
   "pygments_lexer": "ipython3",
   "version": "3.11.8"
  }
 },
 "nbformat": 4,
 "nbformat_minor": 2
}
