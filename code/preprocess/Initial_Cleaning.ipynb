{
 "cells": [
  {
   "cell_type": "markdown",
   "metadata": {},
   "source": [
    "# Import Dependencies"
   ]
  },
  {
   "cell_type": "code",
   "execution_count": 11,
   "metadata": {},
   "outputs": [],
   "source": [
    "import os\n",
    "import cv2\n",
    "import pandas as pd"
   ]
  },
  {
   "cell_type": "markdown",
   "metadata": {},
   "source": [
    "# Load the CSV file dataset of Video\n",
    "\n",
    "This will show the names of the videos that need to be flipped"
   ]
  },
  {
   "cell_type": "code",
   "execution_count": null,
   "metadata": {},
   "outputs": [
    {
     "name": "stdout",
     "output_type": "stream",
     "text": [
      "          filename   label data_source  sign_id  signer_number  frame_count  \\\n",
      "0  ajudar_ne_1.mp4  ajudar          ne        2              1           44   \n",
      "1  ajudar_sb_2.mp4  ajudar          sb        1              1           79   \n",
      "2  ajudar_uf_3.mp4  ajudar          uf        0              1          115   \n",
      "3  ajudar_vl_4.mp4  ajudar          vl        0              1          141   \n",
      "4  ajudar_vl_5.mp4  ajudar          vl        0              2          289   \n",
      "\n",
      "        fps  duration_sec  width  height  needs_flip  \n",
      "0  12.00000      3.666667    240     176       False  \n",
      "1  29.97003      2.635967   1280     720       False  \n",
      "2  29.97003      3.837167    480     270       False  \n",
      "3  29.97003      4.704700   1920    1080       False  \n",
      "4  29.97003      9.642967   1920    1080       False  \n"
     ]
    }
   ],
   "source": [
    "# Path to the CSV file\n",
    "csv_path = \"data\\raw\\combined\\target_dataset_video_metadata.csv\"\n",
    "\n",
    "# Read the CSV into a pandas DataFrame\n",
    "df = pd.read_csv(csv_path)\n",
    "\n",
    "print(df.head())"
   ]
  },
  {
   "cell_type": "code",
   "execution_count": 6,
   "metadata": {},
   "outputs": [
    {
     "name": "stdout",
     "output_type": "stream",
     "text": [
      "Videos that need flipping:\n",
      "['banana_vl_4.mp4', 'banheiro_vl_5.mp4', 'café_vl_6.mp4', 'carne_vl_4.mp4', 'cebola_vl_4.mp4', 'cortar_vl_5.mp4', 'crescer_ne_1.mp4', 'garganta_ne_1.mp4', 'ouvir_ne_1.mp4', 'pai_vl_6.mp4', 'sorvete_ne_1.mp4']\n"
     ]
    }
   ],
   "source": [
    "# Filter rows where 'needs_flip' is True\n",
    "flip_df = df[df['needs_flip'] == True]\n",
    "\n",
    "# Show the video names that need flipping\n",
    "print(\"Videos that need flipping:\")\n",
    "print(flip_df['filename'].tolist())"
   ]
  },
  {
   "cell_type": "markdown",
   "metadata": {},
   "source": [
    "# Flips the videos where \"needs_flip = True\""
   ]
  },
  {
   "cell_type": "code",
   "execution_count": null,
   "metadata": {},
   "outputs": [
    {
     "name": "stdout",
     "output_type": "stream",
     "text": [
      "Flipped and saved: banana_vl_4.mp4\n",
      "Flipped and saved: banheiro_vl_5.mp4\n",
      "Flipped and saved: café_vl_6.mp4\n",
      "Flipped and saved: carne_vl_4.mp4\n",
      "Flipped and saved: cebola_vl_4.mp4\n",
      "Flipped and saved: cortar_vl_5.mp4\n",
      "Flipped and saved: crescer_ne_1.mp4\n",
      "Flipped and saved: garganta_ne_1.mp4\n",
      "Flipped and saved: ouvir_ne_1.mp4\n",
      "Flipped and saved: pai_vl_6.mp4\n",
      "Flipped and saved: sorvete_ne_1.mp4\n",
      "✅ All needed videos have been flipped and saved.\n"
     ]
    }
   ],
   "source": [
    "# === Step 3: Set Input & Output Paths ===\n",
    "input_dir = \"data\\raw\\combined\\videos\"\n",
    "output_dir = \"data\\interim\\RawCleanVideos\"\n",
    "\n",
    "# Create output directory if it doesn't exist\n",
    "os.makedirs(output_dir, exist_ok=True)\n",
    "\n",
    "# === Step 4: Process Each Video ===\n",
    "for video_name in flip_df['filename']:  # Adjust column name if needed\n",
    "    input_path = os.path.join(input_dir, video_name)\n",
    "    output_path = os.path.join(output_dir, video_name)\n",
    "\n",
    "    # Open the video\n",
    "    cap = cv2.VideoCapture(input_path)\n",
    "\n",
    "    # Get video properties\n",
    "    fourcc = cv2.VideoWriter_fourcc(*'mp4v')  # Codec\n",
    "    fps = cap.get(cv2.CAP_PROP_FPS)\n",
    "    width = int(cap.get(cv2.CAP_PROP_FRAME_WIDTH))\n",
    "    height = int(cap.get(cv2.CAP_PROP_FRAME_HEIGHT))\n",
    "\n",
    "    # Set up VideoWriter to save flipped video\n",
    "    out = cv2.VideoWriter(output_path, fourcc, fps, (width, height))\n",
    "\n",
    "    while cap.isOpened():\n",
    "        ret, frame = cap.read()\n",
    "        if not ret:\n",
    "            break\n",
    "\n",
    "        # Flip the frame horizontally\n",
    "        flipped_frame = cv2.flip(frame, 1)\n",
    "\n",
    "        # Write the flipped frame\n",
    "        out.write(flipped_frame)\n",
    "\n",
    "    # Release resources\n",
    "    cap.release()\n",
    "    out.release()\n",
    "    print(f\"Flipped and saved: {video_name}\")\n",
    "\n",
    "print(\"✅ All needed videos have been flipped and saved.\")"
   ]
  }
 ],
 "metadata": {
  "kernelspec": {
   "display_name": ".venv",
   "language": "python",
   "name": "python3"
  },
  "language_info": {
   "codemirror_mode": {
    "name": "ipython",
    "version": 3
   },
   "file_extension": ".py",
   "mimetype": "text/x-python",
   "name": "python",
   "nbconvert_exporter": "python",
   "pygments_lexer": "ipython3",
   "version": "3.11.8"
  }
 },
 "nbformat": 4,
 "nbformat_minor": 2
}
