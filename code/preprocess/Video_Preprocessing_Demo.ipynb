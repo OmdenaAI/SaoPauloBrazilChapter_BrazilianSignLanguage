{
 "cells": [
  {
   "cell_type": "markdown",
   "metadata": {},
   "source": [
    "# Video Preprocessing"
   ]
  },
  {
   "cell_type": "markdown",
   "metadata": {},
   "source": [
    "Description"
   ]
  },
  {
   "cell_type": "code",
   "execution_count": 1,
   "metadata": {},
   "outputs": [],
   "source": [
    "%load_ext autoreload\n",
    "%autoreload 2"
   ]
  },
  {
   "cell_type": "code",
   "execution_count": 2,
   "metadata": {},
   "outputs": [],
   "source": [
    "import os\n",
    "import glob\n",
    "import cv2\n",
    "import numpy as np\n",
    "import pandas as pd\n",
    "import matplotlib.pyplot as plt\n",
    "import time\n",
    "import json"
   ]
  },
  {
   "cell_type": "code",
   "execution_count": 3,
   "metadata": {},
   "outputs": [
    {
     "name": "stderr",
     "output_type": "stream",
     "text": [
      "2025-03-30 01:21:32.601705: E external/local_xla/xla/stream_executor/cuda/cuda_fft.cc:477] Unable to register cuFFT factory: Attempting to register factory for plugin cuFFT when one has already been registered\n",
      "WARNING: All log messages before absl::InitializeLog() is called are written to STDERR\n",
      "E0000 00:00:1743265292.634902  154477 cuda_dnn.cc:8310] Unable to register cuDNN factory: Attempting to register factory for plugin cuDNN when one has already been registered\n",
      "E0000 00:00:1743265292.639878  154477 cuda_blas.cc:1418] Unable to register cuBLAS factory: Attempting to register factory for plugin cuBLAS when one has already been registered\n",
      "2025-03-30 01:21:32.660962: I tensorflow/core/platform/cpu_feature_guard.cc:210] This TensorFlow binary is optimized to use available CPU instructions in performance-critical operations.\n",
      "To enable the following instructions: AVX2 FMA, in other operations, rebuild TensorFlow with the appropriate compiler flags.\n"
     ]
    }
   ],
   "source": [
    "from video_analyzer import VideoAnalyzer\n",
    "from preprocessor import Preprocessor"
   ]
  },
  {
   "cell_type": "code",
   "execution_count": 4,
   "metadata": {},
   "outputs": [],
   "source": [
    "timestamp = \"28032025\"\n",
    "path_to_root = \"/home/ben/projects/SaoPauloBrazilChapter_BrazilianSignLanguage/\""
   ]
  },
  {
   "cell_type": "code",
   "execution_count": 5,
   "metadata": {},
   "outputs": [],
   "source": [
    "metadata = pd.read_csv(os.path.join(\n",
    "    path_to_root,\n",
    "    \"data\",\n",
    "    \"raw\",\n",
    "    \"combined\",\n",
    "    \"target_dataset_video_metadata.csv\"\n",
    "    ))"
   ]
  },
  {
   "cell_type": "code",
   "execution_count": 6,
   "metadata": {},
   "outputs": [
    {
     "data": {
      "text/plain": [
       "filename        ajudar_ne_1.mp4\n",
       "label                    ajudar\n",
       "data_source                  ne\n",
       "frame_count                  44\n",
       "fps                        12.0\n",
       "duration_sec                  3\n",
       "width                       240\n",
       "height                      176\n",
       "Name: 0, dtype: object"
      ]
     },
     "execution_count": 6,
     "metadata": {},
     "output_type": "execute_result"
    }
   ],
   "source": [
    "i = 0\n",
    "metadata_row = metadata.iloc[i].copy()\n",
    "metadata_row"
   ]
  },
  {
   "cell_type": "markdown",
   "metadata": {},
   "source": [
    "## Initialize VideoAnalyzer"
   ]
  },
  {
   "cell_type": "code",
   "execution_count": 4,
   "metadata": {},
   "outputs": [],
   "source": [
    "params = {}\n",
    "params[\"motion_start_threshold\"] = 0.2\n",
    "# params[\"verbose\"] =False\n",
    "params[\"reuse_results\"] = True"
   ]
  },
  {
   "cell_type": "code",
   "execution_count": 7,
   "metadata": {},
   "outputs": [],
   "source": [
    "metadata_row.loc['motion_end_threshold'] = 0.3"
   ]
  },
  {
   "cell_type": "code",
   "execution_count": 8,
   "metadata": {},
   "outputs": [
    {
     "name": "stdout",
     "output_type": "stream",
     "text": [
      "Using parameters from metadata:\n",
      "\tmotion_end_threshold = 0.3\n",
      "Using parameters from params dict:\n",
      "\tmotion_start_threshold = 0.2\n",
      "\treuse_results = True\n",
      "Using parameters from default values:\n",
      "\tmotion_avg_weights = {'basic': 0.3, 'bg_sub': 0.7}\n",
      "\tmoving_avg_window_duration = 0.2\n",
      "\tmotion_threshold_method = simple\n",
      "\tpose_static_image_mode = False\n",
      "\tpose_model_complexity = 1\n",
      "\tpose_smooth_landmarks = True\n",
      "\tpose_min_detection_confidence = 0.5\n",
      "\tpose_min_tracking_confidence = 0.5\n",
      "Initialized VideoAnalyzer for ajudar_ne_1.mp4\n",
      "Video properties: 12.0 fps, 240x176, 3.00 seconds\n"
     ]
    }
   ],
   "source": [
    "analyzer = VideoAnalyzer(\n",
    "    metadata_row,\n",
    "    timestamp,\n",
    "    path_to_root,\n",
    "    params,\n",
    "    # verbose=False\n",
    ")"
   ]
  },
  {
   "cell_type": "markdown",
   "metadata": {},
   "source": [
    "## Motion Detection"
   ]
  },
  {
   "cell_type": "code",
   "execution_count": 9,
   "metadata": {},
   "outputs": [
    {
     "data": {
      "text/plain": [
       "{}"
      ]
     },
     "execution_count": 9,
     "metadata": {},
     "output_type": "execute_result"
    }
   ],
   "source": [
    "analyzer.motion_data"
   ]
  },
  {
   "cell_type": "code",
   "execution_count": 10,
   "metadata": {},
   "outputs": [
    {
     "name": "stdout",
     "output_type": "stream",
     "text": [
      "Loaded motion detection results from versionA\n",
      "window_duration: 0.2 seconds, at 12.0 fps = 2 frame window_size\n"
     ]
    }
   ],
   "source": [
    "motion_data = analyzer.motion_detect()"
   ]
  },
  {
   "cell_type": "code",
   "execution_count": 11,
   "metadata": {},
   "outputs": [
    {
     "data": {
      "text/plain": [
       "dict_keys(['basic_raw', 'bg_sub_raw', 'basic_normalized', 'bg_sub_normalized', 'weighted_avg', 'smoothed'])"
      ]
     },
     "execution_count": 11,
     "metadata": {},
     "output_type": "execute_result"
    }
   ],
   "source": [
    "motion_data.keys()"
   ]
  },
  {
   "cell_type": "code",
   "execution_count": 12,
   "metadata": {},
   "outputs": [
    {
     "name": "stdout",
     "output_type": "stream",
     "text": [
      "Analyzing motion using simple method with thresholds 0.2/0.3\n",
      "Motion detected from frame 6 to 35 (2.42 seconds)\n"
     ]
    }
   ],
   "source": [
    "motion_result = analyzer.motion_analyze()"
   ]
  },
  {
   "cell_type": "code",
   "execution_count": 13,
   "metadata": {},
   "outputs": [
    {
     "data": {
      "text/plain": [
       "{'start_frame': 6,\n",
       " 'end_frame': 35,\n",
       " 'start_time': 0.5,\n",
       " 'end_time': 2.9166666666666665,\n",
       " 'duration_frames': 29,\n",
       " 'duration_sec': 2.4166666666666665}"
      ]
     },
     "execution_count": 13,
     "metadata": {},
     "output_type": "execute_result"
    }
   ],
   "source": [
    "motion_result"
   ]
  },
  {
   "cell_type": "code",
   "execution_count": 14,
   "metadata": {},
   "outputs": [
    {
     "data": {
      "text/plain": [
       "dict_keys(['basic_raw', 'bg_sub_raw', 'basic_normalized', 'bg_sub_normalized', 'weighted_avg', 'smoothed', 'analysis'])"
      ]
     },
     "execution_count": 14,
     "metadata": {},
     "output_type": "execute_result"
    }
   ],
   "source": [
    "analyzer.motion_data.keys()"
   ]
  },
  {
   "cell_type": "markdown",
   "metadata": {},
   "source": [
    "## Pose Estimation"
   ]
  },
  {
   "cell_type": "code",
   "execution_count": 15,
   "metadata": {},
   "outputs": [
    {
     "data": {
      "text/plain": [
       "'/home/ben/projects/SaoPauloBrazilChapter_BrazilianSignLanguage/data/interim/RawPoseLandmarks'"
      ]
     },
     "execution_count": 15,
     "metadata": {},
     "output_type": "execute_result"
    }
   ],
   "source": [
    "analyzer.pose_estimation_dir"
   ]
  },
  {
   "cell_type": "code",
   "execution_count": 16,
   "metadata": {},
   "outputs": [
    {
     "name": "stdout",
     "output_type": "stream",
     "text": [
      "Loaded pose estimation results from versionA\n"
     ]
    }
   ],
   "source": [
    "pose_data = analyzer.pose_detect()"
   ]
  },
  {
   "cell_type": "code",
   "execution_count": 17,
   "metadata": {},
   "outputs": [
    {
     "data": {
      "text/plain": [
       "dict_keys(['params', 'landmarks_raw'])"
      ]
     },
     "execution_count": 17,
     "metadata": {},
     "output_type": "execute_result"
    }
   ],
   "source": [
    "analyzer.pose_data.keys()"
   ]
  },
  {
   "cell_type": "code",
   "execution_count": 18,
   "metadata": {},
   "outputs": [
    {
     "name": "stdout",
     "output_type": "stream",
     "text": [
      "Analyzing pose data...\n",
      "Pose analysis complete\n",
      "Horizontal offsets: {'shoulders': {'mean': 0.485783673484217, 'median': 0.48647886514663696, 'max': 0.5011348724365234, 'min': 0.4693884402513504}, 'face': {'mean': 0.4617192352359945, 'median': 0.4654083698987961, 'max': 0.4876764416694641, 'min': 0.43568241596221924}}\n",
      "Vertical offsets: {'shoulders': {'mean': 0.5419730218974027, 'median': 0.541060134768486, 'max': 0.5612127780914307, 'min': 0.5202731192111969}, 'face': {'mean': 0.2606092748994177, 'median': 0.2586185485124588, 'max': 0.2975011467933655, 'min': 0.2298063486814499}}\n",
      "Landmark measurements: {'shoulder_width': {'mean': 0.3144603380209611, 'median': 0.322241749436065, 'max': 0.33947361415925253}, 'hip_width': {'mean': 0.22059858718294068, 'median': 0.22124750378219374, 'max': 0.23112824713376973}, 'shoulder_to_hip': {'mean': 0.6164409528964432, 'median': 0.6150278579324255, 'max': 0.6438777743608111}, 'left_arm_length': {'mean': 0.41851797791257545, 'median': 0.35445257673761893, 'max': 0.6365173728742255}, 'right_arm_length': {'mean': 0.4073253618025028, 'median': 0.3493312671653056, 'max': 0.6097211046168401}, 'face_width': {'mean': 0.144945958247455, 'median': 0.14580394657344362, 'max': 0.14898741714499494}, 'face_height': {'mean': 0.2468952515196514, 'median': 0.24642677122759657, 'max': 0.2527068498790681}, 'top_head_to_shoulders': {'mean': 0.38963987068696454, 'median': 0.40148501098155975, 'max': 0.42446762323379517}, 'nose_to_shoulders': {'mean': 0.281363746997985, 'median': 0.29588789492845535, 'max': 0.32388289272785187}, 'chin_to_shoulders': {'mean': 0.1430757614699277, 'median': 0.15485985577106476, 'max': 0.18042099475860596}}\n"
     ]
    },
    {
     "name": "stderr",
     "output_type": "stream",
     "text": [
      "INFO: Created TensorFlow Lite XNNPACK delegate for CPU.\n",
      "WARNING: All log messages before absl::InitializeLog() is called are written to STDERR\n",
      "W0000 00:00:1743262424.501879  147650 inference_feedback_manager.cc:114] Feedback manager requires a model with a single signature inference. Disabling support for feedback tensors.\n",
      "W0000 00:00:1743262424.542256  147653 inference_feedback_manager.cc:114] Feedback manager requires a model with a single signature inference. Disabling support for feedback tensors.\n",
      "W0000 00:00:1743262424.546342  147653 inference_feedback_manager.cc:114] Feedback manager requires a model with a single signature inference. Disabling support for feedback tensors.\n",
      "W0000 00:00:1743262424.548073  147651 inference_feedback_manager.cc:114] Feedback manager requires a model with a single signature inference. Disabling support for feedback tensors.\n",
      "W0000 00:00:1743262424.551825  147649 inference_feedback_manager.cc:114] Feedback manager requires a model with a single signature inference. Disabling support for feedback tensors.\n",
      "W0000 00:00:1743262424.558555  147653 inference_feedback_manager.cc:114] Feedback manager requires a model with a single signature inference. Disabling support for feedback tensors.\n",
      "W0000 00:00:1743262424.578327  147652 inference_feedback_manager.cc:114] Feedback manager requires a model with a single signature inference. Disabling support for feedback tensors.\n",
      "W0000 00:00:1743262424.580444  147649 inference_feedback_manager.cc:114] Feedback manager requires a model with a single signature inference. Disabling support for feedback tensors.\n"
     ]
    }
   ],
   "source": [
    "pose_result = analyzer.pose_analyze()"
   ]
  },
  {
   "cell_type": "markdown",
   "metadata": {},
   "source": [
    "## Save Analysis Info"
   ]
  },
  {
   "cell_type": "code",
   "execution_count": 19,
   "metadata": {},
   "outputs": [
    {
     "name": "stdout",
     "output_type": "stream",
     "text": [
      "Saved analysis info to /home/ben/projects/SaoPauloBrazilChapter_BrazilianSignLanguage/data/interim/Analysis/28032025/individual_json/ajudar_ne_1_analysis_info.json\n"
     ]
    }
   ],
   "source": [
    "analysis_info = analyzer.save_analysis_info()"
   ]
  },
  {
   "cell_type": "code",
   "execution_count": 20,
   "metadata": {},
   "outputs": [
    {
     "data": {
      "text/plain": [
       "dict_keys(['metadata', 'params', 'motion_analysis', 'pose_analysis'])"
      ]
     },
     "execution_count": 20,
     "metadata": {},
     "output_type": "execute_result"
    }
   ],
   "source": [
    "analysis_info.keys()\n"
   ]
  },
  {
   "cell_type": "markdown",
   "metadata": {},
   "source": [
    "## Make Preprocessing Params"
   ]
  },
  {
   "cell_type": "markdown",
   "metadata": {},
   "source": [
    "### Load analysis info"
   ]
  },
  {
   "cell_type": "code",
   "execution_count": 7,
   "metadata": {},
   "outputs": [
    {
     "data": {
      "text/plain": [
       "dict_keys(['metadata', 'params', 'motion_analysis', 'pose_analysis'])"
      ]
     },
     "execution_count": 7,
     "metadata": {},
     "output_type": "execute_result"
    }
   ],
   "source": [
    "# load json as dict\n",
    "with open(os.path.join(\n",
    "    path_to_root, \n",
    "    \"data\", \n",
    "    \"interim\", \n",
    "    \"Analysis\", \n",
    "    timestamp, \n",
    "    \"individual_json\", \n",
    "    metadata_row[\"filename\"].split(\".\")[0] + \"_analysis_info.json\"\n",
    "    )) as f:\n",
    "    analysis_info = json.load(f)\n",
    "\n",
    "analysis_info.keys()"
   ]
  },
  {
   "cell_type": "code",
   "execution_count": 8,
   "metadata": {},
   "outputs": [],
   "source": [
    "def nested_dict_to_df(nested_dict, prefix=''):\n",
    "    flat_dict = {}\n",
    "    \n",
    "    def flatten(d, parent_key=''):\n",
    "        for key, value in d.items():\n",
    "            new_key = f\"{parent_key}_{key}\" if parent_key else key\n",
    "            \n",
    "            if isinstance(value, dict):\n",
    "                flatten(value, new_key)\n",
    "            else:\n",
    "                flat_dict[new_key] = value\n",
    "    \n",
    "    flatten(nested_dict)\n",
    "    return pd.DataFrame([flat_dict])"
   ]
  },
  {
   "cell_type": "code",
   "execution_count": 9,
   "metadata": {},
   "outputs": [
    {
     "data": {
      "text/plain": [
       "Index(['metadata_filename', 'metadata_fps', 'metadata_width',\n",
       "       'metadata_height', 'metadata_duration_sec', 'metadata_frame_count',\n",
       "       'metadata_data_source', 'metadata_label',\n",
       "       'metadata_motion_detection_version', 'metadata_pose_detection_version',\n",
       "       'metadata_timestamp', 'params_motion_avg_weights_basic',\n",
       "       'params_motion_avg_weights_bg_sub', 'params_moving_avg_window_duration',\n",
       "       'params_motion_threshold_method', 'params_motion_start_threshold',\n",
       "       'params_motion_end_threshold', 'params_pose_static_image_mode',\n",
       "       'params_pose_model_complexity', 'params_pose_smooth_landmarks',\n",
       "       'params_pose_min_detection_confidence',\n",
       "       'params_pose_min_tracking_confidence', 'params_reuse_results',\n",
       "       'motion_analysis_start_frame', 'motion_analysis_end_frame',\n",
       "       'motion_analysis_start_time', 'motion_analysis_end_time',\n",
       "       'motion_analysis_duration_frames', 'motion_analysis_duration_sec',\n",
       "       'pose_analysis_frames_with_landmarks',\n",
       "       'pose_analysis_horizontal_offsets_shoulders_mean',\n",
       "       'pose_analysis_horizontal_offsets_shoulders_median',\n",
       "       'pose_analysis_horizontal_offsets_shoulders_max',\n",
       "       'pose_analysis_horizontal_offsets_shoulders_min',\n",
       "       'pose_analysis_horizontal_offsets_face_mean',\n",
       "       'pose_analysis_horizontal_offsets_face_median',\n",
       "       'pose_analysis_horizontal_offsets_face_max',\n",
       "       'pose_analysis_horizontal_offsets_face_min',\n",
       "       'pose_analysis_vertical_offsets_shoulders_mean',\n",
       "       'pose_analysis_vertical_offsets_shoulders_median',\n",
       "       'pose_analysis_vertical_offsets_shoulders_max',\n",
       "       'pose_analysis_vertical_offsets_shoulders_min',\n",
       "       'pose_analysis_vertical_offsets_face_mean',\n",
       "       'pose_analysis_vertical_offsets_face_median',\n",
       "       'pose_analysis_vertical_offsets_face_max',\n",
       "       'pose_analysis_vertical_offsets_face_min',\n",
       "       'pose_analysis_landmark_measurements_shoulder_width_mean',\n",
       "       'pose_analysis_landmark_measurements_shoulder_width_median',\n",
       "       'pose_analysis_landmark_measurements_shoulder_width_max',\n",
       "       'pose_analysis_landmark_measurements_hip_width_mean',\n",
       "       'pose_analysis_landmark_measurements_hip_width_median',\n",
       "       'pose_analysis_landmark_measurements_hip_width_max',\n",
       "       'pose_analysis_landmark_measurements_shoulder_to_hip_mean',\n",
       "       'pose_analysis_landmark_measurements_shoulder_to_hip_median',\n",
       "       'pose_analysis_landmark_measurements_shoulder_to_hip_max',\n",
       "       'pose_analysis_landmark_measurements_left_arm_length_mean',\n",
       "       'pose_analysis_landmark_measurements_left_arm_length_median',\n",
       "       'pose_analysis_landmark_measurements_left_arm_length_max',\n",
       "       'pose_analysis_landmark_measurements_right_arm_length_mean',\n",
       "       'pose_analysis_landmark_measurements_right_arm_length_median',\n",
       "       'pose_analysis_landmark_measurements_right_arm_length_max',\n",
       "       'pose_analysis_landmark_measurements_face_width_mean',\n",
       "       'pose_analysis_landmark_measurements_face_width_median',\n",
       "       'pose_analysis_landmark_measurements_face_width_max',\n",
       "       'pose_analysis_landmark_measurements_face_height_mean',\n",
       "       'pose_analysis_landmark_measurements_face_height_median',\n",
       "       'pose_analysis_landmark_measurements_face_height_max',\n",
       "       'pose_analysis_landmark_measurements_top_head_to_shoulders_mean',\n",
       "       'pose_analysis_landmark_measurements_top_head_to_shoulders_median',\n",
       "       'pose_analysis_landmark_measurements_top_head_to_shoulders_max',\n",
       "       'pose_analysis_landmark_measurements_nose_to_shoulders_mean',\n",
       "       'pose_analysis_landmark_measurements_nose_to_shoulders_median',\n",
       "       'pose_analysis_landmark_measurements_nose_to_shoulders_max',\n",
       "       'pose_analysis_landmark_measurements_chin_to_shoulders_mean',\n",
       "       'pose_analysis_landmark_measurements_chin_to_shoulders_median',\n",
       "       'pose_analysis_landmark_measurements_chin_to_shoulders_max'],\n",
       "      dtype='object')"
      ]
     },
     "execution_count": 9,
     "metadata": {},
     "output_type": "execute_result"
    }
   ],
   "source": [
    "nested_dict_to_df(analysis_info).columns"
   ]
  },
  {
   "cell_type": "markdown",
   "metadata": {},
   "source": [
    "### Get/Make Parameters for preprocessor\n",
    "Preprocessor requires:\n",
    "- start_frame \n",
    "- end_frame \n",
    "- horizontal_offset \n",
    "- x_scale_factor \n",
    "- y_scale_factor\n",
    "- vertical_offset \n",
    "- target_duration"
   ]
  },
  {
   "cell_type": "markdown",
   "metadata": {},
   "source": [
    "#### Start Frame / End Frame"
   ]
  },
  {
   "cell_type": "code",
   "execution_count": 10,
   "metadata": {},
   "outputs": [],
   "source": [
    "start_frame = analysis_info[\"motion_analysis\"][\"start_frame\"]\n",
    "end_frame = analysis_info[\"motion_analysis\"][\"end_frame\"]"
   ]
  },
  {
   "cell_type": "markdown",
   "metadata": {},
   "source": [
    "#### Horizontal Offset"
   ]
  },
  {
   "cell_type": "code",
   "execution_count": 11,
   "metadata": {},
   "outputs": [
    {
     "data": {
      "text/plain": [
       "{'shoulders': {'mean': 0.485783673484217,\n",
       "  'median': 0.48647886514663696,\n",
       "  'max': 0.5011348724365234,\n",
       "  'min': 0.4693884402513504},\n",
       " 'face': {'mean': 0.4617192352359945,\n",
       "  'median': 0.4654083698987961,\n",
       "  'max': 0.4876764416694641,\n",
       "  'min': 0.43568241596221924}}"
      ]
     },
     "execution_count": 11,
     "metadata": {},
     "output_type": "execute_result"
    }
   ],
   "source": [
    "analysis_info[\"pose_analysis\"][\"horizontal_offsets\"]"
   ]
  },
  {
   "cell_type": "code",
   "execution_count": 41,
   "metadata": {},
   "outputs": [
    {
     "data": {
      "text/plain": [
       "0.019842283427715303"
      ]
     },
     "execution_count": 41,
     "metadata": {},
     "output_type": "execute_result"
    }
   ],
   "source": [
    "shoulders_median = analysis_info[\"pose_analysis\"][\"horizontal_offsets\"][\"shoulders\"][\"median\"]\n",
    "face_median = analysis_info[\"pose_analysis\"][\"horizontal_offsets\"][\"face\"][\"median\"]\n",
    "\n",
    "shoulders_reference = 0.5\n",
    "face_reference = 0.5\n",
    "\n",
    "shoulders_offset = shoulders_reference - shoulders_median\n",
    "face_offset = face_reference - face_median\n",
    "\n",
    "shoulders_weight = 0.7\n",
    "face_weight = 0.3\n",
    "horizontal_offset = shoulders_weight * shoulders_offset + face_weight * face_offset\n",
    "horizontal_offset"
   ]
  },
  {
   "cell_type": "markdown",
   "metadata": {},
   "source": [
    "#### X Scale Factor, Y Scale Factor"
   ]
  },
  {
   "cell_type": "code",
   "execution_count": 13,
   "metadata": {},
   "outputs": [
    {
     "data": {
      "text/plain": [
       "{'shoulder_width': {'mean': 0.3144603380209611,\n",
       "  'median': 0.322241749436065,\n",
       "  'max': 0.33947361415925253},\n",
       " 'hip_width': {'mean': 0.22059858718294068,\n",
       "  'median': 0.22124750378219374,\n",
       "  'max': 0.23112824713376973},\n",
       " 'shoulder_to_hip': {'mean': 0.6164409528964432,\n",
       "  'median': 0.6150278579324255,\n",
       "  'max': 0.6438777743608111},\n",
       " 'left_arm_length': {'mean': 0.41851797791257545,\n",
       "  'median': 0.35445257673761893,\n",
       "  'max': 0.6365173728742255},\n",
       " 'right_arm_length': {'mean': 0.4073253618025028,\n",
       "  'median': 0.3493312671653056,\n",
       "  'max': 0.6097211046168401},\n",
       " 'face_width': {'mean': 0.144945958247455,\n",
       "  'median': 0.14580394657344362,\n",
       "  'max': 0.14898741714499494},\n",
       " 'face_height': {'mean': 0.2468952515196514,\n",
       "  'median': 0.24642677122759657,\n",
       "  'max': 0.2527068498790681},\n",
       " 'top_head_to_shoulders': {'mean': 0.38963987068696454,\n",
       "  'median': 0.40148501098155975,\n",
       "  'max': 0.42446762323379517},\n",
       " 'nose_to_shoulders': {'mean': 0.281363746997985,\n",
       "  'median': 0.29588789492845535,\n",
       "  'max': 0.32388289272785187},\n",
       " 'chin_to_shoulders': {'mean': 0.1430757614699277,\n",
       "  'median': 0.15485985577106476,\n",
       "  'max': 0.18042099475860596}}"
      ]
     },
     "execution_count": 13,
     "metadata": {},
     "output_type": "execute_result"
    }
   ],
   "source": [
    "analysis_info[\"pose_analysis\"][\"landmark_measurements\"]"
   ]
  },
  {
   "cell_type": "code",
   "execution_count": 14,
   "metadata": {},
   "outputs": [
    {
     "data": {
      "text/plain": [
       "(0.9782713052799648, 0.8576274074905624)"
      ]
     },
     "execution_count": 14,
     "metadata": {},
     "output_type": "execute_result"
    }
   ],
   "source": [
    "# Measurements from the video\n",
    "## Horizontal\n",
    "shoulder_width = analysis_info[\"pose_analysis\"][\"landmark_measurements\"][\"shoulder_width\"][\"mean\"]\n",
    "face_width = analysis_info[\"pose_analysis\"][\"landmark_measurements\"][\"face_width\"][\"mean\"]\n",
    "## Vertical\n",
    "face_height = analysis_info[\"pose_analysis\"][\"landmark_measurements\"][\"face_height\"][\"mean\"]\n",
    "chin_to_shoulders = analysis_info[\"pose_analysis\"][\"landmark_measurements\"][\"chin_to_shoulders\"][\"median\"]\n",
    "\n",
    "# Reference values to scale to\n",
    "## Horizontal\n",
    "reference_shoulder_width = 0.3\n",
    "reference_face_width = 0.15\n",
    "## Vertical\n",
    "reference_face_height = 0.2\n",
    "reference_chin_to_shoulders = 0.15\n",
    "\n",
    "# Scale Factors\n",
    "## Horizontal\n",
    "shoulder_width_weight = 0.7\n",
    "face_width_weight = 0.3\n",
    "x_scale_factor = shoulder_width_weight * reference_shoulder_width / shoulder_width + face_width_weight * reference_face_width / face_width\n",
    "## Vertical\n",
    "face_height_weight = 0.7\n",
    "chin_to_shoulders_weight = 0.3\n",
    "y_scale_factor = face_height_weight * reference_face_height / face_height + chin_to_shoulders_weight * reference_chin_to_shoulders / chin_to_shoulders\n",
    "\n",
    "x_scale_factor, y_scale_factor"
   ]
  },
  {
   "cell_type": "code",
   "execution_count": 15,
   "metadata": {},
   "outputs": [],
   "source": [
    "# TODO: Plot the measured landmarks and the reference landmarks side by side"
   ]
  },
  {
   "cell_type": "markdown",
   "metadata": {},
   "source": [
    "#### Vertical Offset"
   ]
  },
  {
   "cell_type": "code",
   "execution_count": 16,
   "metadata": {},
   "outputs": [
    {
     "data": {
      "text/plain": [
       "{'shoulders': {'mean': 0.5419730218974027,\n",
       "  'median': 0.541060134768486,\n",
       "  'max': 0.5612127780914307,\n",
       "  'min': 0.5202731192111969},\n",
       " 'face': {'mean': 0.2606092748994177,\n",
       "  'median': 0.2586185485124588,\n",
       "  'max': 0.2975011467933655,\n",
       "  'min': 0.2298063486814499}}"
      ]
     },
     "execution_count": 16,
     "metadata": {},
     "output_type": "execute_result"
    }
   ],
   "source": [
    "analysis_info[\"pose_analysis\"][\"vertical_offsets\"]\n"
   ]
  },
  {
   "cell_type": "code",
   "execution_count": 38,
   "metadata": {},
   "outputs": [
    {
     "data": {
      "text/plain": [
       "-0.02808350026607513"
      ]
     },
     "execution_count": 38,
     "metadata": {},
     "output_type": "execute_result"
    }
   ],
   "source": [
    "# Measured\n",
    "shoulders_median = analysis_info[\"pose_analysis\"][\"vertical_offsets\"][\"shoulders\"][\"median\"]\n",
    "face_median = analysis_info[\"pose_analysis\"][\"vertical_offsets\"][\"face\"][\"median\"]\n",
    "# Reference\n",
    "reference_shoulders = 0.5\n",
    "reference_face = 0.25\n",
    "\n",
    "shoulders_offset = reference_shoulders - shoulders_median\n",
    "face_offset = reference_face - face_median\n",
    "\n",
    "# Weighted Average\n",
    "shoulders_weight = 0.6\n",
    "face_weight = 0.4\n",
    "vertical_offset = shoulders_weight * shoulders_offset + face_weight * face_offset\n",
    "vertical_offset"
   ]
  },
  {
   "cell_type": "markdown",
   "metadata": {},
   "source": [
    "#### Target Duration"
   ]
  },
  {
   "cell_type": "code",
   "execution_count": 30,
   "metadata": {},
   "outputs": [
    {
     "data": {
      "text/plain": [
       "2.4166666666666665"
      ]
     },
     "execution_count": 30,
     "metadata": {},
     "output_type": "execute_result"
    }
   ],
   "source": [
    "analysis_info[\"motion_analysis\"][\"duration_sec\"]"
   ]
  },
  {
   "cell_type": "code",
   "execution_count": 19,
   "metadata": {},
   "outputs": [],
   "source": [
    "target_duration = 2.75"
   ]
  },
  {
   "cell_type": "markdown",
   "metadata": {},
   "source": [
    "## Apply Preprocessing"
   ]
  },
  {
   "cell_type": "code",
   "execution_count": 46,
   "metadata": {},
   "outputs": [
    {
     "data": {
      "text/plain": [
       "{'start_frame': 6,\n",
       " 'end_frame': 35,\n",
       " 'horizontal_offset': 0.019842283427715303,\n",
       " 'x_scale_factor': 0.9782713052799648,\n",
       " 'y_scale_factor': 0.8576274074905624,\n",
       " 'vertical_offset': -0.02808350026607513,\n",
       " 'target_duration': 2.75}"
      ]
     },
     "execution_count": 46,
     "metadata": {},
     "output_type": "execute_result"
    }
   ],
   "source": [
    "preprocessor_params = {\n",
    "    \"start_frame\": start_frame,\n",
    "    \"end_frame\": end_frame,\n",
    "    \"horizontal_offset\": horizontal_offset,\n",
    "    \"x_scale_factor\": x_scale_factor,\n",
    "    \"y_scale_factor\": y_scale_factor,\n",
    "    \"vertical_offset\": vertical_offset,\n",
    "    \"target_duration\": target_duration\n",
    "}\n",
    "preprocessor_params"
   ]
  },
  {
   "cell_type": "code",
   "execution_count": 47,
   "metadata": {},
   "outputs": [
    {
     "name": "stdout",
     "output_type": "stream",
     "text": [
      "Initialized Preprocessor for ajudar_ne_1.mp4\n",
      "Naming this preprocessing version: v1\n"
     ]
    }
   ],
   "source": [
    "preprocessor = Preprocessor(\n",
    "    metadata_row,\n",
    "    preprocessor_params,\n",
    "    path_to_root,\n",
    ")"
   ]
  },
  {
   "cell_type": "code",
   "execution_count": 48,
   "metadata": {},
   "outputs": [
    {
     "name": "stdout",
     "output_type": "stream",
     "text": [
      "Preprocessing video: /home/ben/projects/SaoPauloBrazilChapter_BrazilianSignLanguage/data/raw/combined/videos/ajudar_ne_1.mp4\n",
      "Loaded 44 frames from video\n",
      "Trimmed video from 44 frames to 30 frames\n",
      "Frame range: 6 to 35\n",
      "Horizontally aligned frames with offset 0.019842283427715303, shifted 5 pixels right\n",
      "Filled empty space with edge colors from the original frame\n",
      "Scaled frames with factors: x=0.9782713052799648, y=0.8576274074905624\n",
      "Using edge colors to fill any empty space from scaling\n",
      "Vertically aligned frames with offset -0.02808350026607513, shifted 5 pixels up\n",
      "Filled empty space with edge colors from the original frame\n",
      "Saved interim processed video to /home/ben/projects/SaoPauloBrazilChapter_BrazilianSignLanguage/data/interim/Videos/ajudar_ne_1_processed.mp4\n",
      "Padded frames from 30 to 33 frames\n",
      "Added 1 frames at the start and 2 at the end\n",
      "Saved video metadata to /home/ben/projects/SaoPauloBrazilChapter_BrazilianSignLanguage/data/preprocessed/Videos/v1/individual_metadata/ajudar_ne_1.json\n",
      "Saved preprocessed video to /home/ben/projects/SaoPauloBrazilChapter_BrazilianSignLanguage/data/preprocessed/Videos/v1/videos/ajudar_ne_1.mp4\n",
      "Updated video metadata CSV at /home/ben/projects/SaoPauloBrazilChapter_BrazilianSignLanguage/data/preprocessed/Videos/v1/video_metadata.csv\n"
     ]
    },
    {
     "data": {
      "text/plain": [
       "'/home/ben/projects/SaoPauloBrazilChapter_BrazilianSignLanguage/data/preprocessed/Videos/v1/videos/ajudar_ne_1.mp4'"
      ]
     },
     "execution_count": 48,
     "metadata": {},
     "output_type": "execute_result"
    }
   ],
   "source": [
    "preprocessor.preprocess_video()"
   ]
  },
  {
   "cell_type": "code",
   "execution_count": 49,
   "metadata": {},
   "outputs": [
    {
     "name": "stdout",
     "output_type": "stream",
     "text": [
      "Preprocessing landmarks: /home/ben/projects/SaoPauloBrazilChapter_BrazilianSignLanguage/data/interim/RawPoseLandmarks/versionA/ajudar_ne_1.npy\n",
      "Loaded landmarks with shape: (44,)\n",
      "Trimmed landmarks from 44 frames to 30 frames\n",
      "Frame range: 6 to 35\n",
      "Horizontally aligned landmarks with offset 0.019842283427715303, shifted 0.020 right\n",
      "Scaled landmarks with factors: x=0.9782713052799648, y=0.8576274074905624\n",
      "Vertically aligned landmarks with offset -0.02808350026607513, shifted 0.028 up\n",
      "Padding landmarks from 30 to 33 frames\n",
      "Adding 1 frames at the start and 2 at the end\n",
      "Saved landmarks metadata to /home/ben/projects/SaoPauloBrazilChapter_BrazilianSignLanguage/data/preprocessed/Landmarks/v1/individual_metadata/ajudar_ne_1.json\n",
      "Saved preprocessed landmarks to /home/ben/projects/SaoPauloBrazilChapter_BrazilianSignLanguage/data/preprocessed/Landmarks/v1/landmarks/ajudar_ne_1.npy\n",
      "Updated landmarks metadata CSV at /home/ben/projects/SaoPauloBrazilChapter_BrazilianSignLanguage/data/preprocessed/Landmarks/v1/landmarks_metadata.csv\n"
     ]
    },
    {
     "data": {
      "text/plain": [
       "'/home/ben/projects/SaoPauloBrazilChapter_BrazilianSignLanguage/data/preprocessed/Landmarks/v1/landmarks/ajudar_ne_1.npy'"
      ]
     },
     "execution_count": 49,
     "metadata": {},
     "output_type": "execute_result"
    }
   ],
   "source": [
    "preprocessor.preprocess_landmarks()"
   ]
  },
  {
   "cell_type": "code",
   "execution_count": null,
   "metadata": {},
   "outputs": [],
   "source": [
    "def get_frame(frame_index, video_path):\n",
    "    cap = cv2.VideoCapture(video_path)\n",
    "    cap.set(cv2.CAP_PROP_POS_FRAMES, frame_index)  # Set frame index\n",
    "    ret, frame = cap.read()\n",
    "    cap.release()\n",
    "    if not ret:\n",
    "        print(f\"Could not read frame {frame_index} from video\")\n",
    "        frame = None\n",
    "    return frame\n"
   ]
  },
  {
   "cell_type": "code",
   "execution_count": 61,
   "metadata": {},
   "outputs": [],
   "source": [
    "import mediapipe_holistic as mh"
   ]
  },
  {
   "cell_type": "code",
   "execution_count": 62,
   "metadata": {},
   "outputs": [
    {
     "name": "stderr",
     "output_type": "stream",
     "text": [
      "INFO: Created TensorFlow Lite XNNPACK delegate for CPU.\n",
      "WARNING: All log messages before absl::InitializeLog() is called are written to STDERR\n",
      "W0000 00:00:1743266791.788659  160257 inference_feedback_manager.cc:114] Feedback manager requires a model with a single signature inference. Disabling support for feedback tensors.\n",
      "W0000 00:00:1743266791.840779  160257 inference_feedback_manager.cc:114] Feedback manager requires a model with a single signature inference. Disabling support for feedback tensors.\n",
      "W0000 00:00:1743266791.846790  160259 inference_feedback_manager.cc:114] Feedback manager requires a model with a single signature inference. Disabling support for feedback tensors.\n",
      "W0000 00:00:1743266791.850433  160260 inference_feedback_manager.cc:114] Feedback manager requires a model with a single signature inference. Disabling support for feedback tensors.\n",
      "W0000 00:00:1743266791.854424  160255 inference_feedback_manager.cc:114] Feedback manager requires a model with a single signature inference. Disabling support for feedback tensors.\n",
      "W0000 00:00:1743266791.901509  160259 inference_feedback_manager.cc:114] Feedback manager requires a model with a single signature inference. Disabling support for feedback tensors.\n",
      "W0000 00:00:1743266791.903242  160260 inference_feedback_manager.cc:114] Feedback manager requires a model with a single signature inference. Disabling support for feedback tensors.\n",
      "W0000 00:00:1743266791.908832  160255 inference_feedback_manager.cc:114] Feedback manager requires a model with a single signature inference. Disabling support for feedback tensors.\n"
     ]
    }
   ],
   "source": [
    "mph = mh.MediaPipeHolistic()"
   ]
  },
  {
   "cell_type": "code",
   "execution_count": 70,
   "metadata": {},
   "outputs": [],
   "source": [
    "raw_landmarks = np.load(os.path.join(\n",
    "    path_to_root,\n",
    "    \"data\",\n",
    "    \"interim\",\n",
    "    \"RawPoseLandmarks\",\n",
    "    'versionA',\n",
    "    metadata_row[\"filename\"].split(\".\")[0] + \".npy\"), allow_pickle=True)"
   ]
  },
  {
   "cell_type": "code",
   "execution_count": 71,
   "metadata": {},
   "outputs": [],
   "source": [
    "# load landmarks\n",
    "processed_landmarks = np.load(os.path.join(\n",
    "    path_to_root,\n",
    "    \"data\",\n",
    "    \"preprocessed\",\n",
    "    \"Landmarks\",\n",
    "    'v1',\n",
    "    \"landmarks\",\n",
    "    metadata_row[\"filename\"].split(\".\")[0] + \".npy\"), allow_pickle=True)"
   ]
  },
  {
   "cell_type": "code",
   "execution_count": 77,
   "metadata": {},
   "outputs": [
    {
     "data": {
      "text/plain": [
       "<matplotlib.image.AxesImage at 0x7f1dbd4a96d0>"
      ]
     },
     "execution_count": 77,
     "metadata": {},
     "output_type": "execute_result"
    },
    {
     "data": {
      "image/png": "[encoded data removed]",
      "text/plain": [
       "<Figure size 640x480 with 1 Axes>"
      ]
     },
     "metadata": {},
     "output_type": "display_data"
    }
   ],
   "source": [
    "plot = mph.draw_landmarks_on_frame(np.zeros((1080,1080,3), dtype=np.uint8), raw_landmarks[20])\n",
    "plt.imshow(plot[:,:,::-1])"
   ]
  },
  {
   "cell_type": "code",
   "execution_count": 76,
   "metadata": {},
   "outputs": [
    {
     "data": {
      "text/plain": [
       "<matplotlib.image.AxesImage at 0x7f1dbc1ab1d0>"
      ]
     },
     "execution_count": 76,
     "metadata": {},
     "output_type": "execute_result"
    },
    {
     "data": {
      "image/png": "[encoded data removed]",
      "text/plain": [
       "<Figure size 640x480 with 1 Axes>"
      ]
     },
     "metadata": {},
     "output_type": "display_data"
    }
   ],
   "source": [
    "plot = mph.draw_landmarks_on_frame(np.zeros((1080,1080,3), dtype=np.uint8), processed_landmarks[20])\n",
    "plt.imshow(plot[:,:,::-1])"
   ]
  },
  {
   "cell_type": "code",
   "execution_count": 75,
   "metadata": {},
   "outputs": [
    {
     "data": {
      "text/plain": [
       "<matplotlib.image.AxesImage at 0x7f1dbc158b90>"
      ]
     },
     "execution_count": 75,
     "metadata": {},
     "output_type": "execute_result"
    },
    {
     "data": {
      "image/png": "[encoded data removed]",
      "text/plain": [
       "<Figure size 640x480 with 1 Axes>"
      ]
     },
     "metadata": {},
     "output_type": "display_data"
    }
   ],
   "source": []
  },
  {
   "cell_type": "code",
   "execution_count": null,
   "metadata": {},
   "outputs": [],
   "source": []
  }
 ],
 "metadata": {
  "kernelspec": {
   "display_name": ".venv",
   "language": "python",
   "name": "python3"
  },
  "language_info": {
   "codemirror_mode": {
    "name": "ipython",
    "version": 3
   },
   "file_extension": ".py",
   "mimetype": "text/x-python",
   "name": "python",
   "nbconvert_exporter": "python",
   "pygments_lexer": "ipython3",
   "version": "3.11.8"
  }
 },
 "nbformat": 4,
 "nbformat_minor": 2
}
