{
 "cells": [
  {
   "cell_type": "markdown",
   "metadata": {},
   "source": [
    "# Data exploration\n",
    "\n",
    "This notebook was created to explore the metadata extracted from the dataset we are using, as well as a comparison between the datasets."
   ]
  },
  {
   "cell_type": "code",
   "execution_count": 1,
   "metadata": {},
   "outputs": [],
   "source": [
    "import pandas as pd\n",
    "import os"
   ]
  },
  {
   "cell_type": "code",
   "execution_count": 2,
   "metadata": {},
   "outputs": [
    {
     "data": {
      "text/plain": [
       "'/Users/gustavosantos/code/omdena/SaoPauloBrazilChapter_BrazilianSignLanguage'"
      ]
     },
     "execution_count": 2,
     "metadata": {},
     "output_type": "execute_result"
    }
   ],
   "source": [
    "# Change working directory to the project root directory\n",
    "current_dir = os.getcwd()\n",
    "os.chdir(current_dir + '/../')\n",
    "os.getcwd()"
   ]
  },
  {
   "cell_type": "code",
   "execution_count": 3,
   "metadata": {},
   "outputs": [],
   "source": [
    "BASE_DIR = os.getcwd() + '/data/raw/'\n",
    "\n",
    "# Set paths to the raw data files\n",
    "ines_path = BASE_DIR + 'INES/'\n",
    "signbank_path = BASE_DIR + 'SignBank/'\n",
    "ufv_path = BASE_DIR + 'UFV/'\n",
    "vlibrasil_path = BASE_DIR + 'V-Librasil/'"
   ]
  },
  {
   "cell_type": "code",
   "execution_count": 4,
   "metadata": {},
   "outputs": [
    {
     "name": "stdout",
     "output_type": "stream",
     "text": [
      "UFV metadata not found\n"
     ]
    }
   ],
   "source": [
    "try:\n",
    "    ines_df = pd.read_csv(ines_path + 'metadata.csv')\n",
    "except FileNotFoundError:\n",
    "    print('INES metadata not found')\n",
    "\n",
    "try:\n",
    "    signbank_df = pd.read_csv(signbank_path + 'metadata.csv')\n",
    "except FileNotFoundError:\n",
    "    print('SignBank metadata not found')\n",
    "\n",
    "try:\n",
    "    ufv_df = pd.read_csv(ufv_path + 'metadata.csv')\n",
    "except FileNotFoundError:\n",
    "    print('UFV metadata not found')\n",
    "\n",
    "try:\n",
    "    vlibrasil_df = pd.read_csv(vlibrasil_path + 'metadata.csv')\n",
    "except FileNotFoundError:\n",
    "    print('V-Librasil metadata not found')"
   ]
  }
 ],
 "metadata": {
  "kernelspec": {
   "display_name": ".venv",
   "language": "python",
   "name": "python3"
  },
  "language_info": {
   "codemirror_mode": {
    "name": "ipython",
    "version": 3
   },
   "file_extension": ".py",
   "mimetype": "text/x-python",
   "name": "python",
   "nbconvert_exporter": "python",
   "pygments_lexer": "ipython3",
   "version": "3.11.8"
  }
 },
 "nbformat": 4,
 "nbformat_minor": 2
}
