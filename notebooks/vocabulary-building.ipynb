{
 "cells": [
  {
   "cell_type": "markdown",
   "metadata": {},
   "source": [
    "# Building Vocabulary\n",
    "\n",
    "This notebook was used to define the words selected as target vocabulary."
   ]
  },
  {
   "cell_type": "code",
   "execution_count": 1,
   "metadata": {},
   "outputs": [
    {
     "data": {
      "text/plain": [
       "'/Users/gustavosantos/code/omdena/SaoPauloBrazilChapter_BrazilianSignLanguage'"
      ]
     },
     "execution_count": 1,
     "metadata": {},
     "output_type": "execute_result"
    }
   ],
   "source": [
    "import os\n",
    "import pandas as pd\n",
    "\n",
    "# Change working directory to the project root directory\n",
    "current_dir = os.getcwd()\n",
    "os.chdir(current_dir + \"/../\")\n",
    "os.getcwd()\n"
   ]
  },
  {
   "cell_type": "code",
   "execution_count": 2,
   "metadata": {},
   "outputs": [],
   "source": [
    "def text_normalization(text):\n",
    "    text = text.lower()\n",
    "    text = text.strip()\n",
    "    text = text.replace(\"\\n\", \" \")\n",
    "    text = text.replace(\"\\r\", \" \")\n",
    "    text = text.replace(\"\\t\", \" \")\n",
    "    text = text.replace(\"-\", \" \")\n",
    "    text = text.replace(\" \", \"_\")\n",
    "    return text"
   ]
  },
  {
   "cell_type": "code",
   "execution_count": 3,
   "metadata": {},
   "outputs": [
    {
     "data": {
      "text/plain": [
       "0"
      ]
     },
     "execution_count": 3,
     "metadata": {},
     "output_type": "execute_result"
    }
   ],
   "source": [
    "vocab_df = pd.read_json(\"data/raw/selected_video_variants.json\").drop_duplicates()\n",
    "vocab_df.duplicated().sum()"
   ]
  },
  {
   "cell_type": "code",
   "execution_count": 4,
   "metadata": {},
   "outputs": [
    {
     "name": "stdout",
     "output_type": "stream",
     "text": [
      "Words with 3 options and 3 datasets:\n"
     ]
    },
    {
     "data": {
      "text/plain": [
       "28"
      ]
     },
     "metadata": {},
     "output_type": "display_data"
    },
    {
     "name": "stdout",
     "output_type": "stream",
     "text": [
      "Words with 4 options and 3 datasets:\n"
     ]
    },
    {
     "data": {
      "text/plain": [
       "55"
      ]
     },
     "metadata": {},
     "output_type": "display_data"
    },
    {
     "name": "stdout",
     "output_type": "stream",
     "text": [
      "Words with 5 options and 3 datasets:\n"
     ]
    },
    {
     "data": {
      "text/plain": [
       "216"
      ]
     },
     "metadata": {},
     "output_type": "display_data"
    },
    {
     "name": "stdout",
     "output_type": "stream",
     "text": [
      "Words with 6 options and 3 datasets:\n"
     ]
    },
    {
     "data": {
      "text/plain": [
       "21"
      ]
     },
     "metadata": {},
     "output_type": "display_data"
    }
   ],
   "source": [
    "count_data = (\n",
    "    vocab_df.groupby(\"word\")[\"dataset\"]\n",
    "    .agg([\"nunique\", \"count\"])\n",
    "    .sort_values([\"count\", \"nunique\"], ascending=False)\n",
    ")\n",
    "\n",
    "for i in range(3, 7):\n",
    "    print(f\"Words with {i} options and 3 datasets:\")\n",
    "    display(\n",
    "        count_data[(count_data[\"nunique\"] == 3) & (count_data[\"count\"] == i)].shape[0]\n",
    "    )"
   ]
  },
  {
   "cell_type": "code",
   "execution_count": 5,
   "metadata": {},
   "outputs": [],
   "source": [
    "candidates = (\n",
    "    count_data[(count_data[\"nunique\"] == 3) & (count_data[\"count\"] >= 5)]\n",
    "    .sort_index()\n",
    "    .index\n",
    ")"
   ]
  },
  {
   "cell_type": "code",
   "execution_count": 6,
   "metadata": {},
   "outputs": [],
   "source": [
    "with open(\"data/interim/word_candidates.txt\", \"w\") as f:\n",
    "    for word in candidates:\n",
    "        f.write(word + \"\\n\")"
   ]
  },
  {
   "cell_type": "code",
   "execution_count": 7,
   "metadata": {},
   "outputs": [],
   "source": [
    "with open(\"data/interim/best_candidates.txt\", \"r\") as f:\n",
    "    best_candidates = [line.strip() for line in f]"
   ]
  },
  {
   "cell_type": "code",
   "execution_count": 8,
   "metadata": {},
   "outputs": [
    {
     "name": "stdout",
     "output_type": "stream",
     "text": [
      "Number of best candidates: 66\n"
     ]
    }
   ],
   "source": [
    "best_candidates = [word.split(\":\")[0] for word in best_candidates]\n",
    "print(f\"Number of best candidates: {len(best_candidates)}\")"
   ]
  },
  {
   "cell_type": "code",
   "execution_count": 9,
   "metadata": {},
   "outputs": [
    {
     "name": "stdout",
     "output_type": "stream",
     "text": [
      "UFV metadata not found\n"
     ]
    }
   ],
   "source": [
    "BASE_DIR = os.getcwd() + \"/data/raw/\"\n",
    "\n",
    "# Set paths to the raw data files\n",
    "ne_path = BASE_DIR + \"INES/\"\n",
    "sb_path = BASE_DIR + \"SignBank/\"\n",
    "uf_path = BASE_DIR + \"UFV/\"\n",
    "vl_path = BASE_DIR + \"V-Librasil/\"\n",
    "try:\n",
    "    ne_raw_df = pd.read_csv(ne_path + \"metadata.csv\")\n",
    "except FileNotFoundError:\n",
    "    print(\"INES metadata not found\")\n",
    "\n",
    "try:\n",
    "    sb_raw_df = pd.read_csv(sb_path + \"metadata.csv\")\n",
    "except FileNotFoundError:\n",
    "    print(\"SignBank metadata not found\")\n",
    "\n",
    "try:\n",
    "    uf_raw_df = pd.read_csv(uf_path + \"metadata.csv\")\n",
    "except FileNotFoundError:\n",
    "    print(\"UFV metadata not found\")\n",
    "\n",
    "try:\n",
    "    vl_raw_df = pd.read_csv(vl_path + \"metadata.csv\")\n",
    "except FileNotFoundError:\n",
    "    print(\"V-Librasil metadata not found\")"
   ]
  },
  {
   "cell_type": "code",
   "execution_count": 10,
   "metadata": {},
   "outputs": [],
   "source": [
    "ne_df = ne_raw_df[ne_raw_df[\"file_exists\"]]\n",
    "ne_df[ne_df[\"scraped_label\"].duplicated(keep=False)].head(10).sort_values(\"label\")\n",
    "ne_df = ne_df.drop_duplicates(keep=\"first\")\n",
    "ne_df[\"label\"] = ne_df[\"label\"].apply(text_normalization)\n",
    "ne_df[\"label_number\"] = ne_df[\"scraped_label\"].str.extract(r\"(\\d+)\").astype(float)\n",
    "ne_df[\"label_number\"] = ne_df[\"label_number\"].fillna(0).astype(int)\n",
    "\n",
    "sb_df = sb_raw_df.drop_duplicates(keep=\"first\")\n",
    "sb_df[\"label\"] = sb_df[\"label\"].apply(text_normalization)\n",
    "\n",
    "vl_df = vl_raw_df.drop_duplicates(keep=\"first\")\n",
    "vl_df[\"label\"] = vl_df[\"label\"].apply(text_normalization)"
   ]
  },
  {
   "cell_type": "code",
   "execution_count": 11,
   "metadata": {},
   "outputs": [
    {
     "data": {
      "text/html": [
       "<div>\n",
       "<style scoped>\n",
       "    .dataframe tbody tr th:only-of-type {\n",
       "        vertical-align: middle;\n",
       "    }\n",
       "\n",
       "    .dataframe tbody tr th {\n",
       "        vertical-align: top;\n",
       "    }\n",
       "\n",
       "    .dataframe thead th {\n",
       "        text-align: right;\n",
       "    }\n",
       "</style>\n",
       "<table border=\"1\" class=\"dataframe\">\n",
       "  <thead>\n",
       "    <tr style=\"text-align: right;\">\n",
       "      <th></th>\n",
       "      <th>dataset</th>\n",
       "      <th>word</th>\n",
       "      <th>chosen_video</th>\n",
       "    </tr>\n",
       "  </thead>\n",
       "  <tbody>\n",
       "    <tr>\n",
       "      <th>0</th>\n",
       "      <td>INES</td>\n",
       "      <td>abacaxi</td>\n",
       "      <td>0</td>\n",
       "    </tr>\n",
       "    <tr>\n",
       "      <th>1</th>\n",
       "      <td>SIGNBANK</td>\n",
       "      <td>abacaxi</td>\n",
       "      <td>1</td>\n",
       "    </tr>\n",
       "    <tr>\n",
       "      <th>2</th>\n",
       "      <td>INES</td>\n",
       "      <td>abanar</td>\n",
       "      <td>0</td>\n",
       "    </tr>\n",
       "    <tr>\n",
       "      <th>3</th>\n",
       "      <td>SIGNBANK</td>\n",
       "      <td>abanar</td>\n",
       "      <td>1</td>\n",
       "    </tr>\n",
       "    <tr>\n",
       "      <th>4</th>\n",
       "      <td>INES</td>\n",
       "      <td>abandonar</td>\n",
       "      <td>1</td>\n",
       "    </tr>\n",
       "    <tr>\n",
       "      <th>...</th>\n",
       "      <td>...</td>\n",
       "      <td>...</td>\n",
       "      <td>...</td>\n",
       "    </tr>\n",
       "    <tr>\n",
       "      <th>2063</th>\n",
       "      <td>SIGNBANK</td>\n",
       "      <td>zíper</td>\n",
       "      <td>1</td>\n",
       "    </tr>\n",
       "    <tr>\n",
       "      <th>2064</th>\n",
       "      <td>INES</td>\n",
       "      <td>zíper</td>\n",
       "      <td>0</td>\n",
       "    </tr>\n",
       "    <tr>\n",
       "      <th>2065</th>\n",
       "      <td>V-LIBRASIL</td>\n",
       "      <td>zíper</td>\n",
       "      <td>2</td>\n",
       "    </tr>\n",
       "    <tr>\n",
       "      <th>2066</th>\n",
       "      <td>V-LIBRASIL</td>\n",
       "      <td>zíper</td>\n",
       "      <td>1</td>\n",
       "    </tr>\n",
       "    <tr>\n",
       "      <th>2067</th>\n",
       "      <td>V-LIBRASIL</td>\n",
       "      <td>zíper</td>\n",
       "      <td>3</td>\n",
       "    </tr>\n",
       "  </tbody>\n",
       "</table>\n",
       "<p>2049 rows × 3 columns</p>\n",
       "</div>"
      ],
      "text/plain": [
       "         dataset       word  chosen_video\n",
       "0           INES    abacaxi             0\n",
       "1       SIGNBANK    abacaxi             1\n",
       "2           INES     abanar             0\n",
       "3       SIGNBANK     abanar             1\n",
       "4           INES  abandonar             1\n",
       "...          ...        ...           ...\n",
       "2063    SIGNBANK      zíper             1\n",
       "2064        INES      zíper             0\n",
       "2065  V-LIBRASIL      zíper             2\n",
       "2066  V-LIBRASIL      zíper             1\n",
       "2067  V-LIBRASIL      zíper             3\n",
       "\n",
       "[2049 rows x 3 columns]"
      ]
     },
     "execution_count": 11,
     "metadata": {},
     "output_type": "execute_result"
    }
   ],
   "source": [
    "vocab_df"
   ]
  },
  {
   "cell_type": "code",
   "execution_count": 12,
   "metadata": {},
   "outputs": [
    {
     "data": {
      "text/html": [
       "<div>\n",
       "<style scoped>\n",
       "    .dataframe tbody tr th:only-of-type {\n",
       "        vertical-align: middle;\n",
       "    }\n",
       "\n",
       "    .dataframe tbody tr th {\n",
       "        vertical-align: top;\n",
       "    }\n",
       "\n",
       "    .dataframe thead th {\n",
       "        text-align: right;\n",
       "    }\n",
       "</style>\n",
       "<table border=\"1\" class=\"dataframe\">\n",
       "  <thead>\n",
       "    <tr style=\"text-align: right;\">\n",
       "      <th></th>\n",
       "      <th>dataset</th>\n",
       "      <th>word</th>\n",
       "      <th>chosen_video</th>\n",
       "      <th>source</th>\n",
       "    </tr>\n",
       "  </thead>\n",
       "  <tbody>\n",
       "    <tr>\n",
       "      <th>0</th>\n",
       "      <td>INES</td>\n",
       "      <td>abacaxi</td>\n",
       "      <td>0</td>\n",
       "      <td>ne</td>\n",
       "    </tr>\n",
       "    <tr>\n",
       "      <th>1</th>\n",
       "      <td>SIGNBANK</td>\n",
       "      <td>abacaxi</td>\n",
       "      <td>1</td>\n",
       "      <td>sb</td>\n",
       "    </tr>\n",
       "    <tr>\n",
       "      <th>2</th>\n",
       "      <td>INES</td>\n",
       "      <td>abanar</td>\n",
       "      <td>0</td>\n",
       "      <td>ne</td>\n",
       "    </tr>\n",
       "    <tr>\n",
       "      <th>3</th>\n",
       "      <td>SIGNBANK</td>\n",
       "      <td>abanar</td>\n",
       "      <td>1</td>\n",
       "      <td>sb</td>\n",
       "    </tr>\n",
       "    <tr>\n",
       "      <th>4</th>\n",
       "      <td>INES</td>\n",
       "      <td>abandonar</td>\n",
       "      <td>1</td>\n",
       "      <td>ne</td>\n",
       "    </tr>\n",
       "  </tbody>\n",
       "</table>\n",
       "</div>"
      ],
      "text/plain": [
       "    dataset       word  chosen_video source\n",
       "0      INES    abacaxi             0     ne\n",
       "1  SIGNBANK    abacaxi             1     sb\n",
       "2      INES     abanar             0     ne\n",
       "3  SIGNBANK     abanar             1     sb\n",
       "4      INES  abandonar             1     ne"
      ]
     },
     "execution_count": 12,
     "metadata": {},
     "output_type": "execute_result"
    }
   ],
   "source": [
    "source_map = {\"INES\": \"ne\", \"SIGNBANK\": \"sb\", \"UFV\": \"uf\", \"V-LIBRASIL\": \"vl\"}\n",
    "vocab_df[\"source\"] = vocab_df[\"dataset\"].map(source_map)\n",
    "vocab_df[\"word\"] = vocab_df[\"word\"].apply(text_normalization)\n",
    "vocab_df.head()"
   ]
  },
  {
   "cell_type": "code",
   "execution_count": 13,
   "metadata": {},
   "outputs": [],
   "source": [
    "selected_ne_df = ne_df.loc[:, [\"label\", \"label_number\", \"data_source\", \"video_url\"]]\n",
    "selected_ne_df[\"sign_id\"] = selected_ne_df[\"label_number\"]\n",
    "selected_ne_df.drop(\"label_number\", axis=1, inplace=True)\n",
    "\n",
    "selected_sb_df = sb_df.loc[:, [\"label\", \"data_source\", \"video_url\", \"sign_variant\"]]\n",
    "selected_sb_df[\"sign_id\"] = selected_sb_df[\"sign_variant\"]\n",
    "selected_sb_df.drop(\"sign_variant\", axis=1, inplace=True)\n",
    "\n",
    "selected_vl_df = vl_df.loc[:, [\"label\", \"data_source\", \"video_url\", \"signer_number\"]]\n",
    "selected_vl_df[\"sign_id\"] = selected_vl_df[\"signer_number\"]\n",
    "selected_vl_df.drop(\"signer_number\", axis=1, inplace=True)"
   ]
  },
  {
   "cell_type": "code",
   "execution_count": 14,
   "metadata": {},
   "outputs": [
    {
     "data": {
      "text/html": [
       "<div>\n",
       "<style scoped>\n",
       "    .dataframe tbody tr th:only-of-type {\n",
       "        vertical-align: middle;\n",
       "    }\n",
       "\n",
       "    .dataframe tbody tr th {\n",
       "        vertical-align: top;\n",
       "    }\n",
       "\n",
       "    .dataframe thead th {\n",
       "        text-align: right;\n",
       "    }\n",
       "</style>\n",
       "<table border=\"1\" class=\"dataframe\">\n",
       "  <thead>\n",
       "    <tr style=\"text-align: right;\">\n",
       "      <th></th>\n",
       "      <th>label</th>\n",
       "      <th>data_source</th>\n",
       "      <th>video_url</th>\n",
       "      <th>sign_id</th>\n",
       "    </tr>\n",
       "  </thead>\n",
       "  <tbody>\n",
       "    <tr>\n",
       "      <th>0</th>\n",
       "      <td>a</td>\n",
       "      <td>ne</td>\n",
       "      <td>https://www.ines.gov.br/dicionario-de-libras/p...</td>\n",
       "      <td>0</td>\n",
       "    </tr>\n",
       "    <tr>\n",
       "      <th>1</th>\n",
       "      <td>abacate</td>\n",
       "      <td>ne</td>\n",
       "      <td>https://www.ines.gov.br/dicionario-de-libras/p...</td>\n",
       "      <td>0</td>\n",
       "    </tr>\n",
       "    <tr>\n",
       "      <th>2</th>\n",
       "      <td>abacaxi</td>\n",
       "      <td>ne</td>\n",
       "      <td>https://www.ines.gov.br/dicionario-de-libras/p...</td>\n",
       "      <td>0</td>\n",
       "    </tr>\n",
       "    <tr>\n",
       "      <th>3</th>\n",
       "      <td>abafar</td>\n",
       "      <td>ne</td>\n",
       "      <td>https://www.ines.gov.br/dicionario-de-libras/p...</td>\n",
       "      <td>0</td>\n",
       "    </tr>\n",
       "    <tr>\n",
       "      <th>4</th>\n",
       "      <td>abaixo</td>\n",
       "      <td>ne</td>\n",
       "      <td>https://www.ines.gov.br/dicionario-de-libras/p...</td>\n",
       "      <td>0</td>\n",
       "    </tr>\n",
       "  </tbody>\n",
       "</table>\n",
       "</div>"
      ],
      "text/plain": [
       "     label data_source                                          video_url  \\\n",
       "0        a          ne  https://www.ines.gov.br/dicionario-de-libras/p...   \n",
       "1  abacate          ne  https://www.ines.gov.br/dicionario-de-libras/p...   \n",
       "2  abacaxi          ne  https://www.ines.gov.br/dicionario-de-libras/p...   \n",
       "3   abafar          ne  https://www.ines.gov.br/dicionario-de-libras/p...   \n",
       "4   abaixo          ne  https://www.ines.gov.br/dicionario-de-libras/p...   \n",
       "\n",
       "   sign_id  \n",
       "0        0  \n",
       "1        0  \n",
       "2        0  \n",
       "3        0  \n",
       "4        0  "
      ]
     },
     "execution_count": 14,
     "metadata": {},
     "output_type": "execute_result"
    }
   ],
   "source": [
    "combined_df = pd.concat([selected_ne_df, selected_sb_df, selected_vl_df], axis=0)\n",
    "combined_df.head()"
   ]
  },
  {
   "cell_type": "code",
   "execution_count": 15,
   "metadata": {},
   "outputs": [
    {
     "data": {
      "text/html": [
       "<div>\n",
       "<style scoped>\n",
       "    .dataframe tbody tr th:only-of-type {\n",
       "        vertical-align: middle;\n",
       "    }\n",
       "\n",
       "    .dataframe tbody tr th {\n",
       "        vertical-align: top;\n",
       "    }\n",
       "\n",
       "    .dataframe thead th {\n",
       "        text-align: right;\n",
       "    }\n",
       "</style>\n",
       "<table border=\"1\" class=\"dataframe\">\n",
       "  <thead>\n",
       "    <tr style=\"text-align: right;\">\n",
       "      <th></th>\n",
       "      <th>label</th>\n",
       "      <th>data_source</th>\n",
       "      <th>video_url</th>\n",
       "      <th>sign_id</th>\n",
       "      <th>dataset</th>\n",
       "      <th>word</th>\n",
       "      <th>chosen_video</th>\n",
       "      <th>source</th>\n",
       "    </tr>\n",
       "  </thead>\n",
       "  <tbody>\n",
       "    <tr>\n",
       "      <th>0</th>\n",
       "      <td>abacaxi</td>\n",
       "      <td>ne</td>\n",
       "      <td>https://www.ines.gov.br/dicionario-de-libras/p...</td>\n",
       "      <td>0</td>\n",
       "      <td>INES</td>\n",
       "      <td>abacaxi</td>\n",
       "      <td>0</td>\n",
       "      <td>ne</td>\n",
       "    </tr>\n",
       "    <tr>\n",
       "      <th>1</th>\n",
       "      <td>abacaxi</td>\n",
       "      <td>sb</td>\n",
       "      <td>https://videos.nals.cce.ufsc.br/SignBank/Vídeo...</td>\n",
       "      <td>1</td>\n",
       "      <td>SIGNBANK</td>\n",
       "      <td>abacaxi</td>\n",
       "      <td>1</td>\n",
       "      <td>sb</td>\n",
       "    </tr>\n",
       "    <tr>\n",
       "      <th>2</th>\n",
       "      <td>abacaxi</td>\n",
       "      <td>vl</td>\n",
       "      <td>https://libras.cin.ufpe.br/storage/videos/2021...</td>\n",
       "      <td>1</td>\n",
       "      <td>V-LIBRASIL</td>\n",
       "      <td>abacaxi</td>\n",
       "      <td>1</td>\n",
       "      <td>vl</td>\n",
       "    </tr>\n",
       "    <tr>\n",
       "      <th>3</th>\n",
       "      <td>abacaxi</td>\n",
       "      <td>vl</td>\n",
       "      <td>https://libras.cin.ufpe.br/storage/videos/2021...</td>\n",
       "      <td>2</td>\n",
       "      <td>V-LIBRASIL</td>\n",
       "      <td>abacaxi</td>\n",
       "      <td>2</td>\n",
       "      <td>vl</td>\n",
       "    </tr>\n",
       "    <tr>\n",
       "      <th>4</th>\n",
       "      <td>abacaxi</td>\n",
       "      <td>vl</td>\n",
       "      <td>https://libras.cin.ufpe.br/storage/videos/2021...</td>\n",
       "      <td>3</td>\n",
       "      <td>V-LIBRASIL</td>\n",
       "      <td>abacaxi</td>\n",
       "      <td>3</td>\n",
       "      <td>vl</td>\n",
       "    </tr>\n",
       "  </tbody>\n",
       "</table>\n",
       "</div>"
      ],
      "text/plain": [
       "     label data_source                                          video_url  \\\n",
       "0  abacaxi          ne  https://www.ines.gov.br/dicionario-de-libras/p...   \n",
       "1  abacaxi          sb  https://videos.nals.cce.ufsc.br/SignBank/Vídeo...   \n",
       "2  abacaxi          vl  https://libras.cin.ufpe.br/storage/videos/2021...   \n",
       "3  abacaxi          vl  https://libras.cin.ufpe.br/storage/videos/2021...   \n",
       "4  abacaxi          vl  https://libras.cin.ufpe.br/storage/videos/2021...   \n",
       "\n",
       "   sign_id     dataset     word  chosen_video source  \n",
       "0        0        INES  abacaxi             0     ne  \n",
       "1        1    SIGNBANK  abacaxi             1     sb  \n",
       "2        1  V-LIBRASIL  abacaxi             1     vl  \n",
       "3        2  V-LIBRASIL  abacaxi             2     vl  \n",
       "4        3  V-LIBRASIL  abacaxi             3     vl  "
      ]
     },
     "metadata": {},
     "output_type": "display_data"
    },
    {
     "name": "stdout",
     "output_type": "stream",
     "text": [
      "(2051, 8)\n"
     ]
    }
   ],
   "source": [
    "full_data = combined_df.merge(\n",
    "    vocab_df,\n",
    "    left_on=[\"label\", \"data_source\", \"sign_id\"],\n",
    "    right_on=[\"word\", \"source\", \"chosen_video\"],\n",
    "    how=\"inner\",\n",
    ")\n",
    "full_data = full_data.sort_values([\"label\", \"data_source\", \"sign_id\"])\n",
    "full_data = full_data.reset_index(drop=True)\n",
    "display(full_data.head())\n",
    "print(full_data.shape)"
   ]
  },
  {
   "cell_type": "code",
   "execution_count": 16,
   "metadata": {},
   "outputs": [
    {
     "data": {
      "text/plain": [
       "66"
      ]
     },
     "execution_count": 16,
     "metadata": {},
     "output_type": "execute_result"
    }
   ],
   "source": [
    "with open(\"data/interim/best_candidates.txt\", \"r\") as f:\n",
    "    selected_labels = [line.strip() for line in f]\n",
    "    selected_labels = [word.split(\":\")[0] for word in selected_labels]\n",
    "len(selected_labels)"
   ]
  },
  {
   "cell_type": "code",
   "execution_count": 17,
   "metadata": {},
   "outputs": [
    {
     "data": {
      "text/html": [
       "<div>\n",
       "<style scoped>\n",
       "    .dataframe tbody tr th:only-of-type {\n",
       "        vertical-align: middle;\n",
       "    }\n",
       "\n",
       "    .dataframe tbody tr th {\n",
       "        vertical-align: top;\n",
       "    }\n",
       "\n",
       "    .dataframe thead th {\n",
       "        text-align: right;\n",
       "    }\n",
       "</style>\n",
       "<table border=\"1\" class=\"dataframe\">\n",
       "  <thead>\n",
       "    <tr style=\"text-align: right;\">\n",
       "      <th></th>\n",
       "      <th>label</th>\n",
       "      <th>data_source</th>\n",
       "      <th>video_url</th>\n",
       "      <th>sign_id</th>\n",
       "    </tr>\n",
       "  </thead>\n",
       "  <tbody>\n",
       "    <tr>\n",
       "      <th>0</th>\n",
       "      <td>abacaxi</td>\n",
       "      <td>ne</td>\n",
       "      <td>https://www.ines.gov.br/dicionario-de-libras/p...</td>\n",
       "      <td>0</td>\n",
       "    </tr>\n",
       "    <tr>\n",
       "      <th>1</th>\n",
       "      <td>abacaxi</td>\n",
       "      <td>sb</td>\n",
       "      <td>https://videos.nals.cce.ufsc.br/SignBank/Vídeo...</td>\n",
       "      <td>1</td>\n",
       "    </tr>\n",
       "    <tr>\n",
       "      <th>2</th>\n",
       "      <td>abacaxi</td>\n",
       "      <td>vl</td>\n",
       "      <td>https://libras.cin.ufpe.br/storage/videos/2021...</td>\n",
       "      <td>1</td>\n",
       "    </tr>\n",
       "    <tr>\n",
       "      <th>3</th>\n",
       "      <td>abacaxi</td>\n",
       "      <td>vl</td>\n",
       "      <td>https://libras.cin.ufpe.br/storage/videos/2021...</td>\n",
       "      <td>2</td>\n",
       "    </tr>\n",
       "    <tr>\n",
       "      <th>4</th>\n",
       "      <td>abacaxi</td>\n",
       "      <td>vl</td>\n",
       "      <td>https://libras.cin.ufpe.br/storage/videos/2021...</td>\n",
       "      <td>3</td>\n",
       "    </tr>\n",
       "  </tbody>\n",
       "</table>\n",
       "</div>"
      ],
      "text/plain": [
       "     label data_source                                          video_url  \\\n",
       "0  abacaxi          ne  https://www.ines.gov.br/dicionario-de-libras/p...   \n",
       "1  abacaxi          sb  https://videos.nals.cce.ufsc.br/SignBank/Vídeo...   \n",
       "2  abacaxi          vl  https://libras.cin.ufpe.br/storage/videos/2021...   \n",
       "3  abacaxi          vl  https://libras.cin.ufpe.br/storage/videos/2021...   \n",
       "4  abacaxi          vl  https://libras.cin.ufpe.br/storage/videos/2021...   \n",
       "\n",
       "   sign_id  \n",
       "0        0  \n",
       "1        1  \n",
       "2        1  \n",
       "3        2  \n",
       "4        3  "
      ]
     },
     "metadata": {},
     "output_type": "display_data"
    },
    {
     "name": "stdout",
     "output_type": "stream",
     "text": [
      "(337, 4)\n"
     ]
    }
   ],
   "source": [
    "selected_data = full_data[full_data[\"label\"].isin(selected_labels)]\n",
    "selected_data = selected_data.drop(\n",
    "    [\"dataset\", \"word\", \"word\", \"source\", \"chosen_video\"], axis=1\n",
    ")\n",
    "display(selected_data.head())\n",
    "print(selected_data.shape)"
   ]
  },
  {
   "cell_type": "code",
   "execution_count": 18,
   "metadata": {},
   "outputs": [],
   "source": [
    "selected_data.to_csv(\"data/raw/combined/metadata_combined.csv\", index=False)"
   ]
  }
 ],
 "metadata": {
  "kernelspec": {
   "display_name": ".venv",
   "language": "python",
   "name": "python3"
  },
  "language_info": {
   "codemirror_mode": {
    "name": "ipython",
    "version": 3
   },
   "file_extension": ".py",
   "mimetype": "text/x-python",
   "name": "python",
   "nbconvert_exporter": "python",
   "pygments_lexer": "ipython3",
   "version": "3.11.8"
  }
 },
 "nbformat": 4,
 "nbformat_minor": 2
}
