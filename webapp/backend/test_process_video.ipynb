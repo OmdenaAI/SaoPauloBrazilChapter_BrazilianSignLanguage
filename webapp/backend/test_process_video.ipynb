{
 "cells": [
  {
   "cell_type": "code",
   "execution_count": 7,
   "metadata": {},
   "outputs": [],
   "source": [
    "%load_ext autoreload\n",
    "%autoreload 2"
   ]
  },
  {
   "cell_type": "code",
   "execution_count": 8,
   "metadata": {},
   "outputs": [],
   "source": [
    "from process_video_ben import process_video\n",
    "import pandas as pd\n",
    "import numpy as np\n",
    "import os"
   ]
  },
  {
   "cell_type": "code",
   "execution_count": 9,
   "metadata": {},
   "outputs": [
    {
     "data": {
      "text/html": [
       "<div>\n",
       "<style scoped>\n",
       "    .dataframe tbody tr th:only-of-type {\n",
       "        vertical-align: middle;\n",
       "    }\n",
       "\n",
       "    .dataframe tbody tr th {\n",
       "        vertical-align: top;\n",
       "    }\n",
       "\n",
       "    .dataframe thead th {\n",
       "        text-align: right;\n",
       "    }\n",
       "</style>\n",
       "<table border=\"1\" class=\"dataframe\">\n",
       "  <thead>\n",
       "    <tr style=\"text-align: right;\">\n",
       "      <th></th>\n",
       "      <th>filename</th>\n",
       "      <th>filename_accented</th>\n",
       "      <th>label</th>\n",
       "      <th>label_accented</th>\n",
       "      <th>accented</th>\n",
       "      <th>data_source</th>\n",
       "      <th>original_fps</th>\n",
       "      <th>original_frame_count</th>\n",
       "      <th>original_duration_sec</th>\n",
       "      <th>start_frame</th>\n",
       "      <th>end_frame</th>\n",
       "      <th>processed_frame_count</th>\n",
       "      <th>processed_duration_sec</th>\n",
       "      <th>preprocess_version</th>\n",
       "      <th>face_width</th>\n",
       "      <th>shoulders_width</th>\n",
       "      <th>face_midpoint_to_shoulders_height</th>\n",
       "      <th>left_hand_interpolated_none_frames</th>\n",
       "      <th>right_hand_interpolated_none_frames</th>\n",
       "    </tr>\n",
       "  </thead>\n",
       "  <tbody>\n",
       "    <tr>\n",
       "      <th>0</th>\n",
       "      <td>ajudar_ne_1.mp4</td>\n",
       "      <td>ajudar_ne_1.mp4</td>\n",
       "      <td>ajudar</td>\n",
       "      <td>ajudar</td>\n",
       "      <td>False</td>\n",
       "      <td>ne</td>\n",
       "      <td>12.00000</td>\n",
       "      <td>44</td>\n",
       "      <td>3.666667</td>\n",
       "      <td>7</td>\n",
       "      <td>36</td>\n",
       "      <td>30</td>\n",
       "      <td>2.500000</td>\n",
       "      <td>v4</td>\n",
       "      <td>0.147576</td>\n",
       "      <td>0.333421</td>\n",
       "      <td>0.292776</td>\n",
       "      <td>7</td>\n",
       "      <td>6</td>\n",
       "    </tr>\n",
       "    <tr>\n",
       "      <th>1</th>\n",
       "      <td>ajudar_sb_2.mp4</td>\n",
       "      <td>ajudar_sb_2.mp4</td>\n",
       "      <td>ajudar</td>\n",
       "      <td>ajudar</td>\n",
       "      <td>False</td>\n",
       "      <td>sb</td>\n",
       "      <td>29.97003</td>\n",
       "      <td>79</td>\n",
       "      <td>2.635967</td>\n",
       "      <td>6</td>\n",
       "      <td>66</td>\n",
       "      <td>61</td>\n",
       "      <td>2.035367</td>\n",
       "      <td>v4</td>\n",
       "      <td>0.086359</td>\n",
       "      <td>0.206200</td>\n",
       "      <td>0.216821</td>\n",
       "      <td>0</td>\n",
       "      <td>0</td>\n",
       "    </tr>\n",
       "    <tr>\n",
       "      <th>2</th>\n",
       "      <td>ajudar_uf_3.mp4</td>\n",
       "      <td>ajudar_uf_3.mp4</td>\n",
       "      <td>ajudar</td>\n",
       "      <td>ajudar</td>\n",
       "      <td>False</td>\n",
       "      <td>uf</td>\n",
       "      <td>29.97003</td>\n",
       "      <td>115</td>\n",
       "      <td>3.837167</td>\n",
       "      <td>24</td>\n",
       "      <td>89</td>\n",
       "      <td>66</td>\n",
       "      <td>2.202200</td>\n",
       "      <td>v4</td>\n",
       "      <td>0.090604</td>\n",
       "      <td>0.205890</td>\n",
       "      <td>0.222293</td>\n",
       "      <td>0</td>\n",
       "      <td>0</td>\n",
       "    </tr>\n",
       "    <tr>\n",
       "      <th>3</th>\n",
       "      <td>ajudar_vl_4.mp4</td>\n",
       "      <td>ajudar_vl_4.mp4</td>\n",
       "      <td>ajudar</td>\n",
       "      <td>ajudar</td>\n",
       "      <td>False</td>\n",
       "      <td>vl</td>\n",
       "      <td>29.97003</td>\n",
       "      <td>141</td>\n",
       "      <td>4.704700</td>\n",
       "      <td>11</td>\n",
       "      <td>126</td>\n",
       "      <td>116</td>\n",
       "      <td>3.870533</td>\n",
       "      <td>v4</td>\n",
       "      <td>0.100236</td>\n",
       "      <td>0.210215</td>\n",
       "      <td>0.240169</td>\n",
       "      <td>25</td>\n",
       "      <td>9</td>\n",
       "    </tr>\n",
       "    <tr>\n",
       "      <th>4</th>\n",
       "      <td>ajudar_vl_5.mp4</td>\n",
       "      <td>ajudar_vl_5.mp4</td>\n",
       "      <td>ajudar</td>\n",
       "      <td>ajudar</td>\n",
       "      <td>False</td>\n",
       "      <td>vl</td>\n",
       "      <td>29.97000</td>\n",
       "      <td>108</td>\n",
       "      <td>3.603604</td>\n",
       "      <td>0</td>\n",
       "      <td>106</td>\n",
       "      <td>107</td>\n",
       "      <td>3.570237</td>\n",
       "      <td>v4</td>\n",
       "      <td>0.114839</td>\n",
       "      <td>0.243479</td>\n",
       "      <td>0.246769</td>\n",
       "      <td>13</td>\n",
       "      <td>12</td>\n",
       "    </tr>\n",
       "  </tbody>\n",
       "</table>\n",
       "</div>"
      ],
      "text/plain": [
       "          filename filename_accented   label label_accented  accented  \\\n",
       "0  ajudar_ne_1.mp4   ajudar_ne_1.mp4  ajudar         ajudar     False   \n",
       "1  ajudar_sb_2.mp4   ajudar_sb_2.mp4  ajudar         ajudar     False   \n",
       "2  ajudar_uf_3.mp4   ajudar_uf_3.mp4  ajudar         ajudar     False   \n",
       "3  ajudar_vl_4.mp4   ajudar_vl_4.mp4  ajudar         ajudar     False   \n",
       "4  ajudar_vl_5.mp4   ajudar_vl_5.mp4  ajudar         ajudar     False   \n",
       "\n",
       "  data_source  original_fps  original_frame_count  original_duration_sec  \\\n",
       "0          ne      12.00000                    44               3.666667   \n",
       "1          sb      29.97003                    79               2.635967   \n",
       "2          uf      29.97003                   115               3.837167   \n",
       "3          vl      29.97003                   141               4.704700   \n",
       "4          vl      29.97000                   108               3.603604   \n",
       "\n",
       "   start_frame  end_frame  processed_frame_count  processed_duration_sec  \\\n",
       "0            7         36                     30                2.500000   \n",
       "1            6         66                     61                2.035367   \n",
       "2           24         89                     66                2.202200   \n",
       "3           11        126                    116                3.870533   \n",
       "4            0        106                    107                3.570237   \n",
       "\n",
       "  preprocess_version  face_width  shoulders_width  \\\n",
       "0                 v4    0.147576         0.333421   \n",
       "1                 v4    0.086359         0.206200   \n",
       "2                 v4    0.090604         0.205890   \n",
       "3                 v4    0.100236         0.210215   \n",
       "4                 v4    0.114839         0.243479   \n",
       "\n",
       "   face_midpoint_to_shoulders_height  left_hand_interpolated_none_frames  \\\n",
       "0                           0.292776                                   7   \n",
       "1                           0.216821                                   0   \n",
       "2                           0.222293                                   0   \n",
       "3                           0.240169                                  25   \n",
       "4                           0.246769                                  13   \n",
       "\n",
       "   right_hand_interpolated_none_frames  \n",
       "0                                    6  \n",
       "1                                    0  \n",
       "2                                    0  \n",
       "3                                    9  \n",
       "4                                   12  "
      ]
     },
     "execution_count": 9,
     "metadata": {},
     "output_type": "execute_result"
    }
   ],
   "source": [
    "metadata = pd.read_csv(\"/home/ben/projects/SaoPauloBrazilChapter_BrazilianSignLanguage/data/preprocessed/landmarks_metadata_v4.csv\")\n",
    "metadata.head()"
   ]
  },
  {
   "cell_type": "code",
   "execution_count": 16,
   "metadata": {},
   "outputs": [
    {
     "data": {
      "text/plain": [
       "42     cabeça_ne_1.mp4\n",
       "43     cabeça_sb_2.mp4\n",
       "44     cabeça_uf_3.mp4\n",
       "45     cabeça_vl_4.mp4\n",
       "46     cabeça_vl_5.mp4\n",
       "            ...       \n",
       "145    vagina_sb_2.mp4\n",
       "146    vagina_uf_3.mp4\n",
       "147    vagina_vl_4.mp4\n",
       "148    vagina_vl_5.mp4\n",
       "149    vagina_vl_6.mp4\n",
       "Name: filename_accented, Length: 108, dtype: object"
      ]
     },
     "execution_count": 16,
     "metadata": {},
     "output_type": "execute_result"
    }
   ],
   "source": [
    "metadata[\"filename_accented\"][42:]"
   ]
  },
  {
   "cell_type": "code",
   "execution_count": null,
   "metadata": {},
   "outputs": [
    {
     "name": "stdout",
     "output_type": "stream",
     "text": [
      "/home/ben/projects/SaoPauloBrazilChapter_BrazilianSignLanguage/webapp/backend/data/interim/RawCleanVideos/cabeça_ne_1.mp4\n",
      "{'filename': 'cabeça_ne_1.mp4', 'frame_count': 61, 'fps': 12.0, 'width': 240, 'height': 176, 'duration_sec': 5.083333333333333}\n",
      "Loaded pose estimation results from v0\n"
     ]
    },
    {
     "name": "stderr",
     "output_type": "stream",
     "text": [
      "W0000 00:00:1749557582.258699   14859 inference_feedback_manager.cc:114] Feedback manager requires a model with a single signature inference. Disabling support for feedback tensors.\n",
      "W0000 00:00:1749557582.285989   14859 inference_feedback_manager.cc:114] Feedback manager requires a model with a single signature inference. Disabling support for feedback tensors.\n",
      "W0000 00:00:1749557582.289460   14858 inference_feedback_manager.cc:114] Feedback manager requires a model with a single signature inference. Disabling support for feedback tensors.\n",
      "W0000 00:00:1749557582.290174   14860 inference_feedback_manager.cc:114] Feedback manager requires a model with a single signature inference. Disabling support for feedback tensors.\n",
      "W0000 00:00:1749557582.291006   14862 inference_feedback_manager.cc:114] Feedback manager requires a model with a single signature inference. Disabling support for feedback tensors.\n",
      "W0000 00:00:1749557582.309209   14864 inference_feedback_manager.cc:114] Feedback manager requires a model with a single signature inference. Disabling support for feedback tensors.\n",
      "W0000 00:00:1749557582.320628   14862 inference_feedback_manager.cc:114] Feedback manager requires a model with a single signature inference. Disabling support for feedback tensors.\n",
      "W0000 00:00:1749557582.331035   14860 inference_feedback_manager.cc:114] Feedback manager requires a model with a single signature inference. Disabling support for feedback tensors.\n"
     ]
    },
    {
     "name": "stdout",
     "output_type": "stream",
     "text": [
      "Saved motion detection results to /home/ben/projects/SaoPauloBrazilChapter_BrazilianSignLanguage/webapp/backend/data/interim/RawMotionMeasurements/v0\n",
      "Saved motion analysis results to /home/ben/projects/SaoPauloBrazilChapter_BrazilianSignLanguage/webapp/backend/data/interim/RawMotionMeasurements/v0\n",
      "/home/ben/projects/SaoPauloBrazilChapter_BrazilianSignLanguage/webapp/backend/data/interim/RawCleanVideos/cabeça_sb_2.mp4\n",
      "{'filename': 'cabeça_sb_2.mp4', 'frame_count': 88, 'fps': 29.97002997002997, 'width': 1280, 'height': 720, 'duration_sec': 2.9362666666666666}\n",
      "Loaded pose estimation results from v0\n"
     ]
    },
    {
     "name": "stderr",
     "output_type": "stream",
     "text": [
      "W0000 00:00:1749557581.887952   14876 inference_feedback_manager.cc:114] Feedback manager requires a model with a single signature inference. Disabling support for feedback tensors.\n",
      "W0000 00:00:1749557581.911786   14876 inference_feedback_manager.cc:114] Feedback manager requires a model with a single signature inference. Disabling support for feedback tensors.\n",
      "W0000 00:00:1749557581.915351   14877 inference_feedback_manager.cc:114] Feedback manager requires a model with a single signature inference. Disabling support for feedback tensors.\n",
      "W0000 00:00:1749557581.915705   14875 inference_feedback_manager.cc:114] Feedback manager requires a model with a single signature inference. Disabling support for feedback tensors.\n",
      "W0000 00:00:1749557581.916952   14879 inference_feedback_manager.cc:114] Feedback manager requires a model with a single signature inference. Disabling support for feedback tensors.\n",
      "W0000 00:00:1749557581.934198   14878 inference_feedback_manager.cc:114] Feedback manager requires a model with a single signature inference. Disabling support for feedback tensors.\n",
      "W0000 00:00:1749557581.944813   14879 inference_feedback_manager.cc:114] Feedback manager requires a model with a single signature inference. Disabling support for feedback tensors.\n",
      "W0000 00:00:1749557581.947286   14874 inference_feedback_manager.cc:114] Feedback manager requires a model with a single signature inference. Disabling support for feedback tensors.\n"
     ]
    },
    {
     "name": "stdout",
     "output_type": "stream",
     "text": [
      "Saved motion detection results to /home/ben/projects/SaoPauloBrazilChapter_BrazilianSignLanguage/webapp/backend/data/interim/RawMotionMeasurements/v0\n",
      "Saved motion analysis results to /home/ben/projects/SaoPauloBrazilChapter_BrazilianSignLanguage/webapp/backend/data/interim/RawMotionMeasurements/v0\n"
     ]
    },
    {
     "name": "stderr",
     "output_type": "stream",
     "text": [
      "/home/ben/projects/SaoPauloBrazilChapter_BrazilianSignLanguage/code/preprocess/preprocessor.py:1269: FutureWarning: Setting an item of incompatible dtype is deprecated and will raise an error in a future version of pandas. Value '' has dtype incompatible with float64, please explicitly cast to a compatible dtype first.\n",
      "  df.loc[idx, col] = new_df.iloc[0][col]\n"
     ]
    },
    {
     "name": "stdout",
     "output_type": "stream",
     "text": [
      "/home/ben/projects/SaoPauloBrazilChapter_BrazilianSignLanguage/webapp/backend/data/interim/RawCleanVideos/cabeça_uf_3.mp4\n",
      "{'filename': 'cabeça_uf_3.mp4', 'frame_count': 107, 'fps': 29.97002997002997, 'width': 480, 'height': 270, 'duration_sec': 3.5702333333333334}\n",
      "No pose estimation results found for cabeça_uf_3.mp4 in v0\n",
      "Running pose estimation on /home/ben/projects/SaoPauloBrazilChapter_BrazilianSignLanguage/webapp/backend/data/interim/RawCleanVideos/cabeça_uf_3.mp4\n"
     ]
    },
    {
     "name": "stderr",
     "output_type": "stream",
     "text": [
      "W0000 00:00:1749557583.668359   14899 inference_feedback_manager.cc:114] Feedback manager requires a model with a single signature inference. Disabling support for feedback tensors.\n",
      "W0000 00:00:1749557583.694827   14899 inference_feedback_manager.cc:114] Feedback manager requires a model with a single signature inference. Disabling support for feedback tensors.\n",
      "W0000 00:00:1749557583.698196   14896 inference_feedback_manager.cc:114] Feedback manager requires a model with a single signature inference. Disabling support for feedback tensors.\n",
      "W0000 00:00:1749557583.698510   14897 inference_feedback_manager.cc:114] Feedback manager requires a model with a single signature inference. Disabling support for feedback tensors.\n",
      "W0000 00:00:1749557583.699775   14900 inference_feedback_manager.cc:114] Feedback manager requires a model with a single signature inference. Disabling support for feedback tensors.\n",
      "W0000 00:00:1749557583.729917   14901 inference_feedback_manager.cc:114] Feedback manager requires a model with a single signature inference. Disabling support for feedback tensors.\n",
      "W0000 00:00:1749557583.745087   14897 inference_feedback_manager.cc:114] Feedback manager requires a model with a single signature inference. Disabling support for feedback tensors.\n",
      "W0000 00:00:1749557583.757391   14900 inference_feedback_manager.cc:114] Feedback manager requires a model with a single signature inference. Disabling support for feedback tensors.\n"
     ]
    },
    {
     "name": "stdout",
     "output_type": "stream",
     "text": [
      "Saved pose estimation results to /home/ben/projects/SaoPauloBrazilChapter_BrazilianSignLanguage/webapp/backend/data/interim/RawPoseLandmarks/v0\n"
     ]
    },
    {
     "name": "stderr",
     "output_type": "stream",
     "text": [
      "W0000 00:00:1749557588.690417   14937 inference_feedback_manager.cc:114] Feedback manager requires a model with a single signature inference. Disabling support for feedback tensors.\n",
      "W0000 00:00:1749557588.729235   14940 inference_feedback_manager.cc:114] Feedback manager requires a model with a single signature inference. Disabling support for feedback tensors.\n",
      "W0000 00:00:1749557588.731831   14938 inference_feedback_manager.cc:114] Feedback manager requires a model with a single signature inference. Disabling support for feedback tensors.\n",
      "W0000 00:00:1749557588.732829   14939 inference_feedback_manager.cc:114] Feedback manager requires a model with a single signature inference. Disabling support for feedback tensors.\n",
      "W0000 00:00:1749557588.733114   14935 inference_feedback_manager.cc:114] Feedback manager requires a model with a single signature inference. Disabling support for feedback tensors.\n",
      "W0000 00:00:1749557588.744225   14938 inference_feedback_manager.cc:114] Feedback manager requires a model with a single signature inference. Disabling support for feedback tensors.\n",
      "W0000 00:00:1749557588.751335   14939 inference_feedback_manager.cc:114] Feedback manager requires a model with a single signature inference. Disabling support for feedback tensors.\n",
      "W0000 00:00:1749557588.768090   14935 inference_feedback_manager.cc:114] Feedback manager requires a model with a single signature inference. Disabling support for feedback tensors.\n"
     ]
    },
    {
     "name": "stdout",
     "output_type": "stream",
     "text": [
      "Saved motion detection results to /home/ben/projects/SaoPauloBrazilChapter_BrazilianSignLanguage/webapp/backend/data/interim/RawMotionMeasurements/v0\n",
      "Saved motion analysis results to /home/ben/projects/SaoPauloBrazilChapter_BrazilianSignLanguage/webapp/backend/data/interim/RawMotionMeasurements/v0\n",
      "/home/ben/projects/SaoPauloBrazilChapter_BrazilianSignLanguage/webapp/backend/data/interim/RawCleanVideos/cabeça_vl_4.mp4\n",
      "{'filename': 'cabeça_vl_4.mp4', 'frame_count': 169, 'fps': 29.97002997002997, 'width': 1920, 'height': 1080, 'duration_sec': 5.638966666666667}\n",
      "No pose estimation results found for cabeça_vl_4.mp4 in v0\n",
      "Running pose estimation on /home/ben/projects/SaoPauloBrazilChapter_BrazilianSignLanguage/webapp/backend/data/interim/RawCleanVideos/cabeça_vl_4.mp4\n"
     ]
    },
    {
     "name": "stderr",
     "output_type": "stream",
     "text": [
      "W0000 00:00:1749557590.540117   14960 inference_feedback_manager.cc:114] Feedback manager requires a model with a single signature inference. Disabling support for feedback tensors.\n",
      "W0000 00:00:1749557590.567734   14960 inference_feedback_manager.cc:114] Feedback manager requires a model with a single signature inference. Disabling support for feedback tensors.\n",
      "W0000 00:00:1749557590.570688   14960 inference_feedback_manager.cc:114] Feedback manager requires a model with a single signature inference. Disabling support for feedback tensors.\n",
      "W0000 00:00:1749557590.570960   14957 inference_feedback_manager.cc:114] Feedback manager requires a model with a single signature inference. Disabling support for feedback tensors.\n",
      "W0000 00:00:1749557590.571441   14964 inference_feedback_manager.cc:114] Feedback manager requires a model with a single signature inference. Disabling support for feedback tensors.\n",
      "W0000 00:00:1749557590.592854   14964 inference_feedback_manager.cc:114] Feedback manager requires a model with a single signature inference. Disabling support for feedback tensors.\n",
      "W0000 00:00:1749557590.592884   14962 inference_feedback_manager.cc:114] Feedback manager requires a model with a single signature inference. Disabling support for feedback tensors.\n",
      "W0000 00:00:1749557590.593819   14957 inference_feedback_manager.cc:114] Feedback manager requires a model with a single signature inference. Disabling support for feedback tensors.\n"
     ]
    },
    {
     "name": "stdout",
     "output_type": "stream",
     "text": [
      "Saved pose estimation results to /home/ben/projects/SaoPauloBrazilChapter_BrazilianSignLanguage/webapp/backend/data/interim/RawPoseLandmarks/v0\n"
     ]
    },
    {
     "name": "stderr",
     "output_type": "stream",
     "text": [
      "W0000 00:00:1749557599.130463   15004 inference_feedback_manager.cc:114] Feedback manager requires a model with a single signature inference. Disabling support for feedback tensors.\n",
      "W0000 00:00:1749557599.188877   15002 inference_feedback_manager.cc:114] Feedback manager requires a model with a single signature inference. Disabling support for feedback tensors.\n",
      "W0000 00:00:1749557599.191448   15005 inference_feedback_manager.cc:114] Feedback manager requires a model with a single signature inference. Disabling support for feedback tensors.\n",
      "W0000 00:00:1749557599.191883   15002 inference_feedback_manager.cc:114] Feedback manager requires a model with a single signature inference. Disabling support for feedback tensors.\n",
      "W0000 00:00:1749557599.192557   15007 inference_feedback_manager.cc:114] Feedback manager requires a model with a single signature inference. Disabling support for feedback tensors.\n",
      "W0000 00:00:1749557599.206369   15002 inference_feedback_manager.cc:114] Feedback manager requires a model with a single signature inference. Disabling support for feedback tensors.\n",
      "W0000 00:00:1749557599.211260   15005 inference_feedback_manager.cc:114] Feedback manager requires a model with a single signature inference. Disabling support for feedback tensors.\n",
      "W0000 00:00:1749557599.220755   15009 inference_feedback_manager.cc:114] Feedback manager requires a model with a single signature inference. Disabling support for feedback tensors.\n"
     ]
    },
    {
     "name": "stdout",
     "output_type": "stream",
     "text": [
      "Saved motion detection results to /home/ben/projects/SaoPauloBrazilChapter_BrazilianSignLanguage/webapp/backend/data/interim/RawMotionMeasurements/v0\n",
      "Saved motion analysis results to /home/ben/projects/SaoPauloBrazilChapter_BrazilianSignLanguage/webapp/backend/data/interim/RawMotionMeasurements/v0\n",
      "/home/ben/projects/SaoPauloBrazilChapter_BrazilianSignLanguage/webapp/backend/data/interim/RawCleanVideos/cabeça_vl_5.mp4\n",
      "{'filename': 'cabeça_vl_5.mp4', 'frame_count': 176, 'fps': 29.97002997002997, 'width': 1920, 'height': 1080, 'duration_sec': 5.872533333333333}\n",
      "No pose estimation results found for cabeça_vl_5.mp4 in v0\n",
      "Running pose estimation on /home/ben/projects/SaoPauloBrazilChapter_BrazilianSignLanguage/webapp/backend/data/interim/RawCleanVideos/cabeça_vl_5.mp4\n"
     ]
    },
    {
     "name": "stderr",
     "output_type": "stream",
     "text": [
      "W0000 00:00:1749557602.493561   15031 inference_feedback_manager.cc:114] Feedback manager requires a model with a single signature inference. Disabling support for feedback tensors.\n",
      "W0000 00:00:1749557602.544569   15031 inference_feedback_manager.cc:114] Feedback manager requires a model with a single signature inference. Disabling support for feedback tensors.\n",
      "W0000 00:00:1749557602.547844   15032 inference_feedback_manager.cc:114] Feedback manager requires a model with a single signature inference. Disabling support for feedback tensors.\n",
      "W0000 00:00:1749557602.548387   15035 inference_feedback_manager.cc:114] Feedback manager requires a model with a single signature inference. Disabling support for feedback tensors.\n",
      "W0000 00:00:1749557602.548803   15029 inference_feedback_manager.cc:114] Feedback manager requires a model with a single signature inference. Disabling support for feedback tensors.\n",
      "W0000 00:00:1749557602.594205   15029 inference_feedback_manager.cc:114] Feedback manager requires a model with a single signature inference. Disabling support for feedback tensors.\n",
      "W0000 00:00:1749557602.598762   15032 inference_feedback_manager.cc:114] Feedback manager requires a model with a single signature inference. Disabling support for feedback tensors.\n",
      "W0000 00:00:1749557602.604406   15035 inference_feedback_manager.cc:114] Feedback manager requires a model with a single signature inference. Disabling support for feedback tensors.\n"
     ]
    },
    {
     "name": "stdout",
     "output_type": "stream",
     "text": [
      "Saved pose estimation results to /home/ben/projects/SaoPauloBrazilChapter_BrazilianSignLanguage/webapp/backend/data/interim/RawPoseLandmarks/v0\n"
     ]
    },
    {
     "name": "stderr",
     "output_type": "stream",
     "text": [
      "W0000 00:00:1749557611.330926   15082 inference_feedback_manager.cc:114] Feedback manager requires a model with a single signature inference. Disabling support for feedback tensors.\n",
      "W0000 00:00:1749557611.381982   15085 inference_feedback_manager.cc:114] Feedback manager requires a model with a single signature inference. Disabling support for feedback tensors.\n",
      "W0000 00:00:1749557611.384636   15085 inference_feedback_manager.cc:114] Feedback manager requires a model with a single signature inference. Disabling support for feedback tensors.\n",
      "W0000 00:00:1749557611.384891   15081 inference_feedback_manager.cc:114] Feedback manager requires a model with a single signature inference. Disabling support for feedback tensors.\n",
      "W0000 00:00:1749557611.387075   15083 inference_feedback_manager.cc:114] Feedback manager requires a model with a single signature inference. Disabling support for feedback tensors.\n",
      "W0000 00:00:1749557611.398418   15085 inference_feedback_manager.cc:114] Feedback manager requires a model with a single signature inference. Disabling support for feedback tensors.\n",
      "W0000 00:00:1749557611.409817   15081 inference_feedback_manager.cc:114] Feedback manager requires a model with a single signature inference. Disabling support for feedback tensors.\n",
      "W0000 00:00:1749557611.420110   15083 inference_feedback_manager.cc:114] Feedback manager requires a model with a single signature inference. Disabling support for feedback tensors.\n"
     ]
    },
    {
     "name": "stdout",
     "output_type": "stream",
     "text": [
      "Saved motion detection results to /home/ben/projects/SaoPauloBrazilChapter_BrazilianSignLanguage/webapp/backend/data/interim/RawMotionMeasurements/v0\n",
      "Saved motion analysis results to /home/ben/projects/SaoPauloBrazilChapter_BrazilianSignLanguage/webapp/backend/data/interim/RawMotionMeasurements/v0\n",
      "/home/ben/projects/SaoPauloBrazilChapter_BrazilianSignLanguage/webapp/backend/data/interim/RawCleanVideos/cabeça_vl_6.mp4\n",
      "{'filename': 'cabeça_vl_6.mp4', 'frame_count': 247, 'fps': 59.94005994005994, 'width': 1920, 'height': 1080, 'duration_sec': 4.120783333333334}\n",
      "No pose estimation results found for cabeça_vl_6.mp4 in v0\n",
      "Running pose estimation on /home/ben/projects/SaoPauloBrazilChapter_BrazilianSignLanguage/webapp/backend/data/interim/RawCleanVideos/cabeça_vl_6.mp4\n"
     ]
    },
    {
     "name": "stderr",
     "output_type": "stream",
     "text": [
      "W0000 00:00:1749557612.951462   15110 inference_feedback_manager.cc:114] Feedback manager requires a model with a single signature inference. Disabling support for feedback tensors.\n",
      "W0000 00:00:1749557612.985317   15110 inference_feedback_manager.cc:114] Feedback manager requires a model with a single signature inference. Disabling support for feedback tensors.\n",
      "W0000 00:00:1749557612.987778   15111 inference_feedback_manager.cc:114] Feedback manager requires a model with a single signature inference. Disabling support for feedback tensors.\n",
      "W0000 00:00:1749557612.988732   15113 inference_feedback_manager.cc:114] Feedback manager requires a model with a single signature inference. Disabling support for feedback tensors.\n",
      "W0000 00:00:1749557612.989038   15108 inference_feedback_manager.cc:114] Feedback manager requires a model with a single signature inference. Disabling support for feedback tensors.\n",
      "W0000 00:00:1749557613.028265   15108 inference_feedback_manager.cc:114] Feedback manager requires a model with a single signature inference. Disabling support for feedback tensors.\n",
      "W0000 00:00:1749557613.031064   15111 inference_feedback_manager.cc:114] Feedback manager requires a model with a single signature inference. Disabling support for feedback tensors.\n",
      "W0000 00:00:1749557613.044087   15113 inference_feedback_manager.cc:114] Feedback manager requires a model with a single signature inference. Disabling support for feedback tensors.\n"
     ]
    },
    {
     "name": "stdout",
     "output_type": "stream",
     "text": [
      "Saved pose estimation results to /home/ben/projects/SaoPauloBrazilChapter_BrazilianSignLanguage/webapp/backend/data/interim/RawPoseLandmarks/v0\n"
     ]
    },
    {
     "name": "stderr",
     "output_type": "stream",
     "text": [
      "W0000 00:00:1749557625.059471   15164 inference_feedback_manager.cc:114] Feedback manager requires a model with a single signature inference. Disabling support for feedback tensors.\n",
      "W0000 00:00:1749557625.087416   15164 inference_feedback_manager.cc:114] Feedback manager requires a model with a single signature inference. Disabling support for feedback tensors.\n",
      "W0000 00:00:1749557625.089633   15169 inference_feedback_manager.cc:114] Feedback manager requires a model with a single signature inference. Disabling support for feedback tensors.\n",
      "W0000 00:00:1749557625.090918   15164 inference_feedback_manager.cc:114] Feedback manager requires a model with a single signature inference. Disabling support for feedback tensors.\n",
      "W0000 00:00:1749557625.091376   15165 inference_feedback_manager.cc:114] Feedback manager requires a model with a single signature inference. Disabling support for feedback tensors.\n",
      "W0000 00:00:1749557625.103612   15164 inference_feedback_manager.cc:114] Feedback manager requires a model with a single signature inference. Disabling support for feedback tensors.\n",
      "W0000 00:00:1749557625.105662   15169 inference_feedback_manager.cc:114] Feedback manager requires a model with a single signature inference. Disabling support for feedback tensors.\n",
      "W0000 00:00:1749557625.119444   15166 inference_feedback_manager.cc:114] Feedback manager requires a model with a single signature inference. Disabling support for feedback tensors.\n"
     ]
    },
    {
     "name": "stdout",
     "output_type": "stream",
     "text": [
      "Saved motion detection results to /home/ben/projects/SaoPauloBrazilChapter_BrazilianSignLanguage/webapp/backend/data/interim/RawMotionMeasurements/v0\n",
      "Saved motion analysis results to /home/ben/projects/SaoPauloBrazilChapter_BrazilianSignLanguage/webapp/backend/data/interim/RawMotionMeasurements/v0\n",
      "/home/ben/projects/SaoPauloBrazilChapter_BrazilianSignLanguage/webapp/backend/data/interim/RawCleanVideos/café_ne_1.mp4\n",
      "{'filename': 'café_ne_1.mp4', 'frame_count': 39, 'fps': 12.0, 'width': 240, 'height': 176, 'duration_sec': 3.25}\n",
      "No pose estimation results found for café_ne_1.mp4 in v0\n",
      "Running pose estimation on /home/ben/projects/SaoPauloBrazilChapter_BrazilianSignLanguage/webapp/backend/data/interim/RawCleanVideos/café_ne_1.mp4\n"
     ]
    },
    {
     "name": "stderr",
     "output_type": "stream",
     "text": [
      "W0000 00:00:1749557629.332490   15199 inference_feedback_manager.cc:114] Feedback manager requires a model with a single signature inference. Disabling support for feedback tensors.\n",
      "W0000 00:00:1749557629.378401   15199 inference_feedback_manager.cc:114] Feedback manager requires a model with a single signature inference. Disabling support for feedback tensors.\n",
      "W0000 00:00:1749557629.380554   15197 inference_feedback_manager.cc:114] Feedback manager requires a model with a single signature inference. Disabling support for feedback tensors.\n",
      "W0000 00:00:1749557629.384208   15198 inference_feedback_manager.cc:114] Feedback manager requires a model with a single signature inference. Disabling support for feedback tensors.\n",
      "W0000 00:00:1749557629.385694   15203 inference_feedback_manager.cc:114] Feedback manager requires a model with a single signature inference. Disabling support for feedback tensors.\n",
      "W0000 00:00:1749557629.410390   15198 inference_feedback_manager.cc:114] Feedback manager requires a model with a single signature inference. Disabling support for feedback tensors.\n",
      "W0000 00:00:1749557629.417647   15204 inference_feedback_manager.cc:114] Feedback manager requires a model with a single signature inference. Disabling support for feedback tensors.\n",
      "W0000 00:00:1749557629.431277   15203 inference_feedback_manager.cc:114] Feedback manager requires a model with a single signature inference. Disabling support for feedback tensors.\n"
     ]
    },
    {
     "name": "stdout",
     "output_type": "stream",
     "text": [
      "Saved pose estimation results to /home/ben/projects/SaoPauloBrazilChapter_BrazilianSignLanguage/webapp/backend/data/interim/RawPoseLandmarks/v0\n"
     ]
    },
    {
     "name": "stderr",
     "output_type": "stream",
     "text": [
      "W0000 00:00:1749557631.310618   15220 inference_feedback_manager.cc:114] Feedback manager requires a model with a single signature inference. Disabling support for feedback tensors.\n",
      "W0000 00:00:1749557631.374599   15220 inference_feedback_manager.cc:114] Feedback manager requires a model with a single signature inference. Disabling support for feedback tensors.\n",
      "W0000 00:00:1749557631.377119   15223 inference_feedback_manager.cc:114] Feedback manager requires a model with a single signature inference. Disabling support for feedback tensors.\n",
      "W0000 00:00:1749557631.377148   15221 inference_feedback_manager.cc:114] Feedback manager requires a model with a single signature inference. Disabling support for feedback tensors.\n",
      "W0000 00:00:1749557631.387274   15226 inference_feedback_manager.cc:114] Feedback manager requires a model with a single signature inference. Disabling support for feedback tensors.\n",
      "W0000 00:00:1749557631.417598   15221 inference_feedback_manager.cc:114] Feedback manager requires a model with a single signature inference. Disabling support for feedback tensors.\n",
      "W0000 00:00:1749557631.433484   15223 inference_feedback_manager.cc:114] Feedback manager requires a model with a single signature inference. Disabling support for feedback tensors.\n",
      "W0000 00:00:1749557631.456374   15226 inference_feedback_manager.cc:114] Feedback manager requires a model with a single signature inference. Disabling support for feedback tensors.\n"
     ]
    },
    {
     "name": "stdout",
     "output_type": "stream",
     "text": [
      "Saved motion detection results to /home/ben/projects/SaoPauloBrazilChapter_BrazilianSignLanguage/webapp/backend/data/interim/RawMotionMeasurements/v0\n",
      "Saved motion analysis results to /home/ben/projects/SaoPauloBrazilChapter_BrazilianSignLanguage/webapp/backend/data/interim/RawMotionMeasurements/v0\n",
      "/home/ben/projects/SaoPauloBrazilChapter_BrazilianSignLanguage/webapp/backend/data/interim/RawCleanVideos/café_sb_2.mp4\n",
      "{'filename': 'café_sb_2.mp4', 'frame_count': 61, 'fps': 29.97002997002997, 'width': 1280, 'height': 720, 'duration_sec': 2.0353666666666665}\n",
      "No pose estimation results found for café_sb_2.mp4 in v0\n",
      "Running pose estimation on /home/ben/projects/SaoPauloBrazilChapter_BrazilianSignLanguage/webapp/backend/data/interim/RawCleanVideos/café_sb_2.mp4\n"
     ]
    },
    {
     "name": "stderr",
     "output_type": "stream",
     "text": [
      "W0000 00:00:1749557632.462558   15240 inference_feedback_manager.cc:114] Feedback manager requires a model with a single signature inference. Disabling support for feedback tensors.\n",
      "W0000 00:00:1749557632.525894   15244 inference_feedback_manager.cc:114] Feedback manager requires a model with a single signature inference. Disabling support for feedback tensors.\n",
      "W0000 00:00:1749557632.528511   15244 inference_feedback_manager.cc:114] Feedback manager requires a model with a single signature inference. Disabling support for feedback tensors.\n",
      "W0000 00:00:1749557632.529159   15240 inference_feedback_manager.cc:114] Feedback manager requires a model with a single signature inference. Disabling support for feedback tensors.\n",
      "W0000 00:00:1749557632.529782   15247 inference_feedback_manager.cc:114] Feedback manager requires a model with a single signature inference. Disabling support for feedback tensors.\n",
      "W0000 00:00:1749557632.546572   15240 inference_feedback_manager.cc:114] Feedback manager requires a model with a single signature inference. Disabling support for feedback tensors.\n",
      "W0000 00:00:1749557632.559359   15247 inference_feedback_manager.cc:114] Feedback manager requires a model with a single signature inference. Disabling support for feedback tensors.\n",
      "W0000 00:00:1749557632.561092   15244 inference_feedback_manager.cc:114] Feedback manager requires a model with a single signature inference. Disabling support for feedback tensors.\n"
     ]
    },
    {
     "name": "stdout",
     "output_type": "stream",
     "text": [
      "Saved pose estimation results to /home/ben/projects/SaoPauloBrazilChapter_BrazilianSignLanguage/webapp/backend/data/interim/RawPoseLandmarks/v0\n",
      "Saved motion detection results to /home/ben/projects/SaoPauloBrazilChapter_BrazilianSignLanguage/webapp/backend/data/interim/RawMotionMeasurements/v0\n",
      "Saved motion analysis results to /home/ben/projects/SaoPauloBrazilChapter_BrazilianSignLanguage/webapp/backend/data/interim/RawMotionMeasurements/v0\n"
     ]
    },
    {
     "name": "stderr",
     "output_type": "stream",
     "text": [
      "W0000 00:00:1749557635.785023   15269 inference_feedback_manager.cc:114] Feedback manager requires a model with a single signature inference. Disabling support for feedback tensors.\n",
      "W0000 00:00:1749557635.811458   15269 inference_feedback_manager.cc:114] Feedback manager requires a model with a single signature inference. Disabling support for feedback tensors.\n",
      "W0000 00:00:1749557635.813884   15268 inference_feedback_manager.cc:114] Feedback manager requires a model with a single signature inference. Disabling support for feedback tensors.\n",
      "W0000 00:00:1749557635.814797   15271 inference_feedback_manager.cc:114] Feedback manager requires a model with a single signature inference. Disabling support for feedback tensors.\n",
      "W0000 00:00:1749557635.815831   15274 inference_feedback_manager.cc:114] Feedback manager requires a model with a single signature inference. Disabling support for feedback tensors.\n",
      "W0000 00:00:1749557635.832816   15268 inference_feedback_manager.cc:114] Feedback manager requires a model with a single signature inference. Disabling support for feedback tensors.\n",
      "W0000 00:00:1749557635.841945   15274 inference_feedback_manager.cc:114] Feedback manager requires a model with a single signature inference. Disabling support for feedback tensors.\n",
      "W0000 00:00:1749557635.847794   15271 inference_feedback_manager.cc:114] Feedback manager requires a model with a single signature inference. Disabling support for feedback tensors.\n"
     ]
    },
    {
     "name": "stdout",
     "output_type": "stream",
     "text": [
      "/home/ben/projects/SaoPauloBrazilChapter_BrazilianSignLanguage/webapp/backend/data/interim/RawCleanVideos/café_uf_3.mp4\n",
      "{'filename': 'café_uf_3.mp4', 'frame_count': 153, 'fps': 29.97002997002997, 'width': 1920, 'height': 1080, 'duration_sec': 5.1051}\n",
      "No pose estimation results found for café_uf_3.mp4 in v0\n",
      "Running pose estimation on /home/ben/projects/SaoPauloBrazilChapter_BrazilianSignLanguage/webapp/backend/data/interim/RawCleanVideos/café_uf_3.mp4\n"
     ]
    },
    {
     "name": "stderr",
     "output_type": "stream",
     "text": [
      "W0000 00:00:1749557637.287675   15295 inference_feedback_manager.cc:114] Feedback manager requires a model with a single signature inference. Disabling support for feedback tensors.\n",
      "W0000 00:00:1749557637.330676   15295 inference_feedback_manager.cc:114] Feedback manager requires a model with a single signature inference. Disabling support for feedback tensors.\n",
      "W0000 00:00:1749557637.332998   15301 inference_feedback_manager.cc:114] Feedback manager requires a model with a single signature inference. Disabling support for feedback tensors.\n",
      "W0000 00:00:1749557637.334351   15297 inference_feedback_manager.cc:114] Feedback manager requires a model with a single signature inference. Disabling support for feedback tensors.\n",
      "W0000 00:00:1749557637.335420   15300 inference_feedback_manager.cc:114] Feedback manager requires a model with a single signature inference. Disabling support for feedback tensors.\n",
      "W0000 00:00:1749557637.348861   15301 inference_feedback_manager.cc:114] Feedback manager requires a model with a single signature inference. Disabling support for feedback tensors.\n",
      "W0000 00:00:1749557637.355977   15300 inference_feedback_manager.cc:114] Feedback manager requires a model with a single signature inference. Disabling support for feedback tensors.\n",
      "W0000 00:00:1749557637.372329   15297 inference_feedback_manager.cc:114] Feedback manager requires a model with a single signature inference. Disabling support for feedback tensors.\n"
     ]
    },
    {
     "name": "stdout",
     "output_type": "stream",
     "text": [
      "Saved pose estimation results to /home/ben/projects/SaoPauloBrazilChapter_BrazilianSignLanguage/webapp/backend/data/interim/RawPoseLandmarks/v0\n",
      "Saved motion detection results to /home/ben/projects/SaoPauloBrazilChapter_BrazilianSignLanguage/webapp/backend/data/interim/RawMotionMeasurements/v0\n",
      "Saved motion analysis results to /home/ben/projects/SaoPauloBrazilChapter_BrazilianSignLanguage/webapp/backend/data/interim/RawMotionMeasurements/v0\n"
     ]
    },
    {
     "name": "stderr",
     "output_type": "stream",
     "text": [
      "W0000 00:00:1749557644.678417   15334 inference_feedback_manager.cc:114] Feedback manager requires a model with a single signature inference. Disabling support for feedback tensors.\n",
      "W0000 00:00:1749557644.699309   15334 inference_feedback_manager.cc:114] Feedback manager requires a model with a single signature inference. Disabling support for feedback tensors.\n",
      "W0000 00:00:1749557644.701702   15340 inference_feedback_manager.cc:114] Feedback manager requires a model with a single signature inference. Disabling support for feedback tensors.\n",
      "W0000 00:00:1749557644.701796   15341 inference_feedback_manager.cc:114] Feedback manager requires a model with a single signature inference. Disabling support for feedback tensors.\n",
      "W0000 00:00:1749557644.702778   15334 inference_feedback_manager.cc:114] Feedback manager requires a model with a single signature inference. Disabling support for feedback tensors.\n",
      "W0000 00:00:1749557644.716342   15336 inference_feedback_manager.cc:114] Feedback manager requires a model with a single signature inference. Disabling support for feedback tensors.\n",
      "W0000 00:00:1749557644.717470   15341 inference_feedback_manager.cc:114] Feedback manager requires a model with a single signature inference. Disabling support for feedback tensors.\n",
      "W0000 00:00:1749557644.720167   15334 inference_feedback_manager.cc:114] Feedback manager requires a model with a single signature inference. Disabling support for feedback tensors.\n"
     ]
    },
    {
     "name": "stdout",
     "output_type": "stream",
     "text": [
      "/home/ben/projects/SaoPauloBrazilChapter_BrazilianSignLanguage/webapp/backend/data/interim/RawCleanVideos/café_vl_4.mp4\n",
      "{'filename': 'café_vl_4.mp4', 'frame_count': 196, 'fps': 29.97002997002997, 'width': 1920, 'height': 1080, 'duration_sec': 6.539866666666667}\n",
      "No pose estimation results found for café_vl_4.mp4 in v0\n",
      "Running pose estimation on /home/ben/projects/SaoPauloBrazilChapter_BrazilianSignLanguage/webapp/backend/data/interim/RawCleanVideos/café_vl_4.mp4\n"
     ]
    },
    {
     "name": "stderr",
     "output_type": "stream",
     "text": [
      "W0000 00:00:1749557645.674456   15363 inference_feedback_manager.cc:114] Feedback manager requires a model with a single signature inference. Disabling support for feedback tensors.\n",
      "W0000 00:00:1749557645.710988   15363 inference_feedback_manager.cc:114] Feedback manager requires a model with a single signature inference. Disabling support for feedback tensors.\n",
      "W0000 00:00:1749557645.713495   15365 inference_feedback_manager.cc:114] Feedback manager requires a model with a single signature inference. Disabling support for feedback tensors.\n",
      "W0000 00:00:1749557645.714939   15366 inference_feedback_manager.cc:114] Feedback manager requires a model with a single signature inference. Disabling support for feedback tensors.\n",
      "W0000 00:00:1749557645.715324   15367 inference_feedback_manager.cc:114] Feedback manager requires a model with a single signature inference. Disabling support for feedback tensors.\n",
      "W0000 00:00:1749557645.738404   15366 inference_feedback_manager.cc:114] Feedback manager requires a model with a single signature inference. Disabling support for feedback tensors.\n",
      "W0000 00:00:1749557645.746032   15365 inference_feedback_manager.cc:114] Feedback manager requires a model with a single signature inference. Disabling support for feedback tensors.\n",
      "W0000 00:00:1749557645.746656   15367 inference_feedback_manager.cc:114] Feedback manager requires a model with a single signature inference. Disabling support for feedback tensors.\n"
     ]
    },
    {
     "name": "stdout",
     "output_type": "stream",
     "text": [
      "Saved pose estimation results to /home/ben/projects/SaoPauloBrazilChapter_BrazilianSignLanguage/webapp/backend/data/interim/RawPoseLandmarks/v0\n"
     ]
    },
    {
     "name": "stderr",
     "output_type": "stream",
     "text": [
      "W0000 00:00:1749557655.514176   15418 inference_feedback_manager.cc:114] Feedback manager requires a model with a single signature inference. Disabling support for feedback tensors.\n",
      "W0000 00:00:1749557655.543413   15418 inference_feedback_manager.cc:114] Feedback manager requires a model with a single signature inference. Disabling support for feedback tensors.\n",
      "W0000 00:00:1749557655.545466   15424 inference_feedback_manager.cc:114] Feedback manager requires a model with a single signature inference. Disabling support for feedback tensors.\n",
      "W0000 00:00:1749557655.546211   15419 inference_feedback_manager.cc:114] Feedback manager requires a model with a single signature inference. Disabling support for feedback tensors.\n",
      "W0000 00:00:1749557655.547968   15423 inference_feedback_manager.cc:114] Feedback manager requires a model with a single signature inference. Disabling support for feedback tensors.\n",
      "W0000 00:00:1749557655.561009   15424 inference_feedback_manager.cc:114] Feedback manager requires a model with a single signature inference. Disabling support for feedback tensors.\n",
      "W0000 00:00:1749557655.567290   15423 inference_feedback_manager.cc:114] Feedback manager requires a model with a single signature inference. Disabling support for feedback tensors.\n",
      "W0000 00:00:1749557655.579459   15419 inference_feedback_manager.cc:114] Feedback manager requires a model with a single signature inference. Disabling support for feedback tensors.\n"
     ]
    },
    {
     "name": "stdout",
     "output_type": "stream",
     "text": [
      "Saved motion detection results to /home/ben/projects/SaoPauloBrazilChapter_BrazilianSignLanguage/webapp/backend/data/interim/RawMotionMeasurements/v0\n",
      "Saved motion analysis results to /home/ben/projects/SaoPauloBrazilChapter_BrazilianSignLanguage/webapp/backend/data/interim/RawMotionMeasurements/v0\n",
      "/home/ben/projects/SaoPauloBrazilChapter_BrazilianSignLanguage/webapp/backend/data/interim/RawCleanVideos/café_vl_5.mp4\n",
      "{'filename': 'café_vl_5.mp4', 'frame_count': 312, 'fps': 59.94005994005994, 'width': 1920, 'height': 1080, 'duration_sec': 5.2052000000000005}\n",
      "No pose estimation results found for café_vl_5.mp4 in v0\n",
      "Running pose estimation on /home/ben/projects/SaoPauloBrazilChapter_BrazilianSignLanguage/webapp/backend/data/interim/RawCleanVideos/café_vl_5.mp4\n"
     ]
    },
    {
     "name": "stderr",
     "output_type": "stream",
     "text": [
      "W0000 00:00:1749557658.919453   15462 inference_feedback_manager.cc:114] Feedback manager requires a model with a single signature inference. Disabling support for feedback tensors.\n",
      "W0000 00:00:1749557658.963650   15463 inference_feedback_manager.cc:114] Feedback manager requires a model with a single signature inference. Disabling support for feedback tensors.\n",
      "W0000 00:00:1749557658.966631   15465 inference_feedback_manager.cc:114] Feedback manager requires a model with a single signature inference. Disabling support for feedback tensors.\n",
      "W0000 00:00:1749557658.967010   15467 inference_feedback_manager.cc:114] Feedback manager requires a model with a single signature inference. Disabling support for feedback tensors.\n",
      "W0000 00:00:1749557658.967205   15466 inference_feedback_manager.cc:114] Feedback manager requires a model with a single signature inference. Disabling support for feedback tensors.\n",
      "W0000 00:00:1749557658.986725   15462 inference_feedback_manager.cc:114] Feedback manager requires a model with a single signature inference. Disabling support for feedback tensors.\n",
      "W0000 00:00:1749557659.014370   15467 inference_feedback_manager.cc:114] Feedback manager requires a model with a single signature inference. Disabling support for feedback tensors.\n",
      "W0000 00:00:1749557659.018795   15466 inference_feedback_manager.cc:114] Feedback manager requires a model with a single signature inference. Disabling support for feedback tensors.\n"
     ]
    },
    {
     "name": "stdout",
     "output_type": "stream",
     "text": [
      "Saved pose estimation results to /home/ben/projects/SaoPauloBrazilChapter_BrazilianSignLanguage/webapp/backend/data/interim/RawPoseLandmarks/v0\n"
     ]
    },
    {
     "name": "stderr",
     "output_type": "stream",
     "text": [
      "W0000 00:00:1749557674.680170   15525 inference_feedback_manager.cc:114] Feedback manager requires a model with a single signature inference. Disabling support for feedback tensors.\n",
      "W0000 00:00:1749557674.706932   15525 inference_feedback_manager.cc:114] Feedback manager requires a model with a single signature inference. Disabling support for feedback tensors.\n",
      "W0000 00:00:1749557674.709710   15525 inference_feedback_manager.cc:114] Feedback manager requires a model with a single signature inference. Disabling support for feedback tensors.\n",
      "W0000 00:00:1749557674.709822   15527 inference_feedback_manager.cc:114] Feedback manager requires a model with a single signature inference. Disabling support for feedback tensors.\n",
      "W0000 00:00:1749557674.710076   15528 inference_feedback_manager.cc:114] Feedback manager requires a model with a single signature inference. Disabling support for feedback tensors.\n",
      "W0000 00:00:1749557674.723053   15525 inference_feedback_manager.cc:114] Feedback manager requires a model with a single signature inference. Disabling support for feedback tensors.\n",
      "W0000 00:00:1749557674.730150   15527 inference_feedback_manager.cc:114] Feedback manager requires a model with a single signature inference. Disabling support for feedback tensors.\n",
      "W0000 00:00:1749557674.736709   15524 inference_feedback_manager.cc:114] Feedback manager requires a model with a single signature inference. Disabling support for feedback tensors.\n"
     ]
    },
    {
     "name": "stdout",
     "output_type": "stream",
     "text": [
      "Saved motion detection results to /home/ben/projects/SaoPauloBrazilChapter_BrazilianSignLanguage/webapp/backend/data/interim/RawMotionMeasurements/v0\n",
      "Saved motion analysis results to /home/ben/projects/SaoPauloBrazilChapter_BrazilianSignLanguage/webapp/backend/data/interim/RawMotionMeasurements/v0\n",
      "/home/ben/projects/SaoPauloBrazilChapter_BrazilianSignLanguage/webapp/backend/data/interim/RawCleanVideos/café_vl_6.mp4\n",
      "{'filename': 'café_vl_6.mp4', 'frame_count': 161, 'fps': 29.97, 'width': 1920, 'height': 1080, 'duration_sec': 5.372038705372039}\n",
      "No pose estimation results found for café_vl_6.mp4 in v0\n",
      "Running pose estimation on /home/ben/projects/SaoPauloBrazilChapter_BrazilianSignLanguage/webapp/backend/data/interim/RawCleanVideos/café_vl_6.mp4\n"
     ]
    },
    {
     "name": "stderr",
     "output_type": "stream",
     "text": [
      "W0000 00:00:1749557678.911462   15565 inference_feedback_manager.cc:114] Feedback manager requires a model with a single signature inference. Disabling support for feedback tensors.\n",
      "W0000 00:00:1749557678.956634   15565 inference_feedback_manager.cc:114] Feedback manager requires a model with a single signature inference. Disabling support for feedback tensors.\n",
      "W0000 00:00:1749557678.960792   15563 inference_feedback_manager.cc:114] Feedback manager requires a model with a single signature inference. Disabling support for feedback tensors.\n",
      "W0000 00:00:1749557678.963309   15567 inference_feedback_manager.cc:114] Feedback manager requires a model with a single signature inference. Disabling support for feedback tensors.\n",
      "W0000 00:00:1749557678.963654   15568 inference_feedback_manager.cc:114] Feedback manager requires a model with a single signature inference. Disabling support for feedback tensors.\n",
      "W0000 00:00:1749557678.987063   15563 inference_feedback_manager.cc:114] Feedback manager requires a model with a single signature inference. Disabling support for feedback tensors.\n",
      "W0000 00:00:1749557679.004498   15567 inference_feedback_manager.cc:114] Feedback manager requires a model with a single signature inference. Disabling support for feedback tensors.\n",
      "W0000 00:00:1749557679.010031   15568 inference_feedback_manager.cc:114] Feedback manager requires a model with a single signature inference. Disabling support for feedback tensors.\n"
     ]
    },
    {
     "name": "stdout",
     "output_type": "stream",
     "text": [
      "Saved pose estimation results to /home/ben/projects/SaoPauloBrazilChapter_BrazilianSignLanguage/webapp/backend/data/interim/RawPoseLandmarks/v0\n"
     ]
    },
    {
     "name": "stderr",
     "output_type": "stream",
     "text": [
      "W0000 00:00:1749557686.889344   15612 inference_feedback_manager.cc:114] Feedback manager requires a model with a single signature inference. Disabling support for feedback tensors.\n",
      "W0000 00:00:1749557686.912976   15612 inference_feedback_manager.cc:114] Feedback manager requires a model with a single signature inference. Disabling support for feedback tensors.\n",
      "W0000 00:00:1749557686.915682   15613 inference_feedback_manager.cc:114] Feedback manager requires a model with a single signature inference. Disabling support for feedback tensors.\n",
      "W0000 00:00:1749557686.916586   15612 inference_feedback_manager.cc:114] Feedback manager requires a model with a single signature inference. Disabling support for feedback tensors.\n",
      "W0000 00:00:1749557686.918779   15615 inference_feedback_manager.cc:114] Feedback manager requires a model with a single signature inference. Disabling support for feedback tensors.\n",
      "W0000 00:00:1749557686.928898   15612 inference_feedback_manager.cc:114] Feedback manager requires a model with a single signature inference. Disabling support for feedback tensors.\n",
      "W0000 00:00:1749557686.939134   15615 inference_feedback_manager.cc:114] Feedback manager requires a model with a single signature inference. Disabling support for feedback tensors.\n",
      "W0000 00:00:1749557686.947575   15613 inference_feedback_manager.cc:114] Feedback manager requires a model with a single signature inference. Disabling support for feedback tensors.\n"
     ]
    },
    {
     "name": "stdout",
     "output_type": "stream",
     "text": [
      "Saved motion detection results to /home/ben/projects/SaoPauloBrazilChapter_BrazilianSignLanguage/webapp/backend/data/interim/RawMotionMeasurements/v0\n",
      "Saved motion analysis results to /home/ben/projects/SaoPauloBrazilChapter_BrazilianSignLanguage/webapp/backend/data/interim/RawMotionMeasurements/v0\n",
      "/home/ben/projects/SaoPauloBrazilChapter_BrazilianSignLanguage/webapp/backend/data/interim/RawCleanVideos/carne_ne_1.mp4\n",
      "{'filename': 'carne_ne_1.mp4', 'frame_count': 47, 'fps': 12.0, 'width': 240, 'height': 176, 'duration_sec': 3.9166666666666665}\n",
      "No pose estimation results found for carne_ne_1.mp4 in v0\n",
      "Running pose estimation on /home/ben/projects/SaoPauloBrazilChapter_BrazilianSignLanguage/webapp/backend/data/interim/RawCleanVideos/carne_ne_1.mp4\n"
     ]
    },
    {
     "name": "stderr",
     "output_type": "stream",
     "text": [
      "W0000 00:00:1749557690.184271   15639 inference_feedback_manager.cc:114] Feedback manager requires a model with a single signature inference. Disabling support for feedback tensors.\n",
      "W0000 00:00:1749557690.239115   15638 inference_feedback_manager.cc:114] Feedback manager requires a model with a single signature inference. Disabling support for feedback tensors.\n",
      "W0000 00:00:1749557690.242406   15637 inference_feedback_manager.cc:114] Feedback manager requires a model with a single signature inference. Disabling support for feedback tensors.\n",
      "W0000 00:00:1749557690.243064   15643 inference_feedback_manager.cc:114] Feedback manager requires a model with a single signature inference. Disabling support for feedback tensors.\n",
      "W0000 00:00:1749557690.243243   15642 inference_feedback_manager.cc:114] Feedback manager requires a model with a single signature inference. Disabling support for feedback tensors.\n",
      "W0000 00:00:1749557690.268201   15642 inference_feedback_manager.cc:114] Feedback manager requires a model with a single signature inference. Disabling support for feedback tensors.\n",
      "W0000 00:00:1749557690.268502   15637 inference_feedback_manager.cc:114] Feedback manager requires a model with a single signature inference. Disabling support for feedback tensors.\n",
      "W0000 00:00:1749557690.285307   15643 inference_feedback_manager.cc:114] Feedback manager requires a model with a single signature inference. Disabling support for feedback tensors.\n"
     ]
    },
    {
     "name": "stdout",
     "output_type": "stream",
     "text": [
      "Saved pose estimation results to /home/ben/projects/SaoPauloBrazilChapter_BrazilianSignLanguage/webapp/backend/data/interim/RawPoseLandmarks/v0\n",
      "Saved motion detection results to /home/ben/projects/SaoPauloBrazilChapter_BrazilianSignLanguage/webapp/backend/data/interim/RawMotionMeasurements/v0\n",
      "Saved motion analysis results to /home/ben/projects/SaoPauloBrazilChapter_BrazilianSignLanguage/webapp/backend/data/interim/RawMotionMeasurements/v0\n"
     ]
    },
    {
     "name": "stderr",
     "output_type": "stream",
     "text": [
      "W0000 00:00:1749557692.376633   15668 inference_feedback_manager.cc:114] Feedback manager requires a model with a single signature inference. Disabling support for feedback tensors.\n",
      "W0000 00:00:1749557692.401442   15668 inference_feedback_manager.cc:114] Feedback manager requires a model with a single signature inference. Disabling support for feedback tensors.\n",
      "W0000 00:00:1749557692.404104   15666 inference_feedback_manager.cc:114] Feedback manager requires a model with a single signature inference. Disabling support for feedback tensors.\n",
      "W0000 00:00:1749557692.404855   15669 inference_feedback_manager.cc:114] Feedback manager requires a model with a single signature inference. Disabling support for feedback tensors.\n",
      "W0000 00:00:1749557692.407364   15673 inference_feedback_manager.cc:114] Feedback manager requires a model with a single signature inference. Disabling support for feedback tensors.\n",
      "W0000 00:00:1749557692.417612   15669 inference_feedback_manager.cc:114] Feedback manager requires a model with a single signature inference. Disabling support for feedback tensors.\n",
      "W0000 00:00:1749557692.418368   15668 inference_feedback_manager.cc:114] Feedback manager requires a model with a single signature inference. Disabling support for feedback tensors.\n",
      "W0000 00:00:1749557692.429430   15673 inference_feedback_manager.cc:114] Feedback manager requires a model with a single signature inference. Disabling support for feedback tensors.\n"
     ]
    },
    {
     "name": "stdout",
     "output_type": "stream",
     "text": [
      "/home/ben/projects/SaoPauloBrazilChapter_BrazilianSignLanguage/webapp/backend/data/interim/RawCleanVideos/carne_sb_2.mp4\n",
      "{'filename': 'carne_sb_2.mp4', 'frame_count': 60, 'fps': 29.97002997002997, 'width': 1280, 'height': 720, 'duration_sec': 2.0020000000000002}\n",
      "No pose estimation results found for carne_sb_2.mp4 in v0\n",
      "Running pose estimation on /home/ben/projects/SaoPauloBrazilChapter_BrazilianSignLanguage/webapp/backend/data/interim/RawCleanVideos/carne_sb_2.mp4\n"
     ]
    },
    {
     "name": "stderr",
     "output_type": "stream",
     "text": [
      "W0000 00:00:1749557693.426893   15684 inference_feedback_manager.cc:114] Feedback manager requires a model with a single signature inference. Disabling support for feedback tensors.\n",
      "W0000 00:00:1749557693.456084   15684 inference_feedback_manager.cc:114] Feedback manager requires a model with a single signature inference. Disabling support for feedback tensors.\n",
      "W0000 00:00:1749557693.458794   15687 inference_feedback_manager.cc:114] Feedback manager requires a model with a single signature inference. Disabling support for feedback tensors.\n",
      "W0000 00:00:1749557693.459204   15686 inference_feedback_manager.cc:114] Feedback manager requires a model with a single signature inference. Disabling support for feedback tensors.\n",
      "W0000 00:00:1749557693.460388   15689 inference_feedback_manager.cc:114] Feedback manager requires a model with a single signature inference. Disabling support for feedback tensors.\n",
      "W0000 00:00:1749557693.484196   15687 inference_feedback_manager.cc:114] Feedback manager requires a model with a single signature inference. Disabling support for feedback tensors.\n",
      "W0000 00:00:1749557693.484957   15689 inference_feedback_manager.cc:114] Feedback manager requires a model with a single signature inference. Disabling support for feedback tensors.\n",
      "W0000 00:00:1749557693.492145   15683 inference_feedback_manager.cc:114] Feedback manager requires a model with a single signature inference. Disabling support for feedback tensors.\n"
     ]
    },
    {
     "name": "stdout",
     "output_type": "stream",
     "text": [
      "Saved pose estimation results to /home/ben/projects/SaoPauloBrazilChapter_BrazilianSignLanguage/webapp/backend/data/interim/RawPoseLandmarks/v0\n",
      "Saved motion detection results to /home/ben/projects/SaoPauloBrazilChapter_BrazilianSignLanguage/webapp/backend/data/interim/RawMotionMeasurements/v0\n",
      "Saved motion analysis results to /home/ben/projects/SaoPauloBrazilChapter_BrazilianSignLanguage/webapp/backend/data/interim/RawMotionMeasurements/v0\n"
     ]
    },
    {
     "name": "stderr",
     "output_type": "stream",
     "text": [
      "W0000 00:00:1749557696.336328   15711 inference_feedback_manager.cc:114] Feedback manager requires a model with a single signature inference. Disabling support for feedback tensors.\n",
      "W0000 00:00:1749557696.358034   15711 inference_feedback_manager.cc:114] Feedback manager requires a model with a single signature inference. Disabling support for feedback tensors.\n",
      "W0000 00:00:1749557696.360351   15709 inference_feedback_manager.cc:114] Feedback manager requires a model with a single signature inference. Disabling support for feedback tensors.\n",
      "W0000 00:00:1749557696.360516   15713 inference_feedback_manager.cc:114] Feedback manager requires a model with a single signature inference. Disabling support for feedback tensors.\n",
      "W0000 00:00:1749557696.361194   15714 inference_feedback_manager.cc:114] Feedback manager requires a model with a single signature inference. Disabling support for feedback tensors.\n",
      "W0000 00:00:1749557696.374032   15713 inference_feedback_manager.cc:114] Feedback manager requires a model with a single signature inference. Disabling support for feedback tensors.\n",
      "W0000 00:00:1749557696.378561   15714 inference_feedback_manager.cc:114] Feedback manager requires a model with a single signature inference. Disabling support for feedback tensors.\n",
      "W0000 00:00:1749557696.380592   15709 inference_feedback_manager.cc:114] Feedback manager requires a model with a single signature inference. Disabling support for feedback tensors.\n"
     ]
    },
    {
     "name": "stdout",
     "output_type": "stream",
     "text": [
      "/home/ben/projects/SaoPauloBrazilChapter_BrazilianSignLanguage/webapp/backend/data/interim/RawCleanVideos/carne_uf_3.mp4\n",
      "{'filename': 'carne_uf_3.mp4', 'frame_count': 121, 'fps': 29.97002997002997, 'width': 1920, 'height': 1080, 'duration_sec': 4.037366666666666}\n",
      "No pose estimation results found for carne_uf_3.mp4 in v0\n",
      "Running pose estimation on /home/ben/projects/SaoPauloBrazilChapter_BrazilianSignLanguage/webapp/backend/data/interim/RawCleanVideos/carne_uf_3.mp4\n"
     ]
    },
    {
     "name": "stderr",
     "output_type": "stream",
     "text": [
      "W0000 00:00:1749557697.703806   15732 inference_feedback_manager.cc:114] Feedback manager requires a model with a single signature inference. Disabling support for feedback tensors.\n",
      "W0000 00:00:1749557697.738971   15732 inference_feedback_manager.cc:114] Feedback manager requires a model with a single signature inference. Disabling support for feedback tensors.\n",
      "W0000 00:00:1749557697.742801   15733 inference_feedback_manager.cc:114] Feedback manager requires a model with a single signature inference. Disabling support for feedback tensors.\n",
      "W0000 00:00:1749557697.743373   15736 inference_feedback_manager.cc:114] Feedback manager requires a model with a single signature inference. Disabling support for feedback tensors.\n",
      "W0000 00:00:1749557697.743649   15735 inference_feedback_manager.cc:114] Feedback manager requires a model with a single signature inference. Disabling support for feedback tensors.\n",
      "W0000 00:00:1749557697.765543   15735 inference_feedback_manager.cc:114] Feedback manager requires a model with a single signature inference. Disabling support for feedback tensors.\n",
      "W0000 00:00:1749557697.766664   15733 inference_feedback_manager.cc:114] Feedback manager requires a model with a single signature inference. Disabling support for feedback tensors.\n",
      "W0000 00:00:1749557697.769098   15736 inference_feedback_manager.cc:114] Feedback manager requires a model with a single signature inference. Disabling support for feedback tensors.\n"
     ]
    },
    {
     "name": "stdout",
     "output_type": "stream",
     "text": [
      "Saved pose estimation results to /home/ben/projects/SaoPauloBrazilChapter_BrazilianSignLanguage/webapp/backend/data/interim/RawPoseLandmarks/v0\n",
      "Saved motion detection results to /home/ben/projects/SaoPauloBrazilChapter_BrazilianSignLanguage/webapp/backend/data/interim/RawMotionMeasurements/v0\n",
      "Saved motion analysis results to /home/ben/projects/SaoPauloBrazilChapter_BrazilianSignLanguage/webapp/backend/data/interim/RawMotionMeasurements/v0\n"
     ]
    },
    {
     "name": "stderr",
     "output_type": "stream",
     "text": [
      "W0000 00:00:1749557703.700574   15773 inference_feedback_manager.cc:114] Feedback manager requires a model with a single signature inference. Disabling support for feedback tensors.\n",
      "W0000 00:00:1749557703.730738   15770 inference_feedback_manager.cc:114] Feedback manager requires a model with a single signature inference. Disabling support for feedback tensors.\n",
      "W0000 00:00:1749557703.733187   15771 inference_feedback_manager.cc:114] Feedback manager requires a model with a single signature inference. Disabling support for feedback tensors.\n",
      "W0000 00:00:1749557703.733928   15773 inference_feedback_manager.cc:114] Feedback manager requires a model with a single signature inference. Disabling support for feedback tensors.\n",
      "W0000 00:00:1749557703.734097   15770 inference_feedback_manager.cc:114] Feedback manager requires a model with a single signature inference. Disabling support for feedback tensors.\n",
      "W0000 00:00:1749557703.747871   15773 inference_feedback_manager.cc:114] Feedback manager requires a model with a single signature inference. Disabling support for feedback tensors.\n",
      "W0000 00:00:1749557703.748144   15770 inference_feedback_manager.cc:114] Feedback manager requires a model with a single signature inference. Disabling support for feedback tensors.\n",
      "W0000 00:00:1749557703.748184   15771 inference_feedback_manager.cc:114] Feedback manager requires a model with a single signature inference. Disabling support for feedback tensors.\n"
     ]
    },
    {
     "name": "stdout",
     "output_type": "stream",
     "text": [
      "/home/ben/projects/SaoPauloBrazilChapter_BrazilianSignLanguage/webapp/backend/data/interim/RawCleanVideos/carne_vl_4.mp4\n",
      "{'filename': 'carne_vl_4.mp4', 'frame_count': 165, 'fps': 29.97, 'width': 1920, 'height': 1080, 'duration_sec': 5.505505505505505}\n",
      "No pose estimation results found for carne_vl_4.mp4 in v0\n",
      "Running pose estimation on /home/ben/projects/SaoPauloBrazilChapter_BrazilianSignLanguage/webapp/backend/data/interim/RawCleanVideos/carne_vl_4.mp4\n"
     ]
    },
    {
     "name": "stderr",
     "output_type": "stream",
     "text": [
      "W0000 00:00:1749557705.815071   15792 inference_feedback_manager.cc:114] Feedback manager requires a model with a single signature inference. Disabling support for feedback tensors.\n",
      "W0000 00:00:1749557705.853119   15792 inference_feedback_manager.cc:114] Feedback manager requires a model with a single signature inference. Disabling support for feedback tensors.\n",
      "W0000 00:00:1749557705.855520   15795 inference_feedback_manager.cc:114] Feedback manager requires a model with a single signature inference. Disabling support for feedback tensors.\n",
      "W0000 00:00:1749557705.855818   15794 inference_feedback_manager.cc:114] Feedback manager requires a model with a single signature inference. Disabling support for feedback tensors.\n",
      "W0000 00:00:1749557705.857970   15793 inference_feedback_manager.cc:114] Feedback manager requires a model with a single signature inference. Disabling support for feedback tensors.\n",
      "W0000 00:00:1749557705.887722   15793 inference_feedback_manager.cc:114] Feedback manager requires a model with a single signature inference. Disabling support for feedback tensors.\n",
      "W0000 00:00:1749557705.888541   15795 inference_feedback_manager.cc:114] Feedback manager requires a model with a single signature inference. Disabling support for feedback tensors.\n",
      "W0000 00:00:1749557705.889063   15794 inference_feedback_manager.cc:114] Feedback manager requires a model with a single signature inference. Disabling support for feedback tensors.\n"
     ]
    },
    {
     "name": "stdout",
     "output_type": "stream",
     "text": [
      "Saved pose estimation results to /home/ben/projects/SaoPauloBrazilChapter_BrazilianSignLanguage/webapp/backend/data/interim/RawPoseLandmarks/v0\n",
      "Saved motion detection results to /home/ben/projects/SaoPauloBrazilChapter_BrazilianSignLanguage/webapp/backend/data/interim/RawMotionMeasurements/v0\n",
      "Saved motion analysis results to /home/ben/projects/SaoPauloBrazilChapter_BrazilianSignLanguage/webapp/backend/data/interim/RawMotionMeasurements/v0\n"
     ]
    },
    {
     "name": "stderr",
     "output_type": "stream",
     "text": [
      "W0000 00:00:1749557712.243741   15850 inference_feedback_manager.cc:114] Feedback manager requires a model with a single signature inference. Disabling support for feedback tensors.\n",
      "W0000 00:00:1749557712.268821   15850 inference_feedback_manager.cc:114] Feedback manager requires a model with a single signature inference. Disabling support for feedback tensors.\n",
      "W0000 00:00:1749557712.271212   15852 inference_feedback_manager.cc:114] Feedback manager requires a model with a single signature inference. Disabling support for feedback tensors.\n",
      "W0000 00:00:1749557712.272432   15846 inference_feedback_manager.cc:114] Feedback manager requires a model with a single signature inference. Disabling support for feedback tensors.\n",
      "W0000 00:00:1749557712.272876   15851 inference_feedback_manager.cc:114] Feedback manager requires a model with a single signature inference. Disabling support for feedback tensors.\n",
      "W0000 00:00:1749557712.288838   15852 inference_feedback_manager.cc:114] Feedback manager requires a model with a single signature inference. Disabling support for feedback tensors.\n",
      "W0000 00:00:1749557712.293869   15849 inference_feedback_manager.cc:114] Feedback manager requires a model with a single signature inference. Disabling support for feedback tensors.\n",
      "W0000 00:00:1749557712.297037   15847 inference_feedback_manager.cc:114] Feedback manager requires a model with a single signature inference. Disabling support for feedback tensors.\n"
     ]
    },
    {
     "name": "stdout",
     "output_type": "stream",
     "text": [
      "/home/ben/projects/SaoPauloBrazilChapter_BrazilianSignLanguage/webapp/backend/data/interim/RawCleanVideos/carne_vl_5.mp4\n",
      "{'filename': 'carne_vl_5.mp4', 'frame_count': 253, 'fps': 29.97002997002997, 'width': 1920, 'height': 1080, 'duration_sec': 8.441766666666666}\n",
      "No pose estimation results found for carne_vl_5.mp4 in v0\n",
      "Running pose estimation on /home/ben/projects/SaoPauloBrazilChapter_BrazilianSignLanguage/webapp/backend/data/interim/RawCleanVideos/carne_vl_5.mp4\n"
     ]
    },
    {
     "name": "stderr",
     "output_type": "stream",
     "text": [
      "W0000 00:00:1749557715.521361   15874 inference_feedback_manager.cc:114] Feedback manager requires a model with a single signature inference. Disabling support for feedback tensors.\n",
      "W0000 00:00:1749557715.589024   15874 inference_feedback_manager.cc:114] Feedback manager requires a model with a single signature inference. Disabling support for feedback tensors.\n",
      "W0000 00:00:1749557715.591779   15873 inference_feedback_manager.cc:114] Feedback manager requires a model with a single signature inference. Disabling support for feedback tensors.\n",
      "W0000 00:00:1749557715.592809   15879 inference_feedback_manager.cc:114] Feedback manager requires a model with a single signature inference. Disabling support for feedback tensors.\n",
      "W0000 00:00:1749557715.593376   15874 inference_feedback_manager.cc:114] Feedback manager requires a model with a single signature inference. Disabling support for feedback tensors.\n",
      "W0000 00:00:1749557715.639153   15873 inference_feedback_manager.cc:114] Feedback manager requires a model with a single signature inference. Disabling support for feedback tensors.\n",
      "W0000 00:00:1749557715.640866   15878 inference_feedback_manager.cc:114] Feedback manager requires a model with a single signature inference. Disabling support for feedback tensors.\n",
      "W0000 00:00:1749557715.654107   15879 inference_feedback_manager.cc:114] Feedback manager requires a model with a single signature inference. Disabling support for feedback tensors.\n"
     ]
    },
    {
     "name": "stdout",
     "output_type": "stream",
     "text": [
      "Saved pose estimation results to /home/ben/projects/SaoPauloBrazilChapter_BrazilianSignLanguage/webapp/backend/data/interim/RawPoseLandmarks/v0\n"
     ]
    },
    {
     "name": "stderr",
     "output_type": "stream",
     "text": [
      "W0000 00:00:1749557729.239581   15937 inference_feedback_manager.cc:114] Feedback manager requires a model with a single signature inference. Disabling support for feedback tensors.\n",
      "W0000 00:00:1749557729.262106   15937 inference_feedback_manager.cc:114] Feedback manager requires a model with a single signature inference. Disabling support for feedback tensors.\n",
      "W0000 00:00:1749557729.265224   15937 inference_feedback_manager.cc:114] Feedback manager requires a model with a single signature inference. Disabling support for feedback tensors.\n",
      "W0000 00:00:1749557729.266642   15941 inference_feedback_manager.cc:114] Feedback manager requires a model with a single signature inference. Disabling support for feedback tensors.\n",
      "W0000 00:00:1749557729.266662   15942 inference_feedback_manager.cc:114] Feedback manager requires a model with a single signature inference. Disabling support for feedback tensors.\n",
      "W0000 00:00:1749557729.278973   15937 inference_feedback_manager.cc:114] Feedback manager requires a model with a single signature inference. Disabling support for feedback tensors.\n",
      "W0000 00:00:1749557729.280746   15939 inference_feedback_manager.cc:114] Feedback manager requires a model with a single signature inference. Disabling support for feedback tensors.\n",
      "W0000 00:00:1749557729.296556   15942 inference_feedback_manager.cc:114] Feedback manager requires a model with a single signature inference. Disabling support for feedback tensors.\n"
     ]
    },
    {
     "name": "stdout",
     "output_type": "stream",
     "text": [
      "Saved motion detection results to /home/ben/projects/SaoPauloBrazilChapter_BrazilianSignLanguage/webapp/backend/data/interim/RawMotionMeasurements/v0\n",
      "Saved motion analysis results to /home/ben/projects/SaoPauloBrazilChapter_BrazilianSignLanguage/webapp/backend/data/interim/RawMotionMeasurements/v0\n",
      "/home/ben/projects/SaoPauloBrazilChapter_BrazilianSignLanguage/webapp/backend/data/interim/RawCleanVideos/carne_vl_6.mp4\n",
      "{'filename': 'carne_vl_6.mp4', 'frame_count': 248, 'fps': 59.94005994005994, 'width': 1920, 'height': 1080, 'duration_sec': 4.137466666666667}\n",
      "No pose estimation results found for carne_vl_6.mp4 in v0\n",
      "Running pose estimation on /home/ben/projects/SaoPauloBrazilChapter_BrazilianSignLanguage/webapp/backend/data/interim/RawCleanVideos/carne_vl_6.mp4\n"
     ]
    },
    {
     "name": "stderr",
     "output_type": "stream",
     "text": [
      "W0000 00:00:1749557733.649173   15971 inference_feedback_manager.cc:114] Feedback manager requires a model with a single signature inference. Disabling support for feedback tensors.\n",
      "W0000 00:00:1749557733.693165   15971 inference_feedback_manager.cc:114] Feedback manager requires a model with a single signature inference. Disabling support for feedback tensors.\n",
      "W0000 00:00:1749557733.697626   15970 inference_feedback_manager.cc:114] Feedback manager requires a model with a single signature inference. Disabling support for feedback tensors.\n",
      "W0000 00:00:1749557733.698387   15972 inference_feedback_manager.cc:114] Feedback manager requires a model with a single signature inference. Disabling support for feedback tensors.\n",
      "W0000 00:00:1749557733.700922   15974 inference_feedback_manager.cc:114] Feedback manager requires a model with a single signature inference. Disabling support for feedback tensors.\n",
      "W0000 00:00:1749557733.745254   15974 inference_feedback_manager.cc:114] Feedback manager requires a model with a single signature inference. Disabling support for feedback tensors.\n",
      "W0000 00:00:1749557733.747220   15972 inference_feedback_manager.cc:114] Feedback manager requires a model with a single signature inference. Disabling support for feedback tensors.\n",
      "W0000 00:00:1749557733.748329   15970 inference_feedback_manager.cc:114] Feedback manager requires a model with a single signature inference. Disabling support for feedback tensors.\n"
     ]
    },
    {
     "name": "stdout",
     "output_type": "stream",
     "text": [
      "Saved pose estimation results to /home/ben/projects/SaoPauloBrazilChapter_BrazilianSignLanguage/webapp/backend/data/interim/RawPoseLandmarks/v0\n"
     ]
    },
    {
     "name": "stderr",
     "output_type": "stream",
     "text": [
      "W0000 00:00:1749557745.008143   16027 inference_feedback_manager.cc:114] Feedback manager requires a model with a single signature inference. Disabling support for feedback tensors.\n",
      "W0000 00:00:1749557745.146199   16030 inference_feedback_manager.cc:114] Feedback manager requires a model with a single signature inference. Disabling support for feedback tensors.\n",
      "W0000 00:00:1749557745.148693   16033 inference_feedback_manager.cc:114] Feedback manager requires a model with a single signature inference. Disabling support for feedback tensors.\n",
      "W0000 00:00:1749557745.149997   16030 inference_feedback_manager.cc:114] Feedback manager requires a model with a single signature inference. Disabling support for feedback tensors.\n",
      "W0000 00:00:1749557745.157827   16031 inference_feedback_manager.cc:114] Feedback manager requires a model with a single signature inference. Disabling support for feedback tensors.\n",
      "W0000 00:00:1749557745.168905   16030 inference_feedback_manager.cc:114] Feedback manager requires a model with a single signature inference. Disabling support for feedback tensors.\n",
      "W0000 00:00:1749557745.172861   16033 inference_feedback_manager.cc:114] Feedback manager requires a model with a single signature inference. Disabling support for feedback tensors.\n",
      "W0000 00:00:1749557745.202345   16031 inference_feedback_manager.cc:114] Feedback manager requires a model with a single signature inference. Disabling support for feedback tensors.\n"
     ]
    },
    {
     "name": "stdout",
     "output_type": "stream",
     "text": [
      "Saved motion detection results to /home/ben/projects/SaoPauloBrazilChapter_BrazilianSignLanguage/webapp/backend/data/interim/RawMotionMeasurements/v0\n",
      "Saved motion analysis results to /home/ben/projects/SaoPauloBrazilChapter_BrazilianSignLanguage/webapp/backend/data/interim/RawMotionMeasurements/v0\n",
      "/home/ben/projects/SaoPauloBrazilChapter_BrazilianSignLanguage/webapp/backend/data/interim/RawCleanVideos/casa_ne_1.mp4\n",
      "{'filename': 'casa_ne_1.mp4', 'frame_count': 37, 'fps': 12.0, 'width': 240, 'height': 176, 'duration_sec': 3.0833333333333335}\n",
      "No pose estimation results found for casa_ne_1.mp4 in v0\n",
      "Running pose estimation on /home/ben/projects/SaoPauloBrazilChapter_BrazilianSignLanguage/webapp/backend/data/interim/RawCleanVideos/casa_ne_1.mp4\n"
     ]
    },
    {
     "name": "stderr",
     "output_type": "stream",
     "text": [
      "W0000 00:00:1749557750.078973   16064 inference_feedback_manager.cc:114] Feedback manager requires a model with a single signature inference. Disabling support for feedback tensors.\n",
      "W0000 00:00:1749557750.122989   16064 inference_feedback_manager.cc:114] Feedback manager requires a model with a single signature inference. Disabling support for feedback tensors.\n",
      "W0000 00:00:1749557750.125927   16066 inference_feedback_manager.cc:114] Feedback manager requires a model with a single signature inference. Disabling support for feedback tensors.\n",
      "W0000 00:00:1749557750.126555   16067 inference_feedback_manager.cc:114] Feedback manager requires a model with a single signature inference. Disabling support for feedback tensors.\n",
      "W0000 00:00:1749557750.126808   16064 inference_feedback_manager.cc:114] Feedback manager requires a model with a single signature inference. Disabling support for feedback tensors.\n",
      "W0000 00:00:1749557750.155456   16066 inference_feedback_manager.cc:114] Feedback manager requires a model with a single signature inference. Disabling support for feedback tensors.\n",
      "W0000 00:00:1749557750.162096   16067 inference_feedback_manager.cc:114] Feedback manager requires a model with a single signature inference. Disabling support for feedback tensors.\n",
      "W0000 00:00:1749557750.163089   16064 inference_feedback_manager.cc:114] Feedback manager requires a model with a single signature inference. Disabling support for feedback tensors.\n"
     ]
    },
    {
     "name": "stdout",
     "output_type": "stream",
     "text": [
      "Saved pose estimation results to /home/ben/projects/SaoPauloBrazilChapter_BrazilianSignLanguage/webapp/backend/data/interim/RawPoseLandmarks/v0\n",
      "Saved motion detection results to /home/ben/projects/SaoPauloBrazilChapter_BrazilianSignLanguage/webapp/backend/data/interim/RawMotionMeasurements/v0\n",
      "Saved motion analysis results to /home/ben/projects/SaoPauloBrazilChapter_BrazilianSignLanguage/webapp/backend/data/interim/RawMotionMeasurements/v0\n"
     ]
    },
    {
     "name": "stderr",
     "output_type": "stream",
     "text": [
      "W0000 00:00:1749557751.879135   16086 inference_feedback_manager.cc:114] Feedback manager requires a model with a single signature inference. Disabling support for feedback tensors.\n",
      "W0000 00:00:1749557751.902441   16086 inference_feedback_manager.cc:114] Feedback manager requires a model with a single signature inference. Disabling support for feedback tensors.\n",
      "W0000 00:00:1749557751.905949   16091 inference_feedback_manager.cc:114] Feedback manager requires a model with a single signature inference. Disabling support for feedback tensors.\n",
      "W0000 00:00:1749557751.906056   16092 inference_feedback_manager.cc:114] Feedback manager requires a model with a single signature inference. Disabling support for feedback tensors.\n",
      "W0000 00:00:1749557751.906474   16089 inference_feedback_manager.cc:114] Feedback manager requires a model with a single signature inference. Disabling support for feedback tensors.\n",
      "W0000 00:00:1749557751.918576   16087 inference_feedback_manager.cc:114] Feedback manager requires a model with a single signature inference. Disabling support for feedback tensors.\n",
      "W0000 00:00:1749557751.928916   16088 inference_feedback_manager.cc:114] Feedback manager requires a model with a single signature inference. Disabling support for feedback tensors.\n",
      "W0000 00:00:1749557751.933178   16092 inference_feedback_manager.cc:114] Feedback manager requires a model with a single signature inference. Disabling support for feedback tensors.\n"
     ]
    },
    {
     "name": "stdout",
     "output_type": "stream",
     "text": [
      "/home/ben/projects/SaoPauloBrazilChapter_BrazilianSignLanguage/webapp/backend/data/interim/RawCleanVideos/casa_sb_2.mp4\n",
      "{'filename': 'casa_sb_2.mp4', 'frame_count': 64, 'fps': 29.97002997002997, 'width': 1280, 'height': 720, 'duration_sec': 2.135466666666667}\n",
      "No pose estimation results found for casa_sb_2.mp4 in v0\n",
      "Running pose estimation on /home/ben/projects/SaoPauloBrazilChapter_BrazilianSignLanguage/webapp/backend/data/interim/RawCleanVideos/casa_sb_2.mp4\n"
     ]
    },
    {
     "name": "stderr",
     "output_type": "stream",
     "text": [
      "W0000 00:00:1749557753.048247   16110 inference_feedback_manager.cc:114] Feedback manager requires a model with a single signature inference. Disabling support for feedback tensors.\n",
      "W0000 00:00:1749557753.087017   16110 inference_feedback_manager.cc:114] Feedback manager requires a model with a single signature inference. Disabling support for feedback tensors.\n",
      "W0000 00:00:1749557753.089859   16108 inference_feedback_manager.cc:114] Feedback manager requires a model with a single signature inference. Disabling support for feedback tensors.\n",
      "W0000 00:00:1749557753.089859   16114 inference_feedback_manager.cc:114] Feedback manager requires a model with a single signature inference. Disabling support for feedback tensors.\n",
      "W0000 00:00:1749557753.089913   16112 inference_feedback_manager.cc:114] Feedback manager requires a model with a single signature inference. Disabling support for feedback tensors.\n",
      "W0000 00:00:1749557753.109633   16112 inference_feedback_manager.cc:114] Feedback manager requires a model with a single signature inference. Disabling support for feedback tensors.\n",
      "W0000 00:00:1749557753.111976   16114 inference_feedback_manager.cc:114] Feedback manager requires a model with a single signature inference. Disabling support for feedback tensors.\n",
      "W0000 00:00:1749557753.113342   16108 inference_feedback_manager.cc:114] Feedback manager requires a model with a single signature inference. Disabling support for feedback tensors.\n"
     ]
    },
    {
     "name": "stdout",
     "output_type": "stream",
     "text": [
      "Saved pose estimation results to /home/ben/projects/SaoPauloBrazilChapter_BrazilianSignLanguage/webapp/backend/data/interim/RawPoseLandmarks/v0\n",
      "Saved motion detection results to /home/ben/projects/SaoPauloBrazilChapter_BrazilianSignLanguage/webapp/backend/data/interim/RawMotionMeasurements/v0\n",
      "Saved motion analysis results to /home/ben/projects/SaoPauloBrazilChapter_BrazilianSignLanguage/webapp/backend/data/interim/RawMotionMeasurements/v0\n"
     ]
    },
    {
     "name": "stderr",
     "output_type": "stream",
     "text": [
      "W0000 00:00:1749557756.142644   16132 inference_feedback_manager.cc:114] Feedback manager requires a model with a single signature inference. Disabling support for feedback tensors.\n",
      "W0000 00:00:1749557756.161583   16132 inference_feedback_manager.cc:114] Feedback manager requires a model with a single signature inference. Disabling support for feedback tensors.\n",
      "W0000 00:00:1749557756.164320   16134 inference_feedback_manager.cc:114] Feedback manager requires a model with a single signature inference. Disabling support for feedback tensors.\n",
      "W0000 00:00:1749557756.164447   16135 inference_feedback_manager.cc:114] Feedback manager requires a model with a single signature inference. Disabling support for feedback tensors.\n",
      "W0000 00:00:1749557756.165130   16132 inference_feedback_manager.cc:114] Feedback manager requires a model with a single signature inference. Disabling support for feedback tensors.\n",
      "W0000 00:00:1749557756.179065   16134 inference_feedback_manager.cc:114] Feedback manager requires a model with a single signature inference. Disabling support for feedback tensors.\n",
      "W0000 00:00:1749557756.179065   16136 inference_feedback_manager.cc:114] Feedback manager requires a model with a single signature inference. Disabling support for feedback tensors.\n",
      "W0000 00:00:1749557756.186725   16135 inference_feedback_manager.cc:114] Feedback manager requires a model with a single signature inference. Disabling support for feedback tensors.\n"
     ]
    },
    {
     "name": "stdout",
     "output_type": "stream",
     "text": [
      "/home/ben/projects/SaoPauloBrazilChapter_BrazilianSignLanguage/webapp/backend/data/interim/RawCleanVideos/casa_uf_3.mp4\n",
      "{'filename': 'casa_uf_3.mp4', 'frame_count': 135, 'fps': 29.97002997002997, 'width': 1920, 'height': 1080, 'duration_sec': 4.5045}\n",
      "No pose estimation results found for casa_uf_3.mp4 in v0\n",
      "Running pose estimation on /home/ben/projects/SaoPauloBrazilChapter_BrazilianSignLanguage/webapp/backend/data/interim/RawCleanVideos/casa_uf_3.mp4\n"
     ]
    },
    {
     "name": "stderr",
     "output_type": "stream",
     "text": [
      "W0000 00:00:1749557757.646170   16159 inference_feedback_manager.cc:114] Feedback manager requires a model with a single signature inference. Disabling support for feedback tensors.\n",
      "W0000 00:00:1749557757.673590   16159 inference_feedback_manager.cc:114] Feedback manager requires a model with a single signature inference. Disabling support for feedback tensors.\n",
      "W0000 00:00:1749557757.676788   16161 inference_feedback_manager.cc:114] Feedback manager requires a model with a single signature inference. Disabling support for feedback tensors.\n",
      "W0000 00:00:1749557757.676889   16157 inference_feedback_manager.cc:114] Feedback manager requires a model with a single signature inference. Disabling support for feedback tensors.\n",
      "W0000 00:00:1749557757.677312   16162 inference_feedback_manager.cc:114] Feedback manager requires a model with a single signature inference. Disabling support for feedback tensors.\n",
      "W0000 00:00:1749557757.702506   16157 inference_feedback_manager.cc:114] Feedback manager requires a model with a single signature inference. Disabling support for feedback tensors.\n",
      "W0000 00:00:1749557757.703258   16162 inference_feedback_manager.cc:114] Feedback manager requires a model with a single signature inference. Disabling support for feedback tensors.\n",
      "W0000 00:00:1749557757.706077   16161 inference_feedback_manager.cc:114] Feedback manager requires a model with a single signature inference. Disabling support for feedback tensors.\n"
     ]
    },
    {
     "name": "stdout",
     "output_type": "stream",
     "text": [
      "Saved pose estimation results to /home/ben/projects/SaoPauloBrazilChapter_BrazilianSignLanguage/webapp/backend/data/interim/RawPoseLandmarks/v0\n"
     ]
    },
    {
     "name": "stderr",
     "output_type": "stream",
     "text": [
      "W0000 00:00:1749557764.379813   16198 inference_feedback_manager.cc:114] Feedback manager requires a model with a single signature inference. Disabling support for feedback tensors.\n",
      "W0000 00:00:1749557764.403373   16198 inference_feedback_manager.cc:114] Feedback manager requires a model with a single signature inference. Disabling support for feedback tensors.\n",
      "W0000 00:00:1749557764.405298   16201 inference_feedback_manager.cc:114] Feedback manager requires a model with a single signature inference. Disabling support for feedback tensors.\n",
      "W0000 00:00:1749557764.406628   16196 inference_feedback_manager.cc:114] Feedback manager requires a model with a single signature inference. Disabling support for feedback tensors.\n",
      "W0000 00:00:1749557764.407370   16198 inference_feedback_manager.cc:114] Feedback manager requires a model with a single signature inference. Disabling support for feedback tensors.\n",
      "W0000 00:00:1749557764.421302   16201 inference_feedback_manager.cc:114] Feedback manager requires a model with a single signature inference. Disabling support for feedback tensors.\n",
      "W0000 00:00:1749557764.423118   16202 inference_feedback_manager.cc:114] Feedback manager requires a model with a single signature inference. Disabling support for feedback tensors.\n",
      "W0000 00:00:1749557764.424744   16200 inference_feedback_manager.cc:114] Feedback manager requires a model with a single signature inference. Disabling support for feedback tensors.\n"
     ]
    },
    {
     "name": "stdout",
     "output_type": "stream",
     "text": [
      "Saved motion detection results to /home/ben/projects/SaoPauloBrazilChapter_BrazilianSignLanguage/webapp/backend/data/interim/RawMotionMeasurements/v0\n",
      "Saved motion analysis results to /home/ben/projects/SaoPauloBrazilChapter_BrazilianSignLanguage/webapp/backend/data/interim/RawMotionMeasurements/v0\n",
      "/home/ben/projects/SaoPauloBrazilChapter_BrazilianSignLanguage/webapp/backend/data/interim/RawCleanVideos/casa_vl_4.mp4\n",
      "{'filename': 'casa_vl_4.mp4', 'frame_count': 196, 'fps': 29.97002997002997, 'width': 1920, 'height': 1080, 'duration_sec': 6.539866666666667}\n",
      "Loaded pose estimation results from v0\n"
     ]
    },
    {
     "name": "stderr",
     "output_type": "stream",
     "text": [
      "W0000 00:00:1749557766.682278   16221 inference_feedback_manager.cc:114] Feedback manager requires a model with a single signature inference. Disabling support for feedback tensors.\n",
      "W0000 00:00:1749557766.703823   16221 inference_feedback_manager.cc:114] Feedback manager requires a model with a single signature inference. Disabling support for feedback tensors.\n",
      "W0000 00:00:1749557766.706456   16222 inference_feedback_manager.cc:114] Feedback manager requires a model with a single signature inference. Disabling support for feedback tensors.\n",
      "W0000 00:00:1749557766.707335   16224 inference_feedback_manager.cc:114] Feedback manager requires a model with a single signature inference. Disabling support for feedback tensors.\n",
      "W0000 00:00:1749557766.707364   16225 inference_feedback_manager.cc:114] Feedback manager requires a model with a single signature inference. Disabling support for feedback tensors.\n",
      "W0000 00:00:1749557766.744946   16225 inference_feedback_manager.cc:114] Feedback manager requires a model with a single signature inference. Disabling support for feedback tensors.\n",
      "W0000 00:00:1749557766.746225   16226 inference_feedback_manager.cc:114] Feedback manager requires a model with a single signature inference. Disabling support for feedback tensors.\n",
      "W0000 00:00:1749557766.746718   16222 inference_feedback_manager.cc:114] Feedback manager requires a model with a single signature inference. Disabling support for feedback tensors.\n"
     ]
    },
    {
     "name": "stdout",
     "output_type": "stream",
     "text": [
      "Saved motion detection results to /home/ben/projects/SaoPauloBrazilChapter_BrazilianSignLanguage/webapp/backend/data/interim/RawMotionMeasurements/v0\n",
      "Saved motion analysis results to /home/ben/projects/SaoPauloBrazilChapter_BrazilianSignLanguage/webapp/backend/data/interim/RawMotionMeasurements/v0\n"
     ]
    },
    {
     "name": "stderr",
     "output_type": "stream",
     "text": [
      "/home/ben/projects/SaoPauloBrazilChapter_BrazilianSignLanguage/code/preprocess/preprocessor.py:1269: FutureWarning: Setting an item of incompatible dtype is deprecated and will raise an error in a future version of pandas. Value '' has dtype incompatible with float64, please explicitly cast to a compatible dtype first.\n",
      "  df.loc[idx, col] = new_df.iloc[0][col]\n"
     ]
    },
    {
     "name": "stdout",
     "output_type": "stream",
     "text": [
      "/home/ben/projects/SaoPauloBrazilChapter_BrazilianSignLanguage/webapp/backend/data/interim/RawCleanVideos/casa_vl_5.mp4\n",
      "{'filename': 'casa_vl_5.mp4', 'frame_count': 195, 'fps': 29.97002997002997, 'width': 1920, 'height': 1080, 'duration_sec': 6.5065}\n",
      "No pose estimation results found for casa_vl_5.mp4 in v0\n",
      "Running pose estimation on /home/ben/projects/SaoPauloBrazilChapter_BrazilianSignLanguage/webapp/backend/data/interim/RawCleanVideos/casa_vl_5.mp4\n"
     ]
    },
    {
     "name": "stderr",
     "output_type": "stream",
     "text": [
      "W0000 00:00:1749557768.369491   16251 inference_feedback_manager.cc:114] Feedback manager requires a model with a single signature inference. Disabling support for feedback tensors.\n",
      "W0000 00:00:1749557768.405833   16251 inference_feedback_manager.cc:114] Feedback manager requires a model with a single signature inference. Disabling support for feedback tensors.\n",
      "W0000 00:00:1749557768.409093   16255 inference_feedback_manager.cc:114] Feedback manager requires a model with a single signature inference. Disabling support for feedback tensors.\n",
      "W0000 00:00:1749557768.409416   16258 inference_feedback_manager.cc:114] Feedback manager requires a model with a single signature inference. Disabling support for feedback tensors.\n",
      "W0000 00:00:1749557768.409544   16253 inference_feedback_manager.cc:114] Feedback manager requires a model with a single signature inference. Disabling support for feedback tensors.\n",
      "W0000 00:00:1749557768.435679   16255 inference_feedback_manager.cc:114] Feedback manager requires a model with a single signature inference. Disabling support for feedback tensors.\n",
      "W0000 00:00:1749557768.437849   16253 inference_feedback_manager.cc:114] Feedback manager requires a model with a single signature inference. Disabling support for feedback tensors.\n",
      "W0000 00:00:1749557768.439865   16258 inference_feedback_manager.cc:114] Feedback manager requires a model with a single signature inference. Disabling support for feedback tensors.\n"
     ]
    },
    {
     "name": "stdout",
     "output_type": "stream",
     "text": [
      "Saved pose estimation results to /home/ben/projects/SaoPauloBrazilChapter_BrazilianSignLanguage/webapp/backend/data/interim/RawPoseLandmarks/v0\n"
     ]
    },
    {
     "name": "stderr",
     "output_type": "stream",
     "text": [
      "W0000 00:00:1749557779.904129   16305 inference_feedback_manager.cc:114] Feedback manager requires a model with a single signature inference. Disabling support for feedback tensors.\n",
      "W0000 00:00:1749557779.979711   16305 inference_feedback_manager.cc:114] Feedback manager requires a model with a single signature inference. Disabling support for feedback tensors.\n",
      "W0000 00:00:1749557779.982256   16303 inference_feedback_manager.cc:114] Feedback manager requires a model with a single signature inference. Disabling support for feedback tensors.\n",
      "W0000 00:00:1749557779.982384   16307 inference_feedback_manager.cc:114] Feedback manager requires a model with a single signature inference. Disabling support for feedback tensors.\n",
      "W0000 00:00:1749557779.983345   16308 inference_feedback_manager.cc:114] Feedback manager requires a model with a single signature inference. Disabling support for feedback tensors.\n",
      "W0000 00:00:1749557780.006988   16303 inference_feedback_manager.cc:114] Feedback manager requires a model with a single signature inference. Disabling support for feedback tensors.\n",
      "W0000 00:00:1749557780.023509   16308 inference_feedback_manager.cc:114] Feedback manager requires a model with a single signature inference. Disabling support for feedback tensors.\n",
      "W0000 00:00:1749557780.036843   16307 inference_feedback_manager.cc:114] Feedback manager requires a model with a single signature inference. Disabling support for feedback tensors.\n"
     ]
    },
    {
     "name": "stdout",
     "output_type": "stream",
     "text": [
      "Saved motion detection results to /home/ben/projects/SaoPauloBrazilChapter_BrazilianSignLanguage/webapp/backend/data/interim/RawMotionMeasurements/v0\n",
      "Saved motion analysis results to /home/ben/projects/SaoPauloBrazilChapter_BrazilianSignLanguage/webapp/backend/data/interim/RawMotionMeasurements/v0\n",
      "/home/ben/projects/SaoPauloBrazilChapter_BrazilianSignLanguage/webapp/backend/data/interim/RawCleanVideos/casa_vl_6.mp4\n",
      "{'filename': 'casa_vl_6.mp4', 'frame_count': 276, 'fps': 59.94005994005994, 'width': 1920, 'height': 1080, 'duration_sec': 4.6046000000000005}\n",
      "No pose estimation results found for casa_vl_6.mp4 in v0\n",
      "Running pose estimation on /home/ben/projects/SaoPauloBrazilChapter_BrazilianSignLanguage/webapp/backend/data/interim/RawCleanVideos/casa_vl_6.mp4\n"
     ]
    },
    {
     "name": "stderr",
     "output_type": "stream",
     "text": [
      "W0000 00:00:1749557784.184507   16333 inference_feedback_manager.cc:114] Feedback manager requires a model with a single signature inference. Disabling support for feedback tensors.\n",
      "W0000 00:00:1749557784.227648   16333 inference_feedback_manager.cc:114] Feedback manager requires a model with a single signature inference. Disabling support for feedback tensors.\n",
      "W0000 00:00:1749557784.231071   16335 inference_feedback_manager.cc:114] Feedback manager requires a model with a single signature inference. Disabling support for feedback tensors.\n",
      "W0000 00:00:1749557784.232326   16338 inference_feedback_manager.cc:114] Feedback manager requires a model with a single signature inference. Disabling support for feedback tensors.\n",
      "W0000 00:00:1749557784.232556   16336 inference_feedback_manager.cc:114] Feedback manager requires a model with a single signature inference. Disabling support for feedback tensors.\n",
      "W0000 00:00:1749557784.275020   16338 inference_feedback_manager.cc:114] Feedback manager requires a model with a single signature inference. Disabling support for feedback tensors.\n",
      "W0000 00:00:1749557784.279100   16336 inference_feedback_manager.cc:114] Feedback manager requires a model with a single signature inference. Disabling support for feedback tensors.\n",
      "W0000 00:00:1749557784.284103   16335 inference_feedback_manager.cc:114] Feedback manager requires a model with a single signature inference. Disabling support for feedback tensors.\n"
     ]
    },
    {
     "name": "stdout",
     "output_type": "stream",
     "text": [
      "Saved pose estimation results to /home/ben/projects/SaoPauloBrazilChapter_BrazilianSignLanguage/webapp/backend/data/interim/RawPoseLandmarks/v0\n"
     ]
    },
    {
     "name": "stderr",
     "output_type": "stream",
     "text": [
      "W0000 00:00:1749557800.900015   16398 inference_feedback_manager.cc:114] Feedback manager requires a model with a single signature inference. Disabling support for feedback tensors.\n",
      "W0000 00:00:1749557800.967490   16399 inference_feedback_manager.cc:114] Feedback manager requires a model with a single signature inference. Disabling support for feedback tensors.\n",
      "W0000 00:00:1749557800.970371   16400 inference_feedback_manager.cc:114] Feedback manager requires a model with a single signature inference. Disabling support for feedback tensors.\n",
      "W0000 00:00:1749557800.970633   16401 inference_feedback_manager.cc:114] Feedback manager requires a model with a single signature inference. Disabling support for feedback tensors.\n",
      "W0000 00:00:1749557800.972431   16397 inference_feedback_manager.cc:114] Feedback manager requires a model with a single signature inference. Disabling support for feedback tensors.\n",
      "W0000 00:00:1749557800.990316   16400 inference_feedback_manager.cc:114] Feedback manager requires a model with a single signature inference. Disabling support for feedback tensors.\n",
      "W0000 00:00:1749557800.999955   16401 inference_feedback_manager.cc:114] Feedback manager requires a model with a single signature inference. Disabling support for feedback tensors.\n",
      "W0000 00:00:1749557801.024482   16397 inference_feedback_manager.cc:114] Feedback manager requires a model with a single signature inference. Disabling support for feedback tensors.\n"
     ]
    },
    {
     "name": "stdout",
     "output_type": "stream",
     "text": [
      "Saved motion detection results to /home/ben/projects/SaoPauloBrazilChapter_BrazilianSignLanguage/webapp/backend/data/interim/RawMotionMeasurements/v0\n",
      "Saved motion analysis results to /home/ben/projects/SaoPauloBrazilChapter_BrazilianSignLanguage/webapp/backend/data/interim/RawMotionMeasurements/v0\n",
      "/home/ben/projects/SaoPauloBrazilChapter_BrazilianSignLanguage/webapp/backend/data/interim/RawCleanVideos/cebola_ne_1.mp4\n",
      "{'filename': 'cebola_ne_1.mp4', 'frame_count': 53, 'fps': 12.0, 'width': 240, 'height': 176, 'duration_sec': 4.416666666666667}\n",
      "No pose estimation results found for cebola_ne_1.mp4 in v0\n",
      "Running pose estimation on /home/ben/projects/SaoPauloBrazilChapter_BrazilianSignLanguage/webapp/backend/data/interim/RawCleanVideos/cebola_ne_1.mp4\n"
     ]
    },
    {
     "name": "stderr",
     "output_type": "stream",
     "text": [
      "W0000 00:00:1749557806.769412   16430 inference_feedback_manager.cc:114] Feedback manager requires a model with a single signature inference. Disabling support for feedback tensors.\n",
      "W0000 00:00:1749557806.828935   16429 inference_feedback_manager.cc:114] Feedback manager requires a model with a single signature inference. Disabling support for feedback tensors.\n",
      "W0000 00:00:1749557806.833848   16435 inference_feedback_manager.cc:114] Feedback manager requires a model with a single signature inference. Disabling support for feedback tensors.\n",
      "W0000 00:00:1749557806.834504   16436 inference_feedback_manager.cc:114] Feedback manager requires a model with a single signature inference. Disabling support for feedback tensors.\n",
      "W0000 00:00:1749557806.834676   16429 inference_feedback_manager.cc:114] Feedback manager requires a model with a single signature inference. Disabling support for feedback tensors.\n",
      "W0000 00:00:1749557806.865604   16435 inference_feedback_manager.cc:114] Feedback manager requires a model with a single signature inference. Disabling support for feedback tensors.\n",
      "W0000 00:00:1749557806.869209   16432 inference_feedback_manager.cc:114] Feedback manager requires a model with a single signature inference. Disabling support for feedback tensors.\n",
      "W0000 00:00:1749557806.875809   16436 inference_feedback_manager.cc:114] Feedback manager requires a model with a single signature inference. Disabling support for feedback tensors.\n"
     ]
    },
    {
     "name": "stdout",
     "output_type": "stream",
     "text": [
      "Saved pose estimation results to /home/ben/projects/SaoPauloBrazilChapter_BrazilianSignLanguage/webapp/backend/data/interim/RawPoseLandmarks/v0\n",
      "Saved motion detection results to /home/ben/projects/SaoPauloBrazilChapter_BrazilianSignLanguage/webapp/backend/data/interim/RawMotionMeasurements/v0\n",
      "Saved motion analysis results to /home/ben/projects/SaoPauloBrazilChapter_BrazilianSignLanguage/webapp/backend/data/interim/RawMotionMeasurements/v0\n"
     ]
    },
    {
     "name": "stderr",
     "output_type": "stream",
     "text": [
      "W0000 00:00:1749557809.330781   16455 inference_feedback_manager.cc:114] Feedback manager requires a model with a single signature inference. Disabling support for feedback tensors.\n",
      "W0000 00:00:1749557809.360807   16455 inference_feedback_manager.cc:114] Feedback manager requires a model with a single signature inference. Disabling support for feedback tensors.\n",
      "W0000 00:00:1749557809.363688   16455 inference_feedback_manager.cc:114] Feedback manager requires a model with a single signature inference. Disabling support for feedback tensors.\n",
      "W0000 00:00:1749557809.363890   16457 inference_feedback_manager.cc:114] Feedback manager requires a model with a single signature inference. Disabling support for feedback tensors.\n",
      "W0000 00:00:1749557809.364687   16452 inference_feedback_manager.cc:114] Feedback manager requires a model with a single signature inference. Disabling support for feedback tensors.\n",
      "W0000 00:00:1749557809.379032   16455 inference_feedback_manager.cc:114] Feedback manager requires a model with a single signature inference. Disabling support for feedback tensors.\n",
      "W0000 00:00:1749557809.386777   16457 inference_feedback_manager.cc:114] Feedback manager requires a model with a single signature inference. Disabling support for feedback tensors.\n",
      "W0000 00:00:1749557809.388954   16452 inference_feedback_manager.cc:114] Feedback manager requires a model with a single signature inference. Disabling support for feedback tensors.\n"
     ]
    },
    {
     "name": "stdout",
     "output_type": "stream",
     "text": [
      "/home/ben/projects/SaoPauloBrazilChapter_BrazilianSignLanguage/webapp/backend/data/interim/RawCleanVideos/cebola_sb_2.mp4\n",
      "{'filename': 'cebola_sb_2.mp4', 'frame_count': 82, 'fps': 29.97002997002997, 'width': 1280, 'height': 720, 'duration_sec': 2.736066666666667}\n",
      "No pose estimation results found for cebola_sb_2.mp4 in v0\n",
      "Running pose estimation on /home/ben/projects/SaoPauloBrazilChapter_BrazilianSignLanguage/webapp/backend/data/interim/RawCleanVideos/cebola_sb_2.mp4\n"
     ]
    },
    {
     "name": "stderr",
     "output_type": "stream",
     "text": [
      "W0000 00:00:1749557810.489620   16476 inference_feedback_manager.cc:114] Feedback manager requires a model with a single signature inference. Disabling support for feedback tensors.\n",
      "W0000 00:00:1749557810.529898   16476 inference_feedback_manager.cc:114] Feedback manager requires a model with a single signature inference. Disabling support for feedback tensors.\n",
      "W0000 00:00:1749557810.532138   16480 inference_feedback_manager.cc:114] Feedback manager requires a model with a single signature inference. Disabling support for feedback tensors.\n",
      "W0000 00:00:1749557810.533180   16474 inference_feedback_manager.cc:114] Feedback manager requires a model with a single signature inference. Disabling support for feedback tensors.\n",
      "W0000 00:00:1749557810.536982   16476 inference_feedback_manager.cc:114] Feedback manager requires a model with a single signature inference. Disabling support for feedback tensors.\n",
      "W0000 00:00:1749557810.548735   16480 inference_feedback_manager.cc:114] Feedback manager requires a model with a single signature inference. Disabling support for feedback tensors.\n",
      "W0000 00:00:1749557810.588473   16474 inference_feedback_manager.cc:114] Feedback manager requires a model with a single signature inference. Disabling support for feedback tensors.\n",
      "W0000 00:00:1749557810.597019   16476 inference_feedback_manager.cc:114] Feedback manager requires a model with a single signature inference. Disabling support for feedback tensors.\n"
     ]
    },
    {
     "name": "stdout",
     "output_type": "stream",
     "text": [
      "Saved pose estimation results to /home/ben/projects/SaoPauloBrazilChapter_BrazilianSignLanguage/webapp/backend/data/interim/RawPoseLandmarks/v0\n",
      "Saved motion detection results to /home/ben/projects/SaoPauloBrazilChapter_BrazilianSignLanguage/webapp/backend/data/interim/RawMotionMeasurements/v0\n",
      "Saved motion analysis results to /home/ben/projects/SaoPauloBrazilChapter_BrazilianSignLanguage/webapp/backend/data/interim/RawMotionMeasurements/v0\n"
     ]
    },
    {
     "name": "stderr",
     "output_type": "stream",
     "text": [
      "W0000 00:00:1749557814.927114   16503 inference_feedback_manager.cc:114] Feedback manager requires a model with a single signature inference. Disabling support for feedback tensors.\n",
      "W0000 00:00:1749557814.955299   16503 inference_feedback_manager.cc:114] Feedback manager requires a model with a single signature inference. Disabling support for feedback tensors.\n",
      "W0000 00:00:1749557814.957900   16508 inference_feedback_manager.cc:114] Feedback manager requires a model with a single signature inference. Disabling support for feedback tensors.\n",
      "W0000 00:00:1749557814.957972   16502 inference_feedback_manager.cc:114] Feedback manager requires a model with a single signature inference. Disabling support for feedback tensors.\n",
      "W0000 00:00:1749557814.958133   16501 inference_feedback_manager.cc:114] Feedback manager requires a model with a single signature inference. Disabling support for feedback tensors.\n",
      "W0000 00:00:1749557814.974663   16508 inference_feedback_manager.cc:114] Feedback manager requires a model with a single signature inference. Disabling support for feedback tensors.\n",
      "W0000 00:00:1749557814.974604   16501 inference_feedback_manager.cc:114] Feedback manager requires a model with a single signature inference. Disabling support for feedback tensors.\n",
      "W0000 00:00:1749557814.974874   16502 inference_feedback_manager.cc:114] Feedback manager requires a model with a single signature inference. Disabling support for feedback tensors.\n"
     ]
    },
    {
     "name": "stdout",
     "output_type": "stream",
     "text": [
      "/home/ben/projects/SaoPauloBrazilChapter_BrazilianSignLanguage/webapp/backend/data/interim/RawCleanVideos/cebola_uf_3.mp4\n",
      "{'filename': 'cebola_uf_3.mp4', 'frame_count': 195, 'fps': 29.97002997002997, 'width': 1920, 'height': 1080, 'duration_sec': 6.5065}\n",
      "No pose estimation results found for cebola_uf_3.mp4 in v0\n",
      "Running pose estimation on /home/ben/projects/SaoPauloBrazilChapter_BrazilianSignLanguage/webapp/backend/data/interim/RawCleanVideos/cebola_uf_3.mp4\n"
     ]
    },
    {
     "name": "stderr",
     "output_type": "stream",
     "text": [
      "W0000 00:00:1749557816.835103   16525 inference_feedback_manager.cc:114] Feedback manager requires a model with a single signature inference. Disabling support for feedback tensors.\n",
      "W0000 00:00:1749557816.864218   16525 inference_feedback_manager.cc:114] Feedback manager requires a model with a single signature inference. Disabling support for feedback tensors.\n",
      "W0000 00:00:1749557816.866945   16524 inference_feedback_manager.cc:114] Feedback manager requires a model with a single signature inference. Disabling support for feedback tensors.\n",
      "W0000 00:00:1749557816.868129   16526 inference_feedback_manager.cc:114] Feedback manager requires a model with a single signature inference. Disabling support for feedback tensors.\n",
      "W0000 00:00:1749557816.868149   16523 inference_feedback_manager.cc:114] Feedback manager requires a model with a single signature inference. Disabling support for feedback tensors.\n",
      "W0000 00:00:1749557816.893039   16530 inference_feedback_manager.cc:114] Feedback manager requires a model with a single signature inference. Disabling support for feedback tensors.\n",
      "W0000 00:00:1749557816.894872   16524 inference_feedback_manager.cc:114] Feedback manager requires a model with a single signature inference. Disabling support for feedback tensors.\n",
      "W0000 00:00:1749557816.896817   16526 inference_feedback_manager.cc:114] Feedback manager requires a model with a single signature inference. Disabling support for feedback tensors.\n"
     ]
    },
    {
     "name": "stdout",
     "output_type": "stream",
     "text": [
      "Saved pose estimation results to /home/ben/projects/SaoPauloBrazilChapter_BrazilianSignLanguage/webapp/backend/data/interim/RawPoseLandmarks/v0\n"
     ]
    },
    {
     "name": "stderr",
     "output_type": "stream",
     "text": [
      "W0000 00:00:1749557826.120087   16567 inference_feedback_manager.cc:114] Feedback manager requires a model with a single signature inference. Disabling support for feedback tensors.\n",
      "W0000 00:00:1749557826.162011   16571 inference_feedback_manager.cc:114] Feedback manager requires a model with a single signature inference. Disabling support for feedback tensors.\n",
      "W0000 00:00:1749557826.164306   16572 inference_feedback_manager.cc:114] Feedback manager requires a model with a single signature inference. Disabling support for feedback tensors.\n",
      "W0000 00:00:1749557826.165417   16568 inference_feedback_manager.cc:114] Feedback manager requires a model with a single signature inference. Disabling support for feedback tensors.\n",
      "W0000 00:00:1749557826.167455   16571 inference_feedback_manager.cc:114] Feedback manager requires a model with a single signature inference. Disabling support for feedback tensors.\n",
      "W0000 00:00:1749557826.186199   16572 inference_feedback_manager.cc:114] Feedback manager requires a model with a single signature inference. Disabling support for feedback tensors.\n",
      "W0000 00:00:1749557826.192413   16568 inference_feedback_manager.cc:114] Feedback manager requires a model with a single signature inference. Disabling support for feedback tensors.\n",
      "W0000 00:00:1749557826.196894   16571 inference_feedback_manager.cc:114] Feedback manager requires a model with a single signature inference. Disabling support for feedback tensors.\n"
     ]
    },
    {
     "name": "stdout",
     "output_type": "stream",
     "text": [
      "Saved motion detection results to /home/ben/projects/SaoPauloBrazilChapter_BrazilianSignLanguage/webapp/backend/data/interim/RawMotionMeasurements/v0\n",
      "Saved motion analysis results to /home/ben/projects/SaoPauloBrazilChapter_BrazilianSignLanguage/webapp/backend/data/interim/RawMotionMeasurements/v0\n",
      "/home/ben/projects/SaoPauloBrazilChapter_BrazilianSignLanguage/webapp/backend/data/interim/RawCleanVideos/cebola_vl_4.mp4\n",
      "{'filename': 'cebola_vl_4.mp4', 'frame_count': 209, 'fps': 29.97, 'width': 1920, 'height': 1080, 'duration_sec': 6.973640306973641}\n",
      "No pose estimation results found for cebola_vl_4.mp4 in v0\n",
      "Running pose estimation on /home/ben/projects/SaoPauloBrazilChapter_BrazilianSignLanguage/webapp/backend/data/interim/RawCleanVideos/cebola_vl_4.mp4\n"
     ]
    },
    {
     "name": "stderr",
     "output_type": "stream",
     "text": [
      "W0000 00:00:1749557829.330738   16596 inference_feedback_manager.cc:114] Feedback manager requires a model with a single signature inference. Disabling support for feedback tensors.\n",
      "W0000 00:00:1749557829.363993   16596 inference_feedback_manager.cc:114] Feedback manager requires a model with a single signature inference. Disabling support for feedback tensors.\n",
      "W0000 00:00:1749557829.367763   16600 inference_feedback_manager.cc:114] Feedback manager requires a model with a single signature inference. Disabling support for feedback tensors.\n",
      "W0000 00:00:1749557829.367768   16599 inference_feedback_manager.cc:114] Feedback manager requires a model with a single signature inference. Disabling support for feedback tensors.\n",
      "W0000 00:00:1749557829.368164   16594 inference_feedback_manager.cc:114] Feedback manager requires a model with a single signature inference. Disabling support for feedback tensors.\n",
      "W0000 00:00:1749557829.396555   16600 inference_feedback_manager.cc:114] Feedback manager requires a model with a single signature inference. Disabling support for feedback tensors.\n",
      "W0000 00:00:1749557829.403216   16599 inference_feedback_manager.cc:114] Feedback manager requires a model with a single signature inference. Disabling support for feedback tensors.\n",
      "W0000 00:00:1749557829.403311   16594 inference_feedback_manager.cc:114] Feedback manager requires a model with a single signature inference. Disabling support for feedback tensors.\n"
     ]
    },
    {
     "name": "stdout",
     "output_type": "stream",
     "text": [
      "Saved pose estimation results to /home/ben/projects/SaoPauloBrazilChapter_BrazilianSignLanguage/webapp/backend/data/interim/RawPoseLandmarks/v0\n"
     ]
    },
    {
     "name": "stderr",
     "output_type": "stream",
     "text": [
      "W0000 00:00:1749557842.855573   16656 inference_feedback_manager.cc:114] Feedback manager requires a model with a single signature inference. Disabling support for feedback tensors.\n",
      "W0000 00:00:1749557842.954943   16657 inference_feedback_manager.cc:114] Feedback manager requires a model with a single signature inference. Disabling support for feedback tensors.\n",
      "W0000 00:00:1749557842.960218   16655 inference_feedback_manager.cc:114] Feedback manager requires a model with a single signature inference. Disabling support for feedback tensors.\n",
      "W0000 00:00:1749557842.960650   16653 inference_feedback_manager.cc:114] Feedback manager requires a model with a single signature inference. Disabling support for feedback tensors.\n",
      "W0000 00:00:1749557842.960674   16660 inference_feedback_manager.cc:114] Feedback manager requires a model with a single signature inference. Disabling support for feedback tensors.\n",
      "W0000 00:00:1749557842.994375   16660 inference_feedback_manager.cc:114] Feedback manager requires a model with a single signature inference. Disabling support for feedback tensors.\n",
      "W0000 00:00:1749557843.023455   16659 inference_feedback_manager.cc:114] Feedback manager requires a model with a single signature inference. Disabling support for feedback tensors.\n",
      "W0000 00:00:1749557843.029355   16655 inference_feedback_manager.cc:114] Feedback manager requires a model with a single signature inference. Disabling support for feedback tensors.\n"
     ]
    },
    {
     "name": "stdout",
     "output_type": "stream",
     "text": [
      "Saved motion detection results to /home/ben/projects/SaoPauloBrazilChapter_BrazilianSignLanguage/webapp/backend/data/interim/RawMotionMeasurements/v0\n",
      "Saved motion analysis results to /home/ben/projects/SaoPauloBrazilChapter_BrazilianSignLanguage/webapp/backend/data/interim/RawMotionMeasurements/v0\n",
      "/home/ben/projects/SaoPauloBrazilChapter_BrazilianSignLanguage/webapp/backend/data/interim/RawCleanVideos/cebola_vl_5.mp4\n",
      "{'filename': 'cebola_vl_5.mp4', 'frame_count': 265, 'fps': 29.97002997002997, 'width': 1920, 'height': 1080, 'duration_sec': 8.842166666666667}\n",
      "No pose estimation results found for cebola_vl_5.mp4 in v0\n",
      "Running pose estimation on /home/ben/projects/SaoPauloBrazilChapter_BrazilianSignLanguage/webapp/backend/data/interim/RawCleanVideos/cebola_vl_5.mp4\n"
     ]
    },
    {
     "name": "stderr",
     "output_type": "stream",
     "text": [
      "W0000 00:00:1749557848.856552   16689 inference_feedback_manager.cc:114] Feedback manager requires a model with a single signature inference. Disabling support for feedback tensors.\n",
      "W0000 00:00:1749557848.883309   16689 inference_feedback_manager.cc:114] Feedback manager requires a model with a single signature inference. Disabling support for feedback tensors.\n",
      "W0000 00:00:1749557848.889014   16692 inference_feedback_manager.cc:114] Feedback manager requires a model with a single signature inference. Disabling support for feedback tensors.\n",
      "W0000 00:00:1749557848.889227   16688 inference_feedback_manager.cc:114] Feedback manager requires a model with a single signature inference. Disabling support for feedback tensors.\n",
      "W0000 00:00:1749557848.889534   16693 inference_feedback_manager.cc:114] Feedback manager requires a model with a single signature inference. Disabling support for feedback tensors.\n",
      "W0000 00:00:1749557848.929266   16693 inference_feedback_manager.cc:114] Feedback manager requires a model with a single signature inference. Disabling support for feedback tensors.\n",
      "W0000 00:00:1749557848.934171   16692 inference_feedback_manager.cc:114] Feedback manager requires a model with a single signature inference. Disabling support for feedback tensors.\n",
      "W0000 00:00:1749557848.945685   16688 inference_feedback_manager.cc:114] Feedback manager requires a model with a single signature inference. Disabling support for feedback tensors.\n"
     ]
    },
    {
     "name": "stdout",
     "output_type": "stream",
     "text": [
      "Saved pose estimation results to /home/ben/projects/SaoPauloBrazilChapter_BrazilianSignLanguage/webapp/backend/data/interim/RawPoseLandmarks/v0\n"
     ]
    },
    {
     "name": "stderr",
     "output_type": "stream",
     "text": [
      "W0000 00:00:1749557860.605936   16742 inference_feedback_manager.cc:114] Feedback manager requires a model with a single signature inference. Disabling support for feedback tensors.\n",
      "W0000 00:00:1749557860.632521   16742 inference_feedback_manager.cc:114] Feedback manager requires a model with a single signature inference. Disabling support for feedback tensors.\n",
      "W0000 00:00:1749557860.634578   16744 inference_feedback_manager.cc:114] Feedback manager requires a model with a single signature inference. Disabling support for feedback tensors.\n",
      "W0000 00:00:1749557860.635157   16742 inference_feedback_manager.cc:114] Feedback manager requires a model with a single signature inference. Disabling support for feedback tensors.\n",
      "W0000 00:00:1749557860.635597   16741 inference_feedback_manager.cc:114] Feedback manager requires a model with a single signature inference. Disabling support for feedback tensors.\n",
      "W0000 00:00:1749557860.647438   16742 inference_feedback_manager.cc:114] Feedback manager requires a model with a single signature inference. Disabling support for feedback tensors.\n",
      "W0000 00:00:1749557860.652917   16744 inference_feedback_manager.cc:114] Feedback manager requires a model with a single signature inference. Disabling support for feedback tensors.\n",
      "W0000 00:00:1749557860.656504   16743 inference_feedback_manager.cc:114] Feedback manager requires a model with a single signature inference. Disabling support for feedback tensors.\n"
     ]
    },
    {
     "name": "stdout",
     "output_type": "stream",
     "text": [
      "Saved motion detection results to /home/ben/projects/SaoPauloBrazilChapter_BrazilianSignLanguage/webapp/backend/data/interim/RawMotionMeasurements/v0\n",
      "Saved motion analysis results to /home/ben/projects/SaoPauloBrazilChapter_BrazilianSignLanguage/webapp/backend/data/interim/RawMotionMeasurements/v0\n",
      "/home/ben/projects/SaoPauloBrazilChapter_BrazilianSignLanguage/webapp/backend/data/interim/RawCleanVideos/cebola_vl_6.mp4\n",
      "{'filename': 'cebola_vl_6.mp4', 'frame_count': 276, 'fps': 29.97002997002997, 'width': 1920, 'height': 1080, 'duration_sec': 9.209200000000001}\n",
      "No pose estimation results found for cebola_vl_6.mp4 in v0\n",
      "Running pose estimation on /home/ben/projects/SaoPauloBrazilChapter_BrazilianSignLanguage/webapp/backend/data/interim/RawCleanVideos/cebola_vl_6.mp4\n"
     ]
    },
    {
     "name": "stderr",
     "output_type": "stream",
     "text": [
      "W0000 00:00:1749557865.646552   16771 inference_feedback_manager.cc:114] Feedback manager requires a model with a single signature inference. Disabling support for feedback tensors.\n",
      "W0000 00:00:1749557865.776818   16775 inference_feedback_manager.cc:114] Feedback manager requires a model with a single signature inference. Disabling support for feedback tensors.\n",
      "W0000 00:00:1749557865.780792   16770 inference_feedback_manager.cc:114] Feedback manager requires a model with a single signature inference. Disabling support for feedback tensors.\n",
      "W0000 00:00:1749557865.780932   16773 inference_feedback_manager.cc:114] Feedback manager requires a model with a single signature inference. Disabling support for feedback tensors.\n",
      "W0000 00:00:1749557865.781077   16774 inference_feedback_manager.cc:114] Feedback manager requires a model with a single signature inference. Disabling support for feedback tensors.\n",
      "W0000 00:00:1749557865.821352   16774 inference_feedback_manager.cc:114] Feedback manager requires a model with a single signature inference. Disabling support for feedback tensors.\n",
      "W0000 00:00:1749557865.826995   16773 inference_feedback_manager.cc:114] Feedback manager requires a model with a single signature inference. Disabling support for feedback tensors.\n",
      "W0000 00:00:1749557865.830529   16770 inference_feedback_manager.cc:114] Feedback manager requires a model with a single signature inference. Disabling support for feedback tensors.\n"
     ]
    },
    {
     "name": "stdout",
     "output_type": "stream",
     "text": [
      "Saved pose estimation results to /home/ben/projects/SaoPauloBrazilChapter_BrazilianSignLanguage/webapp/backend/data/interim/RawPoseLandmarks/v0\n"
     ]
    },
    {
     "name": "stderr",
     "output_type": "stream",
     "text": [
      "W0000 00:00:1749557883.088941   16840 inference_feedback_manager.cc:114] Feedback manager requires a model with a single signature inference. Disabling support for feedback tensors.\n",
      "W0000 00:00:1749557883.116005   16840 inference_feedback_manager.cc:114] Feedback manager requires a model with a single signature inference. Disabling support for feedback tensors.\n",
      "W0000 00:00:1749557883.118579   16842 inference_feedback_manager.cc:114] Feedback manager requires a model with a single signature inference. Disabling support for feedback tensors.\n",
      "W0000 00:00:1749557883.118729   16839 inference_feedback_manager.cc:114] Feedback manager requires a model with a single signature inference. Disabling support for feedback tensors.\n",
      "W0000 00:00:1749557883.118838   16845 inference_feedback_manager.cc:114] Feedback manager requires a model with a single signature inference. Disabling support for feedback tensors.\n",
      "W0000 00:00:1749557883.139418   16839 inference_feedback_manager.cc:114] Feedback manager requires a model with a single signature inference. Disabling support for feedback tensors.\n",
      "W0000 00:00:1749557883.140931   16845 inference_feedback_manager.cc:114] Feedback manager requires a model with a single signature inference. Disabling support for feedback tensors.\n",
      "W0000 00:00:1749557883.143432   16842 inference_feedback_manager.cc:114] Feedback manager requires a model with a single signature inference. Disabling support for feedback tensors.\n"
     ]
    },
    {
     "name": "stdout",
     "output_type": "stream",
     "text": [
      "Saved motion detection results to /home/ben/projects/SaoPauloBrazilChapter_BrazilianSignLanguage/webapp/backend/data/interim/RawMotionMeasurements/v0\n",
      "Saved motion analysis results to /home/ben/projects/SaoPauloBrazilChapter_BrazilianSignLanguage/webapp/backend/data/interim/RawMotionMeasurements/v0\n",
      "/home/ben/projects/SaoPauloBrazilChapter_BrazilianSignLanguage/webapp/backend/data/interim/RawCleanVideos/comer_ne_1.mp4\n",
      "{'filename': 'comer_ne_1.mp4', 'frame_count': 51, 'fps': 12.0, 'width': 240, 'height': 176, 'duration_sec': 4.25}\n",
      "No pose estimation results found for comer_ne_1.mp4 in v0\n",
      "Running pose estimation on /home/ben/projects/SaoPauloBrazilChapter_BrazilianSignLanguage/webapp/backend/data/interim/RawCleanVideos/comer_ne_1.mp4\n"
     ]
    },
    {
     "name": "stderr",
     "output_type": "stream",
     "text": [
      "W0000 00:00:1749557887.205156   16868 inference_feedback_manager.cc:114] Feedback manager requires a model with a single signature inference. Disabling support for feedback tensors.\n",
      "W0000 00:00:1749557887.232507   16868 inference_feedback_manager.cc:114] Feedback manager requires a model with a single signature inference. Disabling support for feedback tensors.\n",
      "W0000 00:00:1749557887.235443   16870 inference_feedback_manager.cc:114] Feedback manager requires a model with a single signature inference. Disabling support for feedback tensors.\n",
      "W0000 00:00:1749557887.236683   16874 inference_feedback_manager.cc:114] Feedback manager requires a model with a single signature inference. Disabling support for feedback tensors.\n",
      "W0000 00:00:1749557887.238492   16868 inference_feedback_manager.cc:114] Feedback manager requires a model with a single signature inference. Disabling support for feedback tensors.\n",
      "W0000 00:00:1749557887.269162   16874 inference_feedback_manager.cc:114] Feedback manager requires a model with a single signature inference. Disabling support for feedback tensors.\n",
      "W0000 00:00:1749557887.272344   16870 inference_feedback_manager.cc:114] Feedback manager requires a model with a single signature inference. Disabling support for feedback tensors.\n",
      "W0000 00:00:1749557887.275072   16868 inference_feedback_manager.cc:114] Feedback manager requires a model with a single signature inference. Disabling support for feedback tensors.\n"
     ]
    },
    {
     "name": "stdout",
     "output_type": "stream",
     "text": [
      "Saved pose estimation results to /home/ben/projects/SaoPauloBrazilChapter_BrazilianSignLanguage/webapp/backend/data/interim/RawPoseLandmarks/v0\n",
      "Saved motion detection results to /home/ben/projects/SaoPauloBrazilChapter_BrazilianSignLanguage/webapp/backend/data/interim/RawMotionMeasurements/v0\n",
      "Saved motion analysis results to /home/ben/projects/SaoPauloBrazilChapter_BrazilianSignLanguage/webapp/backend/data/interim/RawMotionMeasurements/v0\n"
     ]
    },
    {
     "name": "stderr",
     "output_type": "stream",
     "text": [
      "W0000 00:00:1749557889.725051   16891 inference_feedback_manager.cc:114] Feedback manager requires a model with a single signature inference. Disabling support for feedback tensors.\n",
      "W0000 00:00:1749557889.749506   16891 inference_feedback_manager.cc:114] Feedback manager requires a model with a single signature inference. Disabling support for feedback tensors.\n",
      "W0000 00:00:1749557889.752075   16893 inference_feedback_manager.cc:114] Feedback manager requires a model with a single signature inference. Disabling support for feedback tensors.\n",
      "W0000 00:00:1749557889.752247   16895 inference_feedback_manager.cc:114] Feedback manager requires a model with a single signature inference. Disabling support for feedback tensors.\n",
      "W0000 00:00:1749557889.752874   16892 inference_feedback_manager.cc:114] Feedback manager requires a model with a single signature inference. Disabling support for feedback tensors.\n",
      "W0000 00:00:1749557889.765604   16893 inference_feedback_manager.cc:114] Feedback manager requires a model with a single signature inference. Disabling support for feedback tensors.\n",
      "W0000 00:00:1749557889.778051   16895 inference_feedback_manager.cc:114] Feedback manager requires a model with a single signature inference. Disabling support for feedback tensors.\n",
      "W0000 00:00:1749557889.779345   16892 inference_feedback_manager.cc:114] Feedback manager requires a model with a single signature inference. Disabling support for feedback tensors.\n"
     ]
    },
    {
     "name": "stdout",
     "output_type": "stream",
     "text": [
      "/home/ben/projects/SaoPauloBrazilChapter_BrazilianSignLanguage/webapp/backend/data/interim/RawCleanVideos/comer_sb_2.mp4\n",
      "{'filename': 'comer_sb_2.mp4', 'frame_count': 74, 'fps': 29.97002997002997, 'width': 1280, 'height': 720, 'duration_sec': 2.469133333333333}\n",
      "No pose estimation results found for comer_sb_2.mp4 in v0\n",
      "Running pose estimation on /home/ben/projects/SaoPauloBrazilChapter_BrazilianSignLanguage/webapp/backend/data/interim/RawCleanVideos/comer_sb_2.mp4\n"
     ]
    },
    {
     "name": "stderr",
     "output_type": "stream",
     "text": [
      "W0000 00:00:1749557890.894031   16907 inference_feedback_manager.cc:114] Feedback manager requires a model with a single signature inference. Disabling support for feedback tensors.\n",
      "W0000 00:00:1749557890.942218   16912 inference_feedback_manager.cc:114] Feedback manager requires a model with a single signature inference. Disabling support for feedback tensors.\n",
      "W0000 00:00:1749557890.947455   16909 inference_feedback_manager.cc:114] Feedback manager requires a model with a single signature inference. Disabling support for feedback tensors.\n",
      "W0000 00:00:1749557890.948152   16908 inference_feedback_manager.cc:114] Feedback manager requires a model with a single signature inference. Disabling support for feedback tensors.\n",
      "W0000 00:00:1749557890.948490   16912 inference_feedback_manager.cc:114] Feedback manager requires a model with a single signature inference. Disabling support for feedback tensors.\n",
      "W0000 00:00:1749557890.990093   16912 inference_feedback_manager.cc:114] Feedback manager requires a model with a single signature inference. Disabling support for feedback tensors.\n",
      "W0000 00:00:1749557890.995798   16908 inference_feedback_manager.cc:114] Feedback manager requires a model with a single signature inference. Disabling support for feedback tensors.\n",
      "W0000 00:00:1749557891.005556   16909 inference_feedback_manager.cc:114] Feedback manager requires a model with a single signature inference. Disabling support for feedback tensors.\n"
     ]
    },
    {
     "name": "stdout",
     "output_type": "stream",
     "text": [
      "Saved pose estimation results to /home/ben/projects/SaoPauloBrazilChapter_BrazilianSignLanguage/webapp/backend/data/interim/RawPoseLandmarks/v0\n",
      "Saved motion detection results to /home/ben/projects/SaoPauloBrazilChapter_BrazilianSignLanguage/webapp/backend/data/interim/RawMotionMeasurements/v0\n",
      "Saved motion analysis results to /home/ben/projects/SaoPauloBrazilChapter_BrazilianSignLanguage/webapp/backend/data/interim/RawMotionMeasurements/v0\n"
     ]
    },
    {
     "name": "stderr",
     "output_type": "stream",
     "text": [
      "W0000 00:00:1749557893.034946   16935 inference_feedback_manager.cc:114] Feedback manager requires a model with a single signature inference. Disabling support for feedback tensors.\n",
      "W0000 00:00:1749557893.054378   16935 inference_feedback_manager.cc:114] Feedback manager requires a model with a single signature inference. Disabling support for feedback tensors.\n",
      "W0000 00:00:1749557893.056416   16935 inference_feedback_manager.cc:114] Feedback manager requires a model with a single signature inference. Disabling support for feedback tensors.\n",
      "W0000 00:00:1749557893.056980   16940 inference_feedback_manager.cc:114] Feedback manager requires a model with a single signature inference. Disabling support for feedback tensors.\n",
      "W0000 00:00:1749557893.058036   16934 inference_feedback_manager.cc:114] Feedback manager requires a model with a single signature inference. Disabling support for feedback tensors.\n",
      "W0000 00:00:1749557893.071099   16935 inference_feedback_manager.cc:114] Feedback manager requires a model with a single signature inference. Disabling support for feedback tensors.\n",
      "W0000 00:00:1749557893.074768   16937 inference_feedback_manager.cc:114] Feedback manager requires a model with a single signature inference. Disabling support for feedback tensors.\n",
      "W0000 00:00:1749557893.076091   16934 inference_feedback_manager.cc:114] Feedback manager requires a model with a single signature inference. Disabling support for feedback tensors.\n"
     ]
    },
    {
     "name": "stdout",
     "output_type": "stream",
     "text": [
      "/home/ben/projects/SaoPauloBrazilChapter_BrazilianSignLanguage/webapp/backend/data/interim/RawCleanVideos/comer_uf_3.mp4\n",
      "{'filename': 'comer_uf_3.mp4', 'frame_count': 108, 'fps': 29.97002997002997, 'width': 480, 'height': 270, 'duration_sec': 3.6036}\n",
      "Loaded pose estimation results from v0\n",
      "Saved motion detection results to /home/ben/projects/SaoPauloBrazilChapter_BrazilianSignLanguage/webapp/backend/data/interim/RawMotionMeasurements/v0\n",
      "Saved motion analysis results to /home/ben/projects/SaoPauloBrazilChapter_BrazilianSignLanguage/webapp/backend/data/interim/RawMotionMeasurements/v0\n"
     ]
    },
    {
     "name": "stderr",
     "output_type": "stream",
     "text": [
      "W0000 00:00:1749557894.729604   16957 inference_feedback_manager.cc:114] Feedback manager requires a model with a single signature inference. Disabling support for feedback tensors.\n",
      "W0000 00:00:1749557894.749831   16957 inference_feedback_manager.cc:114] Feedback manager requires a model with a single signature inference. Disabling support for feedback tensors.\n",
      "W0000 00:00:1749557894.752134   16956 inference_feedback_manager.cc:114] Feedback manager requires a model with a single signature inference. Disabling support for feedback tensors.\n",
      "W0000 00:00:1749557894.752916   16955 inference_feedback_manager.cc:114] Feedback manager requires a model with a single signature inference. Disabling support for feedback tensors.\n",
      "W0000 00:00:1749557894.753593   16959 inference_feedback_manager.cc:114] Feedback manager requires a model with a single signature inference. Disabling support for feedback tensors.\n",
      "W0000 00:00:1749557894.774950   16955 inference_feedback_manager.cc:114] Feedback manager requires a model with a single signature inference. Disabling support for feedback tensors.\n",
      "W0000 00:00:1749557894.776860   16959 inference_feedback_manager.cc:114] Feedback manager requires a model with a single signature inference. Disabling support for feedback tensors.\n",
      "W0000 00:00:1749557894.778669   16956 inference_feedback_manager.cc:114] Feedback manager requires a model with a single signature inference. Disabling support for feedback tensors.\n",
      "/home/ben/projects/SaoPauloBrazilChapter_BrazilianSignLanguage/code/preprocess/preprocessor.py:1269: FutureWarning: Setting an item of incompatible dtype is deprecated and will raise an error in a future version of pandas. Value '' has dtype incompatible with float64, please explicitly cast to a compatible dtype first.\n",
      "  df.loc[idx, col] = new_df.iloc[0][col]\n"
     ]
    },
    {
     "name": "stdout",
     "output_type": "stream",
     "text": [
      "/home/ben/projects/SaoPauloBrazilChapter_BrazilianSignLanguage/webapp/backend/data/interim/RawCleanVideos/comer_vl_4.mp4\n",
      "{'filename': 'comer_vl_4.mp4', 'frame_count': 164, 'fps': 29.97002997002997, 'width': 1920, 'height': 1080, 'duration_sec': 5.472133333333334}\n",
      "No pose estimation results found for comer_vl_4.mp4 in v0\n",
      "Running pose estimation on /home/ben/projects/SaoPauloBrazilChapter_BrazilianSignLanguage/webapp/backend/data/interim/RawCleanVideos/comer_vl_4.mp4\n"
     ]
    },
    {
     "name": "stderr",
     "output_type": "stream",
     "text": [
      "W0000 00:00:1749557896.569772   16979 inference_feedback_manager.cc:114] Feedback manager requires a model with a single signature inference. Disabling support for feedback tensors.\n",
      "W0000 00:00:1749557896.619432   16979 inference_feedback_manager.cc:114] Feedback manager requires a model with a single signature inference. Disabling support for feedback tensors.\n",
      "W0000 00:00:1749557896.623614   16982 inference_feedback_manager.cc:114] Feedback manager requires a model with a single signature inference. Disabling support for feedback tensors.\n",
      "W0000 00:00:1749557896.623859   16984 inference_feedback_manager.cc:114] Feedback manager requires a model with a single signature inference. Disabling support for feedback tensors.\n",
      "W0000 00:00:1749557896.624073   16980 inference_feedback_manager.cc:114] Feedback manager requires a model with a single signature inference. Disabling support for feedback tensors.\n",
      "W0000 00:00:1749557896.651742   16982 inference_feedback_manager.cc:114] Feedback manager requires a model with a single signature inference. Disabling support for feedback tensors.\n",
      "W0000 00:00:1749557896.661725   16980 inference_feedback_manager.cc:114] Feedback manager requires a model with a single signature inference. Disabling support for feedback tensors.\n",
      "W0000 00:00:1749557896.664113   16984 inference_feedback_manager.cc:114] Feedback manager requires a model with a single signature inference. Disabling support for feedback tensors.\n"
     ]
    },
    {
     "name": "stdout",
     "output_type": "stream",
     "text": [
      "Saved pose estimation results to /home/ben/projects/SaoPauloBrazilChapter_BrazilianSignLanguage/webapp/backend/data/interim/RawPoseLandmarks/v0\n"
     ]
    },
    {
     "name": "stderr",
     "output_type": "stream",
     "text": [
      "W0000 00:00:1749557905.033505   17019 inference_feedback_manager.cc:114] Feedback manager requires a model with a single signature inference. Disabling support for feedback tensors.\n",
      "W0000 00:00:1749557905.054484   17019 inference_feedback_manager.cc:114] Feedback manager requires a model with a single signature inference. Disabling support for feedback tensors.\n",
      "W0000 00:00:1749557905.057280   17021 inference_feedback_manager.cc:114] Feedback manager requires a model with a single signature inference. Disabling support for feedback tensors.\n",
      "W0000 00:00:1749557905.057322   17020 inference_feedback_manager.cc:114] Feedback manager requires a model with a single signature inference. Disabling support for feedback tensors.\n",
      "W0000 00:00:1749557905.058334   17019 inference_feedback_manager.cc:114] Feedback manager requires a model with a single signature inference. Disabling support for feedback tensors.\n",
      "W0000 00:00:1749557905.071887   17021 inference_feedback_manager.cc:114] Feedback manager requires a model with a single signature inference. Disabling support for feedback tensors.\n",
      "W0000 00:00:1749557905.074483   17019 inference_feedback_manager.cc:114] Feedback manager requires a model with a single signature inference. Disabling support for feedback tensors.\n",
      "W0000 00:00:1749557905.083005   17020 inference_feedback_manager.cc:114] Feedback manager requires a model with a single signature inference. Disabling support for feedback tensors.\n"
     ]
    },
    {
     "name": "stdout",
     "output_type": "stream",
     "text": [
      "Saved motion detection results to /home/ben/projects/SaoPauloBrazilChapter_BrazilianSignLanguage/webapp/backend/data/interim/RawMotionMeasurements/v0\n",
      "Saved motion analysis results to /home/ben/projects/SaoPauloBrazilChapter_BrazilianSignLanguage/webapp/backend/data/interim/RawMotionMeasurements/v0\n",
      "/home/ben/projects/SaoPauloBrazilChapter_BrazilianSignLanguage/webapp/backend/data/interim/RawCleanVideos/comer_vl_5.mp4\n",
      "{'filename': 'comer_vl_5.mp4', 'frame_count': 104, 'fps': 29.97002997002997, 'width': 1920, 'height': 1080, 'duration_sec': 3.4701333333333335}\n",
      "No pose estimation results found for comer_vl_5.mp4 in v0\n",
      "Running pose estimation on /home/ben/projects/SaoPauloBrazilChapter_BrazilianSignLanguage/webapp/backend/data/interim/RawCleanVideos/comer_vl_5.mp4\n"
     ]
    },
    {
     "name": "stderr",
     "output_type": "stream",
     "text": [
      "W0000 00:00:1749557908.375970   17044 inference_feedback_manager.cc:114] Feedback manager requires a model with a single signature inference. Disabling support for feedback tensors.\n",
      "W0000 00:00:1749557908.415359   17044 inference_feedback_manager.cc:114] Feedback manager requires a model with a single signature inference. Disabling support for feedback tensors.\n",
      "W0000 00:00:1749557908.418166   17043 inference_feedback_manager.cc:114] Feedback manager requires a model with a single signature inference. Disabling support for feedback tensors.\n",
      "W0000 00:00:1749557908.418167   17047 inference_feedback_manager.cc:114] Feedback manager requires a model with a single signature inference. Disabling support for feedback tensors.\n",
      "W0000 00:00:1749557908.420185   17045 inference_feedback_manager.cc:114] Feedback manager requires a model with a single signature inference. Disabling support for feedback tensors.\n",
      "W0000 00:00:1749557908.446828   17043 inference_feedback_manager.cc:114] Feedback manager requires a model with a single signature inference. Disabling support for feedback tensors.\n",
      "W0000 00:00:1749557908.449215   17045 inference_feedback_manager.cc:114] Feedback manager requires a model with a single signature inference. Disabling support for feedback tensors.\n",
      "W0000 00:00:1749557908.453388   17047 inference_feedback_manager.cc:114] Feedback manager requires a model with a single signature inference. Disabling support for feedback tensors.\n"
     ]
    },
    {
     "name": "stdout",
     "output_type": "stream",
     "text": [
      "Saved pose estimation results to /home/ben/projects/SaoPauloBrazilChapter_BrazilianSignLanguage/webapp/backend/data/interim/RawPoseLandmarks/v0\n"
     ]
    },
    {
     "name": "stderr",
     "output_type": "stream",
     "text": [
      "W0000 00:00:1749557913.741807   17075 inference_feedback_manager.cc:114] Feedback manager requires a model with a single signature inference. Disabling support for feedback tensors.\n",
      "W0000 00:00:1749557913.775310   17075 inference_feedback_manager.cc:114] Feedback manager requires a model with a single signature inference. Disabling support for feedback tensors.\n",
      "W0000 00:00:1749557913.778944   17077 inference_feedback_manager.cc:114] Feedback manager requires a model with a single signature inference. Disabling support for feedback tensors.\n",
      "W0000 00:00:1749557913.780465   17076 inference_feedback_manager.cc:114] Feedback manager requires a model with a single signature inference. Disabling support for feedback tensors.\n",
      "W0000 00:00:1749557913.781192   17074 inference_feedback_manager.cc:114] Feedback manager requires a model with a single signature inference. Disabling support for feedback tensors.\n",
      "W0000 00:00:1749557913.804388   17076 inference_feedback_manager.cc:114] Feedback manager requires a model with a single signature inference. Disabling support for feedback tensors.\n",
      "W0000 00:00:1749557913.810364   17077 inference_feedback_manager.cc:114] Feedback manager requires a model with a single signature inference. Disabling support for feedback tensors.\n",
      "W0000 00:00:1749557913.815463   17074 inference_feedback_manager.cc:114] Feedback manager requires a model with a single signature inference. Disabling support for feedback tensors.\n"
     ]
    },
    {
     "name": "stdout",
     "output_type": "stream",
     "text": [
      "Saved motion detection results to /home/ben/projects/SaoPauloBrazilChapter_BrazilianSignLanguage/webapp/backend/data/interim/RawMotionMeasurements/v0\n",
      "Saved motion analysis results to /home/ben/projects/SaoPauloBrazilChapter_BrazilianSignLanguage/webapp/backend/data/interim/RawMotionMeasurements/v0\n",
      "/home/ben/projects/SaoPauloBrazilChapter_BrazilianSignLanguage/webapp/backend/data/interim/RawCleanVideos/comer_vl_6.mp4\n",
      "{'filename': 'comer_vl_6.mp4', 'frame_count': 249, 'fps': 59.94005994005994, 'width': 1920, 'height': 1080, 'duration_sec': 4.1541500000000005}\n",
      "No pose estimation results found for comer_vl_6.mp4 in v0\n",
      "Running pose estimation on /home/ben/projects/SaoPauloBrazilChapter_BrazilianSignLanguage/webapp/backend/data/interim/RawCleanVideos/comer_vl_6.mp4\n"
     ]
    },
    {
     "name": "stderr",
     "output_type": "stream",
     "text": [
      "W0000 00:00:1749557916.112669   17098 inference_feedback_manager.cc:114] Feedback manager requires a model with a single signature inference. Disabling support for feedback tensors.\n",
      "W0000 00:00:1749557916.149199   17095 inference_feedback_manager.cc:114] Feedback manager requires a model with a single signature inference. Disabling support for feedback tensors.\n",
      "W0000 00:00:1749557916.153534   17096 inference_feedback_manager.cc:114] Feedback manager requires a model with a single signature inference. Disabling support for feedback tensors.\n",
      "W0000 00:00:1749557916.154171   17101 inference_feedback_manager.cc:114] Feedback manager requires a model with a single signature inference. Disabling support for feedback tensors.\n",
      "W0000 00:00:1749557916.154665   17102 inference_feedback_manager.cc:114] Feedback manager requires a model with a single signature inference. Disabling support for feedback tensors.\n",
      "W0000 00:00:1749557916.186556   17097 inference_feedback_manager.cc:114] Feedback manager requires a model with a single signature inference. Disabling support for feedback tensors.\n",
      "W0000 00:00:1749557916.188026   17100 inference_feedback_manager.cc:114] Feedback manager requires a model with a single signature inference. Disabling support for feedback tensors.\n",
      "W0000 00:00:1749557916.190141   17096 inference_feedback_manager.cc:114] Feedback manager requires a model with a single signature inference. Disabling support for feedback tensors.\n"
     ]
    },
    {
     "name": "stdout",
     "output_type": "stream",
     "text": [
      "Saved pose estimation results to /home/ben/projects/SaoPauloBrazilChapter_BrazilianSignLanguage/webapp/backend/data/interim/RawPoseLandmarks/v0\n"
     ]
    },
    {
     "name": "stderr",
     "output_type": "stream",
     "text": [
      "W0000 00:00:1749557927.045007   17147 inference_feedback_manager.cc:114] Feedback manager requires a model with a single signature inference. Disabling support for feedback tensors.\n",
      "W0000 00:00:1749557927.075693   17147 inference_feedback_manager.cc:114] Feedback manager requires a model with a single signature inference. Disabling support for feedback tensors.\n",
      "W0000 00:00:1749557927.078771   17149 inference_feedback_manager.cc:114] Feedback manager requires a model with a single signature inference. Disabling support for feedback tensors.\n",
      "W0000 00:00:1749557927.079500   17152 inference_feedback_manager.cc:114] Feedback manager requires a model with a single signature inference. Disabling support for feedback tensors.\n",
      "W0000 00:00:1749557927.079967   17154 inference_feedback_manager.cc:114] Feedback manager requires a model with a single signature inference. Disabling support for feedback tensors.\n",
      "W0000 00:00:1749557927.098030   17149 inference_feedback_manager.cc:114] Feedback manager requires a model with a single signature inference. Disabling support for feedback tensors.\n",
      "W0000 00:00:1749557927.113992   17154 inference_feedback_manager.cc:114] Feedback manager requires a model with a single signature inference. Disabling support for feedback tensors.\n",
      "W0000 00:00:1749557927.115510   17152 inference_feedback_manager.cc:114] Feedback manager requires a model with a single signature inference. Disabling support for feedback tensors.\n"
     ]
    },
    {
     "name": "stdout",
     "output_type": "stream",
     "text": [
      "Saved motion detection results to /home/ben/projects/SaoPauloBrazilChapter_BrazilianSignLanguage/webapp/backend/data/interim/RawMotionMeasurements/v0\n",
      "Saved motion analysis results to /home/ben/projects/SaoPauloBrazilChapter_BrazilianSignLanguage/webapp/backend/data/interim/RawMotionMeasurements/v0\n",
      "/home/ben/projects/SaoPauloBrazilChapter_BrazilianSignLanguage/webapp/backend/data/interim/RawCleanVideos/cortar_ne_1.mp4\n",
      "{'filename': 'cortar_ne_1.mp4', 'frame_count': 42, 'fps': 12.0, 'width': 240, 'height': 176, 'duration_sec': 3.5}\n",
      "No pose estimation results found for cortar_ne_1.mp4 in v0\n",
      "Running pose estimation on /home/ben/projects/SaoPauloBrazilChapter_BrazilianSignLanguage/webapp/backend/data/interim/RawCleanVideos/cortar_ne_1.mp4\n"
     ]
    },
    {
     "name": "stderr",
     "output_type": "stream",
     "text": [
      "W0000 00:00:1749557931.915924   17184 inference_feedback_manager.cc:114] Feedback manager requires a model with a single signature inference. Disabling support for feedback tensors.\n",
      "W0000 00:00:1749557931.962816   17184 inference_feedback_manager.cc:114] Feedback manager requires a model with a single signature inference. Disabling support for feedback tensors.\n",
      "W0000 00:00:1749557931.965853   17185 inference_feedback_manager.cc:114] Feedback manager requires a model with a single signature inference. Disabling support for feedback tensors.\n",
      "W0000 00:00:1749557931.966603   17182 inference_feedback_manager.cc:114] Feedback manager requires a model with a single signature inference. Disabling support for feedback tensors.\n",
      "W0000 00:00:1749557931.967274   17186 inference_feedback_manager.cc:114] Feedback manager requires a model with a single signature inference. Disabling support for feedback tensors.\n",
      "W0000 00:00:1749557931.996002   17186 inference_feedback_manager.cc:114] Feedback manager requires a model with a single signature inference. Disabling support for feedback tensors.\n",
      "W0000 00:00:1749557932.001008   17185 inference_feedback_manager.cc:114] Feedback manager requires a model with a single signature inference. Disabling support for feedback tensors.\n",
      "W0000 00:00:1749557932.003654   17182 inference_feedback_manager.cc:114] Feedback manager requires a model with a single signature inference. Disabling support for feedback tensors.\n"
     ]
    },
    {
     "name": "stdout",
     "output_type": "stream",
     "text": [
      "Saved pose estimation results to /home/ben/projects/SaoPauloBrazilChapter_BrazilianSignLanguage/webapp/backend/data/interim/RawPoseLandmarks/v0\n",
      "Saved motion detection results to /home/ben/projects/SaoPauloBrazilChapter_BrazilianSignLanguage/webapp/backend/data/interim/RawMotionMeasurements/v0\n",
      "Saved motion analysis results to /home/ben/projects/SaoPauloBrazilChapter_BrazilianSignLanguage/webapp/backend/data/interim/RawMotionMeasurements/v0\n"
     ]
    },
    {
     "name": "stderr",
     "output_type": "stream",
     "text": [
      "W0000 00:00:1749557934.057836   17205 inference_feedback_manager.cc:114] Feedback manager requires a model with a single signature inference. Disabling support for feedback tensors.\n",
      "W0000 00:00:1749557934.095275   17210 inference_feedback_manager.cc:114] Feedback manager requires a model with a single signature inference. Disabling support for feedback tensors.\n",
      "W0000 00:00:1749557934.097841   17209 inference_feedback_manager.cc:114] Feedback manager requires a model with a single signature inference. Disabling support for feedback tensors.\n",
      "W0000 00:00:1749557934.097960   17203 inference_feedback_manager.cc:114] Feedback manager requires a model with a single signature inference. Disabling support for feedback tensors.\n",
      "W0000 00:00:1749557934.098267   17206 inference_feedback_manager.cc:114] Feedback manager requires a model with a single signature inference. Disabling support for feedback tensors.\n",
      "W0000 00:00:1749557934.114030   17206 inference_feedback_manager.cc:114] Feedback manager requires a model with a single signature inference. Disabling support for feedback tensors.\n",
      "W0000 00:00:1749557934.114135   17203 inference_feedback_manager.cc:114] Feedback manager requires a model with a single signature inference. Disabling support for feedback tensors.\n",
      "W0000 00:00:1749557934.121517   17209 inference_feedback_manager.cc:114] Feedback manager requires a model with a single signature inference. Disabling support for feedback tensors.\n"
     ]
    },
    {
     "name": "stdout",
     "output_type": "stream",
     "text": [
      "/home/ben/projects/SaoPauloBrazilChapter_BrazilianSignLanguage/webapp/backend/data/interim/RawCleanVideos/cortar_sb_2.mp4\n",
      "{'filename': 'cortar_sb_2.mp4', 'frame_count': 62, 'fps': 29.97002997002997, 'width': 1280, 'height': 720, 'duration_sec': 2.0687333333333333}\n",
      "No pose estimation results found for cortar_sb_2.mp4 in v0\n",
      "Running pose estimation on /home/ben/projects/SaoPauloBrazilChapter_BrazilianSignLanguage/webapp/backend/data/interim/RawCleanVideos/cortar_sb_2.mp4\n"
     ]
    },
    {
     "name": "stderr",
     "output_type": "stream",
     "text": [
      "W0000 00:00:1749557934.882701   17220 inference_feedback_manager.cc:114] Feedback manager requires a model with a single signature inference. Disabling support for feedback tensors.\n",
      "W0000 00:00:1749557934.927496   17220 inference_feedback_manager.cc:114] Feedback manager requires a model with a single signature inference. Disabling support for feedback tensors.\n",
      "W0000 00:00:1749557934.930109   17221 inference_feedback_manager.cc:114] Feedback manager requires a model with a single signature inference. Disabling support for feedback tensors.\n",
      "W0000 00:00:1749557934.931012   17224 inference_feedback_manager.cc:114] Feedback manager requires a model with a single signature inference. Disabling support for feedback tensors.\n",
      "W0000 00:00:1749557934.936771   17220 inference_feedback_manager.cc:114] Feedback manager requires a model with a single signature inference. Disabling support for feedback tensors.\n",
      "W0000 00:00:1749557934.947166   17221 inference_feedback_manager.cc:114] Feedback manager requires a model with a single signature inference. Disabling support for feedback tensors.\n",
      "W0000 00:00:1749557934.952184   17225 inference_feedback_manager.cc:114] Feedback manager requires a model with a single signature inference. Disabling support for feedback tensors.\n",
      "W0000 00:00:1749557934.962799   17224 inference_feedback_manager.cc:114] Feedback manager requires a model with a single signature inference. Disabling support for feedback tensors.\n"
     ]
    },
    {
     "name": "stdout",
     "output_type": "stream",
     "text": [
      "Saved pose estimation results to /home/ben/projects/SaoPauloBrazilChapter_BrazilianSignLanguage/webapp/backend/data/interim/RawPoseLandmarks/v0\n",
      "Saved motion detection results to /home/ben/projects/SaoPauloBrazilChapter_BrazilianSignLanguage/webapp/backend/data/interim/RawMotionMeasurements/v0\n"
     ]
    },
    {
     "name": "stderr",
     "output_type": "stream",
     "text": [
      "W0000 00:00:1749557938.213872   17249 inference_feedback_manager.cc:114] Feedback manager requires a model with a single signature inference. Disabling support for feedback tensors.\n",
      "W0000 00:00:1749557938.239594   17249 inference_feedback_manager.cc:114] Feedback manager requires a model with a single signature inference. Disabling support for feedback tensors.\n",
      "W0000 00:00:1749557938.242455   17247 inference_feedback_manager.cc:114] Feedback manager requires a model with a single signature inference. Disabling support for feedback tensors.\n",
      "W0000 00:00:1749557938.243101   17248 inference_feedback_manager.cc:114] Feedback manager requires a model with a single signature inference. Disabling support for feedback tensors.\n",
      "W0000 00:00:1749557938.244898   17250 inference_feedback_manager.cc:114] Feedback manager requires a model with a single signature inference. Disabling support for feedback tensors.\n",
      "W0000 00:00:1749557938.257997   17248 inference_feedback_manager.cc:114] Feedback manager requires a model with a single signature inference. Disabling support for feedback tensors.\n",
      "W0000 00:00:1749557938.261215   17247 inference_feedback_manager.cc:114] Feedback manager requires a model with a single signature inference. Disabling support for feedback tensors.\n",
      "W0000 00:00:1749557938.273131   17250 inference_feedback_manager.cc:114] Feedback manager requires a model with a single signature inference. Disabling support for feedback tensors.\n"
     ]
    },
    {
     "name": "stdout",
     "output_type": "stream",
     "text": [
      "Saved motion analysis results to /home/ben/projects/SaoPauloBrazilChapter_BrazilianSignLanguage/webapp/backend/data/interim/RawMotionMeasurements/v0\n",
      "/home/ben/projects/SaoPauloBrazilChapter_BrazilianSignLanguage/webapp/backend/data/interim/RawCleanVideos/cortar_uf_3.mp4\n",
      "{'filename': 'cortar_uf_3.mp4', 'frame_count': 133, 'fps': 29.97002997002997, 'width': 480, 'height': 270, 'duration_sec': 4.437766666666667}\n",
      "No pose estimation results found for cortar_uf_3.mp4 in v0\n",
      "Running pose estimation on /home/ben/projects/SaoPauloBrazilChapter_BrazilianSignLanguage/webapp/backend/data/interim/RawCleanVideos/cortar_uf_3.mp4\n"
     ]
    },
    {
     "name": "stderr",
     "output_type": "stream",
     "text": [
      "W0000 00:00:1749557939.774311   17265 inference_feedback_manager.cc:114] Feedback manager requires a model with a single signature inference. Disabling support for feedback tensors.\n",
      "W0000 00:00:1749557939.841162   17265 inference_feedback_manager.cc:114] Feedback manager requires a model with a single signature inference. Disabling support for feedback tensors.\n",
      "W0000 00:00:1749557939.844891   17268 inference_feedback_manager.cc:114] Feedback manager requires a model with a single signature inference. Disabling support for feedback tensors.\n",
      "W0000 00:00:1749557939.845796   17267 inference_feedback_manager.cc:114] Feedback manager requires a model with a single signature inference. Disabling support for feedback tensors.\n",
      "W0000 00:00:1749557939.845837   17270 inference_feedback_manager.cc:114] Feedback manager requires a model with a single signature inference. Disabling support for feedback tensors.\n",
      "W0000 00:00:1749557939.875928   17268 inference_feedback_manager.cc:114] Feedback manager requires a model with a single signature inference. Disabling support for feedback tensors.\n",
      "W0000 00:00:1749557939.877373   17264 inference_feedback_manager.cc:114] Feedback manager requires a model with a single signature inference. Disabling support for feedback tensors.\n",
      "W0000 00:00:1749557939.880215   17267 inference_feedback_manager.cc:114] Feedback manager requires a model with a single signature inference. Disabling support for feedback tensors.\n"
     ]
    },
    {
     "name": "stdout",
     "output_type": "stream",
     "text": [
      "Saved pose estimation results to /home/ben/projects/SaoPauloBrazilChapter_BrazilianSignLanguage/webapp/backend/data/interim/RawPoseLandmarks/v0\n"
     ]
    },
    {
     "name": "stderr",
     "output_type": "stream",
     "text": [
      "W0000 00:00:1749557945.781294   17300 inference_feedback_manager.cc:114] Feedback manager requires a model with a single signature inference. Disabling support for feedback tensors.\n",
      "W0000 00:00:1749557945.812375   17300 inference_feedback_manager.cc:114] Feedback manager requires a model with a single signature inference. Disabling support for feedback tensors.\n",
      "W0000 00:00:1749557945.815042   17297 inference_feedback_manager.cc:114] Feedback manager requires a model with a single signature inference. Disabling support for feedback tensors.\n",
      "W0000 00:00:1749557945.815108   17299 inference_feedback_manager.cc:114] Feedback manager requires a model with a single signature inference. Disabling support for feedback tensors.\n",
      "W0000 00:00:1749557945.815444   17303 inference_feedback_manager.cc:114] Feedback manager requires a model with a single signature inference. Disabling support for feedback tensors.\n",
      "W0000 00:00:1749557945.828813   17297 inference_feedback_manager.cc:114] Feedback manager requires a model with a single signature inference. Disabling support for feedback tensors.\n",
      "W0000 00:00:1749557945.838258   17303 inference_feedback_manager.cc:114] Feedback manager requires a model with a single signature inference. Disabling support for feedback tensors.\n",
      "W0000 00:00:1749557945.838923   17301 inference_feedback_manager.cc:114] Feedback manager requires a model with a single signature inference. Disabling support for feedback tensors.\n"
     ]
    },
    {
     "name": "stdout",
     "output_type": "stream",
     "text": [
      "Saved motion detection results to /home/ben/projects/SaoPauloBrazilChapter_BrazilianSignLanguage/webapp/backend/data/interim/RawMotionMeasurements/v0\n",
      "Saved motion analysis results to /home/ben/projects/SaoPauloBrazilChapter_BrazilianSignLanguage/webapp/backend/data/interim/RawMotionMeasurements/v0\n",
      "/home/ben/projects/SaoPauloBrazilChapter_BrazilianSignLanguage/webapp/backend/data/interim/RawCleanVideos/cortar_vl_4.mp4\n",
      "{'filename': 'cortar_vl_4.mp4', 'frame_count': 155, 'fps': 29.97002997002997, 'width': 1920, 'height': 1080, 'duration_sec': 5.171833333333334}\n",
      "No pose estimation results found for cortar_vl_4.mp4 in v0\n",
      "Running pose estimation on /home/ben/projects/SaoPauloBrazilChapter_BrazilianSignLanguage/webapp/backend/data/interim/RawCleanVideos/cortar_vl_4.mp4\n"
     ]
    },
    {
     "name": "stderr",
     "output_type": "stream",
     "text": [
      "W0000 00:00:1749557948.069938   17321 inference_feedback_manager.cc:114] Feedback manager requires a model with a single signature inference. Disabling support for feedback tensors.\n",
      "W0000 00:00:1749557948.104426   17321 inference_feedback_manager.cc:114] Feedback manager requires a model with a single signature inference. Disabling support for feedback tensors.\n",
      "W0000 00:00:1749557948.107807   17319 inference_feedback_manager.cc:114] Feedback manager requires a model with a single signature inference. Disabling support for feedback tensors.\n",
      "W0000 00:00:1749557948.108501   17326 inference_feedback_manager.cc:114] Feedback manager requires a model with a single signature inference. Disabling support for feedback tensors.\n",
      "W0000 00:00:1749557948.108907   17325 inference_feedback_manager.cc:114] Feedback manager requires a model with a single signature inference. Disabling support for feedback tensors.\n",
      "W0000 00:00:1749557948.130858   17325 inference_feedback_manager.cc:114] Feedback manager requires a model with a single signature inference. Disabling support for feedback tensors.\n",
      "W0000 00:00:1749557948.143630   17319 inference_feedback_manager.cc:114] Feedback manager requires a model with a single signature inference. Disabling support for feedback tensors.\n",
      "W0000 00:00:1749557948.145212   17326 inference_feedback_manager.cc:114] Feedback manager requires a model with a single signature inference. Disabling support for feedback tensors.\n"
     ]
    },
    {
     "name": "stdout",
     "output_type": "stream",
     "text": [
      "Saved pose estimation results to /home/ben/projects/SaoPauloBrazilChapter_BrazilianSignLanguage/webapp/backend/data/interim/RawPoseLandmarks/v0\n"
     ]
    },
    {
     "name": "stderr",
     "output_type": "stream",
     "text": [
      "W0000 00:00:1749557954.345171   17361 inference_feedback_manager.cc:114] Feedback manager requires a model with a single signature inference. Disabling support for feedback tensors.\n",
      "W0000 00:00:1749557954.379780   17361 inference_feedback_manager.cc:114] Feedback manager requires a model with a single signature inference. Disabling support for feedback tensors.\n",
      "W0000 00:00:1749557954.382228   17362 inference_feedback_manager.cc:114] Feedback manager requires a model with a single signature inference. Disabling support for feedback tensors.\n",
      "W0000 00:00:1749557954.382848   17361 inference_feedback_manager.cc:114] Feedback manager requires a model with a single signature inference. Disabling support for feedback tensors.\n",
      "W0000 00:00:1749557954.383482   17364 inference_feedback_manager.cc:114] Feedback manager requires a model with a single signature inference. Disabling support for feedback tensors.\n",
      "W0000 00:00:1749557954.399324   17359 inference_feedback_manager.cc:114] Feedback manager requires a model with a single signature inference. Disabling support for feedback tensors.\n",
      "W0000 00:00:1749557954.400130   17362 inference_feedback_manager.cc:114] Feedback manager requires a model with a single signature inference. Disabling support for feedback tensors.\n",
      "W0000 00:00:1749557954.412532   17364 inference_feedback_manager.cc:114] Feedback manager requires a model with a single signature inference. Disabling support for feedback tensors.\n"
     ]
    },
    {
     "name": "stdout",
     "output_type": "stream",
     "text": [
      "Saved motion detection results to /home/ben/projects/SaoPauloBrazilChapter_BrazilianSignLanguage/webapp/backend/data/interim/RawMotionMeasurements/v0\n",
      "Saved motion analysis results to /home/ben/projects/SaoPauloBrazilChapter_BrazilianSignLanguage/webapp/backend/data/interim/RawMotionMeasurements/v0\n",
      "/home/ben/projects/SaoPauloBrazilChapter_BrazilianSignLanguage/webapp/backend/data/interim/RawCleanVideos/cortar_vl_5.mp4\n",
      "{'filename': 'cortar_vl_5.mp4', 'frame_count': 151, 'fps': 29.97, 'width': 1920, 'height': 1080, 'duration_sec': 5.038371705038372}\n",
      "No pose estimation results found for cortar_vl_5.mp4 in v0\n",
      "Running pose estimation on /home/ben/projects/SaoPauloBrazilChapter_BrazilianSignLanguage/webapp/backend/data/interim/RawCleanVideos/cortar_vl_5.mp4\n"
     ]
    },
    {
     "name": "stderr",
     "output_type": "stream",
     "text": [
      "W0000 00:00:1749557956.903076   17383 inference_feedback_manager.cc:114] Feedback manager requires a model with a single signature inference. Disabling support for feedback tensors.\n",
      "W0000 00:00:1749557956.931856   17383 inference_feedback_manager.cc:114] Feedback manager requires a model with a single signature inference. Disabling support for feedback tensors.\n",
      "W0000 00:00:1749557956.934853   17384 inference_feedback_manager.cc:114] Feedback manager requires a model with a single signature inference. Disabling support for feedback tensors.\n",
      "W0000 00:00:1749557956.935207   17385 inference_feedback_manager.cc:114] Feedback manager requires a model with a single signature inference. Disabling support for feedback tensors.\n",
      "W0000 00:00:1749557956.935618   17381 inference_feedback_manager.cc:114] Feedback manager requires a model with a single signature inference. Disabling support for feedback tensors.\n",
      "W0000 00:00:1749557956.957720   17385 inference_feedback_manager.cc:114] Feedback manager requires a model with a single signature inference. Disabling support for feedback tensors.\n",
      "W0000 00:00:1749557956.964438   17384 inference_feedback_manager.cc:114] Feedback manager requires a model with a single signature inference. Disabling support for feedback tensors.\n",
      "W0000 00:00:1749557956.969733   17381 inference_feedback_manager.cc:114] Feedback manager requires a model with a single signature inference. Disabling support for feedback tensors.\n"
     ]
    },
    {
     "name": "stdout",
     "output_type": "stream",
     "text": [
      "Saved pose estimation results to /home/ben/projects/SaoPauloBrazilChapter_BrazilianSignLanguage/webapp/backend/data/interim/RawPoseLandmarks/v0\n"
     ]
    },
    {
     "name": "stderr",
     "output_type": "stream",
     "text": [
      "W0000 00:00:1749557964.670171   17423 inference_feedback_manager.cc:114] Feedback manager requires a model with a single signature inference. Disabling support for feedback tensors.\n",
      "W0000 00:00:1749557964.696176   17423 inference_feedback_manager.cc:114] Feedback manager requires a model with a single signature inference. Disabling support for feedback tensors.\n",
      "W0000 00:00:1749557964.699110   17427 inference_feedback_manager.cc:114] Feedback manager requires a model with a single signature inference. Disabling support for feedback tensors.\n",
      "W0000 00:00:1749557964.699290   17423 inference_feedback_manager.cc:114] Feedback manager requires a model with a single signature inference. Disabling support for feedback tensors.\n",
      "W0000 00:00:1749557964.699986   17422 inference_feedback_manager.cc:114] Feedback manager requires a model with a single signature inference. Disabling support for feedback tensors.\n",
      "W0000 00:00:1749557964.710916   17425 inference_feedback_manager.cc:114] Feedback manager requires a model with a single signature inference. Disabling support for feedback tensors.\n",
      "W0000 00:00:1749557964.720653   17427 inference_feedback_manager.cc:114] Feedback manager requires a model with a single signature inference. Disabling support for feedback tensors.\n",
      "W0000 00:00:1749557964.726352   17422 inference_feedback_manager.cc:114] Feedback manager requires a model with a single signature inference. Disabling support for feedback tensors.\n"
     ]
    },
    {
     "name": "stdout",
     "output_type": "stream",
     "text": [
      "Saved motion detection results to /home/ben/projects/SaoPauloBrazilChapter_BrazilianSignLanguage/webapp/backend/data/interim/RawMotionMeasurements/v0\n",
      "Saved motion analysis results to /home/ben/projects/SaoPauloBrazilChapter_BrazilianSignLanguage/webapp/backend/data/interim/RawMotionMeasurements/v0\n",
      "/home/ben/projects/SaoPauloBrazilChapter_BrazilianSignLanguage/webapp/backend/data/interim/RawCleanVideos/cortar_vl_6.mp4\n",
      "{'filename': 'cortar_vl_6.mp4', 'frame_count': 131, 'fps': 29.97002997002997, 'width': 1920, 'height': 1080, 'duration_sec': 4.371033333333333}\n",
      "No pose estimation results found for cortar_vl_6.mp4 in v0\n",
      "Running pose estimation on /home/ben/projects/SaoPauloBrazilChapter_BrazilianSignLanguage/webapp/backend/data/interim/RawCleanVideos/cortar_vl_6.mp4\n"
     ]
    },
    {
     "name": "stderr",
     "output_type": "stream",
     "text": [
      "W0000 00:00:1749557967.686265   17445 inference_feedback_manager.cc:114] Feedback manager requires a model with a single signature inference. Disabling support for feedback tensors.\n",
      "W0000 00:00:1749557967.742491   17449 inference_feedback_manager.cc:114] Feedback manager requires a model with a single signature inference. Disabling support for feedback tensors.\n",
      "W0000 00:00:1749557967.747019   17448 inference_feedback_manager.cc:114] Feedback manager requires a model with a single signature inference. Disabling support for feedback tensors.\n",
      "W0000 00:00:1749557967.748079   17447 inference_feedback_manager.cc:114] Feedback manager requires a model with a single signature inference. Disabling support for feedback tensors.\n",
      "W0000 00:00:1749557967.752697   17443 inference_feedback_manager.cc:114] Feedback manager requires a model with a single signature inference. Disabling support for feedback tensors.\n",
      "W0000 00:00:1749557967.778934   17447 inference_feedback_manager.cc:114] Feedback manager requires a model with a single signature inference. Disabling support for feedback tensors.\n",
      "W0000 00:00:1749557967.787955   17448 inference_feedback_manager.cc:114] Feedback manager requires a model with a single signature inference. Disabling support for feedback tensors.\n",
      "W0000 00:00:1749557967.797598   17443 inference_feedback_manager.cc:114] Feedback manager requires a model with a single signature inference. Disabling support for feedback tensors.\n"
     ]
    },
    {
     "name": "stdout",
     "output_type": "stream",
     "text": [
      "Saved pose estimation results to /home/ben/projects/SaoPauloBrazilChapter_BrazilianSignLanguage/webapp/backend/data/interim/RawPoseLandmarks/v0\n"
     ]
    },
    {
     "name": "stderr",
     "output_type": "stream",
     "text": [
      "W0000 00:00:1749557974.390134   17484 inference_feedback_manager.cc:114] Feedback manager requires a model with a single signature inference. Disabling support for feedback tensors.\n",
      "W0000 00:00:1749557974.411440   17484 inference_feedback_manager.cc:114] Feedback manager requires a model with a single signature inference. Disabling support for feedback tensors.\n",
      "W0000 00:00:1749557974.414347   17484 inference_feedback_manager.cc:114] Feedback manager requires a model with a single signature inference. Disabling support for feedback tensors.\n",
      "W0000 00:00:1749557974.414563   17488 inference_feedback_manager.cc:114] Feedback manager requires a model with a single signature inference. Disabling support for feedback tensors.\n",
      "W0000 00:00:1749557974.416694   17489 inference_feedback_manager.cc:114] Feedback manager requires a model with a single signature inference. Disabling support for feedback tensors.\n",
      "W0000 00:00:1749557974.425793   17484 inference_feedback_manager.cc:114] Feedback manager requires a model with a single signature inference. Disabling support for feedback tensors.\n",
      "W0000 00:00:1749557974.433041   17488 inference_feedback_manager.cc:114] Feedback manager requires a model with a single signature inference. Disabling support for feedback tensors.\n",
      "W0000 00:00:1749557974.446364   17489 inference_feedback_manager.cc:114] Feedback manager requires a model with a single signature inference. Disabling support for feedback tensors.\n"
     ]
    },
    {
     "name": "stdout",
     "output_type": "stream",
     "text": [
      "Saved motion detection results to /home/ben/projects/SaoPauloBrazilChapter_BrazilianSignLanguage/webapp/backend/data/interim/RawMotionMeasurements/v0\n",
      "Saved motion analysis results to /home/ben/projects/SaoPauloBrazilChapter_BrazilianSignLanguage/webapp/backend/data/interim/RawMotionMeasurements/v0\n",
      "/home/ben/projects/SaoPauloBrazilChapter_BrazilianSignLanguage/webapp/backend/data/interim/RawCleanVideos/crescer_ne_1.mp4\n",
      "{'filename': 'crescer_ne_1.mp4', 'frame_count': 46, 'fps': 12.0, 'width': 240, 'height': 176, 'duration_sec': 3.8333333333333335}\n",
      "No pose estimation results found for crescer_ne_1.mp4 in v0\n",
      "Running pose estimation on /home/ben/projects/SaoPauloBrazilChapter_BrazilianSignLanguage/webapp/backend/data/interim/RawCleanVideos/crescer_ne_1.mp4\n"
     ]
    },
    {
     "name": "stderr",
     "output_type": "stream",
     "text": [
      "W0000 00:00:1749557977.202610   17508 inference_feedback_manager.cc:114] Feedback manager requires a model with a single signature inference. Disabling support for feedback tensors.\n",
      "W0000 00:00:1749557977.253508   17508 inference_feedback_manager.cc:114] Feedback manager requires a model with a single signature inference. Disabling support for feedback tensors.\n",
      "W0000 00:00:1749557977.256668   17505 inference_feedback_manager.cc:114] Feedback manager requires a model with a single signature inference. Disabling support for feedback tensors.\n",
      "W0000 00:00:1749557977.256710   17509 inference_feedback_manager.cc:114] Feedback manager requires a model with a single signature inference. Disabling support for feedback tensors.\n",
      "W0000 00:00:1749557977.261656   17507 inference_feedback_manager.cc:114] Feedback manager requires a model with a single signature inference. Disabling support for feedback tensors.\n",
      "W0000 00:00:1749557977.296374   17509 inference_feedback_manager.cc:114] Feedback manager requires a model with a single signature inference. Disabling support for feedback tensors.\n",
      "W0000 00:00:1749557977.298670   17508 inference_feedback_manager.cc:114] Feedback manager requires a model with a single signature inference. Disabling support for feedback tensors.\n",
      "W0000 00:00:1749557977.299072   17505 inference_feedback_manager.cc:114] Feedback manager requires a model with a single signature inference. Disabling support for feedback tensors.\n"
     ]
    },
    {
     "name": "stdout",
     "output_type": "stream",
     "text": [
      "Saved pose estimation results to /home/ben/projects/SaoPauloBrazilChapter_BrazilianSignLanguage/webapp/backend/data/interim/RawPoseLandmarks/v0\n"
     ]
    },
    {
     "name": "stderr",
     "output_type": "stream",
     "text": [
      "W0000 00:00:1749557979.552278   17527 inference_feedback_manager.cc:114] Feedback manager requires a model with a single signature inference. Disabling support for feedback tensors.\n",
      "W0000 00:00:1749557979.597452   17530 inference_feedback_manager.cc:114] Feedback manager requires a model with a single signature inference. Disabling support for feedback tensors.\n",
      "W0000 00:00:1749557979.599795   17531 inference_feedback_manager.cc:114] Feedback manager requires a model with a single signature inference. Disabling support for feedback tensors.\n",
      "W0000 00:00:1749557979.601837   17529 inference_feedback_manager.cc:114] Feedback manager requires a model with a single signature inference. Disabling support for feedback tensors.\n",
      "W0000 00:00:1749557979.603857   17534 inference_feedback_manager.cc:114] Feedback manager requires a model with a single signature inference. Disabling support for feedback tensors.\n",
      "W0000 00:00:1749557979.616709   17531 inference_feedback_manager.cc:114] Feedback manager requires a model with a single signature inference. Disabling support for feedback tensors.\n",
      "W0000 00:00:1749557979.623924   17529 inference_feedback_manager.cc:114] Feedback manager requires a model with a single signature inference. Disabling support for feedback tensors.\n",
      "W0000 00:00:1749557979.641540   17534 inference_feedback_manager.cc:114] Feedback manager requires a model with a single signature inference. Disabling support for feedback tensors.\n"
     ]
    },
    {
     "name": "stdout",
     "output_type": "stream",
     "text": [
      "Saved motion detection results to /home/ben/projects/SaoPauloBrazilChapter_BrazilianSignLanguage/webapp/backend/data/interim/RawMotionMeasurements/v0\n",
      "Saved motion analysis results to /home/ben/projects/SaoPauloBrazilChapter_BrazilianSignLanguage/webapp/backend/data/interim/RawMotionMeasurements/v0\n",
      "/home/ben/projects/SaoPauloBrazilChapter_BrazilianSignLanguage/webapp/backend/data/interim/RawCleanVideos/crescer_sb_2.mp4\n",
      "{'filename': 'crescer_sb_2.mp4', 'frame_count': 74, 'fps': 29.97002997002997, 'width': 1280, 'height': 720, 'duration_sec': 2.469133333333333}\n",
      "No pose estimation results found for crescer_sb_2.mp4 in v0\n",
      "Running pose estimation on /home/ben/projects/SaoPauloBrazilChapter_BrazilianSignLanguage/webapp/backend/data/interim/RawCleanVideos/crescer_sb_2.mp4\n"
     ]
    },
    {
     "name": "stderr",
     "output_type": "stream",
     "text": [
      "W0000 00:00:1749557980.453757   17549 inference_feedback_manager.cc:114] Feedback manager requires a model with a single signature inference. Disabling support for feedback tensors.\n",
      "W0000 00:00:1749557980.518922   17554 inference_feedback_manager.cc:114] Feedback manager requires a model with a single signature inference. Disabling support for feedback tensors.\n",
      "W0000 00:00:1749557980.521020   17551 inference_feedback_manager.cc:114] Feedback manager requires a model with a single signature inference. Disabling support for feedback tensors.\n",
      "W0000 00:00:1749557980.522070   17556 inference_feedback_manager.cc:114] Feedback manager requires a model with a single signature inference. Disabling support for feedback tensors.\n",
      "W0000 00:00:1749557980.531277   17554 inference_feedback_manager.cc:114] Feedback manager requires a model with a single signature inference. Disabling support for feedback tensors.\n",
      "W0000 00:00:1749557980.537364   17555 inference_feedback_manager.cc:114] Feedback manager requires a model with a single signature inference. Disabling support for feedback tensors.\n",
      "W0000 00:00:1749557980.539656   17553 inference_feedback_manager.cc:114] Feedback manager requires a model with a single signature inference. Disabling support for feedback tensors.\n",
      "W0000 00:00:1749557980.558395   17554 inference_feedback_manager.cc:114] Feedback manager requires a model with a single signature inference. Disabling support for feedback tensors.\n"
     ]
    },
    {
     "name": "stdout",
     "output_type": "stream",
     "text": [
      "Saved pose estimation results to /home/ben/projects/SaoPauloBrazilChapter_BrazilianSignLanguage/webapp/backend/data/interim/RawPoseLandmarks/v0\n",
      "Saved motion detection results to /home/ben/projects/SaoPauloBrazilChapter_BrazilianSignLanguage/webapp/backend/data/interim/RawMotionMeasurements/v0\n",
      "Saved motion analysis results to /home/ben/projects/SaoPauloBrazilChapter_BrazilianSignLanguage/webapp/backend/data/interim/RawMotionMeasurements/v0\n"
     ]
    },
    {
     "name": "stderr",
     "output_type": "stream",
     "text": [
      "W0000 00:00:1749557982.518782   17571 inference_feedback_manager.cc:114] Feedback manager requires a model with a single signature inference. Disabling support for feedback tensors.\n",
      "W0000 00:00:1749557982.539799   17576 inference_feedback_manager.cc:114] Feedback manager requires a model with a single signature inference. Disabling support for feedback tensors.\n",
      "W0000 00:00:1749557982.542160   17578 inference_feedback_manager.cc:114] Feedback manager requires a model with a single signature inference. Disabling support for feedback tensors.\n",
      "W0000 00:00:1749557982.542171   17573 inference_feedback_manager.cc:114] Feedback manager requires a model with a single signature inference. Disabling support for feedback tensors.\n",
      "W0000 00:00:1749557982.542158   17577 inference_feedback_manager.cc:114] Feedback manager requires a model with a single signature inference. Disabling support for feedback tensors.\n",
      "W0000 00:00:1749557982.557500   17577 inference_feedback_manager.cc:114] Feedback manager requires a model with a single signature inference. Disabling support for feedback tensors.\n",
      "W0000 00:00:1749557982.557638   17573 inference_feedback_manager.cc:114] Feedback manager requires a model with a single signature inference. Disabling support for feedback tensors.\n",
      "W0000 00:00:1749557982.558907   17578 inference_feedback_manager.cc:114] Feedback manager requires a model with a single signature inference. Disabling support for feedback tensors.\n"
     ]
    },
    {
     "name": "stdout",
     "output_type": "stream",
     "text": [
      "/home/ben/projects/SaoPauloBrazilChapter_BrazilianSignLanguage/webapp/backend/data/interim/RawCleanVideos/crescer_uf_3.mp4\n",
      "{'filename': 'crescer_uf_3.mp4', 'frame_count': 140, 'fps': 29.97002997002997, 'width': 480, 'height': 270, 'duration_sec': 4.671333333333333}\n",
      "No pose estimation results found for crescer_uf_3.mp4 in v0\n",
      "Running pose estimation on /home/ben/projects/SaoPauloBrazilChapter_BrazilianSignLanguage/webapp/backend/data/interim/RawCleanVideos/crescer_uf_3.mp4\n"
     ]
    },
    {
     "name": "stderr",
     "output_type": "stream",
     "text": [
      "W0000 00:00:1749557984.285476   17593 inference_feedback_manager.cc:114] Feedback manager requires a model with a single signature inference. Disabling support for feedback tensors.\n",
      "W0000 00:00:1749557984.311619   17593 inference_feedback_manager.cc:114] Feedback manager requires a model with a single signature inference. Disabling support for feedback tensors.\n",
      "W0000 00:00:1749557984.314766   17595 inference_feedback_manager.cc:114] Feedback manager requires a model with a single signature inference. Disabling support for feedback tensors.\n",
      "W0000 00:00:1749557984.315085   17596 inference_feedback_manager.cc:114] Feedback manager requires a model with a single signature inference. Disabling support for feedback tensors.\n",
      "W0000 00:00:1749557984.315878   17600 inference_feedback_manager.cc:114] Feedback manager requires a model with a single signature inference. Disabling support for feedback tensors.\n",
      "W0000 00:00:1749557984.339639   17596 inference_feedback_manager.cc:114] Feedback manager requires a model with a single signature inference. Disabling support for feedback tensors.\n",
      "W0000 00:00:1749557984.341109   17595 inference_feedback_manager.cc:114] Feedback manager requires a model with a single signature inference. Disabling support for feedback tensors.\n",
      "W0000 00:00:1749557984.341653   17600 inference_feedback_manager.cc:114] Feedback manager requires a model with a single signature inference. Disabling support for feedback tensors.\n"
     ]
    },
    {
     "name": "stdout",
     "output_type": "stream",
     "text": [
      "Saved pose estimation results to /home/ben/projects/SaoPauloBrazilChapter_BrazilianSignLanguage/webapp/backend/data/interim/RawPoseLandmarks/v0\n"
     ]
    },
    {
     "name": "stderr",
     "output_type": "stream",
     "text": [
      "W0000 00:00:1749557990.665597   17627 inference_feedback_manager.cc:114] Feedback manager requires a model with a single signature inference. Disabling support for feedback tensors.\n",
      "W0000 00:00:1749557990.696291   17627 inference_feedback_manager.cc:114] Feedback manager requires a model with a single signature inference. Disabling support for feedback tensors.\n",
      "W0000 00:00:1749557990.698532   17632 inference_feedback_manager.cc:114] Feedback manager requires a model with a single signature inference. Disabling support for feedback tensors.\n",
      "W0000 00:00:1749557990.701297   17634 inference_feedback_manager.cc:114] Feedback manager requires a model with a single signature inference. Disabling support for feedback tensors.\n",
      "W0000 00:00:1749557990.701945   17627 inference_feedback_manager.cc:114] Feedback manager requires a model with a single signature inference. Disabling support for feedback tensors.\n",
      "W0000 00:00:1749557990.712389   17632 inference_feedback_manager.cc:114] Feedback manager requires a model with a single signature inference. Disabling support for feedback tensors.\n",
      "W0000 00:00:1749557990.715864   17627 inference_feedback_manager.cc:114] Feedback manager requires a model with a single signature inference. Disabling support for feedback tensors.\n",
      "W0000 00:00:1749557990.721271   17634 inference_feedback_manager.cc:114] Feedback manager requires a model with a single signature inference. Disabling support for feedback tensors.\n"
     ]
    },
    {
     "name": "stdout",
     "output_type": "stream",
     "text": [
      "Saved motion detection results to /home/ben/projects/SaoPauloBrazilChapter_BrazilianSignLanguage/webapp/backend/data/interim/RawMotionMeasurements/v0\n",
      "Saved motion analysis results to /home/ben/projects/SaoPauloBrazilChapter_BrazilianSignLanguage/webapp/backend/data/interim/RawMotionMeasurements/v0\n",
      "/home/ben/projects/SaoPauloBrazilChapter_BrazilianSignLanguage/webapp/backend/data/interim/RawCleanVideos/crescer_vl_4.mp4\n",
      "{'filename': 'crescer_vl_4.mp4', 'frame_count': 145, 'fps': 59.94005994005994, 'width': 1920, 'height': 1080, 'duration_sec': 2.4190833333333335}\n",
      "No pose estimation results found for crescer_vl_4.mp4 in v0\n",
      "Running pose estimation on /home/ben/projects/SaoPauloBrazilChapter_BrazilianSignLanguage/webapp/backend/data/interim/RawCleanVideos/crescer_vl_4.mp4\n"
     ]
    },
    {
     "name": "stderr",
     "output_type": "stream",
     "text": [
      "W0000 00:00:1749557993.053651   17653 inference_feedback_manager.cc:114] Feedback manager requires a model with a single signature inference. Disabling support for feedback tensors.\n",
      "W0000 00:00:1749557993.096419   17653 inference_feedback_manager.cc:114] Feedback manager requires a model with a single signature inference. Disabling support for feedback tensors.\n",
      "W0000 00:00:1749557993.100067   17652 inference_feedback_manager.cc:114] Feedback manager requires a model with a single signature inference. Disabling support for feedback tensors.\n",
      "W0000 00:00:1749557993.100201   17655 inference_feedback_manager.cc:114] Feedback manager requires a model with a single signature inference. Disabling support for feedback tensors.\n",
      "W0000 00:00:1749557993.106840   17653 inference_feedback_manager.cc:114] Feedback manager requires a model with a single signature inference. Disabling support for feedback tensors.\n",
      "W0000 00:00:1749557993.140044   17655 inference_feedback_manager.cc:114] Feedback manager requires a model with a single signature inference. Disabling support for feedback tensors.\n",
      "W0000 00:00:1749557993.141425   17652 inference_feedback_manager.cc:114] Feedback manager requires a model with a single signature inference. Disabling support for feedback tensors.\n",
      "W0000 00:00:1749557993.144128   17653 inference_feedback_manager.cc:114] Feedback manager requires a model with a single signature inference. Disabling support for feedback tensors.\n"
     ]
    },
    {
     "name": "stdout",
     "output_type": "stream",
     "text": [
      "Saved pose estimation results to /home/ben/projects/SaoPauloBrazilChapter_BrazilianSignLanguage/webapp/backend/data/interim/RawPoseLandmarks/v0\n",
      "Saved motion detection results to /home/ben/projects/SaoPauloBrazilChapter_BrazilianSignLanguage/webapp/backend/data/interim/RawMotionMeasurements/v0\n",
      "Saved motion analysis results to /home/ben/projects/SaoPauloBrazilChapter_BrazilianSignLanguage/webapp/backend/data/interim/RawMotionMeasurements/v0\n"
     ]
    },
    {
     "name": "stderr",
     "output_type": "stream",
     "text": [
      "W0000 00:00:1749558001.040597   17700 inference_feedback_manager.cc:114] Feedback manager requires a model with a single signature inference. Disabling support for feedback tensors.\n",
      "W0000 00:00:1749558001.064909   17700 inference_feedback_manager.cc:114] Feedback manager requires a model with a single signature inference. Disabling support for feedback tensors.\n",
      "W0000 00:00:1749558001.067592   17698 inference_feedback_manager.cc:114] Feedback manager requires a model with a single signature inference. Disabling support for feedback tensors.\n",
      "W0000 00:00:1749558001.068150   17704 inference_feedback_manager.cc:114] Feedback manager requires a model with a single signature inference. Disabling support for feedback tensors.\n",
      "W0000 00:00:1749558001.068182   17702 inference_feedback_manager.cc:114] Feedback manager requires a model with a single signature inference. Disabling support for feedback tensors.\n",
      "W0000 00:00:1749558001.087570   17701 inference_feedback_manager.cc:114] Feedback manager requires a model with a single signature inference. Disabling support for feedback tensors.\n",
      "W0000 00:00:1749558001.098742   17704 inference_feedback_manager.cc:114] Feedback manager requires a model with a single signature inference. Disabling support for feedback tensors.\n",
      "W0000 00:00:1749558001.100425   17698 inference_feedback_manager.cc:114] Feedback manager requires a model with a single signature inference. Disabling support for feedback tensors.\n"
     ]
    },
    {
     "name": "stdout",
     "output_type": "stream",
     "text": [
      "/home/ben/projects/SaoPauloBrazilChapter_BrazilianSignLanguage/webapp/backend/data/interim/RawCleanVideos/crescer_vl_5.mp4\n",
      "{'filename': 'crescer_vl_5.mp4', 'frame_count': 138, 'fps': 29.97002997002997, 'width': 1920, 'height': 1080, 'duration_sec': 4.6046000000000005}\n",
      "No pose estimation results found for crescer_vl_5.mp4 in v0\n",
      "Running pose estimation on /home/ben/projects/SaoPauloBrazilChapter_BrazilianSignLanguage/webapp/backend/data/interim/RawCleanVideos/crescer_vl_5.mp4\n"
     ]
    },
    {
     "name": "stderr",
     "output_type": "stream",
     "text": [
      "W0000 00:00:1749558004.166580   17728 inference_feedback_manager.cc:114] Feedback manager requires a model with a single signature inference. Disabling support for feedback tensors.\n",
      "W0000 00:00:1749558004.213890   17729 inference_feedback_manager.cc:114] Feedback manager requires a model with a single signature inference. Disabling support for feedback tensors.\n",
      "W0000 00:00:1749558004.217288   17727 inference_feedback_manager.cc:114] Feedback manager requires a model with a single signature inference. Disabling support for feedback tensors.\n",
      "W0000 00:00:1749558004.217313   17731 inference_feedback_manager.cc:114] Feedback manager requires a model with a single signature inference. Disabling support for feedback tensors.\n",
      "W0000 00:00:1749558004.218490   17733 inference_feedback_manager.cc:114] Feedback manager requires a model with a single signature inference. Disabling support for feedback tensors.\n",
      "W0000 00:00:1749558004.250041   17733 inference_feedback_manager.cc:114] Feedback manager requires a model with a single signature inference. Disabling support for feedback tensors.\n",
      "W0000 00:00:1749558004.251550   17732 inference_feedback_manager.cc:114] Feedback manager requires a model with a single signature inference. Disabling support for feedback tensors.\n",
      "W0000 00:00:1749558004.253779   17731 inference_feedback_manager.cc:114] Feedback manager requires a model with a single signature inference. Disabling support for feedback tensors.\n"
     ]
    },
    {
     "name": "stdout",
     "output_type": "stream",
     "text": [
      "Saved pose estimation results to /home/ben/projects/SaoPauloBrazilChapter_BrazilianSignLanguage/webapp/backend/data/interim/RawPoseLandmarks/v0\n"
     ]
    },
    {
     "name": "stderr",
     "output_type": "stream",
     "text": [
      "W0000 00:00:1749558012.481410   17762 inference_feedback_manager.cc:114] Feedback manager requires a model with a single signature inference. Disabling support for feedback tensors.\n",
      "W0000 00:00:1749558012.519403   17762 inference_feedback_manager.cc:114] Feedback manager requires a model with a single signature inference. Disabling support for feedback tensors.\n",
      "W0000 00:00:1749558012.521924   17761 inference_feedback_manager.cc:114] Feedback manager requires a model with a single signature inference. Disabling support for feedback tensors.\n",
      "W0000 00:00:1749558012.522476   17763 inference_feedback_manager.cc:114] Feedback manager requires a model with a single signature inference. Disabling support for feedback tensors.\n",
      "W0000 00:00:1749558012.524465   17762 inference_feedback_manager.cc:114] Feedback manager requires a model with a single signature inference. Disabling support for feedback tensors.\n",
      "W0000 00:00:1749558012.540390   17762 inference_feedback_manager.cc:114] Feedback manager requires a model with a single signature inference. Disabling support for feedback tensors.\n",
      "W0000 00:00:1749558012.554758   17761 inference_feedback_manager.cc:114] Feedback manager requires a model with a single signature inference. Disabling support for feedback tensors.\n",
      "W0000 00:00:1749558012.561315   17763 inference_feedback_manager.cc:114] Feedback manager requires a model with a single signature inference. Disabling support for feedback tensors.\n"
     ]
    },
    {
     "name": "stdout",
     "output_type": "stream",
     "text": [
      "Saved motion detection results to /home/ben/projects/SaoPauloBrazilChapter_BrazilianSignLanguage/webapp/backend/data/interim/RawMotionMeasurements/v0\n",
      "Saved motion analysis results to /home/ben/projects/SaoPauloBrazilChapter_BrazilianSignLanguage/webapp/backend/data/interim/RawMotionMeasurements/v0\n",
      "/home/ben/projects/SaoPauloBrazilChapter_BrazilianSignLanguage/webapp/backend/data/interim/RawCleanVideos/crescer_vl_6.mp4\n",
      "{'filename': 'crescer_vl_6.mp4', 'frame_count': 347, 'fps': 59.94005994005994, 'width': 1280, 'height': 720, 'duration_sec': 5.789116666666667}\n",
      "No pose estimation results found for crescer_vl_6.mp4 in v0\n",
      "Running pose estimation on /home/ben/projects/SaoPauloBrazilChapter_BrazilianSignLanguage/webapp/backend/data/interim/RawCleanVideos/crescer_vl_6.mp4\n"
     ]
    },
    {
     "name": "stderr",
     "output_type": "stream",
     "text": [
      "W0000 00:00:1749558013.642116   17790 inference_feedback_manager.cc:114] Feedback manager requires a model with a single signature inference. Disabling support for feedback tensors.\n",
      "W0000 00:00:1749558013.669630   17790 inference_feedback_manager.cc:114] Feedback manager requires a model with a single signature inference. Disabling support for feedback tensors.\n",
      "W0000 00:00:1749558013.674092   17794 inference_feedback_manager.cc:114] Feedback manager requires a model with a single signature inference. Disabling support for feedback tensors.\n",
      "W0000 00:00:1749558013.674092   17795 inference_feedback_manager.cc:114] Feedback manager requires a model with a single signature inference. Disabling support for feedback tensors.\n",
      "W0000 00:00:1749558013.674125   17793 inference_feedback_manager.cc:114] Feedback manager requires a model with a single signature inference. Disabling support for feedback tensors.\n",
      "W0000 00:00:1749558013.697918   17793 inference_feedback_manager.cc:114] Feedback manager requires a model with a single signature inference. Disabling support for feedback tensors.\n",
      "W0000 00:00:1749558013.702973   17795 inference_feedback_manager.cc:114] Feedback manager requires a model with a single signature inference. Disabling support for feedback tensors.\n",
      "W0000 00:00:1749558013.709593   17794 inference_feedback_manager.cc:114] Feedback manager requires a model with a single signature inference. Disabling support for feedback tensors.\n"
     ]
    },
    {
     "name": "stdout",
     "output_type": "stream",
     "text": [
      "Saved pose estimation results to /home/ben/projects/SaoPauloBrazilChapter_BrazilianSignLanguage/webapp/backend/data/interim/RawPoseLandmarks/v0\n"
     ]
    },
    {
     "name": "stderr",
     "output_type": "stream",
     "text": [
      "W0000 00:00:1749558030.924720   17853 inference_feedback_manager.cc:114] Feedback manager requires a model with a single signature inference. Disabling support for feedback tensors.\n",
      "W0000 00:00:1749558030.945994   17853 inference_feedback_manager.cc:114] Feedback manager requires a model with a single signature inference. Disabling support for feedback tensors.\n",
      "W0000 00:00:1749558030.949113   17855 inference_feedback_manager.cc:114] Feedback manager requires a model with a single signature inference. Disabling support for feedback tensors.\n",
      "W0000 00:00:1749558030.950397   17857 inference_feedback_manager.cc:114] Feedback manager requires a model with a single signature inference. Disabling support for feedback tensors.\n",
      "W0000 00:00:1749558030.951564   17854 inference_feedback_manager.cc:114] Feedback manager requires a model with a single signature inference. Disabling support for feedback tensors.\n",
      "W0000 00:00:1749558030.963791   17857 inference_feedback_manager.cc:114] Feedback manager requires a model with a single signature inference. Disabling support for feedback tensors.\n",
      "W0000 00:00:1749558030.968598   17855 inference_feedback_manager.cc:114] Feedback manager requires a model with a single signature inference. Disabling support for feedback tensors.\n",
      "W0000 00:00:1749558030.977788   17859 inference_feedback_manager.cc:114] Feedback manager requires a model with a single signature inference. Disabling support for feedback tensors.\n"
     ]
    },
    {
     "name": "stdout",
     "output_type": "stream",
     "text": [
      "Saved motion detection results to /home/ben/projects/SaoPauloBrazilChapter_BrazilianSignLanguage/webapp/backend/data/interim/RawMotionMeasurements/v0\n",
      "Saved motion analysis results to /home/ben/projects/SaoPauloBrazilChapter_BrazilianSignLanguage/webapp/backend/data/interim/RawMotionMeasurements/v0\n",
      "/home/ben/projects/SaoPauloBrazilChapter_BrazilianSignLanguage/webapp/backend/data/interim/RawCleanVideos/família_ne_1.mp4\n",
      "{'filename': 'família_ne_1.mp4', 'frame_count': 39, 'fps': 12.0, 'width': 240, 'height': 176, 'duration_sec': 3.25}\n",
      "No pose estimation results found for família_ne_1.mp4 in v0\n",
      "Running pose estimation on /home/ben/projects/SaoPauloBrazilChapter_BrazilianSignLanguage/webapp/backend/data/interim/RawCleanVideos/família_ne_1.mp4\n"
     ]
    },
    {
     "name": "stderr",
     "output_type": "stream",
     "text": [
      "W0000 00:00:1749558036.569537   17883 inference_feedback_manager.cc:114] Feedback manager requires a model with a single signature inference. Disabling support for feedback tensors.\n",
      "W0000 00:00:1749558036.606568   17883 inference_feedback_manager.cc:114] Feedback manager requires a model with a single signature inference. Disabling support for feedback tensors.\n",
      "W0000 00:00:1749558036.610280   17881 inference_feedback_manager.cc:114] Feedback manager requires a model with a single signature inference. Disabling support for feedback tensors.\n",
      "W0000 00:00:1749558036.610986   17884 inference_feedback_manager.cc:114] Feedback manager requires a model with a single signature inference. Disabling support for feedback tensors.\n",
      "W0000 00:00:1749558036.611257   17886 inference_feedback_manager.cc:114] Feedback manager requires a model with a single signature inference. Disabling support for feedback tensors.\n",
      "W0000 00:00:1749558036.636411   17884 inference_feedback_manager.cc:114] Feedback manager requires a model with a single signature inference. Disabling support for feedback tensors.\n",
      "W0000 00:00:1749558036.640076   17881 inference_feedback_manager.cc:114] Feedback manager requires a model with a single signature inference. Disabling support for feedback tensors.\n",
      "W0000 00:00:1749558036.644811   17886 inference_feedback_manager.cc:114] Feedback manager requires a model with a single signature inference. Disabling support for feedback tensors.\n"
     ]
    },
    {
     "name": "stdout",
     "output_type": "stream",
     "text": [
      "Saved pose estimation results to /home/ben/projects/SaoPauloBrazilChapter_BrazilianSignLanguage/webapp/backend/data/interim/RawPoseLandmarks/v0\n",
      "Saved motion detection results to /home/ben/projects/SaoPauloBrazilChapter_BrazilianSignLanguage/webapp/backend/data/interim/RawMotionMeasurements/v0\n",
      "Saved motion analysis results to /home/ben/projects/SaoPauloBrazilChapter_BrazilianSignLanguage/webapp/backend/data/interim/RawMotionMeasurements/v0\n"
     ]
    },
    {
     "name": "stderr",
     "output_type": "stream",
     "text": [
      "W0000 00:00:1749558038.355697   17904 inference_feedback_manager.cc:114] Feedback manager requires a model with a single signature inference. Disabling support for feedback tensors.\n",
      "W0000 00:00:1749558038.377562   17904 inference_feedback_manager.cc:114] Feedback manager requires a model with a single signature inference. Disabling support for feedback tensors.\n",
      "W0000 00:00:1749558038.379853   17905 inference_feedback_manager.cc:114] Feedback manager requires a model with a single signature inference. Disabling support for feedback tensors.\n",
      "W0000 00:00:1749558038.379853   17906 inference_feedback_manager.cc:114] Feedback manager requires a model with a single signature inference. Disabling support for feedback tensors.\n",
      "W0000 00:00:1749558038.380080   17902 inference_feedback_manager.cc:114] Feedback manager requires a model with a single signature inference. Disabling support for feedback tensors.\n",
      "W0000 00:00:1749558038.396019   17906 inference_feedback_manager.cc:114] Feedback manager requires a model with a single signature inference. Disabling support for feedback tensors.\n",
      "W0000 00:00:1749558038.397476   17904 inference_feedback_manager.cc:114] Feedback manager requires a model with a single signature inference. Disabling support for feedback tensors.\n",
      "W0000 00:00:1749558038.400930   17902 inference_feedback_manager.cc:114] Feedback manager requires a model with a single signature inference. Disabling support for feedback tensors.\n"
     ]
    },
    {
     "name": "stdout",
     "output_type": "stream",
     "text": [
      "/home/ben/projects/SaoPauloBrazilChapter_BrazilianSignLanguage/webapp/backend/data/interim/RawCleanVideos/família_sb_2.mp4\n",
      "{'filename': 'família_sb_2.mp4', 'frame_count': 81, 'fps': 29.97002997002997, 'width': 1920, 'height': 1080, 'duration_sec': 2.7027}\n",
      "No pose estimation results found for família_sb_2.mp4 in v0\n",
      "Running pose estimation on /home/ben/projects/SaoPauloBrazilChapter_BrazilianSignLanguage/webapp/backend/data/interim/RawCleanVideos/família_sb_2.mp4\n"
     ]
    },
    {
     "name": "stderr",
     "output_type": "stream",
     "text": [
      "W0000 00:00:1749558039.235651   17924 inference_feedback_manager.cc:114] Feedback manager requires a model with a single signature inference. Disabling support for feedback tensors.\n",
      "W0000 00:00:1749558039.308192   17924 inference_feedback_manager.cc:114] Feedback manager requires a model with a single signature inference. Disabling support for feedback tensors.\n",
      "W0000 00:00:1749558039.311093   17930 inference_feedback_manager.cc:114] Feedback manager requires a model with a single signature inference. Disabling support for feedback tensors.\n",
      "W0000 00:00:1749558039.311484   17928 inference_feedback_manager.cc:114] Feedback manager requires a model with a single signature inference. Disabling support for feedback tensors.\n",
      "W0000 00:00:1749558039.311637   17929 inference_feedback_manager.cc:114] Feedback manager requires a model with a single signature inference. Disabling support for feedback tensors.\n",
      "W0000 00:00:1749558039.330243   17926 inference_feedback_manager.cc:114] Feedback manager requires a model with a single signature inference. Disabling support for feedback tensors.\n",
      "W0000 00:00:1749558039.346249   17930 inference_feedback_manager.cc:114] Feedback manager requires a model with a single signature inference. Disabling support for feedback tensors.\n",
      "W0000 00:00:1749558039.349018   17929 inference_feedback_manager.cc:114] Feedback manager requires a model with a single signature inference. Disabling support for feedback tensors.\n"
     ]
    },
    {
     "name": "stdout",
     "output_type": "stream",
     "text": [
      "Saved pose estimation results to /home/ben/projects/SaoPauloBrazilChapter_BrazilianSignLanguage/webapp/backend/data/interim/RawPoseLandmarks/v0\n"
     ]
    },
    {
     "name": "stderr",
     "output_type": "stream",
     "text": [
      "W0000 00:00:1749558044.662007   17953 inference_feedback_manager.cc:114] Feedback manager requires a model with a single signature inference. Disabling support for feedback tensors.\n",
      "W0000 00:00:1749558044.686637   17953 inference_feedback_manager.cc:114] Feedback manager requires a model with a single signature inference. Disabling support for feedback tensors.\n",
      "W0000 00:00:1749558044.689535   17956 inference_feedback_manager.cc:114] Feedback manager requires a model with a single signature inference. Disabling support for feedback tensors.\n",
      "W0000 00:00:1749558044.689572   17955 inference_feedback_manager.cc:114] Feedback manager requires a model with a single signature inference. Disabling support for feedback tensors.\n",
      "W0000 00:00:1749558044.692471   17959 inference_feedback_manager.cc:114] Feedback manager requires a model with a single signature inference. Disabling support for feedback tensors.\n",
      "W0000 00:00:1749558044.707446   17955 inference_feedback_manager.cc:114] Feedback manager requires a model with a single signature inference. Disabling support for feedback tensors.\n",
      "W0000 00:00:1749558044.723179   17956 inference_feedback_manager.cc:114] Feedback manager requires a model with a single signature inference. Disabling support for feedback tensors.\n",
      "W0000 00:00:1749558044.734294   17959 inference_feedback_manager.cc:114] Feedback manager requires a model with a single signature inference. Disabling support for feedback tensors.\n"
     ]
    },
    {
     "name": "stdout",
     "output_type": "stream",
     "text": [
      "Saved motion detection results to /home/ben/projects/SaoPauloBrazilChapter_BrazilianSignLanguage/webapp/backend/data/interim/RawMotionMeasurements/v0\n",
      "Saved motion analysis results to /home/ben/projects/SaoPauloBrazilChapter_BrazilianSignLanguage/webapp/backend/data/interim/RawMotionMeasurements/v0\n",
      "/home/ben/projects/SaoPauloBrazilChapter_BrazilianSignLanguage/webapp/backend/data/interim/RawCleanVideos/família_uf_3.mp4\n",
      "{'filename': 'família_uf_3.mp4', 'frame_count': 138, 'fps': 29.97002997002997, 'width': 480, 'height': 270, 'duration_sec': 4.6046000000000005}\n",
      "No pose estimation results found for família_uf_3.mp4 in v0\n",
      "Running pose estimation on /home/ben/projects/SaoPauloBrazilChapter_BrazilianSignLanguage/webapp/backend/data/interim/RawCleanVideos/família_uf_3.mp4\n"
     ]
    },
    {
     "name": "stderr",
     "output_type": "stream",
     "text": [
      "W0000 00:00:1749558045.621491   17982 inference_feedback_manager.cc:114] Feedback manager requires a model with a single signature inference. Disabling support for feedback tensors.\n",
      "W0000 00:00:1749558045.659311   17982 inference_feedback_manager.cc:114] Feedback manager requires a model with a single signature inference. Disabling support for feedback tensors.\n",
      "W0000 00:00:1749558045.662168   17980 inference_feedback_manager.cc:114] Feedback manager requires a model with a single signature inference. Disabling support for feedback tensors.\n",
      "W0000 00:00:1749558045.663144   17981 inference_feedback_manager.cc:114] Feedback manager requires a model with a single signature inference. Disabling support for feedback tensors.\n",
      "W0000 00:00:1749558045.663773   17982 inference_feedback_manager.cc:114] Feedback manager requires a model with a single signature inference. Disabling support for feedback tensors.\n",
      "W0000 00:00:1749558045.697944   17982 inference_feedback_manager.cc:114] Feedback manager requires a model with a single signature inference. Disabling support for feedback tensors.\n",
      "W0000 00:00:1749558045.707993   17980 inference_feedback_manager.cc:114] Feedback manager requires a model with a single signature inference. Disabling support for feedback tensors.\n",
      "W0000 00:00:1749558045.710065   17981 inference_feedback_manager.cc:114] Feedback manager requires a model with a single signature inference. Disabling support for feedback tensors.\n"
     ]
    },
    {
     "name": "stdout",
     "output_type": "stream",
     "text": [
      "Saved pose estimation results to /home/ben/projects/SaoPauloBrazilChapter_BrazilianSignLanguage/webapp/backend/data/interim/RawPoseLandmarks/v0\n"
     ]
    },
    {
     "name": "stderr",
     "output_type": "stream",
     "text": [
      "W0000 00:00:1749558052.057902   18016 inference_feedback_manager.cc:114] Feedback manager requires a model with a single signature inference. Disabling support for feedback tensors.\n",
      "W0000 00:00:1749558052.089701   18019 inference_feedback_manager.cc:114] Feedback manager requires a model with a single signature inference. Disabling support for feedback tensors.\n",
      "W0000 00:00:1749558052.091610   18019 inference_feedback_manager.cc:114] Feedback manager requires a model with a single signature inference. Disabling support for feedback tensors.\n",
      "W0000 00:00:1749558052.092115   18016 inference_feedback_manager.cc:114] Feedback manager requires a model with a single signature inference. Disabling support for feedback tensors.\n",
      "W0000 00:00:1749558052.093833   18015 inference_feedback_manager.cc:114] Feedback manager requires a model with a single signature inference. Disabling support for feedback tensors.\n",
      "W0000 00:00:1749558052.106389   18019 inference_feedback_manager.cc:114] Feedback manager requires a model with a single signature inference. Disabling support for feedback tensors.\n",
      "W0000 00:00:1749558052.107678   18016 inference_feedback_manager.cc:114] Feedback manager requires a model with a single signature inference. Disabling support for feedback tensors.\n",
      "W0000 00:00:1749558052.112554   18015 inference_feedback_manager.cc:114] Feedback manager requires a model with a single signature inference. Disabling support for feedback tensors.\n"
     ]
    },
    {
     "name": "stdout",
     "output_type": "stream",
     "text": [
      "Saved motion detection results to /home/ben/projects/SaoPauloBrazilChapter_BrazilianSignLanguage/webapp/backend/data/interim/RawMotionMeasurements/v0\n",
      "Saved motion analysis results to /home/ben/projects/SaoPauloBrazilChapter_BrazilianSignLanguage/webapp/backend/data/interim/RawMotionMeasurements/v0\n",
      "/home/ben/projects/SaoPauloBrazilChapter_BrazilianSignLanguage/webapp/backend/data/interim/RawCleanVideos/família_vl_4.mp4\n",
      "{'filename': 'família_vl_4.mp4', 'frame_count': 122, 'fps': 29.97002997002997, 'width': 1920, 'height': 1080, 'duration_sec': 4.070733333333333}\n",
      "No pose estimation results found for família_vl_4.mp4 in v0\n",
      "Running pose estimation on /home/ben/projects/SaoPauloBrazilChapter_BrazilianSignLanguage/webapp/backend/data/interim/RawCleanVideos/família_vl_4.mp4\n"
     ]
    },
    {
     "name": "stderr",
     "output_type": "stream",
     "text": [
      "W0000 00:00:1749558054.384137   18037 inference_feedback_manager.cc:114] Feedback manager requires a model with a single signature inference. Disabling support for feedback tensors.\n",
      "W0000 00:00:1749558054.412940   18037 inference_feedback_manager.cc:114] Feedback manager requires a model with a single signature inference. Disabling support for feedback tensors.\n",
      "W0000 00:00:1749558054.415547   18036 inference_feedback_manager.cc:114] Feedback manager requires a model with a single signature inference. Disabling support for feedback tensors.\n",
      "W0000 00:00:1749558054.416420   18040 inference_feedback_manager.cc:114] Feedback manager requires a model with a single signature inference. Disabling support for feedback tensors.\n",
      "W0000 00:00:1749558054.416442   18041 inference_feedback_manager.cc:114] Feedback manager requires a model with a single signature inference. Disabling support for feedback tensors.\n",
      "W0000 00:00:1749558054.436729   18041 inference_feedback_manager.cc:114] Feedback manager requires a model with a single signature inference. Disabling support for feedback tensors.\n",
      "W0000 00:00:1749558054.442367   18040 inference_feedback_manager.cc:114] Feedback manager requires a model with a single signature inference. Disabling support for feedback tensors.\n",
      "W0000 00:00:1749558054.443408   18036 inference_feedback_manager.cc:114] Feedback manager requires a model with a single signature inference. Disabling support for feedback tensors.\n"
     ]
    },
    {
     "name": "stdout",
     "output_type": "stream",
     "text": [
      "Saved pose estimation results to /home/ben/projects/SaoPauloBrazilChapter_BrazilianSignLanguage/webapp/backend/data/interim/RawPoseLandmarks/v0\n",
      "Saved motion detection results to /home/ben/projects/SaoPauloBrazilChapter_BrazilianSignLanguage/webapp/backend/data/interim/RawMotionMeasurements/v0\n",
      "Saved motion analysis results to /home/ben/projects/SaoPauloBrazilChapter_BrazilianSignLanguage/webapp/backend/data/interim/RawMotionMeasurements/v0\n"
     ]
    },
    {
     "name": "stderr",
     "output_type": "stream",
     "text": [
      "W0000 00:00:1749558060.562430   18072 inference_feedback_manager.cc:114] Feedback manager requires a model with a single signature inference. Disabling support for feedback tensors.\n",
      "W0000 00:00:1749558060.587423   18072 inference_feedback_manager.cc:114] Feedback manager requires a model with a single signature inference. Disabling support for feedback tensors.\n",
      "W0000 00:00:1749558060.590007   18077 inference_feedback_manager.cc:114] Feedback manager requires a model with a single signature inference. Disabling support for feedback tensors.\n",
      "W0000 00:00:1749558060.590201   18075 inference_feedback_manager.cc:114] Feedback manager requires a model with a single signature inference. Disabling support for feedback tensors.\n",
      "W0000 00:00:1749558060.590336   18070 inference_feedback_manager.cc:114] Feedback manager requires a model with a single signature inference. Disabling support for feedback tensors.\n",
      "W0000 00:00:1749558060.604315   18072 inference_feedback_manager.cc:114] Feedback manager requires a model with a single signature inference. Disabling support for feedback tensors.\n",
      "W0000 00:00:1749558060.605675   18070 inference_feedback_manager.cc:114] Feedback manager requires a model with a single signature inference. Disabling support for feedback tensors.\n",
      "W0000 00:00:1749558060.607051   18074 inference_feedback_manager.cc:114] Feedback manager requires a model with a single signature inference. Disabling support for feedback tensors.\n"
     ]
    },
    {
     "name": "stdout",
     "output_type": "stream",
     "text": [
      "/home/ben/projects/SaoPauloBrazilChapter_BrazilianSignLanguage/webapp/backend/data/interim/RawCleanVideos/família_vl_5.mp4\n",
      "{'filename': 'família_vl_5.mp4', 'frame_count': 163, 'fps': 29.97002997002997, 'width': 1920, 'height': 1080, 'duration_sec': 5.438766666666667}\n",
      "No pose estimation results found for família_vl_5.mp4 in v0\n",
      "Running pose estimation on /home/ben/projects/SaoPauloBrazilChapter_BrazilianSignLanguage/webapp/backend/data/interim/RawCleanVideos/família_vl_5.mp4\n"
     ]
    },
    {
     "name": "stderr",
     "output_type": "stream",
     "text": [
      "W0000 00:00:1749558062.972684   18094 inference_feedback_manager.cc:114] Feedback manager requires a model with a single signature inference. Disabling support for feedback tensors.\n",
      "W0000 00:00:1749558063.008656   18098 inference_feedback_manager.cc:114] Feedback manager requires a model with a single signature inference. Disabling support for feedback tensors.\n",
      "W0000 00:00:1749558063.011432   18093 inference_feedback_manager.cc:114] Feedback manager requires a model with a single signature inference. Disabling support for feedback tensors.\n",
      "W0000 00:00:1749558063.012997   18099 inference_feedback_manager.cc:114] Feedback manager requires a model with a single signature inference. Disabling support for feedback tensors.\n",
      "W0000 00:00:1749558063.013791   18096 inference_feedback_manager.cc:114] Feedback manager requires a model with a single signature inference. Disabling support for feedback tensors.\n",
      "W0000 00:00:1749558063.035817   18093 inference_feedback_manager.cc:114] Feedback manager requires a model with a single signature inference. Disabling support for feedback tensors.\n",
      "W0000 00:00:1749558063.040585   18099 inference_feedback_manager.cc:114] Feedback manager requires a model with a single signature inference. Disabling support for feedback tensors.\n",
      "W0000 00:00:1749558063.045615   18096 inference_feedback_manager.cc:114] Feedback manager requires a model with a single signature inference. Disabling support for feedback tensors.\n"
     ]
    },
    {
     "name": "stdout",
     "output_type": "stream",
     "text": [
      "Saved pose estimation results to /home/ben/projects/SaoPauloBrazilChapter_BrazilianSignLanguage/webapp/backend/data/interim/RawPoseLandmarks/v0\n",
      "Saved motion detection results to /home/ben/projects/SaoPauloBrazilChapter_BrazilianSignLanguage/webapp/backend/data/interim/RawMotionMeasurements/v0\n"
     ]
    },
    {
     "name": "stderr",
     "output_type": "stream",
     "text": [
      "W0000 00:00:1749558071.319350   18135 inference_feedback_manager.cc:114] Feedback manager requires a model with a single signature inference. Disabling support for feedback tensors.\n",
      "W0000 00:00:1749558071.341490   18135 inference_feedback_manager.cc:114] Feedback manager requires a model with a single signature inference. Disabling support for feedback tensors.\n",
      "W0000 00:00:1749558071.343976   18139 inference_feedback_manager.cc:114] Feedback manager requires a model with a single signature inference. Disabling support for feedback tensors.\n",
      "W0000 00:00:1749558071.343992   18132 inference_feedback_manager.cc:114] Feedback manager requires a model with a single signature inference. Disabling support for feedback tensors.\n",
      "W0000 00:00:1749558071.344074   18137 inference_feedback_manager.cc:114] Feedback manager requires a model with a single signature inference. Disabling support for feedback tensors.\n",
      "W0000 00:00:1749558071.359809   18132 inference_feedback_manager.cc:114] Feedback manager requires a model with a single signature inference. Disabling support for feedback tensors.\n",
      "W0000 00:00:1749558071.360489   18137 inference_feedback_manager.cc:114] Feedback manager requires a model with a single signature inference. Disabling support for feedback tensors.\n",
      "W0000 00:00:1749558071.362804   18139 inference_feedback_manager.cc:114] Feedback manager requires a model with a single signature inference. Disabling support for feedback tensors.\n"
     ]
    },
    {
     "name": "stdout",
     "output_type": "stream",
     "text": [
      "Saved motion analysis results to /home/ben/projects/SaoPauloBrazilChapter_BrazilianSignLanguage/webapp/backend/data/interim/RawMotionMeasurements/v0\n",
      "/home/ben/projects/SaoPauloBrazilChapter_BrazilianSignLanguage/webapp/backend/data/interim/RawCleanVideos/família_vl_6.mp4\n",
      "{'filename': 'família_vl_6.mp4', 'frame_count': 329, 'fps': 59.94005994005994, 'width': 1920, 'height': 1080, 'duration_sec': 5.488816666666667}\n",
      "No pose estimation results found for família_vl_6.mp4 in v0\n",
      "Running pose estimation on /home/ben/projects/SaoPauloBrazilChapter_BrazilianSignLanguage/webapp/backend/data/interim/RawCleanVideos/família_vl_6.mp4\n"
     ]
    },
    {
     "name": "stderr",
     "output_type": "stream",
     "text": [
      "W0000 00:00:1749558075.311439   18161 inference_feedback_manager.cc:114] Feedback manager requires a model with a single signature inference. Disabling support for feedback tensors.\n",
      "W0000 00:00:1749558075.376631   18161 inference_feedback_manager.cc:114] Feedback manager requires a model with a single signature inference. Disabling support for feedback tensors.\n",
      "W0000 00:00:1749558075.381203   18167 inference_feedback_manager.cc:114] Feedback manager requires a model with a single signature inference. Disabling support for feedback tensors.\n",
      "W0000 00:00:1749558075.381793   18164 inference_feedback_manager.cc:114] Feedback manager requires a model with a single signature inference. Disabling support for feedback tensors.\n",
      "W0000 00:00:1749558075.384621   18162 inference_feedback_manager.cc:114] Feedback manager requires a model with a single signature inference. Disabling support for feedback tensors.\n",
      "W0000 00:00:1749558075.427873   18162 inference_feedback_manager.cc:114] Feedback manager requires a model with a single signature inference. Disabling support for feedback tensors.\n",
      "W0000 00:00:1749558075.438697   18167 inference_feedback_manager.cc:114] Feedback manager requires a model with a single signature inference. Disabling support for feedback tensors.\n",
      "W0000 00:00:1749558075.440928   18164 inference_feedback_manager.cc:114] Feedback manager requires a model with a single signature inference. Disabling support for feedback tensors.\n"
     ]
    },
    {
     "name": "stdout",
     "output_type": "stream",
     "text": [
      "Saved pose estimation results to /home/ben/projects/SaoPauloBrazilChapter_BrazilianSignLanguage/webapp/backend/data/interim/RawPoseLandmarks/v0\n"
     ]
    },
    {
     "name": "stderr",
     "output_type": "stream",
     "text": [
      "W0000 00:00:1749558089.865807   18242 inference_feedback_manager.cc:114] Feedback manager requires a model with a single signature inference. Disabling support for feedback tensors.\n",
      "W0000 00:00:1749558089.897605   18242 inference_feedback_manager.cc:114] Feedback manager requires a model with a single signature inference. Disabling support for feedback tensors.\n",
      "W0000 00:00:1749558089.900654   18247 inference_feedback_manager.cc:114] Feedback manager requires a model with a single signature inference. Disabling support for feedback tensors.\n",
      "W0000 00:00:1749558089.901245   18245 inference_feedback_manager.cc:114] Feedback manager requires a model with a single signature inference. Disabling support for feedback tensors.\n",
      "W0000 00:00:1749558089.901827   18244 inference_feedback_manager.cc:114] Feedback manager requires a model with a single signature inference. Disabling support for feedback tensors.\n",
      "W0000 00:00:1749558089.912642   18247 inference_feedback_manager.cc:114] Feedback manager requires a model with a single signature inference. Disabling support for feedback tensors.\n",
      "W0000 00:00:1749558089.919462   18245 inference_feedback_manager.cc:114] Feedback manager requires a model with a single signature inference. Disabling support for feedback tensors.\n",
      "W0000 00:00:1749558089.927531   18244 inference_feedback_manager.cc:114] Feedback manager requires a model with a single signature inference. Disabling support for feedback tensors.\n"
     ]
    },
    {
     "name": "stdout",
     "output_type": "stream",
     "text": [
      "Saved motion detection results to /home/ben/projects/SaoPauloBrazilChapter_BrazilianSignLanguage/webapp/backend/data/interim/RawMotionMeasurements/v0\n",
      "Saved motion analysis results to /home/ben/projects/SaoPauloBrazilChapter_BrazilianSignLanguage/webapp/backend/data/interim/RawMotionMeasurements/v0\n",
      "/home/ben/projects/SaoPauloBrazilChapter_BrazilianSignLanguage/webapp/backend/data/interim/RawCleanVideos/filho_ne_1.mp4\n",
      "{'filename': 'filho_ne_1.mp4', 'frame_count': 33, 'fps': 12.0, 'width': 240, 'height': 176, 'duration_sec': 2.75}\n",
      "No pose estimation results found for filho_ne_1.mp4 in v0\n",
      "Running pose estimation on /home/ben/projects/SaoPauloBrazilChapter_BrazilianSignLanguage/webapp/backend/data/interim/RawCleanVideos/filho_ne_1.mp4\n"
     ]
    },
    {
     "name": "stderr",
     "output_type": "stream",
     "text": [
      "W0000 00:00:1749558095.468679   18280 inference_feedback_manager.cc:114] Feedback manager requires a model with a single signature inference. Disabling support for feedback tensors.\n",
      "W0000 00:00:1749558095.517719   18280 inference_feedback_manager.cc:114] Feedback manager requires a model with a single signature inference. Disabling support for feedback tensors.\n",
      "W0000 00:00:1749558095.522321   18280 inference_feedback_manager.cc:114] Feedback manager requires a model with a single signature inference. Disabling support for feedback tensors.\n",
      "W0000 00:00:1749558095.522776   18287 inference_feedback_manager.cc:114] Feedback manager requires a model with a single signature inference. Disabling support for feedback tensors.\n",
      "W0000 00:00:1749558095.522986   18282 inference_feedback_manager.cc:114] Feedback manager requires a model with a single signature inference. Disabling support for feedback tensors.\n",
      "W0000 00:00:1749558095.552134   18282 inference_feedback_manager.cc:114] Feedback manager requires a model with a single signature inference. Disabling support for feedback tensors.\n",
      "W0000 00:00:1749558095.555480   18280 inference_feedback_manager.cc:114] Feedback manager requires a model with a single signature inference. Disabling support for feedback tensors.\n",
      "W0000 00:00:1749558095.564221   18287 inference_feedback_manager.cc:114] Feedback manager requires a model with a single signature inference. Disabling support for feedback tensors.\n"
     ]
    },
    {
     "name": "stdout",
     "output_type": "stream",
     "text": [
      "Saved pose estimation results to /home/ben/projects/SaoPauloBrazilChapter_BrazilianSignLanguage/webapp/backend/data/interim/RawPoseLandmarks/v0\n",
      "Saved motion detection results to /home/ben/projects/SaoPauloBrazilChapter_BrazilianSignLanguage/webapp/backend/data/interim/RawMotionMeasurements/v0\n",
      "Saved motion analysis results to /home/ben/projects/SaoPauloBrazilChapter_BrazilianSignLanguage/webapp/backend/data/interim/RawMotionMeasurements/v0\n"
     ]
    },
    {
     "name": "stderr",
     "output_type": "stream",
     "text": [
      "W0000 00:00:1749558096.869680   18308 inference_feedback_manager.cc:114] Feedback manager requires a model with a single signature inference. Disabling support for feedback tensors.\n",
      "W0000 00:00:1749558096.889707   18308 inference_feedback_manager.cc:114] Feedback manager requires a model with a single signature inference. Disabling support for feedback tensors.\n",
      "W0000 00:00:1749558096.892296   18310 inference_feedback_manager.cc:114] Feedback manager requires a model with a single signature inference. Disabling support for feedback tensors.\n",
      "W0000 00:00:1749558096.893532   18313 inference_feedback_manager.cc:114] Feedback manager requires a model with a single signature inference. Disabling support for feedback tensors.\n",
      "W0000 00:00:1749558096.894816   18309 inference_feedback_manager.cc:114] Feedback manager requires a model with a single signature inference. Disabling support for feedback tensors.\n",
      "W0000 00:00:1749558096.903874   18310 inference_feedback_manager.cc:114] Feedback manager requires a model with a single signature inference. Disabling support for feedback tensors.\n",
      "W0000 00:00:1749558096.910254   18313 inference_feedback_manager.cc:114] Feedback manager requires a model with a single signature inference. Disabling support for feedback tensors.\n",
      "W0000 00:00:1749558096.920868   18309 inference_feedback_manager.cc:114] Feedback manager requires a model with a single signature inference. Disabling support for feedback tensors.\n"
     ]
    },
    {
     "name": "stdout",
     "output_type": "stream",
     "text": [
      "/home/ben/projects/SaoPauloBrazilChapter_BrazilianSignLanguage/webapp/backend/data/interim/RawCleanVideos/filho_sb_2.mp4\n",
      "{'filename': 'filho_sb_2.mp4', 'frame_count': 74, 'fps': 29.97002997002997, 'width': 1280, 'height': 720, 'duration_sec': 2.469133333333333}\n",
      "No pose estimation results found for filho_sb_2.mp4 in v0\n",
      "Running pose estimation on /home/ben/projects/SaoPauloBrazilChapter_BrazilianSignLanguage/webapp/backend/data/interim/RawCleanVideos/filho_sb_2.mp4\n"
     ]
    },
    {
     "name": "stderr",
     "output_type": "stream",
     "text": [
      "W0000 00:00:1749558097.643839   18325 inference_feedback_manager.cc:114] Feedback manager requires a model with a single signature inference. Disabling support for feedback tensors.\n",
      "W0000 00:00:1749558097.666368   18325 inference_feedback_manager.cc:114] Feedback manager requires a model with a single signature inference. Disabling support for feedback tensors.\n",
      "W0000 00:00:1749558097.670027   18326 inference_feedback_manager.cc:114] Feedback manager requires a model with a single signature inference. Disabling support for feedback tensors.\n",
      "W0000 00:00:1749558097.670297   18330 inference_feedback_manager.cc:114] Feedback manager requires a model with a single signature inference. Disabling support for feedback tensors.\n",
      "W0000 00:00:1749558097.670969   18328 inference_feedback_manager.cc:114] Feedback manager requires a model with a single signature inference. Disabling support for feedback tensors.\n",
      "W0000 00:00:1749558097.692389   18326 inference_feedback_manager.cc:114] Feedback manager requires a model with a single signature inference. Disabling support for feedback tensors.\n",
      "W0000 00:00:1749558097.693612   18328 inference_feedback_manager.cc:114] Feedback manager requires a model with a single signature inference. Disabling support for feedback tensors.\n",
      "W0000 00:00:1749558097.695541   18330 inference_feedback_manager.cc:114] Feedback manager requires a model with a single signature inference. Disabling support for feedback tensors.\n"
     ]
    },
    {
     "name": "stdout",
     "output_type": "stream",
     "text": [
      "Saved pose estimation results to /home/ben/projects/SaoPauloBrazilChapter_BrazilianSignLanguage/webapp/backend/data/interim/RawPoseLandmarks/v0\n",
      "Saved motion detection results to /home/ben/projects/SaoPauloBrazilChapter_BrazilianSignLanguage/webapp/backend/data/interim/RawMotionMeasurements/v0\n",
      "Saved motion analysis results to /home/ben/projects/SaoPauloBrazilChapter_BrazilianSignLanguage/webapp/backend/data/interim/RawMotionMeasurements/v0\n"
     ]
    },
    {
     "name": "stderr",
     "output_type": "stream",
     "text": [
      "W0000 00:00:1749558100.940923   18354 inference_feedback_manager.cc:114] Feedback manager requires a model with a single signature inference. Disabling support for feedback tensors.\n",
      "W0000 00:00:1749558100.969186   18354 inference_feedback_manager.cc:114] Feedback manager requires a model with a single signature inference. Disabling support for feedback tensors.\n",
      "W0000 00:00:1749558100.971649   18351 inference_feedback_manager.cc:114] Feedback manager requires a model with a single signature inference. Disabling support for feedback tensors.\n",
      "W0000 00:00:1749558100.971657   18354 inference_feedback_manager.cc:114] Feedback manager requires a model with a single signature inference. Disabling support for feedback tensors.\n",
      "W0000 00:00:1749558100.972523   18355 inference_feedback_manager.cc:114] Feedback manager requires a model with a single signature inference. Disabling support for feedback tensors.\n",
      "W0000 00:00:1749558100.984719   18351 inference_feedback_manager.cc:114] Feedback manager requires a model with a single signature inference. Disabling support for feedback tensors.\n",
      "W0000 00:00:1749558100.986566   18354 inference_feedback_manager.cc:114] Feedback manager requires a model with a single signature inference. Disabling support for feedback tensors.\n",
      "W0000 00:00:1749558100.994294   18355 inference_feedback_manager.cc:114] Feedback manager requires a model with a single signature inference. Disabling support for feedback tensors.\n"
     ]
    },
    {
     "name": "stdout",
     "output_type": "stream",
     "text": [
      "/home/ben/projects/SaoPauloBrazilChapter_BrazilianSignLanguage/webapp/backend/data/interim/RawCleanVideos/filho_uf_3.mp4\n",
      "{'filename': 'filho_uf_3.mp4', 'frame_count': 116, 'fps': 29.97002997002997, 'width': 480, 'height': 270, 'duration_sec': 3.8705333333333334}\n",
      "No pose estimation results found for filho_uf_3.mp4 in v0\n",
      "Running pose estimation on /home/ben/projects/SaoPauloBrazilChapter_BrazilianSignLanguage/webapp/backend/data/interim/RawCleanVideos/filho_uf_3.mp4\n"
     ]
    },
    {
     "name": "stderr",
     "output_type": "stream",
     "text": [
      "W0000 00:00:1749558102.295492   18374 inference_feedback_manager.cc:114] Feedback manager requires a model with a single signature inference. Disabling support for feedback tensors.\n",
      "W0000 00:00:1749558102.325760   18374 inference_feedback_manager.cc:114] Feedback manager requires a model with a single signature inference. Disabling support for feedback tensors.\n",
      "W0000 00:00:1749558102.328010   18374 inference_feedback_manager.cc:114] Feedback manager requires a model with a single signature inference. Disabling support for feedback tensors.\n",
      "W0000 00:00:1749558102.328171   18378 inference_feedback_manager.cc:114] Feedback manager requires a model with a single signature inference. Disabling support for feedback tensors.\n",
      "W0000 00:00:1749558102.329088   18375 inference_feedback_manager.cc:114] Feedback manager requires a model with a single signature inference. Disabling support for feedback tensors.\n",
      "W0000 00:00:1749558102.345428   18378 inference_feedback_manager.cc:114] Feedback manager requires a model with a single signature inference. Disabling support for feedback tensors.\n",
      "W0000 00:00:1749558102.346347   18375 inference_feedback_manager.cc:114] Feedback manager requires a model with a single signature inference. Disabling support for feedback tensors.\n",
      "W0000 00:00:1749558102.352523   18372 inference_feedback_manager.cc:114] Feedback manager requires a model with a single signature inference. Disabling support for feedback tensors.\n"
     ]
    },
    {
     "name": "stdout",
     "output_type": "stream",
     "text": [
      "Saved pose estimation results to /home/ben/projects/SaoPauloBrazilChapter_BrazilianSignLanguage/webapp/backend/data/interim/RawPoseLandmarks/v0\n"
     ]
    },
    {
     "name": "stderr",
     "output_type": "stream",
     "text": [
      "W0000 00:00:1749558105.731582   18413 inference_feedback_manager.cc:114] Feedback manager requires a model with a single signature inference. Disabling support for feedback tensors.\n",
      "W0000 00:00:1749558105.778350   18412 inference_feedback_manager.cc:114] Feedback manager requires a model with a single signature inference. Disabling support for feedback tensors.\n",
      "W0000 00:00:1749558105.781241   18415 inference_feedback_manager.cc:114] Feedback manager requires a model with a single signature inference. Disabling support for feedback tensors.\n",
      "W0000 00:00:1749558105.781541   18413 inference_feedback_manager.cc:114] Feedback manager requires a model with a single signature inference. Disabling support for feedback tensors.\n",
      "W0000 00:00:1749558105.782997   18414 inference_feedback_manager.cc:114] Feedback manager requires a model with a single signature inference. Disabling support for feedback tensors.\n",
      "W0000 00:00:1749558105.793953   18415 inference_feedback_manager.cc:114] Feedback manager requires a model with a single signature inference. Disabling support for feedback tensors.\n",
      "W0000 00:00:1749558105.794565   18413 inference_feedback_manager.cc:114] Feedback manager requires a model with a single signature inference. Disabling support for feedback tensors.\n",
      "W0000 00:00:1749558105.806498   18414 inference_feedback_manager.cc:114] Feedback manager requires a model with a single signature inference. Disabling support for feedback tensors.\n"
     ]
    },
    {
     "name": "stdout",
     "output_type": "stream",
     "text": [
      "Saved motion detection results to /home/ben/projects/SaoPauloBrazilChapter_BrazilianSignLanguage/webapp/backend/data/interim/RawMotionMeasurements/v0\n",
      "Saved motion analysis results to /home/ben/projects/SaoPauloBrazilChapter_BrazilianSignLanguage/webapp/backend/data/interim/RawMotionMeasurements/v0\n",
      "/home/ben/projects/SaoPauloBrazilChapter_BrazilianSignLanguage/webapp/backend/data/interim/RawCleanVideos/filho_vl_4.mp4\n",
      "{'filename': 'filho_vl_4.mp4', 'frame_count': 386, 'fps': 59.94005994005994, 'width': 1280, 'height': 720, 'duration_sec': 6.439766666666666}\n",
      "No pose estimation results found for filho_vl_4.mp4 in v0\n",
      "Running pose estimation on /home/ben/projects/SaoPauloBrazilChapter_BrazilianSignLanguage/webapp/backend/data/interim/RawCleanVideos/filho_vl_4.mp4\n"
     ]
    },
    {
     "name": "stderr",
     "output_type": "stream",
     "text": [
      "W0000 00:00:1749558107.918217   18434 inference_feedback_manager.cc:114] Feedback manager requires a model with a single signature inference. Disabling support for feedback tensors.\n",
      "W0000 00:00:1749558107.950593   18437 inference_feedback_manager.cc:114] Feedback manager requires a model with a single signature inference. Disabling support for feedback tensors.\n",
      "W0000 00:00:1749558107.953197   18438 inference_feedback_manager.cc:114] Feedback manager requires a model with a single signature inference. Disabling support for feedback tensors.\n",
      "W0000 00:00:1749558107.954033   18433 inference_feedback_manager.cc:114] Feedback manager requires a model with a single signature inference. Disabling support for feedback tensors.\n",
      "W0000 00:00:1749558107.954514   18434 inference_feedback_manager.cc:114] Feedback manager requires a model with a single signature inference. Disabling support for feedback tensors.\n",
      "W0000 00:00:1749558107.980119   18434 inference_feedback_manager.cc:114] Feedback manager requires a model with a single signature inference. Disabling support for feedback tensors.\n",
      "W0000 00:00:1749558107.985747   18438 inference_feedback_manager.cc:114] Feedback manager requires a model with a single signature inference. Disabling support for feedback tensors.\n",
      "W0000 00:00:1749558107.986089   18439 inference_feedback_manager.cc:114] Feedback manager requires a model with a single signature inference. Disabling support for feedback tensors.\n"
     ]
    },
    {
     "name": "stdout",
     "output_type": "stream",
     "text": [
      "Saved pose estimation results to /home/ben/projects/SaoPauloBrazilChapter_BrazilianSignLanguage/webapp/backend/data/interim/RawPoseLandmarks/v0\n"
     ]
    },
    {
     "name": "stderr",
     "output_type": "stream",
     "text": [
      "W0000 00:00:1749558124.859588   18504 inference_feedback_manager.cc:114] Feedback manager requires a model with a single signature inference. Disabling support for feedback tensors.\n",
      "W0000 00:00:1749558124.881995   18504 inference_feedback_manager.cc:114] Feedback manager requires a model with a single signature inference. Disabling support for feedback tensors.\n",
      "W0000 00:00:1749558124.884402   18502 inference_feedback_manager.cc:114] Feedback manager requires a model with a single signature inference. Disabling support for feedback tensors.\n",
      "W0000 00:00:1749558124.887090   18508 inference_feedback_manager.cc:114] Feedback manager requires a model with a single signature inference. Disabling support for feedback tensors.\n",
      "W0000 00:00:1749558124.888373   18507 inference_feedback_manager.cc:114] Feedback manager requires a model with a single signature inference. Disabling support for feedback tensors.\n",
      "W0000 00:00:1749558124.896185   18502 inference_feedback_manager.cc:114] Feedback manager requires a model with a single signature inference. Disabling support for feedback tensors.\n",
      "W0000 00:00:1749558124.908425   18508 inference_feedback_manager.cc:114] Feedback manager requires a model with a single signature inference. Disabling support for feedback tensors.\n",
      "W0000 00:00:1749558124.917929   18507 inference_feedback_manager.cc:114] Feedback manager requires a model with a single signature inference. Disabling support for feedback tensors.\n"
     ]
    },
    {
     "name": "stdout",
     "output_type": "stream",
     "text": [
      "Saved motion detection results to /home/ben/projects/SaoPauloBrazilChapter_BrazilianSignLanguage/webapp/backend/data/interim/RawMotionMeasurements/v0\n",
      "Saved motion analysis results to /home/ben/projects/SaoPauloBrazilChapter_BrazilianSignLanguage/webapp/backend/data/interim/RawMotionMeasurements/v0\n",
      "/home/ben/projects/SaoPauloBrazilChapter_BrazilianSignLanguage/webapp/backend/data/interim/RawCleanVideos/filho_vl_5.mp4\n",
      "{'filename': 'filho_vl_5.mp4', 'frame_count': 196, 'fps': 29.97002997002997, 'width': 1920, 'height': 1080, 'duration_sec': 6.539866666666667}\n",
      "No pose estimation results found for filho_vl_5.mp4 in v0\n",
      "Running pose estimation on /home/ben/projects/SaoPauloBrazilChapter_BrazilianSignLanguage/webapp/backend/data/interim/RawCleanVideos/filho_vl_5.mp4\n"
     ]
    },
    {
     "name": "stderr",
     "output_type": "stream",
     "text": [
      "W0000 00:00:1749558131.042716   18544 inference_feedback_manager.cc:114] Feedback manager requires a model with a single signature inference. Disabling support for feedback tensors.\n",
      "W0000 00:00:1749558131.078310   18544 inference_feedback_manager.cc:114] Feedback manager requires a model with a single signature inference. Disabling support for feedback tensors.\n",
      "W0000 00:00:1749558131.081712   18548 inference_feedback_manager.cc:114] Feedback manager requires a model with a single signature inference. Disabling support for feedback tensors.\n",
      "W0000 00:00:1749558131.081888   18542 inference_feedback_manager.cc:114] Feedback manager requires a model with a single signature inference. Disabling support for feedback tensors.\n",
      "W0000 00:00:1749558131.082154   18546 inference_feedback_manager.cc:114] Feedback manager requires a model with a single signature inference. Disabling support for feedback tensors.\n",
      "W0000 00:00:1749558131.112914   18548 inference_feedback_manager.cc:114] Feedback manager requires a model with a single signature inference. Disabling support for feedback tensors.\n",
      "W0000 00:00:1749558131.116103   18546 inference_feedback_manager.cc:114] Feedback manager requires a model with a single signature inference. Disabling support for feedback tensors.\n",
      "W0000 00:00:1749558131.116660   18542 inference_feedback_manager.cc:114] Feedback manager requires a model with a single signature inference. Disabling support for feedback tensors.\n"
     ]
    },
    {
     "name": "stdout",
     "output_type": "stream",
     "text": [
      "Saved pose estimation results to /home/ben/projects/SaoPauloBrazilChapter_BrazilianSignLanguage/webapp/backend/data/interim/RawPoseLandmarks/v0\n",
      "Saved motion detection results to /home/ben/projects/SaoPauloBrazilChapter_BrazilianSignLanguage/webapp/backend/data/interim/RawMotionMeasurements/v0\n",
      "Saved motion analysis results to /home/ben/projects/SaoPauloBrazilChapter_BrazilianSignLanguage/webapp/backend/data/interim/RawMotionMeasurements/v0\n"
     ]
    },
    {
     "name": "stderr",
     "output_type": "stream",
     "text": [
      "W0000 00:00:1749558138.599642   18597 inference_feedback_manager.cc:114] Feedback manager requires a model with a single signature inference. Disabling support for feedback tensors.\n",
      "W0000 00:00:1749558138.627153   18597 inference_feedback_manager.cc:114] Feedback manager requires a model with a single signature inference. Disabling support for feedback tensors.\n",
      "W0000 00:00:1749558138.629800   18598 inference_feedback_manager.cc:114] Feedback manager requires a model with a single signature inference. Disabling support for feedback tensors.\n",
      "W0000 00:00:1749558138.630432   18600 inference_feedback_manager.cc:114] Feedback manager requires a model with a single signature inference. Disabling support for feedback tensors.\n",
      "W0000 00:00:1749558138.630494   18602 inference_feedback_manager.cc:114] Feedback manager requires a model with a single signature inference. Disabling support for feedback tensors.\n",
      "W0000 00:00:1749558138.645073   18598 inference_feedback_manager.cc:114] Feedback manager requires a model with a single signature inference. Disabling support for feedback tensors.\n",
      "W0000 00:00:1749558138.646040   18600 inference_feedback_manager.cc:114] Feedback manager requires a model with a single signature inference. Disabling support for feedback tensors.\n",
      "W0000 00:00:1749558138.649431   18601 inference_feedback_manager.cc:114] Feedback manager requires a model with a single signature inference. Disabling support for feedback tensors.\n"
     ]
    },
    {
     "name": "stdout",
     "output_type": "stream",
     "text": [
      "/home/ben/projects/SaoPauloBrazilChapter_BrazilianSignLanguage/webapp/backend/data/interim/RawCleanVideos/filho_vl_6.mp4\n",
      "{'filename': 'filho_vl_6.mp4', 'frame_count': 142, 'fps': 29.97002997002997, 'width': 1920, 'height': 1080, 'duration_sec': 4.738066666666667}\n",
      "No pose estimation results found for filho_vl_6.mp4 in v0\n",
      "Running pose estimation on /home/ben/projects/SaoPauloBrazilChapter_BrazilianSignLanguage/webapp/backend/data/interim/RawCleanVideos/filho_vl_6.mp4\n"
     ]
    },
    {
     "name": "stderr",
     "output_type": "stream",
     "text": [
      "W0000 00:00:1749558142.188476   18628 inference_feedback_manager.cc:114] Feedback manager requires a model with a single signature inference. Disabling support for feedback tensors.\n",
      "W0000 00:00:1749558142.214306   18628 inference_feedback_manager.cc:114] Feedback manager requires a model with a single signature inference. Disabling support for feedback tensors.\n",
      "W0000 00:00:1749558142.219130   18630 inference_feedback_manager.cc:114] Feedback manager requires a model with a single signature inference. Disabling support for feedback tensors.\n",
      "W0000 00:00:1749558142.221327   18634 inference_feedback_manager.cc:114] Feedback manager requires a model with a single signature inference. Disabling support for feedback tensors.\n",
      "W0000 00:00:1749558142.221391   18635 inference_feedback_manager.cc:114] Feedback manager requires a model with a single signature inference. Disabling support for feedback tensors.\n",
      "W0000 00:00:1749558142.259480   18635 inference_feedback_manager.cc:114] Feedback manager requires a model with a single signature inference. Disabling support for feedback tensors.\n",
      "W0000 00:00:1749558142.261535   18630 inference_feedback_manager.cc:114] Feedback manager requires a model with a single signature inference. Disabling support for feedback tensors.\n",
      "W0000 00:00:1749558142.265461   18634 inference_feedback_manager.cc:114] Feedback manager requires a model with a single signature inference. Disabling support for feedback tensors.\n"
     ]
    },
    {
     "name": "stdout",
     "output_type": "stream",
     "text": [
      "Saved pose estimation results to /home/ben/projects/SaoPauloBrazilChapter_BrazilianSignLanguage/webapp/backend/data/interim/RawPoseLandmarks/v0\n"
     ]
    },
    {
     "name": "stderr",
     "output_type": "stream",
     "text": [
      "W0000 00:00:1749558148.805024   18669 inference_feedback_manager.cc:114] Feedback manager requires a model with a single signature inference. Disabling support for feedback tensors.\n",
      "W0000 00:00:1749558148.834315   18669 inference_feedback_manager.cc:114] Feedback manager requires a model with a single signature inference. Disabling support for feedback tensors.\n",
      "W0000 00:00:1749558148.836993   18672 inference_feedback_manager.cc:114] Feedback manager requires a model with a single signature inference. Disabling support for feedback tensors.\n",
      "W0000 00:00:1749558148.837227   18669 inference_feedback_manager.cc:114] Feedback manager requires a model with a single signature inference. Disabling support for feedback tensors.\n",
      "W0000 00:00:1749558148.838065   18673 inference_feedback_manager.cc:114] Feedback manager requires a model with a single signature inference. Disabling support for feedback tensors.\n",
      "W0000 00:00:1749558148.849110   18672 inference_feedback_manager.cc:114] Feedback manager requires a model with a single signature inference. Disabling support for feedback tensors.\n",
      "W0000 00:00:1749558148.849828   18669 inference_feedback_manager.cc:114] Feedback manager requires a model with a single signature inference. Disabling support for feedback tensors.\n",
      "W0000 00:00:1749558148.866114   18673 inference_feedback_manager.cc:114] Feedback manager requires a model with a single signature inference. Disabling support for feedback tensors.\n"
     ]
    },
    {
     "name": "stdout",
     "output_type": "stream",
     "text": [
      "Saved motion detection results to /home/ben/projects/SaoPauloBrazilChapter_BrazilianSignLanguage/webapp/backend/data/interim/RawMotionMeasurements/v0\n",
      "Saved motion analysis results to /home/ben/projects/SaoPauloBrazilChapter_BrazilianSignLanguage/webapp/backend/data/interim/RawMotionMeasurements/v0\n",
      "/home/ben/projects/SaoPauloBrazilChapter_BrazilianSignLanguage/webapp/backend/data/interim/RawCleanVideos/garganta_ne_1.mp4\n",
      "{'filename': 'garganta_ne_1.mp4', 'frame_count': 39, 'fps': 12.0, 'width': 240, 'height': 176, 'duration_sec': 3.25}\n",
      "No pose estimation results found for garganta_ne_1.mp4 in v0\n",
      "Running pose estimation on /home/ben/projects/SaoPauloBrazilChapter_BrazilianSignLanguage/webapp/backend/data/interim/RawCleanVideos/garganta_ne_1.mp4\n"
     ]
    },
    {
     "name": "stderr",
     "output_type": "stream",
     "text": [
      "W0000 00:00:1749558151.122100   18689 inference_feedback_manager.cc:114] Feedback manager requires a model with a single signature inference. Disabling support for feedback tensors.\n",
      "W0000 00:00:1749558151.148527   18689 inference_feedback_manager.cc:114] Feedback manager requires a model with a single signature inference. Disabling support for feedback tensors.\n",
      "W0000 00:00:1749558151.151755   18690 inference_feedback_manager.cc:114] Feedback manager requires a model with a single signature inference. Disabling support for feedback tensors.\n",
      "W0000 00:00:1749558151.152341   18689 inference_feedback_manager.cc:114] Feedback manager requires a model with a single signature inference. Disabling support for feedback tensors.\n",
      "W0000 00:00:1749558151.152451   18694 inference_feedback_manager.cc:114] Feedback manager requires a model with a single signature inference. Disabling support for feedback tensors.\n",
      "W0000 00:00:1749558151.179944   18690 inference_feedback_manager.cc:114] Feedback manager requires a model with a single signature inference. Disabling support for feedback tensors.\n",
      "W0000 00:00:1749558151.185174   18689 inference_feedback_manager.cc:114] Feedback manager requires a model with a single signature inference. Disabling support for feedback tensors.\n",
      "W0000 00:00:1749558151.188624   18695 inference_feedback_manager.cc:114] Feedback manager requires a model with a single signature inference. Disabling support for feedback tensors.\n"
     ]
    },
    {
     "name": "stdout",
     "output_type": "stream",
     "text": [
      "Saved pose estimation results to /home/ben/projects/SaoPauloBrazilChapter_BrazilianSignLanguage/webapp/backend/data/interim/RawPoseLandmarks/v0\n",
      "Saved motion detection results to /home/ben/projects/SaoPauloBrazilChapter_BrazilianSignLanguage/webapp/backend/data/interim/RawMotionMeasurements/v0\n",
      "Saved motion analysis results to /home/ben/projects/SaoPauloBrazilChapter_BrazilianSignLanguage/webapp/backend/data/interim/RawMotionMeasurements/v0\n"
     ]
    },
    {
     "name": "stderr",
     "output_type": "stream",
     "text": [
      "W0000 00:00:1749558152.976539   18721 inference_feedback_manager.cc:114] Feedback manager requires a model with a single signature inference. Disabling support for feedback tensors.\n",
      "W0000 00:00:1749558153.003894   18721 inference_feedback_manager.cc:114] Feedback manager requires a model with a single signature inference. Disabling support for feedback tensors.\n",
      "W0000 00:00:1749558153.007167   18718 inference_feedback_manager.cc:114] Feedback manager requires a model with a single signature inference. Disabling support for feedback tensors.\n",
      "W0000 00:00:1749558153.007355   18721 inference_feedback_manager.cc:114] Feedback manager requires a model with a single signature inference. Disabling support for feedback tensors.\n",
      "W0000 00:00:1749558153.008183   18723 inference_feedback_manager.cc:114] Feedback manager requires a model with a single signature inference. Disabling support for feedback tensors.\n",
      "W0000 00:00:1749558153.021233   18721 inference_feedback_manager.cc:114] Feedback manager requires a model with a single signature inference. Disabling support for feedback tensors.\n",
      "W0000 00:00:1749558153.021592   18718 inference_feedback_manager.cc:114] Feedback manager requires a model with a single signature inference. Disabling support for feedback tensors.\n",
      "W0000 00:00:1749558153.026510   18723 inference_feedback_manager.cc:114] Feedback manager requires a model with a single signature inference. Disabling support for feedback tensors.\n"
     ]
    },
    {
     "name": "stdout",
     "output_type": "stream",
     "text": [
      "/home/ben/projects/SaoPauloBrazilChapter_BrazilianSignLanguage/webapp/backend/data/interim/RawCleanVideos/garganta_sb_2.mp4\n",
      "{'filename': 'garganta_sb_2.mp4', 'frame_count': 57, 'fps': 29.97002997002997, 'width': 1280, 'height': 720, 'duration_sec': 1.9019}\n",
      "No pose estimation results found for garganta_sb_2.mp4 in v0\n",
      "Running pose estimation on /home/ben/projects/SaoPauloBrazilChapter_BrazilianSignLanguage/webapp/backend/data/interim/RawCleanVideos/garganta_sb_2.mp4\n"
     ]
    },
    {
     "name": "stderr",
     "output_type": "stream",
     "text": [
      "W0000 00:00:1749558153.829293   18740 inference_feedback_manager.cc:114] Feedback manager requires a model with a single signature inference. Disabling support for feedback tensors.\n",
      "W0000 00:00:1749558153.856676   18740 inference_feedback_manager.cc:114] Feedback manager requires a model with a single signature inference. Disabling support for feedback tensors.\n",
      "W0000 00:00:1749558153.859984   18739 inference_feedback_manager.cc:114] Feedback manager requires a model with a single signature inference. Disabling support for feedback tensors.\n",
      "W0000 00:00:1749558153.860023   18742 inference_feedback_manager.cc:114] Feedback manager requires a model with a single signature inference. Disabling support for feedback tensors.\n",
      "W0000 00:00:1749558153.865847   18740 inference_feedback_manager.cc:114] Feedback manager requires a model with a single signature inference. Disabling support for feedback tensors.\n",
      "W0000 00:00:1749558153.900755   18742 inference_feedback_manager.cc:114] Feedback manager requires a model with a single signature inference. Disabling support for feedback tensors.\n",
      "W0000 00:00:1749558153.905522   18739 inference_feedback_manager.cc:114] Feedback manager requires a model with a single signature inference. Disabling support for feedback tensors.\n",
      "W0000 00:00:1749558153.914886   18740 inference_feedback_manager.cc:114] Feedback manager requires a model with a single signature inference. Disabling support for feedback tensors.\n"
     ]
    },
    {
     "name": "stdout",
     "output_type": "stream",
     "text": [
      "Saved pose estimation results to /home/ben/projects/SaoPauloBrazilChapter_BrazilianSignLanguage/webapp/backend/data/interim/RawPoseLandmarks/v0\n",
      "Saved motion detection results to /home/ben/projects/SaoPauloBrazilChapter_BrazilianSignLanguage/webapp/backend/data/interim/RawMotionMeasurements/v0\n",
      "Saved motion analysis results to /home/ben/projects/SaoPauloBrazilChapter_BrazilianSignLanguage/webapp/backend/data/interim/RawMotionMeasurements/v0\n"
     ]
    },
    {
     "name": "stderr",
     "output_type": "stream",
     "text": [
      "W0000 00:00:1749558156.359158   18761 inference_feedback_manager.cc:114] Feedback manager requires a model with a single signature inference. Disabling support for feedback tensors.\n",
      "W0000 00:00:1749558156.399523   18767 inference_feedback_manager.cc:114] Feedback manager requires a model with a single signature inference. Disabling support for feedback tensors.\n",
      "W0000 00:00:1749558156.401865   18765 inference_feedback_manager.cc:114] Feedback manager requires a model with a single signature inference. Disabling support for feedback tensors.\n",
      "W0000 00:00:1749558156.401909   18764 inference_feedback_manager.cc:114] Feedback manager requires a model with a single signature inference. Disabling support for feedback tensors.\n",
      "W0000 00:00:1749558156.402017   18763 inference_feedback_manager.cc:114] Feedback manager requires a model with a single signature inference. Disabling support for feedback tensors.\n",
      "W0000 00:00:1749558156.415752   18765 inference_feedback_manager.cc:114] Feedback manager requires a model with a single signature inference. Disabling support for feedback tensors.\n",
      "W0000 00:00:1749558156.419110   18763 inference_feedback_manager.cc:114] Feedback manager requires a model with a single signature inference. Disabling support for feedback tensors.\n",
      "W0000 00:00:1749558156.421530   18764 inference_feedback_manager.cc:114] Feedback manager requires a model with a single signature inference. Disabling support for feedback tensors.\n"
     ]
    },
    {
     "name": "stdout",
     "output_type": "stream",
     "text": [
      "/home/ben/projects/SaoPauloBrazilChapter_BrazilianSignLanguage/webapp/backend/data/interim/RawCleanVideos/garganta_uf_3.mp4\n",
      "{'filename': 'garganta_uf_3.mp4', 'frame_count': 114, 'fps': 29.97002997002997, 'width': 480, 'height': 270, 'duration_sec': 3.8038}\n",
      "No pose estimation results found for garganta_uf_3.mp4 in v0\n",
      "Running pose estimation on /home/ben/projects/SaoPauloBrazilChapter_BrazilianSignLanguage/webapp/backend/data/interim/RawCleanVideos/garganta_uf_3.mp4\n"
     ]
    },
    {
     "name": "stderr",
     "output_type": "stream",
     "text": [
      "W0000 00:00:1749558157.698761   18781 inference_feedback_manager.cc:114] Feedback manager requires a model with a single signature inference. Disabling support for feedback tensors.\n",
      "W0000 00:00:1749558157.723529   18781 inference_feedback_manager.cc:114] Feedback manager requires a model with a single signature inference. Disabling support for feedback tensors.\n",
      "W0000 00:00:1749558157.726641   18781 inference_feedback_manager.cc:114] Feedback manager requires a model with a single signature inference. Disabling support for feedback tensors.\n",
      "W0000 00:00:1749558157.726965   18782 inference_feedback_manager.cc:114] Feedback manager requires a model with a single signature inference. Disabling support for feedback tensors.\n",
      "W0000 00:00:1749558157.727724   18787 inference_feedback_manager.cc:114] Feedback manager requires a model with a single signature inference. Disabling support for feedback tensors.\n",
      "W0000 00:00:1749558157.746736   18781 inference_feedback_manager.cc:114] Feedback manager requires a model with a single signature inference. Disabling support for feedback tensors.\n",
      "W0000 00:00:1749558157.748039   18782 inference_feedback_manager.cc:114] Feedback manager requires a model with a single signature inference. Disabling support for feedback tensors.\n",
      "W0000 00:00:1749558157.751885   18787 inference_feedback_manager.cc:114] Feedback manager requires a model with a single signature inference. Disabling support for feedback tensors.\n"
     ]
    },
    {
     "name": "stdout",
     "output_type": "stream",
     "text": [
      "Saved pose estimation results to /home/ben/projects/SaoPauloBrazilChapter_BrazilianSignLanguage/webapp/backend/data/interim/RawPoseLandmarks/v0\n",
      "Saved motion detection results to /home/ben/projects/SaoPauloBrazilChapter_BrazilianSignLanguage/webapp/backend/data/interim/RawMotionMeasurements/v0\n",
      "Saved motion analysis results to /home/ben/projects/SaoPauloBrazilChapter_BrazilianSignLanguage/webapp/backend/data/interim/RawMotionMeasurements/v0\n"
     ]
    },
    {
     "name": "stderr",
     "output_type": "stream",
     "text": [
      "W0000 00:00:1749558162.376585   18819 inference_feedback_manager.cc:114] Feedback manager requires a model with a single signature inference. Disabling support for feedback tensors.\n",
      "W0000 00:00:1749558162.394600   18819 inference_feedback_manager.cc:114] Feedback manager requires a model with a single signature inference. Disabling support for feedback tensors.\n",
      "W0000 00:00:1749558162.396911   18822 inference_feedback_manager.cc:114] Feedback manager requires a model with a single signature inference. Disabling support for feedback tensors.\n",
      "W0000 00:00:1749558162.397522   18818 inference_feedback_manager.cc:114] Feedback manager requires a model with a single signature inference. Disabling support for feedback tensors.\n",
      "W0000 00:00:1749558162.398805   18819 inference_feedback_manager.cc:114] Feedback manager requires a model with a single signature inference. Disabling support for feedback tensors.\n",
      "W0000 00:00:1749558162.411764   18819 inference_feedback_manager.cc:114] Feedback manager requires a model with a single signature inference. Disabling support for feedback tensors.\n",
      "W0000 00:00:1749558162.413439   18822 inference_feedback_manager.cc:114] Feedback manager requires a model with a single signature inference. Disabling support for feedback tensors.\n",
      "W0000 00:00:1749558162.415095   18817 inference_feedback_manager.cc:114] Feedback manager requires a model with a single signature inference. Disabling support for feedback tensors.\n"
     ]
    },
    {
     "name": "stdout",
     "output_type": "stream",
     "text": [
      "/home/ben/projects/SaoPauloBrazilChapter_BrazilianSignLanguage/webapp/backend/data/interim/RawCleanVideos/garganta_vl_4.mp4\n",
      "{'filename': 'garganta_vl_4.mp4', 'frame_count': 178, 'fps': 29.97002997002997, 'width': 1920, 'height': 1080, 'duration_sec': 5.939266666666667}\n",
      "No pose estimation results found for garganta_vl_4.mp4 in v0\n",
      "Running pose estimation on /home/ben/projects/SaoPauloBrazilChapter_BrazilianSignLanguage/webapp/backend/data/interim/RawCleanVideos/garganta_vl_4.mp4\n"
     ]
    },
    {
     "name": "stderr",
     "output_type": "stream",
     "text": [
      "W0000 00:00:1749558164.371876   18844 inference_feedback_manager.cc:114] Feedback manager requires a model with a single signature inference. Disabling support for feedback tensors.\n",
      "W0000 00:00:1749558164.401179   18844 inference_feedback_manager.cc:114] Feedback manager requires a model with a single signature inference. Disabling support for feedback tensors.\n",
      "W0000 00:00:1749558164.405091   18849 inference_feedback_manager.cc:114] Feedback manager requires a model with a single signature inference. Disabling support for feedback tensors.\n",
      "W0000 00:00:1749558164.405869   18843 inference_feedback_manager.cc:114] Feedback manager requires a model with a single signature inference. Disabling support for feedback tensors.\n",
      "W0000 00:00:1749558164.406268   18845 inference_feedback_manager.cc:114] Feedback manager requires a model with a single signature inference. Disabling support for feedback tensors.\n",
      "W0000 00:00:1749558164.433099   18845 inference_feedback_manager.cc:114] Feedback manager requires a model with a single signature inference. Disabling support for feedback tensors.\n",
      "W0000 00:00:1749558164.436508   18849 inference_feedback_manager.cc:114] Feedback manager requires a model with a single signature inference. Disabling support for feedback tensors.\n",
      "W0000 00:00:1749558164.444774   18843 inference_feedback_manager.cc:114] Feedback manager requires a model with a single signature inference. Disabling support for feedback tensors.\n"
     ]
    },
    {
     "name": "stdout",
     "output_type": "stream",
     "text": [
      "Saved pose estimation results to /home/ben/projects/SaoPauloBrazilChapter_BrazilianSignLanguage/webapp/backend/data/interim/RawPoseLandmarks/v0\n"
     ]
    },
    {
     "name": "stderr",
     "output_type": "stream",
     "text": [
      "W0000 00:00:1749558171.015000   18890 inference_feedback_manager.cc:114] Feedback manager requires a model with a single signature inference. Disabling support for feedback tensors.\n",
      "W0000 00:00:1749558171.038115   18890 inference_feedback_manager.cc:114] Feedback manager requires a model with a single signature inference. Disabling support for feedback tensors.\n",
      "W0000 00:00:1749558171.040719   18896 inference_feedback_manager.cc:114] Feedback manager requires a model with a single signature inference. Disabling support for feedback tensors.\n",
      "W0000 00:00:1749558171.041474   18894 inference_feedback_manager.cc:114] Feedback manager requires a model with a single signature inference. Disabling support for feedback tensors.\n",
      "W0000 00:00:1749558171.042091   18893 inference_feedback_manager.cc:114] Feedback manager requires a model with a single signature inference. Disabling support for feedback tensors.\n",
      "W0000 00:00:1749558171.057201   18894 inference_feedback_manager.cc:114] Feedback manager requires a model with a single signature inference. Disabling support for feedback tensors.\n",
      "W0000 00:00:1749558171.057639   18896 inference_feedback_manager.cc:114] Feedback manager requires a model with a single signature inference. Disabling support for feedback tensors.\n",
      "W0000 00:00:1749558171.074885   18893 inference_feedback_manager.cc:114] Feedback manager requires a model with a single signature inference. Disabling support for feedback tensors.\n"
     ]
    },
    {
     "name": "stdout",
     "output_type": "stream",
     "text": [
      "Saved motion detection results to /home/ben/projects/SaoPauloBrazilChapter_BrazilianSignLanguage/webapp/backend/data/interim/RawMotionMeasurements/v0\n",
      "Saved motion analysis results to /home/ben/projects/SaoPauloBrazilChapter_BrazilianSignLanguage/webapp/backend/data/interim/RawMotionMeasurements/v0\n",
      "/home/ben/projects/SaoPauloBrazilChapter_BrazilianSignLanguage/webapp/backend/data/interim/RawCleanVideos/garganta_vl_5.mp4\n",
      "{'filename': 'garganta_vl_5.mp4', 'frame_count': 161, 'fps': 29.97002997002997, 'width': 1920, 'height': 1080, 'duration_sec': 5.372033333333333}\n",
      "No pose estimation results found for garganta_vl_5.mp4 in v0\n",
      "Running pose estimation on /home/ben/projects/SaoPauloBrazilChapter_BrazilianSignLanguage/webapp/backend/data/interim/RawCleanVideos/garganta_vl_5.mp4\n"
     ]
    },
    {
     "name": "stderr",
     "output_type": "stream",
     "text": [
      "W0000 00:00:1749558174.332896   18918 inference_feedback_manager.cc:114] Feedback manager requires a model with a single signature inference. Disabling support for feedback tensors.\n",
      "W0000 00:00:1749558174.373498   18918 inference_feedback_manager.cc:114] Feedback manager requires a model with a single signature inference. Disabling support for feedback tensors.\n",
      "W0000 00:00:1749558174.376928   18922 inference_feedback_manager.cc:114] Feedback manager requires a model with a single signature inference. Disabling support for feedback tensors.\n",
      "W0000 00:00:1749558174.376991   18920 inference_feedback_manager.cc:114] Feedback manager requires a model with a single signature inference. Disabling support for feedback tensors.\n",
      "W0000 00:00:1749558174.380335   18918 inference_feedback_manager.cc:114] Feedback manager requires a model with a single signature inference. Disabling support for feedback tensors.\n",
      "W0000 00:00:1749558174.404875   18916 inference_feedback_manager.cc:114] Feedback manager requires a model with a single signature inference. Disabling support for feedback tensors.\n",
      "W0000 00:00:1749558174.406659   18919 inference_feedback_manager.cc:114] Feedback manager requires a model with a single signature inference. Disabling support for feedback tensors.\n",
      "W0000 00:00:1749558174.409875   18921 inference_feedback_manager.cc:114] Feedback manager requires a model with a single signature inference. Disabling support for feedback tensors.\n"
     ]
    },
    {
     "name": "stdout",
     "output_type": "stream",
     "text": [
      "Saved pose estimation results to /home/ben/projects/SaoPauloBrazilChapter_BrazilianSignLanguage/webapp/backend/data/interim/RawPoseLandmarks/v0\n",
      "Saved motion detection results to /home/ben/projects/SaoPauloBrazilChapter_BrazilianSignLanguage/webapp/backend/data/interim/RawMotionMeasurements/v0\n",
      "Saved motion analysis results to /home/ben/projects/SaoPauloBrazilChapter_BrazilianSignLanguage/webapp/backend/data/interim/RawMotionMeasurements/v0\n"
     ]
    },
    {
     "name": "stderr",
     "output_type": "stream",
     "text": [
      "W0000 00:00:1749558181.746167   18963 inference_feedback_manager.cc:114] Feedback manager requires a model with a single signature inference. Disabling support for feedback tensors.\n",
      "W0000 00:00:1749558181.766884   18963 inference_feedback_manager.cc:114] Feedback manager requires a model with a single signature inference. Disabling support for feedback tensors.\n",
      "W0000 00:00:1749558181.768870   18963 inference_feedback_manager.cc:114] Feedback manager requires a model with a single signature inference. Disabling support for feedback tensors.\n",
      "W0000 00:00:1749558181.769301   18962 inference_feedback_manager.cc:114] Feedback manager requires a model with a single signature inference. Disabling support for feedback tensors.\n",
      "W0000 00:00:1749558181.769428   18966 inference_feedback_manager.cc:114] Feedback manager requires a model with a single signature inference. Disabling support for feedback tensors.\n",
      "W0000 00:00:1749558181.781751   18961 inference_feedback_manager.cc:114] Feedback manager requires a model with a single signature inference. Disabling support for feedback tensors.\n",
      "W0000 00:00:1749558181.793849   18962 inference_feedback_manager.cc:114] Feedback manager requires a model with a single signature inference. Disabling support for feedback tensors.\n",
      "W0000 00:00:1749558181.795542   18966 inference_feedback_manager.cc:114] Feedback manager requires a model with a single signature inference. Disabling support for feedback tensors.\n"
     ]
    },
    {
     "name": "stdout",
     "output_type": "stream",
     "text": [
      "/home/ben/projects/SaoPauloBrazilChapter_BrazilianSignLanguage/webapp/backend/data/interim/RawCleanVideos/garganta_vl_6.mp4\n",
      "{'filename': 'garganta_vl_6.mp4', 'frame_count': 316, 'fps': 59.94005994005994, 'width': 1920, 'height': 1080, 'duration_sec': 5.271933333333333}\n",
      "No pose estimation results found for garganta_vl_6.mp4 in v0\n",
      "Running pose estimation on /home/ben/projects/SaoPauloBrazilChapter_BrazilianSignLanguage/webapp/backend/data/interim/RawCleanVideos/garganta_vl_6.mp4\n"
     ]
    },
    {
     "name": "stderr",
     "output_type": "stream",
     "text": [
      "W0000 00:00:1749558184.488499   18991 inference_feedback_manager.cc:114] Feedback manager requires a model with a single signature inference. Disabling support for feedback tensors.\n",
      "W0000 00:00:1749558184.525267   18991 inference_feedback_manager.cc:114] Feedback manager requires a model with a single signature inference. Disabling support for feedback tensors.\n",
      "W0000 00:00:1749558184.528332   18993 inference_feedback_manager.cc:114] Feedback manager requires a model with a single signature inference. Disabling support for feedback tensors.\n",
      "W0000 00:00:1749558184.528865   18994 inference_feedback_manager.cc:114] Feedback manager requires a model with a single signature inference. Disabling support for feedback tensors.\n",
      "W0000 00:00:1749558184.532408   18991 inference_feedback_manager.cc:114] Feedback manager requires a model with a single signature inference. Disabling support for feedback tensors.\n",
      "W0000 00:00:1749558184.553352   18993 inference_feedback_manager.cc:114] Feedback manager requires a model with a single signature inference. Disabling support for feedback tensors.\n",
      "W0000 00:00:1749558184.554749   18994 inference_feedback_manager.cc:114] Feedback manager requires a model with a single signature inference. Disabling support for feedback tensors.\n",
      "W0000 00:00:1749558184.564285   18995 inference_feedback_manager.cc:114] Feedback manager requires a model with a single signature inference. Disabling support for feedback tensors.\n"
     ]
    },
    {
     "name": "stdout",
     "output_type": "stream",
     "text": [
      "Saved pose estimation results to /home/ben/projects/SaoPauloBrazilChapter_BrazilianSignLanguage/webapp/backend/data/interim/RawPoseLandmarks/v0\n"
     ]
    },
    {
     "name": "stderr",
     "output_type": "stream",
     "text": [
      "W0000 00:00:1749558199.010633   19053 inference_feedback_manager.cc:114] Feedback manager requires a model with a single signature inference. Disabling support for feedback tensors.\n",
      "W0000 00:00:1749558199.034472   19053 inference_feedback_manager.cc:114] Feedback manager requires a model with a single signature inference. Disabling support for feedback tensors.\n",
      "W0000 00:00:1749558199.036654   19055 inference_feedback_manager.cc:114] Feedback manager requires a model with a single signature inference. Disabling support for feedback tensors.\n",
      "W0000 00:00:1749558199.037633   19053 inference_feedback_manager.cc:114] Feedback manager requires a model with a single signature inference. Disabling support for feedback tensors.\n",
      "W0000 00:00:1749558199.039046   19051 inference_feedback_manager.cc:114] Feedback manager requires a model with a single signature inference. Disabling support for feedback tensors.\n",
      "W0000 00:00:1749558199.050311   19055 inference_feedback_manager.cc:114] Feedback manager requires a model with a single signature inference. Disabling support for feedback tensors.\n",
      "W0000 00:00:1749558199.052555   19053 inference_feedback_manager.cc:114] Feedback manager requires a model with a single signature inference. Disabling support for feedback tensors.\n",
      "W0000 00:00:1749558197.465124   19051 inference_feedback_manager.cc:114] Feedback manager requires a model with a single signature inference. Disabling support for feedback tensors.\n"
     ]
    },
    {
     "name": "stdout",
     "output_type": "stream",
     "text": [
      "Saved motion detection results to /home/ben/projects/SaoPauloBrazilChapter_BrazilianSignLanguage/webapp/backend/data/interim/RawMotionMeasurements/v0\n",
      "Saved motion analysis results to /home/ben/projects/SaoPauloBrazilChapter_BrazilianSignLanguage/webapp/backend/data/interim/RawMotionMeasurements/v0\n",
      "/home/ben/projects/SaoPauloBrazilChapter_BrazilianSignLanguage/webapp/backend/data/interim/RawCleanVideos/homem_ne_1.mp4\n",
      "{'filename': 'homem_ne_1.mp4', 'frame_count': 41, 'fps': 12.0, 'width': 240, 'height': 176, 'duration_sec': 3.4166666666666665}\n",
      "No pose estimation results found for homem_ne_1.mp4 in v0\n",
      "Running pose estimation on /home/ben/projects/SaoPauloBrazilChapter_BrazilianSignLanguage/webapp/backend/data/interim/RawCleanVideos/homem_ne_1.mp4\n"
     ]
    },
    {
     "name": "stderr",
     "output_type": "stream",
     "text": [
      "W0000 00:00:1749558203.784835   19093 inference_feedback_manager.cc:114] Feedback manager requires a model with a single signature inference. Disabling support for feedback tensors.\n",
      "W0000 00:00:1749558203.881010   19093 inference_feedback_manager.cc:114] Feedback manager requires a model with a single signature inference. Disabling support for feedback tensors.\n",
      "W0000 00:00:1749558203.884788   19096 inference_feedback_manager.cc:114] Feedback manager requires a model with a single signature inference. Disabling support for feedback tensors.\n",
      "W0000 00:00:1749558203.886542   19098 inference_feedback_manager.cc:114] Feedback manager requires a model with a single signature inference. Disabling support for feedback tensors.\n",
      "W0000 00:00:1749558203.887564   19097 inference_feedback_manager.cc:114] Feedback manager requires a model with a single signature inference. Disabling support for feedback tensors.\n",
      "W0000 00:00:1749558203.940630   19097 inference_feedback_manager.cc:114] Feedback manager requires a model with a single signature inference. Disabling support for feedback tensors.\n",
      "W0000 00:00:1749558203.942013   19098 inference_feedback_manager.cc:114] Feedback manager requires a model with a single signature inference. Disabling support for feedback tensors.\n",
      "W0000 00:00:1749558203.947961   19096 inference_feedback_manager.cc:114] Feedback manager requires a model with a single signature inference. Disabling support for feedback tensors.\n"
     ]
    },
    {
     "name": "stdout",
     "output_type": "stream",
     "text": [
      "Saved pose estimation results to /home/ben/projects/SaoPauloBrazilChapter_BrazilianSignLanguage/webapp/backend/data/interim/RawPoseLandmarks/v0\n"
     ]
    },
    {
     "name": "stderr",
     "output_type": "stream",
     "text": [
      "W0000 00:00:1749558207.017927   19120 inference_feedback_manager.cc:114] Feedback manager requires a model with a single signature inference. Disabling support for feedback tensors.\n",
      "W0000 00:00:1749558207.048994   19120 inference_feedback_manager.cc:114] Feedback manager requires a model with a single signature inference. Disabling support for feedback tensors.\n",
      "W0000 00:00:1749558207.051498   19124 inference_feedback_manager.cc:114] Feedback manager requires a model with a single signature inference. Disabling support for feedback tensors.\n",
      "W0000 00:00:1749558207.053598   19121 inference_feedback_manager.cc:114] Feedback manager requires a model with a single signature inference. Disabling support for feedback tensors.\n",
      "W0000 00:00:1749558207.053647   19122 inference_feedback_manager.cc:114] Feedback manager requires a model with a single signature inference. Disabling support for feedback tensors.\n",
      "W0000 00:00:1749558207.075930   19125 inference_feedback_manager.cc:114] Feedback manager requires a model with a single signature inference. Disabling support for feedback tensors.\n",
      "W0000 00:00:1749558207.081815   19124 inference_feedback_manager.cc:114] Feedback manager requires a model with a single signature inference. Disabling support for feedback tensors.\n",
      "W0000 00:00:1749558207.098146   19121 inference_feedback_manager.cc:114] Feedback manager requires a model with a single signature inference. Disabling support for feedback tensors.\n"
     ]
    },
    {
     "name": "stdout",
     "output_type": "stream",
     "text": [
      "Saved motion detection results to /home/ben/projects/SaoPauloBrazilChapter_BrazilianSignLanguage/webapp/backend/data/interim/RawMotionMeasurements/v0\n",
      "Saved motion analysis results to /home/ben/projects/SaoPauloBrazilChapter_BrazilianSignLanguage/webapp/backend/data/interim/RawMotionMeasurements/v0\n",
      "/home/ben/projects/SaoPauloBrazilChapter_BrazilianSignLanguage/webapp/backend/data/interim/RawCleanVideos/homem_sb_2.mp4\n",
      "{'filename': 'homem_sb_2.mp4', 'frame_count': 64, 'fps': 29.97002997002997, 'width': 1280, 'height': 720, 'duration_sec': 2.135466666666667}\n",
      "No pose estimation results found for homem_sb_2.mp4 in v0\n",
      "Running pose estimation on /home/ben/projects/SaoPauloBrazilChapter_BrazilianSignLanguage/webapp/backend/data/interim/RawCleanVideos/homem_sb_2.mp4\n"
     ]
    },
    {
     "name": "stderr",
     "output_type": "stream",
     "text": [
      "W0000 00:00:1749558208.196797   19138 inference_feedback_manager.cc:114] Feedback manager requires a model with a single signature inference. Disabling support for feedback tensors.\n",
      "W0000 00:00:1749558208.248886   19138 inference_feedback_manager.cc:114] Feedback manager requires a model with a single signature inference. Disabling support for feedback tensors.\n",
      "W0000 00:00:1749558208.251643   19143 inference_feedback_manager.cc:114] Feedback manager requires a model with a single signature inference. Disabling support for feedback tensors.\n",
      "W0000 00:00:1749558208.251891   19139 inference_feedback_manager.cc:114] Feedback manager requires a model with a single signature inference. Disabling support for feedback tensors.\n",
      "W0000 00:00:1749558208.257369   19142 inference_feedback_manager.cc:114] Feedback manager requires a model with a single signature inference. Disabling support for feedback tensors.\n",
      "W0000 00:00:1749558208.270346   19143 inference_feedback_manager.cc:114] Feedback manager requires a model with a single signature inference. Disabling support for feedback tensors.\n",
      "W0000 00:00:1749558208.290144   19142 inference_feedback_manager.cc:114] Feedback manager requires a model with a single signature inference. Disabling support for feedback tensors.\n",
      "W0000 00:00:1749558208.296131   19141 inference_feedback_manager.cc:114] Feedback manager requires a model with a single signature inference. Disabling support for feedback tensors.\n"
     ]
    },
    {
     "name": "stdout",
     "output_type": "stream",
     "text": [
      "Saved pose estimation results to /home/ben/projects/SaoPauloBrazilChapter_BrazilianSignLanguage/webapp/backend/data/interim/RawPoseLandmarks/v0\n",
      "Saved motion detection results to /home/ben/projects/SaoPauloBrazilChapter_BrazilianSignLanguage/webapp/backend/data/interim/RawMotionMeasurements/v0\n",
      "Saved motion analysis results to /home/ben/projects/SaoPauloBrazilChapter_BrazilianSignLanguage/webapp/backend/data/interim/RawMotionMeasurements/v0\n"
     ]
    },
    {
     "name": "stderr",
     "output_type": "stream",
     "text": [
      "W0000 00:00:1749558211.384639   19167 inference_feedback_manager.cc:114] Feedback manager requires a model with a single signature inference. Disabling support for feedback tensors.\n",
      "W0000 00:00:1749558211.405688   19167 inference_feedback_manager.cc:114] Feedback manager requires a model with a single signature inference. Disabling support for feedback tensors.\n",
      "W0000 00:00:1749558211.408201   19165 inference_feedback_manager.cc:114] Feedback manager requires a model with a single signature inference. Disabling support for feedback tensors.\n",
      "W0000 00:00:1749558211.408313   19171 inference_feedback_manager.cc:114] Feedback manager requires a model with a single signature inference. Disabling support for feedback tensors.\n",
      "W0000 00:00:1749558211.409017   19167 inference_feedback_manager.cc:114] Feedback manager requires a model with a single signature inference. Disabling support for feedback tensors.\n",
      "W0000 00:00:1749558211.423418   19171 inference_feedback_manager.cc:114] Feedback manager requires a model with a single signature inference. Disabling support for feedback tensors.\n",
      "W0000 00:00:1749558211.424158   19165 inference_feedback_manager.cc:114] Feedback manager requires a model with a single signature inference. Disabling support for feedback tensors.\n",
      "W0000 00:00:1749558211.425075   19167 inference_feedback_manager.cc:114] Feedback manager requires a model with a single signature inference. Disabling support for feedback tensors.\n"
     ]
    },
    {
     "name": "stdout",
     "output_type": "stream",
     "text": [
      "/home/ben/projects/SaoPauloBrazilChapter_BrazilianSignLanguage/webapp/backend/data/interim/RawCleanVideos/homem_uf_3.mp4\n",
      "{'filename': 'homem_uf_3.mp4', 'frame_count': 117, 'fps': 29.97002997002997, 'width': 480, 'height': 270, 'duration_sec': 3.9039}\n",
      "No pose estimation results found for homem_uf_3.mp4 in v0\n",
      "Running pose estimation on /home/ben/projects/SaoPauloBrazilChapter_BrazilianSignLanguage/webapp/backend/data/interim/RawCleanVideos/homem_uf_3.mp4\n"
     ]
    },
    {
     "name": "stderr",
     "output_type": "stream",
     "text": [
      "W0000 00:00:1749558212.752034   19183 inference_feedback_manager.cc:114] Feedback manager requires a model with a single signature inference. Disabling support for feedback tensors.\n",
      "W0000 00:00:1749558212.777100   19183 inference_feedback_manager.cc:114] Feedback manager requires a model with a single signature inference. Disabling support for feedback tensors.\n",
      "W0000 00:00:1749558212.780885   19184 inference_feedback_manager.cc:114] Feedback manager requires a model with a single signature inference. Disabling support for feedback tensors.\n",
      "W0000 00:00:1749558212.781029   19180 inference_feedback_manager.cc:114] Feedback manager requires a model with a single signature inference. Disabling support for feedback tensors.\n",
      "W0000 00:00:1749558212.780915   19181 inference_feedback_manager.cc:114] Feedback manager requires a model with a single signature inference. Disabling support for feedback tensors.\n",
      "W0000 00:00:1749558212.804445   19184 inference_feedback_manager.cc:114] Feedback manager requires a model with a single signature inference. Disabling support for feedback tensors.\n",
      "W0000 00:00:1749558212.805828   19180 inference_feedback_manager.cc:114] Feedback manager requires a model with a single signature inference. Disabling support for feedback tensors.\n",
      "W0000 00:00:1749558212.807068   19181 inference_feedback_manager.cc:114] Feedback manager requires a model with a single signature inference. Disabling support for feedback tensors.\n"
     ]
    },
    {
     "name": "stdout",
     "output_type": "stream",
     "text": [
      "Saved pose estimation results to /home/ben/projects/SaoPauloBrazilChapter_BrazilianSignLanguage/webapp/backend/data/interim/RawPoseLandmarks/v0\n",
      "Saved motion detection results to /home/ben/projects/SaoPauloBrazilChapter_BrazilianSignLanguage/webapp/backend/data/interim/RawMotionMeasurements/v0\n",
      "Saved motion analysis results to /home/ben/projects/SaoPauloBrazilChapter_BrazilianSignLanguage/webapp/backend/data/interim/RawMotionMeasurements/v0\n"
     ]
    },
    {
     "name": "stderr",
     "output_type": "stream",
     "text": [
      "W0000 00:00:1749558217.798364   19216 inference_feedback_manager.cc:114] Feedback manager requires a model with a single signature inference. Disabling support for feedback tensors.\n",
      "W0000 00:00:1749558217.818839   19216 inference_feedback_manager.cc:114] Feedback manager requires a model with a single signature inference. Disabling support for feedback tensors.\n",
      "W0000 00:00:1749558217.821954   19217 inference_feedback_manager.cc:114] Feedback manager requires a model with a single signature inference. Disabling support for feedback tensors.\n",
      "W0000 00:00:1749558217.822202   19216 inference_feedback_manager.cc:114] Feedback manager requires a model with a single signature inference. Disabling support for feedback tensors.\n",
      "W0000 00:00:1749558217.823057   19221 inference_feedback_manager.cc:114] Feedback manager requires a model with a single signature inference. Disabling support for feedback tensors.\n",
      "W0000 00:00:1749558217.836528   19216 inference_feedback_manager.cc:114] Feedback manager requires a model with a single signature inference. Disabling support for feedback tensors.\n",
      "W0000 00:00:1749558217.848013   19217 inference_feedback_manager.cc:114] Feedback manager requires a model with a single signature inference. Disabling support for feedback tensors.\n",
      "W0000 00:00:1749558217.851847   19221 inference_feedback_manager.cc:114] Feedback manager requires a model with a single signature inference. Disabling support for feedback tensors.\n"
     ]
    },
    {
     "name": "stdout",
     "output_type": "stream",
     "text": [
      "/home/ben/projects/SaoPauloBrazilChapter_BrazilianSignLanguage/webapp/backend/data/interim/RawCleanVideos/homem_vl_4.mp4\n",
      "{'filename': 'homem_vl_4.mp4', 'frame_count': 142, 'fps': 29.97002997002997, 'width': 1920, 'height': 1080, 'duration_sec': 4.738066666666667}\n",
      "No pose estimation results found for homem_vl_4.mp4 in v0\n",
      "Running pose estimation on /home/ben/projects/SaoPauloBrazilChapter_BrazilianSignLanguage/webapp/backend/data/interim/RawCleanVideos/homem_vl_4.mp4\n"
     ]
    },
    {
     "name": "stderr",
     "output_type": "stream",
     "text": [
      "W0000 00:00:1749558219.642626   19238 inference_feedback_manager.cc:114] Feedback manager requires a model with a single signature inference. Disabling support for feedback tensors.\n",
      "W0000 00:00:1749558219.670247   19238 inference_feedback_manager.cc:114] Feedback manager requires a model with a single signature inference. Disabling support for feedback tensors.\n",
      "W0000 00:00:1749558219.673309   19240 inference_feedback_manager.cc:114] Feedback manager requires a model with a single signature inference. Disabling support for feedback tensors.\n",
      "W0000 00:00:1749558219.673382   19239 inference_feedback_manager.cc:114] Feedback manager requires a model with a single signature inference. Disabling support for feedback tensors.\n",
      "W0000 00:00:1749558219.673442   19238 inference_feedback_manager.cc:114] Feedback manager requires a model with a single signature inference. Disabling support for feedback tensors.\n",
      "W0000 00:00:1749558219.697506   19240 inference_feedback_manager.cc:114] Feedback manager requires a model with a single signature inference. Disabling support for feedback tensors.\n",
      "W0000 00:00:1749558219.699426   19239 inference_feedback_manager.cc:114] Feedback manager requires a model with a single signature inference. Disabling support for feedback tensors.\n",
      "W0000 00:00:1749558219.700309   19242 inference_feedback_manager.cc:114] Feedback manager requires a model with a single signature inference. Disabling support for feedback tensors.\n"
     ]
    },
    {
     "name": "stdout",
     "output_type": "stream",
     "text": [
      "Saved pose estimation results to /home/ben/projects/SaoPauloBrazilChapter_BrazilianSignLanguage/webapp/backend/data/interim/RawPoseLandmarks/v0\n"
     ]
    },
    {
     "name": "stderr",
     "output_type": "stream",
     "text": [
      "W0000 00:00:1749558226.457802   19272 inference_feedback_manager.cc:114] Feedback manager requires a model with a single signature inference. Disabling support for feedback tensors.\n",
      "W0000 00:00:1749558226.492202   19272 inference_feedback_manager.cc:114] Feedback manager requires a model with a single signature inference. Disabling support for feedback tensors.\n",
      "W0000 00:00:1749558226.494695   19273 inference_feedback_manager.cc:114] Feedback manager requires a model with a single signature inference. Disabling support for feedback tensors.\n",
      "W0000 00:00:1749558226.494713   19270 inference_feedback_manager.cc:114] Feedback manager requires a model with a single signature inference. Disabling support for feedback tensors.\n",
      "W0000 00:00:1749558226.495436   19272 inference_feedback_manager.cc:114] Feedback manager requires a model with a single signature inference. Disabling support for feedback tensors.\n",
      "W0000 00:00:1749558226.509614   19270 inference_feedback_manager.cc:114] Feedback manager requires a model with a single signature inference. Disabling support for feedback tensors.\n",
      "W0000 00:00:1749558226.517232   19273 inference_feedback_manager.cc:114] Feedback manager requires a model with a single signature inference. Disabling support for feedback tensors.\n",
      "W0000 00:00:1749558226.528787   19275 inference_feedback_manager.cc:114] Feedback manager requires a model with a single signature inference. Disabling support for feedback tensors.\n"
     ]
    },
    {
     "name": "stdout",
     "output_type": "stream",
     "text": [
      "Saved motion detection results to /home/ben/projects/SaoPauloBrazilChapter_BrazilianSignLanguage/webapp/backend/data/interim/RawMotionMeasurements/v0\n",
      "Saved motion analysis results to /home/ben/projects/SaoPauloBrazilChapter_BrazilianSignLanguage/webapp/backend/data/interim/RawMotionMeasurements/v0\n",
      "/home/ben/projects/SaoPauloBrazilChapter_BrazilianSignLanguage/webapp/backend/data/interim/RawCleanVideos/homem_vl_5.mp4\n",
      "{'filename': 'homem_vl_5.mp4', 'frame_count': 149, 'fps': 29.97002997002997, 'width': 1920, 'height': 1080, 'duration_sec': 4.971633333333333}\n",
      "No pose estimation results found for homem_vl_5.mp4 in v0\n",
      "Running pose estimation on /home/ben/projects/SaoPauloBrazilChapter_BrazilianSignLanguage/webapp/backend/data/interim/RawCleanVideos/homem_vl_5.mp4\n"
     ]
    },
    {
     "name": "stderr",
     "output_type": "stream",
     "text": [
      "W0000 00:00:1749558229.249628   19294 inference_feedback_manager.cc:114] Feedback manager requires a model with a single signature inference. Disabling support for feedback tensors.\n",
      "W0000 00:00:1749558229.286713   19294 inference_feedback_manager.cc:114] Feedback manager requires a model with a single signature inference. Disabling support for feedback tensors.\n",
      "W0000 00:00:1749558229.290480   19296 inference_feedback_manager.cc:114] Feedback manager requires a model with a single signature inference. Disabling support for feedback tensors.\n",
      "W0000 00:00:1749558229.291234   19297 inference_feedback_manager.cc:114] Feedback manager requires a model with a single signature inference. Disabling support for feedback tensors.\n",
      "W0000 00:00:1749558229.293103   19294 inference_feedback_manager.cc:114] Feedback manager requires a model with a single signature inference. Disabling support for feedback tensors.\n",
      "W0000 00:00:1749558229.314948   19296 inference_feedback_manager.cc:114] Feedback manager requires a model with a single signature inference. Disabling support for feedback tensors.\n",
      "W0000 00:00:1749558229.317565   19297 inference_feedback_manager.cc:114] Feedback manager requires a model with a single signature inference. Disabling support for feedback tensors.\n",
      "W0000 00:00:1749558229.323965   19294 inference_feedback_manager.cc:114] Feedback manager requires a model with a single signature inference. Disabling support for feedback tensors.\n"
     ]
    },
    {
     "name": "stdout",
     "output_type": "stream",
     "text": [
      "Saved pose estimation results to /home/ben/projects/SaoPauloBrazilChapter_BrazilianSignLanguage/webapp/backend/data/interim/RawPoseLandmarks/v0\n"
     ]
    },
    {
     "name": "stderr",
     "output_type": "stream",
     "text": [
      "W0000 00:00:1749558235.902212   19333 inference_feedback_manager.cc:114] Feedback manager requires a model with a single signature inference. Disabling support for feedback tensors.\n",
      "W0000 00:00:1749558235.923156   19333 inference_feedback_manager.cc:114] Feedback manager requires a model with a single signature inference. Disabling support for feedback tensors.\n",
      "W0000 00:00:1749558235.926550   19335 inference_feedback_manager.cc:114] Feedback manager requires a model with a single signature inference. Disabling support for feedback tensors.\n",
      "W0000 00:00:1749558235.926914   19339 inference_feedback_manager.cc:114] Feedback manager requires a model with a single signature inference. Disabling support for feedback tensors.\n",
      "W0000 00:00:1749558235.929718   19337 inference_feedback_manager.cc:114] Feedback manager requires a model with a single signature inference. Disabling support for feedback tensors.\n",
      "W0000 00:00:1749558235.950308   19337 inference_feedback_manager.cc:114] Feedback manager requires a model with a single signature inference. Disabling support for feedback tensors.\n",
      "W0000 00:00:1749558235.960957   19339 inference_feedback_manager.cc:114] Feedback manager requires a model with a single signature inference. Disabling support for feedback tensors.\n",
      "W0000 00:00:1749558235.961959   19335 inference_feedback_manager.cc:114] Feedback manager requires a model with a single signature inference. Disabling support for feedback tensors.\n"
     ]
    },
    {
     "name": "stdout",
     "output_type": "stream",
     "text": [
      "Saved motion detection results to /home/ben/projects/SaoPauloBrazilChapter_BrazilianSignLanguage/webapp/backend/data/interim/RawMotionMeasurements/v0\n",
      "Saved motion analysis results to /home/ben/projects/SaoPauloBrazilChapter_BrazilianSignLanguage/webapp/backend/data/interim/RawMotionMeasurements/v0\n",
      "/home/ben/projects/SaoPauloBrazilChapter_BrazilianSignLanguage/webapp/backend/data/interim/RawCleanVideos/homem_vl_6.mp4\n",
      "{'filename': 'homem_vl_6.mp4', 'frame_count': 291, 'fps': 59.94005994005994, 'width': 1920, 'height': 1080, 'duration_sec': 4.85485}\n",
      "No pose estimation results found for homem_vl_6.mp4 in v0\n",
      "Running pose estimation on /home/ben/projects/SaoPauloBrazilChapter_BrazilianSignLanguage/webapp/backend/data/interim/RawCleanVideos/homem_vl_6.mp4\n"
     ]
    },
    {
     "name": "stderr",
     "output_type": "stream",
     "text": [
      "W0000 00:00:1749558238.877740   19362 inference_feedback_manager.cc:114] Feedback manager requires a model with a single signature inference. Disabling support for feedback tensors.\n",
      "W0000 00:00:1749558238.909824   19362 inference_feedback_manager.cc:114] Feedback manager requires a model with a single signature inference. Disabling support for feedback tensors.\n",
      "W0000 00:00:1749558238.912612   19363 inference_feedback_manager.cc:114] Feedback manager requires a model with a single signature inference. Disabling support for feedback tensors.\n",
      "W0000 00:00:1749558238.914142   19364 inference_feedback_manager.cc:114] Feedback manager requires a model with a single signature inference. Disabling support for feedback tensors.\n",
      "W0000 00:00:1749558238.914402   19366 inference_feedback_manager.cc:114] Feedback manager requires a model with a single signature inference. Disabling support for feedback tensors.\n",
      "W0000 00:00:1749558238.941143   19364 inference_feedback_manager.cc:114] Feedback manager requires a model with a single signature inference. Disabling support for feedback tensors.\n",
      "W0000 00:00:1749558238.946535   19366 inference_feedback_manager.cc:114] Feedback manager requires a model with a single signature inference. Disabling support for feedback tensors.\n",
      "W0000 00:00:1749558238.946623   19363 inference_feedback_manager.cc:114] Feedback manager requires a model with a single signature inference. Disabling support for feedback tensors.\n"
     ]
    },
    {
     "name": "stdout",
     "output_type": "stream",
     "text": [
      "Saved pose estimation results to /home/ben/projects/SaoPauloBrazilChapter_BrazilianSignLanguage/webapp/backend/data/interim/RawPoseLandmarks/v0\n"
     ]
    },
    {
     "name": "stderr",
     "output_type": "stream",
     "text": [
      "W0000 00:00:1749558253.129188   19415 inference_feedback_manager.cc:114] Feedback manager requires a model with a single signature inference. Disabling support for feedback tensors.\n",
      "W0000 00:00:1749558253.157959   19415 inference_feedback_manager.cc:114] Feedback manager requires a model with a single signature inference. Disabling support for feedback tensors.\n",
      "W0000 00:00:1749558253.161211   19415 inference_feedback_manager.cc:114] Feedback manager requires a model with a single signature inference. Disabling support for feedback tensors.\n",
      "W0000 00:00:1749558253.162672   19413 inference_feedback_manager.cc:114] Feedback manager requires a model with a single signature inference. Disabling support for feedback tensors.\n",
      "W0000 00:00:1749558253.162672   19412 inference_feedback_manager.cc:114] Feedback manager requires a model with a single signature inference. Disabling support for feedback tensors.\n",
      "W0000 00:00:1749558253.174006   19414 inference_feedback_manager.cc:114] Feedback manager requires a model with a single signature inference. Disabling support for feedback tensors.\n",
      "W0000 00:00:1749558253.176047   19419 inference_feedback_manager.cc:114] Feedback manager requires a model with a single signature inference. Disabling support for feedback tensors.\n",
      "W0000 00:00:1749558253.189105   19413 inference_feedback_manager.cc:114] Feedback manager requires a model with a single signature inference. Disabling support for feedback tensors.\n"
     ]
    },
    {
     "name": "stdout",
     "output_type": "stream",
     "text": [
      "Saved motion detection results to /home/ben/projects/SaoPauloBrazilChapter_BrazilianSignLanguage/webapp/backend/data/interim/RawMotionMeasurements/v0\n",
      "Saved motion analysis results to /home/ben/projects/SaoPauloBrazilChapter_BrazilianSignLanguage/webapp/backend/data/interim/RawMotionMeasurements/v0\n",
      "/home/ben/projects/SaoPauloBrazilChapter_BrazilianSignLanguage/webapp/backend/data/interim/RawCleanVideos/jovem_ne_1.mp4\n",
      "{'filename': 'jovem_ne_1.mp4', 'frame_count': 33, 'fps': 12.0, 'width': 240, 'height': 176, 'duration_sec': 2.75}\n",
      "No pose estimation results found for jovem_ne_1.mp4 in v0\n",
      "Running pose estimation on /home/ben/projects/SaoPauloBrazilChapter_BrazilianSignLanguage/webapp/backend/data/interim/RawCleanVideos/jovem_ne_1.mp4\n"
     ]
    },
    {
     "name": "stderr",
     "output_type": "stream",
     "text": [
      "W0000 00:00:1749558257.821734   19449 inference_feedback_manager.cc:114] Feedback manager requires a model with a single signature inference. Disabling support for feedback tensors.\n",
      "W0000 00:00:1749558257.863186   19449 inference_feedback_manager.cc:114] Feedback manager requires a model with a single signature inference. Disabling support for feedback tensors.\n",
      "W0000 00:00:1749558257.866166   19451 inference_feedback_manager.cc:114] Feedback manager requires a model with a single signature inference. Disabling support for feedback tensors.\n",
      "W0000 00:00:1749558257.866211   19448 inference_feedback_manager.cc:114] Feedback manager requires a model with a single signature inference. Disabling support for feedback tensors.\n",
      "W0000 00:00:1749558257.866666   19447 inference_feedback_manager.cc:114] Feedback manager requires a model with a single signature inference. Disabling support for feedback tensors.\n",
      "W0000 00:00:1749558257.891406   19447 inference_feedback_manager.cc:114] Feedback manager requires a model with a single signature inference. Disabling support for feedback tensors.\n",
      "W0000 00:00:1749558257.900296   19448 inference_feedback_manager.cc:114] Feedback manager requires a model with a single signature inference. Disabling support for feedback tensors.\n",
      "W0000 00:00:1749558257.902353   19451 inference_feedback_manager.cc:114] Feedback manager requires a model with a single signature inference. Disabling support for feedback tensors.\n"
     ]
    },
    {
     "name": "stdout",
     "output_type": "stream",
     "text": [
      "Saved pose estimation results to /home/ben/projects/SaoPauloBrazilChapter_BrazilianSignLanguage/webapp/backend/data/interim/RawPoseLandmarks/v0\n",
      "Saved motion detection results to /home/ben/projects/SaoPauloBrazilChapter_BrazilianSignLanguage/webapp/backend/data/interim/RawMotionMeasurements/v0\n",
      "Saved motion analysis results to /home/ben/projects/SaoPauloBrazilChapter_BrazilianSignLanguage/webapp/backend/data/interim/RawMotionMeasurements/v0\n"
     ]
    },
    {
     "name": "stderr",
     "output_type": "stream",
     "text": [
      "W0000 00:00:1749558259.329175   19464 inference_feedback_manager.cc:114] Feedback manager requires a model with a single signature inference. Disabling support for feedback tensors.\n",
      "W0000 00:00:1749558259.350577   19464 inference_feedback_manager.cc:114] Feedback manager requires a model with a single signature inference. Disabling support for feedback tensors.\n",
      "W0000 00:00:1749558259.352678   19466 inference_feedback_manager.cc:114] Feedback manager requires a model with a single signature inference. Disabling support for feedback tensors.\n",
      "W0000 00:00:1749558259.353081   19462 inference_feedback_manager.cc:114] Feedback manager requires a model with a single signature inference. Disabling support for feedback tensors.\n",
      "W0000 00:00:1749558259.353613   19463 inference_feedback_manager.cc:114] Feedback manager requires a model with a single signature inference. Disabling support for feedback tensors.\n",
      "W0000 00:00:1749558259.366953   19466 inference_feedback_manager.cc:114] Feedback manager requires a model with a single signature inference. Disabling support for feedback tensors.\n",
      "W0000 00:00:1749558259.374530   19463 inference_feedback_manager.cc:114] Feedback manager requires a model with a single signature inference. Disabling support for feedback tensors.\n",
      "W0000 00:00:1749558259.382427   19462 inference_feedback_manager.cc:114] Feedback manager requires a model with a single signature inference. Disabling support for feedback tensors.\n"
     ]
    },
    {
     "name": "stdout",
     "output_type": "stream",
     "text": [
      "/home/ben/projects/SaoPauloBrazilChapter_BrazilianSignLanguage/webapp/backend/data/interim/RawCleanVideos/jovem_sb_2.mp4\n",
      "{'filename': 'jovem_sb_2.mp4', 'frame_count': 61, 'fps': 29.97002997002997, 'width': 1280, 'height': 720, 'duration_sec': 2.0353666666666665}\n",
      "No pose estimation results found for jovem_sb_2.mp4 in v0\n",
      "Running pose estimation on /home/ben/projects/SaoPauloBrazilChapter_BrazilianSignLanguage/webapp/backend/data/interim/RawCleanVideos/jovem_sb_2.mp4\n"
     ]
    },
    {
     "name": "stderr",
     "output_type": "stream",
     "text": [
      "W0000 00:00:1749558260.188616   19484 inference_feedback_manager.cc:114] Feedback manager requires a model with a single signature inference. Disabling support for feedback tensors.\n",
      "W0000 00:00:1749558260.235785   19484 inference_feedback_manager.cc:114] Feedback manager requires a model with a single signature inference. Disabling support for feedback tensors.\n",
      "W0000 00:00:1749558260.238169   19486 inference_feedback_manager.cc:114] Feedback manager requires a model with a single signature inference. Disabling support for feedback tensors.\n",
      "W0000 00:00:1749558260.238359   19490 inference_feedback_manager.cc:114] Feedback manager requires a model with a single signature inference. Disabling support for feedback tensors.\n",
      "W0000 00:00:1749558260.241603   19489 inference_feedback_manager.cc:114] Feedback manager requires a model with a single signature inference. Disabling support for feedback tensors.\n",
      "W0000 00:00:1749558260.257170   19487 inference_feedback_manager.cc:114] Feedback manager requires a model with a single signature inference. Disabling support for feedback tensors.\n",
      "W0000 00:00:1749558260.276566   19490 inference_feedback_manager.cc:114] Feedback manager requires a model with a single signature inference. Disabling support for feedback tensors.\n",
      "W0000 00:00:1749558260.290053   19489 inference_feedback_manager.cc:114] Feedback manager requires a model with a single signature inference. Disabling support for feedback tensors.\n"
     ]
    },
    {
     "name": "stdout",
     "output_type": "stream",
     "text": [
      "Saved pose estimation results to /home/ben/projects/SaoPauloBrazilChapter_BrazilianSignLanguage/webapp/backend/data/interim/RawPoseLandmarks/v0\n",
      "Saved motion detection results to /home/ben/projects/SaoPauloBrazilChapter_BrazilianSignLanguage/webapp/backend/data/interim/RawMotionMeasurements/v0\n",
      "Saved motion analysis results to /home/ben/projects/SaoPauloBrazilChapter_BrazilianSignLanguage/webapp/backend/data/interim/RawMotionMeasurements/v0\n"
     ]
    },
    {
     "name": "stderr",
     "output_type": "stream",
     "text": [
      "W0000 00:00:1749558261.231278   19508 inference_feedback_manager.cc:114] Feedback manager requires a model with a single signature inference. Disabling support for feedback tensors.\n",
      "W0000 00:00:1749558261.254957   19508 inference_feedback_manager.cc:114] Feedback manager requires a model with a single signature inference. Disabling support for feedback tensors.\n",
      "W0000 00:00:1749558261.257207   19511 inference_feedback_manager.cc:114] Feedback manager requires a model with a single signature inference. Disabling support for feedback tensors.\n",
      "W0000 00:00:1749558261.257403   19506 inference_feedback_manager.cc:114] Feedback manager requires a model with a single signature inference. Disabling support for feedback tensors.\n",
      "W0000 00:00:1749558261.257400   19512 inference_feedback_manager.cc:114] Feedback manager requires a model with a single signature inference. Disabling support for feedback tensors.\n",
      "W0000 00:00:1749558261.274217   19512 inference_feedback_manager.cc:114] Feedback manager requires a model with a single signature inference. Disabling support for feedback tensors.\n",
      "W0000 00:00:1749558261.275381   19513 inference_feedback_manager.cc:114] Feedback manager requires a model with a single signature inference. Disabling support for feedback tensors.\n",
      "W0000 00:00:1749558261.276473   19506 inference_feedback_manager.cc:114] Feedback manager requires a model with a single signature inference. Disabling support for feedback tensors.\n"
     ]
    },
    {
     "name": "stdout",
     "output_type": "stream",
     "text": [
      "/home/ben/projects/SaoPauloBrazilChapter_BrazilianSignLanguage/webapp/backend/data/interim/RawCleanVideos/jovem_uf_3.mp4\n",
      "{'filename': 'jovem_uf_3.mp4', 'frame_count': 123, 'fps': 29.97002997002997, 'width': 480, 'height': 270, 'duration_sec': 4.1041}\n",
      "No pose estimation results found for jovem_uf_3.mp4 in v0\n",
      "Running pose estimation on /home/ben/projects/SaoPauloBrazilChapter_BrazilianSignLanguage/webapp/backend/data/interim/RawCleanVideos/jovem_uf_3.mp4\n"
     ]
    },
    {
     "name": "stderr",
     "output_type": "stream",
     "text": [
      "W0000 00:00:1749558262.624380   19531 inference_feedback_manager.cc:114] Feedback manager requires a model with a single signature inference. Disabling support for feedback tensors.\n",
      "W0000 00:00:1749558262.650156   19531 inference_feedback_manager.cc:114] Feedback manager requires a model with a single signature inference. Disabling support for feedback tensors.\n",
      "W0000 00:00:1749558262.653624   19530 inference_feedback_manager.cc:114] Feedback manager requires a model with a single signature inference. Disabling support for feedback tensors.\n",
      "W0000 00:00:1749558262.654545   19533 inference_feedback_manager.cc:114] Feedback manager requires a model with a single signature inference. Disabling support for feedback tensors.\n",
      "W0000 00:00:1749558262.654927   19535 inference_feedback_manager.cc:114] Feedback manager requires a model with a single signature inference. Disabling support for feedback tensors.\n",
      "W0000 00:00:1749558262.677897   19535 inference_feedback_manager.cc:114] Feedback manager requires a model with a single signature inference. Disabling support for feedback tensors.\n",
      "W0000 00:00:1749558262.679204   19530 inference_feedback_manager.cc:114] Feedback manager requires a model with a single signature inference. Disabling support for feedback tensors.\n",
      "W0000 00:00:1749558262.681568   19533 inference_feedback_manager.cc:114] Feedback manager requires a model with a single signature inference. Disabling support for feedback tensors.\n"
     ]
    },
    {
     "name": "stdout",
     "output_type": "stream",
     "text": [
      "Saved pose estimation results to /home/ben/projects/SaoPauloBrazilChapter_BrazilianSignLanguage/webapp/backend/data/interim/RawPoseLandmarks/v0\n",
      "Saved motion detection results to /home/ben/projects/SaoPauloBrazilChapter_BrazilianSignLanguage/webapp/backend/data/interim/RawMotionMeasurements/v0\n",
      "Saved motion analysis results to /home/ben/projects/SaoPauloBrazilChapter_BrazilianSignLanguage/webapp/backend/data/interim/RawMotionMeasurements/v0\n"
     ]
    },
    {
     "name": "stderr",
     "output_type": "stream",
     "text": [
      "W0000 00:00:1749558267.942388   19559 inference_feedback_manager.cc:114] Feedback manager requires a model with a single signature inference. Disabling support for feedback tensors.\n",
      "W0000 00:00:1749558267.968568   19559 inference_feedback_manager.cc:114] Feedback manager requires a model with a single signature inference. Disabling support for feedback tensors.\n",
      "W0000 00:00:1749558267.970697   19559 inference_feedback_manager.cc:114] Feedback manager requires a model with a single signature inference. Disabling support for feedback tensors.\n",
      "W0000 00:00:1749558267.971347   19560 inference_feedback_manager.cc:114] Feedback manager requires a model with a single signature inference. Disabling support for feedback tensors.\n",
      "W0000 00:00:1749558267.972216   19558 inference_feedback_manager.cc:114] Feedback manager requires a model with a single signature inference. Disabling support for feedback tensors.\n",
      "W0000 00:00:1749558267.983394   19559 inference_feedback_manager.cc:114] Feedback manager requires a model with a single signature inference. Disabling support for feedback tensors.\n",
      "W0000 00:00:1749558267.987701   19558 inference_feedback_manager.cc:114] Feedback manager requires a model with a single signature inference. Disabling support for feedback tensors.\n",
      "W0000 00:00:1749558267.994723   19561 inference_feedback_manager.cc:114] Feedback manager requires a model with a single signature inference. Disabling support for feedback tensors.\n"
     ]
    },
    {
     "name": "stdout",
     "output_type": "stream",
     "text": [
      "/home/ben/projects/SaoPauloBrazilChapter_BrazilianSignLanguage/webapp/backend/data/interim/RawCleanVideos/jovem_vl_4.mp4\n",
      "{'filename': 'jovem_vl_4.mp4', 'frame_count': 187, 'fps': 29.97002997002997, 'width': 1920, 'height': 1080, 'duration_sec': 6.239566666666667}\n",
      "No pose estimation results found for jovem_vl_4.mp4 in v0\n",
      "Running pose estimation on /home/ben/projects/SaoPauloBrazilChapter_BrazilianSignLanguage/webapp/backend/data/interim/RawCleanVideos/jovem_vl_4.mp4\n"
     ]
    },
    {
     "name": "stderr",
     "output_type": "stream",
     "text": [
      "W0000 00:00:1749558269.797016   19579 inference_feedback_manager.cc:114] Feedback manager requires a model with a single signature inference. Disabling support for feedback tensors.\n",
      "W0000 00:00:1749558269.823802   19579 inference_feedback_manager.cc:114] Feedback manager requires a model with a single signature inference. Disabling support for feedback tensors.\n",
      "W0000 00:00:1749558269.826979   19583 inference_feedback_manager.cc:114] Feedback manager requires a model with a single signature inference. Disabling support for feedback tensors.\n",
      "W0000 00:00:1749558269.827636   19581 inference_feedback_manager.cc:114] Feedback manager requires a model with a single signature inference. Disabling support for feedback tensors.\n",
      "W0000 00:00:1749558269.827636   19579 inference_feedback_manager.cc:114] Feedback manager requires a model with a single signature inference. Disabling support for feedback tensors.\n",
      "W0000 00:00:1749558269.848448   19579 inference_feedback_manager.cc:114] Feedback manager requires a model with a single signature inference. Disabling support for feedback tensors.\n",
      "W0000 00:00:1749558269.849369   19583 inference_feedback_manager.cc:114] Feedback manager requires a model with a single signature inference. Disabling support for feedback tensors.\n",
      "W0000 00:00:1749558269.849684   19581 inference_feedback_manager.cc:114] Feedback manager requires a model with a single signature inference. Disabling support for feedback tensors.\n"
     ]
    },
    {
     "name": "stdout",
     "output_type": "stream",
     "text": [
      "Saved pose estimation results to /home/ben/projects/SaoPauloBrazilChapter_BrazilianSignLanguage/webapp/backend/data/interim/RawPoseLandmarks/v0\n"
     ]
    },
    {
     "name": "stderr",
     "output_type": "stream",
     "text": [
      "W0000 00:00:1749558278.611278   19622 inference_feedback_manager.cc:114] Feedback manager requires a model with a single signature inference. Disabling support for feedback tensors.\n",
      "W0000 00:00:1749558278.632933   19622 inference_feedback_manager.cc:114] Feedback manager requires a model with a single signature inference. Disabling support for feedback tensors.\n",
      "W0000 00:00:1749558278.635209   19624 inference_feedback_manager.cc:114] Feedback manager requires a model with a single signature inference. Disabling support for feedback tensors.\n",
      "W0000 00:00:1749558278.636938   19623 inference_feedback_manager.cc:114] Feedback manager requires a model with a single signature inference. Disabling support for feedback tensors.\n",
      "W0000 00:00:1749558278.638111   19626 inference_feedback_manager.cc:114] Feedback manager requires a model with a single signature inference. Disabling support for feedback tensors.\n",
      "W0000 00:00:1749558278.652475   19621 inference_feedback_manager.cc:114] Feedback manager requires a model with a single signature inference. Disabling support for feedback tensors.\n",
      "W0000 00:00:1749558278.662551   19626 inference_feedback_manager.cc:114] Feedback manager requires a model with a single signature inference. Disabling support for feedback tensors.\n",
      "W0000 00:00:1749558278.663794   19624 inference_feedback_manager.cc:114] Feedback manager requires a model with a single signature inference. Disabling support for feedback tensors.\n"
     ]
    },
    {
     "name": "stdout",
     "output_type": "stream",
     "text": [
      "Saved motion detection results to /home/ben/projects/SaoPauloBrazilChapter_BrazilianSignLanguage/webapp/backend/data/interim/RawMotionMeasurements/v0\n",
      "Saved motion analysis results to /home/ben/projects/SaoPauloBrazilChapter_BrazilianSignLanguage/webapp/backend/data/interim/RawMotionMeasurements/v0\n",
      "/home/ben/projects/SaoPauloBrazilChapter_BrazilianSignLanguage/webapp/backend/data/interim/RawCleanVideos/jovem_vl_5.mp4\n",
      "{'filename': 'jovem_vl_5.mp4', 'frame_count': 198, 'fps': 29.97002997002997, 'width': 1920, 'height': 1080, 'duration_sec': 6.6066}\n",
      "No pose estimation results found for jovem_vl_5.mp4 in v0\n",
      "Running pose estimation on /home/ben/projects/SaoPauloBrazilChapter_BrazilianSignLanguage/webapp/backend/data/interim/RawCleanVideos/jovem_vl_5.mp4\n"
     ]
    },
    {
     "name": "stderr",
     "output_type": "stream",
     "text": [
      "W0000 00:00:1749558282.118592   19650 inference_feedback_manager.cc:114] Feedback manager requires a model with a single signature inference. Disabling support for feedback tensors.\n",
      "W0000 00:00:1749558282.165233   19651 inference_feedback_manager.cc:114] Feedback manager requires a model with a single signature inference. Disabling support for feedback tensors.\n",
      "W0000 00:00:1749558282.168551   19647 inference_feedback_manager.cc:114] Feedback manager requires a model with a single signature inference. Disabling support for feedback tensors.\n",
      "W0000 00:00:1749558282.169266   19649 inference_feedback_manager.cc:114] Feedback manager requires a model with a single signature inference. Disabling support for feedback tensors.\n",
      "W0000 00:00:1749558282.169592   19653 inference_feedback_manager.cc:114] Feedback manager requires a model with a single signature inference. Disabling support for feedback tensors.\n",
      "W0000 00:00:1749558282.194087   19647 inference_feedback_manager.cc:114] Feedback manager requires a model with a single signature inference. Disabling support for feedback tensors.\n",
      "W0000 00:00:1749558282.197207   19649 inference_feedback_manager.cc:114] Feedback manager requires a model with a single signature inference. Disabling support for feedback tensors.\n",
      "W0000 00:00:1749558282.206178   19653 inference_feedback_manager.cc:114] Feedback manager requires a model with a single signature inference. Disabling support for feedback tensors.\n"
     ]
    },
    {
     "name": "stdout",
     "output_type": "stream",
     "text": [
      "Saved pose estimation results to /home/ben/projects/SaoPauloBrazilChapter_BrazilianSignLanguage/webapp/backend/data/interim/RawPoseLandmarks/v0\n"
     ]
    },
    {
     "name": "stderr",
     "output_type": "stream",
     "text": [
      "W0000 00:00:1749558293.178946   19706 inference_feedback_manager.cc:114] Feedback manager requires a model with a single signature inference. Disabling support for feedback tensors.\n",
      "W0000 00:00:1749558293.239773   19706 inference_feedback_manager.cc:114] Feedback manager requires a model with a single signature inference. Disabling support for feedback tensors.\n",
      "W0000 00:00:1749558293.244825   19706 inference_feedback_manager.cc:114] Feedback manager requires a model with a single signature inference. Disabling support for feedback tensors.\n",
      "W0000 00:00:1749558293.245311   19705 inference_feedback_manager.cc:114] Feedback manager requires a model with a single signature inference. Disabling support for feedback tensors.\n",
      "W0000 00:00:1749558293.250557   19709 inference_feedback_manager.cc:114] Feedback manager requires a model with a single signature inference. Disabling support for feedback tensors.\n",
      "W0000 00:00:1749558293.263756   19706 inference_feedback_manager.cc:114] Feedback manager requires a model with a single signature inference. Disabling support for feedback tensors.\n",
      "W0000 00:00:1749558293.270086   19711 inference_feedback_manager.cc:114] Feedback manager requires a model with a single signature inference. Disabling support for feedback tensors.\n",
      "W0000 00:00:1749558293.320280   19708 inference_feedback_manager.cc:114] Feedback manager requires a model with a single signature inference. Disabling support for feedback tensors.\n"
     ]
    },
    {
     "name": "stdout",
     "output_type": "stream",
     "text": [
      "Saved motion detection results to /home/ben/projects/SaoPauloBrazilChapter_BrazilianSignLanguage/webapp/backend/data/interim/RawMotionMeasurements/v0\n",
      "Saved motion analysis results to /home/ben/projects/SaoPauloBrazilChapter_BrazilianSignLanguage/webapp/backend/data/interim/RawMotionMeasurements/v0\n",
      "/home/ben/projects/SaoPauloBrazilChapter_BrazilianSignLanguage/webapp/backend/data/interim/RawCleanVideos/jovem_vl_6.mp4\n",
      "{'filename': 'jovem_vl_6.mp4', 'frame_count': 322, 'fps': 59.94005994005994, 'width': 1920, 'height': 1080, 'duration_sec': 5.372033333333333}\n",
      "No pose estimation results found for jovem_vl_6.mp4 in v0\n",
      "Running pose estimation on /home/ben/projects/SaoPauloBrazilChapter_BrazilianSignLanguage/webapp/backend/data/interim/RawCleanVideos/jovem_vl_6.mp4\n"
     ]
    },
    {
     "name": "stderr",
     "output_type": "stream",
     "text": [
      "W0000 00:00:1749558297.252801   19731 inference_feedback_manager.cc:114] Feedback manager requires a model with a single signature inference. Disabling support for feedback tensors.\n",
      "W0000 00:00:1749558297.286934   19731 inference_feedback_manager.cc:114] Feedback manager requires a model with a single signature inference. Disabling support for feedback tensors.\n",
      "W0000 00:00:1749558297.290778   19732 inference_feedback_manager.cc:114] Feedback manager requires a model with a single signature inference. Disabling support for feedback tensors.\n",
      "W0000 00:00:1749558297.291713   19731 inference_feedback_manager.cc:114] Feedback manager requires a model with a single signature inference. Disabling support for feedback tensors.\n",
      "W0000 00:00:1749558297.294608   19734 inference_feedback_manager.cc:114] Feedback manager requires a model with a single signature inference. Disabling support for feedback tensors.\n",
      "W0000 00:00:1749558297.322939   19729 inference_feedback_manager.cc:114] Feedback manager requires a model with a single signature inference. Disabling support for feedback tensors.\n",
      "W0000 00:00:1749558297.330705   19731 inference_feedback_manager.cc:114] Feedback manager requires a model with a single signature inference. Disabling support for feedback tensors.\n",
      "W0000 00:00:1749558297.334495   19732 inference_feedback_manager.cc:114] Feedback manager requires a model with a single signature inference. Disabling support for feedback tensors.\n"
     ]
    },
    {
     "name": "stdout",
     "output_type": "stream",
     "text": [
      "Saved pose estimation results to /home/ben/projects/SaoPauloBrazilChapter_BrazilianSignLanguage/webapp/backend/data/interim/RawPoseLandmarks/v0\n"
     ]
    },
    {
     "name": "stderr",
     "output_type": "stream",
     "text": [
      "W0000 00:00:1749558312.983128   19795 inference_feedback_manager.cc:114] Feedback manager requires a model with a single signature inference. Disabling support for feedback tensors.\n",
      "W0000 00:00:1749558313.045633   19799 inference_feedback_manager.cc:114] Feedback manager requires a model with a single signature inference. Disabling support for feedback tensors.\n",
      "W0000 00:00:1749558313.048036   19796 inference_feedback_manager.cc:114] Feedback manager requires a model with a single signature inference. Disabling support for feedback tensors.\n",
      "W0000 00:00:1749558313.049940   19799 inference_feedback_manager.cc:114] Feedback manager requires a model with a single signature inference. Disabling support for feedback tensors.\n",
      "W0000 00:00:1749558313.050377   19800 inference_feedback_manager.cc:114] Feedback manager requires a model with a single signature inference. Disabling support for feedback tensors.\n",
      "W0000 00:00:1749558313.072269   19799 inference_feedback_manager.cc:114] Feedback manager requires a model with a single signature inference. Disabling support for feedback tensors.\n",
      "W0000 00:00:1749558313.077571   19800 inference_feedback_manager.cc:114] Feedback manager requires a model with a single signature inference. Disabling support for feedback tensors.\n",
      "W0000 00:00:1749558313.089855   19796 inference_feedback_manager.cc:114] Feedback manager requires a model with a single signature inference. Disabling support for feedback tensors.\n"
     ]
    },
    {
     "name": "stdout",
     "output_type": "stream",
     "text": [
      "Saved motion detection results to /home/ben/projects/SaoPauloBrazilChapter_BrazilianSignLanguage/webapp/backend/data/interim/RawMotionMeasurements/v0\n",
      "Saved motion analysis results to /home/ben/projects/SaoPauloBrazilChapter_BrazilianSignLanguage/webapp/backend/data/interim/RawMotionMeasurements/v0\n",
      "/home/ben/projects/SaoPauloBrazilChapter_BrazilianSignLanguage/webapp/backend/data/interim/RawCleanVideos/ouvir_ne_1.mp4\n",
      "{'filename': 'ouvir_ne_1.mp4', 'frame_count': 36, 'fps': 12.0, 'width': 240, 'height': 176, 'duration_sec': 3.0}\n",
      "No pose estimation results found for ouvir_ne_1.mp4 in v0\n",
      "Running pose estimation on /home/ben/projects/SaoPauloBrazilChapter_BrazilianSignLanguage/webapp/backend/data/interim/RawCleanVideos/ouvir_ne_1.mp4\n"
     ]
    },
    {
     "name": "stderr",
     "output_type": "stream",
     "text": [
      "W0000 00:00:1749558318.858549   19829 inference_feedback_manager.cc:114] Feedback manager requires a model with a single signature inference. Disabling support for feedback tensors.\n",
      "W0000 00:00:1749558318.894871   19829 inference_feedback_manager.cc:114] Feedback manager requires a model with a single signature inference. Disabling support for feedback tensors.\n",
      "W0000 00:00:1749558318.898478   19828 inference_feedback_manager.cc:114] Feedback manager requires a model with a single signature inference. Disabling support for feedback tensors.\n",
      "W0000 00:00:1749558318.898478   19830 inference_feedback_manager.cc:114] Feedback manager requires a model with a single signature inference. Disabling support for feedback tensors.\n",
      "W0000 00:00:1749558318.898517   19829 inference_feedback_manager.cc:114] Feedback manager requires a model with a single signature inference. Disabling support for feedback tensors.\n",
      "W0000 00:00:1749558318.923800   19828 inference_feedback_manager.cc:114] Feedback manager requires a model with a single signature inference. Disabling support for feedback tensors.\n",
      "W0000 00:00:1749558318.924899   19834 inference_feedback_manager.cc:114] Feedback manager requires a model with a single signature inference. Disabling support for feedback tensors.\n",
      "W0000 00:00:1749558318.929170   19829 inference_feedback_manager.cc:114] Feedback manager requires a model with a single signature inference. Disabling support for feedback tensors.\n"
     ]
    },
    {
     "name": "stdout",
     "output_type": "stream",
     "text": [
      "Saved pose estimation results to /home/ben/projects/SaoPauloBrazilChapter_BrazilianSignLanguage/webapp/backend/data/interim/RawPoseLandmarks/v0\n",
      "Saved motion detection results to /home/ben/projects/SaoPauloBrazilChapter_BrazilianSignLanguage/webapp/backend/data/interim/RawMotionMeasurements/v0\n",
      "Saved motion analysis results to /home/ben/projects/SaoPauloBrazilChapter_BrazilianSignLanguage/webapp/backend/data/interim/RawMotionMeasurements/v0\n"
     ]
    },
    {
     "name": "stderr",
     "output_type": "stream",
     "text": [
      "W0000 00:00:1749558320.462178   19845 inference_feedback_manager.cc:114] Feedback manager requires a model with a single signature inference. Disabling support for feedback tensors.\n",
      "W0000 00:00:1749558320.483865   19845 inference_feedback_manager.cc:114] Feedback manager requires a model with a single signature inference. Disabling support for feedback tensors.\n",
      "W0000 00:00:1749558320.486218   19845 inference_feedback_manager.cc:114] Feedback manager requires a model with a single signature inference. Disabling support for feedback tensors.\n",
      "W0000 00:00:1749558320.486601   19850 inference_feedback_manager.cc:114] Feedback manager requires a model with a single signature inference. Disabling support for feedback tensors.\n",
      "W0000 00:00:1749558320.487748   19846 inference_feedback_manager.cc:114] Feedback manager requires a model with a single signature inference. Disabling support for feedback tensors.\n",
      "W0000 00:00:1749558320.499534   19845 inference_feedback_manager.cc:114] Feedback manager requires a model with a single signature inference. Disabling support for feedback tensors.\n",
      "W0000 00:00:1749558320.501575   19850 inference_feedback_manager.cc:114] Feedback manager requires a model with a single signature inference. Disabling support for feedback tensors.\n",
      "W0000 00:00:1749558320.508960   19846 inference_feedback_manager.cc:114] Feedback manager requires a model with a single signature inference. Disabling support for feedback tensors.\n"
     ]
    },
    {
     "name": "stdout",
     "output_type": "stream",
     "text": [
      "/home/ben/projects/SaoPauloBrazilChapter_BrazilianSignLanguage/webapp/backend/data/interim/RawCleanVideos/ouvir_sb_2.mp4\n",
      "{'filename': 'ouvir_sb_2.mp4', 'frame_count': 60, 'fps': 29.97002997002997, 'width': 1280, 'height': 720, 'duration_sec': 2.0020000000000002}\n",
      "No pose estimation results found for ouvir_sb_2.mp4 in v0\n",
      "Running pose estimation on /home/ben/projects/SaoPauloBrazilChapter_BrazilianSignLanguage/webapp/backend/data/interim/RawCleanVideos/ouvir_sb_2.mp4\n"
     ]
    },
    {
     "name": "stderr",
     "output_type": "stream",
     "text": [
      "W0000 00:00:1749558321.263205   19865 inference_feedback_manager.cc:114] Feedback manager requires a model with a single signature inference. Disabling support for feedback tensors.\n",
      "W0000 00:00:1749558321.292911   19872 inference_feedback_manager.cc:114] Feedback manager requires a model with a single signature inference. Disabling support for feedback tensors.\n",
      "W0000 00:00:1749558321.295664   19869 inference_feedback_manager.cc:114] Feedback manager requires a model with a single signature inference. Disabling support for feedback tensors.\n",
      "W0000 00:00:1749558321.295929   19867 inference_feedback_manager.cc:114] Feedback manager requires a model with a single signature inference. Disabling support for feedback tensors.\n",
      "W0000 00:00:1749558321.296406   19871 inference_feedback_manager.cc:114] Feedback manager requires a model with a single signature inference. Disabling support for feedback tensors.\n",
      "W0000 00:00:1749558321.311076   19869 inference_feedback_manager.cc:114] Feedback manager requires a model with a single signature inference. Disabling support for feedback tensors.\n",
      "W0000 00:00:1749558321.317834   19871 inference_feedback_manager.cc:114] Feedback manager requires a model with a single signature inference. Disabling support for feedback tensors.\n",
      "W0000 00:00:1749558321.333296   19867 inference_feedback_manager.cc:114] Feedback manager requires a model with a single signature inference. Disabling support for feedback tensors.\n"
     ]
    },
    {
     "name": "stdout",
     "output_type": "stream",
     "text": [
      "Saved pose estimation results to /home/ben/projects/SaoPauloBrazilChapter_BrazilianSignLanguage/webapp/backend/data/interim/RawPoseLandmarks/v0\n",
      "Saved motion detection results to /home/ben/projects/SaoPauloBrazilChapter_BrazilianSignLanguage/webapp/backend/data/interim/RawMotionMeasurements/v0\n",
      "Saved motion analysis results to /home/ben/projects/SaoPauloBrazilChapter_BrazilianSignLanguage/webapp/backend/data/interim/RawMotionMeasurements/v0\n"
     ]
    },
    {
     "name": "stderr",
     "output_type": "stream",
     "text": [
      "W0000 00:00:1749558322.250859   19890 inference_feedback_manager.cc:114] Feedback manager requires a model with a single signature inference. Disabling support for feedback tensors.\n",
      "W0000 00:00:1749558322.268799   19890 inference_feedback_manager.cc:114] Feedback manager requires a model with a single signature inference. Disabling support for feedback tensors.\n",
      "W0000 00:00:1749558322.271737   19891 inference_feedback_manager.cc:114] Feedback manager requires a model with a single signature inference. Disabling support for feedback tensors.\n",
      "W0000 00:00:1749558322.271753   19887 inference_feedback_manager.cc:114] Feedback manager requires a model with a single signature inference. Disabling support for feedback tensors.\n",
      "W0000 00:00:1749558322.272775   19890 inference_feedback_manager.cc:114] Feedback manager requires a model with a single signature inference. Disabling support for feedback tensors.\n",
      "W0000 00:00:1749558322.286048   19891 inference_feedback_manager.cc:114] Feedback manager requires a model with a single signature inference. Disabling support for feedback tensors.\n",
      "W0000 00:00:1749558322.286116   19893 inference_feedback_manager.cc:114] Feedback manager requires a model with a single signature inference. Disabling support for feedback tensors.\n",
      "W0000 00:00:1749558322.290222   19887 inference_feedback_manager.cc:114] Feedback manager requires a model with a single signature inference. Disabling support for feedback tensors.\n"
     ]
    },
    {
     "name": "stdout",
     "output_type": "stream",
     "text": [
      "/home/ben/projects/SaoPauloBrazilChapter_BrazilianSignLanguage/webapp/backend/data/interim/RawCleanVideos/ouvir_uf_3.mp4\n",
      "{'filename': 'ouvir_uf_3.mp4', 'frame_count': 61, 'fps': 29.97002997002997, 'width': 480, 'height': 270, 'duration_sec': 2.0353666666666665}\n",
      "No pose estimation results found for ouvir_uf_3.mp4 in v0\n",
      "Running pose estimation on /home/ben/projects/SaoPauloBrazilChapter_BrazilianSignLanguage/webapp/backend/data/interim/RawCleanVideos/ouvir_uf_3.mp4\n"
     ]
    },
    {
     "name": "stderr",
     "output_type": "stream",
     "text": [
      "W0000 00:00:1749558323.575494   19911 inference_feedback_manager.cc:114] Feedback manager requires a model with a single signature inference. Disabling support for feedback tensors.\n",
      "W0000 00:00:1749558323.601960   19914 inference_feedback_manager.cc:114] Feedback manager requires a model with a single signature inference. Disabling support for feedback tensors.\n",
      "W0000 00:00:1749558323.604898   19910 inference_feedback_manager.cc:114] Feedback manager requires a model with a single signature inference. Disabling support for feedback tensors.\n",
      "W0000 00:00:1749558323.605175   19913 inference_feedback_manager.cc:114] Feedback manager requires a model with a single signature inference. Disabling support for feedback tensors.\n",
      "W0000 00:00:1749558323.606044   19916 inference_feedback_manager.cc:114] Feedback manager requires a model with a single signature inference. Disabling support for feedback tensors.\n",
      "W0000 00:00:1749558323.624883   19912 inference_feedback_manager.cc:114] Feedback manager requires a model with a single signature inference. Disabling support for feedback tensors.\n",
      "W0000 00:00:1749558323.626791   19910 inference_feedback_manager.cc:114] Feedback manager requires a model with a single signature inference. Disabling support for feedback tensors.\n",
      "W0000 00:00:1749558323.628125   19916 inference_feedback_manager.cc:114] Feedback manager requires a model with a single signature inference. Disabling support for feedback tensors.\n"
     ]
    },
    {
     "name": "stdout",
     "output_type": "stream",
     "text": [
      "Saved pose estimation results to /home/ben/projects/SaoPauloBrazilChapter_BrazilianSignLanguage/webapp/backend/data/interim/RawPoseLandmarks/v0\n",
      "Saved motion detection results to /home/ben/projects/SaoPauloBrazilChapter_BrazilianSignLanguage/webapp/backend/data/interim/RawMotionMeasurements/v0\n",
      "Saved motion analysis results to /home/ben/projects/SaoPauloBrazilChapter_BrazilianSignLanguage/webapp/backend/data/interim/RawMotionMeasurements/v0\n"
     ]
    },
    {
     "name": "stderr",
     "output_type": "stream",
     "text": [
      "W0000 00:00:1749558326.440173   19933 inference_feedback_manager.cc:114] Feedback manager requires a model with a single signature inference. Disabling support for feedback tensors.\n",
      "W0000 00:00:1749558326.481541   19931 inference_feedback_manager.cc:114] Feedback manager requires a model with a single signature inference. Disabling support for feedback tensors.\n",
      "W0000 00:00:1749558326.484371   19937 inference_feedback_manager.cc:114] Feedback manager requires a model with a single signature inference. Disabling support for feedback tensors.\n",
      "W0000 00:00:1749558326.484455   19933 inference_feedback_manager.cc:114] Feedback manager requires a model with a single signature inference. Disabling support for feedback tensors.\n",
      "W0000 00:00:1749558326.484468   19932 inference_feedback_manager.cc:114] Feedback manager requires a model with a single signature inference. Disabling support for feedback tensors.\n",
      "W0000 00:00:1749558326.501523   19933 inference_feedback_manager.cc:114] Feedback manager requires a model with a single signature inference. Disabling support for feedback tensors.\n",
      "W0000 00:00:1749558326.502265   19932 inference_feedback_manager.cc:114] Feedback manager requires a model with a single signature inference. Disabling support for feedback tensors.\n",
      "W0000 00:00:1749558326.511294   19935 inference_feedback_manager.cc:114] Feedback manager requires a model with a single signature inference. Disabling support for feedback tensors.\n"
     ]
    },
    {
     "name": "stdout",
     "output_type": "stream",
     "text": [
      "/home/ben/projects/SaoPauloBrazilChapter_BrazilianSignLanguage/webapp/backend/data/interim/RawCleanVideos/ouvir_vl_4.mp4\n",
      "{'filename': 'ouvir_vl_4.mp4', 'frame_count': 156, 'fps': 29.97002997002997, 'width': 1920, 'height': 1080, 'duration_sec': 5.2052000000000005}\n",
      "No pose estimation results found for ouvir_vl_4.mp4 in v0\n",
      "Running pose estimation on /home/ben/projects/SaoPauloBrazilChapter_BrazilianSignLanguage/webapp/backend/data/interim/RawCleanVideos/ouvir_vl_4.mp4\n"
     ]
    },
    {
     "name": "stderr",
     "output_type": "stream",
     "text": [
      "W0000 00:00:1749558328.273534   19956 inference_feedback_manager.cc:114] Feedback manager requires a model with a single signature inference. Disabling support for feedback tensors.\n",
      "W0000 00:00:1749558328.319519   19956 inference_feedback_manager.cc:114] Feedback manager requires a model with a single signature inference. Disabling support for feedback tensors.\n",
      "W0000 00:00:1749558328.323057   19956 inference_feedback_manager.cc:114] Feedback manager requires a model with a single signature inference. Disabling support for feedback tensors.\n",
      "W0000 00:00:1749558328.325056   19959 inference_feedback_manager.cc:114] Feedback manager requires a model with a single signature inference. Disabling support for feedback tensors.\n",
      "W0000 00:00:1749558328.327159   19955 inference_feedback_manager.cc:114] Feedback manager requires a model with a single signature inference. Disabling support for feedback tensors.\n",
      "W0000 00:00:1749558328.374689   19958 inference_feedback_manager.cc:114] Feedback manager requires a model with a single signature inference. Disabling support for feedback tensors.\n",
      "W0000 00:00:1749558328.391738   19959 inference_feedback_manager.cc:114] Feedback manager requires a model with a single signature inference. Disabling support for feedback tensors.\n",
      "W0000 00:00:1749558328.401389   19955 inference_feedback_manager.cc:114] Feedback manager requires a model with a single signature inference. Disabling support for feedback tensors.\n"
     ]
    },
    {
     "name": "stdout",
     "output_type": "stream",
     "text": [
      "Saved pose estimation results to /home/ben/projects/SaoPauloBrazilChapter_BrazilianSignLanguage/webapp/backend/data/interim/RawPoseLandmarks/v0\n",
      "Saved motion detection results to /home/ben/projects/SaoPauloBrazilChapter_BrazilianSignLanguage/webapp/backend/data/interim/RawMotionMeasurements/v0\n",
      "Saved motion analysis results to /home/ben/projects/SaoPauloBrazilChapter_BrazilianSignLanguage/webapp/backend/data/interim/RawMotionMeasurements/v0\n"
     ]
    },
    {
     "name": "stderr",
     "output_type": "stream",
     "text": [
      "W0000 00:00:1749558335.511275   19989 inference_feedback_manager.cc:114] Feedback manager requires a model with a single signature inference. Disabling support for feedback tensors.\n",
      "W0000 00:00:1749558335.534196   19989 inference_feedback_manager.cc:114] Feedback manager requires a model with a single signature inference. Disabling support for feedback tensors.\n",
      "W0000 00:00:1749558335.537128   19987 inference_feedback_manager.cc:114] Feedback manager requires a model with a single signature inference. Disabling support for feedback tensors.\n",
      "W0000 00:00:1749558335.537174   19989 inference_feedback_manager.cc:114] Feedback manager requires a model with a single signature inference. Disabling support for feedback tensors.\n",
      "W0000 00:00:1749558335.538519   19990 inference_feedback_manager.cc:114] Feedback manager requires a model with a single signature inference. Disabling support for feedback tensors.\n",
      "W0000 00:00:1749558335.548184   19989 inference_feedback_manager.cc:114] Feedback manager requires a model with a single signature inference. Disabling support for feedback tensors.\n",
      "W0000 00:00:1749558335.560518   19987 inference_feedback_manager.cc:114] Feedback manager requires a model with a single signature inference. Disabling support for feedback tensors.\n",
      "W0000 00:00:1749558335.561873   19990 inference_feedback_manager.cc:114] Feedback manager requires a model with a single signature inference. Disabling support for feedback tensors.\n"
     ]
    },
    {
     "name": "stdout",
     "output_type": "stream",
     "text": [
      "/home/ben/projects/SaoPauloBrazilChapter_BrazilianSignLanguage/webapp/backend/data/interim/RawCleanVideos/ouvir_vl_5.mp4\n",
      "{'filename': 'ouvir_vl_5.mp4', 'frame_count': 273, 'fps': 59.94005994005994, 'width': 1920, 'height': 1080, 'duration_sec': 4.55455}\n",
      "No pose estimation results found for ouvir_vl_5.mp4 in v0\n",
      "Running pose estimation on /home/ben/projects/SaoPauloBrazilChapter_BrazilianSignLanguage/webapp/backend/data/interim/RawCleanVideos/ouvir_vl_5.mp4\n"
     ]
    },
    {
     "name": "stderr",
     "output_type": "stream",
     "text": [
      "W0000 00:00:1749558338.340766   20018 inference_feedback_manager.cc:114] Feedback manager requires a model with a single signature inference. Disabling support for feedback tensors.\n",
      "W0000 00:00:1749558338.365077   20018 inference_feedback_manager.cc:114] Feedback manager requires a model with a single signature inference. Disabling support for feedback tensors.\n",
      "W0000 00:00:1749558338.367954   20018 inference_feedback_manager.cc:114] Feedback manager requires a model with a single signature inference. Disabling support for feedback tensors.\n",
      "W0000 00:00:1749558338.368255   20022 inference_feedback_manager.cc:114] Feedback manager requires a model with a single signature inference. Disabling support for feedback tensors.\n",
      "W0000 00:00:1749558338.368726   20021 inference_feedback_manager.cc:114] Feedback manager requires a model with a single signature inference. Disabling support for feedback tensors.\n",
      "W0000 00:00:1749558338.396065   20017 inference_feedback_manager.cc:114] Feedback manager requires a model with a single signature inference. Disabling support for feedback tensors.\n",
      "W0000 00:00:1749558338.399891   20020 inference_feedback_manager.cc:114] Feedback manager requires a model with a single signature inference. Disabling support for feedback tensors.\n",
      "W0000 00:00:1749558338.402271   20022 inference_feedback_manager.cc:114] Feedback manager requires a model with a single signature inference. Disabling support for feedback tensors.\n"
     ]
    },
    {
     "name": "stdout",
     "output_type": "stream",
     "text": [
      "Saved pose estimation results to /home/ben/projects/SaoPauloBrazilChapter_BrazilianSignLanguage/webapp/backend/data/interim/RawPoseLandmarks/v0\n"
     ]
    },
    {
     "name": "stderr",
     "output_type": "stream",
     "text": [
      "W0000 00:00:1749558350.618624   20072 inference_feedback_manager.cc:114] Feedback manager requires a model with a single signature inference. Disabling support for feedback tensors.\n",
      "W0000 00:00:1749558350.665807   20068 inference_feedback_manager.cc:114] Feedback manager requires a model with a single signature inference. Disabling support for feedback tensors.\n",
      "W0000 00:00:1749558350.667819   20068 inference_feedback_manager.cc:114] Feedback manager requires a model with a single signature inference. Disabling support for feedback tensors.\n",
      "W0000 00:00:1749558350.668740   20070 inference_feedback_manager.cc:114] Feedback manager requires a model with a single signature inference. Disabling support for feedback tensors.\n",
      "W0000 00:00:1749558350.670179   20067 inference_feedback_manager.cc:114] Feedback manager requires a model with a single signature inference. Disabling support for feedback tensors.\n",
      "W0000 00:00:1749558350.679950   20068 inference_feedback_manager.cc:114] Feedback manager requires a model with a single signature inference. Disabling support for feedback tensors.\n",
      "W0000 00:00:1749558350.688232   20067 inference_feedback_manager.cc:114] Feedback manager requires a model with a single signature inference. Disabling support for feedback tensors.\n",
      "W0000 00:00:1749558350.696515   20070 inference_feedback_manager.cc:114] Feedback manager requires a model with a single signature inference. Disabling support for feedback tensors.\n"
     ]
    },
    {
     "name": "stdout",
     "output_type": "stream",
     "text": [
      "Saved motion detection results to /home/ben/projects/SaoPauloBrazilChapter_BrazilianSignLanguage/webapp/backend/data/interim/RawMotionMeasurements/v0\n",
      "Saved motion analysis results to /home/ben/projects/SaoPauloBrazilChapter_BrazilianSignLanguage/webapp/backend/data/interim/RawMotionMeasurements/v0\n",
      "/home/ben/projects/SaoPauloBrazilChapter_BrazilianSignLanguage/webapp/backend/data/interim/RawCleanVideos/ouvir_vl_6.mp4\n",
      "{'filename': 'ouvir_vl_6.mp4', 'frame_count': 155, 'fps': 29.97002997002997, 'width': 1920, 'height': 1080, 'duration_sec': 5.171833333333334}\n",
      "No pose estimation results found for ouvir_vl_6.mp4 in v0\n",
      "Running pose estimation on /home/ben/projects/SaoPauloBrazilChapter_BrazilianSignLanguage/webapp/backend/data/interim/RawCleanVideos/ouvir_vl_6.mp4\n"
     ]
    },
    {
     "name": "stderr",
     "output_type": "stream",
     "text": [
      "W0000 00:00:1749558353.280911   20097 inference_feedback_manager.cc:114] Feedback manager requires a model with a single signature inference. Disabling support for feedback tensors.\n",
      "W0000 00:00:1749558353.315349   20097 inference_feedback_manager.cc:114] Feedback manager requires a model with a single signature inference. Disabling support for feedback tensors.\n",
      "W0000 00:00:1749558353.318255   20096 inference_feedback_manager.cc:114] Feedback manager requires a model with a single signature inference. Disabling support for feedback tensors.\n",
      "W0000 00:00:1749558353.318688   20095 inference_feedback_manager.cc:114] Feedback manager requires a model with a single signature inference. Disabling support for feedback tensors.\n",
      "W0000 00:00:1749558353.319915   20097 inference_feedback_manager.cc:114] Feedback manager requires a model with a single signature inference. Disabling support for feedback tensors.\n",
      "W0000 00:00:1749558353.357836   20096 inference_feedback_manager.cc:114] Feedback manager requires a model with a single signature inference. Disabling support for feedback tensors.\n",
      "W0000 00:00:1749558353.362265   20095 inference_feedback_manager.cc:114] Feedback manager requires a model with a single signature inference. Disabling support for feedback tensors.\n",
      "W0000 00:00:1749558353.374947   20097 inference_feedback_manager.cc:114] Feedback manager requires a model with a single signature inference. Disabling support for feedback tensors.\n"
     ]
    },
    {
     "name": "stdout",
     "output_type": "stream",
     "text": [
      "Saved pose estimation results to /home/ben/projects/SaoPauloBrazilChapter_BrazilianSignLanguage/webapp/backend/data/interim/RawPoseLandmarks/v0\n"
     ]
    },
    {
     "name": "stderr",
     "output_type": "stream",
     "text": [
      "W0000 00:00:1749558360.296489   20131 inference_feedback_manager.cc:114] Feedback manager requires a model with a single signature inference. Disabling support for feedback tensors.\n",
      "W0000 00:00:1749558360.328637   20131 inference_feedback_manager.cc:114] Feedback manager requires a model with a single signature inference. Disabling support for feedback tensors.\n",
      "W0000 00:00:1749558360.332470   20131 inference_feedback_manager.cc:114] Feedback manager requires a model with a single signature inference. Disabling support for feedback tensors.\n",
      "W0000 00:00:1749558360.333023   20130 inference_feedback_manager.cc:114] Feedback manager requires a model with a single signature inference. Disabling support for feedback tensors.\n",
      "W0000 00:00:1749558360.333290   20136 inference_feedback_manager.cc:114] Feedback manager requires a model with a single signature inference. Disabling support for feedback tensors.\n",
      "W0000 00:00:1749558360.343596   20131 inference_feedback_manager.cc:114] Feedback manager requires a model with a single signature inference. Disabling support for feedback tensors.\n",
      "W0000 00:00:1749558360.350695   20135 inference_feedback_manager.cc:114] Feedback manager requires a model with a single signature inference. Disabling support for feedback tensors.\n",
      "W0000 00:00:1749558360.357882   20130 inference_feedback_manager.cc:114] Feedback manager requires a model with a single signature inference. Disabling support for feedback tensors.\n"
     ]
    },
    {
     "name": "stdout",
     "output_type": "stream",
     "text": [
      "Saved motion detection results to /home/ben/projects/SaoPauloBrazilChapter_BrazilianSignLanguage/webapp/backend/data/interim/RawMotionMeasurements/v0\n",
      "Saved motion analysis results to /home/ben/projects/SaoPauloBrazilChapter_BrazilianSignLanguage/webapp/backend/data/interim/RawMotionMeasurements/v0\n",
      "/home/ben/projects/SaoPauloBrazilChapter_BrazilianSignLanguage/webapp/backend/data/interim/RawCleanVideos/pai_ne_1.mp4\n",
      "{'filename': 'pai_ne_1.mp4', 'frame_count': 41, 'fps': 12.0, 'width': 240, 'height': 176, 'duration_sec': 3.4166666666666665}\n",
      "No pose estimation results found for pai_ne_1.mp4 in v0\n",
      "Running pose estimation on /home/ben/projects/SaoPauloBrazilChapter_BrazilianSignLanguage/webapp/backend/data/interim/RawCleanVideos/pai_ne_1.mp4\n"
     ]
    },
    {
     "name": "stderr",
     "output_type": "stream",
     "text": [
      "W0000 00:00:1749558362.826451   20154 inference_feedback_manager.cc:114] Feedback manager requires a model with a single signature inference. Disabling support for feedback tensors.\n",
      "W0000 00:00:1749558362.851743   20154 inference_feedback_manager.cc:114] Feedback manager requires a model with a single signature inference. Disabling support for feedback tensors.\n",
      "W0000 00:00:1749558362.854696   20152 inference_feedback_manager.cc:114] Feedback manager requires a model with a single signature inference. Disabling support for feedback tensors.\n",
      "W0000 00:00:1749558362.855049   20155 inference_feedback_manager.cc:114] Feedback manager requires a model with a single signature inference. Disabling support for feedback tensors.\n",
      "W0000 00:00:1749558362.855669   20154 inference_feedback_manager.cc:114] Feedback manager requires a model with a single signature inference. Disabling support for feedback tensors.\n",
      "W0000 00:00:1749558362.876349   20154 inference_feedback_manager.cc:114] Feedback manager requires a model with a single signature inference. Disabling support for feedback tensors.\n",
      "W0000 00:00:1749558362.879463   20151 inference_feedback_manager.cc:114] Feedback manager requires a model with a single signature inference. Disabling support for feedback tensors.\n",
      "W0000 00:00:1749558362.879578   20152 inference_feedback_manager.cc:114] Feedback manager requires a model with a single signature inference. Disabling support for feedback tensors.\n"
     ]
    },
    {
     "name": "stdout",
     "output_type": "stream",
     "text": [
      "Saved pose estimation results to /home/ben/projects/SaoPauloBrazilChapter_BrazilianSignLanguage/webapp/backend/data/interim/RawPoseLandmarks/v0\n",
      "Saved motion detection results to /home/ben/projects/SaoPauloBrazilChapter_BrazilianSignLanguage/webapp/backend/data/interim/RawMotionMeasurements/v0\n",
      "Saved motion analysis results to /home/ben/projects/SaoPauloBrazilChapter_BrazilianSignLanguage/webapp/backend/data/interim/RawMotionMeasurements/v0\n"
     ]
    },
    {
     "name": "stderr",
     "output_type": "stream",
     "text": [
      "W0000 00:00:1749558364.672811   20174 inference_feedback_manager.cc:114] Feedback manager requires a model with a single signature inference. Disabling support for feedback tensors.\n",
      "W0000 00:00:1749558364.692845   20174 inference_feedback_manager.cc:114] Feedback manager requires a model with a single signature inference. Disabling support for feedback tensors.\n",
      "W0000 00:00:1749558364.695004   20173 inference_feedback_manager.cc:114] Feedback manager requires a model with a single signature inference. Disabling support for feedback tensors.\n",
      "W0000 00:00:1749558364.695166   20176 inference_feedback_manager.cc:114] Feedback manager requires a model with a single signature inference. Disabling support for feedback tensors.\n",
      "W0000 00:00:1749558364.695920   20175 inference_feedback_manager.cc:114] Feedback manager requires a model with a single signature inference. Disabling support for feedback tensors.\n",
      "W0000 00:00:1749558364.707732   20173 inference_feedback_manager.cc:114] Feedback manager requires a model with a single signature inference. Disabling support for feedback tensors.\n",
      "W0000 00:00:1749558364.713099   20176 inference_feedback_manager.cc:114] Feedback manager requires a model with a single signature inference. Disabling support for feedback tensors.\n",
      "W0000 00:00:1749558364.720988   20175 inference_feedback_manager.cc:114] Feedback manager requires a model with a single signature inference. Disabling support for feedback tensors.\n"
     ]
    },
    {
     "name": "stdout",
     "output_type": "stream",
     "text": [
      "/home/ben/projects/SaoPauloBrazilChapter_BrazilianSignLanguage/webapp/backend/data/interim/RawCleanVideos/pai_sb_2.mp4\n",
      "{'filename': 'pai_sb_2.mp4', 'frame_count': 52, 'fps': 29.97002997002997, 'width': 1280, 'height': 720, 'duration_sec': 1.7350666666666668}\n",
      "No pose estimation results found for pai_sb_2.mp4 in v0\n",
      "Running pose estimation on /home/ben/projects/SaoPauloBrazilChapter_BrazilianSignLanguage/webapp/backend/data/interim/RawCleanVideos/pai_sb_2.mp4\n"
     ]
    },
    {
     "name": "stderr",
     "output_type": "stream",
     "text": [
      "W0000 00:00:1749558365.504681   20196 inference_feedback_manager.cc:114] Feedback manager requires a model with a single signature inference. Disabling support for feedback tensors.\n",
      "W0000 00:00:1749558365.525566   20196 inference_feedback_manager.cc:114] Feedback manager requires a model with a single signature inference. Disabling support for feedback tensors.\n",
      "W0000 00:00:1749558365.528571   20195 inference_feedback_manager.cc:114] Feedback manager requires a model with a single signature inference. Disabling support for feedback tensors.\n",
      "W0000 00:00:1749558365.528698   20197 inference_feedback_manager.cc:114] Feedback manager requires a model with a single signature inference. Disabling support for feedback tensors.\n",
      "W0000 00:00:1749558365.529240   20199 inference_feedback_manager.cc:114] Feedback manager requires a model with a single signature inference. Disabling support for feedback tensors.\n",
      "W0000 00:00:1749558365.544417   20197 inference_feedback_manager.cc:114] Feedback manager requires a model with a single signature inference. Disabling support for feedback tensors.\n",
      "W0000 00:00:1749558365.563338   20199 inference_feedback_manager.cc:114] Feedback manager requires a model with a single signature inference. Disabling support for feedback tensors.\n",
      "W0000 00:00:1749558365.569549   20195 inference_feedback_manager.cc:114] Feedback manager requires a model with a single signature inference. Disabling support for feedback tensors.\n"
     ]
    },
    {
     "name": "stdout",
     "output_type": "stream",
     "text": [
      "Saved pose estimation results to /home/ben/projects/SaoPauloBrazilChapter_BrazilianSignLanguage/webapp/backend/data/interim/RawPoseLandmarks/v0\n",
      "Saved motion detection results to /home/ben/projects/SaoPauloBrazilChapter_BrazilianSignLanguage/webapp/backend/data/interim/RawMotionMeasurements/v0\n",
      "Saved motion analysis results to /home/ben/projects/SaoPauloBrazilChapter_BrazilianSignLanguage/webapp/backend/data/interim/RawMotionMeasurements/v0\n"
     ]
    },
    {
     "name": "stderr",
     "output_type": "stream",
     "text": [
      "W0000 00:00:1749558368.586501   20218 inference_feedback_manager.cc:114] Feedback manager requires a model with a single signature inference. Disabling support for feedback tensors.\n",
      "W0000 00:00:1749558368.613796   20218 inference_feedback_manager.cc:114] Feedback manager requires a model with a single signature inference. Disabling support for feedback tensors.\n",
      "W0000 00:00:1749558368.617122   20218 inference_feedback_manager.cc:114] Feedback manager requires a model with a single signature inference. Disabling support for feedback tensors.\n",
      "W0000 00:00:1749558368.618364   20223 inference_feedback_manager.cc:114] Feedback manager requires a model with a single signature inference. Disabling support for feedback tensors.\n",
      "W0000 00:00:1749558368.619039   20219 inference_feedback_manager.cc:114] Feedback manager requires a model with a single signature inference. Disabling support for feedback tensors.\n",
      "W0000 00:00:1749558368.635746   20218 inference_feedback_manager.cc:114] Feedback manager requires a model with a single signature inference. Disabling support for feedback tensors.\n",
      "W0000 00:00:1749558368.642811   20224 inference_feedback_manager.cc:114] Feedback manager requires a model with a single signature inference. Disabling support for feedback tensors.\n",
      "W0000 00:00:1749558368.645677   20221 inference_feedback_manager.cc:114] Feedback manager requires a model with a single signature inference. Disabling support for feedback tensors.\n"
     ]
    },
    {
     "name": "stdout",
     "output_type": "stream",
     "text": [
      "/home/ben/projects/SaoPauloBrazilChapter_BrazilianSignLanguage/webapp/backend/data/interim/RawCleanVideos/pai_uf_3.mp4\n",
      "{'filename': 'pai_uf_3.mp4', 'frame_count': 111, 'fps': 29.97002997002997, 'width': 480, 'height': 270, 'duration_sec': 3.7037}\n",
      "No pose estimation results found for pai_uf_3.mp4 in v0\n",
      "Running pose estimation on /home/ben/projects/SaoPauloBrazilChapter_BrazilianSignLanguage/webapp/backend/data/interim/RawCleanVideos/pai_uf_3.mp4\n"
     ]
    },
    {
     "name": "stderr",
     "output_type": "stream",
     "text": [
      "W0000 00:00:1749558370.173642   20241 inference_feedback_manager.cc:114] Feedback manager requires a model with a single signature inference. Disabling support for feedback tensors.\n",
      "W0000 00:00:1749558370.208339   20241 inference_feedback_manager.cc:114] Feedback manager requires a model with a single signature inference. Disabling support for feedback tensors.\n",
      "W0000 00:00:1749558370.211542   20241 inference_feedback_manager.cc:114] Feedback manager requires a model with a single signature inference. Disabling support for feedback tensors.\n",
      "W0000 00:00:1749558370.212164   20240 inference_feedback_manager.cc:114] Feedback manager requires a model with a single signature inference. Disabling support for feedback tensors.\n",
      "W0000 00:00:1749558370.213738   20243 inference_feedback_manager.cc:114] Feedback manager requires a model with a single signature inference. Disabling support for feedback tensors.\n",
      "W0000 00:00:1749558370.239155   20243 inference_feedback_manager.cc:114] Feedback manager requires a model with a single signature inference. Disabling support for feedback tensors.\n",
      "W0000 00:00:1749558370.243725   20241 inference_feedback_manager.cc:114] Feedback manager requires a model with a single signature inference. Disabling support for feedback tensors.\n",
      "W0000 00:00:1749558370.249790   20240 inference_feedback_manager.cc:114] Feedback manager requires a model with a single signature inference. Disabling support for feedback tensors.\n"
     ]
    },
    {
     "name": "stdout",
     "output_type": "stream",
     "text": [
      "Saved pose estimation results to /home/ben/projects/SaoPauloBrazilChapter_BrazilianSignLanguage/webapp/backend/data/interim/RawPoseLandmarks/v0\n",
      "Saved motion detection results to /home/ben/projects/SaoPauloBrazilChapter_BrazilianSignLanguage/webapp/backend/data/interim/RawMotionMeasurements/v0\n",
      "Saved motion analysis results to /home/ben/projects/SaoPauloBrazilChapter_BrazilianSignLanguage/webapp/backend/data/interim/RawMotionMeasurements/v0\n"
     ]
    },
    {
     "name": "stderr",
     "output_type": "stream",
     "text": [
      "W0000 00:00:1749558375.265579   20285 inference_feedback_manager.cc:114] Feedback manager requires a model with a single signature inference. Disabling support for feedback tensors.\n",
      "W0000 00:00:1749558375.301426   20285 inference_feedback_manager.cc:114] Feedback manager requires a model with a single signature inference. Disabling support for feedback tensors.\n",
      "W0000 00:00:1749558375.303542   20288 inference_feedback_manager.cc:114] Feedback manager requires a model with a single signature inference. Disabling support for feedback tensors.\n",
      "W0000 00:00:1749558375.306204   20285 inference_feedback_manager.cc:114] Feedback manager requires a model with a single signature inference. Disabling support for feedback tensors.\n",
      "W0000 00:00:1749558375.307637   20289 inference_feedback_manager.cc:114] Feedback manager requires a model with a single signature inference. Disabling support for feedback tensors.\n",
      "W0000 00:00:1749558375.325611   20288 inference_feedback_manager.cc:114] Feedback manager requires a model with a single signature inference. Disabling support for feedback tensors.\n",
      "W0000 00:00:1749558375.332200   20289 inference_feedback_manager.cc:114] Feedback manager requires a model with a single signature inference. Disabling support for feedback tensors.\n",
      "W0000 00:00:1749558375.335885   20284 inference_feedback_manager.cc:114] Feedback manager requires a model with a single signature inference. Disabling support for feedback tensors.\n"
     ]
    },
    {
     "name": "stdout",
     "output_type": "stream",
     "text": [
      "/home/ben/projects/SaoPauloBrazilChapter_BrazilianSignLanguage/webapp/backend/data/interim/RawCleanVideos/pai_vl_4.mp4\n",
      "{'filename': 'pai_vl_4.mp4', 'frame_count': 302, 'fps': 59.94005994005994, 'width': 1920, 'height': 1080, 'duration_sec': 5.038366666666667}\n",
      "No pose estimation results found for pai_vl_4.mp4 in v0\n",
      "Running pose estimation on /home/ben/projects/SaoPauloBrazilChapter_BrazilianSignLanguage/webapp/backend/data/interim/RawCleanVideos/pai_vl_4.mp4\n"
     ]
    },
    {
     "name": "stderr",
     "output_type": "stream",
     "text": [
      "W0000 00:00:1749558377.163666   20311 inference_feedback_manager.cc:114] Feedback manager requires a model with a single signature inference. Disabling support for feedback tensors.\n",
      "W0000 00:00:1749558377.208302   20313 inference_feedback_manager.cc:114] Feedback manager requires a model with a single signature inference. Disabling support for feedback tensors.\n",
      "W0000 00:00:1749558377.211909   20309 inference_feedback_manager.cc:114] Feedback manager requires a model with a single signature inference. Disabling support for feedback tensors.\n",
      "W0000 00:00:1749558377.212100   20314 inference_feedback_manager.cc:114] Feedback manager requires a model with a single signature inference. Disabling support for feedback tensors.\n",
      "W0000 00:00:1749558377.212128   20310 inference_feedback_manager.cc:114] Feedback manager requires a model with a single signature inference. Disabling support for feedback tensors.\n",
      "W0000 00:00:1749558377.235897   20310 inference_feedback_manager.cc:114] Feedback manager requires a model with a single signature inference. Disabling support for feedback tensors.\n",
      "W0000 00:00:1749558377.241916   20308 inference_feedback_manager.cc:114] Feedback manager requires a model with a single signature inference. Disabling support for feedback tensors.\n",
      "W0000 00:00:1749558377.247251   20314 inference_feedback_manager.cc:114] Feedback manager requires a model with a single signature inference. Disabling support for feedback tensors.\n"
     ]
    },
    {
     "name": "stdout",
     "output_type": "stream",
     "text": [
      "Saved pose estimation results to /home/ben/projects/SaoPauloBrazilChapter_BrazilianSignLanguage/webapp/backend/data/interim/RawPoseLandmarks/v0\n"
     ]
    },
    {
     "name": "stderr",
     "output_type": "stream",
     "text": [
      "W0000 00:00:1749558389.589021   20377 inference_feedback_manager.cc:114] Feedback manager requires a model with a single signature inference. Disabling support for feedback tensors.\n",
      "W0000 00:00:1749558389.622508   20377 inference_feedback_manager.cc:114] Feedback manager requires a model with a single signature inference. Disabling support for feedback tensors.\n",
      "W0000 00:00:1749558389.624821   20381 inference_feedback_manager.cc:114] Feedback manager requires a model with a single signature inference. Disabling support for feedback tensors.\n",
      "W0000 00:00:1749558389.624875   20379 inference_feedback_manager.cc:114] Feedback manager requires a model with a single signature inference. Disabling support for feedback tensors.\n",
      "W0000 00:00:1749558389.626546   20378 inference_feedback_manager.cc:114] Feedback manager requires a model with a single signature inference. Disabling support for feedback tensors.\n",
      "W0000 00:00:1749558389.642838   20379 inference_feedback_manager.cc:114] Feedback manager requires a model with a single signature inference. Disabling support for feedback tensors.\n",
      "W0000 00:00:1749558389.644934   20381 inference_feedback_manager.cc:114] Feedback manager requires a model with a single signature inference. Disabling support for feedback tensors.\n",
      "W0000 00:00:1749558389.652208   20378 inference_feedback_manager.cc:114] Feedback manager requires a model with a single signature inference. Disabling support for feedback tensors.\n"
     ]
    },
    {
     "name": "stdout",
     "output_type": "stream",
     "text": [
      "Saved motion detection results to /home/ben/projects/SaoPauloBrazilChapter_BrazilianSignLanguage/webapp/backend/data/interim/RawMotionMeasurements/v0\n",
      "Saved motion analysis results to /home/ben/projects/SaoPauloBrazilChapter_BrazilianSignLanguage/webapp/backend/data/interim/RawMotionMeasurements/v0\n",
      "/home/ben/projects/SaoPauloBrazilChapter_BrazilianSignLanguage/webapp/backend/data/interim/RawCleanVideos/pai_vl_5.mp4\n",
      "{'filename': 'pai_vl_5.mp4', 'frame_count': 193, 'fps': 29.97002997002997, 'width': 1920, 'height': 1080, 'duration_sec': 6.439766666666666}\n",
      "No pose estimation results found for pai_vl_5.mp4 in v0\n",
      "Running pose estimation on /home/ben/projects/SaoPauloBrazilChapter_BrazilianSignLanguage/webapp/backend/data/interim/RawCleanVideos/pai_vl_5.mp4\n"
     ]
    },
    {
     "name": "stderr",
     "output_type": "stream",
     "text": [
      "W0000 00:00:1749558394.967038   20408 inference_feedback_manager.cc:114] Feedback manager requires a model with a single signature inference. Disabling support for feedback tensors.\n",
      "W0000 00:00:1749558395.012835   20414 inference_feedback_manager.cc:114] Feedback manager requires a model with a single signature inference. Disabling support for feedback tensors.\n",
      "W0000 00:00:1749558395.015719   20408 inference_feedback_manager.cc:114] Feedback manager requires a model with a single signature inference. Disabling support for feedback tensors.\n",
      "W0000 00:00:1749558395.016168   20413 inference_feedback_manager.cc:114] Feedback manager requires a model with a single signature inference. Disabling support for feedback tensors.\n",
      "W0000 00:00:1749558395.016961   20415 inference_feedback_manager.cc:114] Feedback manager requires a model with a single signature inference. Disabling support for feedback tensors.\n",
      "W0000 00:00:1749558395.041647   20413 inference_feedback_manager.cc:114] Feedback manager requires a model with a single signature inference. Disabling support for feedback tensors.\n",
      "W0000 00:00:1749558395.046519   20412 inference_feedback_manager.cc:114] Feedback manager requires a model with a single signature inference. Disabling support for feedback tensors.\n",
      "W0000 00:00:1749558395.049418   20408 inference_feedback_manager.cc:114] Feedback manager requires a model with a single signature inference. Disabling support for feedback tensors.\n"
     ]
    },
    {
     "name": "stdout",
     "output_type": "stream",
     "text": [
      "Saved pose estimation results to /home/ben/projects/SaoPauloBrazilChapter_BrazilianSignLanguage/webapp/backend/data/interim/RawPoseLandmarks/v0\n"
     ]
    },
    {
     "name": "stderr",
     "output_type": "stream",
     "text": [
      "W0000 00:00:1749558404.028761   20467 inference_feedback_manager.cc:114] Feedback manager requires a model with a single signature inference. Disabling support for feedback tensors.\n",
      "W0000 00:00:1749558404.063358   20467 inference_feedback_manager.cc:114] Feedback manager requires a model with a single signature inference. Disabling support for feedback tensors.\n",
      "W0000 00:00:1749558404.065504   20466 inference_feedback_manager.cc:114] Feedback manager requires a model with a single signature inference. Disabling support for feedback tensors.\n",
      "W0000 00:00:1749558404.066077   20468 inference_feedback_manager.cc:114] Feedback manager requires a model with a single signature inference. Disabling support for feedback tensors.\n",
      "W0000 00:00:1749558404.067040   20467 inference_feedback_manager.cc:114] Feedback manager requires a model with a single signature inference. Disabling support for feedback tensors.\n",
      "W0000 00:00:1749558404.080165   20466 inference_feedback_manager.cc:114] Feedback manager requires a model with a single signature inference. Disabling support for feedback tensors.\n",
      "W0000 00:00:1749558404.081608   20468 inference_feedback_manager.cc:114] Feedback manager requires a model with a single signature inference. Disabling support for feedback tensors.\n",
      "W0000 00:00:1749558404.082536   20467 inference_feedback_manager.cc:114] Feedback manager requires a model with a single signature inference. Disabling support for feedback tensors.\n"
     ]
    },
    {
     "name": "stdout",
     "output_type": "stream",
     "text": [
      "Saved motion detection results to /home/ben/projects/SaoPauloBrazilChapter_BrazilianSignLanguage/webapp/backend/data/interim/RawMotionMeasurements/v0\n",
      "Saved motion analysis results to /home/ben/projects/SaoPauloBrazilChapter_BrazilianSignLanguage/webapp/backend/data/interim/RawMotionMeasurements/v0\n",
      "/home/ben/projects/SaoPauloBrazilChapter_BrazilianSignLanguage/webapp/backend/data/interim/RawCleanVideos/pai_vl_6.mp4\n",
      "{'filename': 'pai_vl_6.mp4', 'frame_count': 157, 'fps': 29.97, 'width': 1920, 'height': 1080, 'duration_sec': 5.238571905238572}\n",
      "No pose estimation results found for pai_vl_6.mp4 in v0\n",
      "Running pose estimation on /home/ben/projects/SaoPauloBrazilChapter_BrazilianSignLanguage/webapp/backend/data/interim/RawCleanVideos/pai_vl_6.mp4\n"
     ]
    },
    {
     "name": "stderr",
     "output_type": "stream",
     "text": [
      "W0000 00:00:1749558407.313417   20493 inference_feedback_manager.cc:114] Feedback manager requires a model with a single signature inference. Disabling support for feedback tensors.\n",
      "W0000 00:00:1749558407.360563   20497 inference_feedback_manager.cc:114] Feedback manager requires a model with a single signature inference. Disabling support for feedback tensors.\n",
      "W0000 00:00:1749558407.364443   20495 inference_feedback_manager.cc:114] Feedback manager requires a model with a single signature inference. Disabling support for feedback tensors.\n",
      "W0000 00:00:1749558407.364616   20491 inference_feedback_manager.cc:114] Feedback manager requires a model with a single signature inference. Disabling support for feedback tensors.\n",
      "W0000 00:00:1749558407.364680   20494 inference_feedback_manager.cc:114] Feedback manager requires a model with a single signature inference. Disabling support for feedback tensors.\n",
      "W0000 00:00:1749558407.393531   20491 inference_feedback_manager.cc:114] Feedback manager requires a model with a single signature inference. Disabling support for feedback tensors.\n",
      "W0000 00:00:1749558407.403891   20495 inference_feedback_manager.cc:114] Feedback manager requires a model with a single signature inference. Disabling support for feedback tensors.\n",
      "W0000 00:00:1749558407.411095   20494 inference_feedback_manager.cc:114] Feedback manager requires a model with a single signature inference. Disabling support for feedback tensors.\n"
     ]
    },
    {
     "name": "stdout",
     "output_type": "stream",
     "text": [
      "Saved pose estimation results to /home/ben/projects/SaoPauloBrazilChapter_BrazilianSignLanguage/webapp/backend/data/interim/RawPoseLandmarks/v0\n",
      "Saved motion detection results to /home/ben/projects/SaoPauloBrazilChapter_BrazilianSignLanguage/webapp/backend/data/interim/RawMotionMeasurements/v0\n",
      "Saved motion analysis results to /home/ben/projects/SaoPauloBrazilChapter_BrazilianSignLanguage/webapp/backend/data/interim/RawMotionMeasurements/v0\n"
     ]
    },
    {
     "name": "stderr",
     "output_type": "stream",
     "text": [
      "W0000 00:00:1749558412.997470   20537 inference_feedback_manager.cc:114] Feedback manager requires a model with a single signature inference. Disabling support for feedback tensors.\n",
      "W0000 00:00:1749558413.014708   20537 inference_feedback_manager.cc:114] Feedback manager requires a model with a single signature inference. Disabling support for feedback tensors.\n",
      "W0000 00:00:1749558413.017188   20537 inference_feedback_manager.cc:114] Feedback manager requires a model with a single signature inference. Disabling support for feedback tensors.\n",
      "W0000 00:00:1749558413.017301   20535 inference_feedback_manager.cc:114] Feedback manager requires a model with a single signature inference. Disabling support for feedback tensors.\n",
      "W0000 00:00:1749558413.021068   20542 inference_feedback_manager.cc:114] Feedback manager requires a model with a single signature inference. Disabling support for feedback tensors.\n",
      "W0000 00:00:1749558413.029066   20537 inference_feedback_manager.cc:114] Feedback manager requires a model with a single signature inference. Disabling support for feedback tensors.\n",
      "W0000 00:00:1749558413.030148   20535 inference_feedback_manager.cc:114] Feedback manager requires a model with a single signature inference. Disabling support for feedback tensors.\n",
      "W0000 00:00:1749558413.049683   20542 inference_feedback_manager.cc:114] Feedback manager requires a model with a single signature inference. Disabling support for feedback tensors.\n"
     ]
    },
    {
     "name": "stdout",
     "output_type": "stream",
     "text": [
      "/home/ben/projects/SaoPauloBrazilChapter_BrazilianSignLanguage/webapp/backend/data/interim/RawCleanVideos/sopa_ne_1.mp4\n",
      "{'filename': 'sopa_ne_1.mp4', 'frame_count': 41, 'fps': 12.0, 'width': 240, 'height': 176, 'duration_sec': 3.4166666666666665}\n",
      "No pose estimation results found for sopa_ne_1.mp4 in v0\n",
      "Running pose estimation on /home/ben/projects/SaoPauloBrazilChapter_BrazilianSignLanguage/webapp/backend/data/interim/RawCleanVideos/sopa_ne_1.mp4\n"
     ]
    },
    {
     "name": "stderr",
     "output_type": "stream",
     "text": [
      "W0000 00:00:1749558415.952628   20567 inference_feedback_manager.cc:114] Feedback manager requires a model with a single signature inference. Disabling support for feedback tensors.\n",
      "W0000 00:00:1749558415.987663   20567 inference_feedback_manager.cc:114] Feedback manager requires a model with a single signature inference. Disabling support for feedback tensors.\n",
      "W0000 00:00:1749558415.990965   20566 inference_feedback_manager.cc:114] Feedback manager requires a model with a single signature inference. Disabling support for feedback tensors.\n",
      "W0000 00:00:1749558415.991496   20562 inference_feedback_manager.cc:114] Feedback manager requires a model with a single signature inference. Disabling support for feedback tensors.\n",
      "W0000 00:00:1749558415.992640   20568 inference_feedback_manager.cc:114] Feedback manager requires a model with a single signature inference. Disabling support for feedback tensors.\n",
      "W0000 00:00:1749558416.020457   20568 inference_feedback_manager.cc:114] Feedback manager requires a model with a single signature inference. Disabling support for feedback tensors.\n",
      "W0000 00:00:1749558416.020770   20566 inference_feedback_manager.cc:114] Feedback manager requires a model with a single signature inference. Disabling support for feedback tensors.\n",
      "W0000 00:00:1749558416.023908   20562 inference_feedback_manager.cc:114] Feedback manager requires a model with a single signature inference. Disabling support for feedback tensors.\n"
     ]
    },
    {
     "name": "stdout",
     "output_type": "stream",
     "text": [
      "Saved pose estimation results to /home/ben/projects/SaoPauloBrazilChapter_BrazilianSignLanguage/webapp/backend/data/interim/RawPoseLandmarks/v0\n",
      "Saved motion detection results to /home/ben/projects/SaoPauloBrazilChapter_BrazilianSignLanguage/webapp/backend/data/interim/RawMotionMeasurements/v0\n",
      "Saved motion analysis results to /home/ben/projects/SaoPauloBrazilChapter_BrazilianSignLanguage/webapp/backend/data/interim/RawMotionMeasurements/v0\n"
     ]
    },
    {
     "name": "stderr",
     "output_type": "stream",
     "text": [
      "W0000 00:00:1749558417.834266   20584 inference_feedback_manager.cc:114] Feedback manager requires a model with a single signature inference. Disabling support for feedback tensors.\n",
      "W0000 00:00:1749558417.858715   20584 inference_feedback_manager.cc:114] Feedback manager requires a model with a single signature inference. Disabling support for feedback tensors.\n",
      "W0000 00:00:1749558417.860989   20586 inference_feedback_manager.cc:114] Feedback manager requires a model with a single signature inference. Disabling support for feedback tensors.\n",
      "W0000 00:00:1749558417.861487   20591 inference_feedback_manager.cc:114] Feedback manager requires a model with a single signature inference. Disabling support for feedback tensors.\n",
      "W0000 00:00:1749558417.863296   20589 inference_feedback_manager.cc:114] Feedback manager requires a model with a single signature inference. Disabling support for feedback tensors.\n",
      "W0000 00:00:1749558417.876078   20586 inference_feedback_manager.cc:114] Feedback manager requires a model with a single signature inference. Disabling support for feedback tensors.\n",
      "W0000 00:00:1749558417.887406   20587 inference_feedback_manager.cc:114] Feedback manager requires a model with a single signature inference. Disabling support for feedback tensors.\n",
      "W0000 00:00:1749558417.895348   20589 inference_feedback_manager.cc:114] Feedback manager requires a model with a single signature inference. Disabling support for feedback tensors.\n"
     ]
    },
    {
     "name": "stdout",
     "output_type": "stream",
     "text": [
      "/home/ben/projects/SaoPauloBrazilChapter_BrazilianSignLanguage/webapp/backend/data/interim/RawCleanVideos/sopa_sb_2.mp4\n",
      "{'filename': 'sopa_sb_2.mp4', 'frame_count': 74, 'fps': 29.97002997002997, 'width': 1280, 'height': 720, 'duration_sec': 2.469133333333333}\n",
      "No pose estimation results found for sopa_sb_2.mp4 in v0\n",
      "Running pose estimation on /home/ben/projects/SaoPauloBrazilChapter_BrazilianSignLanguage/webapp/backend/data/interim/RawCleanVideos/sopa_sb_2.mp4\n"
     ]
    },
    {
     "name": "stderr",
     "output_type": "stream",
     "text": [
      "W0000 00:00:1749558418.868363   20607 inference_feedback_manager.cc:114] Feedback manager requires a model with a single signature inference. Disabling support for feedback tensors.\n",
      "W0000 00:00:1749558418.891431   20607 inference_feedback_manager.cc:114] Feedback manager requires a model with a single signature inference. Disabling support for feedback tensors.\n",
      "W0000 00:00:1749558418.895138   20608 inference_feedback_manager.cc:114] Feedback manager requires a model with a single signature inference. Disabling support for feedback tensors.\n",
      "W0000 00:00:1749558418.895460   20612 inference_feedback_manager.cc:114] Feedback manager requires a model with a single signature inference. Disabling support for feedback tensors.\n",
      "W0000 00:00:1749558418.895485   20610 inference_feedback_manager.cc:114] Feedback manager requires a model with a single signature inference. Disabling support for feedback tensors.\n",
      "W0000 00:00:1749558418.917307   20611 inference_feedback_manager.cc:114] Feedback manager requires a model with a single signature inference. Disabling support for feedback tensors.\n",
      "W0000 00:00:1749558418.918271   20608 inference_feedback_manager.cc:114] Feedback manager requires a model with a single signature inference. Disabling support for feedback tensors.\n",
      "W0000 00:00:1749558418.920460   20612 inference_feedback_manager.cc:114] Feedback manager requires a model with a single signature inference. Disabling support for feedback tensors.\n"
     ]
    },
    {
     "name": "stdout",
     "output_type": "stream",
     "text": [
      "Saved pose estimation results to /home/ben/projects/SaoPauloBrazilChapter_BrazilianSignLanguage/webapp/backend/data/interim/RawPoseLandmarks/v0\n"
     ]
    },
    {
     "name": "stderr",
     "output_type": "stream",
     "text": [
      "W0000 00:00:1749558423.528496   20636 inference_feedback_manager.cc:114] Feedback manager requires a model with a single signature inference. Disabling support for feedback tensors.\n",
      "W0000 00:00:1749558423.565639   20636 inference_feedback_manager.cc:114] Feedback manager requires a model with a single signature inference. Disabling support for feedback tensors.\n",
      "W0000 00:00:1749558423.569863   20635 inference_feedback_manager.cc:114] Feedback manager requires a model with a single signature inference. Disabling support for feedback tensors.\n",
      "W0000 00:00:1749558423.571045   20640 inference_feedback_manager.cc:114] Feedback manager requires a model with a single signature inference. Disabling support for feedback tensors.\n",
      "W0000 00:00:1749558423.571111   20641 inference_feedback_manager.cc:114] Feedback manager requires a model with a single signature inference. Disabling support for feedback tensors.\n",
      "W0000 00:00:1749558423.596167   20640 inference_feedback_manager.cc:114] Feedback manager requires a model with a single signature inference. Disabling support for feedback tensors.\n",
      "W0000 00:00:1749558423.601288   20635 inference_feedback_manager.cc:114] Feedback manager requires a model with a single signature inference. Disabling support for feedback tensors.\n",
      "W0000 00:00:1749558423.602293   20634 inference_feedback_manager.cc:114] Feedback manager requires a model with a single signature inference. Disabling support for feedback tensors.\n"
     ]
    },
    {
     "name": "stdout",
     "output_type": "stream",
     "text": [
      "Saved motion detection results to /home/ben/projects/SaoPauloBrazilChapter_BrazilianSignLanguage/webapp/backend/data/interim/RawMotionMeasurements/v0\n",
      "Saved motion analysis results to /home/ben/projects/SaoPauloBrazilChapter_BrazilianSignLanguage/webapp/backend/data/interim/RawMotionMeasurements/v0\n",
      "/home/ben/projects/SaoPauloBrazilChapter_BrazilianSignLanguage/webapp/backend/data/interim/RawCleanVideos/sopa_uf_3.mp4\n",
      "{'filename': 'sopa_uf_3.mp4', 'frame_count': 184, 'fps': 29.97002997002997, 'width': 1920, 'height': 1080, 'duration_sec': 6.139466666666666}\n",
      "No pose estimation results found for sopa_uf_3.mp4 in v0\n",
      "Running pose estimation on /home/ben/projects/SaoPauloBrazilChapter_BrazilianSignLanguage/webapp/backend/data/interim/RawCleanVideos/sopa_uf_3.mp4\n"
     ]
    },
    {
     "name": "stderr",
     "output_type": "stream",
     "text": [
      "W0000 00:00:1749558425.208389   20658 inference_feedback_manager.cc:114] Feedback manager requires a model with a single signature inference. Disabling support for feedback tensors.\n",
      "W0000 00:00:1749558425.235847   20658 inference_feedback_manager.cc:114] Feedback manager requires a model with a single signature inference. Disabling support for feedback tensors.\n",
      "W0000 00:00:1749558425.240550   20657 inference_feedback_manager.cc:114] Feedback manager requires a model with a single signature inference. Disabling support for feedback tensors.\n",
      "W0000 00:00:1749558425.241326   20663 inference_feedback_manager.cc:114] Feedback manager requires a model with a single signature inference. Disabling support for feedback tensors.\n",
      "W0000 00:00:1749558425.242033   20662 inference_feedback_manager.cc:114] Feedback manager requires a model with a single signature inference. Disabling support for feedback tensors.\n",
      "W0000 00:00:1749558425.262661   20656 inference_feedback_manager.cc:114] Feedback manager requires a model with a single signature inference. Disabling support for feedback tensors.\n",
      "W0000 00:00:1749558425.266944   20660 inference_feedback_manager.cc:114] Feedback manager requires a model with a single signature inference. Disabling support for feedback tensors.\n",
      "W0000 00:00:1749558425.269509   20663 inference_feedback_manager.cc:114] Feedback manager requires a model with a single signature inference. Disabling support for feedback tensors.\n"
     ]
    },
    {
     "name": "stdout",
     "output_type": "stream",
     "text": [
      "Saved pose estimation results to /home/ben/projects/SaoPauloBrazilChapter_BrazilianSignLanguage/webapp/backend/data/interim/RawPoseLandmarks/v0\n",
      "Saved motion detection results to /home/ben/projects/SaoPauloBrazilChapter_BrazilianSignLanguage/webapp/backend/data/interim/RawMotionMeasurements/v0\n",
      "Saved motion analysis results to /home/ben/projects/SaoPauloBrazilChapter_BrazilianSignLanguage/webapp/backend/data/interim/RawMotionMeasurements/v0\n"
     ]
    },
    {
     "name": "stderr",
     "output_type": "stream",
     "text": [
      "W0000 00:00:1749558434.689205   20697 inference_feedback_manager.cc:114] Feedback manager requires a model with a single signature inference. Disabling support for feedback tensors.\n",
      "W0000 00:00:1749558434.709228   20697 inference_feedback_manager.cc:114] Feedback manager requires a model with a single signature inference. Disabling support for feedback tensors.\n",
      "W0000 00:00:1749558434.712023   20703 inference_feedback_manager.cc:114] Feedback manager requires a model with a single signature inference. Disabling support for feedback tensors.\n",
      "W0000 00:00:1749558434.712210   20698 inference_feedback_manager.cc:114] Feedback manager requires a model with a single signature inference. Disabling support for feedback tensors.\n",
      "W0000 00:00:1749558434.712112   20696 inference_feedback_manager.cc:114] Feedback manager requires a model with a single signature inference. Disabling support for feedback tensors.\n",
      "W0000 00:00:1749558434.725409   20696 inference_feedback_manager.cc:114] Feedback manager requires a model with a single signature inference. Disabling support for feedback tensors.\n",
      "W0000 00:00:1749558434.728699   20698 inference_feedback_manager.cc:114] Feedback manager requires a model with a single signature inference. Disabling support for feedback tensors.\n",
      "W0000 00:00:1749558434.737285   20703 inference_feedback_manager.cc:114] Feedback manager requires a model with a single signature inference. Disabling support for feedback tensors.\n"
     ]
    },
    {
     "name": "stdout",
     "output_type": "stream",
     "text": [
      "/home/ben/projects/SaoPauloBrazilChapter_BrazilianSignLanguage/webapp/backend/data/interim/RawCleanVideos/sopa_vl_4.mp4\n",
      "{'filename': 'sopa_vl_4.mp4', 'frame_count': 189, 'fps': 29.97002997002997, 'width': 1920, 'height': 1080, 'duration_sec': 6.3063}\n",
      "No pose estimation results found for sopa_vl_4.mp4 in v0\n",
      "Running pose estimation on /home/ben/projects/SaoPauloBrazilChapter_BrazilianSignLanguage/webapp/backend/data/interim/RawCleanVideos/sopa_vl_4.mp4\n"
     ]
    },
    {
     "name": "stderr",
     "output_type": "stream",
     "text": [
      "W0000 00:00:1749558438.023994   20727 inference_feedback_manager.cc:114] Feedback manager requires a model with a single signature inference. Disabling support for feedback tensors.\n",
      "W0000 00:00:1749558438.061311   20727 inference_feedback_manager.cc:114] Feedback manager requires a model with a single signature inference. Disabling support for feedback tensors.\n",
      "W0000 00:00:1749558438.064132   20727 inference_feedback_manager.cc:114] Feedback manager requires a model with a single signature inference. Disabling support for feedback tensors.\n",
      "W0000 00:00:1749558438.064964   20732 inference_feedback_manager.cc:114] Feedback manager requires a model with a single signature inference. Disabling support for feedback tensors.\n",
      "W0000 00:00:1749558438.065212   20730 inference_feedback_manager.cc:114] Feedback manager requires a model with a single signature inference. Disabling support for feedback tensors.\n",
      "W0000 00:00:1749558438.100025   20727 inference_feedback_manager.cc:114] Feedback manager requires a model with a single signature inference. Disabling support for feedback tensors.\n",
      "W0000 00:00:1749558438.112308   20732 inference_feedback_manager.cc:114] Feedback manager requires a model with a single signature inference. Disabling support for feedback tensors.\n",
      "W0000 00:00:1749558438.112660   20730 inference_feedback_manager.cc:114] Feedback manager requires a model with a single signature inference. Disabling support for feedback tensors.\n"
     ]
    },
    {
     "name": "stdout",
     "output_type": "stream",
     "text": [
      "Saved pose estimation results to /home/ben/projects/SaoPauloBrazilChapter_BrazilianSignLanguage/webapp/backend/data/interim/RawPoseLandmarks/v0\n"
     ]
    },
    {
     "name": "stderr",
     "output_type": "stream",
     "text": [
      "W0000 00:00:1749558445.959710   20768 inference_feedback_manager.cc:114] Feedback manager requires a model with a single signature inference. Disabling support for feedback tensors.\n",
      "W0000 00:00:1749558445.987712   20768 inference_feedback_manager.cc:114] Feedback manager requires a model with a single signature inference. Disabling support for feedback tensors.\n",
      "W0000 00:00:1749558445.990579   20768 inference_feedback_manager.cc:114] Feedback manager requires a model with a single signature inference. Disabling support for feedback tensors.\n",
      "W0000 00:00:1749558445.992481   20772 inference_feedback_manager.cc:114] Feedback manager requires a model with a single signature inference. Disabling support for feedback tensors.\n",
      "W0000 00:00:1749558445.992594   20771 inference_feedback_manager.cc:114] Feedback manager requires a model with a single signature inference. Disabling support for feedback tensors.\n",
      "W0000 00:00:1749558446.003091   20768 inference_feedback_manager.cc:114] Feedback manager requires a model with a single signature inference. Disabling support for feedback tensors.\n",
      "W0000 00:00:1749558446.008657   20765 inference_feedback_manager.cc:114] Feedback manager requires a model with a single signature inference. Disabling support for feedback tensors.\n",
      "W0000 00:00:1749558446.032741   20771 inference_feedback_manager.cc:114] Feedback manager requires a model with a single signature inference. Disabling support for feedback tensors.\n"
     ]
    },
    {
     "name": "stdout",
     "output_type": "stream",
     "text": [
      "Saved motion detection results to /home/ben/projects/SaoPauloBrazilChapter_BrazilianSignLanguage/webapp/backend/data/interim/RawMotionMeasurements/v0\n",
      "Saved motion analysis results to /home/ben/projects/SaoPauloBrazilChapter_BrazilianSignLanguage/webapp/backend/data/interim/RawMotionMeasurements/v0\n",
      "/home/ben/projects/SaoPauloBrazilChapter_BrazilianSignLanguage/webapp/backend/data/interim/RawCleanVideos/sopa_vl_5.mp4\n",
      "{'filename': 'sopa_vl_5.mp4', 'frame_count': 267, 'fps': 29.97002997002997, 'width': 1920, 'height': 1080, 'duration_sec': 8.908900000000001}\n",
      "No pose estimation results found for sopa_vl_5.mp4 in v0\n",
      "Running pose estimation on /home/ben/projects/SaoPauloBrazilChapter_BrazilianSignLanguage/webapp/backend/data/interim/RawCleanVideos/sopa_vl_5.mp4\n"
     ]
    },
    {
     "name": "stderr",
     "output_type": "stream",
     "text": [
      "W0000 00:00:1749558449.596391   20795 inference_feedback_manager.cc:114] Feedback manager requires a model with a single signature inference. Disabling support for feedback tensors.\n",
      "W0000 00:00:1749558449.666230   20793 inference_feedback_manager.cc:114] Feedback manager requires a model with a single signature inference. Disabling support for feedback tensors.\n",
      "W0000 00:00:1749558449.672022   20796 inference_feedback_manager.cc:114] Feedback manager requires a model with a single signature inference. Disabling support for feedback tensors.\n",
      "W0000 00:00:1749558449.672773   20800 inference_feedback_manager.cc:114] Feedback manager requires a model with a single signature inference. Disabling support for feedback tensors.\n",
      "W0000 00:00:1749558449.673405   20798 inference_feedback_manager.cc:114] Feedback manager requires a model with a single signature inference. Disabling support for feedback tensors.\n",
      "W0000 00:00:1749558449.700093   20793 inference_feedback_manager.cc:114] Feedback manager requires a model with a single signature inference. Disabling support for feedback tensors.\n",
      "W0000 00:00:1749558449.707224   20796 inference_feedback_manager.cc:114] Feedback manager requires a model with a single signature inference. Disabling support for feedback tensors.\n",
      "W0000 00:00:1749558449.717192   20798 inference_feedback_manager.cc:114] Feedback manager requires a model with a single signature inference. Disabling support for feedback tensors.\n"
     ]
    },
    {
     "name": "stdout",
     "output_type": "stream",
     "text": [
      "Saved pose estimation results to /home/ben/projects/SaoPauloBrazilChapter_BrazilianSignLanguage/webapp/backend/data/interim/RawPoseLandmarks/v0\n"
     ]
    },
    {
     "name": "stderr",
     "output_type": "stream",
     "text": [
      "W0000 00:00:1749558463.208085   20853 inference_feedback_manager.cc:114] Feedback manager requires a model with a single signature inference. Disabling support for feedback tensors.\n",
      "W0000 00:00:1749558463.241310   20852 inference_feedback_manager.cc:114] Feedback manager requires a model with a single signature inference. Disabling support for feedback tensors.\n",
      "W0000 00:00:1749558463.244000   20857 inference_feedback_manager.cc:114] Feedback manager requires a model with a single signature inference. Disabling support for feedback tensors.\n",
      "W0000 00:00:1749558463.244692   20858 inference_feedback_manager.cc:114] Feedback manager requires a model with a single signature inference. Disabling support for feedback tensors.\n",
      "W0000 00:00:1749558463.244987   20851 inference_feedback_manager.cc:114] Feedback manager requires a model with a single signature inference. Disabling support for feedback tensors.\n",
      "W0000 00:00:1749558463.260846   20858 inference_feedback_manager.cc:114] Feedback manager requires a model with a single signature inference. Disabling support for feedback tensors.\n",
      "W0000 00:00:1749558463.272178   20857 inference_feedback_manager.cc:114] Feedback manager requires a model with a single signature inference. Disabling support for feedback tensors.\n",
      "W0000 00:00:1749558463.272754   20851 inference_feedback_manager.cc:114] Feedback manager requires a model with a single signature inference. Disabling support for feedback tensors.\n"
     ]
    },
    {
     "name": "stdout",
     "output_type": "stream",
     "text": [
      "Saved motion detection results to /home/ben/projects/SaoPauloBrazilChapter_BrazilianSignLanguage/webapp/backend/data/interim/RawMotionMeasurements/v0\n",
      "Saved motion analysis results to /home/ben/projects/SaoPauloBrazilChapter_BrazilianSignLanguage/webapp/backend/data/interim/RawMotionMeasurements/v0\n",
      "/home/ben/projects/SaoPauloBrazilChapter_BrazilianSignLanguage/webapp/backend/data/interim/RawCleanVideos/sopa_vl_6.mp4\n",
      "{'filename': 'sopa_vl_6.mp4', 'frame_count': 331, 'fps': 60.0, 'width': 1920, 'height': 1080, 'duration_sec': 5.516666666666667}\n",
      "No pose estimation results found for sopa_vl_6.mp4 in v0\n",
      "Running pose estimation on /home/ben/projects/SaoPauloBrazilChapter_BrazilianSignLanguage/webapp/backend/data/interim/RawCleanVideos/sopa_vl_6.mp4\n"
     ]
    },
    {
     "name": "stderr",
     "output_type": "stream",
     "text": [
      "W0000 00:00:1749558468.138249   20882 inference_feedback_manager.cc:114] Feedback manager requires a model with a single signature inference. Disabling support for feedback tensors.\n",
      "W0000 00:00:1749558468.176013   20882 inference_feedback_manager.cc:114] Feedback manager requires a model with a single signature inference. Disabling support for feedback tensors.\n",
      "W0000 00:00:1749558468.179576   20885 inference_feedback_manager.cc:114] Feedback manager requires a model with a single signature inference. Disabling support for feedback tensors.\n",
      "W0000 00:00:1749558468.180377   20879 inference_feedback_manager.cc:114] Feedback manager requires a model with a single signature inference. Disabling support for feedback tensors.\n",
      "W0000 00:00:1749558468.182611   20882 inference_feedback_manager.cc:114] Feedback manager requires a model with a single signature inference. Disabling support for feedback tensors.\n",
      "W0000 00:00:1749558468.206338   20883 inference_feedback_manager.cc:114] Feedback manager requires a model with a single signature inference. Disabling support for feedback tensors.\n",
      "W0000 00:00:1749558468.213880   20879 inference_feedback_manager.cc:114] Feedback manager requires a model with a single signature inference. Disabling support for feedback tensors.\n",
      "W0000 00:00:1749558468.218862   20882 inference_feedback_manager.cc:114] Feedback manager requires a model with a single signature inference. Disabling support for feedback tensors.\n"
     ]
    },
    {
     "name": "stdout",
     "output_type": "stream",
     "text": [
      "Saved pose estimation results to /home/ben/projects/SaoPauloBrazilChapter_BrazilianSignLanguage/webapp/backend/data/interim/RawPoseLandmarks/v0\n"
     ]
    },
    {
     "name": "stderr",
     "output_type": "stream",
     "text": [
      "W0000 00:00:1749558483.189649   20946 inference_feedback_manager.cc:114] Feedback manager requires a model with a single signature inference. Disabling support for feedback tensors.\n",
      "W0000 00:00:1749558483.213331   20946 inference_feedback_manager.cc:114] Feedback manager requires a model with a single signature inference. Disabling support for feedback tensors.\n",
      "W0000 00:00:1749558483.216081   20946 inference_feedback_manager.cc:114] Feedback manager requires a model with a single signature inference. Disabling support for feedback tensors.\n",
      "W0000 00:00:1749558483.216378   20947 inference_feedback_manager.cc:114] Feedback manager requires a model with a single signature inference. Disabling support for feedback tensors.\n",
      "W0000 00:00:1749558483.216568   20944 inference_feedback_manager.cc:114] Feedback manager requires a model with a single signature inference. Disabling support for feedback tensors.\n",
      "W0000 00:00:1749558483.232221   20946 inference_feedback_manager.cc:114] Feedback manager requires a model with a single signature inference. Disabling support for feedback tensors.\n",
      "W0000 00:00:1749558483.236182   20944 inference_feedback_manager.cc:114] Feedback manager requires a model with a single signature inference. Disabling support for feedback tensors.\n",
      "W0000 00:00:1749558483.241825   20947 inference_feedback_manager.cc:114] Feedback manager requires a model with a single signature inference. Disabling support for feedback tensors.\n"
     ]
    },
    {
     "name": "stdout",
     "output_type": "stream",
     "text": [
      "Saved motion detection results to /home/ben/projects/SaoPauloBrazilChapter_BrazilianSignLanguage/webapp/backend/data/interim/RawMotionMeasurements/v0\n",
      "Saved motion analysis results to /home/ben/projects/SaoPauloBrazilChapter_BrazilianSignLanguage/webapp/backend/data/interim/RawMotionMeasurements/v0\n",
      "/home/ben/projects/SaoPauloBrazilChapter_BrazilianSignLanguage/webapp/backend/data/interim/RawCleanVideos/sorvete_ne_1.mp4\n",
      "{'filename': 'sorvete_ne_1.mp4', 'frame_count': 32, 'fps': 12.0, 'width': 240, 'height': 176, 'duration_sec': 2.6666666666666665}\n",
      "No pose estimation results found for sorvete_ne_1.mp4 in v0\n",
      "Running pose estimation on /home/ben/projects/SaoPauloBrazilChapter_BrazilianSignLanguage/webapp/backend/data/interim/RawCleanVideos/sorvete_ne_1.mp4\n"
     ]
    },
    {
     "name": "stderr",
     "output_type": "stream",
     "text": [
      "W0000 00:00:1749558488.987790   20980 inference_feedback_manager.cc:114] Feedback manager requires a model with a single signature inference. Disabling support for feedback tensors.\n",
      "W0000 00:00:1749558489.039750   20980 inference_feedback_manager.cc:114] Feedback manager requires a model with a single signature inference. Disabling support for feedback tensors.\n",
      "W0000 00:00:1749558489.042882   20977 inference_feedback_manager.cc:114] Feedback manager requires a model with a single signature inference. Disabling support for feedback tensors.\n",
      "W0000 00:00:1749558489.043921   20979 inference_feedback_manager.cc:114] Feedback manager requires a model with a single signature inference. Disabling support for feedback tensors.\n",
      "W0000 00:00:1749558489.046926   20980 inference_feedback_manager.cc:114] Feedback manager requires a model with a single signature inference. Disabling support for feedback tensors.\n",
      "W0000 00:00:1749558489.066611   20979 inference_feedback_manager.cc:114] Feedback manager requires a model with a single signature inference. Disabling support for feedback tensors.\n",
      "W0000 00:00:1749558489.082742   20977 inference_feedback_manager.cc:114] Feedback manager requires a model with a single signature inference. Disabling support for feedback tensors.\n",
      "W0000 00:00:1749558489.083185   20980 inference_feedback_manager.cc:114] Feedback manager requires a model with a single signature inference. Disabling support for feedback tensors.\n"
     ]
    },
    {
     "name": "stdout",
     "output_type": "stream",
     "text": [
      "Saved pose estimation results to /home/ben/projects/SaoPauloBrazilChapter_BrazilianSignLanguage/webapp/backend/data/interim/RawPoseLandmarks/v0\n"
     ]
    },
    {
     "name": "stderr",
     "output_type": "stream",
     "text": [
      "W0000 00:00:1749558490.802942   20999 inference_feedback_manager.cc:114] Feedback manager requires a model with a single signature inference. Disabling support for feedback tensors.\n",
      "W0000 00:00:1749558490.833094   20999 inference_feedback_manager.cc:114] Feedback manager requires a model with a single signature inference. Disabling support for feedback tensors.\n",
      "W0000 00:00:1749558490.839769   21003 inference_feedback_manager.cc:114] Feedback manager requires a model with a single signature inference. Disabling support for feedback tensors.\n",
      "W0000 00:00:1749558490.840170   21002 inference_feedback_manager.cc:114] Feedback manager requires a model with a single signature inference. Disabling support for feedback tensors.\n",
      "W0000 00:00:1749558490.841521   21006 inference_feedback_manager.cc:114] Feedback manager requires a model with a single signature inference. Disabling support for feedback tensors.\n",
      "W0000 00:00:1749558490.864942   21006 inference_feedback_manager.cc:114] Feedback manager requires a model with a single signature inference. Disabling support for feedback tensors.\n",
      "W0000 00:00:1749558490.871166   21002 inference_feedback_manager.cc:114] Feedback manager requires a model with a single signature inference. Disabling support for feedback tensors.\n",
      "W0000 00:00:1749558490.875686   21003 inference_feedback_manager.cc:114] Feedback manager requires a model with a single signature inference. Disabling support for feedback tensors.\n"
     ]
    },
    {
     "name": "stdout",
     "output_type": "stream",
     "text": [
      "Saved motion detection results to /home/ben/projects/SaoPauloBrazilChapter_BrazilianSignLanguage/webapp/backend/data/interim/RawMotionMeasurements/v0\n",
      "Saved motion analysis results to /home/ben/projects/SaoPauloBrazilChapter_BrazilianSignLanguage/webapp/backend/data/interim/RawMotionMeasurements/v0\n",
      "/home/ben/projects/SaoPauloBrazilChapter_BrazilianSignLanguage/webapp/backend/data/interim/RawCleanVideos/sorvete_sb_2.mp4\n",
      "{'filename': 'sorvete_sb_2.mp4', 'frame_count': 70, 'fps': 29.97002997002997, 'width': 1280, 'height': 720, 'duration_sec': 2.3356666666666666}\n",
      "No pose estimation results found for sorvete_sb_2.mp4 in v0\n",
      "Running pose estimation on /home/ben/projects/SaoPauloBrazilChapter_BrazilianSignLanguage/webapp/backend/data/interim/RawCleanVideos/sorvete_sb_2.mp4\n"
     ]
    },
    {
     "name": "stderr",
     "output_type": "stream",
     "text": [
      "W0000 00:00:1749558491.732597   21016 inference_feedback_manager.cc:114] Feedback manager requires a model with a single signature inference. Disabling support for feedback tensors.\n",
      "W0000 00:00:1749558491.773650   21016 inference_feedback_manager.cc:114] Feedback manager requires a model with a single signature inference. Disabling support for feedback tensors.\n",
      "W0000 00:00:1749558491.777647   21022 inference_feedback_manager.cc:114] Feedback manager requires a model with a single signature inference. Disabling support for feedback tensors.\n",
      "W0000 00:00:1749558491.778073   21015 inference_feedback_manager.cc:114] Feedback manager requires a model with a single signature inference. Disabling support for feedback tensors.\n",
      "W0000 00:00:1749558491.779662   21016 inference_feedback_manager.cc:114] Feedback manager requires a model with a single signature inference. Disabling support for feedback tensors.\n",
      "W0000 00:00:1749558491.795066   21022 inference_feedback_manager.cc:114] Feedback manager requires a model with a single signature inference. Disabling support for feedback tensors.\n",
      "W0000 00:00:1749558491.814838   21016 inference_feedback_manager.cc:114] Feedback manager requires a model with a single signature inference. Disabling support for feedback tensors.\n",
      "W0000 00:00:1749558491.815402   21015 inference_feedback_manager.cc:114] Feedback manager requires a model with a single signature inference. Disabling support for feedback tensors.\n"
     ]
    },
    {
     "name": "stdout",
     "output_type": "stream",
     "text": [
      "Saved pose estimation results to /home/ben/projects/SaoPauloBrazilChapter_BrazilianSignLanguage/webapp/backend/data/interim/RawPoseLandmarks/v0\n",
      "Saved motion detection results to /home/ben/projects/SaoPauloBrazilChapter_BrazilianSignLanguage/webapp/backend/data/interim/RawMotionMeasurements/v0\n",
      "Saved motion analysis results to /home/ben/projects/SaoPauloBrazilChapter_BrazilianSignLanguage/webapp/backend/data/interim/RawMotionMeasurements/v0\n"
     ]
    },
    {
     "name": "stderr",
     "output_type": "stream",
     "text": [
      "W0000 00:00:1749558495.018358   21043 inference_feedback_manager.cc:114] Feedback manager requires a model with a single signature inference. Disabling support for feedback tensors.\n",
      "W0000 00:00:1749558495.053713   21043 inference_feedback_manager.cc:114] Feedback manager requires a model with a single signature inference. Disabling support for feedback tensors.\n",
      "W0000 00:00:1749558495.056207   21045 inference_feedback_manager.cc:114] Feedback manager requires a model with a single signature inference. Disabling support for feedback tensors.\n",
      "W0000 00:00:1749558495.056359   21048 inference_feedback_manager.cc:114] Feedback manager requires a model with a single signature inference. Disabling support for feedback tensors.\n",
      "W0000 00:00:1749558495.057004   21049 inference_feedback_manager.cc:114] Feedback manager requires a model with a single signature inference. Disabling support for feedback tensors.\n",
      "W0000 00:00:1749558495.071528   21045 inference_feedback_manager.cc:114] Feedback manager requires a model with a single signature inference. Disabling support for feedback tensors.\n",
      "W0000 00:00:1749558495.075437   21048 inference_feedback_manager.cc:114] Feedback manager requires a model with a single signature inference. Disabling support for feedback tensors.\n",
      "W0000 00:00:1749558495.087592   21046 inference_feedback_manager.cc:114] Feedback manager requires a model with a single signature inference. Disabling support for feedback tensors.\n"
     ]
    },
    {
     "name": "stdout",
     "output_type": "stream",
     "text": [
      "/home/ben/projects/SaoPauloBrazilChapter_BrazilianSignLanguage/webapp/backend/data/interim/RawCleanVideos/sorvete_uf_3.mp4\n",
      "{'filename': 'sorvete_uf_3.mp4', 'frame_count': 151, 'fps': 29.97002997002997, 'width': 1920, 'height': 1080, 'duration_sec': 5.038366666666667}\n",
      "No pose estimation results found for sorvete_uf_3.mp4 in v0\n",
      "Running pose estimation on /home/ben/projects/SaoPauloBrazilChapter_BrazilianSignLanguage/webapp/backend/data/interim/RawCleanVideos/sorvete_uf_3.mp4\n"
     ]
    },
    {
     "name": "stderr",
     "output_type": "stream",
     "text": [
      "W0000 00:00:1749558496.786575   21059 inference_feedback_manager.cc:114] Feedback manager requires a model with a single signature inference. Disabling support for feedback tensors.\n",
      "W0000 00:00:1749558496.892633   21061 inference_feedback_manager.cc:114] Feedback manager requires a model with a single signature inference. Disabling support for feedback tensors.\n",
      "W0000 00:00:1749558496.896610   21064 inference_feedback_manager.cc:114] Feedback manager requires a model with a single signature inference. Disabling support for feedback tensors.\n",
      "W0000 00:00:1749558496.898836   21066 inference_feedback_manager.cc:114] Feedback manager requires a model with a single signature inference. Disabling support for feedback tensors.\n",
      "W0000 00:00:1749558496.899242   21062 inference_feedback_manager.cc:114] Feedback manager requires a model with a single signature inference. Disabling support for feedback tensors.\n",
      "W0000 00:00:1749558496.964664   21062 inference_feedback_manager.cc:114] Feedback manager requires a model with a single signature inference. Disabling support for feedback tensors.\n",
      "W0000 00:00:1749558496.967528   21064 inference_feedback_manager.cc:114] Feedback manager requires a model with a single signature inference. Disabling support for feedback tensors.\n",
      "W0000 00:00:1749558496.988114   21066 inference_feedback_manager.cc:114] Feedback manager requires a model with a single signature inference. Disabling support for feedback tensors.\n"
     ]
    },
    {
     "name": "stdout",
     "output_type": "stream",
     "text": [
      "Saved pose estimation results to /home/ben/projects/SaoPauloBrazilChapter_BrazilianSignLanguage/webapp/backend/data/interim/RawPoseLandmarks/v0\n"
     ]
    },
    {
     "name": "stderr",
     "output_type": "stream",
     "text": [
      "W0000 00:00:1749558505.049490   21102 inference_feedback_manager.cc:114] Feedback manager requires a model with a single signature inference. Disabling support for feedback tensors.\n",
      "W0000 00:00:1749558505.089160   21102 inference_feedback_manager.cc:114] Feedback manager requires a model with a single signature inference. Disabling support for feedback tensors.\n",
      "W0000 00:00:1749558505.091814   21102 inference_feedback_manager.cc:114] Feedback manager requires a model with a single signature inference. Disabling support for feedback tensors.\n",
      "W0000 00:00:1749558505.092466   21106 inference_feedback_manager.cc:114] Feedback manager requires a model with a single signature inference. Disabling support for feedback tensors.\n",
      "W0000 00:00:1749558505.092760   21101 inference_feedback_manager.cc:114] Feedback manager requires a model with a single signature inference. Disabling support for feedback tensors.\n",
      "W0000 00:00:1749558505.109105   21102 inference_feedback_manager.cc:114] Feedback manager requires a model with a single signature inference. Disabling support for feedback tensors.\n",
      "W0000 00:00:1749558505.114262   21101 inference_feedback_manager.cc:114] Feedback manager requires a model with a single signature inference. Disabling support for feedback tensors.\n",
      "W0000 00:00:1749558505.120050   21106 inference_feedback_manager.cc:114] Feedback manager requires a model with a single signature inference. Disabling support for feedback tensors.\n"
     ]
    },
    {
     "name": "stdout",
     "output_type": "stream",
     "text": [
      "Saved motion detection results to /home/ben/projects/SaoPauloBrazilChapter_BrazilianSignLanguage/webapp/backend/data/interim/RawMotionMeasurements/v0\n",
      "Saved motion analysis results to /home/ben/projects/SaoPauloBrazilChapter_BrazilianSignLanguage/webapp/backend/data/interim/RawMotionMeasurements/v0\n",
      "/home/ben/projects/SaoPauloBrazilChapter_BrazilianSignLanguage/webapp/backend/data/interim/RawCleanVideos/sorvete_vl_4.mp4\n",
      "{'filename': 'sorvete_vl_4.mp4', 'frame_count': 235, 'fps': 29.97002997002997, 'width': 1920, 'height': 1080, 'duration_sec': 7.841166666666667}\n",
      "No pose estimation results found for sorvete_vl_4.mp4 in v0\n",
      "Running pose estimation on /home/ben/projects/SaoPauloBrazilChapter_BrazilianSignLanguage/webapp/backend/data/interim/RawCleanVideos/sorvete_vl_4.mp4\n"
     ]
    },
    {
     "name": "stderr",
     "output_type": "stream",
     "text": [
      "W0000 00:00:1749558506.356615   21131 inference_feedback_manager.cc:114] Feedback manager requires a model with a single signature inference. Disabling support for feedback tensors.\n",
      "W0000 00:00:1749558506.394325   21131 inference_feedback_manager.cc:114] Feedback manager requires a model with a single signature inference. Disabling support for feedback tensors.\n",
      "W0000 00:00:1749558506.397804   21135 inference_feedback_manager.cc:114] Feedback manager requires a model with a single signature inference. Disabling support for feedback tensors.\n",
      "W0000 00:00:1749558506.397852   21134 inference_feedback_manager.cc:114] Feedback manager requires a model with a single signature inference. Disabling support for feedback tensors.\n",
      "W0000 00:00:1749558506.402789   21131 inference_feedback_manager.cc:114] Feedback manager requires a model with a single signature inference. Disabling support for feedback tensors.\n",
      "W0000 00:00:1749558506.424959   21130 inference_feedback_manager.cc:114] Feedback manager requires a model with a single signature inference. Disabling support for feedback tensors.\n",
      "W0000 00:00:1749558506.433383   21136 inference_feedback_manager.cc:114] Feedback manager requires a model with a single signature inference. Disabling support for feedback tensors.\n",
      "W0000 00:00:1749558506.435099   21135 inference_feedback_manager.cc:114] Feedback manager requires a model with a single signature inference. Disabling support for feedback tensors.\n"
     ]
    },
    {
     "name": "stdout",
     "output_type": "stream",
     "text": [
      "Saved pose estimation results to /home/ben/projects/SaoPauloBrazilChapter_BrazilianSignLanguage/webapp/backend/data/interim/RawPoseLandmarks/v0\n"
     ]
    },
    {
     "name": "stderr",
     "output_type": "stream",
     "text": [
      "W0000 00:00:1749558518.327142   21175 inference_feedback_manager.cc:114] Feedback manager requires a model with a single signature inference. Disabling support for feedback tensors.\n",
      "W0000 00:00:1749558518.363599   21175 inference_feedback_manager.cc:114] Feedback manager requires a model with a single signature inference. Disabling support for feedback tensors.\n",
      "W0000 00:00:1749558518.366035   21176 inference_feedback_manager.cc:114] Feedback manager requires a model with a single signature inference. Disabling support for feedback tensors.\n",
      "W0000 00:00:1749558518.366710   21181 inference_feedback_manager.cc:114] Feedback manager requires a model with a single signature inference. Disabling support for feedback tensors.\n",
      "W0000 00:00:1749558518.369087   21178 inference_feedback_manager.cc:114] Feedback manager requires a model with a single signature inference. Disabling support for feedback tensors.\n",
      "W0000 00:00:1749558518.383185   21181 inference_feedback_manager.cc:114] Feedback manager requires a model with a single signature inference. Disabling support for feedback tensors.\n",
      "W0000 00:00:1749558518.394502   21176 inference_feedback_manager.cc:114] Feedback manager requires a model with a single signature inference. Disabling support for feedback tensors.\n",
      "W0000 00:00:1749558518.399716   21178 inference_feedback_manager.cc:114] Feedback manager requires a model with a single signature inference. Disabling support for feedback tensors.\n"
     ]
    },
    {
     "name": "stdout",
     "output_type": "stream",
     "text": [
      "Saved motion detection results to /home/ben/projects/SaoPauloBrazilChapter_BrazilianSignLanguage/webapp/backend/data/interim/RawMotionMeasurements/v0\n",
      "Saved motion analysis results to /home/ben/projects/SaoPauloBrazilChapter_BrazilianSignLanguage/webapp/backend/data/interim/RawMotionMeasurements/v0\n",
      "/home/ben/projects/SaoPauloBrazilChapter_BrazilianSignLanguage/webapp/backend/data/interim/RawCleanVideos/sorvete_vl_5.mp4\n",
      "{'filename': 'sorvete_vl_5.mp4', 'frame_count': 433, 'fps': 59.94005994005994, 'width': 1920, 'height': 1080, 'duration_sec': 7.223883333333333}\n",
      "No pose estimation results found for sorvete_vl_5.mp4 in v0\n",
      "Running pose estimation on /home/ben/projects/SaoPauloBrazilChapter_BrazilianSignLanguage/webapp/backend/data/interim/RawCleanVideos/sorvete_vl_5.mp4\n"
     ]
    },
    {
     "name": "stderr",
     "output_type": "stream",
     "text": [
      "W0000 00:00:1749558522.979708   21211 inference_feedback_manager.cc:114] Feedback manager requires a model with a single signature inference. Disabling support for feedback tensors.\n",
      "W0000 00:00:1749558523.021724   21211 inference_feedback_manager.cc:114] Feedback manager requires a model with a single signature inference. Disabling support for feedback tensors.\n",
      "W0000 00:00:1749558523.024424   21210 inference_feedback_manager.cc:114] Feedback manager requires a model with a single signature inference. Disabling support for feedback tensors.\n",
      "W0000 00:00:1749558523.025232   21216 inference_feedback_manager.cc:114] Feedback manager requires a model with a single signature inference. Disabling support for feedback tensors.\n",
      "W0000 00:00:1749558523.025635   21209 inference_feedback_manager.cc:114] Feedback manager requires a model with a single signature inference. Disabling support for feedback tensors.\n",
      "W0000 00:00:1749558523.047258   21209 inference_feedback_manager.cc:114] Feedback manager requires a model with a single signature inference. Disabling support for feedback tensors.\n",
      "W0000 00:00:1749558523.059615   21210 inference_feedback_manager.cc:114] Feedback manager requires a model with a single signature inference. Disabling support for feedback tensors.\n",
      "W0000 00:00:1749558523.066611   21216 inference_feedback_manager.cc:114] Feedback manager requires a model with a single signature inference. Disabling support for feedback tensors.\n"
     ]
    },
    {
     "name": "stdout",
     "output_type": "stream",
     "text": [
      "Saved pose estimation results to /home/ben/projects/SaoPauloBrazilChapter_BrazilianSignLanguage/webapp/backend/data/interim/RawPoseLandmarks/v0\n"
     ]
    },
    {
     "name": "stderr",
     "output_type": "stream",
     "text": [
      "W0000 00:00:1749558542.804217   21286 inference_feedback_manager.cc:114] Feedback manager requires a model with a single signature inference. Disabling support for feedback tensors.\n",
      "W0000 00:00:1749558542.841075   21286 inference_feedback_manager.cc:114] Feedback manager requires a model with a single signature inference. Disabling support for feedback tensors.\n",
      "W0000 00:00:1749558542.843736   21287 inference_feedback_manager.cc:114] Feedback manager requires a model with a single signature inference. Disabling support for feedback tensors.\n",
      "W0000 00:00:1749558542.844390   21292 inference_feedback_manager.cc:114] Feedback manager requires a model with a single signature inference. Disabling support for feedback tensors.\n",
      "W0000 00:00:1749558542.844731   21285 inference_feedback_manager.cc:114] Feedback manager requires a model with a single signature inference. Disabling support for feedback tensors.\n",
      "W0000 00:00:1749558542.861502   21292 inference_feedback_manager.cc:114] Feedback manager requires a model with a single signature inference. Disabling support for feedback tensors.\n",
      "W0000 00:00:1749558542.865710   21287 inference_feedback_manager.cc:114] Feedback manager requires a model with a single signature inference. Disabling support for feedback tensors.\n",
      "W0000 00:00:1749558542.868007   21285 inference_feedback_manager.cc:114] Feedback manager requires a model with a single signature inference. Disabling support for feedback tensors.\n"
     ]
    },
    {
     "name": "stdout",
     "output_type": "stream",
     "text": [
      "Saved motion detection results to /home/ben/projects/SaoPauloBrazilChapter_BrazilianSignLanguage/webapp/backend/data/interim/RawMotionMeasurements/v0\n",
      "Saved motion analysis results to /home/ben/projects/SaoPauloBrazilChapter_BrazilianSignLanguage/webapp/backend/data/interim/RawMotionMeasurements/v0\n",
      "/home/ben/projects/SaoPauloBrazilChapter_BrazilianSignLanguage/webapp/backend/data/interim/RawCleanVideos/sorvete_vl_6.mp4\n",
      "{'filename': 'sorvete_vl_6.mp4', 'frame_count': 163, 'fps': 29.97002997002997, 'width': 1920, 'height': 1080, 'duration_sec': 5.438766666666667}\n",
      "No pose estimation results found for sorvete_vl_6.mp4 in v0\n",
      "Running pose estimation on /home/ben/projects/SaoPauloBrazilChapter_BrazilianSignLanguage/webapp/backend/data/interim/RawCleanVideos/sorvete_vl_6.mp4\n"
     ]
    },
    {
     "name": "stderr",
     "output_type": "stream",
     "text": [
      "W0000 00:00:1749558550.418921   21326 inference_feedback_manager.cc:114] Feedback manager requires a model with a single signature inference. Disabling support for feedback tensors.\n",
      "W0000 00:00:1749558550.462603   21326 inference_feedback_manager.cc:114] Feedback manager requires a model with a single signature inference. Disabling support for feedback tensors.\n",
      "W0000 00:00:1749558550.465866   21325 inference_feedback_manager.cc:114] Feedback manager requires a model with a single signature inference. Disabling support for feedback tensors.\n",
      "W0000 00:00:1749558550.466053   21329 inference_feedback_manager.cc:114] Feedback manager requires a model with a single signature inference. Disabling support for feedback tensors.\n",
      "W0000 00:00:1749558550.466641   21330 inference_feedback_manager.cc:114] Feedback manager requires a model with a single signature inference. Disabling support for feedback tensors.\n",
      "W0000 00:00:1749558550.499073   21326 inference_feedback_manager.cc:114] Feedback manager requires a model with a single signature inference. Disabling support for feedback tensors.\n",
      "W0000 00:00:1749558550.503627   21325 inference_feedback_manager.cc:114] Feedback manager requires a model with a single signature inference. Disabling support for feedback tensors.\n",
      "W0000 00:00:1749558550.509581   21329 inference_feedback_manager.cc:114] Feedback manager requires a model with a single signature inference. Disabling support for feedback tensors.\n"
     ]
    },
    {
     "name": "stdout",
     "output_type": "stream",
     "text": [
      "Saved pose estimation results to /home/ben/projects/SaoPauloBrazilChapter_BrazilianSignLanguage/webapp/backend/data/interim/RawPoseLandmarks/v0\n"
     ]
    },
    {
     "name": "stderr",
     "output_type": "stream",
     "text": [
      "W0000 00:00:1749558558.714157   21367 inference_feedback_manager.cc:114] Feedback manager requires a model with a single signature inference. Disabling support for feedback tensors.\n",
      "W0000 00:00:1749558558.751788   21367 inference_feedback_manager.cc:114] Feedback manager requires a model with a single signature inference. Disabling support for feedback tensors.\n",
      "W0000 00:00:1749558558.754535   21371 inference_feedback_manager.cc:114] Feedback manager requires a model with a single signature inference. Disabling support for feedback tensors.\n",
      "W0000 00:00:1749558558.755801   21367 inference_feedback_manager.cc:114] Feedback manager requires a model with a single signature inference. Disabling support for feedback tensors.\n",
      "W0000 00:00:1749558558.757333   21365 inference_feedback_manager.cc:114] Feedback manager requires a model with a single signature inference. Disabling support for feedback tensors.\n",
      "W0000 00:00:1749558558.768550   21367 inference_feedback_manager.cc:114] Feedback manager requires a model with a single signature inference. Disabling support for feedback tensors.\n",
      "W0000 00:00:1749558558.780064   21371 inference_feedback_manager.cc:114] Feedback manager requires a model with a single signature inference. Disabling support for feedback tensors.\n",
      "W0000 00:00:1749558558.782989   21365 inference_feedback_manager.cc:114] Feedback manager requires a model with a single signature inference. Disabling support for feedback tensors.\n"
     ]
    },
    {
     "name": "stdout",
     "output_type": "stream",
     "text": [
      "Saved motion detection results to /home/ben/projects/SaoPauloBrazilChapter_BrazilianSignLanguage/webapp/backend/data/interim/RawMotionMeasurements/v0\n",
      "Saved motion analysis results to /home/ben/projects/SaoPauloBrazilChapter_BrazilianSignLanguage/webapp/backend/data/interim/RawMotionMeasurements/v0\n",
      "/home/ben/projects/SaoPauloBrazilChapter_BrazilianSignLanguage/webapp/backend/data/interim/RawCleanVideos/vagina_ne_1.mp4\n",
      "{'filename': 'vagina_ne_1.mp4', 'frame_count': 29, 'fps': 12.0, 'width': 240, 'height': 176, 'duration_sec': 2.4166666666666665}\n",
      "No pose estimation results found for vagina_ne_1.mp4 in v0\n",
      "Running pose estimation on /home/ben/projects/SaoPauloBrazilChapter_BrazilianSignLanguage/webapp/backend/data/interim/RawCleanVideos/vagina_ne_1.mp4\n"
     ]
    },
    {
     "name": "stderr",
     "output_type": "stream",
     "text": [
      "W0000 00:00:1749558561.781896   21387 inference_feedback_manager.cc:114] Feedback manager requires a model with a single signature inference. Disabling support for feedback tensors.\n",
      "W0000 00:00:1749558561.828081   21387 inference_feedback_manager.cc:114] Feedback manager requires a model with a single signature inference. Disabling support for feedback tensors.\n",
      "W0000 00:00:1749558561.830951   21387 inference_feedback_manager.cc:114] Feedback manager requires a model with a single signature inference. Disabling support for feedback tensors.\n",
      "W0000 00:00:1749558561.832493   21394 inference_feedback_manager.cc:114] Feedback manager requires a model with a single signature inference. Disabling support for feedback tensors.\n",
      "W0000 00:00:1749558561.833249   21389 inference_feedback_manager.cc:114] Feedback manager requires a model with a single signature inference. Disabling support for feedback tensors.\n",
      "W0000 00:00:1749558561.864896   21394 inference_feedback_manager.cc:114] Feedback manager requires a model with a single signature inference. Disabling support for feedback tensors.\n",
      "W0000 00:00:1749558561.869324   21389 inference_feedback_manager.cc:114] Feedback manager requires a model with a single signature inference. Disabling support for feedback tensors.\n",
      "W0000 00:00:1749558561.870090   21387 inference_feedback_manager.cc:114] Feedback manager requires a model with a single signature inference. Disabling support for feedback tensors.\n"
     ]
    },
    {
     "name": "stdout",
     "output_type": "stream",
     "text": [
      "Saved pose estimation results to /home/ben/projects/SaoPauloBrazilChapter_BrazilianSignLanguage/webapp/backend/data/interim/RawPoseLandmarks/v0\n",
      "Saved motion detection results to /home/ben/projects/SaoPauloBrazilChapter_BrazilianSignLanguage/webapp/backend/data/interim/RawMotionMeasurements/v0\n",
      "Saved motion analysis results to /home/ben/projects/SaoPauloBrazilChapter_BrazilianSignLanguage/webapp/backend/data/interim/RawMotionMeasurements/v0\n"
     ]
    },
    {
     "name": "stderr",
     "output_type": "stream",
     "text": [
      "W0000 00:00:1749558563.245223   21413 inference_feedback_manager.cc:114] Feedback manager requires a model with a single signature inference. Disabling support for feedback tensors.\n",
      "W0000 00:00:1749558563.282272   21413 inference_feedback_manager.cc:114] Feedback manager requires a model with a single signature inference. Disabling support for feedback tensors.\n",
      "W0000 00:00:1749558563.285432   21411 inference_feedback_manager.cc:114] Feedback manager requires a model with a single signature inference. Disabling support for feedback tensors.\n",
      "W0000 00:00:1749558563.286529   21412 inference_feedback_manager.cc:114] Feedback manager requires a model with a single signature inference. Disabling support for feedback tensors.\n",
      "W0000 00:00:1749558563.286927   21414 inference_feedback_manager.cc:114] Feedback manager requires a model with a single signature inference. Disabling support for feedback tensors.\n",
      "W0000 00:00:1749558563.299654   21411 inference_feedback_manager.cc:114] Feedback manager requires a model with a single signature inference. Disabling support for feedback tensors.\n",
      "W0000 00:00:1749558563.312864   21414 inference_feedback_manager.cc:114] Feedback manager requires a model with a single signature inference. Disabling support for feedback tensors.\n",
      "W0000 00:00:1749558563.318767   21412 inference_feedback_manager.cc:114] Feedback manager requires a model with a single signature inference. Disabling support for feedback tensors.\n"
     ]
    },
    {
     "name": "stdout",
     "output_type": "stream",
     "text": [
      "/home/ben/projects/SaoPauloBrazilChapter_BrazilianSignLanguage/webapp/backend/data/interim/RawCleanVideos/vagina_sb_2.mp4\n",
      "{'filename': 'vagina_sb_2.mp4', 'frame_count': 64, 'fps': 29.97002997002997, 'width': 1280, 'height': 720, 'duration_sec': 2.135466666666667}\n",
      "No pose estimation results found for vagina_sb_2.mp4 in v0\n",
      "Running pose estimation on /home/ben/projects/SaoPauloBrazilChapter_BrazilianSignLanguage/webapp/backend/data/interim/RawCleanVideos/vagina_sb_2.mp4\n"
     ]
    },
    {
     "name": "stderr",
     "output_type": "stream",
     "text": [
      "W0000 00:00:1749558564.165704   21427 inference_feedback_manager.cc:114] Feedback manager requires a model with a single signature inference. Disabling support for feedback tensors.\n",
      "W0000 00:00:1749558564.228975   21432 inference_feedback_manager.cc:114] Feedback manager requires a model with a single signature inference. Disabling support for feedback tensors.\n",
      "W0000 00:00:1749558564.231909   21428 inference_feedback_manager.cc:114] Feedback manager requires a model with a single signature inference. Disabling support for feedback tensors.\n",
      "W0000 00:00:1749558564.232506   21430 inference_feedback_manager.cc:114] Feedback manager requires a model with a single signature inference. Disabling support for feedback tensors.\n",
      "W0000 00:00:1749558564.235455   21432 inference_feedback_manager.cc:114] Feedback manager requires a model with a single signature inference. Disabling support for feedback tensors.\n",
      "W0000 00:00:1749558564.246173   21434 inference_feedback_manager.cc:114] Feedback manager requires a model with a single signature inference. Disabling support for feedback tensors.\n",
      "W0000 00:00:1749558564.248187   21428 inference_feedback_manager.cc:114] Feedback manager requires a model with a single signature inference. Disabling support for feedback tensors.\n",
      "W0000 00:00:1749558564.266203   21432 inference_feedback_manager.cc:114] Feedback manager requires a model with a single signature inference. Disabling support for feedback tensors.\n"
     ]
    },
    {
     "name": "stdout",
     "output_type": "stream",
     "text": [
      "Saved pose estimation results to /home/ben/projects/SaoPauloBrazilChapter_BrazilianSignLanguage/webapp/backend/data/interim/RawPoseLandmarks/v0\n"
     ]
    },
    {
     "name": "stderr",
     "output_type": "stream",
     "text": [
      "W0000 00:00:1749558567.239343   21458 inference_feedback_manager.cc:114] Feedback manager requires a model with a single signature inference. Disabling support for feedback tensors.\n",
      "W0000 00:00:1749558567.283146   21458 inference_feedback_manager.cc:114] Feedback manager requires a model with a single signature inference. Disabling support for feedback tensors.\n",
      "W0000 00:00:1749558567.285216   21459 inference_feedback_manager.cc:114] Feedback manager requires a model with a single signature inference. Disabling support for feedback tensors.\n",
      "W0000 00:00:1749558567.285969   21457 inference_feedback_manager.cc:114] Feedback manager requires a model with a single signature inference. Disabling support for feedback tensors.\n",
      "W0000 00:00:1749558567.287177   21458 inference_feedback_manager.cc:114] Feedback manager requires a model with a single signature inference. Disabling support for feedback tensors.\n",
      "W0000 00:00:1749558567.299417   21462 inference_feedback_manager.cc:114] Feedback manager requires a model with a single signature inference. Disabling support for feedback tensors.\n",
      "W0000 00:00:1749558567.299468   21459 inference_feedback_manager.cc:114] Feedback manager requires a model with a single signature inference. Disabling support for feedback tensors.\n",
      "W0000 00:00:1749558567.302782   21458 inference_feedback_manager.cc:114] Feedback manager requires a model with a single signature inference. Disabling support for feedback tensors.\n"
     ]
    },
    {
     "name": "stdout",
     "output_type": "stream",
     "text": [
      "Saved motion detection results to /home/ben/projects/SaoPauloBrazilChapter_BrazilianSignLanguage/webapp/backend/data/interim/RawMotionMeasurements/v0\n",
      "Saved motion analysis results to /home/ben/projects/SaoPauloBrazilChapter_BrazilianSignLanguage/webapp/backend/data/interim/RawMotionMeasurements/v0\n",
      "/home/ben/projects/SaoPauloBrazilChapter_BrazilianSignLanguage/webapp/backend/data/interim/RawCleanVideos/vagina_uf_3.mp4\n",
      "{'filename': 'vagina_uf_3.mp4', 'frame_count': 110, 'fps': 29.97002997002997, 'width': 480, 'height': 270, 'duration_sec': 3.6703333333333332}\n",
      "No pose estimation results found for vagina_uf_3.mp4 in v0\n",
      "Running pose estimation on /home/ben/projects/SaoPauloBrazilChapter_BrazilianSignLanguage/webapp/backend/data/interim/RawCleanVideos/vagina_uf_3.mp4\n"
     ]
    },
    {
     "name": "stderr",
     "output_type": "stream",
     "text": [
      "W0000 00:00:1749558566.938420   21481 inference_feedback_manager.cc:114] Feedback manager requires a model with a single signature inference. Disabling support for feedback tensors.\n",
      "W0000 00:00:1749558566.961941   21481 inference_feedback_manager.cc:114] Feedback manager requires a model with a single signature inference. Disabling support for feedback tensors.\n",
      "W0000 00:00:1749558566.964231   21481 inference_feedback_manager.cc:114] Feedback manager requires a model with a single signature inference. Disabling support for feedback tensors.\n",
      "W0000 00:00:1749558566.965394   21479 inference_feedback_manager.cc:114] Feedback manager requires a model with a single signature inference. Disabling support for feedback tensors.\n",
      "W0000 00:00:1749558566.965961   21483 inference_feedback_manager.cc:114] Feedback manager requires a model with a single signature inference. Disabling support for feedback tensors.\n",
      "W0000 00:00:1749558566.989933   21481 inference_feedback_manager.cc:114] Feedback manager requires a model with a single signature inference. Disabling support for feedback tensors.\n",
      "W0000 00:00:1749558566.992288   21479 inference_feedback_manager.cc:114] Feedback manager requires a model with a single signature inference. Disabling support for feedback tensors.\n",
      "W0000 00:00:1749558566.994091   21483 inference_feedback_manager.cc:114] Feedback manager requires a model with a single signature inference. Disabling support for feedback tensors.\n"
     ]
    },
    {
     "name": "stdout",
     "output_type": "stream",
     "text": [
      "Saved pose estimation results to /home/ben/projects/SaoPauloBrazilChapter_BrazilianSignLanguage/webapp/backend/data/interim/RawPoseLandmarks/v0\n",
      "Saved motion detection results to /home/ben/projects/SaoPauloBrazilChapter_BrazilianSignLanguage/webapp/backend/data/interim/RawMotionMeasurements/v0\n",
      "Saved motion analysis results to /home/ben/projects/SaoPauloBrazilChapter_BrazilianSignLanguage/webapp/backend/data/interim/RawMotionMeasurements/v0\n"
     ]
    },
    {
     "name": "stderr",
     "output_type": "stream",
     "text": [
      "W0000 00:00:1749558572.040854   21515 inference_feedback_manager.cc:114] Feedback manager requires a model with a single signature inference. Disabling support for feedback tensors.\n",
      "W0000 00:00:1749558572.076320   21515 inference_feedback_manager.cc:114] Feedback manager requires a model with a single signature inference. Disabling support for feedback tensors.\n",
      "W0000 00:00:1749558572.078789   21513 inference_feedback_manager.cc:114] Feedback manager requires a model with a single signature inference. Disabling support for feedback tensors.\n",
      "W0000 00:00:1749558572.078973   21518 inference_feedback_manager.cc:114] Feedback manager requires a model with a single signature inference. Disabling support for feedback tensors.\n",
      "W0000 00:00:1749558572.079825   21519 inference_feedback_manager.cc:114] Feedback manager requires a model with a single signature inference. Disabling support for feedback tensors.\n",
      "W0000 00:00:1749558572.093721   21518 inference_feedback_manager.cc:114] Feedback manager requires a model with a single signature inference. Disabling support for feedback tensors.\n",
      "W0000 00:00:1749558572.096476   21513 inference_feedback_manager.cc:114] Feedback manager requires a model with a single signature inference. Disabling support for feedback tensors.\n",
      "W0000 00:00:1749558572.100475   21519 inference_feedback_manager.cc:114] Feedback manager requires a model with a single signature inference. Disabling support for feedback tensors.\n"
     ]
    },
    {
     "name": "stdout",
     "output_type": "stream",
     "text": [
      "/home/ben/projects/SaoPauloBrazilChapter_BrazilianSignLanguage/webapp/backend/data/interim/RawCleanVideos/vagina_vl_4.mp4\n",
      "{'filename': 'vagina_vl_4.mp4', 'frame_count': 150, 'fps': 29.97002997002997, 'width': 1920, 'height': 1080, 'duration_sec': 5.005}\n",
      "No pose estimation results found for vagina_vl_4.mp4 in v0\n",
      "Running pose estimation on /home/ben/projects/SaoPauloBrazilChapter_BrazilianSignLanguage/webapp/backend/data/interim/RawCleanVideos/vagina_vl_4.mp4\n"
     ]
    },
    {
     "name": "stderr",
     "output_type": "stream",
     "text": [
      "W0000 00:00:1749558574.559535   21535 inference_feedback_manager.cc:114] Feedback manager requires a model with a single signature inference. Disabling support for feedback tensors.\n",
      "W0000 00:00:1749558574.612502   21540 inference_feedback_manager.cc:114] Feedback manager requires a model with a single signature inference. Disabling support for feedback tensors.\n",
      "W0000 00:00:1749558574.615888   21535 inference_feedback_manager.cc:114] Feedback manager requires a model with a single signature inference. Disabling support for feedback tensors.\n",
      "W0000 00:00:1749558574.619016   21537 inference_feedback_manager.cc:114] Feedback manager requires a model with a single signature inference. Disabling support for feedback tensors.\n",
      "W0000 00:00:1749558574.622333   21538 inference_feedback_manager.cc:114] Feedback manager requires a model with a single signature inference. Disabling support for feedback tensors.\n",
      "W0000 00:00:1749558574.647355   21541 inference_feedback_manager.cc:114] Feedback manager requires a model with a single signature inference. Disabling support for feedback tensors.\n",
      "W0000 00:00:1749558574.652860   21539 inference_feedback_manager.cc:114] Feedback manager requires a model with a single signature inference. Disabling support for feedback tensors.\n",
      "W0000 00:00:1749558574.653371   21538 inference_feedback_manager.cc:114] Feedback manager requires a model with a single signature inference. Disabling support for feedback tensors.\n"
     ]
    },
    {
     "name": "stdout",
     "output_type": "stream",
     "text": [
      "Saved pose estimation results to /home/ben/projects/SaoPauloBrazilChapter_BrazilianSignLanguage/webapp/backend/data/interim/RawPoseLandmarks/v0\n"
     ]
    },
    {
     "name": "stderr",
     "output_type": "stream",
     "text": [
      "W0000 00:00:1749558582.908397   21576 inference_feedback_manager.cc:114] Feedback manager requires a model with a single signature inference. Disabling support for feedback tensors.\n",
      "W0000 00:00:1749558582.939913   21576 inference_feedback_manager.cc:114] Feedback manager requires a model with a single signature inference. Disabling support for feedback tensors.\n",
      "W0000 00:00:1749558582.942402   21581 inference_feedback_manager.cc:114] Feedback manager requires a model with a single signature inference. Disabling support for feedback tensors.\n",
      "W0000 00:00:1749558582.942402   21577 inference_feedback_manager.cc:114] Feedback manager requires a model with a single signature inference. Disabling support for feedback tensors.\n",
      "W0000 00:00:1749558582.942703   21579 inference_feedback_manager.cc:114] Feedback manager requires a model with a single signature inference. Disabling support for feedback tensors.\n",
      "W0000 00:00:1749558582.958158   21577 inference_feedback_manager.cc:114] Feedback manager requires a model with a single signature inference. Disabling support for feedback tensors.\n",
      "W0000 00:00:1749558582.971354   21580 inference_feedback_manager.cc:114] Feedback manager requires a model with a single signature inference. Disabling support for feedback tensors.\n",
      "W0000 00:00:1749558582.981581   21581 inference_feedback_manager.cc:114] Feedback manager requires a model with a single signature inference. Disabling support for feedback tensors.\n"
     ]
    },
    {
     "name": "stdout",
     "output_type": "stream",
     "text": [
      "Saved motion detection results to /home/ben/projects/SaoPauloBrazilChapter_BrazilianSignLanguage/webapp/backend/data/interim/RawMotionMeasurements/v0\n",
      "Saved motion analysis results to /home/ben/projects/SaoPauloBrazilChapter_BrazilianSignLanguage/webapp/backend/data/interim/RawMotionMeasurements/v0\n",
      "/home/ben/projects/SaoPauloBrazilChapter_BrazilianSignLanguage/webapp/backend/data/interim/RawCleanVideos/vagina_vl_5.mp4\n",
      "{'filename': 'vagina_vl_5.mp4', 'frame_count': 215, 'fps': 29.97002997002997, 'width': 1920, 'height': 1080, 'duration_sec': 7.1738333333333335}\n",
      "No pose estimation results found for vagina_vl_5.mp4 in v0\n",
      "Running pose estimation on /home/ben/projects/SaoPauloBrazilChapter_BrazilianSignLanguage/webapp/backend/data/interim/RawCleanVideos/vagina_vl_5.mp4\n"
     ]
    },
    {
     "name": "stderr",
     "output_type": "stream",
     "text": [
      "W0000 00:00:1749558586.079356   21599 inference_feedback_manager.cc:114] Feedback manager requires a model with a single signature inference. Disabling support for feedback tensors.\n",
      "W0000 00:00:1749558586.122416   21599 inference_feedback_manager.cc:114] Feedback manager requires a model with a single signature inference. Disabling support for feedback tensors.\n",
      "W0000 00:00:1749558586.127195   21606 inference_feedback_manager.cc:114] Feedback manager requires a model with a single signature inference. Disabling support for feedback tensors.\n",
      "W0000 00:00:1749558586.127308   21601 inference_feedback_manager.cc:114] Feedback manager requires a model with a single signature inference. Disabling support for feedback tensors.\n",
      "W0000 00:00:1749558586.128349   21600 inference_feedback_manager.cc:114] Feedback manager requires a model with a single signature inference. Disabling support for feedback tensors.\n",
      "W0000 00:00:1749558586.160584   21605 inference_feedback_manager.cc:114] Feedback manager requires a model with a single signature inference. Disabling support for feedback tensors.\n",
      "W0000 00:00:1749558586.165400   21601 inference_feedback_manager.cc:114] Feedback manager requires a model with a single signature inference. Disabling support for feedback tensors.\n",
      "W0000 00:00:1749558586.170841   21606 inference_feedback_manager.cc:114] Feedback manager requires a model with a single signature inference. Disabling support for feedback tensors.\n"
     ]
    },
    {
     "name": "stdout",
     "output_type": "stream",
     "text": [
      "Saved pose estimation results to /home/ben/projects/SaoPauloBrazilChapter_BrazilianSignLanguage/webapp/backend/data/interim/RawPoseLandmarks/v0\n",
      "Saved motion detection results to /home/ben/projects/SaoPauloBrazilChapter_BrazilianSignLanguage/webapp/backend/data/interim/RawMotionMeasurements/v0\n",
      "Saved motion analysis results to /home/ben/projects/SaoPauloBrazilChapter_BrazilianSignLanguage/webapp/backend/data/interim/RawMotionMeasurements/v0\n"
     ]
    },
    {
     "name": "stderr",
     "output_type": "stream",
     "text": [
      "W0000 00:00:1749558597.081282   21652 inference_feedback_manager.cc:114] Feedback manager requires a model with a single signature inference. Disabling support for feedback tensors.\n",
      "W0000 00:00:1749558597.107771   21652 inference_feedback_manager.cc:114] Feedback manager requires a model with a single signature inference. Disabling support for feedback tensors.\n",
      "W0000 00:00:1749558597.110034   21658 inference_feedback_manager.cc:114] Feedback manager requires a model with a single signature inference. Disabling support for feedback tensors.\n",
      "W0000 00:00:1749558597.110298   21657 inference_feedback_manager.cc:114] Feedback manager requires a model with a single signature inference. Disabling support for feedback tensors.\n",
      "W0000 00:00:1749558597.110686   21654 inference_feedback_manager.cc:114] Feedback manager requires a model with a single signature inference. Disabling support for feedback tensors.\n",
      "W0000 00:00:1749558597.125174   21652 inference_feedback_manager.cc:114] Feedback manager requires a model with a single signature inference. Disabling support for feedback tensors.\n",
      "W0000 00:00:1749558597.130541   21658 inference_feedback_manager.cc:114] Feedback manager requires a model with a single signature inference. Disabling support for feedback tensors.\n",
      "W0000 00:00:1749558597.133853   21657 inference_feedback_manager.cc:114] Feedback manager requires a model with a single signature inference. Disabling support for feedback tensors.\n"
     ]
    },
    {
     "name": "stdout",
     "output_type": "stream",
     "text": [
      "/home/ben/projects/SaoPauloBrazilChapter_BrazilianSignLanguage/webapp/backend/data/interim/RawCleanVideos/vagina_vl_6.mp4\n",
      "{'filename': 'vagina_vl_6.mp4', 'frame_count': 389, 'fps': 60.0, 'width': 1920, 'height': 1080, 'duration_sec': 6.483333333333333}\n",
      "No pose estimation results found for vagina_vl_6.mp4 in v0\n",
      "Running pose estimation on /home/ben/projects/SaoPauloBrazilChapter_BrazilianSignLanguage/webapp/backend/data/interim/RawCleanVideos/vagina_vl_6.mp4\n"
     ]
    },
    {
     "name": "stderr",
     "output_type": "stream",
     "text": [
      "W0000 00:00:1749558599.393589   21682 inference_feedback_manager.cc:114] Feedback manager requires a model with a single signature inference. Disabling support for feedback tensors.\n",
      "W0000 00:00:1749558599.429868   21682 inference_feedback_manager.cc:114] Feedback manager requires a model with a single signature inference. Disabling support for feedback tensors.\n",
      "W0000 00:00:1749558599.432601   21684 inference_feedback_manager.cc:114] Feedback manager requires a model with a single signature inference. Disabling support for feedback tensors.\n",
      "W0000 00:00:1749558599.433476   21686 inference_feedback_manager.cc:114] Feedback manager requires a model with a single signature inference. Disabling support for feedback tensors.\n",
      "W0000 00:00:1749558599.433527   21681 inference_feedback_manager.cc:114] Feedback manager requires a model with a single signature inference. Disabling support for feedback tensors.\n",
      "W0000 00:00:1749558599.461677   21681 inference_feedback_manager.cc:114] Feedback manager requires a model with a single signature inference. Disabling support for feedback tensors.\n",
      "W0000 00:00:1749558599.463255   21686 inference_feedback_manager.cc:114] Feedback manager requires a model with a single signature inference. Disabling support for feedback tensors.\n",
      "W0000 00:00:1749558599.464580   21684 inference_feedback_manager.cc:114] Feedback manager requires a model with a single signature inference. Disabling support for feedback tensors.\n"
     ]
    },
    {
     "name": "stdout",
     "output_type": "stream",
     "text": [
      "Saved pose estimation results to /home/ben/projects/SaoPauloBrazilChapter_BrazilianSignLanguage/webapp/backend/data/interim/RawPoseLandmarks/v0\n"
     ]
    },
    {
     "name": "stderr",
     "output_type": "stream",
     "text": [
      "W0000 00:00:1749558618.898655   21750 inference_feedback_manager.cc:114] Feedback manager requires a model with a single signature inference. Disabling support for feedback tensors.\n",
      "W0000 00:00:1749558618.924963   21750 inference_feedback_manager.cc:114] Feedback manager requires a model with a single signature inference. Disabling support for feedback tensors.\n",
      "W0000 00:00:1749558618.927416   21756 inference_feedback_manager.cc:114] Feedback manager requires a model with a single signature inference. Disabling support for feedback tensors.\n",
      "W0000 00:00:1749558618.927809   21754 inference_feedback_manager.cc:114] Feedback manager requires a model with a single signature inference. Disabling support for feedback tensors.\n",
      "W0000 00:00:1749558618.928686   21752 inference_feedback_manager.cc:114] Feedback manager requires a model with a single signature inference. Disabling support for feedback tensors.\n",
      "W0000 00:00:1749558618.942184   21756 inference_feedback_manager.cc:114] Feedback manager requires a model with a single signature inference. Disabling support for feedback tensors.\n",
      "W0000 00:00:1749558618.952642   21754 inference_feedback_manager.cc:114] Feedback manager requires a model with a single signature inference. Disabling support for feedback tensors.\n",
      "W0000 00:00:1749558618.953835   21752 inference_feedback_manager.cc:114] Feedback manager requires a model with a single signature inference. Disabling support for feedback tensors.\n"
     ]
    },
    {
     "name": "stdout",
     "output_type": "stream",
     "text": [
      "Saved motion detection results to /home/ben/projects/SaoPauloBrazilChapter_BrazilianSignLanguage/webapp/backend/data/interim/RawMotionMeasurements/v0\n",
      "Saved motion analysis results to /home/ben/projects/SaoPauloBrazilChapter_BrazilianSignLanguage/webapp/backend/data/interim/RawMotionMeasurements/v0\n"
     ]
    }
   ],
   "source": [
    "output_dict = {}\n",
    "\n",
    "for fn in metadata[\"filename_accented\"]:\n",
    "    prediction, probs_str, label_encoding = process_video(fn)\n",
    "    output_dict[fn] = {\n",
    "        \"prediction\": prediction,\n",
    "        \"probs_str\": probs_str,\n",
    "        \"label_encoding\": label_encoding\n",
    "    }"
   ]
  },
  {
   "cell_type": "markdown",
   "metadata": {},
   "source": [
    "Check Model Predictions"
   ]
  },
  {
   "cell_type": "code",
   "execution_count": 63,
   "metadata": {},
   "outputs": [
    {
     "name": "stdout",
     "output_type": "stream",
     "text": [
      "ajudar_ne_1.mp4 15 banheiro 0.999\n",
      "ajudar_sb_2.mp4 15 banheiro 1.0\n",
      "ajudar_uf_3.mp4 15 banheiro 1.0\n",
      "ajudar_vl_4.mp4 15 banheiro 0.999\n",
      "ajudar_vl_5.mp4 15 banheiro 0.775\n",
      "ajudar_vl_6.mp4 15 banheiro 0.998\n",
      "animal_ne_1.mp4 21 ano 1.0\n",
      "animal_sb_2.mp4 21 ano 0.999\n",
      "animal_uf_3.mp4 21 ano 1.0\n",
      "animal_vl_4.mp4 21 ano 0.844\n",
      "animal_vl_5.mp4 21 ano 1.0\n",
      "animal_vl_6.mp4 21 ano 1.0\n",
      "aniversário_ne_1.mp4 3 aniversário 1.0\n",
      "aniversário_sb_2.mp4 3 aniversário 1.0\n",
      "aniversário_uf_3.mp4 3 aniversário 0.99\n",
      "aniversário_vl_4.mp4 3 aniversário 1.0\n",
      "aniversário_vl_5.mp4 3 aniversário 1.0\n",
      "aniversário_vl_6.mp4 3 aniversário 1.0\n",
      "ano_ne_1.mp4 6 cabeça 1.0\n",
      "ano_sb_2.mp4 6 cabeça 1.0\n",
      "ano_uf_3.mp4 6 cabeça 1.0\n",
      "ano_vl_4.mp4 6 cabeça 1.0\n",
      "ano_vl_5.mp4 6 cabeça 1.0\n",
      "ano_vl_6.mp4 6 cabeça 1.0\n",
      "banana_ne_1.mp4 9 banana 0.996\n",
      "banana_sb_2.mp4 9 banana 1.0\n",
      "banana_uf_3.mp4 9 banana 1.0\n",
      "banana_vl_4.mp4 9 banana 1.0\n",
      "banana_vl_5.mp4 9 banana 1.0\n",
      "banana_vl_6.mp4 9 banana 1.0\n",
      "banheiro_ne_1.mp4 18 cortar 0.999\n",
      "banheiro_sb_2.mp4 18 cortar 1.0\n",
      "banheiro_uf_3.mp4 18 cortar 1.0\n",
      "banheiro_vl_4.mp4 18 cortar 1.0\n",
      "banheiro_vl_5.mp4 18 cortar 1.0\n",
      "banheiro_vl_6.mp4 23 carne 0.429\n",
      "bebê_ne_1.mp4 2 ouvir 1.0\n",
      "bebê_sb_2.mp4 2 ouvir 1.0\n",
      "bebê_uf_3.mp4 2 ouvir 1.0\n",
      "bebê_vl_4.mp4 2 ouvir 1.0\n",
      "bebê_vl_5.mp4 2 ouvir 0.686\n",
      "bebê_vl_6.mp4 2 ouvir 1.0\n",
      "cabeça_ne_1.mp4 1 ajudar 0.999\n",
      "cabeça_sb_2.mp4 1 ajudar 0.999\n",
      "cabeça_uf_3.mp4 1 ajudar 1.0\n",
      "cabeça_vl_4.mp4 1 ajudar 0.997\n",
      "cabeça_vl_5.mp4 1 ajudar 1.0\n",
      "cabeça_vl_6.mp4 1 ajudar 0.999\n",
      "café_ne_1.mp4 20 cebola 0.999\n",
      "café_sb_2.mp4 20 cebola 0.999\n",
      "café_uf_3.mp4 16 animal 0.403\n",
      "café_vl_4.mp4 20 cebola 0.997\n",
      "café_vl_5.mp4 20 cebola 0.997\n",
      "café_vl_6.mp4 20 cebola 0.998\n",
      "carne_ne_1.mp4 16 animal 0.999\n",
      "carne_sb_2.mp4 15 banheiro 0.801\n",
      "carne_uf_3.mp4 16 animal 1.0\n",
      "carne_vl_4.mp4 16 animal 1.0\n",
      "carne_vl_5.mp4 16 animal 0.999\n",
      "carne_vl_6.mp4 16 animal 0.999\n",
      "casa_ne_1.mp4 19 garganta 0.998\n",
      "casa_sb_2.mp4 14 comer 0.999\n",
      "casa_uf_3.mp4 14 comer 0.999\n",
      "casa_vl_4.mp4 14 comer 0.999\n",
      "casa_vl_5.mp4 14 comer 0.999\n",
      "casa_vl_6.mp4 14 comer 0.999\n",
      "cebola_ne_1.mp4 24 casa 0.999\n",
      "cebola_sb_2.mp4 24 casa 1.0\n",
      "cebola_uf_3.mp4 24 casa 1.0\n",
      "cebola_vl_4.mp4 24 casa 1.0\n",
      "cebola_vl_5.mp4 24 casa 0.999\n",
      "cebola_vl_6.mp4 17 crescer 0.361\n",
      "comer_ne_1.mp4 11 café 0.999\n",
      "comer_sb_2.mp4 11 café 0.999\n",
      "comer_uf_3.mp4 11 café 0.999\n",
      "comer_vl_4.mp4 11 café 1.0\n",
      "comer_vl_5.mp4 8 jovem 0.922\n",
      "comer_vl_6.mp4 11 café 1.0\n",
      "cortar_ne_1.mp4 7 sorvete 0.999\n",
      "cortar_sb_2.mp4 7 sorvete 0.999\n",
      "cortar_uf_3.mp4 7 sorvete 0.999\n",
      "cortar_vl_4.mp4 7 sorvete 0.697\n",
      "cortar_vl_5.mp4 7 sorvete 0.999\n",
      "cortar_vl_6.mp4 7 sorvete 0.999\n",
      "crescer_ne_1.mp4 5 vagina 0.999\n",
      "crescer_sb_2.mp4 5 vagina 1.0\n",
      "crescer_uf_3.mp4 5 vagina 0.958\n",
      "crescer_vl_4.mp4 5 vagina 0.999\n",
      "crescer_vl_5.mp4 5 vagina 1.0\n",
      "crescer_vl_6.mp4 5 vagina 1.0\n",
      "família_ne_1.mp4 19 garganta 0.999\n",
      "família_sb_2.mp4 19 garganta 0.999\n",
      "família_uf_3.mp4 19 garganta 0.999\n",
      "família_vl_4.mp4 19 garganta 0.999\n",
      "família_vl_5.mp4 19 garganta 0.999\n",
      "família_vl_6.mp4 19 garganta 0.999\n",
      "filho_ne_1.mp4 23 carne 0.951\n",
      "filho_sb_2.mp4 23 carne 0.999\n",
      "filho_uf_3.mp4 23 carne 0.987\n",
      "filho_vl_4.mp4 23 carne 0.999\n",
      "filho_vl_5.mp4 23 carne 0.999\n",
      "filho_vl_6.mp4 23 carne 0.999\n",
      "garganta_ne_1.mp4 8 jovem 0.999\n",
      "garganta_sb_2.mp4 8 jovem 1.0\n",
      "garganta_uf_3.mp4 8 jovem 1.0\n",
      "garganta_vl_4.mp4 8 jovem 1.0\n",
      "garganta_vl_5.mp4 8 jovem 1.0\n",
      "garganta_vl_6.mp4 0 pai 0.999\n",
      "homem_ne_1.mp4 0 pai 0.998\n",
      "homem_sb_2.mp4 0 pai 1.0\n",
      "homem_uf_3.mp4 0 pai 0.999\n",
      "homem_vl_4.mp4 0 pai 1.0\n",
      "homem_vl_5.mp4 22 família 0.81\n",
      "homem_vl_6.mp4 0 pai 1.0\n",
      "jovem_ne_1.mp4 4 homem 1.0\n",
      "jovem_sb_2.mp4 4 homem 1.0\n",
      "jovem_uf_3.mp4 4 homem 1.0\n",
      "jovem_vl_4.mp4 4 homem 0.999\n",
      "jovem_vl_5.mp4 4 homem 0.999\n",
      "jovem_vl_6.mp4 4 homem 1.0\n",
      "ouvir_ne_1.mp4 10 bebê 1.0\n",
      "ouvir_sb_2.mp4 10 bebê 1.0\n",
      "ouvir_uf_3.mp4 10 bebê 0.999\n",
      "ouvir_vl_4.mp4 10 bebê 0.999\n",
      "ouvir_vl_5.mp4 10 bebê 0.999\n",
      "ouvir_vl_6.mp4 10 bebê 0.999\n",
      "pai_ne_1.mp4 22 família 0.995\n",
      "pai_sb_2.mp4 8 jovem 0.841\n",
      "pai_uf_3.mp4 22 família 1.0\n",
      "pai_vl_4.mp4 22 família 1.0\n",
      "pai_vl_5.mp4 22 família 1.0\n",
      "pai_vl_6.mp4 22 família 1.0\n",
      "sopa_ne_1.mp4 21 ano 0.408\n",
      "sopa_sb_2.mp4 13 sopa 0.999\n",
      "sopa_uf_3.mp4 13 sopa 1.0\n",
      "sopa_vl_4.mp4 13 sopa 1.0\n",
      "sopa_vl_5.mp4 13 sopa 1.0\n",
      "sopa_vl_6.mp4 13 sopa 0.999\n",
      "sorvete_ne_1.mp4 17 crescer 0.999\n",
      "sorvete_sb_2.mp4 17 crescer 0.999\n",
      "sorvete_uf_3.mp4 17 crescer 1.0\n",
      "sorvete_vl_4.mp4 17 crescer 1.0\n",
      "sorvete_vl_5.mp4 17 crescer 1.0\n",
      "sorvete_vl_6.mp4 17 crescer 0.999\n",
      "vagina_ne_1.mp4 12 filho 0.999\n",
      "vagina_sb_2.mp4 12 filho 1.0\n",
      "vagina_uf_3.mp4 12 filho 1.0\n",
      "vagina_vl_4.mp4 12 filho 1.0\n",
      "vagina_vl_5.mp4 12 filho 0.999\n",
      "vagina_vl_6.mp4 12 filho 0.999\n"
     ]
    }
   ],
   "source": [
    "output_folder = \"/home/ben/projects/SaoPauloBrazilChapter_BrazilianSignLanguage/webapp/backend/data/output/\"\n",
    "for fn in metadata[\"filename_accented\"]:\n",
    "    fn_txt = fn.replace(\".mp4\", \".txt\")\n",
    "    fn_txt_fp = os.path.join(output_folder, fn_txt)\n",
    "    with open(fn_txt_fp, \"r\") as f:\n",
    "        lines = f.readlines()\n",
    "    pred = lines[1]\n",
    "    pred_class = int(pred.split(\":\")[0].split(\" \")[1])\n",
    "    pred_label = pred.split(\":\")[1].strip()\n",
    "    max_prob = np.max([float(num) for num in [line.split(' ')[-1] for line in lines[2].split(\",\")][:-1]])\n",
    "    print(fn, pred_class, pred_label, max_prob)"
   ]
  },
  {
   "cell_type": "markdown",
   "metadata": {},
   "source": [
    "Check Preprocessing Matches"
   ]
  },
  {
   "cell_type": "code",
   "execution_count": 69,
   "metadata": {},
   "outputs": [],
   "source": [
    "def landmark_to_array(landmarks):\n",
    "    lm_arrays = {\n",
    "        \"left_hand_landmarks\":[], \n",
    "        \"right_hand_landmarks\":[], \n",
    "        \"pose_landmarks\":[],\n",
    "        \"face_landmarks\":[]\n",
    "    }\n",
    "    for frame in landmarks:\n",
    "        for key in lm_arrays.keys():\n",
    "            lm_array = [[lm.x, lm.y, lm.z] for lm in frame[f\"{key}\"].landmark]\n",
    "            lm_arrays[key].append(lm_array)\n",
    "\n",
    "    return lm_arrays"
   ]
  },
  {
   "cell_type": "code",
   "execution_count": 86,
   "metadata": {},
   "outputs": [],
   "source": [
    "np_check_dict = {}\n",
    "\n",
    "orig_npy_folder = \"/home/ben/projects/SaoPauloBrazilChapter_BrazilianSignLanguage/data/preprocessed/landmarks/v4\"\n",
    "new_npy_folder = \"/home/ben/projects/SaoPauloBrazilChapter_BrazilianSignLanguage/webapp/backend/data/preprocessed/landmarks/v0\"\n",
    "\n",
    "for i, row in metadata.iterrows():\n",
    "    fn = row[\"filename\"]\n",
    "    fn_a = row[\"filename_accented\"]\n",
    "    fn = fn.replace(\".mp4\", \".npy\")\n",
    "    fn_a = fn_a.replace(\".mp4\", \".npy\")\n",
    "    orig_npy_fp = os.path.join(orig_npy_folder, fn)\n",
    "    new_npy_fp = os.path.join(new_npy_folder, fn_a)\n",
    "    orig_npy = np.load(orig_npy_fp, allow_pickle=True)\n",
    "    new_npy = np.load(new_npy_fp, allow_pickle=True)\n",
    "    orig_lm_arrays = landmark_to_array(orig_npy)\n",
    "    new_lm_arrays = landmark_to_array(new_npy)\n",
    "    check_dict = {\n",
    "    \"left_hand_landmarks\":True, \n",
    "    \"right_hand_landmarks\":True, \n",
    "    \"pose_landmarks\":True,\n",
    "    \"face_landmarks\":True\n",
    "    }\n",
    "    for key in check_dict.keys():\n",
    "        if not np.array_equal(orig_lm_arrays[key], new_lm_arrays[key]):\n",
    "            check_dict[key] = False\n",
    "    np_check_dict[fn] = check_dict"
   ]
  },
  {
   "cell_type": "code",
   "execution_count": 91,
   "metadata": {},
   "outputs": [],
   "source": [
    "check_df = pd.DataFrame(np_check_dict).T"
   ]
  },
  {
   "cell_type": "code",
   "execution_count": 93,
   "metadata": {},
   "outputs": [
    {
     "data": {
      "text/html": [
       "<div>\n",
       "<style scoped>\n",
       "    .dataframe tbody tr th:only-of-type {\n",
       "        vertical-align: middle;\n",
       "    }\n",
       "\n",
       "    .dataframe tbody tr th {\n",
       "        vertical-align: top;\n",
       "    }\n",
       "\n",
       "    .dataframe thead th {\n",
       "        text-align: right;\n",
       "    }\n",
       "</style>\n",
       "<table border=\"1\" class=\"dataframe\">\n",
       "  <thead>\n",
       "    <tr style=\"text-align: right;\">\n",
       "      <th></th>\n",
       "      <th>left_hand_landmarks</th>\n",
       "      <th>right_hand_landmarks</th>\n",
       "      <th>pose_landmarks</th>\n",
       "      <th>face_landmarks</th>\n",
       "    </tr>\n",
       "  </thead>\n",
       "  <tbody>\n",
       "  </tbody>\n",
       "</table>\n",
       "</div>"
      ],
      "text/plain": [
       "Empty DataFrame\n",
       "Columns: [left_hand_landmarks, right_hand_landmarks, pose_landmarks, face_landmarks]\n",
       "Index: []"
      ]
     },
     "execution_count": 93,
     "metadata": {},
     "output_type": "execute_result"
    }
   ],
   "source": [
    "check_df[check_df[\"left_hand_landmarks\"] == False]"
   ]
  },
  {
   "cell_type": "code",
   "execution_count": 94,
   "metadata": {},
   "outputs": [
    {
     "data": {
      "text/html": [
       "<div>\n",
       "<style scoped>\n",
       "    .dataframe tbody tr th:only-of-type {\n",
       "        vertical-align: middle;\n",
       "    }\n",
       "\n",
       "    .dataframe tbody tr th {\n",
       "        vertical-align: top;\n",
       "    }\n",
       "\n",
       "    .dataframe thead th {\n",
       "        text-align: right;\n",
       "    }\n",
       "</style>\n",
       "<table border=\"1\" class=\"dataframe\">\n",
       "  <thead>\n",
       "    <tr style=\"text-align: right;\">\n",
       "      <th></th>\n",
       "      <th>left_hand_landmarks</th>\n",
       "      <th>right_hand_landmarks</th>\n",
       "      <th>pose_landmarks</th>\n",
       "      <th>face_landmarks</th>\n",
       "    </tr>\n",
       "  </thead>\n",
       "  <tbody>\n",
       "  </tbody>\n",
       "</table>\n",
       "</div>"
      ],
      "text/plain": [
       "Empty DataFrame\n",
       "Columns: [left_hand_landmarks, right_hand_landmarks, pose_landmarks, face_landmarks]\n",
       "Index: []"
      ]
     },
     "execution_count": 94,
     "metadata": {},
     "output_type": "execute_result"
    }
   ],
   "source": [
    "check_df[check_df[\"right_hand_landmarks\"] == False]"
   ]
  },
  {
   "cell_type": "code",
   "execution_count": 95,
   "metadata": {},
   "outputs": [
    {
     "data": {
      "text/html": [
       "<div>\n",
       "<style scoped>\n",
       "    .dataframe tbody tr th:only-of-type {\n",
       "        vertical-align: middle;\n",
       "    }\n",
       "\n",
       "    .dataframe tbody tr th {\n",
       "        vertical-align: top;\n",
       "    }\n",
       "\n",
       "    .dataframe thead th {\n",
       "        text-align: right;\n",
       "    }\n",
       "</style>\n",
       "<table border=\"1\" class=\"dataframe\">\n",
       "  <thead>\n",
       "    <tr style=\"text-align: right;\">\n",
       "      <th></th>\n",
       "      <th>left_hand_landmarks</th>\n",
       "      <th>right_hand_landmarks</th>\n",
       "      <th>pose_landmarks</th>\n",
       "      <th>face_landmarks</th>\n",
       "    </tr>\n",
       "  </thead>\n",
       "  <tbody>\n",
       "  </tbody>\n",
       "</table>\n",
       "</div>"
      ],
      "text/plain": [
       "Empty DataFrame\n",
       "Columns: [left_hand_landmarks, right_hand_landmarks, pose_landmarks, face_landmarks]\n",
       "Index: []"
      ]
     },
     "execution_count": 95,
     "metadata": {},
     "output_type": "execute_result"
    }
   ],
   "source": [
    "check_df[check_df[\"pose_landmarks\"] == False]"
   ]
  },
  {
   "cell_type": "code",
   "execution_count": 96,
   "metadata": {},
   "outputs": [
    {
     "data": {
      "text/html": [
       "<div>\n",
       "<style scoped>\n",
       "    .dataframe tbody tr th:only-of-type {\n",
       "        vertical-align: middle;\n",
       "    }\n",
       "\n",
       "    .dataframe tbody tr th {\n",
       "        vertical-align: top;\n",
       "    }\n",
       "\n",
       "    .dataframe thead th {\n",
       "        text-align: right;\n",
       "    }\n",
       "</style>\n",
       "<table border=\"1\" class=\"dataframe\">\n",
       "  <thead>\n",
       "    <tr style=\"text-align: right;\">\n",
       "      <th></th>\n",
       "      <th>left_hand_landmarks</th>\n",
       "      <th>right_hand_landmarks</th>\n",
       "      <th>pose_landmarks</th>\n",
       "      <th>face_landmarks</th>\n",
       "    </tr>\n",
       "  </thead>\n",
       "  <tbody>\n",
       "  </tbody>\n",
       "</table>\n",
       "</div>"
      ],
      "text/plain": [
       "Empty DataFrame\n",
       "Columns: [left_hand_landmarks, right_hand_landmarks, pose_landmarks, face_landmarks]\n",
       "Index: []"
      ]
     },
     "execution_count": 96,
     "metadata": {},
     "output_type": "execute_result"
    }
   ],
   "source": [
    "check_df[check_df[\"face_landmarks\"] == False]"
   ]
  },
  {
   "cell_type": "code",
   "execution_count": null,
   "metadata": {},
   "outputs": [],
   "source": []
  }
 ],
 "metadata": {
  "kernelspec": {
   "display_name": ".venv",
   "language": "python",
   "name": "python3"
  },
  "language_info": {
   "codemirror_mode": {
    "name": "ipython",
    "version": 3
   },
   "file_extension": ".py",
   "mimetype": "text/x-python",
   "name": "python",
   "nbconvert_exporter": "python",
   "pygments_lexer": "ipython3",
   "version": "3.11.8"
  }
 },
 "nbformat": 4,
 "nbformat_minor": 2
}
